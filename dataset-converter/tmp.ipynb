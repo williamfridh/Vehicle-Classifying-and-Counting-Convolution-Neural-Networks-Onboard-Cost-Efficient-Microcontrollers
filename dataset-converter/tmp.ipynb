{
 "cells": [
  {
   "cell_type": "code",
   "execution_count": 9,
   "metadata": {},
   "outputs": [
    {
     "name": "stdout",
     "output_type": "stream",
     "text": [
      "Moved 43 files from dataset_speed_train/Motorcycle to dataset_speed_test/Motorcycle.\n"
     ]
    }
   ],
   "source": [
    "import os\n",
    "import random\n",
    "import shutil\n",
    "\n",
    "# Define source and destination directories\n",
    "source_dir = 'dataset_speed_train/Motorcycle'\n",
    "destination_dir = 'dataset_speed_test/Motorcycle'\n",
    "\n",
    "# Ensure the destination directory exists\n",
    "os.makedirs(destination_dir, exist_ok=True)\n",
    "\n",
    "# Get a list of all files in the source directory\n",
    "all_files = os.listdir(source_dir)\n",
    "\n",
    "# Calculate 5% of the files\n",
    "num_files_to_move = max(1, int(len(all_files) * 1/9))\n",
    "\n",
    "# Randomly select files to move\n",
    "files_to_move = random.sample(all_files, num_files_to_move)\n",
    "\n",
    "# Move the selected files\n",
    "for file_name in files_to_move:\n",
    "    source_path = os.path.join(source_dir, file_name)\n",
    "    destination_path = os.path.join(destination_dir, file_name)\n",
    "    shutil.move(source_path, destination_path)\n",
    "\n",
    "print(f\"Moved {len(files_to_move)} files from {source_dir} to {destination_dir}.\")"
   ]
  }
 ],
 "metadata": {
  "kernelspec": {
   "display_name": "Python 3",
   "language": "python",
   "name": "python3"
  },
  "language_info": {
   "codemirror_mode": {
    "name": "ipython",
    "version": 3
   },
   "file_extension": ".py",
   "mimetype": "text/x-python",
   "name": "python",
   "nbconvert_exporter": "python",
   "pygments_lexer": "ipython3",
   "version": "3.10.16"
  }
 },
 "nbformat": 4,
 "nbformat_minor": 2
}
