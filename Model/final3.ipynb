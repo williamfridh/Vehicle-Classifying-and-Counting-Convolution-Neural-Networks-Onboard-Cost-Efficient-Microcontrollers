{
  "cells": [
    {
      "cell_type": "markdown",
      "metadata": {},
      "source": [
        "# Vehicle Classification Model\n",
        "\n",
        "This file contains the code for creatiing, training, and compressing the CNN used for the thesis project."
      ]
    },
    {
      "cell_type": "code",
      "execution_count": 1,
      "metadata": {},
      "outputs": [],
      "source": [
        "DATASET_PATH = \"dataset_mix_train_validation_frames.csv\"\n",
        "INPUT_SHAPE = (16, 8, 1)\n",
        "\n",
        "MODEL_NAME = \"final3\"\n",
        "\n",
        "GENERATE_KERAS_MODLE = False\n",
        "KERAS_MODEL_NAME = f\"{MODEL_NAME}.h5\"  # Try using .keras instead.\n",
        "\n",
        "TF_LITE_MODEL_FILE_NAME = f\"{MODEL_NAME}.tflite\""
      ]
    },
    {
      "cell_type": "markdown",
      "metadata": {
        "id": "4d6YB6Mh93Vc"
      },
      "source": [
        "## Imports\n",
        "\n",
        "Place all imports in this section."
      ]
    },
    {
      "cell_type": "code",
      "execution_count": 2,
      "metadata": {
        "id": "dzLKpmZICaWN"
      },
      "outputs": [
        {
          "name": "stderr",
          "output_type": "stream",
          "text": [
            "/home/fridh/.local/lib/python3.10/site-packages/matplotlib/projections/__init__.py:63: UserWarning: Unable to import Axes3D. This may be due to multiple versions of Matplotlib being installed (e.g. as a system package and as a pip package). As a result, the 3D projection is not available.\n",
            "  warnings.warn(\"Unable to import Axes3D. This may be due to multiple versions of \"\n",
            "2025-05-01 11:15:50.856736: E external/local_xla/xla/stream_executor/cuda/cuda_fft.cc:477] Unable to register cuFFT factory: Attempting to register factory for plugin cuFFT when one has already been registered\n",
            "WARNING: All log messages before absl::InitializeLog() is called are written to STDERR\n",
            "E0000 00:00:1746090950.881102   17991 cuda_dnn.cc:8310] Unable to register cuDNN factory: Attempting to register factory for plugin cuDNN when one has already been registered\n",
            "E0000 00:00:1746090950.888041   17991 cuda_blas.cc:1418] Unable to register cuBLAS factory: Attempting to register factory for plugin cuBLAS when one has already been registered\n",
            "2025-05-01 11:15:50.912302: I tensorflow/core/platform/cpu_feature_guard.cc:210] This TensorFlow binary is optimized to use available CPU instructions in performance-critical operations.\n",
            "To enable the following instructions: AVX2 FMA, in other operations, rebuild TensorFlow with the appropriate compiler flags.\n"
          ]
        }
      ],
      "source": [
        "import os\n",
        "import sys\n",
        "import numpy as np\n",
        "import pandas as pd\n",
        "import matplotlib.pyplot as plt\n",
        "import seaborn as sns\n",
        "\n",
        "from sklearn.model_selection import train_test_split\n",
        "from sklearn.utils.class_weight import compute_class_weight\n",
        "from sklearn.preprocessing import LabelEncoder\n",
        "from sklearn.metrics import confusion_matrix, classification_report\n",
        "\n",
        "import tensorflow as tf\n",
        "from tensorflow import keras\n",
        "from tensorflow.keras.layers import (\n",
        "    Flatten, Dense, Conv2D, MaxPooling2D, BatchNormalization, Dropout, \n",
        "    InputLayer, GlobalAveragePooling2D, AveragePooling2D\n",
        ")\n",
        "from tensorflow.keras.regularizers import l2\n",
        "from tensorflow.keras.utils import to_categorical\n",
        "from keras.callbacks import EarlyStopping\n"
      ]
    },
    {
      "cell_type": "code",
      "execution_count": 3,
      "metadata": {
        "colab": {
          "base_uri": "https://localhost:8080/"
        },
        "id": "NZKNhx8x_1jq",
        "outputId": "e564096b-b86e-4512-c0b2-35aed80e84dc"
      },
      "outputs": [
        {
          "name": "stdout",
          "output_type": "stream",
          "text": [
            "2.18.0\n"
          ]
        }
      ],
      "source": [
        "print(tf.__version__)"
      ]
    },
    {
      "cell_type": "code",
      "execution_count": 4,
      "metadata": {
        "id": "4Se2Y1iRrzxT"
      },
      "outputs": [],
      "source": [
        "# Modify GPU memory allocator to try to prevent full GPU memory.\n",
        "# This can in some cases be counter productive!\n",
        "os.environ['TF_GPU_ALLOCATOR'] = 'cuda_malloc_async'"
      ]
    },
    {
      "cell_type": "markdown",
      "metadata": {},
      "source": [
        "### Connect to Google Drive"
      ]
    },
    {
      "cell_type": "code",
      "execution_count": 5,
      "metadata": {},
      "outputs": [],
      "source": [
        "#from google.colab import drive\n",
        "#drive.mount('/content/drive')"
      ]
    },
    {
      "cell_type": "markdown",
      "metadata": {
        "id": "2VULHpvbVl0N"
      },
      "source": [
        "# Helper Functions"
      ]
    },
    {
      "cell_type": "code",
      "execution_count": 6,
      "metadata": {
        "id": "ymcbpqPdLJxW"
      },
      "outputs": [],
      "source": [
        "def get_file_size(file_path):\n",
        "    size = os.path.getsize(file_path)\n",
        "    return size"
      ]
    },
    {
      "cell_type": "code",
      "execution_count": 7,
      "metadata": {
        "id": "_vfRLdF_LKUK"
      },
      "outputs": [],
      "source": [
        "def convert_bytes(size, unit=None):\n",
        "    if unit == \"KB\":\n",
        "        return print('File size: ' + str(round(size / 1024, 3)) + ' Kilobytes')\n",
        "    elif unit == \"MB\":\n",
        "        return print('File size: ' + str(round(size / (1024 * 1024), 3)) + ' Megabytes')\n",
        "    else:\n",
        "        return print('File size: ' + str(size) + ' bytes')"
      ]
    },
    {
      "cell_type": "markdown",
      "metadata": {
        "id": "ArL366zjd4Xc"
      },
      "source": [
        "# Importa Data"
      ]
    },
    {
      "cell_type": "code",
      "execution_count": 8,
      "metadata": {
        "id": "ieeCS0L0d4Xd"
      },
      "outputs": [
        {
          "name": "stdout",
          "output_type": "stream",
          "text": [
            "Dataset shape: (2101200, 16, 8, 1)\n",
            "Labels shape: (2101200,)\n",
            "Input shape: (16, 8, 1)\n"
          ]
        }
      ],
      "source": [
        "df_train = pd.read_csv(\"output_speed/train.csv\", header=None)                     # Note that these should be no header present.\n",
        "# Convert to numpy array\n",
        "x_train = df_train.iloc[:, :-1].to_numpy(dtype=np.float32)            # All but last column as float32 (required by MCU)\n",
        "y_train = df_train.iloc[:, -1].to_numpy(dtype=str)                 # Last column as string\n",
        "\n",
        "x_train = x_train.reshape(x_train.shape[0], INPUT_SHAPE[0], INPUT_SHAPE[1], INPUT_SHAPE[2])\n",
        "\n",
        "print(f\"Dataset shape: {x_train.shape}\")\n",
        "print(f\"Labels shape: {y_train.shape}\")\n",
        "print(f\"Input shape: {INPUT_SHAPE}\")"
      ]
    },
    {
      "cell_type": "code",
      "execution_count": 9,
      "metadata": {},
      "outputs": [
        {
          "name": "stdout",
          "output_type": "stream",
          "text": [
            "Dataset shape: (262350, 16, 8, 1)\n",
            "Labels shape: (262350,)\n",
            "Input shape: (16, 8, 1)\n"
          ]
        }
      ],
      "source": [
        "df_test = pd.read_csv(\"output_speed/test.csv\", header=None)                     # Note that these should be no header present.\n",
        "# Shuffle the dataset\n",
        "df_test = df_test.sample(frac=1).reset_index(drop=True)\n",
        "x_test= df_test.iloc[:, :-1].to_numpy(dtype=np.float32)            # All but last column as float32 (required by MCU)\n",
        "y_test = df_test.iloc[:, -1].to_numpy(dtype=str)                 # Last column as string\n",
        "\n",
        "x_test = x_test.reshape(x_test.shape[0], INPUT_SHAPE[0], INPUT_SHAPE[1], INPUT_SHAPE[2])\n",
        "\n",
        "print(f\"Dataset shape: {x_test.shape}\")\n",
        "print(f\"Labels shape: {y_test.shape}\")\n",
        "print(f\"Input shape: {INPUT_SHAPE}\")"
      ]
    },
    {
      "cell_type": "code",
      "execution_count": 10,
      "metadata": {},
      "outputs": [
        {
          "name": "stdout",
          "output_type": "stream",
          "text": [
            "Dataset shape: (262350, 16, 8, 1)\n",
            "Labels shape: (262350,)\n",
            "Input shape: (16, 8, 1)\n"
          ]
        }
      ],
      "source": [
        "df_val = pd.read_csv(\"output_speed/val.csv\", header=None)                     # Note that these should be no header present.\n",
        "# Shuffle the dataset\n",
        "df_val = df_val.sample(frac=1).reset_index(drop=True)\n",
        "x_val= df_val.iloc[:, :-1].to_numpy(dtype=np.float32)            # All but last column as float32 (required by MCU)\n",
        "y_val = df_val.iloc[:, -1].to_numpy(dtype=str)                 # Last column as string\n",
        "\n",
        "x_val = x_val.reshape(x_val.shape[0], INPUT_SHAPE[0], INPUT_SHAPE[1], INPUT_SHAPE[2])\n",
        "\n",
        "print(f\"Dataset shape: {x_val.shape}\")\n",
        "print(f\"Labels shape: {y_val.shape}\")\n",
        "print(f\"Input shape: {INPUT_SHAPE}\")"
      ]
    },
    {
      "cell_type": "code",
      "execution_count": 11,
      "metadata": {},
      "outputs": [
        {
          "name": "stdout",
          "output_type": "stream",
          "text": [
            "['Background' 'Background' 'Background' 'Background' 'Background'\n",
            " 'Background' 'Background' 'Background' 'Background' 'Background']\n",
            "['Car' 'Background' 'Car' 'Comm' 'Background' 'Background' 'Car' 'Comm'\n",
            " 'Background' 'Car']\n",
            "['Background' 'Background' 'Background' 'Background' 'Comm' 'Background'\n",
            " 'Car' 'Comm' 'Car' 'Comm']\n"
          ]
        }
      ],
      "source": [
        "print(y_train[0:10])\n",
        "print(y_test[0:10])\n",
        "print(y_val[0:10])"
      ]
    },
    {
      "cell_type": "code",
      "execution_count": 12,
      "metadata": {
        "colab": {
          "base_uri": "https://localhost:8080/"
        },
        "id": "Ap-ud1Jbd4Xe",
        "outputId": "7491ac03-1445-4b7f-a5c6-73a509b617fa"
      },
      "outputs": [],
      "source": [
        "#x_train, x_test, y_train, y_test = train_test_split(dataset, labels_set, test_size=5/100, random_state=42, stratify=labels_set)\n",
        "#x_train, x_val, y_train, y_val = train_test_split(x_train, y_train, test_size=5/95, random_state=42, stratify=y_train)\n",
        "\n",
        "# Print the lengths of the training, validation, and testing sets.\n",
        "#print(f\"Training set length: {len(x_train)}\")\n",
        "#print(f\"Validation set length: {len(x_val)}\")\n",
        "#print(f\"Testing set length: {len(x_test)}\")\n",
        "\n",
        "#Training set length: 4499936\n",
        "#Validation set length: 249997\n",
        "#Testing set length: 249997"
      ]
    },
    {
      "cell_type": "code",
      "execution_count": 13,
      "metadata": {},
      "outputs": [
        {
          "name": "stdout",
          "output_type": "stream",
          "text": [
            "(2101200, 16, 8, 1)\n",
            "-5.2690635\n",
            "15.966296\n"
          ]
        }
      ],
      "source": [
        "print(x_train.shape)\n",
        "# Get mean of each value in x_train\n",
        "mean = np.mean(x_train)\n",
        "print(mean)\n",
        "# Get standard deviation of each value in x_train\n",
        "std = np.std(x_train)\n",
        "print(std)\n",
        "# Normalize the dataset\n",
        "x_train = (x_train - mean) / std\n",
        "x_val = (x_val - mean) / std\n",
        "x_test = (x_test - mean) / std\n"
      ]
    },
    {
      "cell_type": "code",
      "execution_count": 14,
      "metadata": {},
      "outputs": [],
      "source": [
        "# Apply clipping at -3 and 3\n",
        "x_train = np.clip(x_train, -3, 3)\n",
        "x_val = np.clip(x_val, -3, 3)\n",
        "x_test = np.clip(x_test, -3, 3)"
      ]
    },
    {
      "cell_type": "code",
      "execution_count": 15,
      "metadata": {},
      "outputs": [],
      "source": [
        "# Load CSV file called test.csv\n",
        "#df_test = pd.read_csv(\"test.csv\", header=None)  # Note that these should be no header present.\n",
        "#dataset_test = df_test.iloc[:, :-1].to_numpy(dtype=np.float32)  # All but last column as float32 (required by MCU)\n",
        "#labels_set_test = df_test.iloc[:, -1].to_numpy(dtype=str)  # Last column as string\n",
        "\n",
        "#dataset_test = (dataset_test - mean) / std\n",
        "# Apply clipping at -3 and 3\n",
        "#dataset_test = np.clip(dataset_test, -3, 3)\n",
        "# Turn into int8 [-128, 127]\n",
        "#dataset_test = np.round((dataset_test / 3) * 127).astype(np.int8)"
      ]
    },
    {
      "cell_type": "code",
      "execution_count": 16,
      "metadata": {},
      "outputs": [],
      "source": [
        "#dataset_test[6]"
      ]
    },
    {
      "cell_type": "code",
      "execution_count": 17,
      "metadata": {
        "id": "e2p_MTiid4Xf"
      },
      "outputs": [],
      "source": [
        "# Calculate class weights (based on training data).\n",
        "class_weight = compute_class_weight('balanced', classes=np.unique(y_train), y=y_train)\n",
        "dist_class_weight = dict(enumerate(class_weight))"
      ]
    },
    {
      "cell_type": "code",
      "execution_count": 18,
      "metadata": {
        "colab": {
          "base_uri": "https://localhost:8080/"
        },
        "id": "10khbK5Qd4Xf",
        "outputId": "87dcb6fb-b159-42aa-c0fb-bf15d873c5e9"
      },
      "outputs": [
        {
          "name": "stdout",
          "output_type": "stream",
          "text": [
            "Classes: ['Background' 'Car' 'Comm' 'Motorcycle']\n",
            "Class weights: {0: np.float64(0.5374462860650706), 1: np.float64(0.5608584240871236), 2: np.float64(3.8738938053097347), 3: np.float64(10.180232558139535)}\n",
            "Training class distribution: {np.str_('Background'): np.int64(977400), np.str_('Car'): np.int64(936600), np.str_('Comm'): np.int64(135600), np.str_('Motorcycle'): np.int64(51600)}\n",
            "Training class distribution: {np.str_('Background'): np.int64(122100), np.str_('Car'): np.int64(117000), np.str_('Comm'): np.int64(16800), np.str_('Motorcycle'): np.int64(6450)}\n",
            "Training class distribution: {np.str_('Background'): np.int64(122100), np.str_('Car'): np.int64(117000), np.str_('Comm'): np.int64(16800), np.str_('Motorcycle'): np.int64(6450)}\n"
          ]
        }
      ],
      "source": [
        "print(f\"Classes: {np.unique(y_test)}\")\n",
        "print(f\"Class weights: {dist_class_weight}\")\n",
        "\n",
        "# Print out the amount of each class.\n",
        "unique, counts = np.unique(y_train, return_counts=True)\n",
        "print(f\"Training class distribution: {dict(zip(unique, counts))}\")\n",
        "\n",
        "# Print out the amount of each class.\n",
        "unique, counts = np.unique(y_test, return_counts=True)\n",
        "print(f\"Training class distribution: {dict(zip(unique, counts))}\")\n",
        "\n",
        "# Print out the amount of each class.\n",
        "unique, counts = np.unique(y_val, return_counts=True)\n",
        "print(f\"Training class distribution: {dict(zip(unique, counts))}\")"
      ]
    },
    {
      "cell_type": "code",
      "execution_count": 19,
      "metadata": {},
      "outputs": [
        {
          "data": {
            "text/plain": [
              "(262350, 16, 8, 1)"
            ]
          },
          "execution_count": 19,
          "metadata": {},
          "output_type": "execute_result"
        }
      ],
      "source": [
        "x_test.shape"
      ]
    },
    {
      "cell_type": "code",
      "execution_count": 20,
      "metadata": {},
      "outputs": [
        {
          "name": "stdout",
          "output_type": "stream",
          "text": [
            "['Background' 'Background' 'Background' 'Background' 'Background'\n",
            " 'Background' 'Background' 'Background' 'Background' 'Background']\n",
            "['Car' 'Background' 'Car' 'Comm' 'Background' 'Background' 'Car' 'Comm'\n",
            " 'Background' 'Car']\n",
            "['Background' 'Background' 'Background' 'Background' 'Comm' 'Background'\n",
            " 'Car' 'Comm' 'Car' 'Comm']\n"
          ]
        }
      ],
      "source": [
        "print(y_train[0:10])\n",
        "print(y_test[0:10])\n",
        "print(y_val[0:10])"
      ]
    },
    {
      "cell_type": "code",
      "execution_count": 21,
      "metadata": {
        "id": "qEXSIf2Qd4Xh"
      },
      "outputs": [],
      "source": [
        "# Hot end code the labels.\n",
        "label_encoder = LabelEncoder()\n",
        "y_train = to_categorical(label_encoder.fit_transform(y_train))\n",
        "y_test = to_categorical(label_encoder.fit_transform(y_test))\n",
        "y_val = to_categorical(label_encoder.fit_transform(y_val))"
      ]
    },
    {
      "cell_type": "code",
      "execution_count": 22,
      "metadata": {},
      "outputs": [
        {
          "name": "stdout",
          "output_type": "stream",
          "text": [
            "[[1. 0. 0. 0.]\n",
            " [1. 0. 0. 0.]\n",
            " [1. 0. 0. 0.]\n",
            " [1. 0. 0. 0.]\n",
            " [1. 0. 0. 0.]\n",
            " [1. 0. 0. 0.]\n",
            " [1. 0. 0. 0.]\n",
            " [1. 0. 0. 0.]\n",
            " [1. 0. 0. 0.]\n",
            " [1. 0. 0. 0.]]\n",
            "[[0. 1. 0. 0.]\n",
            " [1. 0. 0. 0.]\n",
            " [0. 1. 0. 0.]\n",
            " [0. 0. 1. 0.]\n",
            " [1. 0. 0. 0.]\n",
            " [1. 0. 0. 0.]\n",
            " [0. 1. 0. 0.]\n",
            " [0. 0. 1. 0.]\n",
            " [1. 0. 0. 0.]\n",
            " [0. 1. 0. 0.]]\n",
            "[[1. 0. 0. 0.]\n",
            " [1. 0. 0. 0.]\n",
            " [1. 0. 0. 0.]\n",
            " [1. 0. 0. 0.]\n",
            " [0. 0. 1. 0.]\n",
            " [1. 0. 0. 0.]\n",
            " [0. 1. 0. 0.]\n",
            " [0. 0. 1. 0.]\n",
            " [0. 1. 0. 0.]\n",
            " [0. 0. 1. 0.]]\n"
          ]
        }
      ],
      "source": [
        "print(y_train[0:10])\n",
        "print(y_test[0:10])\n",
        "print(y_val[0:10])"
      ]
    },
    {
      "cell_type": "markdown",
      "metadata": {
        "id": "59veuiEZCaW4"
      },
      "source": [
        "## Model\n"
      ]
    },
    {
      "cell_type": "markdown",
      "metadata": {
        "id": "ZCxFDXesrzxc"
      },
      "source": [
        "### Helper Functions"
      ]
    },
    {
      "cell_type": "code",
      "execution_count": 23,
      "metadata": {
        "id": "8preOUYXd4Xk"
      },
      "outputs": [],
      "source": [
        "def compileModel(model, learning_rate = 0.001):\n",
        "    model.compile(\n",
        "        optimizer=tf.keras.optimizers.Adam(learning_rate=learning_rate),\n",
        "        loss = tf.keras.losses.CategoricalCrossentropy(), # 0label_smoothing=0.2\n",
        "        metrics=['categorical_accuracy']\n",
        "    )\n",
        "    model.summary()"
      ]
    },
    {
      "cell_type": "code",
      "execution_count": 24,
      "metadata": {
        "id": "7Wm8zfrvveeJ"
      },
      "outputs": [],
      "source": [
        "# Print training history\n",
        "# Function used for printing two plots, one for accuracy and one for loss.\n",
        "# To be used with the history object from the fit method\n",
        "def printHistory(history):\n",
        "  # Collect the number of epochs run based on the amount of loss value under history.\n",
        "  epochs = len(history.history['loss'])\n",
        "\n",
        "  epochrange = range(1, epochs + 1)\n",
        "  train_acc = history.history['categorical_accuracy']\n",
        "  val_acc = history.history['val_categorical_accuracy']\n",
        "\n",
        "  train_loss = history.history['loss']\n",
        "  val_loss = history.history['val_loss']\n",
        "\n",
        "  plt.plot(epochrange, train_acc, 'bo', label='Training acc')\n",
        "  plt.plot(epochrange, val_acc, 'b', label='Validation acc')\n",
        "  plt.title('Training and validation accuracy (modell 1)')\n",
        "  plt.xlabel('Epochs')\n",
        "  plt.ylabel('Accuracy')\n",
        "  plt.legend()\n",
        "  plt.show()\n",
        "\n",
        "  plt.plot(epochrange, train_loss, 'bo', label='Training loss')\n",
        "  plt.plot(epochrange, val_loss, 'b', label='Validation loss')\n",
        "  plt.title('Training and validation loss (modell 1)')\n",
        "  plt.xlabel('Epochs')\n",
        "  plt.ylabel('Loss')\n",
        "  plt.legend()\n",
        "  plt.show()"
      ]
    },
    {
      "cell_type": "code",
      "execution_count": 25,
      "metadata": {
        "id": "PF_VyRPKrzxd"
      },
      "outputs": [],
      "source": [
        "def printConfusionMatrix(model, x_test, y_test, labels_set):\n",
        "    y_train_int = np.argmax(y_train, axis=1)  # Convert one-hot to integer labels for y_train\n",
        "    y_test_int = np.argmax(y_test, axis=1)  # Convert one-hot to integer labels for y_test\n",
        "\n",
        "    y_pred_prob = model.predict(x_test)\n",
        "\n",
        "    y_pred = np.argmax(y_pred_prob, axis=1)  # Convert softmax probabilities to class indices\n",
        "\n",
        "    # Ensure that the labels are in 1D arrays (class indices) before passing to confusion_matrix\n",
        "    print(f\"y_train_int shape: {y_train_int.shape}\")\n",
        "    print(f\"y_test_int shape: {y_test_int.shape}\")\n",
        "    print(f\"y_pred shape: {y_pred.shape}\")\n",
        "\n",
        "    # Define your class labels (ensure they match the number of classes)\n",
        "    class_names = np.unique(labels_set)  # Assuming labels_set contains class names\n",
        "\n",
        "    # Generate confusion matrix\n",
        "    cm = confusion_matrix(y_test_int, y_pred)\n",
        "\n",
        "    # Normalize the confusion matrix\n",
        "    cm_normalized = cm.astype('float') / cm.sum(axis=1)[:, np.newaxis]\n",
        "\n",
        "    # Visualize the normalized confusion matrix with proper labels\n",
        "    plt.figure(figsize=(10, 7))\n",
        "    sns.heatmap(cm_normalized, annot=True, fmt='.2f', cmap='Blues', xticklabels=class_names, yticklabels=class_names)\n",
        "    plt.xlabel('Predicted')\n",
        "    plt.ylabel('True')\n",
        "    plt.title('Normalized Confusion Matrix')\n",
        "    plt.show()"
      ]
    },
    {
      "cell_type": "code",
      "execution_count": 26,
      "metadata": {
        "id": "FztgpcUvtoHU"
      },
      "outputs": [],
      "source": [
        "# Fit model function used for convinience when fitting the model multiple times\n",
        "def fitModel(model, x_train, y_train, x_val, y_val, epochs, doPrintHistory, class_weight, verbose, batch_size):\n",
        "\n",
        "    # Define early stopping callback.\n",
        "    early_stopping = EarlyStopping(monitor='val_loss', patience=20, restore_best_weights=True)\n",
        "\n",
        "    reduce_lr = tf.keras.callbacks.ReduceLROnPlateau(\n",
        "        monitor='val_loss',\n",
        "        factor=0.5,\n",
        "        patience=2,\n",
        "        min_lr=1e-6\n",
        "    )\n",
        "\n",
        "    history = model.fit(\n",
        "        x=x_train,\n",
        "        y=y_train,\n",
        "        validation_data=(x_val, y_val),\n",
        "        epochs=epochs,\n",
        "        verbose=verbose,\n",
        "        class_weight=class_weight,\n",
        "        batch_size=batch_size,\n",
        "        callbacks=[early_stopping, reduce_lr],\n",
        "    )\n",
        "    # Print history\n",
        "    if doPrintHistory: printHistory(history)"
      ]
    },
    {
      "cell_type": "code",
      "execution_count": 27,
      "metadata": {},
      "outputs": [],
      "source": [
        "def evaluate_tflite_model(model_path, x_test, y_test):\n",
        "\n",
        "  interpreter = tf.lite.Interpreter(model_path)\n",
        "  interpreter.allocate_tensors()\n",
        "\n",
        "  input_details = interpreter.get_input_details()\n",
        "  output_details = interpreter.get_output_details()\n",
        "\n",
        "  predictions = []\n",
        "  for i in range(len(x_test)):\n",
        "    # Set the input tensor.\n",
        "    interpreter.set_tensor(input_details[0]['index'], [x_test[i]])\n",
        "\n",
        "    # Run inference.\n",
        "    interpreter.invoke()\n",
        "\n",
        "    # Get the output tensor.\n",
        "    output_data = interpreter.get_tensor(output_details[0]['index'])\n",
        "    predictions.append(output_data)\n",
        "\n",
        "  # Convert predictions to class labels\n",
        "  predicted_labels = [np.argmax(prediction[0]) for prediction in predictions]\n",
        "  true_labels = [np.argmax(label) for label in y_test]\n",
        "\n",
        "  # Calculate accuracy\n",
        "  correct_predictions = sum([1 for true, predicted in zip(true_labels, predicted_labels) if true == predicted])\n",
        "  accuracy = correct_predictions / len(true_labels)\n",
        "\n",
        "  # Print the accuracy\n",
        "  print(f\"Accuracy: {accuracy}\")\n",
        "\n",
        "  # Print a classification report\n",
        "  print(classification_report(true_labels, predicted_labels))"
      ]
    },
    {
      "cell_type": "code",
      "execution_count": 28,
      "metadata": {},
      "outputs": [
        {
          "data": {
            "text/plain": [
              "array([0., 1.])"
            ]
          },
          "execution_count": 28,
          "metadata": {},
          "output_type": "execute_result"
        }
      ],
      "source": [
        "np.unique(y_train)"
      ]
    },
    {
      "cell_type": "markdown",
      "metadata": {
        "id": "5TYhCf6krzxd"
      },
      "source": [
        "### Create, train, compile, test"
      ]
    },
    {
      "cell_type": "code",
      "execution_count": 29,
      "metadata": {
        "id": "9ODch-OFCaW4"
      },
      "outputs": [
        {
          "name": "stderr",
          "output_type": "stream",
          "text": [
            "I0000 00:00:1746090984.212615   17991 gpu_process_state.cc:201] Using CUDA malloc Async allocator for GPU: 0\n",
            "I0000 00:00:1746090984.212924   17991 gpu_device.cc:2022] Created device /job:localhost/replica:0/task:0/device:GPU:0 with 4844 MB memory:  -> device: 0, name: NVIDIA GeForce RTX 2070 SUPER, pci bus id: 0000:09:00.0, compute capability: 7.5\n"
          ]
        }
      ],
      "source": [
        "model = keras.Sequential([\n",
        "    InputLayer(shape=INPUT_SHAPE),\n",
        "\n",
        "    # 16 8\n",
        "    Conv2D(filters=32, kernel_size=3, activation=\"relu\", padding='same'),\n",
        "    BatchNormalization(),\n",
        "    Conv2D(filters=32, kernel_size=3, activation=\"relu\", padding='same'),\n",
        "    BatchNormalization(),\n",
        "    MaxPooling2D(),\n",
        "    # 8 4\n",
        "    Conv2D(filters=64, kernel_size=3, activation=\"relu\", padding='same'),\n",
        "    BatchNormalization(),\n",
        "    Conv2D(filters=64, kernel_size=3, activation=\"relu\", padding='same'),\n",
        "    BatchNormalization(),\n",
        "    MaxPooling2D(),\n",
        "    #4 2\n",
        "    Conv2D(filters=64, kernel_size=3, activation=\"relu\", padding='same'),\n",
        "    BatchNormalization(),\n",
        "    Conv2D(filters=64, kernel_size=3, activation=\"relu\", padding='same'),\n",
        "    BatchNormalization(),\n",
        "    Conv2D(filters=64, kernel_size=3, activation=\"relu\", padding='same'),\n",
        "    MaxPooling2D(),\n",
        "\n",
        "    # Feature Pooling (Combining Max & Average Pooling)\n",
        "    Flatten(),\n",
        "\n",
        "    # Fully Connected Layer\n",
        "    Dense(32, activation=\"relu\", kernel_regularizer=l2(0.001)),\n",
        "    BatchNormalization(),\n",
        "    Dense(16, activation=\"relu\", kernel_regularizer=l2(0.001)),\n",
        "    BatchNormalization(),\n",
        "\n",
        "    # Output Layer (Softmax for multi-class classification)\n",
        "    Dense(units=4, activation=\"softmax\") # Softmax barely increase size.\n",
        "])"
      ]
    },
    {
      "cell_type": "code",
      "execution_count": 30,
      "metadata": {
        "colab": {
          "base_uri": "https://localhost:8080/",
          "height": 374
        },
        "id": "xvwvpA64CaW_",
        "outputId": "01ae9c32-9bf0-4ce0-bb48-5c51c0afb89c"
      },
      "outputs": [
        {
          "data": {
            "text/html": [
              "<pre style=\"white-space:pre;overflow-x:auto;line-height:normal;font-family:Menlo,'DejaVu Sans Mono',consolas,'Courier New',monospace\"><span style=\"font-weight: bold\">Model: \"sequential\"</span>\n",
              "</pre>\n"
            ],
            "text/plain": [
              "\u001b[1mModel: \"sequential\"\u001b[0m\n"
            ]
          },
          "metadata": {},
          "output_type": "display_data"
        },
        {
          "data": {
            "text/html": [
              "<pre style=\"white-space:pre;overflow-x:auto;line-height:normal;font-family:Menlo,'DejaVu Sans Mono',consolas,'Courier New',monospace\">┏━━━━━━━━━━━━━━━━━━━━━━━━━━━━━━━━━┳━━━━━━━━━━━━━━━━━━━━━━━━┳━━━━━━━━━━━━━━━┓\n",
              "┃<span style=\"font-weight: bold\"> Layer (type)                    </span>┃<span style=\"font-weight: bold\"> Output Shape           </span>┃<span style=\"font-weight: bold\">       Param # </span>┃\n",
              "┡━━━━━━━━━━━━━━━━━━━━━━━━━━━━━━━━━╇━━━━━━━━━━━━━━━━━━━━━━━━╇━━━━━━━━━━━━━━━┩\n",
              "│ conv2d (<span style=\"color: #0087ff; text-decoration-color: #0087ff\">Conv2D</span>)                 │ (<span style=\"color: #00d7ff; text-decoration-color: #00d7ff\">None</span>, <span style=\"color: #00af00; text-decoration-color: #00af00\">16</span>, <span style=\"color: #00af00; text-decoration-color: #00af00\">8</span>, <span style=\"color: #00af00; text-decoration-color: #00af00\">32</span>)      │           <span style=\"color: #00af00; text-decoration-color: #00af00\">320</span> │\n",
              "├─────────────────────────────────┼────────────────────────┼───────────────┤\n",
              "│ batch_normalization             │ (<span style=\"color: #00d7ff; text-decoration-color: #00d7ff\">None</span>, <span style=\"color: #00af00; text-decoration-color: #00af00\">16</span>, <span style=\"color: #00af00; text-decoration-color: #00af00\">8</span>, <span style=\"color: #00af00; text-decoration-color: #00af00\">32</span>)      │           <span style=\"color: #00af00; text-decoration-color: #00af00\">128</span> │\n",
              "│ (<span style=\"color: #0087ff; text-decoration-color: #0087ff\">BatchNormalization</span>)            │                        │               │\n",
              "├─────────────────────────────────┼────────────────────────┼───────────────┤\n",
              "│ conv2d_1 (<span style=\"color: #0087ff; text-decoration-color: #0087ff\">Conv2D</span>)               │ (<span style=\"color: #00d7ff; text-decoration-color: #00d7ff\">None</span>, <span style=\"color: #00af00; text-decoration-color: #00af00\">16</span>, <span style=\"color: #00af00; text-decoration-color: #00af00\">8</span>, <span style=\"color: #00af00; text-decoration-color: #00af00\">32</span>)      │         <span style=\"color: #00af00; text-decoration-color: #00af00\">9,248</span> │\n",
              "├─────────────────────────────────┼────────────────────────┼───────────────┤\n",
              "│ batch_normalization_1           │ (<span style=\"color: #00d7ff; text-decoration-color: #00d7ff\">None</span>, <span style=\"color: #00af00; text-decoration-color: #00af00\">16</span>, <span style=\"color: #00af00; text-decoration-color: #00af00\">8</span>, <span style=\"color: #00af00; text-decoration-color: #00af00\">32</span>)      │           <span style=\"color: #00af00; text-decoration-color: #00af00\">128</span> │\n",
              "│ (<span style=\"color: #0087ff; text-decoration-color: #0087ff\">BatchNormalization</span>)            │                        │               │\n",
              "├─────────────────────────────────┼────────────────────────┼───────────────┤\n",
              "│ max_pooling2d (<span style=\"color: #0087ff; text-decoration-color: #0087ff\">MaxPooling2D</span>)    │ (<span style=\"color: #00d7ff; text-decoration-color: #00d7ff\">None</span>, <span style=\"color: #00af00; text-decoration-color: #00af00\">8</span>, <span style=\"color: #00af00; text-decoration-color: #00af00\">4</span>, <span style=\"color: #00af00; text-decoration-color: #00af00\">32</span>)       │             <span style=\"color: #00af00; text-decoration-color: #00af00\">0</span> │\n",
              "├─────────────────────────────────┼────────────────────────┼───────────────┤\n",
              "│ conv2d_2 (<span style=\"color: #0087ff; text-decoration-color: #0087ff\">Conv2D</span>)               │ (<span style=\"color: #00d7ff; text-decoration-color: #00d7ff\">None</span>, <span style=\"color: #00af00; text-decoration-color: #00af00\">8</span>, <span style=\"color: #00af00; text-decoration-color: #00af00\">4</span>, <span style=\"color: #00af00; text-decoration-color: #00af00\">64</span>)       │        <span style=\"color: #00af00; text-decoration-color: #00af00\">18,496</span> │\n",
              "├─────────────────────────────────┼────────────────────────┼───────────────┤\n",
              "│ batch_normalization_2           │ (<span style=\"color: #00d7ff; text-decoration-color: #00d7ff\">None</span>, <span style=\"color: #00af00; text-decoration-color: #00af00\">8</span>, <span style=\"color: #00af00; text-decoration-color: #00af00\">4</span>, <span style=\"color: #00af00; text-decoration-color: #00af00\">64</span>)       │           <span style=\"color: #00af00; text-decoration-color: #00af00\">256</span> │\n",
              "│ (<span style=\"color: #0087ff; text-decoration-color: #0087ff\">BatchNormalization</span>)            │                        │               │\n",
              "├─────────────────────────────────┼────────────────────────┼───────────────┤\n",
              "│ conv2d_3 (<span style=\"color: #0087ff; text-decoration-color: #0087ff\">Conv2D</span>)               │ (<span style=\"color: #00d7ff; text-decoration-color: #00d7ff\">None</span>, <span style=\"color: #00af00; text-decoration-color: #00af00\">8</span>, <span style=\"color: #00af00; text-decoration-color: #00af00\">4</span>, <span style=\"color: #00af00; text-decoration-color: #00af00\">64</span>)       │        <span style=\"color: #00af00; text-decoration-color: #00af00\">36,928</span> │\n",
              "├─────────────────────────────────┼────────────────────────┼───────────────┤\n",
              "│ batch_normalization_3           │ (<span style=\"color: #00d7ff; text-decoration-color: #00d7ff\">None</span>, <span style=\"color: #00af00; text-decoration-color: #00af00\">8</span>, <span style=\"color: #00af00; text-decoration-color: #00af00\">4</span>, <span style=\"color: #00af00; text-decoration-color: #00af00\">64</span>)       │           <span style=\"color: #00af00; text-decoration-color: #00af00\">256</span> │\n",
              "│ (<span style=\"color: #0087ff; text-decoration-color: #0087ff\">BatchNormalization</span>)            │                        │               │\n",
              "├─────────────────────────────────┼────────────────────────┼───────────────┤\n",
              "│ max_pooling2d_1 (<span style=\"color: #0087ff; text-decoration-color: #0087ff\">MaxPooling2D</span>)  │ (<span style=\"color: #00d7ff; text-decoration-color: #00d7ff\">None</span>, <span style=\"color: #00af00; text-decoration-color: #00af00\">4</span>, <span style=\"color: #00af00; text-decoration-color: #00af00\">2</span>, <span style=\"color: #00af00; text-decoration-color: #00af00\">64</span>)       │             <span style=\"color: #00af00; text-decoration-color: #00af00\">0</span> │\n",
              "├─────────────────────────────────┼────────────────────────┼───────────────┤\n",
              "│ conv2d_4 (<span style=\"color: #0087ff; text-decoration-color: #0087ff\">Conv2D</span>)               │ (<span style=\"color: #00d7ff; text-decoration-color: #00d7ff\">None</span>, <span style=\"color: #00af00; text-decoration-color: #00af00\">4</span>, <span style=\"color: #00af00; text-decoration-color: #00af00\">2</span>, <span style=\"color: #00af00; text-decoration-color: #00af00\">64</span>)       │        <span style=\"color: #00af00; text-decoration-color: #00af00\">36,928</span> │\n",
              "├─────────────────────────────────┼────────────────────────┼───────────────┤\n",
              "│ batch_normalization_4           │ (<span style=\"color: #00d7ff; text-decoration-color: #00d7ff\">None</span>, <span style=\"color: #00af00; text-decoration-color: #00af00\">4</span>, <span style=\"color: #00af00; text-decoration-color: #00af00\">2</span>, <span style=\"color: #00af00; text-decoration-color: #00af00\">64</span>)       │           <span style=\"color: #00af00; text-decoration-color: #00af00\">256</span> │\n",
              "│ (<span style=\"color: #0087ff; text-decoration-color: #0087ff\">BatchNormalization</span>)            │                        │               │\n",
              "├─────────────────────────────────┼────────────────────────┼───────────────┤\n",
              "│ conv2d_5 (<span style=\"color: #0087ff; text-decoration-color: #0087ff\">Conv2D</span>)               │ (<span style=\"color: #00d7ff; text-decoration-color: #00d7ff\">None</span>, <span style=\"color: #00af00; text-decoration-color: #00af00\">4</span>, <span style=\"color: #00af00; text-decoration-color: #00af00\">2</span>, <span style=\"color: #00af00; text-decoration-color: #00af00\">64</span>)       │        <span style=\"color: #00af00; text-decoration-color: #00af00\">36,928</span> │\n",
              "├─────────────────────────────────┼────────────────────────┼───────────────┤\n",
              "│ batch_normalization_5           │ (<span style=\"color: #00d7ff; text-decoration-color: #00d7ff\">None</span>, <span style=\"color: #00af00; text-decoration-color: #00af00\">4</span>, <span style=\"color: #00af00; text-decoration-color: #00af00\">2</span>, <span style=\"color: #00af00; text-decoration-color: #00af00\">64</span>)       │           <span style=\"color: #00af00; text-decoration-color: #00af00\">256</span> │\n",
              "│ (<span style=\"color: #0087ff; text-decoration-color: #0087ff\">BatchNormalization</span>)            │                        │               │\n",
              "├─────────────────────────────────┼────────────────────────┼───────────────┤\n",
              "│ conv2d_6 (<span style=\"color: #0087ff; text-decoration-color: #0087ff\">Conv2D</span>)               │ (<span style=\"color: #00d7ff; text-decoration-color: #00d7ff\">None</span>, <span style=\"color: #00af00; text-decoration-color: #00af00\">4</span>, <span style=\"color: #00af00; text-decoration-color: #00af00\">2</span>, <span style=\"color: #00af00; text-decoration-color: #00af00\">64</span>)       │        <span style=\"color: #00af00; text-decoration-color: #00af00\">36,928</span> │\n",
              "├─────────────────────────────────┼────────────────────────┼───────────────┤\n",
              "│ max_pooling2d_2 (<span style=\"color: #0087ff; text-decoration-color: #0087ff\">MaxPooling2D</span>)  │ (<span style=\"color: #00d7ff; text-decoration-color: #00d7ff\">None</span>, <span style=\"color: #00af00; text-decoration-color: #00af00\">2</span>, <span style=\"color: #00af00; text-decoration-color: #00af00\">1</span>, <span style=\"color: #00af00; text-decoration-color: #00af00\">64</span>)       │             <span style=\"color: #00af00; text-decoration-color: #00af00\">0</span> │\n",
              "├─────────────────────────────────┼────────────────────────┼───────────────┤\n",
              "│ flatten (<span style=\"color: #0087ff; text-decoration-color: #0087ff\">Flatten</span>)               │ (<span style=\"color: #00d7ff; text-decoration-color: #00d7ff\">None</span>, <span style=\"color: #00af00; text-decoration-color: #00af00\">128</span>)            │             <span style=\"color: #00af00; text-decoration-color: #00af00\">0</span> │\n",
              "├─────────────────────────────────┼────────────────────────┼───────────────┤\n",
              "│ dense (<span style=\"color: #0087ff; text-decoration-color: #0087ff\">Dense</span>)                   │ (<span style=\"color: #00d7ff; text-decoration-color: #00d7ff\">None</span>, <span style=\"color: #00af00; text-decoration-color: #00af00\">32</span>)             │         <span style=\"color: #00af00; text-decoration-color: #00af00\">4,128</span> │\n",
              "├─────────────────────────────────┼────────────────────────┼───────────────┤\n",
              "│ batch_normalization_6           │ (<span style=\"color: #00d7ff; text-decoration-color: #00d7ff\">None</span>, <span style=\"color: #00af00; text-decoration-color: #00af00\">32</span>)             │           <span style=\"color: #00af00; text-decoration-color: #00af00\">128</span> │\n",
              "│ (<span style=\"color: #0087ff; text-decoration-color: #0087ff\">BatchNormalization</span>)            │                        │               │\n",
              "├─────────────────────────────────┼────────────────────────┼───────────────┤\n",
              "│ dense_1 (<span style=\"color: #0087ff; text-decoration-color: #0087ff\">Dense</span>)                 │ (<span style=\"color: #00d7ff; text-decoration-color: #00d7ff\">None</span>, <span style=\"color: #00af00; text-decoration-color: #00af00\">16</span>)             │           <span style=\"color: #00af00; text-decoration-color: #00af00\">528</span> │\n",
              "├─────────────────────────────────┼────────────────────────┼───────────────┤\n",
              "│ batch_normalization_7           │ (<span style=\"color: #00d7ff; text-decoration-color: #00d7ff\">None</span>, <span style=\"color: #00af00; text-decoration-color: #00af00\">16</span>)             │            <span style=\"color: #00af00; text-decoration-color: #00af00\">64</span> │\n",
              "│ (<span style=\"color: #0087ff; text-decoration-color: #0087ff\">BatchNormalization</span>)            │                        │               │\n",
              "├─────────────────────────────────┼────────────────────────┼───────────────┤\n",
              "│ dense_2 (<span style=\"color: #0087ff; text-decoration-color: #0087ff\">Dense</span>)                 │ (<span style=\"color: #00d7ff; text-decoration-color: #00d7ff\">None</span>, <span style=\"color: #00af00; text-decoration-color: #00af00\">4</span>)              │            <span style=\"color: #00af00; text-decoration-color: #00af00\">68</span> │\n",
              "└─────────────────────────────────┴────────────────────────┴───────────────┘\n",
              "</pre>\n"
            ],
            "text/plain": [
              "┏━━━━━━━━━━━━━━━━━━━━━━━━━━━━━━━━━┳━━━━━━━━━━━━━━━━━━━━━━━━┳━━━━━━━━━━━━━━━┓\n",
              "┃\u001b[1m \u001b[0m\u001b[1mLayer (type)                   \u001b[0m\u001b[1m \u001b[0m┃\u001b[1m \u001b[0m\u001b[1mOutput Shape          \u001b[0m\u001b[1m \u001b[0m┃\u001b[1m \u001b[0m\u001b[1m      Param #\u001b[0m\u001b[1m \u001b[0m┃\n",
              "┡━━━━━━━━━━━━━━━━━━━━━━━━━━━━━━━━━╇━━━━━━━━━━━━━━━━━━━━━━━━╇━━━━━━━━━━━━━━━┩\n",
              "│ conv2d (\u001b[38;5;33mConv2D\u001b[0m)                 │ (\u001b[38;5;45mNone\u001b[0m, \u001b[38;5;34m16\u001b[0m, \u001b[38;5;34m8\u001b[0m, \u001b[38;5;34m32\u001b[0m)      │           \u001b[38;5;34m320\u001b[0m │\n",
              "├─────────────────────────────────┼────────────────────────┼───────────────┤\n",
              "│ batch_normalization             │ (\u001b[38;5;45mNone\u001b[0m, \u001b[38;5;34m16\u001b[0m, \u001b[38;5;34m8\u001b[0m, \u001b[38;5;34m32\u001b[0m)      │           \u001b[38;5;34m128\u001b[0m │\n",
              "│ (\u001b[38;5;33mBatchNormalization\u001b[0m)            │                        │               │\n",
              "├─────────────────────────────────┼────────────────────────┼───────────────┤\n",
              "│ conv2d_1 (\u001b[38;5;33mConv2D\u001b[0m)               │ (\u001b[38;5;45mNone\u001b[0m, \u001b[38;5;34m16\u001b[0m, \u001b[38;5;34m8\u001b[0m, \u001b[38;5;34m32\u001b[0m)      │         \u001b[38;5;34m9,248\u001b[0m │\n",
              "├─────────────────────────────────┼────────────────────────┼───────────────┤\n",
              "│ batch_normalization_1           │ (\u001b[38;5;45mNone\u001b[0m, \u001b[38;5;34m16\u001b[0m, \u001b[38;5;34m8\u001b[0m, \u001b[38;5;34m32\u001b[0m)      │           \u001b[38;5;34m128\u001b[0m │\n",
              "│ (\u001b[38;5;33mBatchNormalization\u001b[0m)            │                        │               │\n",
              "├─────────────────────────────────┼────────────────────────┼───────────────┤\n",
              "│ max_pooling2d (\u001b[38;5;33mMaxPooling2D\u001b[0m)    │ (\u001b[38;5;45mNone\u001b[0m, \u001b[38;5;34m8\u001b[0m, \u001b[38;5;34m4\u001b[0m, \u001b[38;5;34m32\u001b[0m)       │             \u001b[38;5;34m0\u001b[0m │\n",
              "├─────────────────────────────────┼────────────────────────┼───────────────┤\n",
              "│ conv2d_2 (\u001b[38;5;33mConv2D\u001b[0m)               │ (\u001b[38;5;45mNone\u001b[0m, \u001b[38;5;34m8\u001b[0m, \u001b[38;5;34m4\u001b[0m, \u001b[38;5;34m64\u001b[0m)       │        \u001b[38;5;34m18,496\u001b[0m │\n",
              "├─────────────────────────────────┼────────────────────────┼───────────────┤\n",
              "│ batch_normalization_2           │ (\u001b[38;5;45mNone\u001b[0m, \u001b[38;5;34m8\u001b[0m, \u001b[38;5;34m4\u001b[0m, \u001b[38;5;34m64\u001b[0m)       │           \u001b[38;5;34m256\u001b[0m │\n",
              "│ (\u001b[38;5;33mBatchNormalization\u001b[0m)            │                        │               │\n",
              "├─────────────────────────────────┼────────────────────────┼───────────────┤\n",
              "│ conv2d_3 (\u001b[38;5;33mConv2D\u001b[0m)               │ (\u001b[38;5;45mNone\u001b[0m, \u001b[38;5;34m8\u001b[0m, \u001b[38;5;34m4\u001b[0m, \u001b[38;5;34m64\u001b[0m)       │        \u001b[38;5;34m36,928\u001b[0m │\n",
              "├─────────────────────────────────┼────────────────────────┼───────────────┤\n",
              "│ batch_normalization_3           │ (\u001b[38;5;45mNone\u001b[0m, \u001b[38;5;34m8\u001b[0m, \u001b[38;5;34m4\u001b[0m, \u001b[38;5;34m64\u001b[0m)       │           \u001b[38;5;34m256\u001b[0m │\n",
              "│ (\u001b[38;5;33mBatchNormalization\u001b[0m)            │                        │               │\n",
              "├─────────────────────────────────┼────────────────────────┼───────────────┤\n",
              "│ max_pooling2d_1 (\u001b[38;5;33mMaxPooling2D\u001b[0m)  │ (\u001b[38;5;45mNone\u001b[0m, \u001b[38;5;34m4\u001b[0m, \u001b[38;5;34m2\u001b[0m, \u001b[38;5;34m64\u001b[0m)       │             \u001b[38;5;34m0\u001b[0m │\n",
              "├─────────────────────────────────┼────────────────────────┼───────────────┤\n",
              "│ conv2d_4 (\u001b[38;5;33mConv2D\u001b[0m)               │ (\u001b[38;5;45mNone\u001b[0m, \u001b[38;5;34m4\u001b[0m, \u001b[38;5;34m2\u001b[0m, \u001b[38;5;34m64\u001b[0m)       │        \u001b[38;5;34m36,928\u001b[0m │\n",
              "├─────────────────────────────────┼────────────────────────┼───────────────┤\n",
              "│ batch_normalization_4           │ (\u001b[38;5;45mNone\u001b[0m, \u001b[38;5;34m4\u001b[0m, \u001b[38;5;34m2\u001b[0m, \u001b[38;5;34m64\u001b[0m)       │           \u001b[38;5;34m256\u001b[0m │\n",
              "│ (\u001b[38;5;33mBatchNormalization\u001b[0m)            │                        │               │\n",
              "├─────────────────────────────────┼────────────────────────┼───────────────┤\n",
              "│ conv2d_5 (\u001b[38;5;33mConv2D\u001b[0m)               │ (\u001b[38;5;45mNone\u001b[0m, \u001b[38;5;34m4\u001b[0m, \u001b[38;5;34m2\u001b[0m, \u001b[38;5;34m64\u001b[0m)       │        \u001b[38;5;34m36,928\u001b[0m │\n",
              "├─────────────────────────────────┼────────────────────────┼───────────────┤\n",
              "│ batch_normalization_5           │ (\u001b[38;5;45mNone\u001b[0m, \u001b[38;5;34m4\u001b[0m, \u001b[38;5;34m2\u001b[0m, \u001b[38;5;34m64\u001b[0m)       │           \u001b[38;5;34m256\u001b[0m │\n",
              "│ (\u001b[38;5;33mBatchNormalization\u001b[0m)            │                        │               │\n",
              "├─────────────────────────────────┼────────────────────────┼───────────────┤\n",
              "│ conv2d_6 (\u001b[38;5;33mConv2D\u001b[0m)               │ (\u001b[38;5;45mNone\u001b[0m, \u001b[38;5;34m4\u001b[0m, \u001b[38;5;34m2\u001b[0m, \u001b[38;5;34m64\u001b[0m)       │        \u001b[38;5;34m36,928\u001b[0m │\n",
              "├─────────────────────────────────┼────────────────────────┼───────────────┤\n",
              "│ max_pooling2d_2 (\u001b[38;5;33mMaxPooling2D\u001b[0m)  │ (\u001b[38;5;45mNone\u001b[0m, \u001b[38;5;34m2\u001b[0m, \u001b[38;5;34m1\u001b[0m, \u001b[38;5;34m64\u001b[0m)       │             \u001b[38;5;34m0\u001b[0m │\n",
              "├─────────────────────────────────┼────────────────────────┼───────────────┤\n",
              "│ flatten (\u001b[38;5;33mFlatten\u001b[0m)               │ (\u001b[38;5;45mNone\u001b[0m, \u001b[38;5;34m128\u001b[0m)            │             \u001b[38;5;34m0\u001b[0m │\n",
              "├─────────────────────────────────┼────────────────────────┼───────────────┤\n",
              "│ dense (\u001b[38;5;33mDense\u001b[0m)                   │ (\u001b[38;5;45mNone\u001b[0m, \u001b[38;5;34m32\u001b[0m)             │         \u001b[38;5;34m4,128\u001b[0m │\n",
              "├─────────────────────────────────┼────────────────────────┼───────────────┤\n",
              "│ batch_normalization_6           │ (\u001b[38;5;45mNone\u001b[0m, \u001b[38;5;34m32\u001b[0m)             │           \u001b[38;5;34m128\u001b[0m │\n",
              "│ (\u001b[38;5;33mBatchNormalization\u001b[0m)            │                        │               │\n",
              "├─────────────────────────────────┼────────────────────────┼───────────────┤\n",
              "│ dense_1 (\u001b[38;5;33mDense\u001b[0m)                 │ (\u001b[38;5;45mNone\u001b[0m, \u001b[38;5;34m16\u001b[0m)             │           \u001b[38;5;34m528\u001b[0m │\n",
              "├─────────────────────────────────┼────────────────────────┼───────────────┤\n",
              "│ batch_normalization_7           │ (\u001b[38;5;45mNone\u001b[0m, \u001b[38;5;34m16\u001b[0m)             │            \u001b[38;5;34m64\u001b[0m │\n",
              "│ (\u001b[38;5;33mBatchNormalization\u001b[0m)            │                        │               │\n",
              "├─────────────────────────────────┼────────────────────────┼───────────────┤\n",
              "│ dense_2 (\u001b[38;5;33mDense\u001b[0m)                 │ (\u001b[38;5;45mNone\u001b[0m, \u001b[38;5;34m4\u001b[0m)              │            \u001b[38;5;34m68\u001b[0m │\n",
              "└─────────────────────────────────┴────────────────────────┴───────────────┘\n"
            ]
          },
          "metadata": {},
          "output_type": "display_data"
        },
        {
          "data": {
            "text/html": [
              "<pre style=\"white-space:pre;overflow-x:auto;line-height:normal;font-family:Menlo,'DejaVu Sans Mono',consolas,'Courier New',monospace\"><span style=\"font-weight: bold\"> Total params: </span><span style=\"color: #00af00; text-decoration-color: #00af00\">181,972</span> (710.83 KB)\n",
              "</pre>\n"
            ],
            "text/plain": [
              "\u001b[1m Total params: \u001b[0m\u001b[38;5;34m181,972\u001b[0m (710.83 KB)\n"
            ]
          },
          "metadata": {},
          "output_type": "display_data"
        },
        {
          "data": {
            "text/html": [
              "<pre style=\"white-space:pre;overflow-x:auto;line-height:normal;font-family:Menlo,'DejaVu Sans Mono',consolas,'Courier New',monospace\"><span style=\"font-weight: bold\"> Trainable params: </span><span style=\"color: #00af00; text-decoration-color: #00af00\">181,236</span> (707.95 KB)\n",
              "</pre>\n"
            ],
            "text/plain": [
              "\u001b[1m Trainable params: \u001b[0m\u001b[38;5;34m181,236\u001b[0m (707.95 KB)\n"
            ]
          },
          "metadata": {},
          "output_type": "display_data"
        },
        {
          "data": {
            "text/html": [
              "<pre style=\"white-space:pre;overflow-x:auto;line-height:normal;font-family:Menlo,'DejaVu Sans Mono',consolas,'Courier New',monospace\"><span style=\"font-weight: bold\"> Non-trainable params: </span><span style=\"color: #00af00; text-decoration-color: #00af00\">736</span> (2.88 KB)\n",
              "</pre>\n"
            ],
            "text/plain": [
              "\u001b[1m Non-trainable params: \u001b[0m\u001b[38;5;34m736\u001b[0m (2.88 KB)\n"
            ]
          },
          "metadata": {},
          "output_type": "display_data"
        }
      ],
      "source": [
        "compileModel(model)"
      ]
    },
    {
      "cell_type": "code",
      "execution_count": 31,
      "metadata": {
        "colab": {
          "base_uri": "https://localhost:8080/",
          "height": 1000
        },
        "id": "Z7XNMH5Lrzxd",
        "outputId": "3305465a-1651-49e3-d168-caa978d6a4c7"
      },
      "outputs": [
        {
          "name": "stdout",
          "output_type": "stream",
          "text": [
            "Epoch 1/64\n"
          ]
        },
        {
          "name": "stderr",
          "output_type": "stream",
          "text": [
            "WARNING: All log messages before absl::InitializeLog() is called are written to STDERR\n",
            "I0000 00:00:1746090991.713254   18093 service.cc:148] XLA service 0x7c51740021b0 initialized for platform CUDA (this does not guarantee that XLA will be used). Devices:\n",
            "I0000 00:00:1746090991.713293   18093 service.cc:156]   StreamExecutor device (0): NVIDIA GeForce RTX 2070 SUPER, Compute Capability 7.5\n",
            "2025-05-01 11:16:31.838464: I tensorflow/compiler/mlir/tensorflow/utils/dump_mlir_util.cc:268] disabling MLIR crash reproducer, set env var `MLIR_CRASH_REPRODUCER_DIRECTORY` to enable.\n",
            "I0000 00:00:1746090992.398611   18093 cuda_dnn.cc:529] Loaded cuDNN version 90300\n",
            "2025-05-01 11:16:32.799066: I external/local_xla/xla/service/gpu/autotuning/conv_algorithm_picker.cc:557] Omitted potentially buggy algorithm eng14{k25=0} for conv (f32[256,32,16,8]{3,2,1,0}, u8[0]{0}) custom-call(f32[256,1,16,8]{3,2,1,0}, f32[32,1,3,3]{3,2,1,0}, f32[32]{0}), window={size=3x3 pad=1_1x1_1}, dim_labels=bf01_oi01->bf01, custom_call_target=\"__cudnn$convBiasActivationForward\", backend_config={\"cudnn_conv_backend_config\":{\"activation_mode\":\"kNone\",\"conv_result_scale\":1,\"leakyrelu_alpha\":0,\"side_input_scale\":0},\"force_earliest_schedule\":false,\"operation_queue_id\":\"0\",\"wait_on_operation_queues\":[]}\n",
            "2025-05-01 11:16:32.839435: I external/local_xla/xla/service/gpu/autotuning/conv_algorithm_picker.cc:557] Omitted potentially buggy algorithm eng14{k25=0} for conv (f32[256,32,16,8]{3,2,1,0}, u8[0]{0}) custom-call(f32[256,32,16,8]{3,2,1,0}, f32[32,32,3,3]{3,2,1,0}, f32[32]{0}), window={size=3x3 pad=1_1x1_1}, dim_labels=bf01_oi01->bf01, custom_call_target=\"__cudnn$convBiasActivationForward\", backend_config={\"cudnn_conv_backend_config\":{\"activation_mode\":\"kNone\",\"conv_result_scale\":1,\"leakyrelu_alpha\":0,\"side_input_scale\":0},\"force_earliest_schedule\":false,\"operation_queue_id\":\"0\",\"wait_on_operation_queues\":[]}\n",
            "2025-05-01 11:16:32.880472: I external/local_xla/xla/service/gpu/autotuning/conv_algorithm_picker.cc:557] Omitted potentially buggy algorithm eng14{k25=0} for conv (f32[256,64,8,4]{3,2,1,0}, u8[0]{0}) custom-call(f32[256,32,8,4]{3,2,1,0}, f32[64,32,3,3]{3,2,1,0}, f32[64]{0}), window={size=3x3 pad=1_1x1_1}, dim_labels=bf01_oi01->bf01, custom_call_target=\"__cudnn$convBiasActivationForward\", backend_config={\"cudnn_conv_backend_config\":{\"activation_mode\":\"kNone\",\"conv_result_scale\":1,\"leakyrelu_alpha\":0,\"side_input_scale\":0},\"force_earliest_schedule\":false,\"operation_queue_id\":\"0\",\"wait_on_operation_queues\":[]}\n",
            "2025-05-01 11:16:32.912614: I external/local_xla/xla/service/gpu/autotuning/conv_algorithm_picker.cc:557] Omitted potentially buggy algorithm eng14{k25=0} for conv (f32[256,64,8,4]{3,2,1,0}, u8[0]{0}) custom-call(f32[256,64,8,4]{3,2,1,0}, f32[64,64,3,3]{3,2,1,0}, f32[64]{0}), window={size=3x3 pad=1_1x1_1}, dim_labels=bf01_oi01->bf01, custom_call_target=\"__cudnn$convBiasActivationForward\", backend_config={\"cudnn_conv_backend_config\":{\"activation_mode\":\"kNone\",\"conv_result_scale\":1,\"leakyrelu_alpha\":0,\"side_input_scale\":0},\"force_earliest_schedule\":false,\"operation_queue_id\":\"0\",\"wait_on_operation_queues\":[]}\n"
          ]
        },
        {
          "name": "stdout",
          "output_type": "stream",
          "text": [
            "\u001b[1m  25/8208\u001b[0m \u001b[37m━━━━━━━━━━━━━━━━━━━━\u001b[0m \u001b[1m55s\u001b[0m 7ms/step - categorical_accuracy: 0.4028 - loss: 1.4499  "
          ]
        },
        {
          "name": "stderr",
          "output_type": "stream",
          "text": [
            "I0000 00:00:1746090996.323379   18093 device_compiler.h:188] Compiled cluster using XLA!  This line is logged at most once for the lifetime of the process.\n"
          ]
        },
        {
          "name": "stdout",
          "output_type": "stream",
          "text": [
            "\u001b[1m8204/8208\u001b[0m \u001b[32m━━━━━━━━━━━━━━━━━━━\u001b[0m\u001b[37m━\u001b[0m \u001b[1m0s\u001b[0m 6ms/step - categorical_accuracy: 0.8056 - loss: 0.4840"
          ]
        },
        {
          "name": "stderr",
          "output_type": "stream",
          "text": [
            "2025-05-01 11:17:25.923495: I external/local_xla/xla/service/gpu/autotuning/conv_algorithm_picker.cc:557] Omitted potentially buggy algorithm eng14{k25=0} for conv (f32[208,32,16,8]{3,2,1,0}, u8[0]{0}) custom-call(f32[208,1,16,8]{3,2,1,0}, f32[32,1,3,3]{3,2,1,0}, f32[32]{0}), window={size=3x3 pad=1_1x1_1}, dim_labels=bf01_oi01->bf01, custom_call_target=\"__cudnn$convBiasActivationForward\", backend_config={\"cudnn_conv_backend_config\":{\"activation_mode\":\"kNone\",\"conv_result_scale\":1,\"leakyrelu_alpha\":0,\"side_input_scale\":0},\"force_earliest_schedule\":false,\"operation_queue_id\":\"0\",\"wait_on_operation_queues\":[]}\n",
            "2025-05-01 11:17:25.938693: I external/local_xla/xla/service/gpu/autotuning/conv_algorithm_picker.cc:557] Omitted potentially buggy algorithm eng14{k25=0} for conv (f32[208,32,16,8]{3,2,1,0}, u8[0]{0}) custom-call(f32[208,32,16,8]{3,2,1,0}, f32[32,32,3,3]{3,2,1,0}, f32[32]{0}), window={size=3x3 pad=1_1x1_1}, dim_labels=bf01_oi01->bf01, custom_call_target=\"__cudnn$convBiasActivationForward\", backend_config={\"cudnn_conv_backend_config\":{\"activation_mode\":\"kNone\",\"conv_result_scale\":1,\"leakyrelu_alpha\":0,\"side_input_scale\":0},\"force_earliest_schedule\":false,\"operation_queue_id\":\"0\",\"wait_on_operation_queues\":[]}\n",
            "2025-05-01 11:17:25.969749: I external/local_xla/xla/service/gpu/autotuning/conv_algorithm_picker.cc:557] Omitted potentially buggy algorithm eng14{k25=0} for conv (f32[208,64,8,4]{3,2,1,0}, u8[0]{0}) custom-call(f32[208,32,8,4]{3,2,1,0}, f32[64,32,3,3]{3,2,1,0}, f32[64]{0}), window={size=3x3 pad=1_1x1_1}, dim_labels=bf01_oi01->bf01, custom_call_target=\"__cudnn$convBiasActivationForward\", backend_config={\"cudnn_conv_backend_config\":{\"activation_mode\":\"kNone\",\"conv_result_scale\":1,\"leakyrelu_alpha\":0,\"side_input_scale\":0},\"force_earliest_schedule\":false,\"operation_queue_id\":\"0\",\"wait_on_operation_queues\":[]}\n",
            "2025-05-01 11:17:25.998285: I external/local_xla/xla/service/gpu/autotuning/conv_algorithm_picker.cc:557] Omitted potentially buggy algorithm eng14{k25=0} for conv (f32[208,64,8,4]{3,2,1,0}, u8[0]{0}) custom-call(f32[208,64,8,4]{3,2,1,0}, f32[64,64,3,3]{3,2,1,0}, f32[64]{0}), window={size=3x3 pad=1_1x1_1}, dim_labels=bf01_oi01->bf01, custom_call_target=\"__cudnn$convBiasActivationForward\", backend_config={\"cudnn_conv_backend_config\":{\"activation_mode\":\"kNone\",\"conv_result_scale\":1,\"leakyrelu_alpha\":0,\"side_input_scale\":0},\"force_earliest_schedule\":false,\"operation_queue_id\":\"0\",\"wait_on_operation_queues\":[]}\n"
          ]
        },
        {
          "name": "stdout",
          "output_type": "stream",
          "text": [
            "\u001b[1m8208/8208\u001b[0m \u001b[32m━━━━━━━━━━━━━━━━━━━━\u001b[0m\u001b[37m\u001b[0m \u001b[1m0s\u001b[0m 6ms/step - categorical_accuracy: 0.8057 - loss: 0.4840"
          ]
        },
        {
          "name": "stderr",
          "output_type": "stream",
          "text": [
            "2025-05-01 11:17:30.123759: I external/local_xla/xla/service/gpu/autotuning/conv_algorithm_picker.cc:557] Omitted potentially buggy algorithm eng14{k25=0} for conv (f32[256,32,16,8]{3,2,1,0}, u8[0]{0}) custom-call(f32[256,1,16,8]{3,2,1,0}, f32[32,1,3,3]{3,2,1,0}, f32[32]{0}), window={size=3x3 pad=1_1x1_1}, dim_labels=bf01_oi01->bf01, custom_call_target=\"__cudnn$convBiasActivationForward\", backend_config={\"cudnn_conv_backend_config\":{\"activation_mode\":\"kRelu\",\"conv_result_scale\":1,\"leakyrelu_alpha\":0,\"side_input_scale\":0},\"force_earliest_schedule\":false,\"operation_queue_id\":\"0\",\"wait_on_operation_queues\":[]}\n",
            "2025-05-01 11:17:30.142072: I external/local_xla/xla/service/gpu/autotuning/conv_algorithm_picker.cc:557] Omitted potentially buggy algorithm eng14{k25=0} for conv (f32[256,32,16,8]{3,2,1,0}, u8[0]{0}) custom-call(f32[256,32,16,8]{3,2,1,0}, f32[32,32,3,3]{3,2,1,0}, f32[32]{0}), window={size=3x3 pad=1_1x1_1}, dim_labels=bf01_oi01->bf01, custom_call_target=\"__cudnn$convBiasActivationForward\", backend_config={\"cudnn_conv_backend_config\":{\"activation_mode\":\"kRelu\",\"conv_result_scale\":1,\"leakyrelu_alpha\":0,\"side_input_scale\":0},\"force_earliest_schedule\":false,\"operation_queue_id\":\"0\",\"wait_on_operation_queues\":[]}\n",
            "2025-05-01 11:17:30.178758: I external/local_xla/xla/service/gpu/autotuning/conv_algorithm_picker.cc:557] Omitted potentially buggy algorithm eng14{k25=0} for conv (f32[256,64,8,4]{3,2,1,0}, u8[0]{0}) custom-call(f32[256,32,8,4]{3,2,1,0}, f32[64,32,3,3]{3,2,1,0}, f32[64]{0}), window={size=3x3 pad=1_1x1_1}, dim_labels=bf01_oi01->bf01, custom_call_target=\"__cudnn$convBiasActivationForward\", backend_config={\"cudnn_conv_backend_config\":{\"activation_mode\":\"kRelu\",\"conv_result_scale\":1,\"leakyrelu_alpha\":0,\"side_input_scale\":0},\"force_earliest_schedule\":false,\"operation_queue_id\":\"0\",\"wait_on_operation_queues\":[]}\n",
            "2025-05-01 11:17:30.212075: I external/local_xla/xla/service/gpu/autotuning/conv_algorithm_picker.cc:557] Omitted potentially buggy algorithm eng14{k25=0} for conv (f32[256,64,8,4]{3,2,1,0}, u8[0]{0}) custom-call(f32[256,64,8,4]{3,2,1,0}, f32[64,64,3,3]{3,2,1,0}, f32[64]{0}), window={size=3x3 pad=1_1x1_1}, dim_labels=bf01_oi01->bf01, custom_call_target=\"__cudnn$convBiasActivationForward\", backend_config={\"cudnn_conv_backend_config\":{\"activation_mode\":\"kRelu\",\"conv_result_scale\":1,\"leakyrelu_alpha\":0,\"side_input_scale\":0},\"force_earliest_schedule\":false,\"operation_queue_id\":\"0\",\"wait_on_operation_queues\":[]}\n",
            "2025-05-01 11:17:33.789870: I external/local_xla/xla/service/gpu/autotuning/conv_algorithm_picker.cc:557] Omitted potentially buggy algorithm eng14{k25=0} for conv (f32[206,32,16,8]{3,2,1,0}, u8[0]{0}) custom-call(f32[206,1,16,8]{3,2,1,0}, f32[32,1,3,3]{3,2,1,0}, f32[32]{0}), window={size=3x3 pad=1_1x1_1}, dim_labels=bf01_oi01->bf01, custom_call_target=\"__cudnn$convBiasActivationForward\", backend_config={\"cudnn_conv_backend_config\":{\"activation_mode\":\"kRelu\",\"conv_result_scale\":1,\"leakyrelu_alpha\":0,\"side_input_scale\":0},\"force_earliest_schedule\":false,\"operation_queue_id\":\"0\",\"wait_on_operation_queues\":[]}\n",
            "2025-05-01 11:17:33.807243: I external/local_xla/xla/service/gpu/autotuning/conv_algorithm_picker.cc:557] Omitted potentially buggy algorithm eng14{k25=0} for conv (f32[206,32,16,8]{3,2,1,0}, u8[0]{0}) custom-call(f32[206,32,16,8]{3,2,1,0}, f32[32,32,3,3]{3,2,1,0}, f32[32]{0}), window={size=3x3 pad=1_1x1_1}, dim_labels=bf01_oi01->bf01, custom_call_target=\"__cudnn$convBiasActivationForward\", backend_config={\"cudnn_conv_backend_config\":{\"activation_mode\":\"kRelu\",\"conv_result_scale\":1,\"leakyrelu_alpha\":0,\"side_input_scale\":0},\"force_earliest_schedule\":false,\"operation_queue_id\":\"0\",\"wait_on_operation_queues\":[]}\n",
            "2025-05-01 11:17:33.842032: I external/local_xla/xla/service/gpu/autotuning/conv_algorithm_picker.cc:557] Omitted potentially buggy algorithm eng14{k25=0} for conv (f32[206,64,8,4]{3,2,1,0}, u8[0]{0}) custom-call(f32[206,32,8,4]{3,2,1,0}, f32[64,32,3,3]{3,2,1,0}, f32[64]{0}), window={size=3x3 pad=1_1x1_1}, dim_labels=bf01_oi01->bf01, custom_call_target=\"__cudnn$convBiasActivationForward\", backend_config={\"cudnn_conv_backend_config\":{\"activation_mode\":\"kRelu\",\"conv_result_scale\":1,\"leakyrelu_alpha\":0,\"side_input_scale\":0},\"force_earliest_schedule\":false,\"operation_queue_id\":\"0\",\"wait_on_operation_queues\":[]}\n",
            "2025-05-01 11:17:33.873552: I external/local_xla/xla/service/gpu/autotuning/conv_algorithm_picker.cc:557] Omitted potentially buggy algorithm eng14{k25=0} for conv (f32[206,64,8,4]{3,2,1,0}, u8[0]{0}) custom-call(f32[206,64,8,4]{3,2,1,0}, f32[64,64,3,3]{3,2,1,0}, f32[64]{0}), window={size=3x3 pad=1_1x1_1}, dim_labels=bf01_oi01->bf01, custom_call_target=\"__cudnn$convBiasActivationForward\", backend_config={\"cudnn_conv_backend_config\":{\"activation_mode\":\"kRelu\",\"conv_result_scale\":1,\"leakyrelu_alpha\":0,\"side_input_scale\":0},\"force_earliest_schedule\":false,\"operation_queue_id\":\"0\",\"wait_on_operation_queues\":[]}\n"
          ]
        },
        {
          "name": "stdout",
          "output_type": "stream",
          "text": [
            "\u001b[1m8208/8208\u001b[0m \u001b[32m━━━━━━━━━━━━━━━━━━━━\u001b[0m\u001b[37m\u001b[0m \u001b[1m67s\u001b[0m 7ms/step - categorical_accuracy: 0.8057 - loss: 0.4840 - val_categorical_accuracy: 0.8336 - val_loss: 0.3914 - learning_rate: 0.0010\n",
            "Epoch 2/64\n",
            "\u001b[1m8208/8208\u001b[0m \u001b[32m━━━━━━━━━━━━━━━━━━━━\u001b[0m\u001b[37m\u001b[0m \u001b[1m52s\u001b[0m 6ms/step - categorical_accuracy: 0.8596 - loss: 0.3041 - val_categorical_accuracy: 0.8612 - val_loss: 0.3459 - learning_rate: 0.0010\n",
            "Epoch 3/64\n",
            "\u001b[1m8208/8208\u001b[0m \u001b[32m━━━━━━━━━━━━━━━━━━━━\u001b[0m\u001b[37m\u001b[0m \u001b[1m52s\u001b[0m 6ms/step - categorical_accuracy: 0.8857 - loss: 0.2303 - val_categorical_accuracy: 0.8565 - val_loss: 0.3899 - learning_rate: 0.0010\n",
            "Epoch 4/64\n",
            "\u001b[1m8208/8208\u001b[0m \u001b[32m━━━━━━━━━━━━━━━━━━━━\u001b[0m\u001b[37m\u001b[0m \u001b[1m53s\u001b[0m 6ms/step - categorical_accuracy: 0.9133 - loss: 0.1734 - val_categorical_accuracy: 0.8805 - val_loss: 0.3832 - learning_rate: 0.0010\n",
            "Epoch 5/64\n",
            "\u001b[1m8208/8208\u001b[0m \u001b[32m━━━━━━━━━━━━━━━━━━━━\u001b[0m\u001b[37m\u001b[0m \u001b[1m53s\u001b[0m 6ms/step - categorical_accuracy: 0.9503 - loss: 0.1022 - val_categorical_accuracy: 0.8827 - val_loss: 0.4774 - learning_rate: 5.0000e-04\n",
            "Epoch 6/64\n",
            "\u001b[1m8208/8208\u001b[0m \u001b[32m━━━━━━━━━━━━━━━━━━━━\u001b[0m\u001b[37m\u001b[0m \u001b[1m53s\u001b[0m 6ms/step - categorical_accuracy: 0.9663 - loss: 0.0717 - val_categorical_accuracy: 0.8865 - val_loss: 0.5137 - learning_rate: 5.0000e-04\n",
            "Epoch 7/64\n",
            "\u001b[1m8208/8208\u001b[0m \u001b[32m━━━━━━━━━━━━━━━━━━━━\u001b[0m\u001b[37m\u001b[0m \u001b[1m52s\u001b[0m 6ms/step - categorical_accuracy: 0.9812 - loss: 0.0415 - val_categorical_accuracy: 0.8899 - val_loss: 0.6248 - learning_rate: 2.5000e-04\n",
            "Epoch 8/64\n",
            "\u001b[1m8208/8208\u001b[0m \u001b[32m━━━━━━━━━━━━━━━━━━━━\u001b[0m\u001b[37m\u001b[0m \u001b[1m52s\u001b[0m 6ms/step - categorical_accuracy: 0.9866 - loss: 0.0303 - val_categorical_accuracy: 0.8924 - val_loss: 0.6511 - learning_rate: 2.5000e-04\n",
            "Epoch 9/64\n",
            "\u001b[1m8208/8208\u001b[0m \u001b[32m━━━━━━━━━━━━━━━━━━━━\u001b[0m\u001b[37m\u001b[0m \u001b[1m52s\u001b[0m 6ms/step - categorical_accuracy: 0.9920 - loss: 0.0186 - val_categorical_accuracy: 0.8945 - val_loss: 0.7439 - learning_rate: 1.2500e-04\n",
            "Epoch 10/64\n",
            "\u001b[1m8208/8208\u001b[0m \u001b[32m━━━━━━━━━━━━━━━━━━━━\u001b[0m\u001b[37m\u001b[0m \u001b[1m53s\u001b[0m 6ms/step - categorical_accuracy: 0.9941 - loss: 0.0144 - val_categorical_accuracy: 0.8954 - val_loss: 0.7985 - learning_rate: 1.2500e-04\n",
            "Epoch 11/64\n",
            "\u001b[1m8208/8208\u001b[0m \u001b[32m━━━━━━━━━━━━━━━━━━━━\u001b[0m\u001b[37m\u001b[0m \u001b[1m53s\u001b[0m 6ms/step - categorical_accuracy: 0.9961 - loss: 0.0101 - val_categorical_accuracy: 0.8977 - val_loss: 0.8517 - learning_rate: 6.2500e-05\n",
            "Epoch 12/64\n",
            "\u001b[1m8208/8208\u001b[0m \u001b[32m━━━━━━━━━━━━━━━━━━━━\u001b[0m\u001b[37m\u001b[0m \u001b[1m53s\u001b[0m 6ms/step - categorical_accuracy: 0.9969 - loss: 0.0083 - val_categorical_accuracy: 0.8974 - val_loss: 0.8832 - learning_rate: 6.2500e-05\n",
            "Epoch 13/64\n",
            "\u001b[1m8208/8208\u001b[0m \u001b[32m━━━━━━━━━━━━━━━━━━━━\u001b[0m\u001b[37m\u001b[0m \u001b[1m53s\u001b[0m 6ms/step - categorical_accuracy: 0.9977 - loss: 0.0063 - val_categorical_accuracy: 0.8982 - val_loss: 0.9051 - learning_rate: 3.1250e-05\n",
            "Epoch 14/64\n",
            "\u001b[1m8208/8208\u001b[0m \u001b[32m━━━━━━━━━━━━━━━━━━━━\u001b[0m\u001b[37m\u001b[0m \u001b[1m54s\u001b[0m 7ms/step - categorical_accuracy: 0.9982 - loss: 0.0054 - val_categorical_accuracy: 0.8980 - val_loss: 0.9296 - learning_rate: 3.1250e-05\n",
            "Epoch 15/64\n",
            "\u001b[1m8208/8208\u001b[0m \u001b[32m━━━━━━━━━━━━━━━━━━━━\u001b[0m\u001b[37m\u001b[0m \u001b[1m53s\u001b[0m 6ms/step - categorical_accuracy: 0.9985 - loss: 0.0047 - val_categorical_accuracy: 0.8979 - val_loss: 0.9477 - learning_rate: 1.5625e-05\n",
            "Epoch 16/64\n",
            "\u001b[1m8208/8208\u001b[0m \u001b[32m━━━━━━━━━━━━━━━━━━━━\u001b[0m\u001b[37m\u001b[0m \u001b[1m54s\u001b[0m 7ms/step - categorical_accuracy: 0.9986 - loss: 0.0045 - val_categorical_accuracy: 0.8974 - val_loss: 0.9665 - learning_rate: 1.5625e-05\n",
            "Epoch 17/64\n",
            "\u001b[1m8208/8208\u001b[0m \u001b[32m━━━━━━━━━━━━━━━━━━━━\u001b[0m\u001b[37m\u001b[0m \u001b[1m54s\u001b[0m 7ms/step - categorical_accuracy: 0.9988 - loss: 0.0040 - val_categorical_accuracy: 0.8976 - val_loss: 0.9781 - learning_rate: 7.8125e-06\n",
            "Epoch 18/64\n",
            "\u001b[1m8208/8208\u001b[0m \u001b[32m━━━━━━━━━━━━━━━━━━━━\u001b[0m\u001b[37m\u001b[0m \u001b[1m54s\u001b[0m 7ms/step - categorical_accuracy: 0.9989 - loss: 0.0037 - val_categorical_accuracy: 0.8983 - val_loss: 0.9830 - learning_rate: 7.8125e-06\n",
            "Epoch 19/64\n",
            "\u001b[1m8208/8208\u001b[0m \u001b[32m━━━━━━━━━━━━━━━━━━━━\u001b[0m\u001b[37m\u001b[0m \u001b[1m53s\u001b[0m 6ms/step - categorical_accuracy: 0.9989 - loss: 0.0036 - val_categorical_accuracy: 0.8977 - val_loss: 0.9915 - learning_rate: 3.9063e-06\n",
            "Epoch 20/64\n",
            "\u001b[1m8208/8208\u001b[0m \u001b[32m━━━━━━━━━━━━━━━━━━━━\u001b[0m\u001b[37m\u001b[0m \u001b[1m53s\u001b[0m 6ms/step - categorical_accuracy: 0.9990 - loss: 0.0035 - val_categorical_accuracy: 0.8985 - val_loss: 0.9942 - learning_rate: 3.9063e-06\n",
            "Epoch 21/64\n",
            "\u001b[1m8208/8208\u001b[0m \u001b[32m━━━━━━━━━━━━━━━━━━━━\u001b[0m\u001b[37m\u001b[0m \u001b[1m53s\u001b[0m 6ms/step - categorical_accuracy: 0.9990 - loss: 0.0035 - val_categorical_accuracy: 0.8985 - val_loss: 0.9914 - learning_rate: 1.9531e-06\n",
            "Epoch 22/64\n",
            "\u001b[1m8208/8208\u001b[0m \u001b[32m━━━━━━━━━━━━━━━━━━━━\u001b[0m\u001b[37m\u001b[0m \u001b[1m53s\u001b[0m 6ms/step - categorical_accuracy: 0.9990 - loss: 0.0034 - val_categorical_accuracy: 0.8987 - val_loss: 0.9957 - learning_rate: 1.9531e-06\n"
          ]
        },
        {
          "data": {
            "image/png": "[encoded data removed]",
            "text/plain": [
              "<Figure size 640x480 with 1 Axes>"
            ]
          },
          "metadata": {},
          "output_type": "display_data"
        },
        {
          "data": {
            "image/png": "[encoded data removed]",
            "text/plain": [
              "<Figure size 640x480 with 1 Axes>"
            ]
          },
          "metadata": {},
          "output_type": "display_data"
        }
      ],
      "source": [
        "fitModel(model, x_train, y_train, x_val, y_val, 64, True, dist_class_weight, 1, 256)"
      ]
    },
    {
      "cell_type": "code",
      "execution_count": 32,
      "metadata": {
        "colab": {
          "base_uri": "https://localhost:8080/"
        },
        "id": "WkVSBCHvrzxe",
        "outputId": "a79fd00d-4eef-481b-9d82-a25b5c5b5b4a"
      },
      "outputs": [
        {
          "name": "stderr",
          "output_type": "stream",
          "text": [
            "2025-05-01 11:36:08.329540: I external/local_xla/xla/service/gpu/autotuning/conv_algorithm_picker.cc:557] Omitted potentially buggy algorithm eng14{k25=0} for conv (f32[32,32,16,8]{3,2,1,0}, u8[0]{0}) custom-call(f32[32,32,16,8]{3,2,1,0}, f32[32,32,3,3]{3,2,1,0}, f32[32]{0}), window={size=3x3 pad=1_1x1_1}, dim_labels=bf01_oi01->bf01, custom_call_target=\"__cudnn$convBiasActivationForward\", backend_config={\"cudnn_conv_backend_config\":{\"activation_mode\":\"kRelu\",\"conv_result_scale\":1,\"leakyrelu_alpha\":0,\"side_input_scale\":0},\"force_earliest_schedule\":false,\"operation_queue_id\":\"0\",\"wait_on_operation_queues\":[]}\n",
            "2025-05-01 11:36:08.378254: I external/local_xla/xla/service/gpu/autotuning/conv_algorithm_picker.cc:557] Omitted potentially buggy algorithm eng14{k25=0} for conv (f32[32,64,8,4]{3,2,1,0}, u8[0]{0}) custom-call(f32[32,64,8,4]{3,2,1,0}, f32[64,64,3,3]{3,2,1,0}, f32[64]{0}), window={size=3x3 pad=1_1x1_1}, dim_labels=bf01_oi01->bf01, custom_call_target=\"__cudnn$convBiasActivationForward\", backend_config={\"cudnn_conv_backend_config\":{\"activation_mode\":\"kRelu\",\"conv_result_scale\":1,\"leakyrelu_alpha\":0,\"side_input_scale\":0},\"force_earliest_schedule\":false,\"operation_queue_id\":\"0\",\"wait_on_operation_queues\":[]}\n",
            "2025-05-01 11:36:33.524963: I external/local_xla/xla/service/gpu/autotuning/conv_algorithm_picker.cc:557] Omitted potentially buggy algorithm eng14{k25=0} for conv (f32[14,32,16,8]{3,2,1,0}, u8[0]{0}) custom-call(f32[14,1,16,8]{3,2,1,0}, f32[32,1,3,3]{3,2,1,0}, f32[32]{0}), window={size=3x3 pad=1_1x1_1}, dim_labels=bf01_oi01->bf01, custom_call_target=\"__cudnn$convBiasActivationForward\", backend_config={\"cudnn_conv_backend_config\":{\"activation_mode\":\"kRelu\",\"conv_result_scale\":1,\"leakyrelu_alpha\":0,\"side_input_scale\":0},\"force_earliest_schedule\":false,\"operation_queue_id\":\"0\",\"wait_on_operation_queues\":[]}\n",
            "2025-05-01 11:36:33.530701: I external/local_xla/xla/service/gpu/autotuning/conv_algorithm_picker.cc:557] Omitted potentially buggy algorithm eng14{k25=0} for conv (f32[14,32,16,8]{3,2,1,0}, u8[0]{0}) custom-call(f32[14,32,16,8]{3,2,1,0}, f32[32,32,3,3]{3,2,1,0}, f32[32]{0}), window={size=3x3 pad=1_1x1_1}, dim_labels=bf01_oi01->bf01, custom_call_target=\"__cudnn$convBiasActivationForward\", backend_config={\"cudnn_conv_backend_config\":{\"activation_mode\":\"kRelu\",\"conv_result_scale\":1,\"leakyrelu_alpha\":0,\"side_input_scale\":0},\"force_earliest_schedule\":false,\"operation_queue_id\":\"0\",\"wait_on_operation_queues\":[]}\n",
            "2025-05-01 11:36:33.586681: I external/local_xla/xla/service/gpu/autotuning/conv_algorithm_picker.cc:557] Omitted potentially buggy algorithm eng14{k25=0} for conv (f32[14,64,8,4]{3,2,1,0}, u8[0]{0}) custom-call(f32[14,64,8,4]{3,2,1,0}, f32[64,64,3,3]{3,2,1,0}, f32[64]{0}), window={size=3x3 pad=1_1x1_1}, dim_labels=bf01_oi01->bf01, custom_call_target=\"__cudnn$convBiasActivationForward\", backend_config={\"cudnn_conv_backend_config\":{\"activation_mode\":\"kRelu\",\"conv_result_scale\":1,\"leakyrelu_alpha\":0,\"side_input_scale\":0},\"force_earliest_schedule\":false,\"operation_queue_id\":\"0\",\"wait_on_operation_queues\":[]}\n"
          ]
        },
        {
          "name": "stdout",
          "output_type": "stream",
          "text": [
            "8199/8199 - 26s - 3ms/step - categorical_accuracy: 0.8709 - loss: 0.3237\n",
            "Test accuracy: 0.8708519339561462\n"
          ]
        }
      ],
      "source": [
        "# Evaluate the model on the test set.\n",
        "test_loss, test_acc = model.evaluate(x_test, y_test, verbose=2)\n",
        "print(f\"Test accuracy: {test_acc}\")"
      ]
    },
    {
      "cell_type": "code",
      "execution_count": 43,
      "metadata": {},
      "outputs": [
        {
          "name": "stdout",
          "output_type": "stream",
          "text": [
            "\u001b[1m8199/8199\u001b[0m \u001b[32m━━━━━━━━━━━━━━━━━━━━\u001b[0m\u001b[37m\u001b[0m \u001b[1m19s\u001b[0m 2ms/step\n",
            "F1 score: 0.8840452190984468\n"
          ]
        }
      ],
      "source": [
        "# Get F1 score of model.\n",
        "y_pred = model.predict(x_test)\n",
        "y_pred_classes = np.argmax(y_pred, axis=1)\n",
        "y_true = np.argmax(y_test, axis=1)\n",
        "from sklearn.metrics import f1_score\n",
        "f1 = f1_score(y_true, y_pred_classes, average='weighted')\n",
        "print(f\"F1 score: {f1}\")"
      ]
    },
    {
      "cell_type": "markdown",
      "metadata": {},
      "source": [
        "Test accuracy: 0.892978847026825\n",
        "\n",
        "\n",
        "Added \n",
        "    Dropout(0.1),\n",
        "\n",
        "    after each conv group\n",
        "\n",
        "Test accuracy: 0.8820201754570007\n",
        "\n",
        "Added\n",
        "    BatchNormalization(),\n",
        "    after last conv\n",
        "\n",
        "\n",
        "Test accuracy: 0.8716371059417725\n",
        "\n",
        "Added dropput after each dense\n",
        "Test accuracy: 0.8669792413711548\n"
      ]
    },
    {
      "cell_type": "code",
      "execution_count": 33,
      "metadata": {
        "colab": {
          "base_uri": "https://localhost:8080/",
          "height": 710
        },
        "id": "Wh_ETmEErzxe",
        "outputId": "e17a65c0-ce2d-4873-9cdf-7dcdb9831108"
      },
      "outputs": [
        {
          "name": "stdout",
          "output_type": "stream",
          "text": [
            "\u001b[1m8199/8199\u001b[0m \u001b[32m━━━━━━━━━━━━━━━━━━━━\u001b[0m\u001b[37m\u001b[0m \u001b[1m19s\u001b[0m 2ms/step\n",
            "y_train_int shape: (2101200,)\n",
            "y_test_int shape: (262350,)\n",
            "y_pred shape: (262350,)\n"
          ]
        },
        {
          "data": {
            "image/png": "[encoded data removed]",
            "text/plain": [
              "<Figure size 1000x700 with 2 Axes>"
            ]
          },
          "metadata": {},
          "output_type": "display_data"
        }
      ],
      "source": [
        "printConfusionMatrix(model, x_test, y_test, ['Background', 'Car', 'Comm', 'Motorcycle'])"
      ]
    },
    {
      "cell_type": "markdown",
      "metadata": {
        "id": "ijrhH7herzxe"
      },
      "source": [
        "# Save & Compress model"
      ]
    },
    {
      "cell_type": "markdown",
      "metadata": {
        "id": "PjEc-azSrzxe"
      },
      "source": [
        "### Keras Model\n",
        "\n",
        "Generating the Keras model is not required, thus the boolean check."
      ]
    },
    {
      "cell_type": "code",
      "execution_count": 34,
      "metadata": {
        "colab": {
          "base_uri": "https://localhost:8080/"
        },
        "id": "4n4_BRNKLRwo",
        "outputId": "a1b5a9be-5fe9-4fc2-d61c-a73cc8718cbc"
      },
      "outputs": [],
      "source": [
        "if GENERATE_KERAS_MODLE:\n",
        "    model.save(KERAS_MODEL_NAME)\n",
        "    print(\"Keras model saved: \", KERAS_MODEL_NAME)\n",
        "    convert_bytes(get_file_size(KERAS_MODEL_NAME), \"KB\")"
      ]
    },
    {
      "cell_type": "code",
      "execution_count": 35,
      "metadata": {},
      "outputs": [
        {
          "data": {
            "text/plain": [
              "(2101200, 16, 8, 1)"
            ]
          },
          "execution_count": 35,
          "metadata": {},
          "output_type": "execute_result"
        }
      ],
      "source": [
        "x_train.shape"
      ]
    },
    {
      "cell_type": "markdown",
      "metadata": {
        "id": "bP9VcO0Krzxg"
      },
      "source": [
        "### TF Lite model\n",
        "\n",
        "The TF Lite model is the main model to be used. This is where compression happens and thus also makes it important to test once again after compression. Once done, it's transformed into a CPP file to be implemented into pico-tfmicro."
      ]
    },
    {
      "cell_type": "code",
      "execution_count": 36,
      "metadata": {
        "colab": {
          "base_uri": "https://localhost:8080/"
        },
        "id": "NY57t7EwCW8P",
        "outputId": "b972b38d-b543-4443-9c72-03223e3d4cf9"
      },
      "outputs": [
        {
          "name": "stdout",
          "output_type": "stream",
          "text": [
            "INFO:tensorflow:Assets written to: /tmp/tmphbrkhs9g/assets\n"
          ]
        },
        {
          "name": "stderr",
          "output_type": "stream",
          "text": [
            "INFO:tensorflow:Assets written to: /tmp/tmphbrkhs9g/assets\n"
          ]
        },
        {
          "name": "stdout",
          "output_type": "stream",
          "text": [
            "Saved artifact at '/tmp/tmphbrkhs9g'. The following endpoints are available:\n",
            "\n",
            "* Endpoint 'serve'\n",
            "  args_0 (POSITIONAL_ONLY): TensorSpec(shape=(None, 16, 8, 1), dtype=tf.float32, name='keras_tensor')\n",
            "Output Type:\n",
            "  TensorSpec(shape=(None, 4), dtype=tf.float32, name=None)\n",
            "Captures:\n",
            "  136698058893344: TensorSpec(shape=(), dtype=tf.resource, name=None)\n",
            "  136698058898272: TensorSpec(shape=(), dtype=tf.resource, name=None)\n",
            "  136698057137088: TensorSpec(shape=(), dtype=tf.resource, name=None)\n",
            "  136698057137792: TensorSpec(shape=(), dtype=tf.resource, name=None)\n",
            "  136698057132688: TensorSpec(shape=(), dtype=tf.resource, name=None)\n",
            "  136698057134976: TensorSpec(shape=(), dtype=tf.resource, name=None)\n",
            "  136698057135680: TensorSpec(shape=(), dtype=tf.resource, name=None)\n",
            "  136698057138672: TensorSpec(shape=(), dtype=tf.resource, name=None)\n",
            "  136698057139024: TensorSpec(shape=(), dtype=tf.resource, name=None)\n",
            "  136698057140608: TensorSpec(shape=(), dtype=tf.resource, name=None)\n",
            "  136698057139200: TensorSpec(shape=(), dtype=tf.resource, name=None)\n",
            "  136698057140960: TensorSpec(shape=(), dtype=tf.resource, name=None)\n",
            "  136698057138848: TensorSpec(shape=(), dtype=tf.resource, name=None)\n",
            "  136698057143072: TensorSpec(shape=(), dtype=tf.resource, name=None)\n",
            "  136698057145360: TensorSpec(shape=(), dtype=tf.resource, name=None)\n",
            "  136698057143424: TensorSpec(shape=(), dtype=tf.resource, name=None)\n",
            "  136698057143248: TensorSpec(shape=(), dtype=tf.resource, name=None)\n",
            "  136698057144480: TensorSpec(shape=(), dtype=tf.resource, name=None)\n",
            "  136698057145536: TensorSpec(shape=(), dtype=tf.resource, name=None)\n",
            "  136698057182192: TensorSpec(shape=(), dtype=tf.resource, name=None)\n",
            "  136698057181136: TensorSpec(shape=(), dtype=tf.resource, name=None)\n",
            "  136698057183248: TensorSpec(shape=(), dtype=tf.resource, name=None)\n",
            "  136698057183072: TensorSpec(shape=(), dtype=tf.resource, name=None)\n",
            "  136698057182720: TensorSpec(shape=(), dtype=tf.resource, name=None)\n",
            "  136698057182544: TensorSpec(shape=(), dtype=tf.resource, name=None)\n",
            "  136698057184656: TensorSpec(shape=(), dtype=tf.resource, name=None)\n",
            "  136698057185008: TensorSpec(shape=(), dtype=tf.resource, name=None)\n",
            "  136698057186592: TensorSpec(shape=(), dtype=tf.resource, name=None)\n",
            "  136698057185184: TensorSpec(shape=(), dtype=tf.resource, name=None)\n",
            "  136698057186944: TensorSpec(shape=(), dtype=tf.resource, name=None)\n",
            "  136698057186768: TensorSpec(shape=(), dtype=tf.resource, name=None)\n",
            "  136698057189056: TensorSpec(shape=(), dtype=tf.resource, name=None)\n",
            "  136698057189408: TensorSpec(shape=(), dtype=tf.resource, name=None)\n",
            "  136698057190992: TensorSpec(shape=(), dtype=tf.resource, name=None)\n",
            "  136698057189584: TensorSpec(shape=(), dtype=tf.resource, name=None)\n",
            "  136698057191344: TensorSpec(shape=(), dtype=tf.resource, name=None)\n",
            "  136698057193456: TensorSpec(shape=(), dtype=tf.resource, name=None)\n",
            "  136698057194160: TensorSpec(shape=(), dtype=tf.resource, name=None)\n",
            "  136698057195216: TensorSpec(shape=(), dtype=tf.resource, name=None)\n",
            "  136698057190112: TensorSpec(shape=(), dtype=tf.resource, name=None)\n",
            "  136698057263760: TensorSpec(shape=(), dtype=tf.resource, name=None)\n",
            "  136698057263936: TensorSpec(shape=(), dtype=tf.resource, name=None)\n",
            "  136698057263584: TensorSpec(shape=(), dtype=tf.resource, name=None)\n",
            "  136698057263056: TensorSpec(shape=(), dtype=tf.resource, name=None)\n",
            "  136698057267280: TensorSpec(shape=(), dtype=tf.resource, name=None)\n",
            "  136698057263408: TensorSpec(shape=(), dtype=tf.resource, name=None)\n",
            "  136698057265696: TensorSpec(shape=(), dtype=tf.resource, name=None)\n",
            "  136698057268336: TensorSpec(shape=(), dtype=tf.resource, name=None)\n",
            "  136698057262704: TensorSpec(shape=(), dtype=tf.resource, name=None)\n",
            "  136698057267456: TensorSpec(shape=(), dtype=tf.resource, name=None)\n",
            "  136698057271680: TensorSpec(shape=(), dtype=tf.resource, name=None)\n",
            "  136698057269744: TensorSpec(shape=(), dtype=tf.resource, name=None)\n"
          ]
        },
        {
          "name": "stderr",
          "output_type": "stream",
          "text": [
            "/home/fridh/.local/lib/python3.10/site-packages/tensorflow/lite/python/convert.py:997: UserWarning: Statistics for quantized inputs were expected, but not specified; continuing anyway.\n",
            "  warnings.warn(\n",
            "W0000 00:00:1746092219.910310   17991 tf_tfl_flatbuffer_helpers.cc:365] Ignored output_format.\n",
            "W0000 00:00:1746092219.910332   17991 tf_tfl_flatbuffer_helpers.cc:368] Ignored drop_control_dependency.\n",
            "2025-05-01 11:36:59.910723: I tensorflow/cc/saved_model/reader.cc:83] Reading SavedModel from: /tmp/tmphbrkhs9g\n",
            "2025-05-01 11:36:59.913271: I tensorflow/cc/saved_model/reader.cc:52] Reading meta graph with tags { serve }\n",
            "2025-05-01 11:36:59.913288: I tensorflow/cc/saved_model/reader.cc:147] Reading SavedModel debug info (if present) from: /tmp/tmphbrkhs9g\n",
            "I0000 00:00:1746092219.942179   17991 mlir_graph_optimization_pass.cc:401] MLIR V1 optimization pass is not enabled\n",
            "2025-05-01 11:36:59.946379: I tensorflow/cc/saved_model/loader.cc:236] Restoring SavedModel bundle.\n",
            "2025-05-01 11:37:00.089577: I tensorflow/cc/saved_model/loader.cc:220] Running initialization op on SavedModel bundle at path: /tmp/tmphbrkhs9g\n",
            "2025-05-01 11:37:00.127084: I tensorflow/cc/saved_model/loader.cc:466] SavedModel load for tags { serve }; Status: success: OK. Took 216364 microseconds.\n"
          ]
        },
        {
          "name": "stdout",
          "output_type": "stream",
          "text": [
            "TFLite model saved:  final3.tflite\n",
            "File size: 199.609 Kilobytes\n",
            "Input Shape: [ 1 16  8  1]\n",
            "Input Type: <class 'numpy.int8'>\n",
            "Output Shape: [1 4]\n",
            "Output Type: <class 'numpy.int8'>\n"
          ]
        },
        {
          "name": "stderr",
          "output_type": "stream",
          "text": [
            "fully_quantize: 0, inference_type: 6, input_inference_type: INT8, output_inference_type: INT8\n",
            "INFO: Created TensorFlow Lite XNNPACK delegate for CPU.\n"
          ]
        }
      ],
      "source": [
        "# Convert into TFLite model.\n",
        "tf_lite_converter = tf.lite.TFLiteConverter.from_keras_model(model)\n",
        "\n",
        "# Apply optimizations.\n",
        "tf_lite_converter.optimizations = [tf.lite.Optimize.DEFAULT]\n",
        "tf_lite_converter.target_spec.supported_ops = [tf.lite.OpsSet.TFLITE_BUILTINS_INT8]\n",
        "## NOT UINT8 but INT8\n",
        "tf_lite_converter.inference_input_type = tf.int8\n",
        "tf_lite_converter.inference_output_type = tf.int8\n",
        "\n",
        "num_calibration_images = len(x_train)\n",
        "calibration_indexes   = np.random.choice(x_train.shape[0], num_calibration_images, replace=False)\n",
        "def representative_dataset_gen():\n",
        "  for i in range(num_calibration_images):\n",
        "    yield [x_train[calibration_indexes[i: i + 1]].astype(np.float32)]\n",
        "\n",
        "tf_lite_converter.representative_dataset = representative_dataset_gen\n",
        "\n",
        "# Grab model and save it.\n",
        "tflite_model = tf_lite_converter.convert()\n",
        "tflite_model_name = TF_LITE_MODEL_FILE_NAME\n",
        "open(tflite_model_name, \"wb\").write(tflite_model)\n",
        "\n",
        "print(\"TFLite model saved: \", TF_LITE_MODEL_FILE_NAME)\n",
        "convert_bytes(get_file_size(TF_LITE_MODEL_FILE_NAME), \"KB\")\n",
        "\n",
        "# Print model input and output shape for debugging.\n",
        "interpreter = tf.lite.Interpreter(model_path=TF_LITE_MODEL_FILE_NAME)\n",
        "interpreter.allocate_tensors()\n",
        "input_details = interpreter.get_input_details()\n",
        "output_details = interpreter.get_output_details()\n",
        "print(\"Input Shape:\", input_details[0]['shape'])\n",
        "print(\"Input Type:\", input_details[0]['dtype'])\n",
        "print(\"Output Shape:\", output_details[0]['shape'])\n",
        "print(\"Output Type:\", output_details[0]['dtype'])\n",
        "\n",
        "# Evaluate the TFLite model.\n",
        "#x_int8 = np.round((x_test / 3) * 127).astype(np.int8)\n",
        "#evaluate_tflite_model(TF_LITE_MODEL_FILE_NAME, x_int8, y_test)"
      ]
    },
    {
      "cell_type": "code",
      "execution_count": 37,
      "metadata": {},
      "outputs": [
        {
          "name": "stdout",
          "output_type": "stream",
          "text": [
            "Accuracy: 0.8479550219172861\n",
            "              precision    recall  f1-score   support\n",
            "\n",
            "           0       0.98      0.95      0.96    122100\n",
            "           1       0.92      0.77      0.84    117000\n",
            "           2       0.28      0.63      0.39     16800\n",
            "           3       0.74      0.98      0.84      6450\n",
            "\n",
            "    accuracy                           0.85    262350\n",
            "   macro avg       0.73      0.83      0.76    262350\n",
            "weighted avg       0.90      0.85      0.87    262350\n",
            "\n"
          ]
        }
      ],
      "source": [
        "x_int8 = np.round((x_test / 3) * 127).astype(np.int8)\n",
        "evaluate_tflite_model(TF_LITE_MODEL_FILE_NAME, x_int8, y_test)"
      ]
    },
    {
      "cell_type": "code",
      "execution_count": 38,
      "metadata": {},
      "outputs": [
        {
          "data": {
            "image/png": "[encoded data removed]",
            "text/plain": [
              "<Figure size 1000x700 with 2 Axes>"
            ]
          },
          "metadata": {},
          "output_type": "display_data"
        }
      ],
      "source": [
        "# Load the TFLite model.\n",
        "interpreter = tf.lite.Interpreter(model_path=TF_LITE_MODEL_FILE_NAME)\n",
        "interpreter.allocate_tensors()\n",
        "\n",
        "# Get input and output details.\n",
        "input_details = interpreter.get_input_details()\n",
        "output_details = interpreter.get_output_details()\n",
        "\n",
        "# Prepare the test data for inference.\n",
        "x_test_int8 = np.round((x_test / 3) * 127).astype(np.int8)\n",
        "\n",
        "# Perform inference on the test set.\n",
        "y_pred = []\n",
        "for i in range(len(x_test_int8)):\n",
        "    interpreter.set_tensor(input_details[0]['index'], [x_test_int8[i]])\n",
        "    interpreter.invoke()\n",
        "    output_data = interpreter.get_tensor(output_details[0]['index'])\n",
        "    y_pred.append(np.argmax(output_data))\n",
        "\n",
        "# Convert predictions and true labels to integer format.\n",
        "y_true = [np.argmax(label) for label in y_test]\n",
        "\n",
        "# Generate confusion matrix.\n",
        "cm = confusion_matrix(y_true, y_pred)\n",
        "\n",
        "# Normalize the confusion matrix.\n",
        "cm_normalized = cm.astype('float') / cm.sum(axis=1)[:, np.newaxis]\n",
        "\n",
        "# Visualize the normalized confusion matrix.\n",
        "plt.figure(figsize=(10, 7))\n",
        "class_names = np.unique(['Background', 'Car', 'Comm', 'Motorcycle'])\n",
        "sns.heatmap(cm_normalized, annot=True, fmt='.2f', cmap='Blues', xticklabels=class_names, yticklabels=class_names)\n",
        "plt.xlabel('Predicted')\n",
        "plt.ylabel('True')\n",
        "plt.title('Normalized Confusion Matrix for TFLite Model')\n",
        "plt.show()"
      ]
    },
    {
      "cell_type": "code",
      "execution_count": 39,
      "metadata": {
        "id": "cavoNO3Ipgla"
      },
      "outputs": [],
      "source": [
        "# Save the TF Lite model as a C++ array using xxd.\n",
        "# This is required to implement the model using pico-tfmicro.\n",
        "# Note that the file size from this is larger than the tflite file size,\n",
        "# but won't increase the story size of the model when implemented in C++.\n",
        "!xxd -i {TF_LITE_MODEL_FILE_NAME} > {MODEL_NAME}.cpp"
      ]
    }
  ],
  "metadata": {
    "accelerator": "GPU",
    "colab": {
      "provenance": []
    },
    "kernelspec": {
      "display_name": "Python 3",
      "name": "python3"
    },
    "language_info": {
      "codemirror_mode": {
        "name": "ipython",
        "version": 3
      },
      "file_extension": ".py",
      "mimetype": "text/x-python",
      "name": "python",
      "nbconvert_exporter": "python",
      "pygments_lexer": "ipython3",
      "version": "3.10.16"
    }
  },
  "nbformat": 4,
  "nbformat_minor": 0
}
