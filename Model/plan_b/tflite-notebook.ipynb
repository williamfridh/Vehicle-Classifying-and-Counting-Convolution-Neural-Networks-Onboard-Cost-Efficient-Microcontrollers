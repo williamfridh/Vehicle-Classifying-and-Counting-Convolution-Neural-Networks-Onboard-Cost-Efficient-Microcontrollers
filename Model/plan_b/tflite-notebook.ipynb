{
  "cells": [
    {
      "cell_type": "markdown",
      "metadata": {
        "id": "pugnu63W8Iry"
      },
      "source": [
        "Bhavesh Bhatt\n",
        "\n",
        "[**Link to my YouTube Channel**](https://www.youtube.com/BhaveshBhatt8791?sub_confirmation=1)"
      ]
    },
    {
      "cell_type": "markdown",
      "metadata": {
        "id": "4d6YB6Mh93Vc"
      },
      "source": [
        "# Imports"
      ]
    },
    {
      "cell_type": "code",
      "execution_count": 2,
      "metadata": {
        "id": "dzLKpmZICaWN"
      },
      "outputs": [
        {
          "name": "stderr",
          "output_type": "stream",
          "text": [
            "/home/fridh/.local/lib/python3.10/site-packages/matplotlib/projections/__init__.py:63: UserWarning: Unable to import Axes3D. This may be due to multiple versions of Matplotlib being installed (e.g. as a system package and as a pip package). As a result, the 3D projection is not available.\n",
            "  warnings.warn(\"Unable to import Axes3D. This may be due to multiple versions of \"\n",
            "2025-03-17 22:24:06.305721: E external/local_xla/xla/stream_executor/cuda/cuda_fft.cc:477] Unable to register cuFFT factory: Attempting to register factory for plugin cuFFT when one has already been registered\n",
            "WARNING: All log messages before absl::InitializeLog() is called are written to STDERR\n",
            "E0000 00:00:1742246646.422213   10973 cuda_dnn.cc:8310] Unable to register cuDNN factory: Attempting to register factory for plugin cuDNN when one has already been registered\n",
            "E0000 00:00:1742246646.454728   10973 cuda_blas.cc:1418] Unable to register cuBLAS factory: Attempting to register factory for plugin cuBLAS when one has already been registered\n",
            "2025-03-17 22:24:06.732939: I tensorflow/core/platform/cpu_feature_guard.cc:210] This TensorFlow binary is optimized to use available CPU instructions in performance-critical operations.\n",
            "To enable the following instructions: AVX2 FMA, in other operations, rebuild TensorFlow with the appropriate compiler flags.\n"
          ]
        }
      ],
      "source": [
        "import os\n",
        "import numpy as np\n",
        "import h5py\n",
        "import matplotlib.pyplot as plt\n",
        "import tensorflow as tf\n",
        "from tensorflow import keras\n",
        "from tensorflow.keras.layers import Flatten\n",
        "from tensorflow.keras.layers import Dense\n",
        "from tensorflow.keras.losses import SparseCategoricalCrossentropy\n",
        "from sklearn.metrics import accuracy_score\n",
        "from sys import getsizeof"
      ]
    },
    {
      "cell_type": "code",
      "execution_count": 3,
      "metadata": {
        "colab": {
          "base_uri": "https://localhost:8080/"
        },
        "id": "NZKNhx8x_1jq",
        "outputId": "86164e75-9fa4-419b-f086-0c4e893ddcd8"
      },
      "outputs": [
        {
          "name": "stdout",
          "output_type": "stream",
          "text": [
            "2.18.0\n"
          ]
        }
      ],
      "source": [
        "print(tf.__version__)"
      ]
    },
    {
      "cell_type": "markdown",
      "metadata": {
        "id": "2VULHpvbVl0N"
      },
      "source": [
        "# Helper Functions"
      ]
    },
    {
      "cell_type": "code",
      "execution_count": 4,
      "metadata": {
        "id": "ymcbpqPdLJxW"
      },
      "outputs": [],
      "source": [
        "def get_file_size(file_path):\n",
        "    size = os.path.getsize(file_path)\n",
        "    return size"
      ]
    },
    {
      "cell_type": "code",
      "execution_count": 5,
      "metadata": {
        "id": "_vfRLdF_LKUK"
      },
      "outputs": [],
      "source": [
        "def convert_bytes(size, unit=None):\n",
        "    if unit == \"KB\":\n",
        "        return print('File size: ' + str(round(size / 1024, 3)) + ' Kilobytes')\n",
        "    elif unit == \"MB\":\n",
        "        return print('File size: ' + str(round(size / (1024 * 1024), 3)) + ' Megabytes')\n",
        "    else:\n",
        "        return print('File size: ' + str(size) + ' bytes')"
      ]
    },
    {
      "cell_type": "markdown",
      "metadata": {},
      "source": [
        "# Importa Data"
      ]
    },
    {
      "cell_type": "code",
      "execution_count": 6,
      "metadata": {},
      "outputs": [],
      "source": [
        "import  pandas as pd\n",
        "\n",
        "df = pd.read_csv(\"../output_frames.csv\", header=None)              # No header in your format\n",
        "dataset = df.iloc[:, :-1].to_numpy(dtype=np.float16)            # All but last column as float16\n",
        "labels_set = df.iloc[:, -1].to_numpy(dtype=str)                 # Last column as string"
      ]
    },
    {
      "cell_type": "code",
      "execution_count": 7,
      "metadata": {},
      "outputs": [
        {
          "name": "stdout",
          "output_type": "stream",
          "text": [
            "Dataset shape: (583554, 25, 16)\n",
            "Labels shape: (583554,)\n",
            "Input shape: (25, 16)\n"
          ]
        }
      ],
      "source": [
        "dataset = dataset.reshape(dataset.shape[0], 25, 16)\n",
        "input_shape = dataset[0].shape\n",
        "\n",
        "print(f\"Dataset shape: {dataset.shape}\")\n",
        "print(f\"Labels shape: {labels_set.shape}\")\n",
        "print(f\"Input shape: {input_shape}\")"
      ]
    },
    {
      "cell_type": "code",
      "execution_count": 8,
      "metadata": {},
      "outputs": [
        {
          "name": "stdout",
          "output_type": "stream",
          "text": [
            "Training set length: 373474\n",
            "Validation set length: 93369\n",
            "Testing set length: 116711\n"
          ]
        }
      ],
      "source": [
        "from sklearn.model_selection import train_test_split\n",
        "\n",
        "x_train, x_test, y_train, y_test = train_test_split(dataset, labels_set, test_size=0.2, random_state=42, stratify=labels_set)\n",
        "x_train, x_val, y_train, y_val = train_test_split(x_train, y_train, test_size=0.2, random_state=42, stratify=y_train)\n",
        "\n",
        "# Print the lengths of the training, validation, and testing sets.\n",
        "print(f\"Training set length: {len(x_train)}\")\n",
        "print(f\"Validation set length: {len(x_val)}\")\n",
        "print(f\"Testing set length: {len(x_test)}\")"
      ]
    },
    {
      "cell_type": "code",
      "execution_count": 9,
      "metadata": {},
      "outputs": [],
      "source": [
        "from sklearn.utils.class_weight import compute_class_weight\n",
        "\n",
        "# Calculate class weights.\n",
        "class_weight = compute_class_weight('balanced', classes=np.unique(y_train), y=y_train)\n",
        "dist_class_weight = dict(enumerate(class_weight))"
      ]
    },
    {
      "cell_type": "code",
      "execution_count": 10,
      "metadata": {},
      "outputs": [],
      "source": [
        "from sklearn.preprocessing import LabelEncoder\n",
        "from tensorflow.keras.utils import to_categorical\n",
        "\n",
        "# Hot end code the labels.\n",
        "label_encoder = LabelEncoder()\n",
        "y_train = to_categorical(label_encoder.fit_transform(y_train))\n",
        "y_test = to_categorical(label_encoder.fit_transform(y_test))\n",
        "y_val = to_categorical(label_encoder.fit_transform(y_val))"
      ]
    },
    {
      "cell_type": "markdown",
      "metadata": {
        "id": "59veuiEZCaW4"
      },
      "source": [
        "## Build & Compile the model\n"
      ]
    },
    {
      "cell_type": "code",
      "execution_count": 11,
      "metadata": {
        "id": "9ODch-OFCaW4"
      },
      "outputs": [
        {
          "name": "stderr",
          "output_type": "stream",
          "text": [
            "I0000 00:00:1742246680.901572   10973 gpu_device.cc:2022] Created device /job:localhost/replica:0/task:0/device:GPU:0 with 4623 MB memory:  -> device: 0, name: NVIDIA GeForce RTX 2070 SUPER, pci bus id: 0000:09:00.0, compute capability: 7.5\n"
          ]
        }
      ],
      "source": [
        "from tensorflow.keras.layers import Conv2D\n",
        "from tensorflow.keras.layers import MaxPooling2D\n",
        "from tensorflow.keras.layers import BatchNormalization\n",
        "from tensorflow.keras.layers import Dropout\n",
        "from tensorflow.keras.layers import InputLayer\n",
        "from tensorflow.keras.layers import SeparableConv1D\n",
        "from tensorflow.keras.layers import GlobalAveragePooling1D\n",
        "from tensorflow.keras.regularizers import l2\n",
        "\n",
        "model = keras.Sequential([\n",
        "    InputLayer(shape=input_shape),  # 25 frames, 16 channels\n",
        "\n",
        "    SeparableConv1D(filters=256, kernel_size=5, activation=\"swish\", padding='same'),\n",
        "    BatchNormalization(),\n",
        "    SeparableConv1D(filters=512, kernel_size=5, activation=\"swish\", padding='same'),\n",
        "    BatchNormalization(),\n",
        "    SeparableConv1D(filters=512, kernel_size=5, activation=\"swish\", padding='same'),\n",
        "    BatchNormalization(),\n",
        "    SeparableConv1D(filters=1024, kernel_size=5, activation=\"swish\", padding='same'),\n",
        "\n",
        "    # Feature Pooling (Combining Max & Average Pooling)\n",
        "    GlobalAveragePooling1D(),\n",
        "\n",
        "    # Fully Connected Layer\n",
        "    Dense(64, activation=\"swish\", kernel_regularizer=l2(0.001)),\n",
        "    Dropout(0.4),  # Dropout slightly reduced for stability\n",
        "\n",
        "    # Output Layer (Softmax for multi-class classification)\n",
        "    Dense(units=len(np.unique(labels_set)))\n",
        "])"
      ]
    },
    {
      "cell_type": "code",
      "execution_count": 12,
      "metadata": {
        "colab": {
          "base_uri": "https://localhost:8080/"
        },
        "id": "NdOHE8CLNV1_",
        "outputId": "2abb88ee-6108-4a55-de69-1c910d6b1e56"
      },
      "outputs": [
        {
          "data": {
            "text/html": [
              "<pre style=\"white-space:pre;overflow-x:auto;line-height:normal;font-family:Menlo,'DejaVu Sans Mono',consolas,'Courier New',monospace\"><span style=\"font-weight: bold\">Model: \"sequential\"</span>\n",
              "</pre>\n"
            ],
            "text/plain": [
              "\u001b[1mModel: \"sequential\"\u001b[0m\n"
            ]
          },
          "metadata": {},
          "output_type": "display_data"
        },
        {
          "data": {
            "text/html": [
              "<pre style=\"white-space:pre;overflow-x:auto;line-height:normal;font-family:Menlo,'DejaVu Sans Mono',consolas,'Courier New',monospace\">┏━━━━━━━━━━━━━━━━━━━━━━━━━━━━━━━━━┳━━━━━━━━━━━━━━━━━━━━━━━━┳━━━━━━━━━━━━━━━┓\n",
              "┃<span style=\"font-weight: bold\"> Layer (type)                    </span>┃<span style=\"font-weight: bold\"> Output Shape           </span>┃<span style=\"font-weight: bold\">       Param # </span>┃\n",
              "┡━━━━━━━━━━━━━━━━━━━━━━━━━━━━━━━━━╇━━━━━━━━━━━━━━━━━━━━━━━━╇━━━━━━━━━━━━━━━┩\n",
              "│ separable_conv1d                │ (<span style=\"color: #00d7ff; text-decoration-color: #00d7ff\">None</span>, <span style=\"color: #00af00; text-decoration-color: #00af00\">25</span>, <span style=\"color: #00af00; text-decoration-color: #00af00\">256</span>)        │         <span style=\"color: #00af00; text-decoration-color: #00af00\">4,432</span> │\n",
              "│ (<span style=\"color: #0087ff; text-decoration-color: #0087ff\">SeparableConv1D</span>)               │                        │               │\n",
              "├─────────────────────────────────┼────────────────────────┼───────────────┤\n",
              "│ batch_normalization             │ (<span style=\"color: #00d7ff; text-decoration-color: #00d7ff\">None</span>, <span style=\"color: #00af00; text-decoration-color: #00af00\">25</span>, <span style=\"color: #00af00; text-decoration-color: #00af00\">256</span>)        │         <span style=\"color: #00af00; text-decoration-color: #00af00\">1,024</span> │\n",
              "│ (<span style=\"color: #0087ff; text-decoration-color: #0087ff\">BatchNormalization</span>)            │                        │               │\n",
              "├─────────────────────────────────┼────────────────────────┼───────────────┤\n",
              "│ separable_conv1d_1              │ (<span style=\"color: #00d7ff; text-decoration-color: #00d7ff\">None</span>, <span style=\"color: #00af00; text-decoration-color: #00af00\">25</span>, <span style=\"color: #00af00; text-decoration-color: #00af00\">512</span>)        │       <span style=\"color: #00af00; text-decoration-color: #00af00\">132,864</span> │\n",
              "│ (<span style=\"color: #0087ff; text-decoration-color: #0087ff\">SeparableConv1D</span>)               │                        │               │\n",
              "├─────────────────────────────────┼────────────────────────┼───────────────┤\n",
              "│ batch_normalization_1           │ (<span style=\"color: #00d7ff; text-decoration-color: #00d7ff\">None</span>, <span style=\"color: #00af00; text-decoration-color: #00af00\">25</span>, <span style=\"color: #00af00; text-decoration-color: #00af00\">512</span>)        │         <span style=\"color: #00af00; text-decoration-color: #00af00\">2,048</span> │\n",
              "│ (<span style=\"color: #0087ff; text-decoration-color: #0087ff\">BatchNormalization</span>)            │                        │               │\n",
              "├─────────────────────────────────┼────────────────────────┼───────────────┤\n",
              "│ separable_conv1d_2              │ (<span style=\"color: #00d7ff; text-decoration-color: #00d7ff\">None</span>, <span style=\"color: #00af00; text-decoration-color: #00af00\">25</span>, <span style=\"color: #00af00; text-decoration-color: #00af00\">512</span>)        │       <span style=\"color: #00af00; text-decoration-color: #00af00\">265,216</span> │\n",
              "│ (<span style=\"color: #0087ff; text-decoration-color: #0087ff\">SeparableConv1D</span>)               │                        │               │\n",
              "├─────────────────────────────────┼────────────────────────┼───────────────┤\n",
              "│ batch_normalization_2           │ (<span style=\"color: #00d7ff; text-decoration-color: #00d7ff\">None</span>, <span style=\"color: #00af00; text-decoration-color: #00af00\">25</span>, <span style=\"color: #00af00; text-decoration-color: #00af00\">512</span>)        │         <span style=\"color: #00af00; text-decoration-color: #00af00\">2,048</span> │\n",
              "│ (<span style=\"color: #0087ff; text-decoration-color: #0087ff\">BatchNormalization</span>)            │                        │               │\n",
              "├─────────────────────────────────┼────────────────────────┼───────────────┤\n",
              "│ separable_conv1d_3              │ (<span style=\"color: #00d7ff; text-decoration-color: #00d7ff\">None</span>, <span style=\"color: #00af00; text-decoration-color: #00af00\">25</span>, <span style=\"color: #00af00; text-decoration-color: #00af00\">1024</span>)       │       <span style=\"color: #00af00; text-decoration-color: #00af00\">527,872</span> │\n",
              "│ (<span style=\"color: #0087ff; text-decoration-color: #0087ff\">SeparableConv1D</span>)               │                        │               │\n",
              "├─────────────────────────────────┼────────────────────────┼───────────────┤\n",
              "│ global_average_pooling1d        │ (<span style=\"color: #00d7ff; text-decoration-color: #00d7ff\">None</span>, <span style=\"color: #00af00; text-decoration-color: #00af00\">1024</span>)           │             <span style=\"color: #00af00; text-decoration-color: #00af00\">0</span> │\n",
              "│ (<span style=\"color: #0087ff; text-decoration-color: #0087ff\">GlobalAveragePooling1D</span>)        │                        │               │\n",
              "├─────────────────────────────────┼────────────────────────┼───────────────┤\n",
              "│ dense (<span style=\"color: #0087ff; text-decoration-color: #0087ff\">Dense</span>)                   │ (<span style=\"color: #00d7ff; text-decoration-color: #00d7ff\">None</span>, <span style=\"color: #00af00; text-decoration-color: #00af00\">64</span>)             │        <span style=\"color: #00af00; text-decoration-color: #00af00\">65,600</span> │\n",
              "├─────────────────────────────────┼────────────────────────┼───────────────┤\n",
              "│ dropout (<span style=\"color: #0087ff; text-decoration-color: #0087ff\">Dropout</span>)               │ (<span style=\"color: #00d7ff; text-decoration-color: #00d7ff\">None</span>, <span style=\"color: #00af00; text-decoration-color: #00af00\">64</span>)             │             <span style=\"color: #00af00; text-decoration-color: #00af00\">0</span> │\n",
              "├─────────────────────────────────┼────────────────────────┼───────────────┤\n",
              "│ dense_1 (<span style=\"color: #0087ff; text-decoration-color: #0087ff\">Dense</span>)                 │ (<span style=\"color: #00d7ff; text-decoration-color: #00d7ff\">None</span>, <span style=\"color: #00af00; text-decoration-color: #00af00\">5</span>)              │           <span style=\"color: #00af00; text-decoration-color: #00af00\">325</span> │\n",
              "└─────────────────────────────────┴────────────────────────┴───────────────┘\n",
              "</pre>\n"
            ],
            "text/plain": [
              "┏━━━━━━━━━━━━━━━━━━━━━━━━━━━━━━━━━┳━━━━━━━━━━━━━━━━━━━━━━━━┳━━━━━━━━━━━━━━━┓\n",
              "┃\u001b[1m \u001b[0m\u001b[1mLayer (type)                   \u001b[0m\u001b[1m \u001b[0m┃\u001b[1m \u001b[0m\u001b[1mOutput Shape          \u001b[0m\u001b[1m \u001b[0m┃\u001b[1m \u001b[0m\u001b[1m      Param #\u001b[0m\u001b[1m \u001b[0m┃\n",
              "┡━━━━━━━━━━━━━━━━━━━━━━━━━━━━━━━━━╇━━━━━━━━━━━━━━━━━━━━━━━━╇━━━━━━━━━━━━━━━┩\n",
              "│ separable_conv1d                │ (\u001b[38;5;45mNone\u001b[0m, \u001b[38;5;34m25\u001b[0m, \u001b[38;5;34m256\u001b[0m)        │         \u001b[38;5;34m4,432\u001b[0m │\n",
              "│ (\u001b[38;5;33mSeparableConv1D\u001b[0m)               │                        │               │\n",
              "├─────────────────────────────────┼────────────────────────┼───────────────┤\n",
              "│ batch_normalization             │ (\u001b[38;5;45mNone\u001b[0m, \u001b[38;5;34m25\u001b[0m, \u001b[38;5;34m256\u001b[0m)        │         \u001b[38;5;34m1,024\u001b[0m │\n",
              "│ (\u001b[38;5;33mBatchNormalization\u001b[0m)            │                        │               │\n",
              "├─────────────────────────────────┼────────────────────────┼───────────────┤\n",
              "│ separable_conv1d_1              │ (\u001b[38;5;45mNone\u001b[0m, \u001b[38;5;34m25\u001b[0m, \u001b[38;5;34m512\u001b[0m)        │       \u001b[38;5;34m132,864\u001b[0m │\n",
              "│ (\u001b[38;5;33mSeparableConv1D\u001b[0m)               │                        │               │\n",
              "├─────────────────────────────────┼────────────────────────┼───────────────┤\n",
              "│ batch_normalization_1           │ (\u001b[38;5;45mNone\u001b[0m, \u001b[38;5;34m25\u001b[0m, \u001b[38;5;34m512\u001b[0m)        │         \u001b[38;5;34m2,048\u001b[0m │\n",
              "│ (\u001b[38;5;33mBatchNormalization\u001b[0m)            │                        │               │\n",
              "├─────────────────────────────────┼────────────────────────┼───────────────┤\n",
              "│ separable_conv1d_2              │ (\u001b[38;5;45mNone\u001b[0m, \u001b[38;5;34m25\u001b[0m, \u001b[38;5;34m512\u001b[0m)        │       \u001b[38;5;34m265,216\u001b[0m │\n",
              "│ (\u001b[38;5;33mSeparableConv1D\u001b[0m)               │                        │               │\n",
              "├─────────────────────────────────┼────────────────────────┼───────────────┤\n",
              "│ batch_normalization_2           │ (\u001b[38;5;45mNone\u001b[0m, \u001b[38;5;34m25\u001b[0m, \u001b[38;5;34m512\u001b[0m)        │         \u001b[38;5;34m2,048\u001b[0m │\n",
              "│ (\u001b[38;5;33mBatchNormalization\u001b[0m)            │                        │               │\n",
              "├─────────────────────────────────┼────────────────────────┼───────────────┤\n",
              "│ separable_conv1d_3              │ (\u001b[38;5;45mNone\u001b[0m, \u001b[38;5;34m25\u001b[0m, \u001b[38;5;34m1024\u001b[0m)       │       \u001b[38;5;34m527,872\u001b[0m │\n",
              "│ (\u001b[38;5;33mSeparableConv1D\u001b[0m)               │                        │               │\n",
              "├─────────────────────────────────┼────────────────────────┼───────────────┤\n",
              "│ global_average_pooling1d        │ (\u001b[38;5;45mNone\u001b[0m, \u001b[38;5;34m1024\u001b[0m)           │             \u001b[38;5;34m0\u001b[0m │\n",
              "│ (\u001b[38;5;33mGlobalAveragePooling1D\u001b[0m)        │                        │               │\n",
              "├─────────────────────────────────┼────────────────────────┼───────────────┤\n",
              "│ dense (\u001b[38;5;33mDense\u001b[0m)                   │ (\u001b[38;5;45mNone\u001b[0m, \u001b[38;5;34m64\u001b[0m)             │        \u001b[38;5;34m65,600\u001b[0m │\n",
              "├─────────────────────────────────┼────────────────────────┼───────────────┤\n",
              "│ dropout (\u001b[38;5;33mDropout\u001b[0m)               │ (\u001b[38;5;45mNone\u001b[0m, \u001b[38;5;34m64\u001b[0m)             │             \u001b[38;5;34m0\u001b[0m │\n",
              "├─────────────────────────────────┼────────────────────────┼───────────────┤\n",
              "│ dense_1 (\u001b[38;5;33mDense\u001b[0m)                 │ (\u001b[38;5;45mNone\u001b[0m, \u001b[38;5;34m5\u001b[0m)              │           \u001b[38;5;34m325\u001b[0m │\n",
              "└─────────────────────────────────┴────────────────────────┴───────────────┘\n"
            ]
          },
          "metadata": {},
          "output_type": "display_data"
        },
        {
          "data": {
            "text/html": [
              "<pre style=\"white-space:pre;overflow-x:auto;line-height:normal;font-family:Menlo,'DejaVu Sans Mono',consolas,'Courier New',monospace\"><span style=\"font-weight: bold\"> Total params: </span><span style=\"color: #00af00; text-decoration-color: #00af00\">1,001,429</span> (3.82 MB)\n",
              "</pre>\n"
            ],
            "text/plain": [
              "\u001b[1m Total params: \u001b[0m\u001b[38;5;34m1,001,429\u001b[0m (3.82 MB)\n"
            ]
          },
          "metadata": {},
          "output_type": "display_data"
        },
        {
          "data": {
            "text/html": [
              "<pre style=\"white-space:pre;overflow-x:auto;line-height:normal;font-family:Menlo,'DejaVu Sans Mono',consolas,'Courier New',monospace\"><span style=\"font-weight: bold\"> Trainable params: </span><span style=\"color: #00af00; text-decoration-color: #00af00\">998,869</span> (3.81 MB)\n",
              "</pre>\n"
            ],
            "text/plain": [
              "\u001b[1m Trainable params: \u001b[0m\u001b[38;5;34m998,869\u001b[0m (3.81 MB)\n"
            ]
          },
          "metadata": {},
          "output_type": "display_data"
        },
        {
          "data": {
            "text/html": [
              "<pre style=\"white-space:pre;overflow-x:auto;line-height:normal;font-family:Menlo,'DejaVu Sans Mono',consolas,'Courier New',monospace\"><span style=\"font-weight: bold\"> Non-trainable params: </span><span style=\"color: #00af00; text-decoration-color: #00af00\">2,560</span> (10.00 KB)\n",
              "</pre>\n"
            ],
            "text/plain": [
              "\u001b[1m Non-trainable params: \u001b[0m\u001b[38;5;34m2,560\u001b[0m (10.00 KB)\n"
            ]
          },
          "metadata": {},
          "output_type": "display_data"
        }
      ],
      "source": [
        "model.summary()"
      ]
    },
    {
      "cell_type": "code",
      "execution_count": 13,
      "metadata": {
        "id": "Lhan11blCaW7"
      },
      "outputs": [],
      "source": [
        "model.compile(\n",
        "    optimizer=tf.keras.optimizers.Adam(learning_rate=0.001),\n",
        "    loss = tf.keras.losses.CategoricalCrossentropy(from_logits=True),\n",
        "    metrics=['categorical_accuracy']\n",
        ")"
      ]
    },
    {
      "cell_type": "code",
      "execution_count": 99,
      "metadata": {
        "colab": {
          "base_uri": "https://localhost:8080/"
        },
        "id": "xvwvpA64CaW_",
        "outputId": "57f84401-626e-4ec8-e461-b29068d30052"
      },
      "outputs": [
        {
          "name": "stdout",
          "output_type": "stream",
          "text": [
            "Epoch 1/64\n",
            "\u001b[1m11672/11672\u001b[0m \u001b[32m━━━━━━━━━━━━━━━━━━━━\u001b[0m\u001b[37m\u001b[0m \u001b[1m74s\u001b[0m 6ms/step - categorical_accuracy: 0.5550 - loss: 0.9592 - val_categorical_accuracy: 0.5680 - val_loss: 1.0472\n",
            "Epoch 2/64\n",
            "\u001b[1m11672/11672\u001b[0m \u001b[32m━━━━━━━━━━━━━━━━━━━━\u001b[0m\u001b[37m\u001b[0m \u001b[1m73s\u001b[0m 6ms/step - categorical_accuracy: 0.5883 - loss: 0.9105 - val_categorical_accuracy: 0.5785 - val_loss: 1.0361\n",
            "Epoch 3/64\n",
            "\u001b[1m11672/11672\u001b[0m \u001b[32m━━━━━━━━━━━━━━━━━━━━\u001b[0m\u001b[37m\u001b[0m \u001b[1m73s\u001b[0m 6ms/step - categorical_accuracy: 0.6143 - loss: 0.8683 - val_categorical_accuracy: 0.6036 - val_loss: 0.9890\n",
            "Epoch 4/64\n",
            "\u001b[1m11672/11672\u001b[0m \u001b[32m━━━━━━━━━━━━━━━━━━━━\u001b[0m\u001b[37m\u001b[0m \u001b[1m74s\u001b[0m 6ms/step - categorical_accuracy: 0.6399 - loss: 0.8299 - val_categorical_accuracy: 0.6242 - val_loss: 0.9541\n",
            "Epoch 5/64\n",
            "\u001b[1m11672/11672\u001b[0m \u001b[32m━━━━━━━━━━━━━━━━━━━━\u001b[0m\u001b[37m\u001b[0m \u001b[1m74s\u001b[0m 6ms/step - categorical_accuracy: 0.6609 - loss: 0.7948 - val_categorical_accuracy: 0.6312 - val_loss: 0.9532\n",
            "Epoch 6/64\n",
            "\u001b[1m11672/11672\u001b[0m \u001b[32m━━━━━━━━━━━━━━━━━━━━\u001b[0m\u001b[37m\u001b[0m \u001b[1m74s\u001b[0m 6ms/step - categorical_accuracy: 0.6825 - loss: 0.7570 - val_categorical_accuracy: 0.6320 - val_loss: 0.9504\n",
            "Epoch 7/64\n",
            "\u001b[1m11672/11672\u001b[0m \u001b[32m━━━━━━━━━━━━━━━━━━━━\u001b[0m\u001b[37m\u001b[0m \u001b[1m73s\u001b[0m 6ms/step - categorical_accuracy: 0.7003 - loss: 0.7265 - val_categorical_accuracy: 0.6468 - val_loss: 0.9289\n",
            "Epoch 8/64\n",
            "\u001b[1m11672/11672\u001b[0m \u001b[32m━━━━━━━━━━━━━━━━━━━━\u001b[0m\u001b[37m\u001b[0m \u001b[1m74s\u001b[0m 6ms/step - categorical_accuracy: 0.7184 - loss: 0.6944 - val_categorical_accuracy: 0.6582 - val_loss: 0.9098\n",
            "Epoch 9/64\n",
            "\u001b[1m11672/11672\u001b[0m \u001b[32m━━━━━━━━━━━━━━━━━━━━\u001b[0m\u001b[37m\u001b[0m \u001b[1m72s\u001b[0m 6ms/step - categorical_accuracy: 0.7335 - loss: 0.6667 - val_categorical_accuracy: 0.6616 - val_loss: 0.9175\n",
            "Epoch 10/64\n",
            "\u001b[1m11672/11672\u001b[0m \u001b[32m━━━━━━━━━━━━━━━━━━━━\u001b[0m\u001b[37m\u001b[0m \u001b[1m73s\u001b[0m 6ms/step - categorical_accuracy: 0.7482 - loss: 0.6416 - val_categorical_accuracy: 0.6734 - val_loss: 0.8888\n",
            "Epoch 11/64\n",
            "\u001b[1m11672/11672\u001b[0m \u001b[32m━━━━━━━━━━━━━━━━━━━━\u001b[0m\u001b[37m\u001b[0m \u001b[1m73s\u001b[0m 6ms/step - categorical_accuracy: 0.7606 - loss: 0.6181 - val_categorical_accuracy: 0.6694 - val_loss: 0.9079\n",
            "Epoch 12/64\n",
            "\u001b[1m11672/11672\u001b[0m \u001b[32m━━━━━━━━━━━━━━━━━━━━\u001b[0m\u001b[37m\u001b[0m \u001b[1m73s\u001b[0m 6ms/step - categorical_accuracy: 0.7705 - loss: 0.5977 - val_categorical_accuracy: 0.6778 - val_loss: 0.8854\n",
            "Epoch 13/64\n",
            "\u001b[1m11672/11672\u001b[0m \u001b[32m━━━━━━━━━━━━━━━━━━━━\u001b[0m\u001b[37m\u001b[0m \u001b[1m73s\u001b[0m 6ms/step - categorical_accuracy: 0.7819 - loss: 0.5776 - val_categorical_accuracy: 0.6788 - val_loss: 0.9036\n",
            "Epoch 14/64\n",
            "\u001b[1m11672/11672\u001b[0m \u001b[32m━━━━━━━━━━━━━━━━━━━━\u001b[0m\u001b[37m\u001b[0m \u001b[1m73s\u001b[0m 6ms/step - categorical_accuracy: 0.7916 - loss: 0.5600 - val_categorical_accuracy: 0.6806 - val_loss: 0.9153\n",
            "Epoch 15/64\n",
            "\u001b[1m11672/11672\u001b[0m \u001b[32m━━━━━━━━━━━━━━━━━━━━\u001b[0m\u001b[37m\u001b[0m \u001b[1m72s\u001b[0m 6ms/step - categorical_accuracy: 0.7984 - loss: 0.5464 - val_categorical_accuracy: 0.6868 - val_loss: 0.8901\n",
            "Epoch 16/64\n",
            "\u001b[1m11672/11672\u001b[0m \u001b[32m━━━━━━━━━━━━━━━━━━━━\u001b[0m\u001b[37m\u001b[0m \u001b[1m73s\u001b[0m 6ms/step - categorical_accuracy: 0.8058 - loss: 0.5298 - val_categorical_accuracy: 0.6754 - val_loss: 0.9463\n",
            "Epoch 17/64\n",
            "\u001b[1m11672/11672\u001b[0m \u001b[32m━━━━━━━━━━━━━━━━━━━━\u001b[0m\u001b[37m\u001b[0m \u001b[1m74s\u001b[0m 6ms/step - categorical_accuracy: 0.8119 - loss: 0.5173 - val_categorical_accuracy: 0.6903 - val_loss: 0.9124\n",
            "Epoch 18/64\n",
            "\u001b[1m11672/11672\u001b[0m \u001b[32m━━━━━━━━━━━━━━━━━━━━\u001b[0m\u001b[37m\u001b[0m \u001b[1m74s\u001b[0m 6ms/step - categorical_accuracy: 0.8204 - loss: 0.5022 - val_categorical_accuracy: 0.6829 - val_loss: 0.9323\n",
            "Epoch 19/64\n",
            "\u001b[1m11672/11672\u001b[0m \u001b[32m━━━━━━━━━━━━━━━━━━━━\u001b[0m\u001b[37m\u001b[0m \u001b[1m74s\u001b[0m 6ms/step - categorical_accuracy: 0.8270 - loss: 0.4881 - val_categorical_accuracy: 0.6853 - val_loss: 0.9233\n",
            "Epoch 20/64\n",
            "\u001b[1m11672/11672\u001b[0m \u001b[32m━━━━━━━━━━━━━━━━━━━━\u001b[0m\u001b[37m\u001b[0m \u001b[1m73s\u001b[0m 6ms/step - categorical_accuracy: 0.8335 - loss: 0.4742 - val_categorical_accuracy: 0.6935 - val_loss: 0.9480\n",
            "Epoch 21/64\n",
            "\u001b[1m11672/11672\u001b[0m \u001b[32m━━━━━━━━━━━━━━━━━━━━\u001b[0m\u001b[37m\u001b[0m \u001b[1m73s\u001b[0m 6ms/step - categorical_accuracy: 0.8369 - loss: 0.4666 - val_categorical_accuracy: 0.6900 - val_loss: 0.9355\n",
            "Epoch 22/64\n",
            "\u001b[1m11672/11672\u001b[0m \u001b[32m━━━━━━━━━━━━━━━━━━━━\u001b[0m\u001b[37m\u001b[0m \u001b[1m74s\u001b[0m 6ms/step - categorical_accuracy: 0.8441 - loss: 0.4541 - val_categorical_accuracy: 0.6930 - val_loss: 0.9350\n",
            "Epoch 23/64\n",
            "\u001b[1m11672/11672\u001b[0m \u001b[32m━━━━━━━━━━━━━━━━━━━━\u001b[0m\u001b[37m\u001b[0m \u001b[1m74s\u001b[0m 6ms/step - categorical_accuracy: 0.8423 - loss: 0.4612 - val_categorical_accuracy: 0.6917 - val_loss: 0.9765\n",
            "Epoch 24/64\n",
            "\u001b[1m11672/11672\u001b[0m \u001b[32m━━━━━━━━━━━━━━━━━━━━\u001b[0m\u001b[37m\u001b[0m \u001b[1m74s\u001b[0m 6ms/step - categorical_accuracy: 0.8503 - loss: 0.4396 - val_categorical_accuracy: 0.6930 - val_loss: 0.9854\n",
            "Epoch 25/64\n",
            "\u001b[1m11672/11672\u001b[0m \u001b[32m━━━━━━━━━━━━━━━━━━━━\u001b[0m\u001b[37m\u001b[0m \u001b[1m74s\u001b[0m 6ms/step - categorical_accuracy: 0.8555 - loss: 0.4306 - val_categorical_accuracy: 0.6975 - val_loss: 0.9434\n",
            "Epoch 26/64\n",
            "\u001b[1m11672/11672\u001b[0m \u001b[32m━━━━━━━━━━━━━━━━━━━━\u001b[0m\u001b[37m\u001b[0m \u001b[1m74s\u001b[0m 6ms/step - categorical_accuracy: 0.8604 - loss: 0.4180 - val_categorical_accuracy: 0.6938 - val_loss: 0.9904\n",
            "Epoch 27/64\n",
            "\u001b[1m11672/11672\u001b[0m \u001b[32m━━━━━━━━━━━━━━━━━━━━\u001b[0m\u001b[37m\u001b[0m \u001b[1m74s\u001b[0m 6ms/step - categorical_accuracy: 0.8619 - loss: 0.4137 - val_categorical_accuracy: 0.6952 - val_loss: 0.9863\n",
            "Epoch 28/64\n",
            "\u001b[1m11672/11672\u001b[0m \u001b[32m━━━━━━━━━━━━━━━━━━━━\u001b[0m\u001b[37m\u001b[0m \u001b[1m74s\u001b[0m 6ms/step - categorical_accuracy: 0.8692 - loss: 0.4008 - val_categorical_accuracy: 0.6980 - val_loss: 0.9790\n",
            "Epoch 29/64\n",
            "\u001b[1m11672/11672\u001b[0m \u001b[32m━━━━━━━━━━━━━━━━━━━━\u001b[0m\u001b[37m\u001b[0m \u001b[1m73s\u001b[0m 6ms/step - categorical_accuracy: 0.8718 - loss: 0.3949 - val_categorical_accuracy: 0.6999 - val_loss: 0.9997\n",
            "Epoch 30/64\n",
            "\u001b[1m11672/11672\u001b[0m \u001b[32m━━━━━━━━━━━━━━━━━━━━\u001b[0m\u001b[37m\u001b[0m \u001b[1m74s\u001b[0m 6ms/step - categorical_accuracy: 0.8733 - loss: 0.3902 - val_categorical_accuracy: 0.6992 - val_loss: 0.9636\n",
            "Epoch 31/64\n",
            "\u001b[1m11672/11672\u001b[0m \u001b[32m━━━━━━━━━━━━━━━━━━━━\u001b[0m\u001b[37m\u001b[0m \u001b[1m74s\u001b[0m 6ms/step - categorical_accuracy: 0.8757 - loss: 0.3850 - val_categorical_accuracy: 0.6971 - val_loss: 1.0470\n",
            "Epoch 32/64\n",
            "\u001b[1m11672/11672\u001b[0m \u001b[32m━━━━━━━━━━━━━━━━━━━━\u001b[0m\u001b[37m\u001b[0m \u001b[1m73s\u001b[0m 6ms/step - categorical_accuracy: 0.8781 - loss: 0.3803 - val_categorical_accuracy: 0.6984 - val_loss: 1.0348\n",
            "Epoch 33/64\n",
            "\u001b[1m11672/11672\u001b[0m \u001b[32m━━━━━━━━━━━━━━━━━━━━\u001b[0m\u001b[37m\u001b[0m \u001b[1m73s\u001b[0m 6ms/step - categorical_accuracy: 0.8813 - loss: 0.3730 - val_categorical_accuracy: 0.7015 - val_loss: 1.0237\n",
            "Epoch 34/64\n",
            "\u001b[1m11672/11672\u001b[0m \u001b[32m━━━━━━━━━━━━━━━━━━━━\u001b[0m\u001b[37m\u001b[0m \u001b[1m73s\u001b[0m 6ms/step - categorical_accuracy: 0.8845 - loss: 0.3654 - val_categorical_accuracy: 0.7034 - val_loss: 1.0369\n",
            "Epoch 35/64\n",
            "\u001b[1m11672/11672\u001b[0m \u001b[32m━━━━━━━━━━━━━━━━━━━━\u001b[0m\u001b[37m\u001b[0m \u001b[1m74s\u001b[0m 6ms/step - categorical_accuracy: 0.8851 - loss: 0.3651 - val_categorical_accuracy: 0.6994 - val_loss: 1.0205\n",
            "Epoch 36/64\n",
            "\u001b[1m11672/11672\u001b[0m \u001b[32m━━━━━━━━━━━━━━━━━━━━\u001b[0m\u001b[37m\u001b[0m \u001b[1m74s\u001b[0m 6ms/step - categorical_accuracy: 0.8897 - loss: 0.3554 - val_categorical_accuracy: 0.6982 - val_loss: 1.0328\n",
            "Epoch 37/64\n",
            "\u001b[1m11672/11672\u001b[0m \u001b[32m━━━━━━━━━━━━━━━━━━━━\u001b[0m\u001b[37m\u001b[0m \u001b[1m74s\u001b[0m 6ms/step - categorical_accuracy: 0.8880 - loss: 0.3606 - val_categorical_accuracy: 0.7063 - val_loss: 1.0447\n",
            "Epoch 38/64\n",
            "\u001b[1m11672/11672\u001b[0m \u001b[32m━━━━━━━━━━━━━━━━━━━━\u001b[0m\u001b[37m\u001b[0m \u001b[1m73s\u001b[0m 6ms/step - categorical_accuracy: 0.8923 - loss: 0.3494 - val_categorical_accuracy: 0.7025 - val_loss: 1.0624\n",
            "Epoch 39/64\n",
            "\u001b[1m11672/11672\u001b[0m \u001b[32m━━━━━━━━━━━━━━━━━━━━\u001b[0m\u001b[37m\u001b[0m \u001b[1m73s\u001b[0m 6ms/step - categorical_accuracy: 0.8961 - loss: 0.3434 - val_categorical_accuracy: 0.7056 - val_loss: 1.0476\n",
            "Epoch 40/64\n",
            "\u001b[1m11672/11672\u001b[0m \u001b[32m━━━━━━━━━━━━━━━━━━━━\u001b[0m\u001b[37m\u001b[0m \u001b[1m74s\u001b[0m 6ms/step - categorical_accuracy: 0.8960 - loss: 0.3414 - val_categorical_accuracy: 0.7016 - val_loss: 1.0567\n",
            "Epoch 41/64\n",
            "\u001b[1m11672/11672\u001b[0m \u001b[32m━━━━━━━━━━━━━━━━━━━━\u001b[0m\u001b[37m\u001b[0m \u001b[1m74s\u001b[0m 6ms/step - categorical_accuracy: 0.8963 - loss: 0.3394 - val_categorical_accuracy: 0.6989 - val_loss: 1.1216\n",
            "Epoch 42/64\n",
            "\u001b[1m11672/11672\u001b[0m \u001b[32m━━━━━━━━━━━━━━━━━━━━\u001b[0m\u001b[37m\u001b[0m \u001b[1m73s\u001b[0m 6ms/step - categorical_accuracy: 0.8984 - loss: 0.3375 - val_categorical_accuracy: 0.7042 - val_loss: 1.0698\n",
            "Epoch 43/64\n",
            "\u001b[1m11672/11672\u001b[0m \u001b[32m━━━━━━━━━━━━━━━━━━━━\u001b[0m\u001b[37m\u001b[0m \u001b[1m74s\u001b[0m 6ms/step - categorical_accuracy: 0.9001 - loss: 0.3319 - val_categorical_accuracy: 0.7053 - val_loss: 1.1307\n",
            "Epoch 44/64\n",
            "\u001b[1m11672/11672\u001b[0m \u001b[32m━━━━━━━━━━━━━━━━━━━━\u001b[0m\u001b[37m\u001b[0m \u001b[1m74s\u001b[0m 6ms/step - categorical_accuracy: 0.9011 - loss: 0.3286 - val_categorical_accuracy: 0.7035 - val_loss: 1.0690\n",
            "Epoch 45/64\n",
            "\u001b[1m11672/11672\u001b[0m \u001b[32m━━━━━━━━━━━━━━━━━━━━\u001b[0m\u001b[37m\u001b[0m \u001b[1m74s\u001b[0m 6ms/step - categorical_accuracy: 0.9052 - loss: 0.3212 - val_categorical_accuracy: 0.7039 - val_loss: 1.0883\n",
            "Epoch 46/64\n",
            "\u001b[1m11672/11672\u001b[0m \u001b[32m━━━━━━━━━━━━━━━━━━━━\u001b[0m\u001b[37m\u001b[0m \u001b[1m74s\u001b[0m 6ms/step - categorical_accuracy: 0.9045 - loss: 0.3221 - val_categorical_accuracy: 0.7017 - val_loss: 1.1433\n",
            "Epoch 47/64\n",
            "\u001b[1m11672/11672\u001b[0m \u001b[32m━━━━━━━━━━━━━━━━━━━━\u001b[0m\u001b[37m\u001b[0m \u001b[1m74s\u001b[0m 6ms/step - categorical_accuracy: 0.9053 - loss: 0.3234 - val_categorical_accuracy: 0.7031 - val_loss: 1.0744\n",
            "Epoch 48/64\n",
            "\u001b[1m11672/11672\u001b[0m \u001b[32m━━━━━━━━━━━━━━━━━━━━\u001b[0m\u001b[37m\u001b[0m \u001b[1m74s\u001b[0m 6ms/step - categorical_accuracy: 0.9098 - loss: 0.3107 - val_categorical_accuracy: 0.7070 - val_loss: 1.1055\n",
            "Epoch 49/64\n",
            "\u001b[1m11672/11672\u001b[0m \u001b[32m━━━━━━━━━━━━━━━━━━━━\u001b[0m\u001b[37m\u001b[0m \u001b[1m75s\u001b[0m 6ms/step - categorical_accuracy: 0.9070 - loss: 0.3177 - val_categorical_accuracy: 0.7035 - val_loss: 1.1367\n",
            "Epoch 50/64\n",
            "\u001b[1m11672/11672\u001b[0m \u001b[32m━━━━━━━━━━━━━━━━━━━━\u001b[0m\u001b[37m\u001b[0m \u001b[1m74s\u001b[0m 6ms/step - categorical_accuracy: 0.9092 - loss: 0.3113 - val_categorical_accuracy: 0.7065 - val_loss: 1.1267\n",
            "Epoch 51/64\n",
            "\u001b[1m11672/11672\u001b[0m \u001b[32m━━━━━━━━━━━━━━━━━━━━\u001b[0m\u001b[37m\u001b[0m \u001b[1m75s\u001b[0m 6ms/step - categorical_accuracy: 0.9128 - loss: 0.3029 - val_categorical_accuracy: 0.7079 - val_loss: 1.1259\n",
            "Epoch 52/64\n",
            "\u001b[1m11672/11672\u001b[0m \u001b[32m━━━━━━━━━━━━━━━━━━━━\u001b[0m\u001b[37m\u001b[0m \u001b[1m74s\u001b[0m 6ms/step - categorical_accuracy: 0.9112 - loss: 0.3057 - val_categorical_accuracy: 0.7088 - val_loss: 1.1227\n",
            "Epoch 53/64\n",
            "\u001b[1m11672/11672\u001b[0m \u001b[32m━━━━━━━━━━━━━━━━━━━━\u001b[0m\u001b[37m\u001b[0m \u001b[1m74s\u001b[0m 6ms/step - categorical_accuracy: 0.9130 - loss: 0.3018 - val_categorical_accuracy: 0.7055 - val_loss: 1.1688\n",
            "Epoch 54/64\n",
            "\u001b[1m11672/11672\u001b[0m \u001b[32m━━━━━━━━━━━━━━━━━━━━\u001b[0m\u001b[37m\u001b[0m \u001b[1m74s\u001b[0m 6ms/step - categorical_accuracy: 0.9176 - loss: 0.2918 - val_categorical_accuracy: 0.7092 - val_loss: 1.1396\n",
            "Epoch 55/64\n",
            "\u001b[1m11672/11672\u001b[0m \u001b[32m━━━━━━━━━━━━━━━━━━━━\u001b[0m\u001b[37m\u001b[0m \u001b[1m74s\u001b[0m 6ms/step - categorical_accuracy: 0.9155 - loss: 0.2989 - val_categorical_accuracy: 0.7069 - val_loss: 1.1913\n",
            "Epoch 56/64\n",
            "\u001b[1m11672/11672\u001b[0m \u001b[32m━━━━━━━━━━━━━━━━━━━━\u001b[0m\u001b[37m\u001b[0m \u001b[1m74s\u001b[0m 6ms/step - categorical_accuracy: 0.9189 - loss: 0.2902 - val_categorical_accuracy: 0.7078 - val_loss: 1.1324\n",
            "Epoch 57/64\n",
            "\u001b[1m11672/11672\u001b[0m \u001b[32m━━━━━━━━━━━━━━━━━━━━\u001b[0m\u001b[37m\u001b[0m \u001b[1m73s\u001b[0m 6ms/step - categorical_accuracy: 0.9177 - loss: 0.2933 - val_categorical_accuracy: 0.7060 - val_loss: 1.1358\n",
            "Epoch 58/64\n",
            "\u001b[1m11672/11672\u001b[0m \u001b[32m━━━━━━━━━━━━━━━━━━━━\u001b[0m\u001b[37m\u001b[0m \u001b[1m74s\u001b[0m 6ms/step - categorical_accuracy: 0.9193 - loss: 0.2887 - val_categorical_accuracy: 0.7087 - val_loss: 1.1248\n",
            "Epoch 59/64\n",
            "\u001b[1m11672/11672\u001b[0m \u001b[32m━━━━━━━━━━━━━━━━━━━━\u001b[0m\u001b[37m\u001b[0m \u001b[1m74s\u001b[0m 6ms/step - categorical_accuracy: 0.9189 - loss: 0.2899 - val_categorical_accuracy: 0.7073 - val_loss: 1.1624\n",
            "Epoch 60/64\n",
            "\u001b[1m11672/11672\u001b[0m \u001b[32m━━━━━━━━━━━━━━━━━━━━\u001b[0m\u001b[37m\u001b[0m \u001b[1m74s\u001b[0m 6ms/step - categorical_accuracy: 0.9204 - loss: 0.2867 - val_categorical_accuracy: 0.7069 - val_loss: 1.1590\n",
            "Epoch 61/64\n",
            "\u001b[1m11672/11672\u001b[0m \u001b[32m━━━━━━━━━━━━━━━━━━━━\u001b[0m\u001b[37m\u001b[0m \u001b[1m74s\u001b[0m 6ms/step - categorical_accuracy: 0.9235 - loss: 0.2792 - val_categorical_accuracy: 0.7034 - val_loss: 1.1171\n",
            "Epoch 62/64\n",
            "\u001b[1m11672/11672\u001b[0m \u001b[32m━━━━━━━━━━━━━━━━━━━━\u001b[0m\u001b[37m\u001b[0m \u001b[1m74s\u001b[0m 6ms/step - categorical_accuracy: 0.9216 - loss: 0.2848 - val_categorical_accuracy: 0.7114 - val_loss: 1.1654\n",
            "Epoch 63/64\n",
            "\u001b[1m11672/11672\u001b[0m \u001b[32m━━━━━━━━━━━━━━━━━━━━\u001b[0m\u001b[37m\u001b[0m \u001b[1m74s\u001b[0m 6ms/step - categorical_accuracy: 0.9221 - loss: 0.2841 - val_categorical_accuracy: 0.7038 - val_loss: 1.2003\n",
            "Epoch 64/64\n",
            "\u001b[1m11672/11672\u001b[0m \u001b[32m━━━━━━━━━━━━━━━━━━━━\u001b[0m\u001b[37m\u001b[0m \u001b[1m74s\u001b[0m 6ms/step - categorical_accuracy: 0.9240 - loss: 0.2785 - val_categorical_accuracy: 0.7105 - val_loss: 1.1710\n"
          ]
        },
        {
          "data": {
            "text/plain": [
              "<keras.src.callbacks.history.History at 0x70736a41ac20>"
            ]
          },
          "execution_count": 99,
          "metadata": {},
          "output_type": "execute_result"
        }
      ],
      "source": [
        "model.fit(x_train, y_train, epochs=64, validation_data=(x_val, y_val), class_weight=dist_class_weight)"
      ]
    },
    {
      "cell_type": "code",
      "execution_count": 100,
      "metadata": {
        "id": "4n4_BRNKLRwo"
      },
      "outputs": [],
      "source": [
        "KERAS_MODEL_NAME = \"tf_model_fashion_mnist.h5\""
      ]
    },
    {
      "cell_type": "code",
      "execution_count": 101,
      "metadata": {
        "id": "A_3Y3F4GBWud"
      },
      "outputs": [
        {
          "name": "stderr",
          "output_type": "stream",
          "text": [
            "WARNING:absl:You are saving your model as an HDF5 file via `model.save()` or `keras.saving.save_model(model)`. This file format is considered legacy. We recommend using instead the native Keras format, e.g. `model.save('my_model.keras')` or `keras.saving.save_model(model, 'my_model.keras')`. \n"
          ]
        }
      ],
      "source": [
        "model.save(KERAS_MODEL_NAME)"
      ]
    },
    {
      "cell_type": "code",
      "execution_count": 102,
      "metadata": {
        "colab": {
          "base_uri": "https://localhost:8080/"
        },
        "id": "19sd1FJkCHID",
        "outputId": "df8e1537-f293-4579-916f-bc52aabc6e98"
      },
      "outputs": [
        {
          "name": "stdout",
          "output_type": "stream",
          "text": [
            "File size: 11.521 Megabytes\n"
          ]
        }
      ],
      "source": [
        "convert_bytes(get_file_size(KERAS_MODEL_NAME), \"MB\")"
      ]
    },
    {
      "cell_type": "code",
      "execution_count": 103,
      "metadata": {
        "id": "JIuCg2nyWsvs"
      },
      "outputs": [],
      "source": [
        "keras_model_size = get_file_size(KERAS_MODEL_NAME)"
      ]
    },
    {
      "cell_type": "code",
      "execution_count": 104,
      "metadata": {
        "colab": {
          "base_uri": "https://localhost:8080/"
        },
        "id": "Y_deKtkhCHMu",
        "outputId": "33e2fc11-f096-4076-a14b-9d7da30f661d"
      },
      "outputs": [
        {
          "name": "stdout",
          "output_type": "stream",
          "text": [
            "313/313 - 1s - 3ms/step - categorical_accuracy: 0.7164 - loss: 1.1487\n",
            "\n",
            "Test accuracy is 71.64%\n"
          ]
        }
      ],
      "source": [
        "test_loss, test_acc = model.evaluate(x_test,  y_test, verbose=2)\n",
        "print('\\nTest accuracy is {}%'.format(round(100*test_acc, 2)))"
      ]
    },
    {
      "cell_type": "markdown",
      "metadata": {
        "id": "1BFE9lvwLfgv"
      },
      "source": [
        "# TF Lite Model"
      ]
    },
    {
      "cell_type": "code",
      "execution_count": 105,
      "metadata": {
        "id": "ORAx4Yc7LjwM"
      },
      "outputs": [],
      "source": [
        "TF_LITE_MODEL_FILE_NAME = \"tf_lite_model.tflite\""
      ]
    },
    {
      "cell_type": "code",
      "execution_count": 106,
      "metadata": {
        "colab": {
          "base_uri": "https://localhost:8080/"
        },
        "id": "NY57t7EwCW8P",
        "outputId": "2a240866-88ed-46cf-bca9-1bdf5276a155"
      },
      "outputs": [
        {
          "name": "stdout",
          "output_type": "stream",
          "text": [
            "INFO:tensorflow:Assets written to: /tmp/tmp498ey310/assets\n"
          ]
        },
        {
          "name": "stderr",
          "output_type": "stream",
          "text": [
            "INFO:tensorflow:Assets written to: /tmp/tmp498ey310/assets\n"
          ]
        },
        {
          "name": "stdout",
          "output_type": "stream",
          "text": [
            "Saved artifact at '/tmp/tmp498ey310'. The following endpoints are available:\n",
            "\n",
            "* Endpoint 'serve'\n",
            "  args_0 (POSITIONAL_ONLY): TensorSpec(shape=(None, 25, 16), dtype=tf.float32, name='keras_tensor')\n",
            "Output Type:\n",
            "  TensorSpec(shape=(None, 5), dtype=tf.float32, name=None)\n",
            "Captures:\n",
            "  123641038707296: TensorSpec(shape=(), dtype=tf.resource, name=None)\n",
            "  123641038279024: TensorSpec(shape=(), dtype=tf.resource, name=None)\n",
            "  123641038705360: TensorSpec(shape=(), dtype=tf.resource, name=None)\n",
            "  123641038713280: TensorSpec(shape=(), dtype=tf.resource, name=None)\n",
            "  123641038715568: TensorSpec(shape=(), dtype=tf.resource, name=None)\n",
            "  123641038714336: TensorSpec(shape=(), dtype=tf.resource, name=None)\n",
            "  123641038713632: TensorSpec(shape=(), dtype=tf.resource, name=None)\n",
            "  123641038714512: TensorSpec(shape=(), dtype=tf.resource, name=None)\n",
            "  123641038716624: TensorSpec(shape=(), dtype=tf.resource, name=None)\n",
            "  123640996416496: TensorSpec(shape=(), dtype=tf.resource, name=None)\n",
            "  123640996415792: TensorSpec(shape=(), dtype=tf.resource, name=None)\n",
            "  123640996416848: TensorSpec(shape=(), dtype=tf.resource, name=None)\n",
            "  123640996416672: TensorSpec(shape=(), dtype=tf.resource, name=None)\n",
            "  123640996414736: TensorSpec(shape=(), dtype=tf.resource, name=None)\n",
            "  123640996413680: TensorSpec(shape=(), dtype=tf.resource, name=None)\n",
            "  123640996418960: TensorSpec(shape=(), dtype=tf.resource, name=None)\n",
            "  123640996417024: TensorSpec(shape=(), dtype=tf.resource, name=None)\n",
            "  123640996414208: TensorSpec(shape=(), dtype=tf.resource, name=None)\n",
            "  123640996415264: TensorSpec(shape=(), dtype=tf.resource, name=None)\n",
            "  123640996417904: TensorSpec(shape=(), dtype=tf.resource, name=None)\n",
            "  123640996421600: TensorSpec(shape=(), dtype=tf.resource, name=None)\n",
            "  123640996421248: TensorSpec(shape=(), dtype=tf.resource, name=None)\n",
            "  123640996423888: TensorSpec(shape=(), dtype=tf.resource, name=None)\n",
            "  123640996421952: TensorSpec(shape=(), dtype=tf.resource, name=None)\n",
            "  123640996425824: TensorSpec(shape=(), dtype=tf.resource, name=None)\n",
            "  123640996421072: TensorSpec(shape=(), dtype=tf.resource, name=None)\n",
            "  123640996425120: TensorSpec(shape=(), dtype=tf.resource, name=None)\n",
            "  123640996426704: TensorSpec(shape=(), dtype=tf.resource, name=None)\n"
          ]
        },
        {
          "name": "stderr",
          "output_type": "stream",
          "text": [
            "W0000 00:00:1742252067.939394   10973 tf_tfl_flatbuffer_helpers.cc:365] Ignored output_format.\n",
            "W0000 00:00:1742252067.939414   10973 tf_tfl_flatbuffer_helpers.cc:368] Ignored drop_control_dependency.\n",
            "2025-03-17 23:54:27.939650: I tensorflow/cc/saved_model/reader.cc:83] Reading SavedModel from: /tmp/tmp498ey310\n",
            "2025-03-17 23:54:27.942629: I tensorflow/cc/saved_model/reader.cc:52] Reading meta graph with tags { serve }\n",
            "2025-03-17 23:54:27.942650: I tensorflow/cc/saved_model/reader.cc:147] Reading SavedModel debug info (if present) from: /tmp/tmp498ey310\n",
            "2025-03-17 23:54:27.970130: I tensorflow/cc/saved_model/loader.cc:236] Restoring SavedModel bundle.\n",
            "2025-03-17 23:54:28.100727: I tensorflow/cc/saved_model/loader.cc:220] Running initialization op on SavedModel bundle at path: /tmp/tmp498ey310\n",
            "2025-03-17 23:54:28.145984: I tensorflow/cc/saved_model/loader.cc:466] SavedModel load for tags { serve }; Status: success: OK. Took 206337 microseconds.\n"
          ]
        }
      ],
      "source": [
        "tf_lite_converter = tf.lite.TFLiteConverter.from_keras_model(model)\n",
        "tflite_model = tf_lite_converter.convert()"
      ]
    },
    {
      "cell_type": "code",
      "execution_count": 107,
      "metadata": {
        "colab": {
          "base_uri": "https://localhost:8080/"
        },
        "id": "CZxnt1IsCXBb",
        "outputId": "68b429c5-54a9-47f4-f452-473c40cf958f"
      },
      "outputs": [
        {
          "data": {
            "text/plain": [
              "4008844"
            ]
          },
          "execution_count": 107,
          "metadata": {},
          "output_type": "execute_result"
        }
      ],
      "source": [
        "tflite_model_name = TF_LITE_MODEL_FILE_NAME\n",
        "open(tflite_model_name, \"wb\").write(tflite_model)"
      ]
    },
    {
      "cell_type": "code",
      "execution_count": 108,
      "metadata": {
        "colab": {
          "base_uri": "https://localhost:8080/"
        },
        "id": "XtIdP296CXFl",
        "outputId": "6c308c2d-f657-4c7e-af58-d7454d87fa92"
      },
      "outputs": [
        {
          "name": "stdout",
          "output_type": "stream",
          "text": [
            "File size: 3914.887 Kilobytes\n"
          ]
        }
      ],
      "source": [
        "convert_bytes(get_file_size(TF_LITE_MODEL_FILE_NAME), \"KB\")"
      ]
    },
    {
      "cell_type": "code",
      "execution_count": 109,
      "metadata": {
        "id": "CRScWYLIWmkI"
      },
      "outputs": [],
      "source": [
        "tflite_file_size = get_file_size(TF_LITE_MODEL_FILE_NAME)"
      ]
    },
    {
      "cell_type": "markdown",
      "metadata": {
        "id": "i_gttI3-M45M"
      },
      "source": [
        "# Check Input Tensor Shape"
      ]
    },
    {
      "cell_type": "code",
      "execution_count": 110,
      "metadata": {
        "colab": {
          "base_uri": "https://localhost:8080/"
        },
        "id": "IJXJuGLFGfjB",
        "outputId": "064467be-2de5-4e5e-fbdb-5b61c91b9826"
      },
      "outputs": [
        {
          "name": "stdout",
          "output_type": "stream",
          "text": [
            "Input Shape: [ 1 25 16]\n",
            "Input Type: <class 'numpy.float32'>\n",
            "Output Shape: [1 5]\n",
            "Output Type: <class 'numpy.float32'>\n"
          ]
        }
      ],
      "source": [
        "interpreter = tf.lite.Interpreter(model_path = TF_LITE_MODEL_FILE_NAME)\n",
        "input_details = interpreter.get_input_details()\n",
        "output_details = interpreter.get_output_details()\n",
        "print(\"Input Shape:\", input_details[0]['shape'])\n",
        "print(\"Input Type:\", input_details[0]['dtype'])\n",
        "print(\"Output Shape:\", output_details[0]['shape'])\n",
        "print(\"Output Type:\", output_details[0]['dtype'])"
      ]
    },
    {
      "cell_type": "markdown",
      "metadata": {
        "id": "3_X-k46vMzAt"
      },
      "source": [
        "# Resize Tensor Shape"
      ]
    },
    {
      "cell_type": "code",
      "execution_count": 111,
      "metadata": {},
      "outputs": [],
      "source": [
        "x_test = x_test.astype(np.float32)[0:9999]\n",
        "y_test = y_test.astype(np.float32)[0:9999]"
      ]
    },
    {
      "cell_type": "code",
      "execution_count": 112,
      "metadata": {
        "colab": {
          "base_uri": "https://localhost:8080/"
        },
        "id": "M6wo8RNFGpXw",
        "outputId": "638ebb8a-763c-462a-e0ee-dae5e22b99a5"
      },
      "outputs": [
        {
          "name": "stdout",
          "output_type": "stream",
          "text": [
            "Input Shape: [9999   25   16]\n",
            "Input Type: <class 'numpy.float32'>\n",
            "Output Shape: [9999    5]\n",
            "Output Type: <class 'numpy.float32'>\n"
          ]
        }
      ],
      "source": [
        "interpreter.resize_tensor_input(input_details[0]['index'], x_test.shape)\n",
        "interpreter.resize_tensor_input(output_details[0]['index'], y_test.shape)\n",
        "interpreter.allocate_tensors()\n",
        "input_details = interpreter.get_input_details()\n",
        "output_details = interpreter.get_output_details()\n",
        "print(\"Input Shape:\", input_details[0]['shape'])\n",
        "print(\"Input Type:\", input_details[0]['dtype'])\n",
        "print(\"Output Shape:\", output_details[0]['shape'])\n",
        "print(\"Output Type:\", output_details[0]['dtype'])"
      ]
    },
    {
      "cell_type": "code",
      "execution_count": 113,
      "metadata": {
        "colab": {
          "base_uri": "https://localhost:8080/"
        },
        "id": "zsv7ROq8Gf0f",
        "outputId": "b3f12843-d88a-4da9-a97e-30cf8f50ac7f"
      },
      "outputs": [
        {
          "data": {
            "text/plain": [
              "dtype('float32')"
            ]
          },
          "execution_count": 113,
          "metadata": {},
          "output_type": "execute_result"
        }
      ],
      "source": [
        "x_test.dtype"
      ]
    },
    {
      "cell_type": "code",
      "execution_count": 114,
      "metadata": {
        "id": "SM1alowAHy2d"
      },
      "outputs": [],
      "source": [
        "test_imgs_numpy = np.array(x_test, dtype=np.float32)"
      ]
    },
    {
      "cell_type": "code",
      "execution_count": 115,
      "metadata": {
        "colab": {
          "base_uri": "https://localhost:8080/"
        },
        "id": "7JBxCCNTTnft",
        "outputId": "5729097a-56eb-4f67-bec4-a555328bf5e5"
      },
      "outputs": [
        {
          "data": {
            "text/plain": [
              "dtype('float32')"
            ]
          },
          "execution_count": 115,
          "metadata": {},
          "output_type": "execute_result"
        }
      ],
      "source": [
        "test_imgs_numpy.dtype"
      ]
    },
    {
      "cell_type": "code",
      "execution_count": 116,
      "metadata": {
        "colab": {
          "base_uri": "https://localhost:8080/"
        },
        "id": "wm4bxTIwHErB",
        "outputId": "7d9bd4ea-de68-4bf7-fcb4-38b4380d3ebe"
      },
      "outputs": [
        {
          "name": "stdout",
          "output_type": "stream",
          "text": [
            "Prediction results shape: (9999, 5)\n"
          ]
        }
      ],
      "source": [
        "interpreter.set_tensor(input_details[0]['index'], test_imgs_numpy)\n",
        "interpreter.invoke()\n",
        "tflite_model_predictions = interpreter.get_tensor(output_details[0]['index'])\n",
        "print(\"Prediction results shape:\", tflite_model_predictions.shape)\n",
        "prediction_classes = np.argmax(tflite_model_predictions, axis=1)"
      ]
    },
    {
      "cell_type": "code",
      "execution_count": 117,
      "metadata": {
        "id": "yRKoF30HIZP2"
      },
      "outputs": [],
      "source": [
        "# Convert y_test from one-hot encoded format to label format\n",
        "y_test_labels = np.argmax(y_test, axis=1)\n",
        "acc = accuracy_score(prediction_classes, y_test_labels)"
      ]
    },
    {
      "cell_type": "code",
      "execution_count": 118,
      "metadata": {
        "colab": {
          "base_uri": "https://localhost:8080/"
        },
        "id": "FZIF6OenI_5i",
        "outputId": "17d43528-4ef4-44c6-c0e7-b7e2e2a9de39"
      },
      "outputs": [
        {
          "name": "stdout",
          "output_type": "stream",
          "text": [
            "Test accuracy TFLITE model is 71.64%\n"
          ]
        }
      ],
      "source": [
        "print('Test accuracy TFLITE model is {}%'.format(round(100*acc, 2)))"
      ]
    },
    {
      "cell_type": "code",
      "execution_count": 119,
      "metadata": {
        "colab": {
          "base_uri": "https://localhost:8080/"
        },
        "id": "3tNSVxOHWfPY",
        "outputId": "2cce54ba-695e-48eb-a2ca-723622f89b35"
      },
      "outputs": [
        {
          "data": {
            "text/plain": [
              "0.33185377137638666"
            ]
          },
          "execution_count": 119,
          "metadata": {},
          "output_type": "execute_result"
        }
      ],
      "source": [
        "tflite_file_size/keras_model_size"
      ]
    },
    {
      "cell_type": "markdown",
      "metadata": {
        "id": "D6CZhJbUY44n"
      },
      "source": [
        "# TF Lite Model Float 16"
      ]
    },
    {
      "cell_type": "code",
      "execution_count": 120,
      "metadata": {
        "id": "vhpWvf2KY-va"
      },
      "outputs": [],
      "source": [
        "TF_LITE_MODEL_FLOAT_16_FILE_NAME = \"tf_lite_float_16_model.tflite\""
      ]
    },
    {
      "cell_type": "code",
      "execution_count": 121,
      "metadata": {
        "colab": {
          "base_uri": "https://localhost:8080/"
        },
        "id": "lzBgcOfGY-32",
        "outputId": "f8a9b0ca-ab41-47c6-8019-467b92b00d91"
      },
      "outputs": [
        {
          "name": "stdout",
          "output_type": "stream",
          "text": [
            "INFO:tensorflow:Assets written to: /tmp/tmpfwxux147/assets\n"
          ]
        },
        {
          "name": "stderr",
          "output_type": "stream",
          "text": [
            "INFO:tensorflow:Assets written to: /tmp/tmpfwxux147/assets\n"
          ]
        },
        {
          "name": "stdout",
          "output_type": "stream",
          "text": [
            "Saved artifact at '/tmp/tmpfwxux147'. The following endpoints are available:\n",
            "\n",
            "* Endpoint 'serve'\n",
            "  args_0 (POSITIONAL_ONLY): TensorSpec(shape=(None, 25, 16), dtype=tf.float32, name='keras_tensor')\n",
            "Output Type:\n",
            "  TensorSpec(shape=(None, 5), dtype=tf.float32, name=None)\n",
            "Captures:\n",
            "  123641038707296: TensorSpec(shape=(), dtype=tf.resource, name=None)\n",
            "  123641038279024: TensorSpec(shape=(), dtype=tf.resource, name=None)\n",
            "  123641038705360: TensorSpec(shape=(), dtype=tf.resource, name=None)\n",
            "  123641038713280: TensorSpec(shape=(), dtype=tf.resource, name=None)\n",
            "  123641038715568: TensorSpec(shape=(), dtype=tf.resource, name=None)\n",
            "  123641038714336: TensorSpec(shape=(), dtype=tf.resource, name=None)\n",
            "  123641038713632: TensorSpec(shape=(), dtype=tf.resource, name=None)\n",
            "  123641038714512: TensorSpec(shape=(), dtype=tf.resource, name=None)\n",
            "  123641038716624: TensorSpec(shape=(), dtype=tf.resource, name=None)\n",
            "  123640996416496: TensorSpec(shape=(), dtype=tf.resource, name=None)\n",
            "  123640996415792: TensorSpec(shape=(), dtype=tf.resource, name=None)\n",
            "  123640996416848: TensorSpec(shape=(), dtype=tf.resource, name=None)\n",
            "  123640996416672: TensorSpec(shape=(), dtype=tf.resource, name=None)\n",
            "  123640996414736: TensorSpec(shape=(), dtype=tf.resource, name=None)\n",
            "  123640996413680: TensorSpec(shape=(), dtype=tf.resource, name=None)\n",
            "  123640996418960: TensorSpec(shape=(), dtype=tf.resource, name=None)\n",
            "  123640996417024: TensorSpec(shape=(), dtype=tf.resource, name=None)\n",
            "  123640996414208: TensorSpec(shape=(), dtype=tf.resource, name=None)\n",
            "  123640996415264: TensorSpec(shape=(), dtype=tf.resource, name=None)\n",
            "  123640996417904: TensorSpec(shape=(), dtype=tf.resource, name=None)\n",
            "  123640996421600: TensorSpec(shape=(), dtype=tf.resource, name=None)\n",
            "  123640996421248: TensorSpec(shape=(), dtype=tf.resource, name=None)\n",
            "  123640996423888: TensorSpec(shape=(), dtype=tf.resource, name=None)\n",
            "  123640996421952: TensorSpec(shape=(), dtype=tf.resource, name=None)\n",
            "  123640996425824: TensorSpec(shape=(), dtype=tf.resource, name=None)\n",
            "  123640996421072: TensorSpec(shape=(), dtype=tf.resource, name=None)\n",
            "  123640996425120: TensorSpec(shape=(), dtype=tf.resource, name=None)\n",
            "  123640996426704: TensorSpec(shape=(), dtype=tf.resource, name=None)\n"
          ]
        },
        {
          "name": "stderr",
          "output_type": "stream",
          "text": [
            "W0000 00:00:1742252087.192491   10973 tf_tfl_flatbuffer_helpers.cc:365] Ignored output_format.\n",
            "W0000 00:00:1742252087.192510   10973 tf_tfl_flatbuffer_helpers.cc:368] Ignored drop_control_dependency.\n",
            "2025-03-17 23:54:47.192743: I tensorflow/cc/saved_model/reader.cc:83] Reading SavedModel from: /tmp/tmpfwxux147\n",
            "2025-03-17 23:54:47.195364: I tensorflow/cc/saved_model/reader.cc:52] Reading meta graph with tags { serve }\n",
            "2025-03-17 23:54:47.195384: I tensorflow/cc/saved_model/reader.cc:147] Reading SavedModel debug info (if present) from: /tmp/tmpfwxux147\n",
            "2025-03-17 23:54:47.216232: I tensorflow/cc/saved_model/loader.cc:236] Restoring SavedModel bundle.\n",
            "2025-03-17 23:54:47.318100: I tensorflow/cc/saved_model/loader.cc:220] Running initialization op on SavedModel bundle at path: /tmp/tmpfwxux147\n",
            "2025-03-17 23:54:47.346150: I tensorflow/cc/saved_model/loader.cc:466] SavedModel load for tags { serve }; Status: success: OK. Took 153410 microseconds.\n"
          ]
        }
      ],
      "source": [
        "tf_lite_converter = tf.lite.TFLiteConverter.from_keras_model(model)\n",
        "tf_lite_converter.optimizations = [tf.lite.Optimize.DEFAULT]\n",
        "tf_lite_converter.target_spec.supported_types = [tf.float16]\n",
        "tflite_model = tf_lite_converter.convert()"
      ]
    },
    {
      "cell_type": "code",
      "execution_count": 122,
      "metadata": {
        "colab": {
          "base_uri": "https://localhost:8080/"
        },
        "id": "b-OTCqGzZGkd",
        "outputId": "4ffde011-3843-4540-950a-f387e007ab48"
      },
      "outputs": [
        {
          "data": {
            "text/plain": [
              "2012420"
            ]
          },
          "execution_count": 122,
          "metadata": {},
          "output_type": "execute_result"
        }
      ],
      "source": [
        "tflite_model_name = TF_LITE_MODEL_FLOAT_16_FILE_NAME\n",
        "open(tflite_model_name, \"wb\").write(tflite_model)"
      ]
    },
    {
      "cell_type": "code",
      "execution_count": 123,
      "metadata": {
        "colab": {
          "base_uri": "https://localhost:8080/"
        },
        "id": "YLWOTWT-ZGnD",
        "outputId": "ec695991-d18b-41e1-eeed-2714fb860abc"
      },
      "outputs": [
        {
          "name": "stdout",
          "output_type": "stream",
          "text": [
            "File size: 1965.254 Kilobytes\n"
          ]
        }
      ],
      "source": [
        "convert_bytes(get_file_size(TF_LITE_MODEL_FLOAT_16_FILE_NAME), \"KB\")"
      ]
    },
    {
      "cell_type": "code",
      "execution_count": 124,
      "metadata": {
        "id": "s70HjhmYZGqf"
      },
      "outputs": [],
      "source": [
        "tflite_float_16_file_size = get_file_size(TF_LITE_MODEL_FLOAT_16_FILE_NAME)"
      ]
    },
    {
      "cell_type": "code",
      "execution_count": 125,
      "metadata": {
        "colab": {
          "base_uri": "https://localhost:8080/"
        },
        "id": "roa0xXtdZGsq",
        "outputId": "964f8c34-b0ca-40b0-8ad0-4d735878b62a"
      },
      "outputs": [
        {
          "data": {
            "text/plain": [
              "0.16658896345012877"
            ]
          },
          "execution_count": 125,
          "metadata": {},
          "output_type": "execute_result"
        }
      ],
      "source": [
        "tflite_float_16_file_size/keras_model_size"
      ]
    },
    {
      "cell_type": "code",
      "execution_count": 126,
      "metadata": {
        "colab": {
          "base_uri": "https://localhost:8080/"
        },
        "id": "aFijAawdZeyA",
        "outputId": "2487cf93-d2f4-403c-8c3e-ebc6ca77136d"
      },
      "outputs": [
        {
          "data": {
            "text/plain": [
              "0.5019950888585338"
            ]
          },
          "execution_count": 126,
          "metadata": {},
          "output_type": "execute_result"
        }
      ],
      "source": [
        "tflite_float_16_file_size/tflite_file_size"
      ]
    },
    {
      "cell_type": "markdown",
      "metadata": {
        "id": "xXrlI_NfZyZr"
      },
      "source": [
        "# TF Lite Size Quantized"
      ]
    },
    {
      "cell_type": "code",
      "execution_count": 127,
      "metadata": {
        "id": "CoTxxLp2Ze0b"
      },
      "outputs": [],
      "source": [
        "TF_LITE_SIZE_QUANT_MODEL_FILE_NAME = \"tf_lite_quant_model.tflite\""
      ]
    },
    {
      "cell_type": "code",
      "execution_count": 128,
      "metadata": {
        "colab": {
          "base_uri": "https://localhost:8080/"
        },
        "id": "rLzVy5BEZ7dK",
        "outputId": "59992e93-2750-40af-8287-02ee510bd8e4"
      },
      "outputs": [
        {
          "name": "stderr",
          "output_type": "stream",
          "text": [
            "WARNING:absl:Optimization option OPTIMIZE_FOR_SIZE is deprecated, please use optimizations=[Optimize.DEFAULT] instead.\n"
          ]
        },
        {
          "name": "stdout",
          "output_type": "stream",
          "text": [
            "INFO:tensorflow:Assets written to: /tmp/tmpiie98yei/assets\n"
          ]
        },
        {
          "name": "stderr",
          "output_type": "stream",
          "text": [
            "INFO:tensorflow:Assets written to: /tmp/tmpiie98yei/assets\n"
          ]
        },
        {
          "name": "stdout",
          "output_type": "stream",
          "text": [
            "Saved artifact at '/tmp/tmpiie98yei'. The following endpoints are available:\n",
            "\n",
            "* Endpoint 'serve'\n",
            "  args_0 (POSITIONAL_ONLY): TensorSpec(shape=(None, 25, 16), dtype=tf.float32, name='keras_tensor')\n",
            "Output Type:\n",
            "  TensorSpec(shape=(None, 5), dtype=tf.float32, name=None)\n",
            "Captures:\n",
            "  123641038707296: TensorSpec(shape=(), dtype=tf.resource, name=None)\n",
            "  123641038279024: TensorSpec(shape=(), dtype=tf.resource, name=None)\n",
            "  123641038705360: TensorSpec(shape=(), dtype=tf.resource, name=None)\n",
            "  123641038713280: TensorSpec(shape=(), dtype=tf.resource, name=None)\n",
            "  123641038715568: TensorSpec(shape=(), dtype=tf.resource, name=None)\n",
            "  123641038714336: TensorSpec(shape=(), dtype=tf.resource, name=None)\n",
            "  123641038713632: TensorSpec(shape=(), dtype=tf.resource, name=None)\n",
            "  123641038714512: TensorSpec(shape=(), dtype=tf.resource, name=None)\n",
            "  123641038716624: TensorSpec(shape=(), dtype=tf.resource, name=None)\n",
            "  123640996416496: TensorSpec(shape=(), dtype=tf.resource, name=None)\n",
            "  123640996415792: TensorSpec(shape=(), dtype=tf.resource, name=None)\n",
            "  123640996416848: TensorSpec(shape=(), dtype=tf.resource, name=None)\n",
            "  123640996416672: TensorSpec(shape=(), dtype=tf.resource, name=None)\n",
            "  123640996414736: TensorSpec(shape=(), dtype=tf.resource, name=None)\n",
            "  123640996413680: TensorSpec(shape=(), dtype=tf.resource, name=None)\n",
            "  123640996418960: TensorSpec(shape=(), dtype=tf.resource, name=None)\n",
            "  123640996417024: TensorSpec(shape=(), dtype=tf.resource, name=None)\n",
            "  123640996414208: TensorSpec(shape=(), dtype=tf.resource, name=None)\n",
            "  123640996415264: TensorSpec(shape=(), dtype=tf.resource, name=None)\n",
            "  123640996417904: TensorSpec(shape=(), dtype=tf.resource, name=None)\n",
            "  123640996421600: TensorSpec(shape=(), dtype=tf.resource, name=None)\n",
            "  123640996421248: TensorSpec(shape=(), dtype=tf.resource, name=None)\n",
            "  123640996423888: TensorSpec(shape=(), dtype=tf.resource, name=None)\n",
            "  123640996421952: TensorSpec(shape=(), dtype=tf.resource, name=None)\n",
            "  123640996425824: TensorSpec(shape=(), dtype=tf.resource, name=None)\n",
            "  123640996421072: TensorSpec(shape=(), dtype=tf.resource, name=None)\n",
            "  123640996425120: TensorSpec(shape=(), dtype=tf.resource, name=None)\n",
            "  123640996426704: TensorSpec(shape=(), dtype=tf.resource, name=None)\n"
          ]
        },
        {
          "name": "stderr",
          "output_type": "stream",
          "text": [
            "WARNING:absl:Optimization option OPTIMIZE_FOR_SIZE is deprecated, please use optimizations=[Optimize.DEFAULT] instead.\n",
            "WARNING:absl:Optimization option OPTIMIZE_FOR_SIZE is deprecated, please use optimizations=[Optimize.DEFAULT] instead.\n",
            "W0000 00:00:1742252088.919843   10973 tf_tfl_flatbuffer_helpers.cc:365] Ignored output_format.\n",
            "W0000 00:00:1742252088.919865   10973 tf_tfl_flatbuffer_helpers.cc:368] Ignored drop_control_dependency.\n",
            "2025-03-17 23:54:48.920102: I tensorflow/cc/saved_model/reader.cc:83] Reading SavedModel from: /tmp/tmpiie98yei\n",
            "2025-03-17 23:54:48.922101: I tensorflow/cc/saved_model/reader.cc:52] Reading meta graph with tags { serve }\n",
            "2025-03-17 23:54:48.922118: I tensorflow/cc/saved_model/reader.cc:147] Reading SavedModel debug info (if present) from: /tmp/tmpiie98yei\n",
            "2025-03-17 23:54:48.939087: I tensorflow/cc/saved_model/loader.cc:236] Restoring SavedModel bundle.\n",
            "2025-03-17 23:54:49.027224: I tensorflow/cc/saved_model/loader.cc:220] Running initialization op on SavedModel bundle at path: /tmp/tmpiie98yei\n",
            "2025-03-17 23:54:49.051346: I tensorflow/cc/saved_model/loader.cc:466] SavedModel load for tags { serve }; Status: success: OK. Took 131248 microseconds.\n"
          ]
        }
      ],
      "source": [
        "tf_lite_converter = tf.lite.TFLiteConverter.from_keras_model(model)\n",
        "tf_lite_converter.optimizations = [tf.lite.Optimize.OPTIMIZE_FOR_SIZE]\n",
        "tflite_model = tf_lite_converter.convert()"
      ]
    },
    {
      "cell_type": "code",
      "execution_count": 129,
      "metadata": {
        "colab": {
          "base_uri": "https://localhost:8080/"
        },
        "id": "UFx8bVTGZ7fk",
        "outputId": "84ce79aa-3273-41bf-9929-e2190ea23a49"
      },
      "outputs": [
        {
          "data": {
            "text/plain": [
              "1072272"
            ]
          },
          "execution_count": 129,
          "metadata": {},
          "output_type": "execute_result"
        }
      ],
      "source": [
        "tflite_model_name = TF_LITE_SIZE_QUANT_MODEL_FILE_NAME\n",
        "open(tflite_model_name, \"wb\").write(tflite_model)"
      ]
    },
    {
      "cell_type": "code",
      "execution_count": 130,
      "metadata": {
        "colab": {
          "base_uri": "https://localhost:8080/"
        },
        "id": "rNBKgf-XZ7iN",
        "outputId": "4cf2a6c8-dcfd-4974-efce-9cef4723ac8b"
      },
      "outputs": [
        {
          "name": "stdout",
          "output_type": "stream",
          "text": [
            "File size: 1047.141 Kilobytes\n"
          ]
        }
      ],
      "source": [
        "convert_bytes(get_file_size(TF_LITE_SIZE_QUANT_MODEL_FILE_NAME), \"KB\")"
      ]
    },
    {
      "cell_type": "code",
      "execution_count": 131,
      "metadata": {
        "id": "QRpw-azsZ7lD"
      },
      "outputs": [],
      "source": [
        "tflite_float_quant_file_size = get_file_size(TF_LITE_SIZE_QUANT_MODEL_FILE_NAME)"
      ]
    },
    {
      "cell_type": "code",
      "execution_count": 132,
      "metadata": {
        "colab": {
          "base_uri": "https://localhost:8080/"
        },
        "id": "wEUM1ApdZe3T",
        "outputId": "24522d6c-8cfe-4fdb-fc68-72ea2841e45d"
      },
      "outputs": [
        {
          "data": {
            "text/plain": [
              "0.08876312152363645"
            ]
          },
          "execution_count": 132,
          "metadata": {},
          "output_type": "execute_result"
        }
      ],
      "source": [
        "tflite_float_quant_file_size/keras_model_size"
      ]
    },
    {
      "cell_type": "code",
      "execution_count": 133,
      "metadata": {
        "colab": {
          "base_uri": "https://localhost:8080/"
        },
        "id": "kIdMzivLY-7J",
        "outputId": "0b176cd9-cd54-4dc7-af70-184624016dba"
      },
      "outputs": [
        {
          "data": {
            "text/plain": [
              "0.5328271434392423"
            ]
          },
          "execution_count": 133,
          "metadata": {},
          "output_type": "execute_result"
        }
      ],
      "source": [
        "tflite_float_quant_file_size/ tflite_float_16_file_size"
      ]
    },
    {
      "cell_type": "markdown",
      "metadata": {
        "id": "SjEiZWfvaoGW"
      },
      "source": [
        "# Accuracy of the Quantized Model"
      ]
    },
    {
      "cell_type": "markdown",
      "metadata": {
        "id": "cBIKxBccatZj"
      },
      "source": [
        "# Check Input Tensor Shape"
      ]
    },
    {
      "cell_type": "code",
      "execution_count": 134,
      "metadata": {
        "colab": {
          "base_uri": "https://localhost:8080/"
        },
        "id": "qMVMXOHpar5z",
        "outputId": "24b50382-8c21-4850-f8ff-6a770224ff31"
      },
      "outputs": [
        {
          "name": "stdout",
          "output_type": "stream",
          "text": [
            "Input Shape: [ 1 25 16]\n",
            "Input Type: <class 'numpy.float32'>\n",
            "Output Shape: [1 5]\n",
            "Output Type: <class 'numpy.float32'>\n"
          ]
        }
      ],
      "source": [
        "interpreter = tf.lite.Interpreter(model_path = TF_LITE_SIZE_QUANT_MODEL_FILE_NAME)\n",
        "input_details = interpreter.get_input_details()\n",
        "output_details = interpreter.get_output_details()\n",
        "print(\"Input Shape:\", input_details[0]['shape'])\n",
        "print(\"Input Type:\", input_details[0]['dtype'])\n",
        "print(\"Output Shape:\", output_details[0]['shape'])\n",
        "print(\"Output Type:\", output_details[0]['dtype'])"
      ]
    },
    {
      "cell_type": "markdown",
      "metadata": {
        "id": "GqvlZxiSa2I2"
      },
      "source": [
        "# Resize Tensor Shape"
      ]
    },
    {
      "cell_type": "code",
      "execution_count": 135,
      "metadata": {
        "colab": {
          "base_uri": "https://localhost:8080/"
        },
        "id": "dQDZyidSar8s",
        "outputId": "a9a89572-e147-43f6-c6fd-e79c8c45f791"
      },
      "outputs": [
        {
          "name": "stdout",
          "output_type": "stream",
          "text": [
            "Input Shape: [9999   25   16]\n",
            "Input Type: <class 'numpy.float32'>\n",
            "Output Shape: [9999    5]\n",
            "Output Type: <class 'numpy.float32'>\n"
          ]
        }
      ],
      "source": [
        "interpreter.resize_tensor_input(input_details[0]['index'], x_test.shape)\n",
        "interpreter.resize_tensor_input(output_details[0]['index'], y_test.shape)\n",
        "interpreter.allocate_tensors()\n",
        "input_details = interpreter.get_input_details()\n",
        "output_details = interpreter.get_output_details()\n",
        "print(\"Input Shape:\", input_details[0]['shape'])\n",
        "print(\"Input Type:\", input_details[0]['dtype'])\n",
        "print(\"Output Shape:\", output_details[0]['shape'])\n",
        "print(\"Output Type:\", output_details[0]['dtype'])"
      ]
    },
    {
      "cell_type": "code",
      "execution_count": 136,
      "metadata": {
        "colab": {
          "base_uri": "https://localhost:8080/"
        },
        "id": "fCGHzlitar_r",
        "outputId": "6958ce58-b53f-47b6-debc-e59922d2824c"
      },
      "outputs": [
        {
          "data": {
            "text/plain": [
              "dtype('float32')"
            ]
          },
          "execution_count": 136,
          "metadata": {},
          "output_type": "execute_result"
        }
      ],
      "source": [
        "x_test.dtype"
      ]
    },
    {
      "cell_type": "code",
      "execution_count": 137,
      "metadata": {
        "id": "8wFRpCMfa6Xx"
      },
      "outputs": [],
      "source": [
        "test_imgs_numpy = np.array(x_test, dtype=np.float32)"
      ]
    },
    {
      "cell_type": "code",
      "execution_count": 138,
      "metadata": {
        "colab": {
          "base_uri": "https://localhost:8080/"
        },
        "id": "QOY13_oIa6aR",
        "outputId": "fa24dfbe-f858-40f6-e42c-ef2a58ff8b91"
      },
      "outputs": [
        {
          "name": "stdout",
          "output_type": "stream",
          "text": [
            "Prediction results shape: (9999, 5)\n"
          ]
        }
      ],
      "source": [
        "interpreter.set_tensor(input_details[0]['index'], test_imgs_numpy)\n",
        "interpreter.invoke()\n",
        "tflite_model_predictions = interpreter.get_tensor(output_details[0]['index'])\n",
        "print(\"Prediction results shape:\", tflite_model_predictions.shape)\n",
        "prediction_classes = np.argmax(tflite_model_predictions, axis=1)"
      ]
    },
    {
      "cell_type": "code",
      "execution_count": 139,
      "metadata": {
        "id": "KmcpKhSsa6di"
      },
      "outputs": [],
      "source": [
        "# Convert y_test from one-hot encoded format to label format\n",
        "y_test_labels = np.argmax(y_test, axis=1)\n",
        "acc = accuracy_score(prediction_classes, y_test_labels)"
      ]
    },
    {
      "cell_type": "code",
      "execution_count": 140,
      "metadata": {
        "colab": {
          "base_uri": "https://localhost:8080/"
        },
        "id": "b1fwddHqa6gw",
        "outputId": "1ea25d24-47a9-4406-b83f-b62abbf75472"
      },
      "outputs": [
        {
          "name": "stdout",
          "output_type": "stream",
          "text": [
            "Test accuracy TFLITE Quantized model is 71.16%\n"
          ]
        }
      ],
      "source": [
        "print('Test accuracy TFLITE Quantized model is {}%'.format(round(100*acc, 2)))"
      ]
    }
  ],
  "metadata": {
    "accelerator": "GPU",
    "colab": {
      "collapsed_sections": [],
      "name": "tflite-notebook.ipynb",
      "provenance": []
    },
    "kernelspec": {
      "display_name": "Python 3",
      "name": "python3"
    },
    "language_info": {
      "codemirror_mode": {
        "name": "ipython",
        "version": 3
      },
      "file_extension": ".py",
      "mimetype": "text/x-python",
      "name": "python",
      "nbconvert_exporter": "python",
      "pygments_lexer": "ipython3",
      "version": "3.10.16"
    }
  },
  "nbformat": 4,
  "nbformat_minor": 0
}
