{
 "cells": [
  {
   "cell_type": "code",
   "execution_count": 16,
   "metadata": {
    "executionInfo": {
     "elapsed": 7,
     "status": "ok",
     "timestamp": 1742144982408,
     "user": {
      "displayName": "William Frid",
      "userId": "05510314506282401691"
     },
     "user_tz": -60
    },
    "id": "hhZkBEYJfrN-"
   },
   "outputs": [],
   "source": [
    "DATASET_PATH = \"../output_frames.csv\""
   ]
  },
  {
   "cell_type": "markdown",
   "metadata": {
    "id": "iG8HonMgfrOB"
   },
   "source": [
    "## Foundation\n",
    "\n",
    "Include required libraries and tools under this section and adjust settings.\n",
    "\n",
    "**TODO:**\n",
    "- [ ] Explore the usage of garbage collections."
   ]
  },
  {
   "cell_type": "code",
   "execution_count": 17,
   "metadata": {
    "executionInfo": {
     "elapsed": 4876,
     "status": "ok",
     "timestamp": 1742145015015,
     "user": {
      "displayName": "William Frid",
      "userId": "05510314506282401691"
     },
     "user_tz": -60
    },
    "id": "LTPcLUbHfrOD"
   },
   "outputs": [],
   "source": [
    "# Import required libraries.\n",
    "import  tensorflow as tf\n",
    "\n",
    "from    keras.models import Sequential\n",
    "from    keras.layers import Dense, Flatten, Conv2D, MaxPool2D, Dropout\n",
    "from    keras.utils import to_categorical\n",
    "\n",
    "# Helper libraries.\n",
    "import  pandas as pd\n",
    "import  numpy as np\n",
    "from    sklearn.model_selection import train_test_split\n",
    "from    sklearn.preprocessing import LabelEncoder\n",
    "import  librosa\n",
    "\n",
    "# Libraries for plotting.\n",
    "import  matplotlib.pyplot as plt\n",
    "\n",
    "# Other\n",
    "import sys\n",
    "import os\n",
    "import zipfile"
   ]
  },
  {
   "cell_type": "code",
   "execution_count": 18,
   "metadata": {
    "colab": {
     "base_uri": "https://localhost:8080/"
    },
    "executionInfo": {
     "elapsed": 816,
     "status": "ok",
     "timestamp": 1742145015833,
     "user": {
      "displayName": "William Frid",
      "userId": "05510314506282401691"
     },
     "user_tz": -60
    },
    "id": "W54RSCDyfrOE",
    "outputId": "3496e095-7994-45b8-9aff-d3ceb6860b77"
   },
   "outputs": [
    {
     "name": "stdout",
     "output_type": "stream",
     "text": [
      "Compute capability: (7, 5)\n",
      "Turn on mixed_float16\n"
     ]
    }
   ],
   "source": [
    "# Test for GPU and determine what GPU we have.\n",
    "# Modified by student to remove warningen caused on local machine.\n",
    "IN_COLAB = 'google.colab' in sys.modules\n",
    "\n",
    "gpu_devices = tf.config.list_physical_devices('GPU')\n",
    "\n",
    "if gpu_devices:\n",
    "    details = tf.config.experimental.get_device_details(gpu_devices[0])\n",
    "    compute_capability=details.get('compute_capability')\n",
    "    print(\"Compute capability:\",compute_capability)\n",
    "    if compute_capability[0]>6:\n",
    "        print(\"Turn on mixed_float16\")\n",
    "        policy = tf.keras.mixed_precision.Policy('mixed_float16')\n",
    "        tf.keras.mixed_precision.set_global_policy(policy)\n",
    "else:\n",
    "    print(\"No GPU detected.\")"
   ]
  },
  {
   "cell_type": "code",
   "execution_count": 19,
   "metadata": {
    "executionInfo": {
     "elapsed": 21,
     "status": "ok",
     "timestamp": 1742145015855,
     "user": {
      "displayName": "William Frid",
      "userId": "05510314506282401691"
     },
     "user_tz": -60
    },
    "id": "LpUl5DLYfrOF"
   },
   "outputs": [],
   "source": [
    "# Modify GPU memory allocator to try to prevent full GPU memory.\n",
    "# This can in some cases be counter productive!\n",
    "os.environ['TF_GPU_ALLOCATOR'] = 'cuda_malloc_async'"
   ]
  },
  {
   "cell_type": "code",
   "execution_count": 20,
   "metadata": {
    "colab": {
     "base_uri": "https://localhost:8080/"
    },
    "executionInfo": {
     "elapsed": 3683,
     "status": "ok",
     "timestamp": 1742145019550,
     "user": {
      "displayName": "William Frid",
      "userId": "05510314506282401691"
     },
     "user_tz": -60
    },
    "id": "5VPQHpx8frOG",
    "outputId": "15c21cc2-d7a3-46d4-a048-a627b50a549b"
   },
   "outputs": [
    {
     "name": "stdout",
     "output_type": "stream",
     "text": [
      "Keras Tuner version: 1.4.7\n"
     ]
    }
   ],
   "source": [
    "# Install Keras Tuner via PIP (if in colab).\n",
    "if IN_COLAB:\n",
    "    os.system('pip install keras_tuner')\n",
    "\n",
    "import keras_tuner\n",
    "print('Keras Tuner version:', keras_tuner.__version__)"
   ]
  },
  {
   "cell_type": "markdown",
   "metadata": {
    "id": "IZKFE6g1frOH"
   },
   "source": [
    "## Import Dataset\n",
    "\n",
    "If you're using Google Colab, the dataset has to be imported from Google Drive (or uploaded as a ZIP-file). This required giving permission to Google Colab! Otherwise, it will check if the dataset folder exists, if not, terminates the execution.\n",
    "\n",
    "**TODO:**\n",
    "- [ ] Add support for uploaded dataset.zip files."
   ]
  },
  {
   "cell_type": "code",
   "execution_count": 21,
   "metadata": {
    "executionInfo": {
     "elapsed": 2519,
     "status": "ok",
     "timestamp": 1742145022070,
     "user": {
      "displayName": "William Frid",
      "userId": "05510314506282401691"
     },
     "user_tz": -60
    },
    "id": "OnbzFbb_frOH"
   },
   "outputs": [],
   "source": [
    "\n",
    "if (not os.path.exists(DATASET_PATH)):\n",
    "    print(\"Error: Dataset not found.\")\n",
    "    sys.exit()"
   ]
  },
  {
   "cell_type": "code",
   "execution_count": 22,
   "metadata": {
    "executionInfo": {
     "elapsed": 71925,
     "status": "ok",
     "timestamp": 1742145093999,
     "user": {
      "displayName": "William Frid",
      "userId": "05510314506282401691"
     },
     "user_tz": -60
    },
    "id": "Vpdq-xAefrOH"
   },
   "outputs": [],
   "source": [
    "df = pd.read_csv(DATASET_PATH, header=None)              # No header in your format\n",
    "dataset = df.iloc[:, :-1].to_numpy(dtype=np.float16)            # All but last column as float16\n",
    "labels_set = df.iloc[:, -1].to_numpy(dtype=str)                 # Last column as string"
   ]
  },
  {
   "cell_type": "code",
   "execution_count": 23,
   "metadata": {
    "colab": {
     "base_uri": "https://localhost:8080/"
    },
    "executionInfo": {
     "elapsed": 5,
     "status": "ok",
     "timestamp": 1742145094048,
     "user": {
      "displayName": "William Frid",
      "userId": "05510314506282401691"
     },
     "user_tz": -60
    },
    "id": "llSvwYXBfrOI",
    "outputId": "6a2fc6b2-d6a6-47d2-ba47-c4901742b42f"
   },
   "outputs": [
    {
     "name": "stdout",
     "output_type": "stream",
     "text": [
      "Dataset shape: (583554, 16, 25)\n",
      "Labels shape: (583554,)\n",
      "Input shape: (16, 25)\n"
     ]
    }
   ],
   "source": [
    "dataset = dataset.reshape(dataset.shape[0], 25, 16)\n",
    "# Transpose each data point.\n",
    "dataset = np.array([x.T for x in dataset])\n",
    "input_shape = dataset[0].shape\n",
    "\n",
    "print(f\"Dataset shape: {dataset.shape}\")\n",
    "print(f\"Labels shape: {labels_set.shape}\")\n",
    "print(f\"Input shape: {input_shape}\")"
   ]
  },
  {
   "cell_type": "markdown",
   "metadata": {
    "id": "TunL1ENnfrOI"
   },
   "source": [
    "# Preparing dataset\n",
    "\n",
    "To prepare the data, we first read through each frame file from the dataset and stores the path alongside it's label in array **dataset** and also addes the label, if not already existing, to **labels**.\n",
    "\n",
    "We then prepare a function to reads TXT file data and convert it to NP array, followed by a function used for plotting int MFCC for debugging."
   ]
  },
  {
   "cell_type": "code",
   "execution_count": 24,
   "metadata": {
    "executionInfo": {
     "elapsed": 19,
     "status": "ok",
     "timestamp": 1742145094068,
     "user": {
      "displayName": "William Frid",
      "userId": "05510314506282401691"
     },
     "user_tz": -60
    },
    "id": "ufdIcAoifrOJ"
   },
   "outputs": [],
   "source": [
    "# Plot MFCC\n",
    "def plot_mfcc(mfccs):\n",
    "    # Flatten the data\n",
    "    mfccs = mfccs.reshape((25, 16))\n",
    "    # Plot the MFCC\n",
    "    print(f\"MFCC shape: {mfccs.shape}\")\n",
    "    mfccs = mfccs\n",
    "    librosa.display.specshow(mfccs, x_axis='time', sr=16000)\n",
    "    plt.colorbar(format='%+2.0f dB')\n",
    "    plt.title('MFCC')\n",
    "    plt.xlabel('Time')\n",
    "    plt.ylabel('MFCC Coefficient')\n",
    "    plt.show()"
   ]
  },
  {
   "cell_type": "code",
   "execution_count": 25,
   "metadata": {
    "colab": {
     "base_uri": "https://localhost:8080/",
     "height": 489
    },
    "executionInfo": {
     "elapsed": 2628,
     "status": "ok",
     "timestamp": 1742145096698,
     "user": {
      "displayName": "William Frid",
      "userId": "05510314506282401691"
     },
     "user_tz": -60
    },
    "id": "XKTGNjGvfrOJ",
    "outputId": "51104dd3-88f1-4002-925f-3ca9ce786957"
   },
   "outputs": [
    {
     "name": "stdout",
     "output_type": "stream",
     "text": [
      "MFCC shape: (25, 16)\n"
     ]
    },
    {
     "data": {
      "image/png": "[encoded data removed]",
      "text/plain": [
       "<Figure size 640x480 with 2 Axes>"
      ]
     },
     "metadata": {},
     "output_type": "display_data"
    }
   ],
   "source": [
    "# Pass exmaple frame data to plot_mfcc function.\n",
    "plot_mfcc(dataset[0])"
   ]
  },
  {
   "cell_type": "markdown",
   "metadata": {
    "id": "drOSmam6frOJ"
   },
   "source": [
    "### Splitting Dataset\n",
    "\n",
    "When data have been explored, we split the data into three groups: training, validating, and testing. Where training and validating will be used for the training process, and testing for the final testing."
   ]
  },
  {
   "cell_type": "code",
   "execution_count": 26,
   "metadata": {
    "colab": {
     "base_uri": "https://localhost:8080/"
    },
    "executionInfo": {
     "elapsed": 8456,
     "status": "ok",
     "timestamp": 1742145105156,
     "user": {
      "displayName": "William Frid",
      "userId": "05510314506282401691"
     },
     "user_tz": -60
    },
    "id": "TQpzZ-AmfrOK",
    "outputId": "9a22a4e0-433b-4ff4-c598-6f5a3e311040"
   },
   "outputs": [
    {
     "name": "stdout",
     "output_type": "stream",
     "text": [
      "Training set length: 373474\n",
      "Validation set length: 93369\n",
      "Testing set length: 116711\n"
     ]
    }
   ],
   "source": [
    "from sklearn.model_selection import train_test_split\n",
    "\n",
    "x_train, x_test, y_train, y_test = train_test_split(dataset, labels_set, test_size=0.2, random_state=42, stratify=labels_set)\n",
    "\n",
    "x_train, x_val, y_train, y_val = train_test_split(x_train, y_train, test_size=0.2, random_state=42, stratify=y_train)\n",
    "\n",
    "# Print the lengths of the training, validation, and testing sets.\n",
    "print(f\"Training set length: {len(x_train)}\")\n",
    "print(f\"Validation set length: {len(x_val)}\")\n",
    "print(f\"Testing set length: {len(x_test)}\")"
   ]
  },
  {
   "cell_type": "code",
   "execution_count": 27,
   "metadata": {
    "executionInfo": {
     "elapsed": 828,
     "status": "ok",
     "timestamp": 1742145105983,
     "user": {
      "displayName": "William Frid",
      "userId": "05510314506282401691"
     },
     "user_tz": -60
    },
    "id": "LS0kjYImfrOK"
   },
   "outputs": [],
   "source": [
    "from sklearn.utils.class_weight import compute_class_weight\n",
    "\n",
    "# Calculate class weights.\n",
    "class_weight = compute_class_weight('balanced', classes=np.unique(y_train), y=y_train)\n",
    "dist_class_weight = dict(enumerate(class_weight))"
   ]
  },
  {
   "cell_type": "code",
   "execution_count": 28,
   "metadata": {
    "colab": {
     "base_uri": "https://localhost:8080/"
    },
    "executionInfo": {
     "elapsed": 265,
     "status": "ok",
     "timestamp": 1742145106251,
     "user": {
      "displayName": "William Frid",
      "userId": "05510314506282401691"
     },
     "user_tz": -60
    },
    "id": "6sCWpj9QfrOK",
    "outputId": "5d41a216-8cef-4873-dc36-241370525836"
   },
   "outputs": [
    {
     "name": "stdout",
     "output_type": "stream",
     "text": [
      "Classes: ['Background_noise' 'Bus' 'Car' 'Motorcycle' 'Truck']\n"
     ]
    }
   ],
   "source": [
    "print(f\"Classes: {np.unique(labels_set)}\")"
   ]
  },
  {
   "cell_type": "code",
   "execution_count": 29,
   "metadata": {
    "executionInfo": {
     "elapsed": 457,
     "status": "ok",
     "timestamp": 1742145106710,
     "user": {
      "displayName": "William Frid",
      "userId": "05510314506282401691"
     },
     "user_tz": -60
    },
    "id": "LfsDlHgufrOK"
   },
   "outputs": [],
   "source": [
    "# Hot end code the labels.\n",
    "label_encoder = LabelEncoder()\n",
    "y_train = to_categorical(label_encoder.fit_transform(y_train))\n",
    "y_test = to_categorical(label_encoder.fit_transform(y_test))\n",
    "y_val = to_categorical(label_encoder.fit_transform(y_val))"
   ]
  },
  {
   "cell_type": "markdown",
   "metadata": {
    "id": "MzufagfQfrOK"
   },
   "source": [
    "# Helper Functions\n",
    "\n",
    "There are two helper functions: printHistory (used for plotting graphs to udnerstand over- and udner-fitting), as well as fitModel (used for fitting model one or multiple times)."
   ]
  },
  {
   "cell_type": "code",
   "execution_count": 30,
   "metadata": {
    "executionInfo": {
     "elapsed": 19,
     "status": "ok",
     "timestamp": 1742145106731,
     "user": {
      "displayName": "William Frid",
      "userId": "05510314506282401691"
     },
     "user_tz": -60
    },
    "id": "bFIauLjKfrOK"
   },
   "outputs": [],
   "source": [
    "# Print training history\n",
    "# Function used for printing two plots, one for accuracy and one for loss.\n",
    "# To be used with the history object from the fit method\n",
    "def printHistory(history):\n",
    "  # Collect the number of epochs run based on the amount of loss value under history.\n",
    "  epochs = len(history.history['loss'])\n",
    "\n",
    "  epochrange = range(1, epochs + 1)\n",
    "  train_acc = history.history['categorical_accuracy']\n",
    "  val_acc = history.history['val_categorical_accuracy']\n",
    "\n",
    "  train_loss = history.history['loss']\n",
    "  val_loss = history.history['val_loss']\n",
    "\n",
    "  plt.plot(epochrange, train_acc, 'bo', label='Training acc')\n",
    "  plt.plot(epochrange, val_acc, 'b', label='Validation acc')\n",
    "  plt.title('Training and validation accuracy (modell 1)')\n",
    "  plt.xlabel('Epochs')\n",
    "  plt.ylabel('Accuracy')\n",
    "  plt.legend()\n",
    "  plt.show()\n",
    "\n",
    "  plt.plot(epochrange, train_loss, 'bo', label='Training loss')\n",
    "  plt.plot(epochrange, val_loss, 'b', label='Validation loss')\n",
    "  plt.title('Training and validation loss (modell 1)')\n",
    "  plt.xlabel('Epochs')\n",
    "  plt.ylabel('Loss')\n",
    "  plt.legend()\n",
    "  plt.show()"
   ]
  },
  {
   "cell_type": "code",
   "execution_count": 31,
   "metadata": {
    "executionInfo": {
     "elapsed": 4,
     "status": "ok",
     "timestamp": 1742145106737,
     "user": {
      "displayName": "William Frid",
      "userId": "05510314506282401691"
     },
     "user_tz": -60
    },
    "id": "8j3w2tb4frOL"
   },
   "outputs": [],
   "source": [
    "from keras.callbacks import EarlyStopping\n",
    "from keras.callbacks import ReduceLROnPlateau\n",
    "\n",
    "# Fit model function used for convinience when fitting the model multiple times\n",
    "def fitModel(model, x_train, y_train, x_val, y_val, epochs, doPrintHistory, class_weight, verbose, batch_size):\n",
    "\n",
    "    # Define early stopping callback.\n",
    "    reduce_lr_on_plateau = ReduceLROnPlateau(monitor='val_loss', factor=0.5, patience=3, min_lr=1e-6)\n",
    "    early_stopping = EarlyStopping(monitor='val_loss', patience=5, restore_best_weights=True)\n",
    "\n",
    "    history = model.fit(\n",
    "        x=x_train,\n",
    "        y=y_train,\n",
    "        validation_data=(x_val, y_val),\n",
    "        epochs=epochs,\n",
    "        verbose=verbose,\n",
    "        class_weight=class_weight,\n",
    "        batch_size=batch_size,\n",
    "        callbacks=[early_stopping, reduce_lr_on_plateau],\n",
    "    )\n",
    "    # Print history\n",
    "    if doPrintHistory: printHistory(history)"
   ]
  },
  {
   "cell_type": "code",
   "execution_count": null,
   "metadata": {},
   "outputs": [
    {
     "name": "stdout",
     "output_type": "stream",
     "text": [
      "(16, 25)\n"
     ]
    }
   ],
   "source": [
    "print(input_shape)"
   ]
  },
  {
   "cell_type": "code",
   "execution_count": null,
   "metadata": {},
   "outputs": [
    {
     "name": "stdout",
     "output_type": "stream",
     "text": [
      "(16, 1)\n"
     ]
    }
   ],
   "source": [
    "print((input_shape[0], 1))"
   ]
  },
  {
   "cell_type": "markdown",
   "metadata": {
    "id": "jvV4GdE9frOL"
   },
   "source": [
    "# Construct Sequantial Model\n",
    "\n",
    "..."
   ]
  },
  {
   "cell_type": "code",
   "execution_count": 32,
   "metadata": {
    "executionInfo": {
     "elapsed": 327,
     "status": "ok",
     "timestamp": 1742150334289,
     "user": {
      "displayName": "William Frid",
      "userId": "05510314506282401691"
     },
     "user_tz": -60
    },
    "id": "N5tU0_zvfrOL"
   },
   "outputs": [],
   "source": [
    "from keras.regularizers import l2\n",
    "\n",
    "from tensorflow.keras.models import Sequential\n",
    "from tensorflow.keras.layers import SeparableConv1D, Dense, Dropout, BatchNormalization, GlobalAveragePooling1D, InputLayer\n",
    "from tensorflow.keras.regularizers import l2\n",
    "\n",
    "sequential_model = Sequential([\n",
    "\n",
    "    InputLayer(shape=input_shape),  # 25 frames, 16 channels\n",
    "\n",
    "    SeparableConv1D(filters=256, kernel_size=5, activation=\"swish\", padding='same'),\n",
    "    BatchNormalization(),\n",
    "    SeparableConv1D(filters=512, kernel_size=5, activation=\"swish\", padding='same'),\n",
    "    BatchNormalization(),\n",
    "    SeparableConv1D(filters=512, kernel_size=5, activation=\"swish\", padding='same'),\n",
    "    BatchNormalization(),\n",
    "    SeparableConv1D(filters=1024, kernel_size=5, activation=\"swish\", padding='same'),\n",
    "\n",
    "    # Feature Pooling (Combining Max & Average Pooling)\n",
    "    GlobalAveragePooling1D(),\n",
    "\n",
    "    # Fully Connected Layer\n",
    "    Dense(64, activation=\"swish\", kernel_regularizer=l2(0.001)),\n",
    "    Dropout(0.4),  # Dropout slightly reduced for stability\n",
    "\n",
    "    # Output Layer (Softmax for multi-class classification)\n",
    "    Dense(units=len(np.unique(labels_set)))\n",
    "])\n"
   ]
  },
  {
   "cell_type": "code",
   "execution_count": 30,
   "metadata": {
    "executionInfo": {
     "elapsed": 3,
     "status": "ok",
     "timestamp": 1742150244437,
     "user": {
      "displayName": "William Frid",
      "userId": "05510314506282401691"
     },
     "user_tz": -60
    },
    "id": "rRedbbMYfrOM"
   },
   "outputs": [],
   "source": [
    "def compileModel(model, learning_rate = 0.001):\n",
    "    model.compile(\n",
    "        optimizer=tf.keras.optimizers.Adam(learning_rate=learning_rate),\n",
    "        loss = tf.keras.losses.CategoricalCrossentropy(from_logits=True),\n",
    "        metrics=['categorical_accuracy']\n",
    "    )\n",
    "    model.summary()"
   ]
  },
  {
   "cell_type": "code",
   "execution_count": 33,
   "metadata": {
    "colab": {
     "base_uri": "https://localhost:8080/",
     "height": 586
    },
    "executionInfo": {
     "elapsed": 69,
     "status": "ok",
     "timestamp": 1742150336004,
     "user": {
      "displayName": "William Frid",
      "userId": "05510314506282401691"
     },
     "user_tz": -60
    },
    "id": "z6SzOcBjfrOM",
    "outputId": "3c9e85fe-d91d-4b4c-b2af-3e0242bb61ac"
   },
   "outputs": [
    {
     "data": {
      "text/html": [
       "<pre style=\"white-space:pre;overflow-x:auto;line-height:normal;font-family:Menlo,'DejaVu Sans Mono',consolas,'Courier New',monospace\"><span style=\"font-weight: bold\">Model: \"sequential_2\"</span>\n",
       "</pre>\n"
      ],
      "text/plain": [
       "\u001b[1mModel: \"sequential_2\"\u001b[0m\n"
      ]
     },
     "metadata": {},
     "output_type": "display_data"
    },
    {
     "data": {
      "text/html": [
       "<pre style=\"white-space:pre;overflow-x:auto;line-height:normal;font-family:Menlo,'DejaVu Sans Mono',consolas,'Courier New',monospace\">┏━━━━━━━━━━━━━━━━━━━━━━━━━━━━━━━━━┳━━━━━━━━━━━━━━━━━━━━━━━━┳━━━━━━━━━━━━━━━┓\n",
       "┃<span style=\"font-weight: bold\"> Layer (type)                    </span>┃<span style=\"font-weight: bold\"> Output Shape           </span>┃<span style=\"font-weight: bold\">       Param # </span>┃\n",
       "┡━━━━━━━━━━━━━━━━━━━━━━━━━━━━━━━━━╇━━━━━━━━━━━━━━━━━━━━━━━━╇━━━━━━━━━━━━━━━┩\n",
       "│ separable_conv1d_8              │ (<span style=\"color: #00d7ff; text-decoration-color: #00d7ff\">None</span>, <span style=\"color: #00af00; text-decoration-color: #00af00\">16</span>, <span style=\"color: #00af00; text-decoration-color: #00af00\">256</span>)        │         <span style=\"color: #00af00; text-decoration-color: #00af00\">6,781</span> │\n",
       "│ (<span style=\"color: #0087ff; text-decoration-color: #0087ff\">SeparableConv1D</span>)               │                        │               │\n",
       "├─────────────────────────────────┼────────────────────────┼───────────────┤\n",
       "│ batch_normalization_6           │ (<span style=\"color: #00d7ff; text-decoration-color: #00d7ff\">None</span>, <span style=\"color: #00af00; text-decoration-color: #00af00\">16</span>, <span style=\"color: #00af00; text-decoration-color: #00af00\">256</span>)        │         <span style=\"color: #00af00; text-decoration-color: #00af00\">1,024</span> │\n",
       "│ (<span style=\"color: #0087ff; text-decoration-color: #0087ff\">BatchNormalization</span>)            │                        │               │\n",
       "├─────────────────────────────────┼────────────────────────┼───────────────┤\n",
       "│ separable_conv1d_9              │ (<span style=\"color: #00d7ff; text-decoration-color: #00d7ff\">None</span>, <span style=\"color: #00af00; text-decoration-color: #00af00\">16</span>, <span style=\"color: #00af00; text-decoration-color: #00af00\">512</span>)        │       <span style=\"color: #00af00; text-decoration-color: #00af00\">132,864</span> │\n",
       "│ (<span style=\"color: #0087ff; text-decoration-color: #0087ff\">SeparableConv1D</span>)               │                        │               │\n",
       "├─────────────────────────────────┼────────────────────────┼───────────────┤\n",
       "│ batch_normalization_7           │ (<span style=\"color: #00d7ff; text-decoration-color: #00d7ff\">None</span>, <span style=\"color: #00af00; text-decoration-color: #00af00\">16</span>, <span style=\"color: #00af00; text-decoration-color: #00af00\">512</span>)        │         <span style=\"color: #00af00; text-decoration-color: #00af00\">2,048</span> │\n",
       "│ (<span style=\"color: #0087ff; text-decoration-color: #0087ff\">BatchNormalization</span>)            │                        │               │\n",
       "├─────────────────────────────────┼────────────────────────┼───────────────┤\n",
       "│ separable_conv1d_10             │ (<span style=\"color: #00d7ff; text-decoration-color: #00d7ff\">None</span>, <span style=\"color: #00af00; text-decoration-color: #00af00\">16</span>, <span style=\"color: #00af00; text-decoration-color: #00af00\">512</span>)        │       <span style=\"color: #00af00; text-decoration-color: #00af00\">265,216</span> │\n",
       "│ (<span style=\"color: #0087ff; text-decoration-color: #0087ff\">SeparableConv1D</span>)               │                        │               │\n",
       "├─────────────────────────────────┼────────────────────────┼───────────────┤\n",
       "│ batch_normalization_8           │ (<span style=\"color: #00d7ff; text-decoration-color: #00d7ff\">None</span>, <span style=\"color: #00af00; text-decoration-color: #00af00\">16</span>, <span style=\"color: #00af00; text-decoration-color: #00af00\">512</span>)        │         <span style=\"color: #00af00; text-decoration-color: #00af00\">2,048</span> │\n",
       "│ (<span style=\"color: #0087ff; text-decoration-color: #0087ff\">BatchNormalization</span>)            │                        │               │\n",
       "├─────────────────────────────────┼────────────────────────┼───────────────┤\n",
       "│ separable_conv1d_11             │ (<span style=\"color: #00d7ff; text-decoration-color: #00d7ff\">None</span>, <span style=\"color: #00af00; text-decoration-color: #00af00\">16</span>, <span style=\"color: #00af00; text-decoration-color: #00af00\">1024</span>)       │       <span style=\"color: #00af00; text-decoration-color: #00af00\">527,872</span> │\n",
       "│ (<span style=\"color: #0087ff; text-decoration-color: #0087ff\">SeparableConv1D</span>)               │                        │               │\n",
       "├─────────────────────────────────┼────────────────────────┼───────────────┤\n",
       "│ global_average_pooling1d_2      │ (<span style=\"color: #00d7ff; text-decoration-color: #00d7ff\">None</span>, <span style=\"color: #00af00; text-decoration-color: #00af00\">1024</span>)           │             <span style=\"color: #00af00; text-decoration-color: #00af00\">0</span> │\n",
       "│ (<span style=\"color: #0087ff; text-decoration-color: #0087ff\">GlobalAveragePooling1D</span>)        │                        │               │\n",
       "├─────────────────────────────────┼────────────────────────┼───────────────┤\n",
       "│ dense_4 (<span style=\"color: #0087ff; text-decoration-color: #0087ff\">Dense</span>)                 │ (<span style=\"color: #00d7ff; text-decoration-color: #00d7ff\">None</span>, <span style=\"color: #00af00; text-decoration-color: #00af00\">64</span>)             │        <span style=\"color: #00af00; text-decoration-color: #00af00\">65,600</span> │\n",
       "├─────────────────────────────────┼────────────────────────┼───────────────┤\n",
       "│ dropout_2 (<span style=\"color: #0087ff; text-decoration-color: #0087ff\">Dropout</span>)             │ (<span style=\"color: #00d7ff; text-decoration-color: #00d7ff\">None</span>, <span style=\"color: #00af00; text-decoration-color: #00af00\">64</span>)             │             <span style=\"color: #00af00; text-decoration-color: #00af00\">0</span> │\n",
       "├─────────────────────────────────┼────────────────────────┼───────────────┤\n",
       "│ dense_5 (<span style=\"color: #0087ff; text-decoration-color: #0087ff\">Dense</span>)                 │ (<span style=\"color: #00d7ff; text-decoration-color: #00d7ff\">None</span>, <span style=\"color: #00af00; text-decoration-color: #00af00\">5</span>)              │           <span style=\"color: #00af00; text-decoration-color: #00af00\">325</span> │\n",
       "└─────────────────────────────────┴────────────────────────┴───────────────┘\n",
       "</pre>\n"
      ],
      "text/plain": [
       "┏━━━━━━━━━━━━━━━━━━━━━━━━━━━━━━━━━┳━━━━━━━━━━━━━━━━━━━━━━━━┳━━━━━━━━━━━━━━━┓\n",
       "┃\u001b[1m \u001b[0m\u001b[1mLayer (type)                   \u001b[0m\u001b[1m \u001b[0m┃\u001b[1m \u001b[0m\u001b[1mOutput Shape          \u001b[0m\u001b[1m \u001b[0m┃\u001b[1m \u001b[0m\u001b[1m      Param #\u001b[0m\u001b[1m \u001b[0m┃\n",
       "┡━━━━━━━━━━━━━━━━━━━━━━━━━━━━━━━━━╇━━━━━━━━━━━━━━━━━━━━━━━━╇━━━━━━━━━━━━━━━┩\n",
       "│ separable_conv1d_8              │ (\u001b[38;5;45mNone\u001b[0m, \u001b[38;5;34m16\u001b[0m, \u001b[38;5;34m256\u001b[0m)        │         \u001b[38;5;34m6,781\u001b[0m │\n",
       "│ (\u001b[38;5;33mSeparableConv1D\u001b[0m)               │                        │               │\n",
       "├─────────────────────────────────┼────────────────────────┼───────────────┤\n",
       "│ batch_normalization_6           │ (\u001b[38;5;45mNone\u001b[0m, \u001b[38;5;34m16\u001b[0m, \u001b[38;5;34m256\u001b[0m)        │         \u001b[38;5;34m1,024\u001b[0m │\n",
       "│ (\u001b[38;5;33mBatchNormalization\u001b[0m)            │                        │               │\n",
       "├─────────────────────────────────┼────────────────────────┼───────────────┤\n",
       "│ separable_conv1d_9              │ (\u001b[38;5;45mNone\u001b[0m, \u001b[38;5;34m16\u001b[0m, \u001b[38;5;34m512\u001b[0m)        │       \u001b[38;5;34m132,864\u001b[0m │\n",
       "│ (\u001b[38;5;33mSeparableConv1D\u001b[0m)               │                        │               │\n",
       "├─────────────────────────────────┼────────────────────────┼───────────────┤\n",
       "│ batch_normalization_7           │ (\u001b[38;5;45mNone\u001b[0m, \u001b[38;5;34m16\u001b[0m, \u001b[38;5;34m512\u001b[0m)        │         \u001b[38;5;34m2,048\u001b[0m │\n",
       "│ (\u001b[38;5;33mBatchNormalization\u001b[0m)            │                        │               │\n",
       "├─────────────────────────────────┼────────────────────────┼───────────────┤\n",
       "│ separable_conv1d_10             │ (\u001b[38;5;45mNone\u001b[0m, \u001b[38;5;34m16\u001b[0m, \u001b[38;5;34m512\u001b[0m)        │       \u001b[38;5;34m265,216\u001b[0m │\n",
       "│ (\u001b[38;5;33mSeparableConv1D\u001b[0m)               │                        │               │\n",
       "├─────────────────────────────────┼────────────────────────┼───────────────┤\n",
       "│ batch_normalization_8           │ (\u001b[38;5;45mNone\u001b[0m, \u001b[38;5;34m16\u001b[0m, \u001b[38;5;34m512\u001b[0m)        │         \u001b[38;5;34m2,048\u001b[0m │\n",
       "│ (\u001b[38;5;33mBatchNormalization\u001b[0m)            │                        │               │\n",
       "├─────────────────────────────────┼────────────────────────┼───────────────┤\n",
       "│ separable_conv1d_11             │ (\u001b[38;5;45mNone\u001b[0m, \u001b[38;5;34m16\u001b[0m, \u001b[38;5;34m1024\u001b[0m)       │       \u001b[38;5;34m527,872\u001b[0m │\n",
       "│ (\u001b[38;5;33mSeparableConv1D\u001b[0m)               │                        │               │\n",
       "├─────────────────────────────────┼────────────────────────┼───────────────┤\n",
       "│ global_average_pooling1d_2      │ (\u001b[38;5;45mNone\u001b[0m, \u001b[38;5;34m1024\u001b[0m)           │             \u001b[38;5;34m0\u001b[0m │\n",
       "│ (\u001b[38;5;33mGlobalAveragePooling1D\u001b[0m)        │                        │               │\n",
       "├─────────────────────────────────┼────────────────────────┼───────────────┤\n",
       "│ dense_4 (\u001b[38;5;33mDense\u001b[0m)                 │ (\u001b[38;5;45mNone\u001b[0m, \u001b[38;5;34m64\u001b[0m)             │        \u001b[38;5;34m65,600\u001b[0m │\n",
       "├─────────────────────────────────┼────────────────────────┼───────────────┤\n",
       "│ dropout_2 (\u001b[38;5;33mDropout\u001b[0m)             │ (\u001b[38;5;45mNone\u001b[0m, \u001b[38;5;34m64\u001b[0m)             │             \u001b[38;5;34m0\u001b[0m │\n",
       "├─────────────────────────────────┼────────────────────────┼───────────────┤\n",
       "│ dense_5 (\u001b[38;5;33mDense\u001b[0m)                 │ (\u001b[38;5;45mNone\u001b[0m, \u001b[38;5;34m5\u001b[0m)              │           \u001b[38;5;34m325\u001b[0m │\n",
       "└─────────────────────────────────┴────────────────────────┴───────────────┘\n"
      ]
     },
     "metadata": {},
     "output_type": "display_data"
    },
    {
     "data": {
      "text/html": [
       "<pre style=\"white-space:pre;overflow-x:auto;line-height:normal;font-family:Menlo,'DejaVu Sans Mono',consolas,'Courier New',monospace\"><span style=\"font-weight: bold\"> Total params: </span><span style=\"color: #00af00; text-decoration-color: #00af00\">1,003,778</span> (3.83 MB)\n",
       "</pre>\n"
      ],
      "text/plain": [
       "\u001b[1m Total params: \u001b[0m\u001b[38;5;34m1,003,778\u001b[0m (3.83 MB)\n"
      ]
     },
     "metadata": {},
     "output_type": "display_data"
    },
    {
     "data": {
      "text/html": [
       "<pre style=\"white-space:pre;overflow-x:auto;line-height:normal;font-family:Menlo,'DejaVu Sans Mono',consolas,'Courier New',monospace\"><span style=\"font-weight: bold\"> Trainable params: </span><span style=\"color: #00af00; text-decoration-color: #00af00\">1,001,218</span> (3.82 MB)\n",
       "</pre>\n"
      ],
      "text/plain": [
       "\u001b[1m Trainable params: \u001b[0m\u001b[38;5;34m1,001,218\u001b[0m (3.82 MB)\n"
      ]
     },
     "metadata": {},
     "output_type": "display_data"
    },
    {
     "data": {
      "text/html": [
       "<pre style=\"white-space:pre;overflow-x:auto;line-height:normal;font-family:Menlo,'DejaVu Sans Mono',consolas,'Courier New',monospace\"><span style=\"font-weight: bold\"> Non-trainable params: </span><span style=\"color: #00af00; text-decoration-color: #00af00\">2,560</span> (10.00 KB)\n",
       "</pre>\n"
      ],
      "text/plain": [
       "\u001b[1m Non-trainable params: \u001b[0m\u001b[38;5;34m2,560\u001b[0m (10.00 KB)\n"
      ]
     },
     "metadata": {},
     "output_type": "display_data"
    }
   ],
   "source": [
    "compileModel(sequential_model, 0.001)"
   ]
  },
  {
   "cell_type": "code",
   "execution_count": 34,
   "metadata": {
    "colab": {
     "base_uri": "https://localhost:8080/"
    },
    "id": "1kzxkJiIfrON",
    "outputId": "845a9554-0b5e-4540-a2b7-06dea49edd82"
   },
   "outputs": [
    {
     "name": "stdout",
     "output_type": "stream",
     "text": [
      "Epoch 1/32\n",
      "\u001b[1m5836/5836\u001b[0m \u001b[32m━━━━━━━━━━━━━━━━━━━━\u001b[0m\u001b[37m\u001b[0m \u001b[1m54s\u001b[0m 8ms/step - categorical_accuracy: 0.3919 - loss: 1.2472 - val_categorical_accuracy: 0.4186 - val_loss: 1.3656 - learning_rate: 0.0010\n",
      "Epoch 2/32\n",
      "\u001b[1m5836/5836\u001b[0m \u001b[32m━━━━━━━━━━━━━━━━━━━━\u001b[0m\u001b[37m\u001b[0m \u001b[1m39s\u001b[0m 7ms/step - categorical_accuracy: 0.4486 - loss: 1.1196 - val_categorical_accuracy: 0.4501 - val_loss: 1.2338 - learning_rate: 0.0010\n",
      "Epoch 3/32\n",
      "\u001b[1m5836/5836\u001b[0m \u001b[32m━━━━━━━━━━━━━━━━━━━━\u001b[0m\u001b[37m\u001b[0m \u001b[1m39s\u001b[0m 7ms/step - categorical_accuracy: 0.4816 - loss: 1.0656 - val_categorical_accuracy: 0.4893 - val_loss: 1.1702 - learning_rate: 0.0010\n",
      "Epoch 4/32\n",
      "\u001b[1m5836/5836\u001b[0m \u001b[32m━━━━━━━━━━━━━━━━━━━━\u001b[0m\u001b[37m\u001b[0m \u001b[1m38s\u001b[0m 7ms/step - categorical_accuracy: 0.5119 - loss: 1.0140 - val_categorical_accuracy: 0.5182 - val_loss: 1.1238 - learning_rate: 0.0010\n",
      "Epoch 5/32\n",
      "\u001b[1m5836/5836\u001b[0m \u001b[32m━━━━━━━━━━━━━━━━━━━━\u001b[0m\u001b[37m\u001b[0m \u001b[1m38s\u001b[0m 6ms/step - categorical_accuracy: 0.5450 - loss: 0.9572 - val_categorical_accuracy: 0.5571 - val_loss: 1.0509 - learning_rate: 0.0010\n",
      "Epoch 6/32\n",
      "\u001b[1m5836/5836\u001b[0m \u001b[32m━━━━━━━━━━━━━━━━━━━━\u001b[0m\u001b[37m\u001b[0m \u001b[1m37s\u001b[0m 6ms/step - categorical_accuracy: 0.5732 - loss: 0.9105 - val_categorical_accuracy: 0.5801 - val_loss: 1.0057 - learning_rate: 0.0010\n",
      "Epoch 7/32\n",
      "\u001b[1m5836/5836\u001b[0m \u001b[32m━━━━━━━━━━━━━━━━━━━━\u001b[0m\u001b[37m\u001b[0m \u001b[1m37s\u001b[0m 6ms/step - categorical_accuracy: 0.6007 - loss: 0.8621 - val_categorical_accuracy: 0.5965 - val_loss: 0.9992 - learning_rate: 0.0010\n",
      "Epoch 8/32\n",
      "\u001b[1m5836/5836\u001b[0m \u001b[32m━━━━━━━━━━━━━━━━━━━━\u001b[0m\u001b[37m\u001b[0m \u001b[1m37s\u001b[0m 6ms/step - categorical_accuracy: 0.6251 - loss: 0.8193 - val_categorical_accuracy: 0.6032 - val_loss: 0.9853 - learning_rate: 0.0010\n",
      "Epoch 9/32\n",
      "\u001b[1m5836/5836\u001b[0m \u001b[32m━━━━━━━━━━━━━━━━━━━━\u001b[0m\u001b[37m\u001b[0m \u001b[1m37s\u001b[0m 6ms/step - categorical_accuracy: 0.6460 - loss: 0.7811 - val_categorical_accuracy: 0.6197 - val_loss: 0.9480 - learning_rate: 0.0010\n",
      "Epoch 10/32\n",
      "\u001b[1m5836/5836\u001b[0m \u001b[32m━━━━━━━━━━━━━━━━━━━━\u001b[0m\u001b[37m\u001b[0m \u001b[1m37s\u001b[0m 6ms/step - categorical_accuracy: 0.6645 - loss: 0.7477 - val_categorical_accuracy: 0.6406 - val_loss: 0.8968 - learning_rate: 0.0010\n",
      "Epoch 11/32\n",
      "\u001b[1m5836/5836\u001b[0m \u001b[32m━━━━━━━━━━━━━━━━━━━━\u001b[0m\u001b[37m\u001b[0m \u001b[1m37s\u001b[0m 6ms/step - categorical_accuracy: 0.6830 - loss: 0.7150 - val_categorical_accuracy: 0.6269 - val_loss: 0.9519 - learning_rate: 0.0010\n",
      "Epoch 12/32\n",
      "\u001b[1m5836/5836\u001b[0m \u001b[32m━━━━━━━━━━━━━━━━━━━━\u001b[0m\u001b[37m\u001b[0m \u001b[1m37s\u001b[0m 6ms/step - categorical_accuracy: 0.6964 - loss: 0.6877 - val_categorical_accuracy: 0.6558 - val_loss: 0.8809 - learning_rate: 0.0010\n",
      "Epoch 13/32\n",
      "\u001b[1m5836/5836\u001b[0m \u001b[32m━━━━━━━━━━━━━━━━━━━━\u001b[0m\u001b[37m\u001b[0m \u001b[1m37s\u001b[0m 6ms/step - categorical_accuracy: 0.7116 - loss: 0.6590 - val_categorical_accuracy: 0.6625 - val_loss: 0.8842 - learning_rate: 0.0010\n",
      "Epoch 14/32\n",
      "\u001b[1m5836/5836\u001b[0m \u001b[32m━━━━━━━━━━━━━━━━━━━━\u001b[0m\u001b[37m\u001b[0m \u001b[1m38s\u001b[0m 7ms/step - categorical_accuracy: 0.7245 - loss: 0.6366 - val_categorical_accuracy: 0.6662 - val_loss: 0.8801 - learning_rate: 0.0010\n",
      "Epoch 15/32\n",
      "\u001b[1m5836/5836\u001b[0m \u001b[32m━━━━━━━━━━━━━━━━━━━━\u001b[0m\u001b[37m\u001b[0m \u001b[1m39s\u001b[0m 7ms/step - categorical_accuracy: 0.7387 - loss: 0.6107 - val_categorical_accuracy: 0.6763 - val_loss: 0.8707 - learning_rate: 0.0010\n",
      "Epoch 16/32\n",
      "\u001b[1m5836/5836\u001b[0m \u001b[32m━━━━━━━━━━━━━━━━━━━━\u001b[0m\u001b[37m\u001b[0m \u001b[1m39s\u001b[0m 7ms/step - categorical_accuracy: 0.7504 - loss: 0.5874 - val_categorical_accuracy: 0.6795 - val_loss: 0.8754 - learning_rate: 0.0010\n",
      "Epoch 17/32\n",
      "\u001b[1m5836/5836\u001b[0m \u001b[32m━━━━━━━━━━━━━━━━━━━━\u001b[0m\u001b[37m\u001b[0m \u001b[1m39s\u001b[0m 7ms/step - categorical_accuracy: 0.7609 - loss: 0.5689 - val_categorical_accuracy: 0.6716 - val_loss: 0.8890 - learning_rate: 0.0010\n",
      "Epoch 18/32\n",
      "\u001b[1m5836/5836\u001b[0m \u001b[32m━━━━━━━━━━━━━━━━━━━━\u001b[0m\u001b[37m\u001b[0m \u001b[1m39s\u001b[0m 7ms/step - categorical_accuracy: 0.7709 - loss: 0.5498 - val_categorical_accuracy: 0.6907 - val_loss: 0.8569 - learning_rate: 0.0010\n",
      "Epoch 19/32\n",
      "\u001b[1m5836/5836\u001b[0m \u001b[32m━━━━━━━━━━━━━━━━━━━━\u001b[0m\u001b[37m\u001b[0m \u001b[1m39s\u001b[0m 7ms/step - categorical_accuracy: 0.7819 - loss: 0.5297 - val_categorical_accuracy: 0.6871 - val_loss: 0.8736 - learning_rate: 0.0010\n",
      "Epoch 20/32\n",
      "\u001b[1m5836/5836\u001b[0m \u001b[32m━━━━━━━━━━━━━━━━━━━━\u001b[0m\u001b[37m\u001b[0m \u001b[1m39s\u001b[0m 7ms/step - categorical_accuracy: 0.7910 - loss: 0.5126 - val_categorical_accuracy: 0.6964 - val_loss: 0.8753 - learning_rate: 0.0010\n",
      "Epoch 21/32\n",
      "\u001b[1m5836/5836\u001b[0m \u001b[32m━━━━━━━━━━━━━━━━━━━━\u001b[0m\u001b[37m\u001b[0m \u001b[1m39s\u001b[0m 7ms/step - categorical_accuracy: 0.7999 - loss: 0.4927 - val_categorical_accuracy: 0.6919 - val_loss: 0.8790 - learning_rate: 0.0010\n",
      "Epoch 22/32\n",
      "\u001b[1m5836/5836\u001b[0m \u001b[32m━━━━━━━━━━━━━━━━━━━━\u001b[0m\u001b[37m\u001b[0m \u001b[1m39s\u001b[0m 7ms/step - categorical_accuracy: 0.8385 - loss: 0.4090 - val_categorical_accuracy: 0.7254 - val_loss: 0.8443 - learning_rate: 5.0000e-04\n",
      "Epoch 23/32\n",
      "\u001b[1m5836/5836\u001b[0m \u001b[32m━━━━━━━━━━━━━━━━━━━━\u001b[0m\u001b[37m\u001b[0m \u001b[1m39s\u001b[0m 7ms/step - categorical_accuracy: 0.8568 - loss: 0.3660 - val_categorical_accuracy: 0.7270 - val_loss: 0.8584 - learning_rate: 5.0000e-04\n",
      "Epoch 24/32\n",
      "\u001b[1m5836/5836\u001b[0m \u001b[32m━━━━━━━━━━━━━━━━━━━━\u001b[0m\u001b[37m\u001b[0m \u001b[1m39s\u001b[0m 7ms/step - categorical_accuracy: 0.8638 - loss: 0.3484 - val_categorical_accuracy: 0.7278 - val_loss: 0.9076 - learning_rate: 5.0000e-04\n",
      "Epoch 25/32\n",
      "\u001b[1m5836/5836\u001b[0m \u001b[32m━━━━━━━━━━━━━━━━━━━━\u001b[0m\u001b[37m\u001b[0m \u001b[1m39s\u001b[0m 7ms/step - categorical_accuracy: 0.8714 - loss: 0.3357 - val_categorical_accuracy: 0.7321 - val_loss: 0.8955 - learning_rate: 5.0000e-04\n",
      "Epoch 26/32\n",
      "\u001b[1m5836/5836\u001b[0m \u001b[32m━━━━━━━━━━━━━━━━━━━━\u001b[0m\u001b[37m\u001b[0m \u001b[1m39s\u001b[0m 7ms/step - categorical_accuracy: 0.8933 - loss: 0.2856 - val_categorical_accuracy: 0.7442 - val_loss: 0.9099 - learning_rate: 2.5000e-04\n",
      "Epoch 27/32\n",
      "\u001b[1m5836/5836\u001b[0m \u001b[32m━━━━━━━━━━━━━━━━━━━━\u001b[0m\u001b[37m\u001b[0m \u001b[1m39s\u001b[0m 7ms/step - categorical_accuracy: 0.9021 - loss: 0.2633 - val_categorical_accuracy: 0.7411 - val_loss: 0.9619 - learning_rate: 2.5000e-04\n"
     ]
    },
    {
     "data": {
      "image/png": "[encoded data removed]",
      "text/plain": [
       "<Figure size 640x480 with 1 Axes>"
      ]
     },
     "metadata": {},
     "output_type": "display_data"
    },
    {
     "data": {
      "image/png": "[encoded data removed]",
      "text/plain": [
       "<Figure size 640x480 with 1 Axes>"
      ]
     },
     "metadata": {},
     "output_type": "display_data"
    }
   ],
   "source": [
    "fitModel(sequential_model, x_train, y_train, x_val, y_val, 32, True, dist_class_weight, 1, 64)"
   ]
  },
  {
   "cell_type": "code",
   "execution_count": 35,
   "metadata": {
    "colab": {
     "base_uri": "https://localhost:8080/"
    },
    "executionInfo": {
     "elapsed": 17077,
     "status": "ok",
     "timestamp": 1742145588990,
     "user": {
      "displayName": "William Frid",
      "userId": "05510314506282401691"
     },
     "user_tz": -60
    },
    "id": "8IDR0O0vfrON",
    "outputId": "7fc7f472-2d44-4c45-fdae-5011ec66f68a"
   },
   "outputs": [
    {
     "name": "stdout",
     "output_type": "stream",
     "text": [
      "\u001b[1m3648/3648\u001b[0m \u001b[32m━━━━━━━━━━━━━━━━━━━━\u001b[0m\u001b[37m\u001b[0m \u001b[1m13s\u001b[0m 3ms/step - categorical_accuracy: 0.7271 - loss: 0.8376\n",
      "Test loss: 0.8390946984291077\n",
      "Test accuracy: 0.726229727268219\n"
     ]
    }
   ],
   "source": [
    "# Test the model.\n",
    "test_loss, test_accuracy = sequential_model.evaluate(x_test, y_test, verbose=1)\n",
    "print(f\"Test loss: {test_loss}\")\n",
    "print(f\"Test accuracy: {test_accuracy}\")"
   ]
  },
  {
   "cell_type": "code",
   "execution_count": 36,
   "metadata": {},
   "outputs": [
    {
     "name": "stderr",
     "output_type": "stream",
     "text": [
      "WARNING:absl:You are saving your model as an HDF5 file via `model.save()` or `keras.saving.save_model(model)`. This file format is considered legacy. We recommend using instead the native Keras format, e.g. `model.save('my_model.keras')` or `keras.saving.save_model(model, 'my_model.keras')`. \n"
     ]
    }
   ],
   "source": [
    "# Export the model in HDF5 format\n",
    "sequential_model.save('sequential_model.h5')\n",
    "sequential_model.save('sequential_model.keras')"
   ]
  },
  {
   "cell_type": "code",
   "execution_count": null,
   "metadata": {},
   "outputs": [],
   "source": [
    "from keras.models import load_model\n",
    "\n",
    "# Load the model\n",
    "loaded_model = load_model('sequential_model.h5')"
   ]
  },
  {
   "cell_type": "code",
   "execution_count": null,
   "metadata": {},
   "outputs": [],
   "source": [
    "\n",
    "\n",
    "# Evaluate the loaded model\n",
    "loaded_test_loss, loaded_test_accuracy = loaded_model.evaluate(x_test, y_test, verbose=1)\n",
    "print(f\"Loaded model test loss: {loaded_test_loss}\")\n",
    "print(f\"Loaded model test accuracy: {loaded_test_accuracy}\")"
   ]
  },
  {
   "cell_type": "code",
   "execution_count": 3,
   "metadata": {},
   "outputs": [
    {
     "name": "stdout",
     "output_type": "stream",
     "text": [
      "INFO:tensorflow:Assets written to: /tmp/tmp6o6_xy2v/assets\n"
     ]
    },
    {
     "name": "stderr",
     "output_type": "stream",
     "text": [
      "INFO:tensorflow:Assets written to: /tmp/tmp6o6_xy2v/assets\n"
     ]
    },
    {
     "name": "stdout",
     "output_type": "stream",
     "text": [
      "Saved artifact at '/tmp/tmp6o6_xy2v'. The following endpoints are available:\n",
      "\n",
      "* Endpoint 'serve'\n",
      "  args_0 (POSITIONAL_ONLY): TensorSpec(shape=(None, 16, 25), dtype=tf.float32, name='input_layer_2')\n",
      "Output Type:\n",
      "  TensorSpec(shape=(None, 5), dtype=tf.float16, name=None)\n",
      "Captures:\n",
      "  137744111793632: TensorSpec(shape=(), dtype=tf.resource, name=None)\n",
      "  137744111691984: TensorSpec(shape=(), dtype=tf.resource, name=None)\n",
      "  137744111696912: TensorSpec(shape=(), dtype=tf.resource, name=None)\n",
      "  137744164238816: TensorSpec(shape=(), dtype=tf.resource, name=None)\n",
      "  137744164237056: TensorSpec(shape=(), dtype=tf.resource, name=None)\n",
      "  137744111682128: TensorSpec(shape=(), dtype=tf.resource, name=None)\n",
      "  137744164239872: TensorSpec(shape=(), dtype=tf.resource, name=None)\n",
      "  137744164237408: TensorSpec(shape=(), dtype=tf.resource, name=None)\n",
      "  137744164229840: TensorSpec(shape=(), dtype=tf.resource, name=None)\n",
      "  137744164231952: TensorSpec(shape=(), dtype=tf.resource, name=None)\n",
      "  137744112029184: TensorSpec(shape=(), dtype=tf.resource, name=None)\n",
      "  137744112025840: TensorSpec(shape=(), dtype=tf.resource, name=None)\n",
      "  137744112026544: TensorSpec(shape=(), dtype=tf.resource, name=None)\n",
      "  137744112028480: TensorSpec(shape=(), dtype=tf.resource, name=None)\n",
      "  137744112035696: TensorSpec(shape=(), dtype=tf.resource, name=None)\n",
      "  137744112033936: TensorSpec(shape=(), dtype=tf.resource, name=None)\n",
      "  137744112034992: TensorSpec(shape=(), dtype=tf.resource, name=None)\n",
      "  137744112039040: TensorSpec(shape=(), dtype=tf.resource, name=None)\n",
      "  137744112040800: TensorSpec(shape=(), dtype=tf.resource, name=None)\n",
      "  137744112038336: TensorSpec(shape=(), dtype=tf.resource, name=None)\n",
      "  137744112039568: TensorSpec(shape=(), dtype=tf.resource, name=None)\n",
      "  137744106951552: TensorSpec(shape=(), dtype=tf.resource, name=None)\n",
      "  137744106949968: TensorSpec(shape=(), dtype=tf.resource, name=None)\n",
      "  137744106948560: TensorSpec(shape=(), dtype=tf.resource, name=None)\n",
      "  137744106957712: TensorSpec(shape=(), dtype=tf.resource, name=None)\n",
      "  137744106958416: TensorSpec(shape=(), dtype=tf.resource, name=None)\n",
      "  137744107146400: TensorSpec(shape=(), dtype=tf.resource, name=None)\n",
      "  137744107144112: TensorSpec(shape=(), dtype=tf.resource, name=None)\n",
      "Model has been converted to TensorFlow Lite and saved as 'model.tflite'\n"
     ]
    },
    {
     "name": "stderr",
     "output_type": "stream",
     "text": [
      "WARNING: All log messages before absl::InitializeLog() is called are written to STDERR\n",
      "W0000 00:00:1742243741.989457   60149 tf_tfl_flatbuffer_helpers.cc:365] Ignored output_format.\n",
      "W0000 00:00:1742243741.989480   60149 tf_tfl_flatbuffer_helpers.cc:368] Ignored drop_control_dependency.\n",
      "2025-03-17 21:35:41.990067: I tensorflow/cc/saved_model/reader.cc:83] Reading SavedModel from: /tmp/tmp6o6_xy2v\n",
      "2025-03-17 21:35:41.991807: I tensorflow/cc/saved_model/reader.cc:52] Reading meta graph with tags { serve }\n",
      "2025-03-17 21:35:41.991825: I tensorflow/cc/saved_model/reader.cc:147] Reading SavedModel debug info (if present) from: /tmp/tmp6o6_xy2v\n",
      "I0000 00:00:1742243742.005711   60149 mlir_graph_optimization_pass.cc:401] MLIR V1 optimization pass is not enabled\n",
      "2025-03-17 21:35:42.008557: I tensorflow/cc/saved_model/loader.cc:236] Restoring SavedModel bundle.\n",
      "2025-03-17 21:35:42.103455: I tensorflow/cc/saved_model/loader.cc:220] Running initialization op on SavedModel bundle at path: /tmp/tmp6o6_xy2v\n",
      "2025-03-17 21:35:42.131351: I tensorflow/cc/saved_model/loader.cc:466] SavedModel load for tags { serve }; Status: success: OK. Took 141286 microseconds.\n",
      "2025-03-17 21:35:42.157855: I tensorflow/compiler/mlir/tensorflow/utils/dump_mlir_util.cc:268] disabling MLIR crash reproducer, set env var `MLIR_CRASH_REPRODUCER_DIRECTORY` to enable.\n",
      "2025-03-17 21:35:42.347205: W tensorflow/compiler/mlir/lite/flatbuffer_export.cc:3825] TFLite interpreter needs to link Flex delegate in order to run the model since it contains the following Select TFop(s):\n",
      "Flex ops: FlexBiasAdd, FlexConv2D, FlexDepthwiseConv2dNative, FlexMatMul, FlexMul, FlexSigmoid\n",
      "Details:\n",
      "\ttf.BiasAdd(tensor<?x16x1024xf16>, tensor<1024xf16>) -> (tensor<?x16x1024xf16>) : {data_format = \"NHWC\", device = \"\"}\n",
      "\ttf.BiasAdd(tensor<?x16x256xf16>, tensor<256xf16>) -> (tensor<?x16x256xf16>) : {data_format = \"NHWC\", device = \"\"}\n",
      "\ttf.BiasAdd(tensor<?x16x512xf16>, tensor<512xf16>) -> (tensor<?x16x512xf16>) : {data_format = \"NHWC\", device = \"\"}\n",
      "\ttf.BiasAdd(tensor<?x5xf16>, tensor<5xf16>) -> (tensor<?x5xf16>) : {data_format = \"NHWC\", device = \"\"}\n",
      "\ttf.BiasAdd(tensor<?x64xf16>, tensor<64xf16>) -> (tensor<?x64xf16>) : {data_format = \"NHWC\", device = \"\"}\n",
      "\ttf.Conv2D(tensor<?x1x16x256xf16>, tensor<1x1x256x512xf16>) -> (tensor<?x1x16x512xf16>) : {data_format = \"NHWC\", device = \"\", dilations = [1, 1, 1, 1], explicit_paddings = [], padding = \"VALID\", strides = [1, 1, 1, 1], use_cudnn_on_gpu = true}\n",
      "\ttf.Conv2D(tensor<?x1x16x25xf16>, tensor<1x1x25x256xf16>) -> (tensor<?x1x16x256xf16>) : {data_format = \"NHWC\", device = \"\", dilations = [1, 1, 1, 1], explicit_paddings = [], padding = \"VALID\", strides = [1, 1, 1, 1], use_cudnn_on_gpu = true}\n",
      "\ttf.Conv2D(tensor<?x1x16x512xf16>, tensor<1x1x512x1024xf16>) -> (tensor<?x1x16x1024xf16>) : {data_format = \"NHWC\", device = \"\", dilations = [1, 1, 1, 1], explicit_paddings = [], padding = \"VALID\", strides = [1, 1, 1, 1], use_cudnn_on_gpu = true}\n",
      "\ttf.Conv2D(tensor<?x1x16x512xf16>, tensor<1x1x512x512xf16>) -> (tensor<?x1x16x512xf16>) : {data_format = \"NHWC\", device = \"\", dilations = [1, 1, 1, 1], explicit_paddings = [], padding = \"VALID\", strides = [1, 1, 1, 1], use_cudnn_on_gpu = true}\n",
      "\ttf.DepthwiseConv2dNative(tensor<?x1x16x256xf16>, tensor<1x5x256x1xf16>) -> (tensor<?x1x16x256xf16>) : {data_format = \"NHWC\", device = \"\", dilations = [1, 1, 1, 1], explicit_paddings = [], padding = \"SAME\", strides = [1, 1, 1, 1]}\n",
      "\ttf.DepthwiseConv2dNative(tensor<?x1x16x25xf16>, tensor<1x5x25x1xf16>) -> (tensor<?x1x16x25xf16>) : {data_format = \"NHWC\", device = \"\", dilations = [1, 1, 1, 1], explicit_paddings = [], padding = \"SAME\", strides = [1, 1, 1, 1]}\n",
      "\ttf.DepthwiseConv2dNative(tensor<?x1x16x512xf16>, tensor<1x5x512x1xf16>) -> (tensor<?x1x16x512xf16>) : {data_format = \"NHWC\", device = \"\", dilations = [1, 1, 1, 1], explicit_paddings = [], padding = \"SAME\", strides = [1, 1, 1, 1]}\n",
      "\ttf.MatMul(tensor<?x1024xf16>, tensor<64x1024xf16>) -> (tensor<?x64xf16>) : {grad_a = false, grad_b = false, transpose_a = false, transpose_b = true}\n",
      "\ttf.MatMul(tensor<?x64xf16>, tensor<5x64xf16>) -> (tensor<?x5xf16>) : {grad_a = false, grad_b = false, transpose_a = false, transpose_b = true}\n",
      "\ttf.Mul(tensor<?x16x1024xf16>, tensor<?x16x1024xf16>) -> (tensor<?x16x1024xf16>) : {device = \"\"}\n",
      "\ttf.Mul(tensor<?x16x256xf16>, tensor<?x16x256xf16>) -> (tensor<?x16x256xf16>) : {device = \"\"}\n",
      "\ttf.Mul(tensor<?x16x512xf16>, tensor<?x16x512xf16>) -> (tensor<?x16x512xf16>) : {device = \"\"}\n",
      "\ttf.Mul(tensor<?x64xf16>, tensor<?x64xf16>) -> (tensor<?x64xf16>) : {device = \"\"}\n",
      "\ttf.Sigmoid(tensor<?x16x1024xf16>) -> (tensor<?x16x1024xf16>) : {device = \"\"}\n",
      "\ttf.Sigmoid(tensor<?x16x256xf16>) -> (tensor<?x16x256xf16>) : {device = \"\"}\n",
      "\ttf.Sigmoid(tensor<?x16x512xf16>) -> (tensor<?x16x512xf16>) : {device = \"\"}\n",
      "\ttf.Sigmoid(tensor<?x64xf16>) -> (tensor<?x64xf16>) : {device = \"\"}\n",
      "See instructions: https://www.tensorflow.org/lite/guide/ops_select\n"
     ]
    }
   ],
   "source": [
    "import tensorflow as tf\n",
    "\n",
    "# Convert the model to TensorFlow Lite format\n",
    "converter = tf.lite.TFLiteConverter.from_keras_model(loaded_model)\n",
    "converter.optimizations = [tf.lite.Optimize.DEFAULT]\n",
    "converter.target_spec.supported_ops = [\n",
    "  tf.lite.OpsSet.TFLITE_BUILTINS, # enable TensorFlow Lite ops.\n",
    "  tf.lite.OpsSet.SELECT_TF_OPS # enable TensorFlow ops.\n",
    "]\n",
    "tflite_model = converter.convert()\n",
    "\n",
    "# Save the model to a file\n",
    "with open('model.tflite', 'wb') as f:\n",
    "    f.write(tflite_model)\n",
    "\n",
    "print(\"Model has been converted to TensorFlow Lite and saved as 'model.tflite'\")"
   ]
  },
  {
   "cell_type": "code",
   "execution_count": 37,
   "metadata": {},
   "outputs": [
    {
     "name": "stdout",
     "output_type": "stream",
     "text": [
      "Input Shape: [ 1 16 25]\n",
      "Input Type: <class 'numpy.float32'>\n",
      "Output Shape: [1 5]\n",
      "Output Type: <class 'numpy.float16'>\n"
     ]
    },
    {
     "name": "stderr",
     "output_type": "stream",
     "text": [
      "I0000 00:00:1742244318.196042   60149 gpu_device.cc:2022] Created device /job:localhost/replica:0/task:0/device:GPU:0 with 2919 MB memory:  -> device: 0, name: NVIDIA GeForce RTX 2070 SUPER, pci bus id: 0000:09:00.0, compute capability: 7.5\n"
     ]
    }
   ],
   "source": [
    "interpreter = tf.lite.Interpreter(model_path = \"model.tflite\")\n",
    "input_details = interpreter.get_input_details()\n",
    "output_details = interpreter.get_output_details()\n",
    "print(\"Input Shape:\", input_details[0]['shape'])\n",
    "print(\"Input Type:\", input_details[0]['dtype'])\n",
    "print(\"Output Shape:\", output_details[0]['shape'])\n",
    "print(\"Output Type:\", output_details[0]['dtype'])"
   ]
  },
  {
   "cell_type": "code",
   "execution_count": 38,
   "metadata": {},
   "outputs": [
    {
     "name": "stdout",
     "output_type": "stream",
     "text": [
      "(116711, 16, 25)\n",
      "(116711, 16, 25)\n"
     ]
    }
   ],
   "source": [
    "print(x_test.shape)\n",
    "print(x_test.shape)"
   ]
  },
  {
   "cell_type": "code",
   "execution_count": 39,
   "metadata": {},
   "outputs": [
    {
     "name": "stdout",
     "output_type": "stream",
     "text": [
      "Input Shape: [116711     16     25]\n",
      "Input Type: <class 'numpy.float32'>\n",
      "Output Shape: [116711     16     25]\n",
      "Output Type: <class 'numpy.float16'>\n"
     ]
    }
   ],
   "source": [
    "interpreter.resize_tensor_input(input_details[0]['index'], x_test.shape)\n",
    "interpreter.resize_tensor_input(output_details[0]['index'], x_test.shape)\n",
    "interpreter.allocate_tensors()\n",
    "input_details = interpreter.get_input_details()\n",
    "output_details = interpreter.get_output_details()\n",
    "print(\"Input Shape:\", input_details[0]['shape'])\n",
    "print(\"Input Type:\", input_details[0]['dtype'])\n",
    "print(\"Output Shape:\", output_details[0]['shape'])\n",
    "print(\"Output Type:\", output_details[0]['dtype'])"
   ]
  },
  {
   "cell_type": "code",
   "execution_count": null,
   "metadata": {},
   "outputs": [],
   "source": [
    "\n",
    "interpreter.set_tensor(input_details[0]['index'], x_test.astype(np.float32))\n",
    "interpreter.invoke()\n",
    "tflite_model_predictions = interpreter.get_tensor(output_details[0]['index'])\n",
    "print(\"Prediction results shape:\", tflite_model_predictions.shape)\n",
    "prediction_classes = np.argmax(tflite_model_predictions, axis=1)"
   ]
  },
  {
   "cell_type": "code",
   "execution_count": 6,
   "metadata": {},
   "outputs": [
    {
     "name": "stdout",
     "output_type": "stream",
     "text": [
      "Size of model.tflite: 1.9286079406738281 MB\n"
     ]
    }
   ],
   "source": [
    "import os\n",
    "\n",
    "#Print size of model.tflite in MB\n",
    "print(f\"Size of model.tflite: {os.path.getsize('model.tflite') / 1024 / 1024} MB\")"
   ]
  }
 ],
 "metadata": {
  "accelerator": "GPU",
  "colab": {
   "gpuType": "T4",
   "provenance": []
  },
  "kernelspec": {
   "display_name": "Python 3",
   "name": "python3"
  },
  "language_info": {
   "codemirror_mode": {
    "name": "ipython",
    "version": 3
   },
   "file_extension": ".py",
   "mimetype": "text/x-python",
   "name": "python",
   "nbconvert_exporter": "python",
   "pygments_lexer": "ipython3",
   "version": "3.10.16"
  }
 },
 "nbformat": 4,
 "nbformat_minor": 0
}
