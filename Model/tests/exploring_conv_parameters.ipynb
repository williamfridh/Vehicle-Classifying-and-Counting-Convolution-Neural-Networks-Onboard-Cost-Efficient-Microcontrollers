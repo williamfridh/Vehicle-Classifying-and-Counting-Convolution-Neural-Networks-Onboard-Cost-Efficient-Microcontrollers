{
  "cells": [
    {
      "cell_type": "markdown",
      "metadata": {},
      "source": [
        "# Vehicle Classification Model\n",
        "\n",
        "This file contains the code for creatiing, training, and compressing the CNN used for the thesis project."
      ]
    },
    {
      "cell_type": "code",
      "execution_count": 5,
      "metadata": {},
      "outputs": [],
      "source": [
        "DATASET_PATH = \"dataset_mix_aug.csv\"\n",
        "INPUT_SHAPE = (16, 8, 1)\n",
        "\n",
        "MODEL_NAME = \"100k\"\n",
        "\n",
        "GENERATE_KERAS_MODLE = False\n",
        "KERAS_MODEL_NAME = f\"{MODEL_NAME}.h5\"  # Try using .keras instead.\n",
        "\n",
        "TF_LITE_MODEL_FILE_NAME = f\"{MODEL_NAME}.tflite\""
      ]
    },
    {
      "cell_type": "markdown",
      "metadata": {
        "id": "4d6YB6Mh93Vc"
      },
      "source": [
        "## Imports\n",
        "\n",
        "Place all imports in this section."
      ]
    },
    {
      "cell_type": "code",
      "execution_count": 6,
      "metadata": {
        "id": "dzLKpmZICaWN"
      },
      "outputs": [],
      "source": [
        "import os\n",
        "import sys\n",
        "import numpy as np\n",
        "import pandas as pd\n",
        "import matplotlib.pyplot as plt\n",
        "import seaborn as sns\n",
        "\n",
        "from sklearn.model_selection import train_test_split\n",
        "from sklearn.utils.class_weight import compute_class_weight\n",
        "from sklearn.preprocessing import LabelEncoder\n",
        "from sklearn.metrics import confusion_matrix, classification_report\n",
        "\n",
        "import tensorflow as tf\n",
        "from tensorflow import keras\n",
        "from tensorflow.keras.layers import (\n",
        "    Flatten, Dense, Conv2D, MaxPooling2D, BatchNormalization, Dropout, \n",
        "    InputLayer, GlobalAveragePooling2D, AveragePooling2D\n",
        ")\n",
        "from tensorflow.keras.regularizers import l2\n",
        "from tensorflow.keras.utils import to_categorical\n",
        "from keras.callbacks import EarlyStopping\n"
      ]
    },
    {
      "cell_type": "code",
      "execution_count": 7,
      "metadata": {
        "colab": {
          "base_uri": "https://localhost:8080/"
        },
        "id": "NZKNhx8x_1jq",
        "outputId": "e564096b-b86e-4512-c0b2-35aed80e84dc"
      },
      "outputs": [
        {
          "name": "stdout",
          "output_type": "stream",
          "text": [
            "2.18.0\n"
          ]
        }
      ],
      "source": [
        "print(tf.__version__)"
      ]
    },
    {
      "cell_type": "code",
      "execution_count": 8,
      "metadata": {
        "id": "4Se2Y1iRrzxT"
      },
      "outputs": [],
      "source": [
        "# Modify GPU memory allocator to try to prevent full GPU memory.\n",
        "# This can in some cases be counter productive!\n",
        "os.environ['TF_GPU_ALLOCATOR'] = 'cuda_malloc_async'"
      ]
    },
    {
      "cell_type": "markdown",
      "metadata": {},
      "source": [
        "### Connect to Google Drive"
      ]
    },
    {
      "cell_type": "code",
      "execution_count": 9,
      "metadata": {},
      "outputs": [],
      "source": [
        "#from google.colab import drive\n",
        "#drive.mount('/content/drive')"
      ]
    },
    {
      "cell_type": "markdown",
      "metadata": {
        "id": "2VULHpvbVl0N"
      },
      "source": [
        "# Helper Functions"
      ]
    },
    {
      "cell_type": "code",
      "execution_count": 10,
      "metadata": {
        "id": "ymcbpqPdLJxW"
      },
      "outputs": [],
      "source": [
        "def get_file_size(file_path):\n",
        "    size = os.path.getsize(file_path)\n",
        "    return size"
      ]
    },
    {
      "cell_type": "code",
      "execution_count": 11,
      "metadata": {
        "id": "_vfRLdF_LKUK"
      },
      "outputs": [],
      "source": [
        "def convert_bytes(size, unit=None):\n",
        "    if unit == \"KB\":\n",
        "        return print('File size: ' + str(round(size / 1024, 3)) + ' Kilobytes')\n",
        "    elif unit == \"MB\":\n",
        "        return print('File size: ' + str(round(size / (1024 * 1024), 3)) + ' Megabytes')\n",
        "    else:\n",
        "        return print('File size: ' + str(size) + ' bytes')"
      ]
    },
    {
      "cell_type": "markdown",
      "metadata": {
        "id": "ArL366zjd4Xc"
      },
      "source": [
        "# Importa Data"
      ]
    },
    {
      "cell_type": "code",
      "execution_count": 12,
      "metadata": {
        "id": "ieeCS0L0d4Xd"
      },
      "outputs": [],
      "source": [
        "df = pd.read_csv(DATASET_PATH, header=None)                     # Note that these should be no header present.\n",
        "dataset = df.iloc[:, :-1].to_numpy(dtype=np.float32)            # All but last column as float32 (required by MCU)\n",
        "labels_set = df.iloc[:, -1].to_numpy(dtype=str)                 # Last column as string"
      ]
    },
    {
      "cell_type": "code",
      "execution_count": 13,
      "metadata": {
        "colab": {
          "base_uri": "https://localhost:8080/"
        },
        "id": "mIH5p603d4Xd",
        "outputId": "bc4027f5-3dd3-4b1b-dbb6-4c6114530018"
      },
      "outputs": [
        {
          "name": "stdout",
          "output_type": "stream",
          "text": [
            "Dataset shape: (5222650, 16, 8, 1)\n",
            "Labels shape: (5222650,)\n",
            "Input shape: (16, 8, 1)\n"
          ]
        }
      ],
      "source": [
        "dataset = dataset.reshape(dataset.shape[0], INPUT_SHAPE[0], INPUT_SHAPE[1], INPUT_SHAPE[2])\n",
        "\n",
        "print(f\"Dataset shape: {dataset.shape}\")\n",
        "print(f\"Labels shape: {labels_set.shape}\")\n",
        "print(f\"Input shape: {INPUT_SHAPE}\")"
      ]
    },
    {
      "cell_type": "code",
      "execution_count": 14,
      "metadata": {
        "colab": {
          "base_uri": "https://localhost:8080/"
        },
        "id": "Ap-ud1Jbd4Xe",
        "outputId": "7491ac03-1445-4b7f-a5c6-73a509b617fa"
      },
      "outputs": [
        {
          "name": "stdout",
          "output_type": "stream",
          "text": [
            "Training set length: 3342496\n",
            "Validation set length: 835624\n",
            "Testing set length: 1044530\n"
          ]
        }
      ],
      "source": [
        "x_train, x_test, y_train, y_test = train_test_split(dataset, labels_set, test_size=0.2, random_state=42, stratify=labels_set)\n",
        "x_train, x_val, y_train, y_val = train_test_split(x_train, y_train, test_size=0.2, random_state=42, stratify=y_train)\n",
        "\n",
        "# Print the lengths of the training, validation, and testing sets.\n",
        "print(f\"Training set length: {len(x_train)}\")\n",
        "print(f\"Validation set length: {len(x_val)}\")\n",
        "print(f\"Testing set length: {len(x_test)}\")"
      ]
    },
    {
      "cell_type": "code",
      "execution_count": 15,
      "metadata": {},
      "outputs": [
        {
          "name": "stdout",
          "output_type": "stream",
          "text": [
            "(3342496, 16, 8, 1)\n",
            "-5.771239\n",
            "24.030207\n"
          ]
        }
      ],
      "source": [
        "print(x_train.shape)\n",
        "# Get mean of each value in x_train\n",
        "mean = np.mean(x_train)\n",
        "print(mean)\n",
        "# Get standard deviation of each value in x_train\n",
        "std = np.std(x_train)\n",
        "print(std)\n",
        "# Normalize the dataset\n",
        "x_train = (x_train - mean) / std\n",
        "x_val = (x_val - mean) / std\n",
        "x_test = (x_test - mean) / std\n"
      ]
    },
    {
      "cell_type": "code",
      "execution_count": 16,
      "metadata": {},
      "outputs": [],
      "source": [
        "# Apply clipping at -3 and 3\n",
        "x_train = np.clip(x_train, -3, 3)\n",
        "x_val = np.clip(x_val, -3, 3)\n",
        "x_test = np.clip(x_test, -3, 3)"
      ]
    },
    {
      "cell_type": "code",
      "execution_count": 17,
      "metadata": {},
      "outputs": [],
      "source": [
        "# Load CSV file called test.csv\n",
        "#df_test = pd.read_csv(\"test.csv\", header=None)  # Note that these should be no header present.\n",
        "#dataset_test = df_test.iloc[:, :-1].to_numpy(dtype=np.float32)  # All but last column as float32 (required by MCU)\n",
        "#labels_set_test = df_test.iloc[:, -1].to_numpy(dtype=str)  # Last column as string\n",
        "\n",
        "#dataset_test = (dataset_test - mean) / std\n",
        "# Apply clipping at -3 and 3\n",
        "#dataset_test = np.clip(dataset_test, -3, 3)\n",
        "# Turn into int8 [-128, 127]\n",
        "#dataset_test = np.round((dataset_test / 3) * 127).astype(np.int8)"
      ]
    },
    {
      "cell_type": "code",
      "execution_count": 18,
      "metadata": {},
      "outputs": [],
      "source": [
        "#dataset_test[6]"
      ]
    },
    {
      "cell_type": "code",
      "execution_count": 19,
      "metadata": {
        "id": "e2p_MTiid4Xf"
      },
      "outputs": [],
      "source": [
        "# Calculate class weights (based on training data).\n",
        "class_weight = compute_class_weight('balanced', classes=np.unique(y_train), y=y_train)\n",
        "dist_class_weight = dict(enumerate(class_weight))"
      ]
    },
    {
      "cell_type": "code",
      "execution_count": 20,
      "metadata": {
        "colab": {
          "base_uri": "https://localhost:8080/"
        },
        "id": "10khbK5Qd4Xf",
        "outputId": "87dcb6fb-b159-42aa-c0fb-bf15d873c5e9"
      },
      "outputs": [
        {
          "name": "stdout",
          "output_type": "stream",
          "text": [
            "Classes: ['Car' 'Comm' 'Motorcycle' 'background']\n",
            "Class weights: {0: np.float64(0.7314123660808066), 1: np.float64(1.021185695012025), 2: np.float64(1.066565237813221), 3: np.float64(1.3967666015886175)}\n",
            "Training class distribution: {np.str_('Car'): np.int64(1142480), np.str_('Comm'): np.int64(818288), np.str_('Motorcycle'): np.int64(783472), np.str_('background'): np.int64(598256)}\n"
          ]
        }
      ],
      "source": [
        "print(f\"Classes: {np.unique(labels_set)}\")\n",
        "print(f\"Class weights: {dist_class_weight}\")\n",
        "\n",
        "# Print out the amount of each class.\n",
        "unique, counts = np.unique(y_train, return_counts=True)\n",
        "print(f\"Training class distribution: {dict(zip(unique, counts))}\")"
      ]
    },
    {
      "cell_type": "code",
      "execution_count": 21,
      "metadata": {
        "id": "qEXSIf2Qd4Xh"
      },
      "outputs": [],
      "source": [
        "# Hot end code the labels.\n",
        "label_encoder = LabelEncoder()\n",
        "y_train = to_categorical(label_encoder.fit_transform(y_train))\n",
        "y_test = to_categorical(label_encoder.fit_transform(y_test))\n",
        "y_val = to_categorical(label_encoder.fit_transform(y_val))"
      ]
    },
    {
      "cell_type": "markdown",
      "metadata": {
        "id": "59veuiEZCaW4"
      },
      "source": [
        "## Model\n"
      ]
    },
    {
      "cell_type": "markdown",
      "metadata": {
        "id": "ZCxFDXesrzxc"
      },
      "source": [
        "### Helper Functions"
      ]
    },
    {
      "cell_type": "code",
      "execution_count": 22,
      "metadata": {
        "id": "8preOUYXd4Xk"
      },
      "outputs": [],
      "source": [
        "def compileModel(model, learning_rate = 0.001):\n",
        "    model.compile(\n",
        "        optimizer=tf.keras.optimizers.Adam(learning_rate=learning_rate),\n",
        "        loss = tf.keras.losses.CategoricalCrossentropy(label_smoothing=0.2), # 0.1 or 0.2\n",
        "        metrics=['categorical_accuracy']\n",
        "    )\n",
        "    model.summary()"
      ]
    },
    {
      "cell_type": "code",
      "execution_count": 23,
      "metadata": {
        "id": "7Wm8zfrvveeJ"
      },
      "outputs": [],
      "source": [
        "# Print training history\n",
        "# Function used for printing two plots, one for accuracy and one for loss.\n",
        "# To be used with the history object from the fit method\n",
        "def printHistory(history):\n",
        "  # Collect the number of epochs run based on the amount of loss value under history.\n",
        "  epochs = len(history.history['loss'])\n",
        "\n",
        "  epochrange = range(1, epochs + 1)\n",
        "  train_acc = history.history['categorical_accuracy']\n",
        "  val_acc = history.history['val_categorical_accuracy']\n",
        "\n",
        "  train_loss = history.history['loss']\n",
        "  val_loss = history.history['val_loss']\n",
        "\n",
        "  plt.plot(epochrange, train_acc, 'bo', label='Training acc')\n",
        "  plt.plot(epochrange, val_acc, 'b', label='Validation acc')\n",
        "  plt.title('Training and validation accuracy (modell 1)')\n",
        "  plt.xlabel('Epochs')\n",
        "  plt.ylabel('Accuracy')\n",
        "  plt.legend()\n",
        "  plt.show()\n",
        "\n",
        "  plt.plot(epochrange, train_loss, 'bo', label='Training loss')\n",
        "  plt.plot(epochrange, val_loss, 'b', label='Validation loss')\n",
        "  plt.title('Training and validation loss (modell 1)')\n",
        "  plt.xlabel('Epochs')\n",
        "  plt.ylabel('Loss')\n",
        "  plt.legend()\n",
        "  plt.show()"
      ]
    },
    {
      "cell_type": "code",
      "execution_count": 24,
      "metadata": {
        "id": "PF_VyRPKrzxd"
      },
      "outputs": [],
      "source": [
        "def printConfusionMatrix(model, x_test, y_test, labels_set):\n",
        "    y_train_int = np.argmax(y_train, axis=1)  # Convert one-hot to integer labels for y_train\n",
        "    y_test_int = np.argmax(y_test, axis=1)  # Convert one-hot to integer labels for y_test\n",
        "\n",
        "    y_pred_prob = model.predict(x_test)\n",
        "\n",
        "    y_pred = np.argmax(y_pred_prob, axis=1)  # Convert softmax probabilities to class indices\n",
        "\n",
        "    # Ensure that the labels are in 1D arrays (class indices) before passing to confusion_matrix\n",
        "    print(f\"y_train_int shape: {y_train_int.shape}\")\n",
        "    print(f\"y_test_int shape: {y_test_int.shape}\")\n",
        "    print(f\"y_pred shape: {y_pred.shape}\")\n",
        "\n",
        "    # Define your class labels (ensure they match the number of classes)\n",
        "    class_names = np.unique(labels_set)  # Assuming labels_set contains class names\n",
        "\n",
        "    # Generate confusion matrix\n",
        "    cm = confusion_matrix(y_test_int, y_pred)\n",
        "\n",
        "    # Normalize the confusion matrix\n",
        "    cm_normalized = cm.astype('float') / cm.sum(axis=1)[:, np.newaxis]\n",
        "\n",
        "    # Visualize the normalized confusion matrix with proper labels\n",
        "    plt.figure(figsize=(10, 7))\n",
        "    sns.heatmap(cm_normalized, annot=True, fmt='.2f', cmap='Blues', xticklabels=class_names, yticklabels=class_names)\n",
        "    plt.xlabel('Predicted')\n",
        "    plt.ylabel('True')\n",
        "    plt.title('Normalized Confusion Matrix')\n",
        "    plt.show()"
      ]
    },
    {
      "cell_type": "code",
      "execution_count": 25,
      "metadata": {
        "id": "FztgpcUvtoHU"
      },
      "outputs": [],
      "source": [
        "# Fit model function used for convinience when fitting the model multiple times\n",
        "def fitModel(model, x_train, y_train, x_val, y_val, epochs, doPrintHistory, class_weight, verbose, batch_size):\n",
        "\n",
        "    # Define early stopping callback.\n",
        "    early_stopping = EarlyStopping(monitor='val_loss', patience=3, restore_best_weights=True)\n",
        "\n",
        "    reduce_lr = tf.keras.callbacks.ReduceLROnPlateau(\n",
        "        monitor='val_loss',\n",
        "        factor=0.5,\n",
        "        patience=2,\n",
        "        min_lr=1e-6\n",
        "    )\n",
        "\n",
        "    history = model.fit(\n",
        "        x=x_train,\n",
        "        y=y_train,\n",
        "        validation_data=(x_val, y_val),\n",
        "        epochs=epochs,\n",
        "        verbose=verbose,\n",
        "        class_weight=class_weight,\n",
        "        batch_size=batch_size,\n",
        "        callbacks=[early_stopping, reduce_lr],\n",
        "    )\n",
        "    # Print history\n",
        "    if doPrintHistory: printHistory(history)"
      ]
    },
    {
      "cell_type": "code",
      "execution_count": 26,
      "metadata": {},
      "outputs": [],
      "source": [
        "def evaluate_tflite_model(model_path, x_test, y_test):\n",
        "\n",
        "  interpreter = tf.lite.Interpreter(model_path)\n",
        "  interpreter.allocate_tensors()\n",
        "\n",
        "  input_details = interpreter.get_input_details()\n",
        "  output_details = interpreter.get_output_details()\n",
        "\n",
        "  predictions = []\n",
        "  for i in range(len(x_test)):\n",
        "    # Set the input tensor.\n",
        "    interpreter.set_tensor(input_details[0]['index'], [x_test[i]])\n",
        "\n",
        "    # Run inference.\n",
        "    interpreter.invoke()\n",
        "\n",
        "    # Get the output tensor.\n",
        "    output_data = interpreter.get_tensor(output_details[0]['index'])\n",
        "    predictions.append(output_data)\n",
        "\n",
        "  # Convert predictions to class labels\n",
        "  predicted_labels = [np.argmax(prediction[0]) for prediction in predictions]\n",
        "  true_labels = [np.argmax(label) for label in y_test]\n",
        "\n",
        "  # Calculate accuracy\n",
        "  correct_predictions = sum([1 for true, predicted in zip(true_labels, predicted_labels) if true == predicted])\n",
        "  accuracy = correct_predictions / len(true_labels)\n",
        "\n",
        "  # Print the accuracy\n",
        "  print(f\"Accuracy: {accuracy}\")\n",
        "\n",
        "  # Print a classification report\n",
        "  print(classification_report(true_labels, predicted_labels))"
      ]
    },
    {
      "cell_type": "markdown",
      "metadata": {
        "id": "5TYhCf6krzxd"
      },
      "source": [
        "### Create, train, compile, test"
      ]
    },
    {
      "cell_type": "code",
      "execution_count": 59,
      "metadata": {
        "id": "9ODch-OFCaW4"
      },
      "outputs": [],
      "source": [
        "model = keras.Sequential([\n",
        "    InputLayer(shape=INPUT_SHAPE),\n",
        "\n",
        "    # 16 8\n",
        "    Conv2D(filters=74, kernel_size=3, activation=\"relu\", padding='same'),\n",
        "    Conv2D(filters=119, kernel_size=3, activation=\"relu\", padding='same'),\n",
        "\n",
        "    MaxPooling2D(pool_size=(8, 4), padding='same'),\n",
        "\n",
        "    # Feature Pooling (Combining Max & Average Pooling)\n",
        "    Flatten(),\n",
        "\n",
        "    # Output Layer (Softmax for multi-class classification)\n",
        "    Dense(units=len(np.unique(labels_set)), activation=\"softmax\") # Softmax barely increase size.\n",
        "])"
      ]
    },
    {
      "cell_type": "code",
      "execution_count": 60,
      "metadata": {
        "colab": {
          "base_uri": "https://localhost:8080/",
          "height": 374
        },
        "id": "xvwvpA64CaW_",
        "outputId": "01ae9c32-9bf0-4ce0-bb48-5c51c0afb89c"
      },
      "outputs": [
        {
          "data": {
            "text/html": [
              "<pre style=\"white-space:pre;overflow-x:auto;line-height:normal;font-family:Menlo,'DejaVu Sans Mono',consolas,'Courier New',monospace\"><span style=\"font-weight: bold\">Model: \"sequential_16\"</span>\n",
              "</pre>\n"
            ],
            "text/plain": [
              "\u001b[1mModel: \"sequential_16\"\u001b[0m\n"
            ]
          },
          "metadata": {},
          "output_type": "display_data"
        },
        {
          "data": {
            "text/html": [
              "<pre style=\"white-space:pre;overflow-x:auto;line-height:normal;font-family:Menlo,'DejaVu Sans Mono',consolas,'Courier New',monospace\">┏━━━━━━━━━━━━━━━━━━━━━━━━━━━━━━━━━┳━━━━━━━━━━━━━━━━━━━━━━━━┳━━━━━━━━━━━━━━━┓\n",
              "┃<span style=\"font-weight: bold\"> Layer (type)                    </span>┃<span style=\"font-weight: bold\"> Output Shape           </span>┃<span style=\"font-weight: bold\">       Param # </span>┃\n",
              "┡━━━━━━━━━━━━━━━━━━━━━━━━━━━━━━━━━╇━━━━━━━━━━━━━━━━━━━━━━━━╇━━━━━━━━━━━━━━━┩\n",
              "│ conv2d_32 (<span style=\"color: #0087ff; text-decoration-color: #0087ff\">Conv2D</span>)              │ (<span style=\"color: #00d7ff; text-decoration-color: #00d7ff\">None</span>, <span style=\"color: #00af00; text-decoration-color: #00af00\">16</span>, <span style=\"color: #00af00; text-decoration-color: #00af00\">8</span>, <span style=\"color: #00af00; text-decoration-color: #00af00\">74</span>)      │           <span style=\"color: #00af00; text-decoration-color: #00af00\">740</span> │\n",
              "├─────────────────────────────────┼────────────────────────┼───────────────┤\n",
              "│ conv2d_33 (<span style=\"color: #0087ff; text-decoration-color: #0087ff\">Conv2D</span>)              │ (<span style=\"color: #00d7ff; text-decoration-color: #00d7ff\">None</span>, <span style=\"color: #00af00; text-decoration-color: #00af00\">16</span>, <span style=\"color: #00af00; text-decoration-color: #00af00\">8</span>, <span style=\"color: #00af00; text-decoration-color: #00af00\">119</span>)     │        <span style=\"color: #00af00; text-decoration-color: #00af00\">79,373</span> │\n",
              "├─────────────────────────────────┼────────────────────────┼───────────────┤\n",
              "│ max_pooling2d_16 (<span style=\"color: #0087ff; text-decoration-color: #0087ff\">MaxPooling2D</span>) │ (<span style=\"color: #00d7ff; text-decoration-color: #00d7ff\">None</span>, <span style=\"color: #00af00; text-decoration-color: #00af00\">2</span>, <span style=\"color: #00af00; text-decoration-color: #00af00\">2</span>, <span style=\"color: #00af00; text-decoration-color: #00af00\">119</span>)      │             <span style=\"color: #00af00; text-decoration-color: #00af00\">0</span> │\n",
              "├─────────────────────────────────┼────────────────────────┼───────────────┤\n",
              "│ flatten_16 (<span style=\"color: #0087ff; text-decoration-color: #0087ff\">Flatten</span>)            │ (<span style=\"color: #00d7ff; text-decoration-color: #00d7ff\">None</span>, <span style=\"color: #00af00; text-decoration-color: #00af00\">476</span>)            │             <span style=\"color: #00af00; text-decoration-color: #00af00\">0</span> │\n",
              "├─────────────────────────────────┼────────────────────────┼───────────────┤\n",
              "│ dense_16 (<span style=\"color: #0087ff; text-decoration-color: #0087ff\">Dense</span>)                │ (<span style=\"color: #00d7ff; text-decoration-color: #00d7ff\">None</span>, <span style=\"color: #00af00; text-decoration-color: #00af00\">4</span>)              │         <span style=\"color: #00af00; text-decoration-color: #00af00\">1,908</span> │\n",
              "└─────────────────────────────────┴────────────────────────┴───────────────┘\n",
              "</pre>\n"
            ],
            "text/plain": [
              "┏━━━━━━━━━━━━━━━━━━━━━━━━━━━━━━━━━┳━━━━━━━━━━━━━━━━━━━━━━━━┳━━━━━━━━━━━━━━━┓\n",
              "┃\u001b[1m \u001b[0m\u001b[1mLayer (type)                   \u001b[0m\u001b[1m \u001b[0m┃\u001b[1m \u001b[0m\u001b[1mOutput Shape          \u001b[0m\u001b[1m \u001b[0m┃\u001b[1m \u001b[0m\u001b[1m      Param #\u001b[0m\u001b[1m \u001b[0m┃\n",
              "┡━━━━━━━━━━━━━━━━━━━━━━━━━━━━━━━━━╇━━━━━━━━━━━━━━━━━━━━━━━━╇━━━━━━━━━━━━━━━┩\n",
              "│ conv2d_32 (\u001b[38;5;33mConv2D\u001b[0m)              │ (\u001b[38;5;45mNone\u001b[0m, \u001b[38;5;34m16\u001b[0m, \u001b[38;5;34m8\u001b[0m, \u001b[38;5;34m74\u001b[0m)      │           \u001b[38;5;34m740\u001b[0m │\n",
              "├─────────────────────────────────┼────────────────────────┼───────────────┤\n",
              "│ conv2d_33 (\u001b[38;5;33mConv2D\u001b[0m)              │ (\u001b[38;5;45mNone\u001b[0m, \u001b[38;5;34m16\u001b[0m, \u001b[38;5;34m8\u001b[0m, \u001b[38;5;34m119\u001b[0m)     │        \u001b[38;5;34m79,373\u001b[0m │\n",
              "├─────────────────────────────────┼────────────────────────┼───────────────┤\n",
              "│ max_pooling2d_16 (\u001b[38;5;33mMaxPooling2D\u001b[0m) │ (\u001b[38;5;45mNone\u001b[0m, \u001b[38;5;34m2\u001b[0m, \u001b[38;5;34m2\u001b[0m, \u001b[38;5;34m119\u001b[0m)      │             \u001b[38;5;34m0\u001b[0m │\n",
              "├─────────────────────────────────┼────────────────────────┼───────────────┤\n",
              "│ flatten_16 (\u001b[38;5;33mFlatten\u001b[0m)            │ (\u001b[38;5;45mNone\u001b[0m, \u001b[38;5;34m476\u001b[0m)            │             \u001b[38;5;34m0\u001b[0m │\n",
              "├─────────────────────────────────┼────────────────────────┼───────────────┤\n",
              "│ dense_16 (\u001b[38;5;33mDense\u001b[0m)                │ (\u001b[38;5;45mNone\u001b[0m, \u001b[38;5;34m4\u001b[0m)              │         \u001b[38;5;34m1,908\u001b[0m │\n",
              "└─────────────────────────────────┴────────────────────────┴───────────────┘\n"
            ]
          },
          "metadata": {},
          "output_type": "display_data"
        },
        {
          "data": {
            "text/html": [
              "<pre style=\"white-space:pre;overflow-x:auto;line-height:normal;font-family:Menlo,'DejaVu Sans Mono',consolas,'Courier New',monospace\"><span style=\"font-weight: bold\"> Total params: </span><span style=\"color: #00af00; text-decoration-color: #00af00\">82,021</span> (320.39 KB)\n",
              "</pre>\n"
            ],
            "text/plain": [
              "\u001b[1m Total params: \u001b[0m\u001b[38;5;34m82,021\u001b[0m (320.39 KB)\n"
            ]
          },
          "metadata": {},
          "output_type": "display_data"
        },
        {
          "data": {
            "text/html": [
              "<pre style=\"white-space:pre;overflow-x:auto;line-height:normal;font-family:Menlo,'DejaVu Sans Mono',consolas,'Courier New',monospace\"><span style=\"font-weight: bold\"> Trainable params: </span><span style=\"color: #00af00; text-decoration-color: #00af00\">82,021</span> (320.39 KB)\n",
              "</pre>\n"
            ],
            "text/plain": [
              "\u001b[1m Trainable params: \u001b[0m\u001b[38;5;34m82,021\u001b[0m (320.39 KB)\n"
            ]
          },
          "metadata": {},
          "output_type": "display_data"
        },
        {
          "data": {
            "text/html": [
              "<pre style=\"white-space:pre;overflow-x:auto;line-height:normal;font-family:Menlo,'DejaVu Sans Mono',consolas,'Courier New',monospace\"><span style=\"font-weight: bold\"> Non-trainable params: </span><span style=\"color: #00af00; text-decoration-color: #00af00\">0</span> (0.00 B)\n",
              "</pre>\n"
            ],
            "text/plain": [
              "\u001b[1m Non-trainable params: \u001b[0m\u001b[38;5;34m0\u001b[0m (0.00 B)\n"
            ]
          },
          "metadata": {},
          "output_type": "display_data"
        }
      ],
      "source": [
        "compileModel(model)"
      ]
    },
    {
      "cell_type": "code",
      "execution_count": 26,
      "metadata": {
        "colab": {
          "base_uri": "https://localhost:8080/",
          "height": 1000
        },
        "id": "Z7XNMH5Lrzxd",
        "outputId": "3305465a-1651-49e3-d168-caa978d6a4c7"
      },
      "outputs": [
        {
          "name": "stderr",
          "output_type": "stream",
          "text": [
            "2025-04-14 18:20:04.476076: W external/local_xla/xla/tsl/framework/cpu_allocator_impl.cc:83] Allocation of 1711357952 exceeds 10% of free system memory.\n",
            "2025-04-14 18:20:05.925455: W external/local_xla/xla/tsl/framework/cpu_allocator_impl.cc:83] Allocation of 1711357952 exceeds 10% of free system memory.\n"
          ]
        },
        {
          "name": "stdout",
          "output_type": "stream",
          "text": [
            "Epoch 1/8\n"
          ]
        },
        {
          "name": "stderr",
          "output_type": "stream",
          "text": [
            "WARNING: All log messages before absl::InitializeLog() is called are written to STDERR\n",
            "I0000 00:00:1744647610.471109   15645 service.cc:148] XLA service 0x79ea58002db0 initialized for platform CUDA (this does not guarantee that XLA will be used). Devices:\n",
            "I0000 00:00:1744647610.471153   15645 service.cc:156]   StreamExecutor device (0): NVIDIA GeForce RTX 2070 SUPER, Compute Capability 7.5\n",
            "2025-04-14 18:20:10.573006: I tensorflow/compiler/mlir/tensorflow/utils/dump_mlir_util.cc:268] disabling MLIR crash reproducer, set env var `MLIR_CRASH_REPRODUCER_DIRECTORY` to enable.\n",
            "I0000 00:00:1744647611.024195   15645 cuda_dnn.cc:529] Loaded cuDNN version 90300\n",
            "2025-04-14 18:20:11.390000: I external/local_xla/xla/service/gpu/autotuning/conv_algorithm_picker.cc:557] Omitted potentially buggy algorithm eng14{k25=0} for conv (f32[256,64,16,8]{3,2,1,0}, u8[0]{0}) custom-call(f32[256,64,16,8]{3,2,1,0}, f32[64,64,3,3]{3,2,1,0}, f32[64]{0}), window={size=3x3 pad=1_1x1_1}, dim_labels=bf01_oi01->bf01, custom_call_target=\"__cudnn$convBiasActivationForward\", backend_config={\"cudnn_conv_backend_config\":{\"activation_mode\":\"kNone\",\"conv_result_scale\":1,\"leakyrelu_alpha\":0,\"side_input_scale\":0},\"force_earliest_schedule\":false,\"operation_queue_id\":\"0\",\"wait_on_operation_queues\":[]}\n",
            "2025-04-14 18:20:11.478715: I external/local_xla/xla/service/gpu/autotuning/conv_algorithm_picker.cc:557] Omitted potentially buggy algorithm eng14{k25=0} for conv (f32[256,64,8,4]{3,2,1,0}, u8[0]{0}) custom-call(f32[256,64,8,4]{3,2,1,0}, f32[64,64,3,3]{3,2,1,0}, f32[64]{0}), window={size=3x3 pad=1_1x1_1}, dim_labels=bf01_oi01->bf01, custom_call_target=\"__cudnn$convBiasActivationForward\", backend_config={\"cudnn_conv_backend_config\":{\"activation_mode\":\"kNone\",\"conv_result_scale\":1,\"leakyrelu_alpha\":0,\"side_input_scale\":0},\"force_earliest_schedule\":false,\"operation_queue_id\":\"0\",\"wait_on_operation_queues\":[]}\n"
          ]
        },
        {
          "name": "stdout",
          "output_type": "stream",
          "text": [
            "\u001b[1m   24/13057\u001b[0m \u001b[37m━━━━━━━━━━━━━━━━━━━━\u001b[0m \u001b[1m1:28\u001b[0m 7ms/step - categorical_accuracy: 0.3510 - loss: 1.6220"
          ]
        },
        {
          "name": "stderr",
          "output_type": "stream",
          "text": [
            "I0000 00:00:1744647614.170005   15645 device_compiler.h:188] Compiled cluster using XLA!  This line is logged at most once for the lifetime of the process.\n"
          ]
        },
        {
          "name": "stdout",
          "output_type": "stream",
          "text": [
            "\u001b[1m13050/13057\u001b[0m \u001b[32m━━━━━━━━━━━━━━━━━━━\u001b[0m\u001b[37m━\u001b[0m \u001b[1m0s\u001b[0m 6ms/step - categorical_accuracy: 0.6070 - loss: 1.0829"
          ]
        },
        {
          "name": "stderr",
          "output_type": "stream",
          "text": [
            "2025-04-14 18:21:34.349332: I external/local_xla/xla/service/gpu/autotuning/conv_algorithm_picker.cc:557] Omitted potentially buggy algorithm eng14{k25=0} for conv (f32[160,64,16,8]{3,2,1,0}, u8[0]{0}) custom-call(f32[160,64,16,8]{3,2,1,0}, f32[64,64,3,3]{3,2,1,0}, f32[64]{0}), window={size=3x3 pad=1_1x1_1}, dim_labels=bf01_oi01->bf01, custom_call_target=\"__cudnn$convBiasActivationForward\", backend_config={\"cudnn_conv_backend_config\":{\"activation_mode\":\"kNone\",\"conv_result_scale\":1,\"leakyrelu_alpha\":0,\"side_input_scale\":0},\"force_earliest_schedule\":false,\"operation_queue_id\":\"0\",\"wait_on_operation_queues\":[]}\n",
            "2025-04-14 18:21:34.399005: I external/local_xla/xla/service/gpu/autotuning/conv_algorithm_picker.cc:557] Omitted potentially buggy algorithm eng14{k25=0} for conv (f32[160,64,8,4]{3,2,1,0}, u8[0]{0}) custom-call(f32[160,64,8,4]{3,2,1,0}, f32[64,64,3,3]{3,2,1,0}, f32[64]{0}), window={size=3x3 pad=1_1x1_1}, dim_labels=bf01_oi01->bf01, custom_call_target=\"__cudnn$convBiasActivationForward\", backend_config={\"cudnn_conv_backend_config\":{\"activation_mode\":\"kNone\",\"conv_result_scale\":1,\"leakyrelu_alpha\":0,\"side_input_scale\":0},\"force_earliest_schedule\":false,\"operation_queue_id\":\"0\",\"wait_on_operation_queues\":[]}\n"
          ]
        },
        {
          "name": "stdout",
          "output_type": "stream",
          "text": [
            "\u001b[1m13057/13057\u001b[0m \u001b[32m━━━━━━━━━━━━━━━━━━━━\u001b[0m\u001b[37m\u001b[0m \u001b[1m0s\u001b[0m 6ms/step - categorical_accuracy: 0.6070 - loss: 1.0829"
          ]
        },
        {
          "name": "stderr",
          "output_type": "stream",
          "text": [
            "2025-04-14 18:21:37.210469: W external/local_xla/xla/tsl/framework/cpu_allocator_impl.cc:83] Allocation of 427839488 exceeds 10% of free system memory.\n",
            "2025-04-14 18:21:37.531386: W external/local_xla/xla/tsl/framework/cpu_allocator_impl.cc:83] Allocation of 427839488 exceeds 10% of free system memory.\n",
            "2025-04-14 18:21:38.070206: I external/local_xla/xla/service/gpu/autotuning/conv_algorithm_picker.cc:557] Omitted potentially buggy algorithm eng14{k25=0} for conv (f32[256,64,16,8]{3,2,1,0}, u8[0]{0}) custom-call(f32[256,64,16,8]{3,2,1,0}, f32[64,64,3,3]{3,2,1,0}, f32[64]{0}), window={size=3x3 pad=1_1x1_1}, dim_labels=bf01_oi01->bf01, custom_call_target=\"__cudnn$convBiasActivationForward\", backend_config={\"cudnn_conv_backend_config\":{\"activation_mode\":\"kRelu\",\"conv_result_scale\":1,\"leakyrelu_alpha\":0,\"side_input_scale\":0},\"force_earliest_schedule\":false,\"operation_queue_id\":\"0\",\"wait_on_operation_queues\":[]}\n",
            "2025-04-14 18:21:38.128100: I external/local_xla/xla/service/gpu/autotuning/conv_algorithm_picker.cc:557] Omitted potentially buggy algorithm eng14{k25=0} for conv (f32[256,64,8,4]{3,2,1,0}, u8[0]{0}) custom-call(f32[256,64,8,4]{3,2,1,0}, f32[64,64,3,3]{3,2,1,0}, f32[64]{0}), window={size=3x3 pad=1_1x1_1}, dim_labels=bf01_oi01->bf01, custom_call_target=\"__cudnn$convBiasActivationForward\", backend_config={\"cudnn_conv_backend_config\":{\"activation_mode\":\"kRelu\",\"conv_result_scale\":1,\"leakyrelu_alpha\":0,\"side_input_scale\":0},\"force_earliest_schedule\":false,\"operation_queue_id\":\"0\",\"wait_on_operation_queues\":[]}\n",
            "2025-04-14 18:21:47.916009: I external/local_xla/xla/service/gpu/autotuning/conv_algorithm_picker.cc:557] Omitted potentially buggy algorithm eng14{k25=0} for conv (f32[40,64,16,8]{3,2,1,0}, u8[0]{0}) custom-call(f32[40,64,16,8]{3,2,1,0}, f32[64,64,3,3]{3,2,1,0}, f32[64]{0}), window={size=3x3 pad=1_1x1_1}, dim_labels=bf01_oi01->bf01, custom_call_target=\"__cudnn$convBiasActivationForward\", backend_config={\"cudnn_conv_backend_config\":{\"activation_mode\":\"kRelu\",\"conv_result_scale\":1,\"leakyrelu_alpha\":0,\"side_input_scale\":0},\"force_earliest_schedule\":false,\"operation_queue_id\":\"0\",\"wait_on_operation_queues\":[]}\n",
            "2025-04-14 18:21:47.950518: I external/local_xla/xla/service/gpu/autotuning/conv_algorithm_picker.cc:557] Omitted potentially buggy algorithm eng14{k25=0} for conv (f32[40,64,8,4]{3,2,1,0}, u8[0]{0}) custom-call(f32[40,64,8,4]{3,2,1,0}, f32[64,64,3,3]{3,2,1,0}, f32[64]{0}), window={size=3x3 pad=1_1x1_1}, dim_labels=bf01_oi01->bf01, custom_call_target=\"__cudnn$convBiasActivationForward\", backend_config={\"cudnn_conv_backend_config\":{\"activation_mode\":\"kRelu\",\"conv_result_scale\":1,\"leakyrelu_alpha\":0,\"side_input_scale\":0},\"force_earliest_schedule\":false,\"operation_queue_id\":\"0\",\"wait_on_operation_queues\":[]}\n"
          ]
        },
        {
          "name": "stdout",
          "output_type": "stream",
          "text": [
            "\u001b[1m13057/13057\u001b[0m \u001b[32m━━━━━━━━━━━━━━━━━━━━\u001b[0m\u001b[37m\u001b[0m \u001b[1m101s\u001b[0m 7ms/step - categorical_accuracy: 0.6070 - loss: 1.0829 - val_categorical_accuracy: 0.6863 - val_loss: 1.0041 - learning_rate: 0.0010\n",
            "Epoch 2/8\n",
            "\u001b[1m13057/13057\u001b[0m \u001b[32m━━━━━━━━━━━━━━━━━━━━\u001b[0m\u001b[37m\u001b[0m \u001b[1m90s\u001b[0m 7ms/step - categorical_accuracy: 0.7107 - loss: 0.9451 - val_categorical_accuracy: 0.7308 - val_loss: 0.9496 - learning_rate: 0.0010\n",
            "Epoch 3/8\n",
            "\u001b[1m13057/13057\u001b[0m \u001b[32m━━━━━━━━━━━━━━━━━━━━\u001b[0m\u001b[37m\u001b[0m \u001b[1m90s\u001b[0m 7ms/step - categorical_accuracy: 0.7431 - loss: 0.9093 - val_categorical_accuracy: 0.7535 - val_loss: 0.9234 - learning_rate: 0.0010\n",
            "Epoch 4/8\n",
            "\u001b[1m13057/13057\u001b[0m \u001b[32m━━━━━━━━━━━━━━━━━━━━\u001b[0m\u001b[37m\u001b[0m \u001b[1m91s\u001b[0m 7ms/step - categorical_accuracy: 0.7618 - loss: 0.8887 - val_categorical_accuracy: 0.7616 - val_loss: 0.9130 - learning_rate: 0.0010\n",
            "Epoch 5/8\n",
            "\u001b[1m13057/13057\u001b[0m \u001b[32m━━━━━━━━━━━━━━━━━━━━\u001b[0m\u001b[37m\u001b[0m \u001b[1m91s\u001b[0m 7ms/step - categorical_accuracy: 0.7741 - loss: 0.8752 - val_categorical_accuracy: 0.7704 - val_loss: 0.9024 - learning_rate: 0.0010\n",
            "Epoch 6/8\n",
            "\u001b[1m13057/13057\u001b[0m \u001b[32m━━━━━━━━━━━━━━━━━━━━\u001b[0m\u001b[37m\u001b[0m \u001b[1m90s\u001b[0m 7ms/step - categorical_accuracy: 0.7834 - loss: 0.8643 - val_categorical_accuracy: 0.7790 - val_loss: 0.8917 - learning_rate: 0.0010\n",
            "Epoch 7/8\n",
            "\u001b[1m13057/13057\u001b[0m \u001b[32m━━━━━━━━━━━━━━━━━━━━\u001b[0m\u001b[37m\u001b[0m \u001b[1m90s\u001b[0m 7ms/step - categorical_accuracy: 0.7900 - loss: 0.8562 - val_categorical_accuracy: 0.7838 - val_loss: 0.8864 - learning_rate: 0.0010\n",
            "Epoch 8/8\n",
            "\u001b[1m13057/13057\u001b[0m \u001b[32m━━━━━━━━━━━━━━━━━━━━\u001b[0m\u001b[37m\u001b[0m \u001b[1m91s\u001b[0m 7ms/step - categorical_accuracy: 0.7963 - loss: 0.8493 - val_categorical_accuracy: 0.7902 - val_loss: 0.8777 - learning_rate: 0.0010\n"
          ]
        },
        {
          "data": {
            "image/png": "[encoded data removed]",
            "text/plain": [
              "<Figure size 640x480 with 1 Axes>"
            ]
          },
          "metadata": {},
          "output_type": "display_data"
        },
        {
          "data": {
            "image/png": "[encoded data removed]",
            "text/plain": [
              "<Figure size 640x480 with 1 Axes>"
            ]
          },
          "metadata": {},
          "output_type": "display_data"
        }
      ],
      "source": [
        "fitModel(model, x_train, y_train, x_val, y_val, 8, True, dist_class_weight, 1, 256)"
      ]
    },
    {
      "cell_type": "code",
      "execution_count": 27,
      "metadata": {
        "colab": {
          "base_uri": "https://localhost:8080/"
        },
        "id": "WkVSBCHvrzxe",
        "outputId": "a79fd00d-4eef-481b-9d82-a25b5c5b5b4a"
      },
      "outputs": [
        {
          "name": "stderr",
          "output_type": "stream",
          "text": [
            "2025-04-14 18:32:22.432194: W external/local_xla/xla/tsl/framework/cpu_allocator_impl.cc:83] Allocation of 534799360 exceeds 10% of free system memory.\n",
            "2025-04-14 18:32:22.937752: I external/local_xla/xla/service/gpu/autotuning/conv_algorithm_picker.cc:557] Omitted potentially buggy algorithm eng14{k25=0} for conv (f32[32,64,16,8]{3,2,1,0}, u8[0]{0}) custom-call(f32[32,64,16,8]{3,2,1,0}, f32[64,64,3,3]{3,2,1,0}, f32[64]{0}), window={size=3x3 pad=1_1x1_1}, dim_labels=bf01_oi01->bf01, custom_call_target=\"__cudnn$convBiasActivationForward\", backend_config={\"cudnn_conv_backend_config\":{\"activation_mode\":\"kRelu\",\"conv_result_scale\":1,\"leakyrelu_alpha\":0,\"side_input_scale\":0},\"force_earliest_schedule\":false,\"operation_queue_id\":\"0\",\"wait_on_operation_queues\":[]}\n",
            "2025-04-14 18:32:22.972573: I external/local_xla/xla/service/gpu/autotuning/conv_algorithm_picker.cc:557] Omitted potentially buggy algorithm eng14{k25=0} for conv (f32[32,64,8,4]{3,2,1,0}, u8[0]{0}) custom-call(f32[32,64,8,4]{3,2,1,0}, f32[64,64,3,3]{3,2,1,0}, f32[64]{0}), window={size=3x3 pad=1_1x1_1}, dim_labels=bf01_oi01->bf01, custom_call_target=\"__cudnn$convBiasActivationForward\", backend_config={\"cudnn_conv_backend_config\":{\"activation_mode\":\"kRelu\",\"conv_result_scale\":1,\"leakyrelu_alpha\":0,\"side_input_scale\":0},\"force_earliest_schedule\":false,\"operation_queue_id\":\"0\",\"wait_on_operation_queues\":[]}\n",
            "2025-04-14 18:33:43.520472: I external/local_xla/xla/service/gpu/autotuning/conv_algorithm_picker.cc:557] Omitted potentially buggy algorithm eng14{k25=0} for conv (f32[18,64,16,8]{3,2,1,0}, u8[0]{0}) custom-call(f32[18,64,16,8]{3,2,1,0}, f32[64,64,3,3]{3,2,1,0}, f32[64]{0}), window={size=3x3 pad=1_1x1_1}, dim_labels=bf01_oi01->bf01, custom_call_target=\"__cudnn$convBiasActivationForward\", backend_config={\"cudnn_conv_backend_config\":{\"activation_mode\":\"kRelu\",\"conv_result_scale\":1,\"leakyrelu_alpha\":0,\"side_input_scale\":0},\"force_earliest_schedule\":false,\"operation_queue_id\":\"0\",\"wait_on_operation_queues\":[]}\n",
            "2025-04-14 18:33:43.552919: I external/local_xla/xla/service/gpu/autotuning/conv_algorithm_picker.cc:557] Omitted potentially buggy algorithm eng14{k25=0} for conv (f32[18,64,8,4]{3,2,1,0}, u8[0]{0}) custom-call(f32[18,64,8,4]{3,2,1,0}, f32[64,64,3,3]{3,2,1,0}, f32[64]{0}), window={size=3x3 pad=1_1x1_1}, dim_labels=bf01_oi01->bf01, custom_call_target=\"__cudnn$convBiasActivationForward\", backend_config={\"cudnn_conv_backend_config\":{\"activation_mode\":\"kRelu\",\"conv_result_scale\":1,\"leakyrelu_alpha\":0,\"side_input_scale\":0},\"force_earliest_schedule\":false,\"operation_queue_id\":\"0\",\"wait_on_operation_queues\":[]}\n"
          ]
        },
        {
          "name": "stdout",
          "output_type": "stream",
          "text": [
            "32642/32642 - 81s - 2ms/step - categorical_accuracy: 0.7911 - loss: 0.8773\n",
            "Test accuracy: 0.7911462783813477\n"
          ]
        }
      ],
      "source": [
        "# Evaluate the model on the test set.\n",
        "test_loss, test_acc = model.evaluate(x_test, y_test, verbose=2)\n",
        "print(f\"Test accuracy: {test_acc}\")"
      ]
    },
    {
      "cell_type": "code",
      "execution_count": 28,
      "metadata": {
        "colab": {
          "base_uri": "https://localhost:8080/",
          "height": 710
        },
        "id": "Wh_ETmEErzxe",
        "outputId": "e17a65c0-ce2d-4873-9cdf-7dcdb9831108"
      },
      "outputs": [
        {
          "name": "stdout",
          "output_type": "stream",
          "text": [
            "\u001b[1m32642/32642\u001b[0m \u001b[32m━━━━━━━━━━━━━━━━━━━━\u001b[0m\u001b[37m\u001b[0m \u001b[1m62s\u001b[0m 2ms/step\n",
            "y_train_int shape: (3342496,)\n",
            "y_test_int shape: (1044530,)\n",
            "y_pred shape: (1044530,)\n"
          ]
        },
        {
          "data": {
            "image/png": "[encoded data removed]",
            "text/plain": [
              "<Figure size 1000x700 with 2 Axes>"
            ]
          },
          "metadata": {},
          "output_type": "display_data"
        }
      ],
      "source": [
        "printConfusionMatrix(model, x_test, y_test, labels_set)"
      ]
    },
    {
      "cell_type": "markdown",
      "metadata": {
        "id": "ijrhH7herzxe"
      },
      "source": [
        "# Save & Compress model"
      ]
    },
    {
      "cell_type": "markdown",
      "metadata": {
        "id": "PjEc-azSrzxe"
      },
      "source": [
        "### Keras Model\n",
        "\n",
        "Generating the Keras model is not required, thus the boolean check."
      ]
    },
    {
      "cell_type": "code",
      "execution_count": 139,
      "metadata": {
        "colab": {
          "base_uri": "https://localhost:8080/"
        },
        "id": "4n4_BRNKLRwo",
        "outputId": "a1b5a9be-5fe9-4fc2-d61c-a73cc8718cbc"
      },
      "outputs": [],
      "source": [
        "if GENERATE_KERAS_MODLE:\n",
        "    model.save(KERAS_MODEL_NAME)\n",
        "    print(\"Keras model saved: \", KERAS_MODEL_NAME)\n",
        "    convert_bytes(get_file_size(KERAS_MODEL_NAME), \"KB\")"
      ]
    },
    {
      "cell_type": "code",
      "execution_count": 140,
      "metadata": {},
      "outputs": [
        {
          "data": {
            "text/plain": [
              "(3342496, 16, 8, 1)"
            ]
          },
          "execution_count": 140,
          "metadata": {},
          "output_type": "execute_result"
        }
      ],
      "source": [
        "x_train.shape"
      ]
    },
    {
      "cell_type": "markdown",
      "metadata": {
        "id": "bP9VcO0Krzxg"
      },
      "source": [
        "### TF Lite model\n",
        "\n",
        "The TF Lite model is the main model to be used. This is where compression happens and thus also makes it important to test once again after compression. Once done, it's transformed into a CPP file to be implemented into pico-tfmicro."
      ]
    },
    {
      "cell_type": "code",
      "execution_count": 141,
      "metadata": {
        "colab": {
          "base_uri": "https://localhost:8080/"
        },
        "id": "NY57t7EwCW8P",
        "outputId": "b972b38d-b543-4443-9c72-03223e3d4cf9"
      },
      "outputs": [
        {
          "name": "stdout",
          "output_type": "stream",
          "text": [
            "INFO:tensorflow:Assets written to: /tmp/tmpnhd_bdi7/assets\n"
          ]
        },
        {
          "name": "stderr",
          "output_type": "stream",
          "text": [
            "INFO:tensorflow:Assets written to: /tmp/tmpnhd_bdi7/assets\n"
          ]
        },
        {
          "name": "stdout",
          "output_type": "stream",
          "text": [
            "Saved artifact at '/tmp/tmpnhd_bdi7'. The following endpoints are available:\n",
            "\n",
            "* Endpoint 'serve'\n",
            "  args_0 (POSITIONAL_ONLY): TensorSpec(shape=(None, 16, 8, 1), dtype=tf.float32, name='keras_tensor_236')\n",
            "Output Type:\n",
            "  TensorSpec(shape=(None, 4), dtype=tf.float32, name=None)\n",
            "Captures:\n",
            "  124027923199456: TensorSpec(shape=(), dtype=tf.resource, name=None)\n",
            "  124027923200336: TensorSpec(shape=(), dtype=tf.resource, name=None)\n",
            "  124027923201216: TensorSpec(shape=(), dtype=tf.resource, name=None)\n",
            "  124027923254784: TensorSpec(shape=(), dtype=tf.resource, name=None)\n",
            "  124027923256016: TensorSpec(shape=(), dtype=tf.resource, name=None)\n",
            "  124027923251792: TensorSpec(shape=(), dtype=tf.resource, name=None)\n"
          ]
        },
        {
          "name": "stderr",
          "output_type": "stream",
          "text": [
            "/home/fridh/.local/lib/python3.10/site-packages/tensorflow/lite/python/convert.py:997: UserWarning: Statistics for quantized inputs were expected, but not specified; continuing anyway.\n",
            "  warnings.warn(\n"
          ]
        },
        {
          "name": "stdout",
          "output_type": "stream",
          "text": [
            "TFLite model saved:  100k.tflite\n",
            "File size: 107.977 Kilobytes\n",
            "Input Shape: [ 1 16  8  1]\n",
            "Input Type: <class 'numpy.int8'>\n",
            "Output Shape: [1 4]\n",
            "Output Type: <class 'numpy.int8'>\n"
          ]
        },
        {
          "name": "stderr",
          "output_type": "stream",
          "text": [
            "W0000 00:00:1744661279.346034   30976 tf_tfl_flatbuffer_helpers.cc:365] Ignored output_format.\n",
            "W0000 00:00:1744661279.346053   30976 tf_tfl_flatbuffer_helpers.cc:368] Ignored drop_control_dependency.\n",
            "2025-04-14 22:07:59.346300: I tensorflow/cc/saved_model/reader.cc:83] Reading SavedModel from: /tmp/tmpnhd_bdi7\n",
            "2025-04-14 22:07:59.346851: I tensorflow/cc/saved_model/reader.cc:52] Reading meta graph with tags { serve }\n",
            "2025-04-14 22:07:59.346868: I tensorflow/cc/saved_model/reader.cc:147] Reading SavedModel debug info (if present) from: /tmp/tmpnhd_bdi7\n",
            "2025-04-14 22:07:59.350955: I tensorflow/cc/saved_model/loader.cc:236] Restoring SavedModel bundle.\n",
            "2025-04-14 22:07:59.376158: I tensorflow/cc/saved_model/loader.cc:220] Running initialization op on SavedModel bundle at path: /tmp/tmpnhd_bdi7\n",
            "2025-04-14 22:07:59.384941: I tensorflow/cc/saved_model/loader.cc:466] SavedModel load for tags { serve }; Status: success: OK. Took 38647 microseconds.\n",
            "fully_quantize: 0, inference_type: 6, input_inference_type: INT8, output_inference_type: INT8\n"
          ]
        }
      ],
      "source": [
        "# Convert into TFLite model.\n",
        "tf_lite_converter = tf.lite.TFLiteConverter.from_keras_model(model)\n",
        "\n",
        "# Apply optimizations.\n",
        "tf_lite_converter.optimizations = [tf.lite.Optimize.DEFAULT]\n",
        "tf_lite_converter.target_spec.supported_ops = [tf.lite.OpsSet.TFLITE_BUILTINS_INT8]\n",
        "## NOT UINT8 but INT8\n",
        "tf_lite_converter.inference_input_type = tf.int8\n",
        "tf_lite_converter.inference_output_type = tf.int8\n",
        "\n",
        "num_calibration_images = 1000\n",
        "calibration_indexes   = np.random.choice(x_train.shape[0], num_calibration_images, replace=False)\n",
        "def representative_dataset_gen():\n",
        "  for i in range(num_calibration_images):\n",
        "    yield [x_train[calibration_indexes[i: i + 1]]]\n",
        "\n",
        "tf_lite_converter.representative_dataset = representative_dataset_gen\n",
        "\n",
        "# Grab model and save it.\n",
        "tflite_model = tf_lite_converter.convert()\n",
        "tflite_model_name = TF_LITE_MODEL_FILE_NAME\n",
        "open(tflite_model_name, \"wb\").write(tflite_model)\n",
        "\n",
        "print(\"TFLite model saved: \", TF_LITE_MODEL_FILE_NAME)\n",
        "convert_bytes(get_file_size(TF_LITE_MODEL_FILE_NAME), \"KB\")\n",
        "\n",
        "# Print model input and output shape for debugging.\n",
        "interpreter = tf.lite.Interpreter(model_path=TF_LITE_MODEL_FILE_NAME)\n",
        "interpreter.allocate_tensors()\n",
        "input_details = interpreter.get_input_details()\n",
        "output_details = interpreter.get_output_details()\n",
        "print(\"Input Shape:\", input_details[0]['shape'])\n",
        "print(\"Input Type:\", input_details[0]['dtype'])\n",
        "print(\"Output Shape:\", output_details[0]['shape'])\n",
        "print(\"Output Type:\", output_details[0]['dtype'])\n",
        "\n",
        "# Evaluate the TFLite model.\n",
        "#x_int8 = np.round((x_test / 3) * 127).astype(np.int8)\n",
        "#evaluate_tflite_model(TF_LITE_MODEL_FILE_NAME, x_int8, y_test)"
      ]
    },
    {
      "cell_type": "code",
      "execution_count": null,
      "metadata": {},
      "outputs": [
        {
          "data": {
            "image/png": "[encoded data removed]",
            "text/plain": [
              "<Figure size 1000x700 with 2 Axes>"
            ]
          },
          "metadata": {},
          "output_type": "display_data"
        }
      ],
      "source": [
        "# Load the TFLite model.\n",
        "interpreter = tf.lite.Interpreter(model_path=TF_LITE_MODEL_FILE_NAME)\n",
        "interpreter.allocate_tensors()\n",
        "\n",
        "# Get input and output details.\n",
        "input_details = interpreter.get_input_details()\n",
        "output_details = interpreter.get_output_details()\n",
        "\n",
        "# Prepare the test data for inference.\n",
        "x_test_int8 = np.round((x_test / 3) * 127).astype(np.int8)\n",
        "\n",
        "# Perform inference on the test set.\n",
        "y_pred = []\n",
        "for i in range(len(x_test_int8)):\n",
        "    interpreter.set_tensor(input_details[0]['index'], [x_test_int8[i]])\n",
        "    interpreter.invoke()\n",
        "    output_data = interpreter.get_tensor(output_details[0]['index'])\n",
        "    y_pred.append(np.argmax(output_data))\n",
        "\n",
        "# Convert predictions and true labels to integer format.\n",
        "y_true = [np.argmax(label) for label in y_test]\n",
        "\n",
        "# Generate confusion matrix.\n",
        "cm = confusion_matrix(y_true, y_pred)\n",
        "\n",
        "# Normalize the confusion matrix.\n",
        "cm_normalized = cm.astype('float') / cm.sum(axis=1)[:, np.newaxis]\n",
        "\n",
        "# Visualize the normalized confusion matrix.\n",
        "plt.figure(figsize=(10, 7))\n",
        "class_names = np.unique(labels_set)\n",
        "sns.heatmap(cm_normalized, annot=True, fmt='.2f', cmap='Blues', xticklabels=class_names, yticklabels=class_names)\n",
        "plt.xlabel('Predicted')\n",
        "plt.ylabel('True')\n",
        "plt.title('Normalized Confusion Matrix for TFLite Model')\n",
        "plt.show()"
      ]
    },
    {
      "cell_type": "code",
      "execution_count": 142,
      "metadata": {
        "id": "cavoNO3Ipgla"
      },
      "outputs": [],
      "source": [
        "# Save the TF Lite model as a C++ array using xxd.\n",
        "# This is required to implement the model using pico-tfmicro.\n",
        "# Note that the file size from this is larger than the tflite file size,\n",
        "# but won't increase the story size of the model when implemented in C++.\n",
        "!xxd -i {TF_LITE_MODEL_FILE_NAME} > {MODEL_NAME}.cpp"
      ]
    }
  ],
  "metadata": {
    "accelerator": "GPU",
    "colab": {
      "provenance": []
    },
    "kernelspec": {
      "display_name": "Python 3",
      "name": "python3"
    },
    "language_info": {
      "codemirror_mode": {
        "name": "ipython",
        "version": 3
      },
      "file_extension": ".py",
      "mimetype": "text/x-python",
      "name": "python",
      "nbconvert_exporter": "python",
      "pygments_lexer": "ipython3",
      "version": "3.10.16"
    }
  },
  "nbformat": 4,
  "nbformat_minor": 0
}
