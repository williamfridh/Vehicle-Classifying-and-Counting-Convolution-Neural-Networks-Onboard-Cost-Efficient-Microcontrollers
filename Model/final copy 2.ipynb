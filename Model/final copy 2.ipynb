{
  "cells": [
    {
      "cell_type": "markdown",
      "metadata": {},
      "source": [
        "# Vehicle Classification Model\n",
        "\n",
        "This file contains the code for creatiing, training, and compressing the CNN used for the thesis project."
      ]
    },
    {
      "cell_type": "code",
      "execution_count": 1,
      "metadata": {},
      "outputs": [],
      "source": [
        "DATASET_PATH = \"dataset_mix_train_validation_frames.csv\"\n",
        "INPUT_SHAPE = (16, 8, 1)\n",
        "\n",
        "MODEL_NAME = \"final2\"\n",
        "\n",
        "GENERATE_KERAS_MODLE = False\n",
        "KERAS_MODEL_NAME = f\"{MODEL_NAME}.h5\"  # Try using .keras instead.\n",
        "\n",
        "TF_LITE_MODEL_FILE_NAME = f\"{MODEL_NAME}.tflite\""
      ]
    },
    {
      "cell_type": "markdown",
      "metadata": {
        "id": "4d6YB6Mh93Vc"
      },
      "source": [
        "## Imports\n",
        "\n",
        "Place all imports in this section."
      ]
    },
    {
      "cell_type": "code",
      "execution_count": 2,
      "metadata": {
        "id": "dzLKpmZICaWN"
      },
      "outputs": [
        {
          "name": "stderr",
          "output_type": "stream",
          "text": [
            "/home/fridh/.local/lib/python3.10/site-packages/matplotlib/projections/__init__.py:63: UserWarning: Unable to import Axes3D. This may be due to multiple versions of Matplotlib being installed (e.g. as a system package and as a pip package). As a result, the 3D projection is not available.\n",
            "  warnings.warn(\"Unable to import Axes3D. This may be due to multiple versions of \"\n",
            "2025-04-30 21:47:07.449377: E external/local_xla/xla/stream_executor/cuda/cuda_fft.cc:477] Unable to register cuFFT factory: Attempting to register factory for plugin cuFFT when one has already been registered\n",
            "WARNING: All log messages before absl::InitializeLog() is called are written to STDERR\n",
            "E0000 00:00:1746042427.470373    6440 cuda_dnn.cc:8310] Unable to register cuDNN factory: Attempting to register factory for plugin cuDNN when one has already been registered\n",
            "E0000 00:00:1746042427.477016    6440 cuda_blas.cc:1418] Unable to register cuBLAS factory: Attempting to register factory for plugin cuBLAS when one has already been registered\n",
            "2025-04-30 21:47:07.498569: I tensorflow/core/platform/cpu_feature_guard.cc:210] This TensorFlow binary is optimized to use available CPU instructions in performance-critical operations.\n",
            "To enable the following instructions: AVX2 FMA, in other operations, rebuild TensorFlow with the appropriate compiler flags.\n"
          ]
        }
      ],
      "source": [
        "import os\n",
        "import sys\n",
        "import numpy as np\n",
        "import pandas as pd\n",
        "import matplotlib.pyplot as plt\n",
        "import seaborn as sns\n",
        "\n",
        "from sklearn.model_selection import train_test_split\n",
        "from sklearn.utils.class_weight import compute_class_weight\n",
        "from sklearn.preprocessing import LabelEncoder\n",
        "from sklearn.metrics import confusion_matrix, classification_report\n",
        "\n",
        "import tensorflow as tf\n",
        "from tensorflow import keras\n",
        "from tensorflow.keras.layers import (\n",
        "    Flatten, Dense, Conv2D, MaxPooling2D, BatchNormalization, Dropout, \n",
        "    InputLayer, GlobalAveragePooling2D, AveragePooling2D\n",
        ")\n",
        "from tensorflow.keras.regularizers import l2\n",
        "from tensorflow.keras.utils import to_categorical\n",
        "from keras.callbacks import EarlyStopping\n"
      ]
    },
    {
      "cell_type": "code",
      "execution_count": 3,
      "metadata": {
        "colab": {
          "base_uri": "https://localhost:8080/"
        },
        "id": "NZKNhx8x_1jq",
        "outputId": "e564096b-b86e-4512-c0b2-35aed80e84dc"
      },
      "outputs": [
        {
          "name": "stdout",
          "output_type": "stream",
          "text": [
            "2.18.0\n"
          ]
        }
      ],
      "source": [
        "print(tf.__version__)"
      ]
    },
    {
      "cell_type": "code",
      "execution_count": 4,
      "metadata": {
        "id": "4Se2Y1iRrzxT"
      },
      "outputs": [],
      "source": [
        "# Modify GPU memory allocator to try to prevent full GPU memory.\n",
        "# This can in some cases be counter productive!\n",
        "os.environ['TF_GPU_ALLOCATOR'] = 'cuda_malloc_async'"
      ]
    },
    {
      "cell_type": "markdown",
      "metadata": {},
      "source": [
        "### Connect to Google Drive"
      ]
    },
    {
      "cell_type": "code",
      "execution_count": 5,
      "metadata": {},
      "outputs": [],
      "source": [
        "#from google.colab import drive\n",
        "#drive.mount('/content/drive')"
      ]
    },
    {
      "cell_type": "markdown",
      "metadata": {
        "id": "2VULHpvbVl0N"
      },
      "source": [
        "# Helper Functions"
      ]
    },
    {
      "cell_type": "code",
      "execution_count": 6,
      "metadata": {
        "id": "ymcbpqPdLJxW"
      },
      "outputs": [],
      "source": [
        "def get_file_size(file_path):\n",
        "    size = os.path.getsize(file_path)\n",
        "    return size"
      ]
    },
    {
      "cell_type": "code",
      "execution_count": 7,
      "metadata": {
        "id": "_vfRLdF_LKUK"
      },
      "outputs": [],
      "source": [
        "def convert_bytes(size, unit=None):\n",
        "    if unit == \"KB\":\n",
        "        return print('File size: ' + str(round(size / 1024, 3)) + ' Kilobytes')\n",
        "    elif unit == \"MB\":\n",
        "        return print('File size: ' + str(round(size / (1024 * 1024), 3)) + ' Megabytes')\n",
        "    else:\n",
        "        return print('File size: ' + str(size) + ' bytes')"
      ]
    },
    {
      "cell_type": "markdown",
      "metadata": {
        "id": "ArL366zjd4Xc"
      },
      "source": [
        "# Importa Data"
      ]
    },
    {
      "cell_type": "code",
      "execution_count": 8,
      "metadata": {
        "id": "ieeCS0L0d4Xd"
      },
      "outputs": [
        {
          "name": "stdout",
          "output_type": "stream",
          "text": [
            "Dataset shape: (2101200, 16, 8, 1)\n",
            "Labels shape: (2101200,)\n",
            "Input shape: (16, 8, 1)\n"
          ]
        }
      ],
      "source": [
        "df_train = pd.read_csv(\"output_speed/train.csv\", header=None)                     # Note that these should be no header present.\n",
        "# Convert to numpy array\n",
        "x_train = df_train.iloc[:, :-1].to_numpy(dtype=np.float32)            # All but last column as float32 (required by MCU)\n",
        "y_train = df_train.iloc[:, -1].to_numpy(dtype=str)                 # Last column as string\n",
        "\n",
        "x_train = x_train.reshape(x_train.shape[0], INPUT_SHAPE[0], INPUT_SHAPE[1], INPUT_SHAPE[2])\n",
        "\n",
        "print(f\"Dataset shape: {x_train.shape}\")\n",
        "print(f\"Labels shape: {y_train.shape}\")\n",
        "print(f\"Input shape: {INPUT_SHAPE}\")"
      ]
    },
    {
      "cell_type": "code",
      "execution_count": 9,
      "metadata": {},
      "outputs": [
        {
          "name": "stdout",
          "output_type": "stream",
          "text": [
            "Dataset shape: (262350, 16, 8, 1)\n",
            "Labels shape: (262350,)\n",
            "Input shape: (16, 8, 1)\n"
          ]
        }
      ],
      "source": [
        "df_test = pd.read_csv(\"output_speed/test.csv\", header=None)                     # Note that these should be no header present.\n",
        "# Shuffle the dataset\n",
        "df_test = df_test.sample(frac=1).reset_index(drop=True)\n",
        "x_test= df_test.iloc[:, :-1].to_numpy(dtype=np.float32)            # All but last column as float32 (required by MCU)\n",
        "y_test = df_test.iloc[:, -1].to_numpy(dtype=str)                 # Last column as string\n",
        "\n",
        "x_test = x_test.reshape(x_test.shape[0], INPUT_SHAPE[0], INPUT_SHAPE[1], INPUT_SHAPE[2])\n",
        "\n",
        "print(f\"Dataset shape: {x_test.shape}\")\n",
        "print(f\"Labels shape: {y_test.shape}\")\n",
        "print(f\"Input shape: {INPUT_SHAPE}\")"
      ]
    },
    {
      "cell_type": "code",
      "execution_count": 10,
      "metadata": {},
      "outputs": [
        {
          "name": "stdout",
          "output_type": "stream",
          "text": [
            "Dataset shape: (262350, 16, 8, 1)\n",
            "Labels shape: (262350,)\n",
            "Input shape: (16, 8, 1)\n"
          ]
        }
      ],
      "source": [
        "df_val = pd.read_csv(\"output_speed/val.csv\", header=None)                     # Note that these should be no header present.\n",
        "# Shuffle the dataset\n",
        "df_val = df_val.sample(frac=1).reset_index(drop=True)\n",
        "x_val= df_val.iloc[:, :-1].to_numpy(dtype=np.float32)            # All but last column as float32 (required by MCU)\n",
        "y_val = df_val.iloc[:, -1].to_numpy(dtype=str)                 # Last column as string\n",
        "\n",
        "x_val = x_val.reshape(x_val.shape[0], INPUT_SHAPE[0], INPUT_SHAPE[1], INPUT_SHAPE[2])\n",
        "\n",
        "print(f\"Dataset shape: {x_val.shape}\")\n",
        "print(f\"Labels shape: {y_val.shape}\")\n",
        "print(f\"Input shape: {INPUT_SHAPE}\")"
      ]
    },
    {
      "cell_type": "code",
      "execution_count": 11,
      "metadata": {},
      "outputs": [
        {
          "name": "stdout",
          "output_type": "stream",
          "text": [
            "['Background' 'Background' 'Background' 'Background' 'Background'\n",
            " 'Background' 'Background' 'Background' 'Background' 'Background']\n",
            "['Background' 'Car' 'Car' 'Background' 'Comm' 'Background' 'Car'\n",
            " 'Background' 'Car' 'Background']\n",
            "['Background' 'Car' 'Car' 'Background' 'Background' 'Background' 'Car'\n",
            " 'Background' 'Background' 'Background']\n"
          ]
        }
      ],
      "source": [
        "print(y_train[0:10])\n",
        "print(y_test[0:10])\n",
        "print(y_val[0:10])"
      ]
    },
    {
      "cell_type": "code",
      "execution_count": 12,
      "metadata": {
        "colab": {
          "base_uri": "https://localhost:8080/"
        },
        "id": "Ap-ud1Jbd4Xe",
        "outputId": "7491ac03-1445-4b7f-a5c6-73a509b617fa"
      },
      "outputs": [],
      "source": [
        "#x_train, x_test, y_train, y_test = train_test_split(dataset, labels_set, test_size=5/100, random_state=42, stratify=labels_set)\n",
        "#x_train, x_val, y_train, y_val = train_test_split(x_train, y_train, test_size=5/95, random_state=42, stratify=y_train)\n",
        "\n",
        "# Print the lengths of the training, validation, and testing sets.\n",
        "#print(f\"Training set length: {len(x_train)}\")\n",
        "#print(f\"Validation set length: {len(x_val)}\")\n",
        "#print(f\"Testing set length: {len(x_test)}\")\n",
        "\n",
        "#Training set length: 4499936\n",
        "#Validation set length: 249997\n",
        "#Testing set length: 249997"
      ]
    },
    {
      "cell_type": "code",
      "execution_count": 13,
      "metadata": {},
      "outputs": [
        {
          "name": "stdout",
          "output_type": "stream",
          "text": [
            "(2101200, 16, 8, 1)\n",
            "-5.2690635\n",
            "15.966296\n"
          ]
        }
      ],
      "source": [
        "print(x_train.shape)\n",
        "# Get mean of each value in x_train\n",
        "mean = np.mean(x_train)\n",
        "print(mean)\n",
        "# Get standard deviation of each value in x_train\n",
        "std = np.std(x_train)\n",
        "print(std)\n",
        "# Normalize the dataset\n",
        "x_train = (x_train - mean) / std\n",
        "x_val = (x_val - mean) / std\n",
        "x_test = (x_test - mean) / std\n"
      ]
    },
    {
      "cell_type": "code",
      "execution_count": 14,
      "metadata": {},
      "outputs": [],
      "source": [
        "# Apply clipping at -3 and 3\n",
        "x_train = np.clip(x_train, -3, 3)\n",
        "x_val = np.clip(x_val, -3, 3)\n",
        "x_test = np.clip(x_test, -3, 3)"
      ]
    },
    {
      "cell_type": "code",
      "execution_count": 15,
      "metadata": {},
      "outputs": [],
      "source": [
        "# Load CSV file called test.csv\n",
        "#df_test = pd.read_csv(\"test.csv\", header=None)  # Note that these should be no header present.\n",
        "#dataset_test = df_test.iloc[:, :-1].to_numpy(dtype=np.float32)  # All but last column as float32 (required by MCU)\n",
        "#labels_set_test = df_test.iloc[:, -1].to_numpy(dtype=str)  # Last column as string\n",
        "\n",
        "#dataset_test = (dataset_test - mean) / std\n",
        "# Apply clipping at -3 and 3\n",
        "#dataset_test = np.clip(dataset_test, -3, 3)\n",
        "# Turn into int8 [-128, 127]\n",
        "#dataset_test = np.round((dataset_test / 3) * 127).astype(np.int8)"
      ]
    },
    {
      "cell_type": "code",
      "execution_count": 16,
      "metadata": {},
      "outputs": [],
      "source": [
        "#dataset_test[6]"
      ]
    },
    {
      "cell_type": "code",
      "execution_count": 17,
      "metadata": {
        "id": "e2p_MTiid4Xf"
      },
      "outputs": [],
      "source": [
        "# Calculate class weights (based on training data).\n",
        "class_weight = compute_class_weight('balanced', classes=np.unique(y_train), y=y_train)\n",
        "dist_class_weight = dict(enumerate(class_weight))"
      ]
    },
    {
      "cell_type": "code",
      "execution_count": 18,
      "metadata": {
        "colab": {
          "base_uri": "https://localhost:8080/"
        },
        "id": "10khbK5Qd4Xf",
        "outputId": "87dcb6fb-b159-42aa-c0fb-bf15d873c5e9"
      },
      "outputs": [
        {
          "name": "stdout",
          "output_type": "stream",
          "text": [
            "Classes: ['Background' 'Car' 'Comm' 'Motorcycle']\n",
            "Class weights: {0: np.float64(0.5374462860650706), 1: np.float64(0.5608584240871236), 2: np.float64(3.8738938053097347), 3: np.float64(10.180232558139535)}\n",
            "Training class distribution: {np.str_('Background'): np.int64(977400), np.str_('Car'): np.int64(936600), np.str_('Comm'): np.int64(135600), np.str_('Motorcycle'): np.int64(51600)}\n",
            "Training class distribution: {np.str_('Background'): np.int64(122100), np.str_('Car'): np.int64(117000), np.str_('Comm'): np.int64(16800), np.str_('Motorcycle'): np.int64(6450)}\n",
            "Training class distribution: {np.str_('Background'): np.int64(122100), np.str_('Car'): np.int64(117000), np.str_('Comm'): np.int64(16800), np.str_('Motorcycle'): np.int64(6450)}\n"
          ]
        }
      ],
      "source": [
        "print(f\"Classes: {np.unique(y_test)}\")\n",
        "print(f\"Class weights: {dist_class_weight}\")\n",
        "\n",
        "# Print out the amount of each class.\n",
        "unique, counts = np.unique(y_train, return_counts=True)\n",
        "print(f\"Training class distribution: {dict(zip(unique, counts))}\")\n",
        "\n",
        "# Print out the amount of each class.\n",
        "unique, counts = np.unique(y_test, return_counts=True)\n",
        "print(f\"Training class distribution: {dict(zip(unique, counts))}\")\n",
        "\n",
        "# Print out the amount of each class.\n",
        "unique, counts = np.unique(y_val, return_counts=True)\n",
        "print(f\"Training class distribution: {dict(zip(unique, counts))}\")"
      ]
    },
    {
      "cell_type": "code",
      "execution_count": 19,
      "metadata": {},
      "outputs": [
        {
          "data": {
            "text/plain": [
              "(262350, 16, 8, 1)"
            ]
          },
          "execution_count": 19,
          "metadata": {},
          "output_type": "execute_result"
        }
      ],
      "source": [
        "x_test.shape"
      ]
    },
    {
      "cell_type": "code",
      "execution_count": 20,
      "metadata": {},
      "outputs": [
        {
          "name": "stdout",
          "output_type": "stream",
          "text": [
            "['Background' 'Background' 'Background' 'Background' 'Background'\n",
            " 'Background' 'Background' 'Background' 'Background' 'Background']\n",
            "['Background' 'Car' 'Car' 'Background' 'Comm' 'Background' 'Car'\n",
            " 'Background' 'Car' 'Background']\n",
            "['Background' 'Car' 'Car' 'Background' 'Background' 'Background' 'Car'\n",
            " 'Background' 'Background' 'Background']\n"
          ]
        }
      ],
      "source": [
        "print(y_train[0:10])\n",
        "print(y_test[0:10])\n",
        "print(y_val[0:10])"
      ]
    },
    {
      "cell_type": "code",
      "execution_count": 21,
      "metadata": {
        "id": "qEXSIf2Qd4Xh"
      },
      "outputs": [],
      "source": [
        "# Hot end code the labels.\n",
        "label_encoder = LabelEncoder()\n",
        "y_train = to_categorical(label_encoder.fit_transform(y_train))\n",
        "y_test = to_categorical(label_encoder.fit_transform(y_test))\n",
        "y_val = to_categorical(label_encoder.fit_transform(y_val))"
      ]
    },
    {
      "cell_type": "code",
      "execution_count": 22,
      "metadata": {},
      "outputs": [
        {
          "name": "stdout",
          "output_type": "stream",
          "text": [
            "[[1. 0. 0. 0.]\n",
            " [1. 0. 0. 0.]\n",
            " [1. 0. 0. 0.]\n",
            " [1. 0. 0. 0.]\n",
            " [1. 0. 0. 0.]\n",
            " [1. 0. 0. 0.]\n",
            " [1. 0. 0. 0.]\n",
            " [1. 0. 0. 0.]\n",
            " [1. 0. 0. 0.]\n",
            " [1. 0. 0. 0.]]\n",
            "[[1. 0. 0. 0.]\n",
            " [0. 1. 0. 0.]\n",
            " [0. 1. 0. 0.]\n",
            " [1. 0. 0. 0.]\n",
            " [0. 0. 1. 0.]\n",
            " [1. 0. 0. 0.]\n",
            " [0. 1. 0. 0.]\n",
            " [1. 0. 0. 0.]\n",
            " [0. 1. 0. 0.]\n",
            " [1. 0. 0. 0.]]\n",
            "[[1. 0. 0. 0.]\n",
            " [0. 1. 0. 0.]\n",
            " [0. 1. 0. 0.]\n",
            " [1. 0. 0. 0.]\n",
            " [1. 0. 0. 0.]\n",
            " [1. 0. 0. 0.]\n",
            " [0. 1. 0. 0.]\n",
            " [1. 0. 0. 0.]\n",
            " [1. 0. 0. 0.]\n",
            " [1. 0. 0. 0.]]\n"
          ]
        }
      ],
      "source": [
        "print(y_train[0:10])\n",
        "print(y_test[0:10])\n",
        "print(y_val[0:10])"
      ]
    },
    {
      "cell_type": "markdown",
      "metadata": {
        "id": "59veuiEZCaW4"
      },
      "source": [
        "## Model\n"
      ]
    },
    {
      "cell_type": "markdown",
      "metadata": {
        "id": "ZCxFDXesrzxc"
      },
      "source": [
        "### Helper Functions"
      ]
    },
    {
      "cell_type": "code",
      "execution_count": 23,
      "metadata": {
        "id": "8preOUYXd4Xk"
      },
      "outputs": [],
      "source": [
        "def compileModel(model, learning_rate = 0.00001):\n",
        "    model.compile(\n",
        "        optimizer=tf.keras.optimizers.Adam(learning_rate=learning_rate),\n",
        "        loss = tf.keras.losses.CategoricalCrossentropy(), # 0label_smoothing=0.2\n",
        "        metrics=['categorical_accuracy']\n",
        "    )\n",
        "    model.summary()"
      ]
    },
    {
      "cell_type": "code",
      "execution_count": 24,
      "metadata": {
        "id": "7Wm8zfrvveeJ"
      },
      "outputs": [],
      "source": [
        "# Print training history\n",
        "# Function used for printing two plots, one for accuracy and one for loss.\n",
        "# To be used with the history object from the fit method\n",
        "def printHistory(history):\n",
        "  # Collect the number of epochs run based on the amount of loss value under history.\n",
        "  epochs = len(history.history['loss'])\n",
        "\n",
        "  epochrange = range(1, epochs + 1)\n",
        "  train_acc = history.history['categorical_accuracy']\n",
        "  val_acc = history.history['val_categorical_accuracy']\n",
        "\n",
        "  train_loss = history.history['loss']\n",
        "  val_loss = history.history['val_loss']\n",
        "\n",
        "  plt.plot(epochrange, train_acc, 'bo', label='Training acc')\n",
        "  plt.plot(epochrange, val_acc, 'b', label='Validation acc')\n",
        "  plt.title('Training and validation accuracy (modell 1)')\n",
        "  plt.xlabel('Epochs')\n",
        "  plt.ylabel('Accuracy')\n",
        "  plt.legend()\n",
        "  plt.show()\n",
        "\n",
        "  plt.plot(epochrange, train_loss, 'bo', label='Training loss')\n",
        "  plt.plot(epochrange, val_loss, 'b', label='Validation loss')\n",
        "  plt.title('Training and validation loss (modell 1)')\n",
        "  plt.xlabel('Epochs')\n",
        "  plt.ylabel('Loss')\n",
        "  plt.legend()\n",
        "  plt.show()"
      ]
    },
    {
      "cell_type": "code",
      "execution_count": 25,
      "metadata": {
        "id": "PF_VyRPKrzxd"
      },
      "outputs": [],
      "source": [
        "def printConfusionMatrix(model, x_test, y_test, labels_set):\n",
        "    y_train_int = np.argmax(y_train, axis=1)  # Convert one-hot to integer labels for y_train\n",
        "    y_test_int = np.argmax(y_test, axis=1)  # Convert one-hot to integer labels for y_test\n",
        "\n",
        "    y_pred_prob = model.predict(x_test)\n",
        "\n",
        "    y_pred = np.argmax(y_pred_prob, axis=1)  # Convert softmax probabilities to class indices\n",
        "\n",
        "    # Ensure that the labels are in 1D arrays (class indices) before passing to confusion_matrix\n",
        "    print(f\"y_train_int shape: {y_train_int.shape}\")\n",
        "    print(f\"y_test_int shape: {y_test_int.shape}\")\n",
        "    print(f\"y_pred shape: {y_pred.shape}\")\n",
        "\n",
        "    # Define your class labels (ensure they match the number of classes)\n",
        "    class_names = np.unique(labels_set)  # Assuming labels_set contains class names\n",
        "\n",
        "    # Generate confusion matrix\n",
        "    cm = confusion_matrix(y_test_int, y_pred)\n",
        "\n",
        "    # Normalize the confusion matrix\n",
        "    cm_normalized = cm.astype('float') / cm.sum(axis=1)[:, np.newaxis]\n",
        "\n",
        "    # Visualize the normalized confusion matrix with proper labels\n",
        "    plt.figure(figsize=(10, 7))\n",
        "    sns.heatmap(cm_normalized, annot=True, fmt='.2f', cmap='Blues', xticklabels=class_names, yticklabels=class_names)\n",
        "    plt.xlabel('Predicted')\n",
        "    plt.ylabel('True')\n",
        "    plt.title('Normalized Confusion Matrix')\n",
        "    plt.show()"
      ]
    },
    {
      "cell_type": "code",
      "execution_count": 26,
      "metadata": {
        "id": "FztgpcUvtoHU"
      },
      "outputs": [],
      "source": [
        "# Fit model function used for convinience when fitting the model multiple times\n",
        "def fitModel(model, x_train, y_train, x_val, y_val, epochs, doPrintHistory, class_weight, verbose, batch_size):\n",
        "\n",
        "    # Define early stopping callback.\n",
        "    early_stopping = EarlyStopping(monitor='val_loss', patience=20, restore_best_weights=True)\n",
        "\n",
        "    reduce_lr = tf.keras.callbacks.ReduceLROnPlateau(\n",
        "        monitor='val_loss',\n",
        "        factor=0.5,\n",
        "        patience=2,\n",
        "        min_lr=1e-6\n",
        "    )\n",
        "\n",
        "    history = model.fit(\n",
        "        x=x_train,\n",
        "        y=y_train,\n",
        "        validation_data=(x_val, y_val),\n",
        "        epochs=epochs,\n",
        "        verbose=verbose,\n",
        "        class_weight=class_weight,\n",
        "        batch_size=batch_size,\n",
        "        callbacks=[early_stopping, reduce_lr],\n",
        "    )\n",
        "    # Print history\n",
        "    if doPrintHistory: printHistory(history)"
      ]
    },
    {
      "cell_type": "code",
      "execution_count": 27,
      "metadata": {},
      "outputs": [],
      "source": [
        "def evaluate_tflite_model(model_path, x_test, y_test):\n",
        "\n",
        "  interpreter = tf.lite.Interpreter(model_path)\n",
        "  interpreter.allocate_tensors()\n",
        "\n",
        "  input_details = interpreter.get_input_details()\n",
        "  output_details = interpreter.get_output_details()\n",
        "\n",
        "  predictions = []\n",
        "  for i in range(len(x_test)):\n",
        "    # Set the input tensor.\n",
        "    interpreter.set_tensor(input_details[0]['index'], [x_test[i]])\n",
        "\n",
        "    # Run inference.\n",
        "    interpreter.invoke()\n",
        "\n",
        "    # Get the output tensor.\n",
        "    output_data = interpreter.get_tensor(output_details[0]['index'])\n",
        "    predictions.append(output_data)\n",
        "\n",
        "  # Convert predictions to class labels\n",
        "  predicted_labels = [np.argmax(prediction[0]) for prediction in predictions]\n",
        "  true_labels = [np.argmax(label) for label in y_test]\n",
        "\n",
        "  # Calculate accuracy\n",
        "  correct_predictions = sum([1 for true, predicted in zip(true_labels, predicted_labels) if true == predicted])\n",
        "  accuracy = correct_predictions / len(true_labels)\n",
        "\n",
        "  # Print the accuracy\n",
        "  print(f\"Accuracy: {accuracy}\")\n",
        "\n",
        "  # Print a classification report\n",
        "  print(classification_report(true_labels, predicted_labels))"
      ]
    },
    {
      "cell_type": "code",
      "execution_count": 28,
      "metadata": {},
      "outputs": [
        {
          "data": {
            "text/plain": [
              "array([0., 1.])"
            ]
          },
          "execution_count": 28,
          "metadata": {},
          "output_type": "execute_result"
        }
      ],
      "source": [
        "np.unique(y_train)"
      ]
    },
    {
      "cell_type": "markdown",
      "metadata": {
        "id": "5TYhCf6krzxd"
      },
      "source": [
        "### Create, train, compile, test"
      ]
    },
    {
      "cell_type": "code",
      "execution_count": 29,
      "metadata": {
        "id": "9ODch-OFCaW4"
      },
      "outputs": [
        {
          "name": "stderr",
          "output_type": "stream",
          "text": [
            "I0000 00:00:1746042461.165119    6440 gpu_process_state.cc:201] Using CUDA malloc Async allocator for GPU: 0\n",
            "I0000 00:00:1746042461.165401    6440 gpu_device.cc:2022] Created device /job:localhost/replica:0/task:0/device:GPU:0 with 5113 MB memory:  -> device: 0, name: NVIDIA GeForce RTX 2070 SUPER, pci bus id: 0000:09:00.0, compute capability: 7.5\n"
          ]
        }
      ],
      "source": [
        "model = keras.Sequential([\n",
        "    InputLayer(shape=INPUT_SHAPE),\n",
        "\n",
        "    # 16 8\n",
        "    Conv2D(filters=32, kernel_size=3, activation=\"relu\", padding='same'),\n",
        "    BatchNormalization(),\n",
        "    Conv2D(filters=32, kernel_size=3, activation=\"relu\", padding='same'),\n",
        "    BatchNormalization(),\n",
        "    MaxPooling2D(),\n",
        "    Dropout(0.1),\n",
        "    # 8 4\n",
        "    Conv2D(filters=64, kernel_size=3, activation=\"relu\", padding='same'),\n",
        "    BatchNormalization(),\n",
        "    Conv2D(filters=64, kernel_size=3, activation=\"relu\", padding='same', kernel_regularizer=l2(0.001)),\n",
        "    BatchNormalization(),\n",
        "    MaxPooling2D(),\n",
        "    Dropout(0.1),\n",
        "    #4 2\n",
        "    Conv2D(filters=64, kernel_size=3, activation=\"relu\", padding='same', kernel_regularizer=l2(0.0001)),\n",
        "    BatchNormalization(),\n",
        "    Conv2D(filters=64, kernel_size=3, activation=\"relu\", padding='same', kernel_regularizer=l2(0.001)),\n",
        "    BatchNormalization(),\n",
        "    Conv2D(filters=64, kernel_size=3, activation=\"relu\", padding='same', kernel_regularizer=l2(0.0001)),\n",
        "    MaxPooling2D(),\n",
        "    Dropout(0.1),\n",
        "\n",
        "    # Feature Pooling (Combining Max & Average Pooling)\n",
        "    Flatten(),\n",
        "\n",
        "    # Fully Connected Layer\n",
        "    Dense(32, activation=\"relu\", kernel_regularizer=l2(0.001)),\n",
        "    BatchNormalization(),\n",
        "    Dropout(0.3),\n",
        "    Dense(16, activation=\"relu\", kernel_regularizer=l2(0.001)),\n",
        "    BatchNormalization(),\n",
        "    Dropout(0.4),\n",
        "\n",
        "    # Output Layer (Softmax for multi-class classification)\n",
        "    Dense(units=4, activation=\"softmax\") # Softmax barely increase size.\n",
        "])"
      ]
    },
    {
      "cell_type": "code",
      "execution_count": 30,
      "metadata": {
        "colab": {
          "base_uri": "https://localhost:8080/",
          "height": 374
        },
        "id": "xvwvpA64CaW_",
        "outputId": "01ae9c32-9bf0-4ce0-bb48-5c51c0afb89c"
      },
      "outputs": [
        {
          "data": {
            "text/html": [
              "<pre style=\"white-space:pre;overflow-x:auto;line-height:normal;font-family:Menlo,'DejaVu Sans Mono',consolas,'Courier New',monospace\"><span style=\"font-weight: bold\">Model: \"sequential\"</span>\n",
              "</pre>\n"
            ],
            "text/plain": [
              "\u001b[1mModel: \"sequential\"\u001b[0m\n"
            ]
          },
          "metadata": {},
          "output_type": "display_data"
        },
        {
          "data": {
            "text/html": [
              "<pre style=\"white-space:pre;overflow-x:auto;line-height:normal;font-family:Menlo,'DejaVu Sans Mono',consolas,'Courier New',monospace\">┏━━━━━━━━━━━━━━━━━━━━━━━━━━━━━━━━━┳━━━━━━━━━━━━━━━━━━━━━━━━┳━━━━━━━━━━━━━━━┓\n",
              "┃<span style=\"font-weight: bold\"> Layer (type)                    </span>┃<span style=\"font-weight: bold\"> Output Shape           </span>┃<span style=\"font-weight: bold\">       Param # </span>┃\n",
              "┡━━━━━━━━━━━━━━━━━━━━━━━━━━━━━━━━━╇━━━━━━━━━━━━━━━━━━━━━━━━╇━━━━━━━━━━━━━━━┩\n",
              "│ conv2d (<span style=\"color: #0087ff; text-decoration-color: #0087ff\">Conv2D</span>)                 │ (<span style=\"color: #00d7ff; text-decoration-color: #00d7ff\">None</span>, <span style=\"color: #00af00; text-decoration-color: #00af00\">16</span>, <span style=\"color: #00af00; text-decoration-color: #00af00\">8</span>, <span style=\"color: #00af00; text-decoration-color: #00af00\">32</span>)      │           <span style=\"color: #00af00; text-decoration-color: #00af00\">320</span> │\n",
              "├─────────────────────────────────┼────────────────────────┼───────────────┤\n",
              "│ batch_normalization             │ (<span style=\"color: #00d7ff; text-decoration-color: #00d7ff\">None</span>, <span style=\"color: #00af00; text-decoration-color: #00af00\">16</span>, <span style=\"color: #00af00; text-decoration-color: #00af00\">8</span>, <span style=\"color: #00af00; text-decoration-color: #00af00\">32</span>)      │           <span style=\"color: #00af00; text-decoration-color: #00af00\">128</span> │\n",
              "│ (<span style=\"color: #0087ff; text-decoration-color: #0087ff\">BatchNormalization</span>)            │                        │               │\n",
              "├─────────────────────────────────┼────────────────────────┼───────────────┤\n",
              "│ conv2d_1 (<span style=\"color: #0087ff; text-decoration-color: #0087ff\">Conv2D</span>)               │ (<span style=\"color: #00d7ff; text-decoration-color: #00d7ff\">None</span>, <span style=\"color: #00af00; text-decoration-color: #00af00\">16</span>, <span style=\"color: #00af00; text-decoration-color: #00af00\">8</span>, <span style=\"color: #00af00; text-decoration-color: #00af00\">32</span>)      │         <span style=\"color: #00af00; text-decoration-color: #00af00\">9,248</span> │\n",
              "├─────────────────────────────────┼────────────────────────┼───────────────┤\n",
              "│ batch_normalization_1           │ (<span style=\"color: #00d7ff; text-decoration-color: #00d7ff\">None</span>, <span style=\"color: #00af00; text-decoration-color: #00af00\">16</span>, <span style=\"color: #00af00; text-decoration-color: #00af00\">8</span>, <span style=\"color: #00af00; text-decoration-color: #00af00\">32</span>)      │           <span style=\"color: #00af00; text-decoration-color: #00af00\">128</span> │\n",
              "│ (<span style=\"color: #0087ff; text-decoration-color: #0087ff\">BatchNormalization</span>)            │                        │               │\n",
              "├─────────────────────────────────┼────────────────────────┼───────────────┤\n",
              "│ max_pooling2d (<span style=\"color: #0087ff; text-decoration-color: #0087ff\">MaxPooling2D</span>)    │ (<span style=\"color: #00d7ff; text-decoration-color: #00d7ff\">None</span>, <span style=\"color: #00af00; text-decoration-color: #00af00\">8</span>, <span style=\"color: #00af00; text-decoration-color: #00af00\">4</span>, <span style=\"color: #00af00; text-decoration-color: #00af00\">32</span>)       │             <span style=\"color: #00af00; text-decoration-color: #00af00\">0</span> │\n",
              "├─────────────────────────────────┼────────────────────────┼───────────────┤\n",
              "│ dropout (<span style=\"color: #0087ff; text-decoration-color: #0087ff\">Dropout</span>)               │ (<span style=\"color: #00d7ff; text-decoration-color: #00d7ff\">None</span>, <span style=\"color: #00af00; text-decoration-color: #00af00\">8</span>, <span style=\"color: #00af00; text-decoration-color: #00af00\">4</span>, <span style=\"color: #00af00; text-decoration-color: #00af00\">32</span>)       │             <span style=\"color: #00af00; text-decoration-color: #00af00\">0</span> │\n",
              "├─────────────────────────────────┼────────────────────────┼───────────────┤\n",
              "│ conv2d_2 (<span style=\"color: #0087ff; text-decoration-color: #0087ff\">Conv2D</span>)               │ (<span style=\"color: #00d7ff; text-decoration-color: #00d7ff\">None</span>, <span style=\"color: #00af00; text-decoration-color: #00af00\">8</span>, <span style=\"color: #00af00; text-decoration-color: #00af00\">4</span>, <span style=\"color: #00af00; text-decoration-color: #00af00\">64</span>)       │        <span style=\"color: #00af00; text-decoration-color: #00af00\">18,496</span> │\n",
              "├─────────────────────────────────┼────────────────────────┼───────────────┤\n",
              "│ batch_normalization_2           │ (<span style=\"color: #00d7ff; text-decoration-color: #00d7ff\">None</span>, <span style=\"color: #00af00; text-decoration-color: #00af00\">8</span>, <span style=\"color: #00af00; text-decoration-color: #00af00\">4</span>, <span style=\"color: #00af00; text-decoration-color: #00af00\">64</span>)       │           <span style=\"color: #00af00; text-decoration-color: #00af00\">256</span> │\n",
              "│ (<span style=\"color: #0087ff; text-decoration-color: #0087ff\">BatchNormalization</span>)            │                        │               │\n",
              "├─────────────────────────────────┼────────────────────────┼───────────────┤\n",
              "│ conv2d_3 (<span style=\"color: #0087ff; text-decoration-color: #0087ff\">Conv2D</span>)               │ (<span style=\"color: #00d7ff; text-decoration-color: #00d7ff\">None</span>, <span style=\"color: #00af00; text-decoration-color: #00af00\">8</span>, <span style=\"color: #00af00; text-decoration-color: #00af00\">4</span>, <span style=\"color: #00af00; text-decoration-color: #00af00\">64</span>)       │        <span style=\"color: #00af00; text-decoration-color: #00af00\">36,928</span> │\n",
              "├─────────────────────────────────┼────────────────────────┼───────────────┤\n",
              "│ batch_normalization_3           │ (<span style=\"color: #00d7ff; text-decoration-color: #00d7ff\">None</span>, <span style=\"color: #00af00; text-decoration-color: #00af00\">8</span>, <span style=\"color: #00af00; text-decoration-color: #00af00\">4</span>, <span style=\"color: #00af00; text-decoration-color: #00af00\">64</span>)       │           <span style=\"color: #00af00; text-decoration-color: #00af00\">256</span> │\n",
              "│ (<span style=\"color: #0087ff; text-decoration-color: #0087ff\">BatchNormalization</span>)            │                        │               │\n",
              "├─────────────────────────────────┼────────────────────────┼───────────────┤\n",
              "│ max_pooling2d_1 (<span style=\"color: #0087ff; text-decoration-color: #0087ff\">MaxPooling2D</span>)  │ (<span style=\"color: #00d7ff; text-decoration-color: #00d7ff\">None</span>, <span style=\"color: #00af00; text-decoration-color: #00af00\">4</span>, <span style=\"color: #00af00; text-decoration-color: #00af00\">2</span>, <span style=\"color: #00af00; text-decoration-color: #00af00\">64</span>)       │             <span style=\"color: #00af00; text-decoration-color: #00af00\">0</span> │\n",
              "├─────────────────────────────────┼────────────────────────┼───────────────┤\n",
              "│ dropout_1 (<span style=\"color: #0087ff; text-decoration-color: #0087ff\">Dropout</span>)             │ (<span style=\"color: #00d7ff; text-decoration-color: #00d7ff\">None</span>, <span style=\"color: #00af00; text-decoration-color: #00af00\">4</span>, <span style=\"color: #00af00; text-decoration-color: #00af00\">2</span>, <span style=\"color: #00af00; text-decoration-color: #00af00\">64</span>)       │             <span style=\"color: #00af00; text-decoration-color: #00af00\">0</span> │\n",
              "├─────────────────────────────────┼────────────────────────┼───────────────┤\n",
              "│ conv2d_4 (<span style=\"color: #0087ff; text-decoration-color: #0087ff\">Conv2D</span>)               │ (<span style=\"color: #00d7ff; text-decoration-color: #00d7ff\">None</span>, <span style=\"color: #00af00; text-decoration-color: #00af00\">4</span>, <span style=\"color: #00af00; text-decoration-color: #00af00\">2</span>, <span style=\"color: #00af00; text-decoration-color: #00af00\">64</span>)       │        <span style=\"color: #00af00; text-decoration-color: #00af00\">36,928</span> │\n",
              "├─────────────────────────────────┼────────────────────────┼───────────────┤\n",
              "│ batch_normalization_4           │ (<span style=\"color: #00d7ff; text-decoration-color: #00d7ff\">None</span>, <span style=\"color: #00af00; text-decoration-color: #00af00\">4</span>, <span style=\"color: #00af00; text-decoration-color: #00af00\">2</span>, <span style=\"color: #00af00; text-decoration-color: #00af00\">64</span>)       │           <span style=\"color: #00af00; text-decoration-color: #00af00\">256</span> │\n",
              "│ (<span style=\"color: #0087ff; text-decoration-color: #0087ff\">BatchNormalization</span>)            │                        │               │\n",
              "├─────────────────────────────────┼────────────────────────┼───────────────┤\n",
              "│ conv2d_5 (<span style=\"color: #0087ff; text-decoration-color: #0087ff\">Conv2D</span>)               │ (<span style=\"color: #00d7ff; text-decoration-color: #00d7ff\">None</span>, <span style=\"color: #00af00; text-decoration-color: #00af00\">4</span>, <span style=\"color: #00af00; text-decoration-color: #00af00\">2</span>, <span style=\"color: #00af00; text-decoration-color: #00af00\">64</span>)       │        <span style=\"color: #00af00; text-decoration-color: #00af00\">36,928</span> │\n",
              "├─────────────────────────────────┼────────────────────────┼───────────────┤\n",
              "│ batch_normalization_5           │ (<span style=\"color: #00d7ff; text-decoration-color: #00d7ff\">None</span>, <span style=\"color: #00af00; text-decoration-color: #00af00\">4</span>, <span style=\"color: #00af00; text-decoration-color: #00af00\">2</span>, <span style=\"color: #00af00; text-decoration-color: #00af00\">64</span>)       │           <span style=\"color: #00af00; text-decoration-color: #00af00\">256</span> │\n",
              "│ (<span style=\"color: #0087ff; text-decoration-color: #0087ff\">BatchNormalization</span>)            │                        │               │\n",
              "├─────────────────────────────────┼────────────────────────┼───────────────┤\n",
              "│ conv2d_6 (<span style=\"color: #0087ff; text-decoration-color: #0087ff\">Conv2D</span>)               │ (<span style=\"color: #00d7ff; text-decoration-color: #00d7ff\">None</span>, <span style=\"color: #00af00; text-decoration-color: #00af00\">4</span>, <span style=\"color: #00af00; text-decoration-color: #00af00\">2</span>, <span style=\"color: #00af00; text-decoration-color: #00af00\">64</span>)       │        <span style=\"color: #00af00; text-decoration-color: #00af00\">36,928</span> │\n",
              "├─────────────────────────────────┼────────────────────────┼───────────────┤\n",
              "│ max_pooling2d_2 (<span style=\"color: #0087ff; text-decoration-color: #0087ff\">MaxPooling2D</span>)  │ (<span style=\"color: #00d7ff; text-decoration-color: #00d7ff\">None</span>, <span style=\"color: #00af00; text-decoration-color: #00af00\">2</span>, <span style=\"color: #00af00; text-decoration-color: #00af00\">1</span>, <span style=\"color: #00af00; text-decoration-color: #00af00\">64</span>)       │             <span style=\"color: #00af00; text-decoration-color: #00af00\">0</span> │\n",
              "├─────────────────────────────────┼────────────────────────┼───────────────┤\n",
              "│ dropout_2 (<span style=\"color: #0087ff; text-decoration-color: #0087ff\">Dropout</span>)             │ (<span style=\"color: #00d7ff; text-decoration-color: #00d7ff\">None</span>, <span style=\"color: #00af00; text-decoration-color: #00af00\">2</span>, <span style=\"color: #00af00; text-decoration-color: #00af00\">1</span>, <span style=\"color: #00af00; text-decoration-color: #00af00\">64</span>)       │             <span style=\"color: #00af00; text-decoration-color: #00af00\">0</span> │\n",
              "├─────────────────────────────────┼────────────────────────┼───────────────┤\n",
              "│ flatten (<span style=\"color: #0087ff; text-decoration-color: #0087ff\">Flatten</span>)               │ (<span style=\"color: #00d7ff; text-decoration-color: #00d7ff\">None</span>, <span style=\"color: #00af00; text-decoration-color: #00af00\">128</span>)            │             <span style=\"color: #00af00; text-decoration-color: #00af00\">0</span> │\n",
              "├─────────────────────────────────┼────────────────────────┼───────────────┤\n",
              "│ dense (<span style=\"color: #0087ff; text-decoration-color: #0087ff\">Dense</span>)                   │ (<span style=\"color: #00d7ff; text-decoration-color: #00d7ff\">None</span>, <span style=\"color: #00af00; text-decoration-color: #00af00\">32</span>)             │         <span style=\"color: #00af00; text-decoration-color: #00af00\">4,128</span> │\n",
              "├─────────────────────────────────┼────────────────────────┼───────────────┤\n",
              "│ batch_normalization_6           │ (<span style=\"color: #00d7ff; text-decoration-color: #00d7ff\">None</span>, <span style=\"color: #00af00; text-decoration-color: #00af00\">32</span>)             │           <span style=\"color: #00af00; text-decoration-color: #00af00\">128</span> │\n",
              "│ (<span style=\"color: #0087ff; text-decoration-color: #0087ff\">BatchNormalization</span>)            │                        │               │\n",
              "├─────────────────────────────────┼────────────────────────┼───────────────┤\n",
              "│ dropout_3 (<span style=\"color: #0087ff; text-decoration-color: #0087ff\">Dropout</span>)             │ (<span style=\"color: #00d7ff; text-decoration-color: #00d7ff\">None</span>, <span style=\"color: #00af00; text-decoration-color: #00af00\">32</span>)             │             <span style=\"color: #00af00; text-decoration-color: #00af00\">0</span> │\n",
              "├─────────────────────────────────┼────────────────────────┼───────────────┤\n",
              "│ dense_1 (<span style=\"color: #0087ff; text-decoration-color: #0087ff\">Dense</span>)                 │ (<span style=\"color: #00d7ff; text-decoration-color: #00d7ff\">None</span>, <span style=\"color: #00af00; text-decoration-color: #00af00\">16</span>)             │           <span style=\"color: #00af00; text-decoration-color: #00af00\">528</span> │\n",
              "├─────────────────────────────────┼────────────────────────┼───────────────┤\n",
              "│ batch_normalization_7           │ (<span style=\"color: #00d7ff; text-decoration-color: #00d7ff\">None</span>, <span style=\"color: #00af00; text-decoration-color: #00af00\">16</span>)             │            <span style=\"color: #00af00; text-decoration-color: #00af00\">64</span> │\n",
              "│ (<span style=\"color: #0087ff; text-decoration-color: #0087ff\">BatchNormalization</span>)            │                        │               │\n",
              "├─────────────────────────────────┼────────────────────────┼───────────────┤\n",
              "│ dropout_4 (<span style=\"color: #0087ff; text-decoration-color: #0087ff\">Dropout</span>)             │ (<span style=\"color: #00d7ff; text-decoration-color: #00d7ff\">None</span>, <span style=\"color: #00af00; text-decoration-color: #00af00\">16</span>)             │             <span style=\"color: #00af00; text-decoration-color: #00af00\">0</span> │\n",
              "├─────────────────────────────────┼────────────────────────┼───────────────┤\n",
              "│ dense_2 (<span style=\"color: #0087ff; text-decoration-color: #0087ff\">Dense</span>)                 │ (<span style=\"color: #00d7ff; text-decoration-color: #00d7ff\">None</span>, <span style=\"color: #00af00; text-decoration-color: #00af00\">4</span>)              │            <span style=\"color: #00af00; text-decoration-color: #00af00\">68</span> │\n",
              "└─────────────────────────────────┴────────────────────────┴───────────────┘\n",
              "</pre>\n"
            ],
            "text/plain": [
              "┏━━━━━━━━━━━━━━━━━━━━━━━━━━━━━━━━━┳━━━━━━━━━━━━━━━━━━━━━━━━┳━━━━━━━━━━━━━━━┓\n",
              "┃\u001b[1m \u001b[0m\u001b[1mLayer (type)                   \u001b[0m\u001b[1m \u001b[0m┃\u001b[1m \u001b[0m\u001b[1mOutput Shape          \u001b[0m\u001b[1m \u001b[0m┃\u001b[1m \u001b[0m\u001b[1m      Param #\u001b[0m\u001b[1m \u001b[0m┃\n",
              "┡━━━━━━━━━━━━━━━━━━━━━━━━━━━━━━━━━╇━━━━━━━━━━━━━━━━━━━━━━━━╇━━━━━━━━━━━━━━━┩\n",
              "│ conv2d (\u001b[38;5;33mConv2D\u001b[0m)                 │ (\u001b[38;5;45mNone\u001b[0m, \u001b[38;5;34m16\u001b[0m, \u001b[38;5;34m8\u001b[0m, \u001b[38;5;34m32\u001b[0m)      │           \u001b[38;5;34m320\u001b[0m │\n",
              "├─────────────────────────────────┼────────────────────────┼───────────────┤\n",
              "│ batch_normalization             │ (\u001b[38;5;45mNone\u001b[0m, \u001b[38;5;34m16\u001b[0m, \u001b[38;5;34m8\u001b[0m, \u001b[38;5;34m32\u001b[0m)      │           \u001b[38;5;34m128\u001b[0m │\n",
              "│ (\u001b[38;5;33mBatchNormalization\u001b[0m)            │                        │               │\n",
              "├─────────────────────────────────┼────────────────────────┼───────────────┤\n",
              "│ conv2d_1 (\u001b[38;5;33mConv2D\u001b[0m)               │ (\u001b[38;5;45mNone\u001b[0m, \u001b[38;5;34m16\u001b[0m, \u001b[38;5;34m8\u001b[0m, \u001b[38;5;34m32\u001b[0m)      │         \u001b[38;5;34m9,248\u001b[0m │\n",
              "├─────────────────────────────────┼────────────────────────┼───────────────┤\n",
              "│ batch_normalization_1           │ (\u001b[38;5;45mNone\u001b[0m, \u001b[38;5;34m16\u001b[0m, \u001b[38;5;34m8\u001b[0m, \u001b[38;5;34m32\u001b[0m)      │           \u001b[38;5;34m128\u001b[0m │\n",
              "│ (\u001b[38;5;33mBatchNormalization\u001b[0m)            │                        │               │\n",
              "├─────────────────────────────────┼────────────────────────┼───────────────┤\n",
              "│ max_pooling2d (\u001b[38;5;33mMaxPooling2D\u001b[0m)    │ (\u001b[38;5;45mNone\u001b[0m, \u001b[38;5;34m8\u001b[0m, \u001b[38;5;34m4\u001b[0m, \u001b[38;5;34m32\u001b[0m)       │             \u001b[38;5;34m0\u001b[0m │\n",
              "├─────────────────────────────────┼────────────────────────┼───────────────┤\n",
              "│ dropout (\u001b[38;5;33mDropout\u001b[0m)               │ (\u001b[38;5;45mNone\u001b[0m, \u001b[38;5;34m8\u001b[0m, \u001b[38;5;34m4\u001b[0m, \u001b[38;5;34m32\u001b[0m)       │             \u001b[38;5;34m0\u001b[0m │\n",
              "├─────────────────────────────────┼────────────────────────┼───────────────┤\n",
              "│ conv2d_2 (\u001b[38;5;33mConv2D\u001b[0m)               │ (\u001b[38;5;45mNone\u001b[0m, \u001b[38;5;34m8\u001b[0m, \u001b[38;5;34m4\u001b[0m, \u001b[38;5;34m64\u001b[0m)       │        \u001b[38;5;34m18,496\u001b[0m │\n",
              "├─────────────────────────────────┼────────────────────────┼───────────────┤\n",
              "│ batch_normalization_2           │ (\u001b[38;5;45mNone\u001b[0m, \u001b[38;5;34m8\u001b[0m, \u001b[38;5;34m4\u001b[0m, \u001b[38;5;34m64\u001b[0m)       │           \u001b[38;5;34m256\u001b[0m │\n",
              "│ (\u001b[38;5;33mBatchNormalization\u001b[0m)            │                        │               │\n",
              "├─────────────────────────────────┼────────────────────────┼───────────────┤\n",
              "│ conv2d_3 (\u001b[38;5;33mConv2D\u001b[0m)               │ (\u001b[38;5;45mNone\u001b[0m, \u001b[38;5;34m8\u001b[0m, \u001b[38;5;34m4\u001b[0m, \u001b[38;5;34m64\u001b[0m)       │        \u001b[38;5;34m36,928\u001b[0m │\n",
              "├─────────────────────────────────┼────────────────────────┼───────────────┤\n",
              "│ batch_normalization_3           │ (\u001b[38;5;45mNone\u001b[0m, \u001b[38;5;34m8\u001b[0m, \u001b[38;5;34m4\u001b[0m, \u001b[38;5;34m64\u001b[0m)       │           \u001b[38;5;34m256\u001b[0m │\n",
              "│ (\u001b[38;5;33mBatchNormalization\u001b[0m)            │                        │               │\n",
              "├─────────────────────────────────┼────────────────────────┼───────────────┤\n",
              "│ max_pooling2d_1 (\u001b[38;5;33mMaxPooling2D\u001b[0m)  │ (\u001b[38;5;45mNone\u001b[0m, \u001b[38;5;34m4\u001b[0m, \u001b[38;5;34m2\u001b[0m, \u001b[38;5;34m64\u001b[0m)       │             \u001b[38;5;34m0\u001b[0m │\n",
              "├─────────────────────────────────┼────────────────────────┼───────────────┤\n",
              "│ dropout_1 (\u001b[38;5;33mDropout\u001b[0m)             │ (\u001b[38;5;45mNone\u001b[0m, \u001b[38;5;34m4\u001b[0m, \u001b[38;5;34m2\u001b[0m, \u001b[38;5;34m64\u001b[0m)       │             \u001b[38;5;34m0\u001b[0m │\n",
              "├─────────────────────────────────┼────────────────────────┼───────────────┤\n",
              "│ conv2d_4 (\u001b[38;5;33mConv2D\u001b[0m)               │ (\u001b[38;5;45mNone\u001b[0m, \u001b[38;5;34m4\u001b[0m, \u001b[38;5;34m2\u001b[0m, \u001b[38;5;34m64\u001b[0m)       │        \u001b[38;5;34m36,928\u001b[0m │\n",
              "├─────────────────────────────────┼────────────────────────┼───────────────┤\n",
              "│ batch_normalization_4           │ (\u001b[38;5;45mNone\u001b[0m, \u001b[38;5;34m4\u001b[0m, \u001b[38;5;34m2\u001b[0m, \u001b[38;5;34m64\u001b[0m)       │           \u001b[38;5;34m256\u001b[0m │\n",
              "│ (\u001b[38;5;33mBatchNormalization\u001b[0m)            │                        │               │\n",
              "├─────────────────────────────────┼────────────────────────┼───────────────┤\n",
              "│ conv2d_5 (\u001b[38;5;33mConv2D\u001b[0m)               │ (\u001b[38;5;45mNone\u001b[0m, \u001b[38;5;34m4\u001b[0m, \u001b[38;5;34m2\u001b[0m, \u001b[38;5;34m64\u001b[0m)       │        \u001b[38;5;34m36,928\u001b[0m │\n",
              "├─────────────────────────────────┼────────────────────────┼───────────────┤\n",
              "│ batch_normalization_5           │ (\u001b[38;5;45mNone\u001b[0m, \u001b[38;5;34m4\u001b[0m, \u001b[38;5;34m2\u001b[0m, \u001b[38;5;34m64\u001b[0m)       │           \u001b[38;5;34m256\u001b[0m │\n",
              "│ (\u001b[38;5;33mBatchNormalization\u001b[0m)            │                        │               │\n",
              "├─────────────────────────────────┼────────────────────────┼───────────────┤\n",
              "│ conv2d_6 (\u001b[38;5;33mConv2D\u001b[0m)               │ (\u001b[38;5;45mNone\u001b[0m, \u001b[38;5;34m4\u001b[0m, \u001b[38;5;34m2\u001b[0m, \u001b[38;5;34m64\u001b[0m)       │        \u001b[38;5;34m36,928\u001b[0m │\n",
              "├─────────────────────────────────┼────────────────────────┼───────────────┤\n",
              "│ max_pooling2d_2 (\u001b[38;5;33mMaxPooling2D\u001b[0m)  │ (\u001b[38;5;45mNone\u001b[0m, \u001b[38;5;34m2\u001b[0m, \u001b[38;5;34m1\u001b[0m, \u001b[38;5;34m64\u001b[0m)       │             \u001b[38;5;34m0\u001b[0m │\n",
              "├─────────────────────────────────┼────────────────────────┼───────────────┤\n",
              "│ dropout_2 (\u001b[38;5;33mDropout\u001b[0m)             │ (\u001b[38;5;45mNone\u001b[0m, \u001b[38;5;34m2\u001b[0m, \u001b[38;5;34m1\u001b[0m, \u001b[38;5;34m64\u001b[0m)       │             \u001b[38;5;34m0\u001b[0m │\n",
              "├─────────────────────────────────┼────────────────────────┼───────────────┤\n",
              "│ flatten (\u001b[38;5;33mFlatten\u001b[0m)               │ (\u001b[38;5;45mNone\u001b[0m, \u001b[38;5;34m128\u001b[0m)            │             \u001b[38;5;34m0\u001b[0m │\n",
              "├─────────────────────────────────┼────────────────────────┼───────────────┤\n",
              "│ dense (\u001b[38;5;33mDense\u001b[0m)                   │ (\u001b[38;5;45mNone\u001b[0m, \u001b[38;5;34m32\u001b[0m)             │         \u001b[38;5;34m4,128\u001b[0m │\n",
              "├─────────────────────────────────┼────────────────────────┼───────────────┤\n",
              "│ batch_normalization_6           │ (\u001b[38;5;45mNone\u001b[0m, \u001b[38;5;34m32\u001b[0m)             │           \u001b[38;5;34m128\u001b[0m │\n",
              "│ (\u001b[38;5;33mBatchNormalization\u001b[0m)            │                        │               │\n",
              "├─────────────────────────────────┼────────────────────────┼───────────────┤\n",
              "│ dropout_3 (\u001b[38;5;33mDropout\u001b[0m)             │ (\u001b[38;5;45mNone\u001b[0m, \u001b[38;5;34m32\u001b[0m)             │             \u001b[38;5;34m0\u001b[0m │\n",
              "├─────────────────────────────────┼────────────────────────┼───────────────┤\n",
              "│ dense_1 (\u001b[38;5;33mDense\u001b[0m)                 │ (\u001b[38;5;45mNone\u001b[0m, \u001b[38;5;34m16\u001b[0m)             │           \u001b[38;5;34m528\u001b[0m │\n",
              "├─────────────────────────────────┼────────────────────────┼───────────────┤\n",
              "│ batch_normalization_7           │ (\u001b[38;5;45mNone\u001b[0m, \u001b[38;5;34m16\u001b[0m)             │            \u001b[38;5;34m64\u001b[0m │\n",
              "│ (\u001b[38;5;33mBatchNormalization\u001b[0m)            │                        │               │\n",
              "├─────────────────────────────────┼────────────────────────┼───────────────┤\n",
              "│ dropout_4 (\u001b[38;5;33mDropout\u001b[0m)             │ (\u001b[38;5;45mNone\u001b[0m, \u001b[38;5;34m16\u001b[0m)             │             \u001b[38;5;34m0\u001b[0m │\n",
              "├─────────────────────────────────┼────────────────────────┼───────────────┤\n",
              "│ dense_2 (\u001b[38;5;33mDense\u001b[0m)                 │ (\u001b[38;5;45mNone\u001b[0m, \u001b[38;5;34m4\u001b[0m)              │            \u001b[38;5;34m68\u001b[0m │\n",
              "└─────────────────────────────────┴────────────────────────┴───────────────┘\n"
            ]
          },
          "metadata": {},
          "output_type": "display_data"
        },
        {
          "data": {
            "text/html": [
              "<pre style=\"white-space:pre;overflow-x:auto;line-height:normal;font-family:Menlo,'DejaVu Sans Mono',consolas,'Courier New',monospace\"><span style=\"font-weight: bold\"> Total params: </span><span style=\"color: #00af00; text-decoration-color: #00af00\">181,972</span> (710.83 KB)\n",
              "</pre>\n"
            ],
            "text/plain": [
              "\u001b[1m Total params: \u001b[0m\u001b[38;5;34m181,972\u001b[0m (710.83 KB)\n"
            ]
          },
          "metadata": {},
          "output_type": "display_data"
        },
        {
          "data": {
            "text/html": [
              "<pre style=\"white-space:pre;overflow-x:auto;line-height:normal;font-family:Menlo,'DejaVu Sans Mono',consolas,'Courier New',monospace\"><span style=\"font-weight: bold\"> Trainable params: </span><span style=\"color: #00af00; text-decoration-color: #00af00\">181,236</span> (707.95 KB)\n",
              "</pre>\n"
            ],
            "text/plain": [
              "\u001b[1m Trainable params: \u001b[0m\u001b[38;5;34m181,236\u001b[0m (707.95 KB)\n"
            ]
          },
          "metadata": {},
          "output_type": "display_data"
        },
        {
          "data": {
            "text/html": [
              "<pre style=\"white-space:pre;overflow-x:auto;line-height:normal;font-family:Menlo,'DejaVu Sans Mono',consolas,'Courier New',monospace\"><span style=\"font-weight: bold\"> Non-trainable params: </span><span style=\"color: #00af00; text-decoration-color: #00af00\">736</span> (2.88 KB)\n",
              "</pre>\n"
            ],
            "text/plain": [
              "\u001b[1m Non-trainable params: \u001b[0m\u001b[38;5;34m736\u001b[0m (2.88 KB)\n"
            ]
          },
          "metadata": {},
          "output_type": "display_data"
        }
      ],
      "source": [
        "compileModel(model)"
      ]
    },
    {
      "cell_type": "code",
      "execution_count": 31,
      "metadata": {
        "colab": {
          "base_uri": "https://localhost:8080/",
          "height": 1000
        },
        "id": "Z7XNMH5Lrzxd",
        "outputId": "3305465a-1651-49e3-d168-caa978d6a4c7"
      },
      "outputs": [
        {
          "name": "stdout",
          "output_type": "stream",
          "text": [
            "Epoch 1/256\n"
          ]
        },
        {
          "name": "stderr",
          "output_type": "stream",
          "text": [
            "WARNING: All log messages before absl::InitializeLog() is called are written to STDERR\n",
            "I0000 00:00:1746042469.002236    6565 service.cc:148] XLA service 0x7ca1240025a0 initialized for platform CUDA (this does not guarantee that XLA will be used). Devices:\n",
            "I0000 00:00:1746042469.002282    6565 service.cc:156]   StreamExecutor device (0): NVIDIA GeForce RTX 2070 SUPER, Compute Capability 7.5\n",
            "2025-04-30 21:47:49.154487: I tensorflow/compiler/mlir/tensorflow/utils/dump_mlir_util.cc:268] disabling MLIR crash reproducer, set env var `MLIR_CRASH_REPRODUCER_DIRECTORY` to enable.\n",
            "I0000 00:00:1746042469.746594    6565 cuda_dnn.cc:529] Loaded cuDNN version 90300\n",
            "2025-04-30 21:47:50.596604: I external/local_xla/xla/service/gpu/autotuning/conv_algorithm_picker.cc:557] Omitted potentially buggy algorithm eng14{k25=0} for conv (f32[256,32,16,8]{3,2,1,0}, u8[0]{0}) custom-call(f32[256,1,16,8]{3,2,1,0}, f32[32,1,3,3]{3,2,1,0}, f32[32]{0}), window={size=3x3 pad=1_1x1_1}, dim_labels=bf01_oi01->bf01, custom_call_target=\"__cudnn$convBiasActivationForward\", backend_config={\"cudnn_conv_backend_config\":{\"activation_mode\":\"kNone\",\"conv_result_scale\":1,\"leakyrelu_alpha\":0,\"side_input_scale\":0},\"force_earliest_schedule\":false,\"operation_queue_id\":\"0\",\"wait_on_operation_queues\":[]}\n",
            "2025-04-30 21:47:50.634963: I external/local_xla/xla/service/gpu/autotuning/conv_algorithm_picker.cc:557] Omitted potentially buggy algorithm eng14{k25=0} for conv (f32[256,32,16,8]{3,2,1,0}, u8[0]{0}) custom-call(f32[256,32,16,8]{3,2,1,0}, f32[32,32,3,3]{3,2,1,0}, f32[32]{0}), window={size=3x3 pad=1_1x1_1}, dim_labels=bf01_oi01->bf01, custom_call_target=\"__cudnn$convBiasActivationForward\", backend_config={\"cudnn_conv_backend_config\":{\"activation_mode\":\"kNone\",\"conv_result_scale\":1,\"leakyrelu_alpha\":0,\"side_input_scale\":0},\"force_earliest_schedule\":false,\"operation_queue_id\":\"0\",\"wait_on_operation_queues\":[]}\n",
            "2025-04-30 21:47:50.676185: I external/local_xla/xla/service/gpu/autotuning/conv_algorithm_picker.cc:557] Omitted potentially buggy algorithm eng14{k25=0} for conv (f32[256,64,8,4]{3,2,1,0}, u8[0]{0}) custom-call(f32[256,32,8,4]{3,2,1,0}, f32[64,32,3,3]{3,2,1,0}, f32[64]{0}), window={size=3x3 pad=1_1x1_1}, dim_labels=bf01_oi01->bf01, custom_call_target=\"__cudnn$convBiasActivationForward\", backend_config={\"cudnn_conv_backend_config\":{\"activation_mode\":\"kNone\",\"conv_result_scale\":1,\"leakyrelu_alpha\":0,\"side_input_scale\":0},\"force_earliest_schedule\":false,\"operation_queue_id\":\"0\",\"wait_on_operation_queues\":[]}\n",
            "2025-04-30 21:47:50.708150: I external/local_xla/xla/service/gpu/autotuning/conv_algorithm_picker.cc:557] Omitted potentially buggy algorithm eng14{k25=0} for conv (f32[256,64,8,4]{3,2,1,0}, u8[0]{0}) custom-call(f32[256,64,8,4]{3,2,1,0}, f32[64,64,3,3]{3,2,1,0}, f32[64]{0}), window={size=3x3 pad=1_1x1_1}, dim_labels=bf01_oi01->bf01, custom_call_target=\"__cudnn$convBiasActivationForward\", backend_config={\"cudnn_conv_backend_config\":{\"activation_mode\":\"kNone\",\"conv_result_scale\":1,\"leakyrelu_alpha\":0,\"side_input_scale\":0},\"force_earliest_schedule\":false,\"operation_queue_id\":\"0\",\"wait_on_operation_queues\":[]}\n"
          ]
        },
        {
          "name": "stdout",
          "output_type": "stream",
          "text": [
            "\u001b[1m  24/8208\u001b[0m \u001b[37m━━━━━━━━━━━━━━━━━━━━\u001b[0m \u001b[1m57s\u001b[0m 7ms/step - categorical_accuracy: 0.2523 - loss: 2.1950  "
          ]
        },
        {
          "name": "stderr",
          "output_type": "stream",
          "text": [
            "I0000 00:00:1746042476.208033    6565 device_compiler.h:188] Compiled cluster using XLA!  This line is logged at most once for the lifetime of the process.\n"
          ]
        },
        {
          "name": "stdout",
          "output_type": "stream",
          "text": [
            "\u001b[1m8199/8208\u001b[0m \u001b[32m━━━━━━━━━━━━━━━━━━━\u001b[0m\u001b[37m━\u001b[0m \u001b[1m0s\u001b[0m 6ms/step - categorical_accuracy: 0.4225 - loss: 1.5774"
          ]
        },
        {
          "name": "stderr",
          "output_type": "stream",
          "text": [
            "2025-04-30 21:48:48.409998: I external/local_xla/xla/service/gpu/autotuning/conv_algorithm_picker.cc:557] Omitted potentially buggy algorithm eng14{k25=0} for conv (f32[208,32,16,8]{3,2,1,0}, u8[0]{0}) custom-call(f32[208,1,16,8]{3,2,1,0}, f32[32,1,3,3]{3,2,1,0}, f32[32]{0}), window={size=3x3 pad=1_1x1_1}, dim_labels=bf01_oi01->bf01, custom_call_target=\"__cudnn$convBiasActivationForward\", backend_config={\"cudnn_conv_backend_config\":{\"activation_mode\":\"kNone\",\"conv_result_scale\":1,\"leakyrelu_alpha\":0,\"side_input_scale\":0},\"force_earliest_schedule\":false,\"operation_queue_id\":\"0\",\"wait_on_operation_queues\":[]}\n",
            "2025-04-30 21:48:48.426316: I external/local_xla/xla/service/gpu/autotuning/conv_algorithm_picker.cc:557] Omitted potentially buggy algorithm eng14{k25=0} for conv (f32[208,32,16,8]{3,2,1,0}, u8[0]{0}) custom-call(f32[208,32,16,8]{3,2,1,0}, f32[32,32,3,3]{3,2,1,0}, f32[32]{0}), window={size=3x3 pad=1_1x1_1}, dim_labels=bf01_oi01->bf01, custom_call_target=\"__cudnn$convBiasActivationForward\", backend_config={\"cudnn_conv_backend_config\":{\"activation_mode\":\"kNone\",\"conv_result_scale\":1,\"leakyrelu_alpha\":0,\"side_input_scale\":0},\"force_earliest_schedule\":false,\"operation_queue_id\":\"0\",\"wait_on_operation_queues\":[]}\n",
            "2025-04-30 21:48:48.455750: I external/local_xla/xla/service/gpu/autotuning/conv_algorithm_picker.cc:557] Omitted potentially buggy algorithm eng14{k25=0} for conv (f32[208,64,8,4]{3,2,1,0}, u8[0]{0}) custom-call(f32[208,32,8,4]{3,2,1,0}, f32[64,32,3,3]{3,2,1,0}, f32[64]{0}), window={size=3x3 pad=1_1x1_1}, dim_labels=bf01_oi01->bf01, custom_call_target=\"__cudnn$convBiasActivationForward\", backend_config={\"cudnn_conv_backend_config\":{\"activation_mode\":\"kNone\",\"conv_result_scale\":1,\"leakyrelu_alpha\":0,\"side_input_scale\":0},\"force_earliest_schedule\":false,\"operation_queue_id\":\"0\",\"wait_on_operation_queues\":[]}\n",
            "2025-04-30 21:48:48.483782: I external/local_xla/xla/service/gpu/autotuning/conv_algorithm_picker.cc:557] Omitted potentially buggy algorithm eng14{k25=0} for conv (f32[208,64,8,4]{3,2,1,0}, u8[0]{0}) custom-call(f32[208,64,8,4]{3,2,1,0}, f32[64,64,3,3]{3,2,1,0}, f32[64]{0}), window={size=3x3 pad=1_1x1_1}, dim_labels=bf01_oi01->bf01, custom_call_target=\"__cudnn$convBiasActivationForward\", backend_config={\"cudnn_conv_backend_config\":{\"activation_mode\":\"kNone\",\"conv_result_scale\":1,\"leakyrelu_alpha\":0,\"side_input_scale\":0},\"force_earliest_schedule\":false,\"operation_queue_id\":\"0\",\"wait_on_operation_queues\":[]}\n"
          ]
        },
        {
          "name": "stdout",
          "output_type": "stream",
          "text": [
            "\u001b[1m8208/8208\u001b[0m \u001b[32m━━━━━━━━━━━━━━━━━━━━\u001b[0m\u001b[37m\u001b[0m \u001b[1m0s\u001b[0m 7ms/step - categorical_accuracy: 0.4226 - loss: 1.5772"
          ]
        },
        {
          "name": "stderr",
          "output_type": "stream",
          "text": [
            "2025-04-30 21:48:54.575798: I external/local_xla/xla/service/gpu/autotuning/conv_algorithm_picker.cc:557] Omitted potentially buggy algorithm eng14{k25=0} for conv (f32[256,32,16,8]{3,2,1,0}, u8[0]{0}) custom-call(f32[256,1,16,8]{3,2,1,0}, f32[32,1,3,3]{3,2,1,0}, f32[32]{0}), window={size=3x3 pad=1_1x1_1}, dim_labels=bf01_oi01->bf01, custom_call_target=\"__cudnn$convBiasActivationForward\", backend_config={\"cudnn_conv_backend_config\":{\"activation_mode\":\"kRelu\",\"conv_result_scale\":1,\"leakyrelu_alpha\":0,\"side_input_scale\":0},\"force_earliest_schedule\":false,\"operation_queue_id\":\"0\",\"wait_on_operation_queues\":[]}\n",
            "2025-04-30 21:48:54.594791: I external/local_xla/xla/service/gpu/autotuning/conv_algorithm_picker.cc:557] Omitted potentially buggy algorithm eng14{k25=0} for conv (f32[256,32,16,8]{3,2,1,0}, u8[0]{0}) custom-call(f32[256,32,16,8]{3,2,1,0}, f32[32,32,3,3]{3,2,1,0}, f32[32]{0}), window={size=3x3 pad=1_1x1_1}, dim_labels=bf01_oi01->bf01, custom_call_target=\"__cudnn$convBiasActivationForward\", backend_config={\"cudnn_conv_backend_config\":{\"activation_mode\":\"kRelu\",\"conv_result_scale\":1,\"leakyrelu_alpha\":0,\"side_input_scale\":0},\"force_earliest_schedule\":false,\"operation_queue_id\":\"0\",\"wait_on_operation_queues\":[]}\n",
            "2025-04-30 21:48:54.634646: I external/local_xla/xla/service/gpu/autotuning/conv_algorithm_picker.cc:557] Omitted potentially buggy algorithm eng14{k25=0} for conv (f32[256,64,8,4]{3,2,1,0}, u8[0]{0}) custom-call(f32[256,32,8,4]{3,2,1,0}, f32[64,32,3,3]{3,2,1,0}, f32[64]{0}), window={size=3x3 pad=1_1x1_1}, dim_labels=bf01_oi01->bf01, custom_call_target=\"__cudnn$convBiasActivationForward\", backend_config={\"cudnn_conv_backend_config\":{\"activation_mode\":\"kRelu\",\"conv_result_scale\":1,\"leakyrelu_alpha\":0,\"side_input_scale\":0},\"force_earliest_schedule\":false,\"operation_queue_id\":\"0\",\"wait_on_operation_queues\":[]}\n",
            "2025-04-30 21:48:54.666294: I external/local_xla/xla/service/gpu/autotuning/conv_algorithm_picker.cc:557] Omitted potentially buggy algorithm eng14{k25=0} for conv (f32[256,64,8,4]{3,2,1,0}, u8[0]{0}) custom-call(f32[256,64,8,4]{3,2,1,0}, f32[64,64,3,3]{3,2,1,0}, f32[64]{0}), window={size=3x3 pad=1_1x1_1}, dim_labels=bf01_oi01->bf01, custom_call_target=\"__cudnn$convBiasActivationForward\", backend_config={\"cudnn_conv_backend_config\":{\"activation_mode\":\"kRelu\",\"conv_result_scale\":1,\"leakyrelu_alpha\":0,\"side_input_scale\":0},\"force_earliest_schedule\":false,\"operation_queue_id\":\"0\",\"wait_on_operation_queues\":[]}\n",
            "2025-04-30 21:48:58.578236: I external/local_xla/xla/service/gpu/autotuning/conv_algorithm_picker.cc:557] Omitted potentially buggy algorithm eng14{k25=0} for conv (f32[206,32,16,8]{3,2,1,0}, u8[0]{0}) custom-call(f32[206,1,16,8]{3,2,1,0}, f32[32,1,3,3]{3,2,1,0}, f32[32]{0}), window={size=3x3 pad=1_1x1_1}, dim_labels=bf01_oi01->bf01, custom_call_target=\"__cudnn$convBiasActivationForward\", backend_config={\"cudnn_conv_backend_config\":{\"activation_mode\":\"kRelu\",\"conv_result_scale\":1,\"leakyrelu_alpha\":0,\"side_input_scale\":0},\"force_earliest_schedule\":false,\"operation_queue_id\":\"0\",\"wait_on_operation_queues\":[]}\n",
            "2025-04-30 21:48:58.596659: I external/local_xla/xla/service/gpu/autotuning/conv_algorithm_picker.cc:557] Omitted potentially buggy algorithm eng14{k25=0} for conv (f32[206,32,16,8]{3,2,1,0}, u8[0]{0}) custom-call(f32[206,32,16,8]{3,2,1,0}, f32[32,32,3,3]{3,2,1,0}, f32[32]{0}), window={size=3x3 pad=1_1x1_1}, dim_labels=bf01_oi01->bf01, custom_call_target=\"__cudnn$convBiasActivationForward\", backend_config={\"cudnn_conv_backend_config\":{\"activation_mode\":\"kRelu\",\"conv_result_scale\":1,\"leakyrelu_alpha\":0,\"side_input_scale\":0},\"force_earliest_schedule\":false,\"operation_queue_id\":\"0\",\"wait_on_operation_queues\":[]}\n",
            "2025-04-30 21:48:58.629579: I external/local_xla/xla/service/gpu/autotuning/conv_algorithm_picker.cc:557] Omitted potentially buggy algorithm eng14{k25=0} for conv (f32[206,64,8,4]{3,2,1,0}, u8[0]{0}) custom-call(f32[206,32,8,4]{3,2,1,0}, f32[64,32,3,3]{3,2,1,0}, f32[64]{0}), window={size=3x3 pad=1_1x1_1}, dim_labels=bf01_oi01->bf01, custom_call_target=\"__cudnn$convBiasActivationForward\", backend_config={\"cudnn_conv_backend_config\":{\"activation_mode\":\"kRelu\",\"conv_result_scale\":1,\"leakyrelu_alpha\":0,\"side_input_scale\":0},\"force_earliest_schedule\":false,\"operation_queue_id\":\"0\",\"wait_on_operation_queues\":[]}\n",
            "2025-04-30 21:48:58.657746: I external/local_xla/xla/service/gpu/autotuning/conv_algorithm_picker.cc:557] Omitted potentially buggy algorithm eng14{k25=0} for conv (f32[206,64,8,4]{3,2,1,0}, u8[0]{0}) custom-call(f32[206,64,8,4]{3,2,1,0}, f32[64,64,3,3]{3,2,1,0}, f32[64]{0}), window={size=3x3 pad=1_1x1_1}, dim_labels=bf01_oi01->bf01, custom_call_target=\"__cudnn$convBiasActivationForward\", backend_config={\"cudnn_conv_backend_config\":{\"activation_mode\":\"kRelu\",\"conv_result_scale\":1,\"leakyrelu_alpha\":0,\"side_input_scale\":0},\"force_earliest_schedule\":false,\"operation_queue_id\":\"0\",\"wait_on_operation_queues\":[]}\n"
          ]
        },
        {
          "name": "stdout",
          "output_type": "stream",
          "text": [
            "\u001b[1m8208/8208\u001b[0m \u001b[32m━━━━━━━━━━━━━━━━━━━━\u001b[0m\u001b[37m\u001b[0m \u001b[1m75s\u001b[0m 8ms/step - categorical_accuracy: 0.4226 - loss: 1.5771 - val_categorical_accuracy: 0.7721 - val_loss: 0.9030 - learning_rate: 1.0000e-05\n",
            "Epoch 2/256\n",
            "\u001b[1m8208/8208\u001b[0m \u001b[32m━━━━━━━━━━━━━━━━━━━━\u001b[0m\u001b[37m\u001b[0m \u001b[1m55s\u001b[0m 7ms/step - categorical_accuracy: 0.6527 - loss: 0.9877 - val_categorical_accuracy: 0.8207 - val_loss: 0.7546 - learning_rate: 1.0000e-05\n",
            "Epoch 3/256\n",
            "\u001b[1m8208/8208\u001b[0m \u001b[32m━━━━━━━━━━━━━━━━━━━━\u001b[0m\u001b[37m\u001b[0m \u001b[1m55s\u001b[0m 7ms/step - categorical_accuracy: 0.7291 - loss: 0.8428 - val_categorical_accuracy: 0.8262 - val_loss: 0.6953 - learning_rate: 1.0000e-05\n",
            "Epoch 4/256\n",
            "\u001b[1m8208/8208\u001b[0m \u001b[32m━━━━━━━━━━━━━━━━━━━━\u001b[0m\u001b[37m\u001b[0m \u001b[1m55s\u001b[0m 7ms/step - categorical_accuracy: 0.7650 - loss: 0.7654 - val_categorical_accuracy: 0.8322 - val_loss: 0.6534 - learning_rate: 1.0000e-05\n",
            "Epoch 5/256\n",
            "\u001b[1m8208/8208\u001b[0m \u001b[32m━━━━━━━━━━━━━━━━━━━━\u001b[0m\u001b[37m\u001b[0m \u001b[1m55s\u001b[0m 7ms/step - categorical_accuracy: 0.7891 - loss: 0.7098 - val_categorical_accuracy: 0.8315 - val_loss: 0.6355 - learning_rate: 1.0000e-05\n",
            "Epoch 6/256\n",
            "\u001b[1m8208/8208\u001b[0m \u001b[32m━━━━━━━━━━━━━━━━━━━━\u001b[0m\u001b[37m\u001b[0m \u001b[1m55s\u001b[0m 7ms/step - categorical_accuracy: 0.8011 - loss: 0.6700 - val_categorical_accuracy: 0.8431 - val_loss: 0.5962 - learning_rate: 1.0000e-05\n",
            "Epoch 7/256\n",
            "\u001b[1m8208/8208\u001b[0m \u001b[32m━━━━━━━━━━━━━━━━━━━━\u001b[0m\u001b[37m\u001b[0m \u001b[1m55s\u001b[0m 7ms/step - categorical_accuracy: 0.8106 - loss: 0.6402 - val_categorical_accuracy: 0.8400 - val_loss: 0.5827 - learning_rate: 1.0000e-05\n",
            "Epoch 8/256\n",
            "\u001b[1m8208/8208\u001b[0m \u001b[32m━━━━━━━━━━━━━━━━━━━━\u001b[0m\u001b[37m\u001b[0m \u001b[1m55s\u001b[0m 7ms/step - categorical_accuracy: 0.8167 - loss: 0.6137 - val_categorical_accuracy: 0.8410 - val_loss: 0.5702 - learning_rate: 1.0000e-05\n",
            "Epoch 9/256\n",
            "\u001b[1m8208/8208\u001b[0m \u001b[32m━━━━━━━━━━━━━━━━━━━━\u001b[0m\u001b[37m\u001b[0m \u001b[1m56s\u001b[0m 7ms/step - categorical_accuracy: 0.8209 - loss: 0.5922 - val_categorical_accuracy: 0.8349 - val_loss: 0.5705 - learning_rate: 1.0000e-05\n",
            "Epoch 10/256\n",
            "\u001b[1m8208/8208\u001b[0m \u001b[32m━━━━━━━━━━━━━━━━━━━━\u001b[0m\u001b[37m\u001b[0m \u001b[1m56s\u001b[0m 7ms/step - categorical_accuracy: 0.8254 - loss: 0.5727 - val_categorical_accuracy: 0.8401 - val_loss: 0.5478 - learning_rate: 1.0000e-05\n",
            "Epoch 11/256\n",
            "\u001b[1m8208/8208\u001b[0m \u001b[32m━━━━━━━━━━━━━━━━━━━━\u001b[0m\u001b[37m\u001b[0m \u001b[1m56s\u001b[0m 7ms/step - categorical_accuracy: 0.8291 - loss: 0.5564 - val_categorical_accuracy: 0.8381 - val_loss: 0.5513 - learning_rate: 1.0000e-05\n",
            "Epoch 12/256\n",
            "\u001b[1m8208/8208\u001b[0m \u001b[32m━━━━━━━━━━━━━━━━━━━━\u001b[0m\u001b[37m\u001b[0m \u001b[1m55s\u001b[0m 7ms/step - categorical_accuracy: 0.8324 - loss: 0.5415 - val_categorical_accuracy: 0.8425 - val_loss: 0.5261 - learning_rate: 1.0000e-05\n",
            "Epoch 13/256\n",
            "\u001b[1m8208/8208\u001b[0m \u001b[32m━━━━━━━━━━━━━━━━━━━━\u001b[0m\u001b[37m\u001b[0m \u001b[1m56s\u001b[0m 7ms/step - categorical_accuracy: 0.8339 - loss: 0.5286 - val_categorical_accuracy: 0.8443 - val_loss: 0.5153 - learning_rate: 1.0000e-05\n",
            "Epoch 14/256\n",
            "\u001b[1m8208/8208\u001b[0m \u001b[32m━━━━━━━━━━━━━━━━━━━━\u001b[0m\u001b[37m\u001b[0m \u001b[1m55s\u001b[0m 7ms/step - categorical_accuracy: 0.8370 - loss: 0.5154 - val_categorical_accuracy: 0.8441 - val_loss: 0.5131 - learning_rate: 1.0000e-05\n",
            "Epoch 15/256\n",
            "\u001b[1m8208/8208\u001b[0m \u001b[32m━━━━━━━━━━━━━━━━━━━━\u001b[0m\u001b[37m\u001b[0m \u001b[1m55s\u001b[0m 7ms/step - categorical_accuracy: 0.8385 - loss: 0.5051 - val_categorical_accuracy: 0.8435 - val_loss: 0.5081 - learning_rate: 1.0000e-05\n",
            "Epoch 16/256\n",
            "\u001b[1m8208/8208\u001b[0m \u001b[32m━━━━━━━━━━━━━━━━━━━━\u001b[0m\u001b[37m\u001b[0m \u001b[1m55s\u001b[0m 7ms/step - categorical_accuracy: 0.8397 - loss: 0.4926 - val_categorical_accuracy: 0.8439 - val_loss: 0.4998 - learning_rate: 1.0000e-05\n",
            "Epoch 17/256\n",
            "\u001b[1m8208/8208\u001b[0m \u001b[32m━━━━━━━━━━━━━━━━━━━━\u001b[0m\u001b[37m\u001b[0m \u001b[1m56s\u001b[0m 7ms/step - categorical_accuracy: 0.8422 - loss: 0.4828 - val_categorical_accuracy: 0.8433 - val_loss: 0.4977 - learning_rate: 1.0000e-05\n",
            "Epoch 18/256\n",
            "\u001b[1m8208/8208\u001b[0m \u001b[32m━━━━━━━━━━━━━━━━━━━━\u001b[0m\u001b[37m\u001b[0m \u001b[1m55s\u001b[0m 7ms/step - categorical_accuracy: 0.8445 - loss: 0.4714 - val_categorical_accuracy: 0.8386 - val_loss: 0.4983 - learning_rate: 1.0000e-05\n",
            "Epoch 19/256\n",
            "\u001b[1m8208/8208\u001b[0m \u001b[32m━━━━━━━━━━━━━━━━━━━━\u001b[0m\u001b[37m\u001b[0m \u001b[1m56s\u001b[0m 7ms/step - categorical_accuracy: 0.8450 - loss: 0.4649 - val_categorical_accuracy: 0.8481 - val_loss: 0.4805 - learning_rate: 1.0000e-05\n",
            "Epoch 20/256\n",
            "\u001b[1m8208/8208\u001b[0m \u001b[32m━━━━━━━━━━━━━━━━━━━━\u001b[0m\u001b[37m\u001b[0m \u001b[1m55s\u001b[0m 7ms/step - categorical_accuracy: 0.8470 - loss: 0.4562 - val_categorical_accuracy: 0.8448 - val_loss: 0.4820 - learning_rate: 1.0000e-05\n",
            "Epoch 21/256\n",
            "\u001b[1m8208/8208\u001b[0m \u001b[32m━━━━━━━━━━━━━━━━━━━━\u001b[0m\u001b[37m\u001b[0m \u001b[1m56s\u001b[0m 7ms/step - categorical_accuracy: 0.8479 - loss: 0.4491 - val_categorical_accuracy: 0.8457 - val_loss: 0.4723 - learning_rate: 1.0000e-05\n",
            "Epoch 22/256\n",
            "\u001b[1m8208/8208\u001b[0m \u001b[32m━━━━━━━━━━━━━━━━━━━━\u001b[0m\u001b[37m\u001b[0m \u001b[1m55s\u001b[0m 7ms/step - categorical_accuracy: 0.8501 - loss: 0.4416 - val_categorical_accuracy: 0.8473 - val_loss: 0.4642 - learning_rate: 1.0000e-05\n",
            "Epoch 23/256\n",
            "\u001b[1m8208/8208\u001b[0m \u001b[32m━━━━━━━━━━━━━━━━━━━━\u001b[0m\u001b[37m\u001b[0m \u001b[1m56s\u001b[0m 7ms/step - categorical_accuracy: 0.8508 - loss: 0.4334 - val_categorical_accuracy: 0.8485 - val_loss: 0.4631 - learning_rate: 1.0000e-05\n",
            "Epoch 24/256\n",
            "\u001b[1m8208/8208\u001b[0m \u001b[32m━━━━━━━━━━━━━━━━━━━━\u001b[0m\u001b[37m\u001b[0m \u001b[1m55s\u001b[0m 7ms/step - categorical_accuracy: 0.8523 - loss: 0.4288 - val_categorical_accuracy: 0.8455 - val_loss: 0.4660 - learning_rate: 1.0000e-05\n",
            "Epoch 25/256\n",
            "\u001b[1m8208/8208\u001b[0m \u001b[32m━━━━━━━━━━━━━━━━━━━━\u001b[0m\u001b[37m\u001b[0m \u001b[1m55s\u001b[0m 7ms/step - categorical_accuracy: 0.8532 - loss: 0.4219 - val_categorical_accuracy: 0.8498 - val_loss: 0.4518 - learning_rate: 1.0000e-05\n",
            "Epoch 26/256\n",
            "\u001b[1m8208/8208\u001b[0m \u001b[32m━━━━━━━━━━━━━━━━━━━━\u001b[0m\u001b[37m\u001b[0m \u001b[1m56s\u001b[0m 7ms/step - categorical_accuracy: 0.8544 - loss: 0.4150 - val_categorical_accuracy: 0.8374 - val_loss: 0.4681 - learning_rate: 1.0000e-05\n",
            "Epoch 27/256\n",
            "\u001b[1m8208/8208\u001b[0m \u001b[32m━━━━━━━━━━━━━━━━━━━━\u001b[0m\u001b[37m\u001b[0m \u001b[1m56s\u001b[0m 7ms/step - categorical_accuracy: 0.8553 - loss: 0.4081 - val_categorical_accuracy: 0.8464 - val_loss: 0.4493 - learning_rate: 1.0000e-05\n",
            "Epoch 28/256\n",
            "\u001b[1m8208/8208\u001b[0m \u001b[32m━━━━━━━━━━━━━━━━━━━━\u001b[0m\u001b[37m\u001b[0m \u001b[1m56s\u001b[0m 7ms/step - categorical_accuracy: 0.8577 - loss: 0.4020 - val_categorical_accuracy: 0.8474 - val_loss: 0.4514 - learning_rate: 1.0000e-05\n",
            "Epoch 29/256\n",
            "\u001b[1m8208/8208\u001b[0m \u001b[32m━━━━━━━━━━━━━━━━━━━━\u001b[0m\u001b[37m\u001b[0m \u001b[1m56s\u001b[0m 7ms/step - categorical_accuracy: 0.8587 - loss: 0.3962 - val_categorical_accuracy: 0.8476 - val_loss: 0.4459 - learning_rate: 1.0000e-05\n",
            "Epoch 30/256\n",
            "\u001b[1m8208/8208\u001b[0m \u001b[32m━━━━━━━━━━━━━━━━━━━━\u001b[0m\u001b[37m\u001b[0m \u001b[1m56s\u001b[0m 7ms/step - categorical_accuracy: 0.8597 - loss: 0.3913 - val_categorical_accuracy: 0.8491 - val_loss: 0.4392 - learning_rate: 1.0000e-05\n",
            "Epoch 31/256\n",
            "\u001b[1m8208/8208\u001b[0m \u001b[32m━━━━━━━━━━━━━━━━━━━━\u001b[0m\u001b[37m\u001b[0m \u001b[1m55s\u001b[0m 7ms/step - categorical_accuracy: 0.8612 - loss: 0.3856 - val_categorical_accuracy: 0.8437 - val_loss: 0.4454 - learning_rate: 1.0000e-05\n",
            "Epoch 32/256\n",
            "\u001b[1m8208/8208\u001b[0m \u001b[32m━━━━━━━━━━━━━━━━━━━━\u001b[0m\u001b[37m\u001b[0m \u001b[1m56s\u001b[0m 7ms/step - categorical_accuracy: 0.8619 - loss: 0.3805 - val_categorical_accuracy: 0.8450 - val_loss: 0.4406 - learning_rate: 1.0000e-05\n",
            "Epoch 33/256\n",
            "\u001b[1m8208/8208\u001b[0m \u001b[32m━━━━━━━━━━━━━━━━━━━━\u001b[0m\u001b[37m\u001b[0m \u001b[1m55s\u001b[0m 7ms/step - categorical_accuracy: 0.8637 - loss: 0.3763 - val_categorical_accuracy: 0.8464 - val_loss: 0.4370 - learning_rate: 5.0000e-06\n",
            "Epoch 34/256\n",
            "\u001b[1m8208/8208\u001b[0m \u001b[32m━━━━━━━━━━━━━━━━━━━━\u001b[0m\u001b[37m\u001b[0m \u001b[1m56s\u001b[0m 7ms/step - categorical_accuracy: 0.8641 - loss: 0.3726 - val_categorical_accuracy: 0.8473 - val_loss: 0.4358 - learning_rate: 5.0000e-06\n",
            "Epoch 35/256\n",
            "\u001b[1m8208/8208\u001b[0m \u001b[32m━━━━━━━━━━━━━━━━━━━━\u001b[0m\u001b[37m\u001b[0m \u001b[1m56s\u001b[0m 7ms/step - categorical_accuracy: 0.8652 - loss: 0.3697 - val_categorical_accuracy: 0.8430 - val_loss: 0.4396 - learning_rate: 5.0000e-06\n",
            "Epoch 36/256\n",
            "\u001b[1m8208/8208\u001b[0m \u001b[32m━━━━━━━━━━━━━━━━━━━━\u001b[0m\u001b[37m\u001b[0m \u001b[1m55s\u001b[0m 7ms/step - categorical_accuracy: 0.8654 - loss: 0.3665 - val_categorical_accuracy: 0.8502 - val_loss: 0.4310 - learning_rate: 5.0000e-06\n",
            "Epoch 37/256\n",
            "\u001b[1m8208/8208\u001b[0m \u001b[32m━━━━━━━━━━━━━━━━━━━━\u001b[0m\u001b[37m\u001b[0m \u001b[1m55s\u001b[0m 7ms/step - categorical_accuracy: 0.8669 - loss: 0.3641 - val_categorical_accuracy: 0.8475 - val_loss: 0.4318 - learning_rate: 5.0000e-06\n",
            "Epoch 38/256\n",
            "\u001b[1m8208/8208\u001b[0m \u001b[32m━━━━━━━━━━━━━━━━━━━━\u001b[0m\u001b[37m\u001b[0m \u001b[1m55s\u001b[0m 7ms/step - categorical_accuracy: 0.8675 - loss: 0.3612 - val_categorical_accuracy: 0.8435 - val_loss: 0.4371 - learning_rate: 5.0000e-06\n",
            "Epoch 39/256\n",
            "\u001b[1m8208/8208\u001b[0m \u001b[32m━━━━━━━━━━━━━━━━━━━━\u001b[0m\u001b[37m\u001b[0m \u001b[1m56s\u001b[0m 7ms/step - categorical_accuracy: 0.8686 - loss: 0.3585 - val_categorical_accuracy: 0.8474 - val_loss: 0.4309 - learning_rate: 2.5000e-06\n",
            "Epoch 40/256\n",
            "\u001b[1m8208/8208\u001b[0m \u001b[32m━━━━━━━━━━━━━━━━━━━━\u001b[0m\u001b[37m\u001b[0m \u001b[1m56s\u001b[0m 7ms/step - categorical_accuracy: 0.8681 - loss: 0.3576 - val_categorical_accuracy: 0.8454 - val_loss: 0.4342 - learning_rate: 2.5000e-06\n",
            "Epoch 41/256\n",
            "\u001b[1m8208/8208\u001b[0m \u001b[32m━━━━━━━━━━━━━━━━━━━━\u001b[0m\u001b[37m\u001b[0m \u001b[1m55s\u001b[0m 7ms/step - categorical_accuracy: 0.8686 - loss: 0.3556 - val_categorical_accuracy: 0.8457 - val_loss: 0.4338 - learning_rate: 2.5000e-06\n",
            "Epoch 42/256\n",
            "\u001b[1m8208/8208\u001b[0m \u001b[32m━━━━━━━━━━━━━━━━━━━━\u001b[0m\u001b[37m\u001b[0m \u001b[1m56s\u001b[0m 7ms/step - categorical_accuracy: 0.8693 - loss: 0.3531 - val_categorical_accuracy: 0.8458 - val_loss: 0.4327 - learning_rate: 1.2500e-06\n",
            "Epoch 43/256\n",
            "\u001b[1m8208/8208\u001b[0m \u001b[32m━━━━━━━━━━━━━━━━━━━━\u001b[0m\u001b[37m\u001b[0m \u001b[1m56s\u001b[0m 7ms/step - categorical_accuracy: 0.8693 - loss: 0.3544 - val_categorical_accuracy: 0.8455 - val_loss: 0.4331 - learning_rate: 1.2500e-06\n",
            "Epoch 44/256\n",
            "\u001b[1m8208/8208\u001b[0m \u001b[32m━━━━━━━━━━━━━━━━━━━━\u001b[0m\u001b[37m\u001b[0m \u001b[1m56s\u001b[0m 7ms/step - categorical_accuracy: 0.8692 - loss: 0.3538 - val_categorical_accuracy: 0.8447 - val_loss: 0.4338 - learning_rate: 1.0000e-06\n",
            "Epoch 45/256\n",
            "\u001b[1m8208/8208\u001b[0m \u001b[32m━━━━━━━━━━━━━━━━━━━━\u001b[0m\u001b[37m\u001b[0m \u001b[1m56s\u001b[0m 7ms/step - categorical_accuracy: 0.8693 - loss: 0.3523 - val_categorical_accuracy: 0.8475 - val_loss: 0.4294 - learning_rate: 1.0000e-06\n",
            "Epoch 46/256\n",
            "\u001b[1m8208/8208\u001b[0m \u001b[32m━━━━━━━━━━━━━━━━━━━━\u001b[0m\u001b[37m\u001b[0m \u001b[1m56s\u001b[0m 7ms/step - categorical_accuracy: 0.8702 - loss: 0.3526 - val_categorical_accuracy: 0.8481 - val_loss: 0.4284 - learning_rate: 1.0000e-06\n",
            "Epoch 47/256\n",
            "\u001b[1m8208/8208\u001b[0m \u001b[32m━━━━━━━━━━━━━━━━━━━━\u001b[0m\u001b[37m\u001b[0m \u001b[1m56s\u001b[0m 7ms/step - categorical_accuracy: 0.8706 - loss: 0.3519 - val_categorical_accuracy: 0.8471 - val_loss: 0.4297 - learning_rate: 1.0000e-06\n",
            "Epoch 48/256\n",
            "\u001b[1m8208/8208\u001b[0m \u001b[32m━━━━━━━━━━━━━━━━━━━━\u001b[0m\u001b[37m\u001b[0m \u001b[1m56s\u001b[0m 7ms/step - categorical_accuracy: 0.8702 - loss: 0.3512 - val_categorical_accuracy: 0.8464 - val_loss: 0.4306 - learning_rate: 1.0000e-06\n",
            "Epoch 49/256\n",
            "\u001b[1m8208/8208\u001b[0m \u001b[32m━━━━━━━━━━━━━━━━━━━━\u001b[0m\u001b[37m\u001b[0m \u001b[1m56s\u001b[0m 7ms/step - categorical_accuracy: 0.8708 - loss: 0.3492 - val_categorical_accuracy: 0.8475 - val_loss: 0.4286 - learning_rate: 1.0000e-06\n",
            "Epoch 50/256\n",
            "\u001b[1m8208/8208\u001b[0m \u001b[32m━━━━━━━━━━━━━━━━━━━━\u001b[0m\u001b[37m\u001b[0m \u001b[1m56s\u001b[0m 7ms/step - categorical_accuracy: 0.8710 - loss: 0.3493 - val_categorical_accuracy: 0.8475 - val_loss: 0.4290 - learning_rate: 1.0000e-06\n",
            "Epoch 51/256\n",
            "\u001b[1m8208/8208\u001b[0m \u001b[32m━━━━━━━━━━━━━━━━━━━━\u001b[0m\u001b[37m\u001b[0m \u001b[1m56s\u001b[0m 7ms/step - categorical_accuracy: 0.8708 - loss: 0.3494 - val_categorical_accuracy: 0.8488 - val_loss: 0.4269 - learning_rate: 1.0000e-06\n",
            "Epoch 52/256\n",
            "\u001b[1m8208/8208\u001b[0m \u001b[32m━━━━━━━━━━━━━━━━━━━━\u001b[0m\u001b[37m\u001b[0m \u001b[1m56s\u001b[0m 7ms/step - categorical_accuracy: 0.8711 - loss: 0.3487 - val_categorical_accuracy: 0.8468 - val_loss: 0.4301 - learning_rate: 1.0000e-06\n",
            "Epoch 53/256\n",
            "\u001b[1m8208/8208\u001b[0m \u001b[32m━━━━━━━━━━━━━━━━━━━━\u001b[0m\u001b[37m\u001b[0m \u001b[1m56s\u001b[0m 7ms/step - categorical_accuracy: 0.8704 - loss: 0.3480 - val_categorical_accuracy: 0.8471 - val_loss: 0.4289 - learning_rate: 1.0000e-06\n",
            "Epoch 54/256\n",
            "\u001b[1m8208/8208\u001b[0m \u001b[32m━━━━━━━━━━━━━━━━━━━━\u001b[0m\u001b[37m\u001b[0m \u001b[1m56s\u001b[0m 7ms/step - categorical_accuracy: 0.8713 - loss: 0.3480 - val_categorical_accuracy: 0.8478 - val_loss: 0.4274 - learning_rate: 1.0000e-06\n",
            "Epoch 55/256\n",
            "\u001b[1m8208/8208\u001b[0m \u001b[32m━━━━━━━━━━━━━━━━━━━━\u001b[0m\u001b[37m\u001b[0m \u001b[1m56s\u001b[0m 7ms/step - categorical_accuracy: 0.8716 - loss: 0.3472 - val_categorical_accuracy: 0.8482 - val_loss: 0.4271 - learning_rate: 1.0000e-06\n",
            "Epoch 56/256\n",
            "\u001b[1m8208/8208\u001b[0m \u001b[32m━━━━━━━━━━━━━━━━━━━━\u001b[0m\u001b[37m\u001b[0m \u001b[1m56s\u001b[0m 7ms/step - categorical_accuracy: 0.8716 - loss: 0.3470 - val_categorical_accuracy: 0.8486 - val_loss: 0.4257 - learning_rate: 1.0000e-06\n",
            "Epoch 57/256\n",
            "\u001b[1m8208/8208\u001b[0m \u001b[32m━━━━━━━━━━━━━━━━━━━━\u001b[0m\u001b[37m\u001b[0m \u001b[1m56s\u001b[0m 7ms/step - categorical_accuracy: 0.8717 - loss: 0.3463 - val_categorical_accuracy: 0.8460 - val_loss: 0.4312 - learning_rate: 1.0000e-06\n",
            "Epoch 58/256\n",
            "\u001b[1m8208/8208\u001b[0m \u001b[32m━━━━━━━━━━━━━━━━━━━━\u001b[0m\u001b[37m\u001b[0m \u001b[1m56s\u001b[0m 7ms/step - categorical_accuracy: 0.8714 - loss: 0.3463 - val_categorical_accuracy: 0.8480 - val_loss: 0.4278 - learning_rate: 1.0000e-06\n",
            "Epoch 59/256\n",
            "\u001b[1m8208/8208\u001b[0m \u001b[32m━━━━━━━━━━━━━━━━━━━━\u001b[0m\u001b[37m\u001b[0m \u001b[1m56s\u001b[0m 7ms/step - categorical_accuracy: 0.8721 - loss: 0.3461 - val_categorical_accuracy: 0.8506 - val_loss: 0.4247 - learning_rate: 1.0000e-06\n",
            "Epoch 60/256\n",
            "\u001b[1m8208/8208\u001b[0m \u001b[32m━━━━━━━━━━━━━━━━━━━━\u001b[0m\u001b[37m\u001b[0m \u001b[1m55s\u001b[0m 7ms/step - categorical_accuracy: 0.8725 - loss: 0.3451 - val_categorical_accuracy: 0.8476 - val_loss: 0.4276 - learning_rate: 1.0000e-06\n",
            "Epoch 61/256\n",
            "\u001b[1m8208/8208\u001b[0m \u001b[32m━━━━━━━━━━━━━━━━━━━━\u001b[0m\u001b[37m\u001b[0m \u001b[1m56s\u001b[0m 7ms/step - categorical_accuracy: 0.8717 - loss: 0.3462 - val_categorical_accuracy: 0.8481 - val_loss: 0.4264 - learning_rate: 1.0000e-06\n",
            "Epoch 62/256\n",
            "\u001b[1m8208/8208\u001b[0m \u001b[32m━━━━━━━━━━━━━━━━━━━━\u001b[0m\u001b[37m\u001b[0m \u001b[1m56s\u001b[0m 7ms/step - categorical_accuracy: 0.8723 - loss: 0.3440 - val_categorical_accuracy: 0.8475 - val_loss: 0.4274 - learning_rate: 1.0000e-06\n",
            "Epoch 63/256\n",
            "\u001b[1m8208/8208\u001b[0m \u001b[32m━━━━━━━━━━━━━━━━━━━━\u001b[0m\u001b[37m\u001b[0m \u001b[1m56s\u001b[0m 7ms/step - categorical_accuracy: 0.8719 - loss: 0.3440 - val_categorical_accuracy: 0.8486 - val_loss: 0.4266 - learning_rate: 1.0000e-06\n",
            "Epoch 64/256\n",
            "\u001b[1m8208/8208\u001b[0m \u001b[32m━━━━━━━━━━━━━━━━━━━━\u001b[0m\u001b[37m\u001b[0m \u001b[1m56s\u001b[0m 7ms/step - categorical_accuracy: 0.8732 - loss: 0.3423 - val_categorical_accuracy: 0.8470 - val_loss: 0.4282 - learning_rate: 1.0000e-06\n",
            "Epoch 65/256\n",
            "\u001b[1m8208/8208\u001b[0m \u001b[32m━━━━━━━━━━━━━━━━━━━━\u001b[0m\u001b[37m\u001b[0m \u001b[1m56s\u001b[0m 7ms/step - categorical_accuracy: 0.8726 - loss: 0.3436 - val_categorical_accuracy: 0.8476 - val_loss: 0.4277 - learning_rate: 1.0000e-06\n",
            "Epoch 66/256\n",
            "\u001b[1m8208/8208\u001b[0m \u001b[32m━━━━━━━━━━━━━━━━━━━━\u001b[0m\u001b[37m\u001b[0m \u001b[1m56s\u001b[0m 7ms/step - categorical_accuracy: 0.8730 - loss: 0.3414 - val_categorical_accuracy: 0.8498 - val_loss: 0.4235 - learning_rate: 1.0000e-06\n",
            "Epoch 67/256\n",
            "\u001b[1m8208/8208\u001b[0m \u001b[32m━━━━━━━━━━━━━━━━━━━━\u001b[0m\u001b[37m\u001b[0m \u001b[1m56s\u001b[0m 7ms/step - categorical_accuracy: 0.8735 - loss: 0.3421 - val_categorical_accuracy: 0.8496 - val_loss: 0.4243 - learning_rate: 1.0000e-06\n",
            "Epoch 68/256\n",
            "\u001b[1m8208/8208\u001b[0m \u001b[32m━━━━━━━━━━━━━━━━━━━━\u001b[0m\u001b[37m\u001b[0m \u001b[1m56s\u001b[0m 7ms/step - categorical_accuracy: 0.8736 - loss: 0.3403 - val_categorical_accuracy: 0.8483 - val_loss: 0.4266 - learning_rate: 1.0000e-06\n",
            "Epoch 69/256\n",
            "\u001b[1m8208/8208\u001b[0m \u001b[32m━━━━━━━━━━━━━━━━━━━━\u001b[0m\u001b[37m\u001b[0m \u001b[1m56s\u001b[0m 7ms/step - categorical_accuracy: 0.8729 - loss: 0.3408 - val_categorical_accuracy: 0.8505 - val_loss: 0.4226 - learning_rate: 1.0000e-06\n",
            "Epoch 70/256\n",
            "\u001b[1m8208/8208\u001b[0m \u001b[32m━━━━━━━━━━━━━━━━━━━━\u001b[0m\u001b[37m\u001b[0m \u001b[1m56s\u001b[0m 7ms/step - categorical_accuracy: 0.8741 - loss: 0.3406 - val_categorical_accuracy: 0.8475 - val_loss: 0.4279 - learning_rate: 1.0000e-06\n",
            "Epoch 71/256\n",
            "\u001b[1m8208/8208\u001b[0m \u001b[32m━━━━━━━━━━━━━━━━━━━━\u001b[0m\u001b[37m\u001b[0m \u001b[1m56s\u001b[0m 7ms/step - categorical_accuracy: 0.8733 - loss: 0.3404 - val_categorical_accuracy: 0.8511 - val_loss: 0.4214 - learning_rate: 1.0000e-06\n",
            "Epoch 72/256\n",
            "\u001b[1m8208/8208\u001b[0m \u001b[32m━━━━━━━━━━━━━━━━━━━━\u001b[0m\u001b[37m\u001b[0m \u001b[1m56s\u001b[0m 7ms/step - categorical_accuracy: 0.8736 - loss: 0.3391 - val_categorical_accuracy: 0.8496 - val_loss: 0.4235 - learning_rate: 1.0000e-06\n",
            "Epoch 73/256\n",
            "\u001b[1m8208/8208\u001b[0m \u001b[32m━━━━━━━━━━━━━━━━━━━━\u001b[0m\u001b[37m\u001b[0m \u001b[1m56s\u001b[0m 7ms/step - categorical_accuracy: 0.8736 - loss: 0.3389 - val_categorical_accuracy: 0.8494 - val_loss: 0.4245 - learning_rate: 1.0000e-06\n",
            "Epoch 74/256\n",
            "\u001b[1m8208/8208\u001b[0m \u001b[32m━━━━━━━━━━━━━━━━━━━━\u001b[0m\u001b[37m\u001b[0m \u001b[1m56s\u001b[0m 7ms/step - categorical_accuracy: 0.8743 - loss: 0.3377 - val_categorical_accuracy: 0.8482 - val_loss: 0.4264 - learning_rate: 1.0000e-06\n",
            "Epoch 75/256\n",
            "\u001b[1m8208/8208\u001b[0m \u001b[32m━━━━━━━━━━━━━━━━━━━━\u001b[0m\u001b[37m\u001b[0m \u001b[1m56s\u001b[0m 7ms/step - categorical_accuracy: 0.8746 - loss: 0.3379 - val_categorical_accuracy: 0.8515 - val_loss: 0.4205 - learning_rate: 1.0000e-06\n",
            "Epoch 76/256\n",
            "\u001b[1m8208/8208\u001b[0m \u001b[32m━━━━━━━━━━━━━━━━━━━━\u001b[0m\u001b[37m\u001b[0m \u001b[1m57s\u001b[0m 7ms/step - categorical_accuracy: 0.8743 - loss: 0.3380 - val_categorical_accuracy: 0.8496 - val_loss: 0.4235 - learning_rate: 1.0000e-06\n",
            "Epoch 77/256\n",
            "\u001b[1m8208/8208\u001b[0m \u001b[32m━━━━━━━━━━━━━━━━━━━━\u001b[0m\u001b[37m\u001b[0m \u001b[1m56s\u001b[0m 7ms/step - categorical_accuracy: 0.8753 - loss: 0.3364 - val_categorical_accuracy: 0.8504 - val_loss: 0.4222 - learning_rate: 1.0000e-06\n",
            "Epoch 78/256\n",
            "\u001b[1m8208/8208\u001b[0m \u001b[32m━━━━━━━━━━━━━━━━━━━━\u001b[0m\u001b[37m\u001b[0m \u001b[1m56s\u001b[0m 7ms/step - categorical_accuracy: 0.8749 - loss: 0.3360 - val_categorical_accuracy: 0.8493 - val_loss: 0.4234 - learning_rate: 1.0000e-06\n",
            "Epoch 79/256\n",
            "\u001b[1m8208/8208\u001b[0m \u001b[32m━━━━━━━━━━━━━━━━━━━━\u001b[0m\u001b[37m\u001b[0m \u001b[1m56s\u001b[0m 7ms/step - categorical_accuracy: 0.8745 - loss: 0.3355 - val_categorical_accuracy: 0.8491 - val_loss: 0.4251 - learning_rate: 1.0000e-06\n",
            "Epoch 80/256\n",
            "\u001b[1m8208/8208\u001b[0m \u001b[32m━━━━━━━━━━━━━━━━━━━━\u001b[0m\u001b[37m\u001b[0m \u001b[1m56s\u001b[0m 7ms/step - categorical_accuracy: 0.8750 - loss: 0.3354 - val_categorical_accuracy: 0.8505 - val_loss: 0.4223 - learning_rate: 1.0000e-06\n",
            "Epoch 81/256\n",
            "\u001b[1m8208/8208\u001b[0m \u001b[32m━━━━━━━━━━━━━━━━━━━━\u001b[0m\u001b[37m\u001b[0m \u001b[1m56s\u001b[0m 7ms/step - categorical_accuracy: 0.8744 - loss: 0.3364 - val_categorical_accuracy: 0.8498 - val_loss: 0.4236 - learning_rate: 1.0000e-06\n",
            "Epoch 82/256\n",
            "\u001b[1m8208/8208\u001b[0m \u001b[32m━━━━━━━━━━━━━━━━━━━━\u001b[0m\u001b[37m\u001b[0m \u001b[1m56s\u001b[0m 7ms/step - categorical_accuracy: 0.8749 - loss: 0.3346 - val_categorical_accuracy: 0.8485 - val_loss: 0.4239 - learning_rate: 1.0000e-06\n",
            "Epoch 83/256\n",
            "\u001b[1m8208/8208\u001b[0m \u001b[32m━━━━━━━━━━━━━━━━━━━━\u001b[0m\u001b[37m\u001b[0m \u001b[1m56s\u001b[0m 7ms/step - categorical_accuracy: 0.8749 - loss: 0.3345 - val_categorical_accuracy: 0.8510 - val_loss: 0.4205 - learning_rate: 1.0000e-06\n",
            "Epoch 84/256\n",
            "\u001b[1m8208/8208\u001b[0m \u001b[32m━━━━━━━━━━━━━━━━━━━━\u001b[0m\u001b[37m\u001b[0m \u001b[1m56s\u001b[0m 7ms/step - categorical_accuracy: 0.8750 - loss: 0.3346 - val_categorical_accuracy: 0.8504 - val_loss: 0.4224 - learning_rate: 1.0000e-06\n",
            "Epoch 85/256\n",
            "\u001b[1m8208/8208\u001b[0m \u001b[32m━━━━━━━━━━━━━━━━━━━━\u001b[0m\u001b[37m\u001b[0m \u001b[1m56s\u001b[0m 7ms/step - categorical_accuracy: 0.8752 - loss: 0.3334 - val_categorical_accuracy: 0.8508 - val_loss: 0.4212 - learning_rate: 1.0000e-06\n",
            "Epoch 86/256\n",
            "\u001b[1m8208/8208\u001b[0m \u001b[32m━━━━━━━━━━━━━━━━━━━━\u001b[0m\u001b[37m\u001b[0m \u001b[1m56s\u001b[0m 7ms/step - categorical_accuracy: 0.8757 - loss: 0.3321 - val_categorical_accuracy: 0.8505 - val_loss: 0.4217 - learning_rate: 1.0000e-06\n",
            "Epoch 87/256\n",
            "\u001b[1m8208/8208\u001b[0m \u001b[32m━━━━━━━━━━━━━━━━━━━━\u001b[0m\u001b[37m\u001b[0m \u001b[1m56s\u001b[0m 7ms/step - categorical_accuracy: 0.8754 - loss: 0.3333 - val_categorical_accuracy: 0.8500 - val_loss: 0.4226 - learning_rate: 1.0000e-06\n",
            "Epoch 88/256\n",
            "\u001b[1m8208/8208\u001b[0m \u001b[32m━━━━━━━━━━━━━━━━━━━━\u001b[0m\u001b[37m\u001b[0m \u001b[1m56s\u001b[0m 7ms/step - categorical_accuracy: 0.8761 - loss: 0.3321 - val_categorical_accuracy: 0.8495 - val_loss: 0.4230 - learning_rate: 1.0000e-06\n",
            "Epoch 89/256\n",
            "\u001b[1m8208/8208\u001b[0m \u001b[32m━━━━━━━━━━━━━━━━━━━━\u001b[0m\u001b[37m\u001b[0m \u001b[1m56s\u001b[0m 7ms/step - categorical_accuracy: 0.8757 - loss: 0.3323 - val_categorical_accuracy: 0.8511 - val_loss: 0.4207 - learning_rate: 1.0000e-06\n",
            "Epoch 90/256\n",
            "\u001b[1m8208/8208\u001b[0m \u001b[32m━━━━━━━━━━━━━━━━━━━━\u001b[0m\u001b[37m\u001b[0m \u001b[1m56s\u001b[0m 7ms/step - categorical_accuracy: 0.8763 - loss: 0.3314 - val_categorical_accuracy: 0.8498 - val_loss: 0.4227 - learning_rate: 1.0000e-06\n",
            "Epoch 91/256\n",
            "\u001b[1m8208/8208\u001b[0m \u001b[32m━━━━━━━━━━━━━━━━━━━━\u001b[0m\u001b[37m\u001b[0m \u001b[1m56s\u001b[0m 7ms/step - categorical_accuracy: 0.8759 - loss: 0.3301 - val_categorical_accuracy: 0.8510 - val_loss: 0.4211 - learning_rate: 1.0000e-06\n",
            "Epoch 92/256\n",
            "\u001b[1m8208/8208\u001b[0m \u001b[32m━━━━━━━━━━━━━━━━━━━━\u001b[0m\u001b[37m\u001b[0m \u001b[1m56s\u001b[0m 7ms/step - categorical_accuracy: 0.8761 - loss: 0.3309 - val_categorical_accuracy: 0.8493 - val_loss: 0.4214 - learning_rate: 1.0000e-06\n",
            "Epoch 93/256\n",
            "\u001b[1m8208/8208\u001b[0m \u001b[32m━━━━━━━━━━━━━━━━━━━━\u001b[0m\u001b[37m\u001b[0m \u001b[1m56s\u001b[0m 7ms/step - categorical_accuracy: 0.8765 - loss: 0.3301 - val_categorical_accuracy: 0.8499 - val_loss: 0.4208 - learning_rate: 1.0000e-06\n",
            "Epoch 94/256\n",
            "\u001b[1m8208/8208\u001b[0m \u001b[32m━━━━━━━━━━━━━━━━━━━━\u001b[0m\u001b[37m\u001b[0m \u001b[1m56s\u001b[0m 7ms/step - categorical_accuracy: 0.8759 - loss: 0.3295 - val_categorical_accuracy: 0.8513 - val_loss: 0.4195 - learning_rate: 1.0000e-06\n",
            "Epoch 95/256\n",
            "\u001b[1m8208/8208\u001b[0m \u001b[32m━━━━━━━━━━━━━━━━━━━━\u001b[0m\u001b[37m\u001b[0m \u001b[1m56s\u001b[0m 7ms/step - categorical_accuracy: 0.8776 - loss: 0.3275 - val_categorical_accuracy: 0.8494 - val_loss: 0.4226 - learning_rate: 1.0000e-06\n",
            "Epoch 96/256\n",
            "\u001b[1m8208/8208\u001b[0m \u001b[32m━━━━━━━━━━━━━━━━━━━━\u001b[0m\u001b[37m\u001b[0m \u001b[1m56s\u001b[0m 7ms/step - categorical_accuracy: 0.8764 - loss: 0.3287 - val_categorical_accuracy: 0.8481 - val_loss: 0.4254 - learning_rate: 1.0000e-06\n",
            "Epoch 97/256\n",
            "\u001b[1m8208/8208\u001b[0m \u001b[32m━━━━━━━━━━━━━━━━━━━━\u001b[0m\u001b[37m\u001b[0m \u001b[1m56s\u001b[0m 7ms/step - categorical_accuracy: 0.8766 - loss: 0.3281 - val_categorical_accuracy: 0.8504 - val_loss: 0.4210 - learning_rate: 1.0000e-06\n",
            "Epoch 98/256\n",
            "\u001b[1m8208/8208\u001b[0m \u001b[32m━━━━━━━━━━━━━━━━━━━━\u001b[0m\u001b[37m\u001b[0m \u001b[1m57s\u001b[0m 7ms/step - categorical_accuracy: 0.8769 - loss: 0.3284 - val_categorical_accuracy: 0.8508 - val_loss: 0.4202 - learning_rate: 1.0000e-06\n",
            "Epoch 99/256\n",
            "\u001b[1m8208/8208\u001b[0m \u001b[32m━━━━━━━━━━━━━━━━━━━━\u001b[0m\u001b[37m\u001b[0m \u001b[1m56s\u001b[0m 7ms/step - categorical_accuracy: 0.8769 - loss: 0.3278 - val_categorical_accuracy: 0.8512 - val_loss: 0.4205 - learning_rate: 1.0000e-06\n",
            "Epoch 100/256\n",
            "\u001b[1m8208/8208\u001b[0m \u001b[32m━━━━━━━━━━━━━━━━━━━━\u001b[0m\u001b[37m\u001b[0m \u001b[1m56s\u001b[0m 7ms/step - categorical_accuracy: 0.8769 - loss: 0.3270 - val_categorical_accuracy: 0.8504 - val_loss: 0.4210 - learning_rate: 1.0000e-06\n",
            "Epoch 101/256\n",
            "\u001b[1m8208/8208\u001b[0m \u001b[32m━━━━━━━━━━━━━━━━━━━━\u001b[0m\u001b[37m\u001b[0m \u001b[1m56s\u001b[0m 7ms/step - categorical_accuracy: 0.8775 - loss: 0.3258 - val_categorical_accuracy: 0.8502 - val_loss: 0.4195 - learning_rate: 1.0000e-06\n",
            "Epoch 102/256\n",
            "\u001b[1m8208/8208\u001b[0m \u001b[32m━━━━━━━━━━━━━━━━━━━━\u001b[0m\u001b[37m\u001b[0m \u001b[1m56s\u001b[0m 7ms/step - categorical_accuracy: 0.8769 - loss: 0.3261 - val_categorical_accuracy: 0.8498 - val_loss: 0.4210 - learning_rate: 1.0000e-06\n",
            "Epoch 103/256\n",
            "\u001b[1m8208/8208\u001b[0m \u001b[32m━━━━━━━━━━━━━━━━━━━━\u001b[0m\u001b[37m\u001b[0m \u001b[1m56s\u001b[0m 7ms/step - categorical_accuracy: 0.8777 - loss: 0.3257 - val_categorical_accuracy: 0.8494 - val_loss: 0.4220 - learning_rate: 1.0000e-06\n",
            "Epoch 104/256\n",
            "\u001b[1m8208/8208\u001b[0m \u001b[32m━━━━━━━━━━━━━━━━━━━━\u001b[0m\u001b[37m\u001b[0m \u001b[1m56s\u001b[0m 7ms/step - categorical_accuracy: 0.8774 - loss: 0.3248 - val_categorical_accuracy: 0.8508 - val_loss: 0.4185 - learning_rate: 1.0000e-06\n",
            "Epoch 105/256\n",
            "\u001b[1m8208/8208\u001b[0m \u001b[32m━━━━━━━━━━━━━━━━━━━━\u001b[0m\u001b[37m\u001b[0m \u001b[1m56s\u001b[0m 7ms/step - categorical_accuracy: 0.8777 - loss: 0.3240 - val_categorical_accuracy: 0.8497 - val_loss: 0.4209 - learning_rate: 1.0000e-06\n",
            "Epoch 106/256\n",
            "\u001b[1m8208/8208\u001b[0m \u001b[32m━━━━━━━━━━━━━━━━━━━━\u001b[0m\u001b[37m\u001b[0m \u001b[1m56s\u001b[0m 7ms/step - categorical_accuracy: 0.8782 - loss: 0.3236 - val_categorical_accuracy: 0.8522 - val_loss: 0.4170 - learning_rate: 1.0000e-06\n",
            "Epoch 107/256\n",
            "\u001b[1m8208/8208\u001b[0m \u001b[32m━━━━━━━━━━━━━━━━━━━━\u001b[0m\u001b[37m\u001b[0m \u001b[1m56s\u001b[0m 7ms/step - categorical_accuracy: 0.8780 - loss: 0.3244 - val_categorical_accuracy: 0.8507 - val_loss: 0.4201 - learning_rate: 1.0000e-06\n",
            "Epoch 108/256\n",
            "\u001b[1m8208/8208\u001b[0m \u001b[32m━━━━━━━━━━━━━━━━━━━━\u001b[0m\u001b[37m\u001b[0m \u001b[1m56s\u001b[0m 7ms/step - categorical_accuracy: 0.8783 - loss: 0.3239 - val_categorical_accuracy: 0.8514 - val_loss: 0.4183 - learning_rate: 1.0000e-06\n",
            "Epoch 109/256\n",
            "\u001b[1m8208/8208\u001b[0m \u001b[32m━━━━━━━━━━━━━━━━━━━━\u001b[0m\u001b[37m\u001b[0m \u001b[1m56s\u001b[0m 7ms/step - categorical_accuracy: 0.8784 - loss: 0.3230 - val_categorical_accuracy: 0.8499 - val_loss: 0.4208 - learning_rate: 1.0000e-06\n",
            "Epoch 110/256\n",
            "\u001b[1m8208/8208\u001b[0m \u001b[32m━━━━━━━━━━━━━━━━━━━━\u001b[0m\u001b[37m\u001b[0m \u001b[1m56s\u001b[0m 7ms/step - categorical_accuracy: 0.8784 - loss: 0.3224 - val_categorical_accuracy: 0.8519 - val_loss: 0.4166 - learning_rate: 1.0000e-06\n",
            "Epoch 111/256\n",
            "\u001b[1m8208/8208\u001b[0m \u001b[32m━━━━━━━━━━━━━━━━━━━━\u001b[0m\u001b[37m\u001b[0m \u001b[1m55s\u001b[0m 7ms/step - categorical_accuracy: 0.8788 - loss: 0.3217 - val_categorical_accuracy: 0.8505 - val_loss: 0.4196 - learning_rate: 1.0000e-06\n",
            "Epoch 112/256\n",
            "\u001b[1m8208/8208\u001b[0m \u001b[32m━━━━━━━━━━━━━━━━━━━━\u001b[0m\u001b[37m\u001b[0m \u001b[1m56s\u001b[0m 7ms/step - categorical_accuracy: 0.8794 - loss: 0.3207 - val_categorical_accuracy: 0.8499 - val_loss: 0.4209 - learning_rate: 1.0000e-06\n",
            "Epoch 113/256\n",
            "\u001b[1m8208/8208\u001b[0m \u001b[32m━━━━━━━━━━━━━━━━━━━━\u001b[0m\u001b[37m\u001b[0m \u001b[1m55s\u001b[0m 7ms/step - categorical_accuracy: 0.8793 - loss: 0.3200 - val_categorical_accuracy: 0.8505 - val_loss: 0.4202 - learning_rate: 1.0000e-06\n",
            "Epoch 114/256\n",
            "\u001b[1m8208/8208\u001b[0m \u001b[32m━━━━━━━━━━━━━━━━━━━━\u001b[0m\u001b[37m\u001b[0m \u001b[1m56s\u001b[0m 7ms/step - categorical_accuracy: 0.8786 - loss: 0.3209 - val_categorical_accuracy: 0.8523 - val_loss: 0.4167 - learning_rate: 1.0000e-06\n",
            "Epoch 115/256\n",
            "\u001b[1m8208/8208\u001b[0m \u001b[32m━━━━━━━━━━━━━━━━━━━━\u001b[0m\u001b[37m\u001b[0m \u001b[1m56s\u001b[0m 7ms/step - categorical_accuracy: 0.8796 - loss: 0.3201 - val_categorical_accuracy: 0.8516 - val_loss: 0.4174 - learning_rate: 1.0000e-06\n",
            "Epoch 116/256\n",
            "\u001b[1m8208/8208\u001b[0m \u001b[32m━━━━━━━━━━━━━━━━━━━━\u001b[0m\u001b[37m\u001b[0m \u001b[1m56s\u001b[0m 7ms/step - categorical_accuracy: 0.8793 - loss: 0.3187 - val_categorical_accuracy: 0.8512 - val_loss: 0.4179 - learning_rate: 1.0000e-06\n",
            "Epoch 117/256\n",
            "\u001b[1m8208/8208\u001b[0m \u001b[32m━━━━━━━━━━━━━━━━━━━━\u001b[0m\u001b[37m\u001b[0m \u001b[1m56s\u001b[0m 7ms/step - categorical_accuracy: 0.8795 - loss: 0.3199 - val_categorical_accuracy: 0.8503 - val_loss: 0.4182 - learning_rate: 1.0000e-06\n",
            "Epoch 118/256\n",
            "\u001b[1m8208/8208\u001b[0m \u001b[32m━━━━━━━━━━━━━━━━━━━━\u001b[0m\u001b[37m\u001b[0m \u001b[1m56s\u001b[0m 7ms/step - categorical_accuracy: 0.8800 - loss: 0.3175 - val_categorical_accuracy: 0.8512 - val_loss: 0.4179 - learning_rate: 1.0000e-06\n",
            "Epoch 119/256\n",
            "\u001b[1m8208/8208\u001b[0m \u001b[32m━━━━━━━━━━━━━━━━━━━━\u001b[0m\u001b[37m\u001b[0m \u001b[1m56s\u001b[0m 7ms/step - categorical_accuracy: 0.8794 - loss: 0.3184 - val_categorical_accuracy: 0.8514 - val_loss: 0.4183 - learning_rate: 1.0000e-06\n",
            "Epoch 120/256\n",
            "\u001b[1m8208/8208\u001b[0m \u001b[32m━━━━━━━━━━━━━━━━━━━━\u001b[0m\u001b[37m\u001b[0m \u001b[1m56s\u001b[0m 7ms/step - categorical_accuracy: 0.8803 - loss: 0.3170 - val_categorical_accuracy: 0.8518 - val_loss: 0.4153 - learning_rate: 1.0000e-06\n",
            "Epoch 121/256\n",
            "\u001b[1m8208/8208\u001b[0m \u001b[32m━━━━━━━━━━━━━━━━━━━━\u001b[0m\u001b[37m\u001b[0m \u001b[1m56s\u001b[0m 7ms/step - categorical_accuracy: 0.8804 - loss: 0.3167 - val_categorical_accuracy: 0.8518 - val_loss: 0.4163 - learning_rate: 1.0000e-06\n",
            "Epoch 122/256\n",
            "\u001b[1m8208/8208\u001b[0m \u001b[32m━━━━━━━━━━━━━━━━━━━━\u001b[0m\u001b[37m\u001b[0m \u001b[1m56s\u001b[0m 7ms/step - categorical_accuracy: 0.8802 - loss: 0.3171 - val_categorical_accuracy: 0.8508 - val_loss: 0.4186 - learning_rate: 1.0000e-06\n",
            "Epoch 123/256\n",
            "\u001b[1m8208/8208\u001b[0m \u001b[32m━━━━━━━━━━━━━━━━━━━━\u001b[0m\u001b[37m\u001b[0m \u001b[1m56s\u001b[0m 7ms/step - categorical_accuracy: 0.8807 - loss: 0.3160 - val_categorical_accuracy: 0.8522 - val_loss: 0.4161 - learning_rate: 1.0000e-06\n",
            "Epoch 124/256\n",
            "\u001b[1m8208/8208\u001b[0m \u001b[32m━━━━━━━━━━━━━━━━━━━━\u001b[0m\u001b[37m\u001b[0m \u001b[1m56s\u001b[0m 7ms/step - categorical_accuracy: 0.8808 - loss: 0.3175 - val_categorical_accuracy: 0.8514 - val_loss: 0.4162 - learning_rate: 1.0000e-06\n",
            "Epoch 125/256\n",
            "\u001b[1m8208/8208\u001b[0m \u001b[32m━━━━━━━━━━━━━━━━━━━━\u001b[0m\u001b[37m\u001b[0m \u001b[1m56s\u001b[0m 7ms/step - categorical_accuracy: 0.8805 - loss: 0.3157 - val_categorical_accuracy: 0.8526 - val_loss: 0.4148 - learning_rate: 1.0000e-06\n",
            "Epoch 126/256\n",
            "\u001b[1m8208/8208\u001b[0m \u001b[32m━━━━━━━━━━━━━━━━━━━━\u001b[0m\u001b[37m\u001b[0m \u001b[1m56s\u001b[0m 7ms/step - categorical_accuracy: 0.8811 - loss: 0.3145 - val_categorical_accuracy: 0.8517 - val_loss: 0.4156 - learning_rate: 1.0000e-06\n",
            "Epoch 127/256\n",
            "\u001b[1m8208/8208\u001b[0m \u001b[32m━━━━━━━━━━━━━━━━━━━━\u001b[0m\u001b[37m\u001b[0m \u001b[1m56s\u001b[0m 7ms/step - categorical_accuracy: 0.8809 - loss: 0.3152 - val_categorical_accuracy: 0.8506 - val_loss: 0.4191 - learning_rate: 1.0000e-06\n",
            "Epoch 128/256\n",
            "\u001b[1m8208/8208\u001b[0m \u001b[32m━━━━━━━━━━━━━━━━━━━━\u001b[0m\u001b[37m\u001b[0m \u001b[1m56s\u001b[0m 7ms/step - categorical_accuracy: 0.8813 - loss: 0.3134 - val_categorical_accuracy: 0.8507 - val_loss: 0.4177 - learning_rate: 1.0000e-06\n",
            "Epoch 129/256\n",
            "\u001b[1m8208/8208\u001b[0m \u001b[32m━━━━━━━━━━━━━━━━━━━━\u001b[0m\u001b[37m\u001b[0m \u001b[1m56s\u001b[0m 7ms/step - categorical_accuracy: 0.8811 - loss: 0.3144 - val_categorical_accuracy: 0.8506 - val_loss: 0.4177 - learning_rate: 1.0000e-06\n",
            "Epoch 130/256\n",
            "\u001b[1m8208/8208\u001b[0m \u001b[32m━━━━━━━━━━━━━━━━━━━━\u001b[0m\u001b[37m\u001b[0m \u001b[1m56s\u001b[0m 7ms/step - categorical_accuracy: 0.8810 - loss: 0.3136 - val_categorical_accuracy: 0.8513 - val_loss: 0.4174 - learning_rate: 1.0000e-06\n",
            "Epoch 131/256\n",
            "\u001b[1m8208/8208\u001b[0m \u001b[32m━━━━━━━━━━━━━━━━━━━━\u001b[0m\u001b[37m\u001b[0m \u001b[1m56s\u001b[0m 7ms/step - categorical_accuracy: 0.8818 - loss: 0.3139 - val_categorical_accuracy: 0.8507 - val_loss: 0.4174 - learning_rate: 1.0000e-06\n",
            "Epoch 132/256\n",
            "\u001b[1m8208/8208\u001b[0m \u001b[32m━━━━━━━━━━━━━━━━━━━━\u001b[0m\u001b[37m\u001b[0m \u001b[1m56s\u001b[0m 7ms/step - categorical_accuracy: 0.8815 - loss: 0.3134 - val_categorical_accuracy: 0.8495 - val_loss: 0.4189 - learning_rate: 1.0000e-06\n",
            "Epoch 133/256\n",
            "\u001b[1m8208/8208\u001b[0m \u001b[32m━━━━━━━━━━━━━━━━━━━━\u001b[0m\u001b[37m\u001b[0m \u001b[1m56s\u001b[0m 7ms/step - categorical_accuracy: 0.8814 - loss: 0.3125 - val_categorical_accuracy: 0.8527 - val_loss: 0.4140 - learning_rate: 1.0000e-06\n",
            "Epoch 134/256\n",
            "\u001b[1m8208/8208\u001b[0m \u001b[32m━━━━━━━━━━━━━━━━━━━━\u001b[0m\u001b[37m\u001b[0m \u001b[1m56s\u001b[0m 7ms/step - categorical_accuracy: 0.8820 - loss: 0.3113 - val_categorical_accuracy: 0.8511 - val_loss: 0.4186 - learning_rate: 1.0000e-06\n",
            "Epoch 135/256\n",
            "\u001b[1m8208/8208\u001b[0m \u001b[32m━━━━━━━━━━━━━━━━━━━━\u001b[0m\u001b[37m\u001b[0m \u001b[1m55s\u001b[0m 7ms/step - categorical_accuracy: 0.8823 - loss: 0.3111 - val_categorical_accuracy: 0.8503 - val_loss: 0.4180 - learning_rate: 1.0000e-06\n",
            "Epoch 136/256\n",
            "\u001b[1m8208/8208\u001b[0m \u001b[32m━━━━━━━━━━━━━━━━━━━━\u001b[0m\u001b[37m\u001b[0m \u001b[1m56s\u001b[0m 7ms/step - categorical_accuracy: 0.8823 - loss: 0.3096 - val_categorical_accuracy: 0.8494 - val_loss: 0.4202 - learning_rate: 1.0000e-06\n",
            "Epoch 137/256\n",
            "\u001b[1m8208/8208\u001b[0m \u001b[32m━━━━━━━━━━━━━━━━━━━━\u001b[0m\u001b[37m\u001b[0m \u001b[1m56s\u001b[0m 7ms/step - categorical_accuracy: 0.8820 - loss: 0.3113 - val_categorical_accuracy: 0.8517 - val_loss: 0.4167 - learning_rate: 1.0000e-06\n",
            "Epoch 138/256\n",
            "\u001b[1m8208/8208\u001b[0m \u001b[32m━━━━━━━━━━━━━━━━━━━━\u001b[0m\u001b[37m\u001b[0m \u001b[1m56s\u001b[0m 7ms/step - categorical_accuracy: 0.8824 - loss: 0.3108 - val_categorical_accuracy: 0.8530 - val_loss: 0.4137 - learning_rate: 1.0000e-06\n",
            "Epoch 139/256\n",
            "\u001b[1m8208/8208\u001b[0m \u001b[32m━━━━━━━━━━━━━━━━━━━━\u001b[0m\u001b[37m\u001b[0m \u001b[1m56s\u001b[0m 7ms/step - categorical_accuracy: 0.8822 - loss: 0.3102 - val_categorical_accuracy: 0.8532 - val_loss: 0.4134 - learning_rate: 1.0000e-06\n",
            "Epoch 140/256\n",
            "\u001b[1m8208/8208\u001b[0m \u001b[32m━━━━━━━━━━━━━━━━━━━━\u001b[0m\u001b[37m\u001b[0m \u001b[1m56s\u001b[0m 7ms/step - categorical_accuracy: 0.8827 - loss: 0.3097 - val_categorical_accuracy: 0.8542 - val_loss: 0.4117 - learning_rate: 1.0000e-06\n",
            "Epoch 141/256\n",
            "\u001b[1m8208/8208\u001b[0m \u001b[32m━━━━━━━━━━━━━━━━━━━━\u001b[0m\u001b[37m\u001b[0m \u001b[1m56s\u001b[0m 7ms/step - categorical_accuracy: 0.8829 - loss: 0.3099 - val_categorical_accuracy: 0.8508 - val_loss: 0.4173 - learning_rate: 1.0000e-06\n",
            "Epoch 142/256\n",
            "\u001b[1m8208/8208\u001b[0m \u001b[32m━━━━━━━━━━━━━━━━━━━━\u001b[0m\u001b[37m\u001b[0m \u001b[1m56s\u001b[0m 7ms/step - categorical_accuracy: 0.8830 - loss: 0.3092 - val_categorical_accuracy: 0.8520 - val_loss: 0.4150 - learning_rate: 1.0000e-06\n",
            "Epoch 143/256\n",
            "\u001b[1m8208/8208\u001b[0m \u001b[32m━━━━━━━━━━━━━━━━━━━━\u001b[0m\u001b[37m\u001b[0m \u001b[1m56s\u001b[0m 7ms/step - categorical_accuracy: 0.8826 - loss: 0.3084 - val_categorical_accuracy: 0.8515 - val_loss: 0.4155 - learning_rate: 1.0000e-06\n",
            "Epoch 144/256\n",
            "\u001b[1m8208/8208\u001b[0m \u001b[32m━━━━━━━━━━━━━━━━━━━━\u001b[0m\u001b[37m\u001b[0m \u001b[1m56s\u001b[0m 7ms/step - categorical_accuracy: 0.8832 - loss: 0.3081 - val_categorical_accuracy: 0.8515 - val_loss: 0.4174 - learning_rate: 1.0000e-06\n",
            "Epoch 145/256\n",
            "\u001b[1m8208/8208\u001b[0m \u001b[32m━━━━━━━━━━━━━━━━━━━━\u001b[0m\u001b[37m\u001b[0m \u001b[1m56s\u001b[0m 7ms/step - categorical_accuracy: 0.8831 - loss: 0.3066 - val_categorical_accuracy: 0.8525 - val_loss: 0.4147 - learning_rate: 1.0000e-06\n",
            "Epoch 146/256\n",
            "\u001b[1m8208/8208\u001b[0m \u001b[32m━━━━━━━━━━━━━━━━━━━━\u001b[0m\u001b[37m\u001b[0m \u001b[1m56s\u001b[0m 7ms/step - categorical_accuracy: 0.8835 - loss: 0.3076 - val_categorical_accuracy: 0.8522 - val_loss: 0.4153 - learning_rate: 1.0000e-06\n",
            "Epoch 147/256\n",
            "\u001b[1m8208/8208\u001b[0m \u001b[32m━━━━━━━━━━━━━━━━━━━━\u001b[0m\u001b[37m\u001b[0m \u001b[1m56s\u001b[0m 7ms/step - categorical_accuracy: 0.8836 - loss: 0.3067 - val_categorical_accuracy: 0.8526 - val_loss: 0.4145 - learning_rate: 1.0000e-06\n",
            "Epoch 148/256\n",
            "\u001b[1m8208/8208\u001b[0m \u001b[32m━━━━━━━━━━━━━━━━━━━━\u001b[0m\u001b[37m\u001b[0m \u001b[1m56s\u001b[0m 7ms/step - categorical_accuracy: 0.8838 - loss: 0.3066 - val_categorical_accuracy: 0.8515 - val_loss: 0.4155 - learning_rate: 1.0000e-06\n",
            "Epoch 149/256\n",
            "\u001b[1m8208/8208\u001b[0m \u001b[32m━━━━━━━━━━━━━━━━━━━━\u001b[0m\u001b[37m\u001b[0m \u001b[1m56s\u001b[0m 7ms/step - categorical_accuracy: 0.8834 - loss: 0.3059 - val_categorical_accuracy: 0.8518 - val_loss: 0.4150 - learning_rate: 1.0000e-06\n",
            "Epoch 150/256\n",
            "\u001b[1m8208/8208\u001b[0m \u001b[32m━━━━━━━━━━━━━━━━━━━━\u001b[0m\u001b[37m\u001b[0m \u001b[1m57s\u001b[0m 7ms/step - categorical_accuracy: 0.8841 - loss: 0.3049 - val_categorical_accuracy: 0.8506 - val_loss: 0.4166 - learning_rate: 1.0000e-06\n",
            "Epoch 151/256\n",
            "\u001b[1m8208/8208\u001b[0m \u001b[32m━━━━━━━━━━━━━━━━━━━━\u001b[0m\u001b[37m\u001b[0m \u001b[1m57s\u001b[0m 7ms/step - categorical_accuracy: 0.8840 - loss: 0.3047 - val_categorical_accuracy: 0.8509 - val_loss: 0.4159 - learning_rate: 1.0000e-06\n",
            "Epoch 152/256\n",
            "\u001b[1m8208/8208\u001b[0m \u001b[32m━━━━━━━━━━━━━━━━━━━━\u001b[0m\u001b[37m\u001b[0m \u001b[1m56s\u001b[0m 7ms/step - categorical_accuracy: 0.8847 - loss: 0.3039 - val_categorical_accuracy: 0.8521 - val_loss: 0.4139 - learning_rate: 1.0000e-06\n",
            "Epoch 153/256\n",
            "\u001b[1m8208/8208\u001b[0m \u001b[32m━━━━━━━━━━━━━━━━━━━━\u001b[0m\u001b[37m\u001b[0m \u001b[1m56s\u001b[0m 7ms/step - categorical_accuracy: 0.8854 - loss: 0.3035 - val_categorical_accuracy: 0.8505 - val_loss: 0.4174 - learning_rate: 1.0000e-06\n",
            "Epoch 154/256\n",
            "\u001b[1m8208/8208\u001b[0m \u001b[32m━━━━━━━━━━━━━━━━━━━━\u001b[0m\u001b[37m\u001b[0m \u001b[1m56s\u001b[0m 7ms/step - categorical_accuracy: 0.8842 - loss: 0.3034 - val_categorical_accuracy: 0.8526 - val_loss: 0.4136 - learning_rate: 1.0000e-06\n",
            "Epoch 155/256\n",
            "\u001b[1m8208/8208\u001b[0m \u001b[32m━━━━━━━━━━━━━━━━━━━━\u001b[0m\u001b[37m\u001b[0m \u001b[1m56s\u001b[0m 7ms/step - categorical_accuracy: 0.8847 - loss: 0.3039 - val_categorical_accuracy: 0.8528 - val_loss: 0.4132 - learning_rate: 1.0000e-06\n",
            "Epoch 156/256\n",
            "\u001b[1m8208/8208\u001b[0m \u001b[32m━━━━━━━━━━━━━━━━━━━━\u001b[0m\u001b[37m\u001b[0m \u001b[1m56s\u001b[0m 7ms/step - categorical_accuracy: 0.8853 - loss: 0.3027 - val_categorical_accuracy: 0.8528 - val_loss: 0.4134 - learning_rate: 1.0000e-06\n",
            "Epoch 157/256\n",
            "\u001b[1m8208/8208\u001b[0m \u001b[32m━━━━━━━━━━━━━━━━━━━━\u001b[0m\u001b[37m\u001b[0m \u001b[1m56s\u001b[0m 7ms/step - categorical_accuracy: 0.8848 - loss: 0.3029 - val_categorical_accuracy: 0.8524 - val_loss: 0.4142 - learning_rate: 1.0000e-06\n",
            "Epoch 158/256\n",
            "\u001b[1m8208/8208\u001b[0m \u001b[32m━━━━━━━━━━━━━━━━━━━━\u001b[0m\u001b[37m\u001b[0m \u001b[1m56s\u001b[0m 7ms/step - categorical_accuracy: 0.8854 - loss: 0.3009 - val_categorical_accuracy: 0.8534 - val_loss: 0.4133 - learning_rate: 1.0000e-06\n",
            "Epoch 159/256\n",
            "\u001b[1m8208/8208\u001b[0m \u001b[32m━━━━━━━━━━━━━━━━━━━━\u001b[0m\u001b[37m\u001b[0m \u001b[1m56s\u001b[0m 7ms/step - categorical_accuracy: 0.8847 - loss: 0.3020 - val_categorical_accuracy: 0.8526 - val_loss: 0.4145 - learning_rate: 1.0000e-06\n",
            "Epoch 160/256\n",
            "\u001b[1m8208/8208\u001b[0m \u001b[32m━━━━━━━━━━━━━━━━━━━━\u001b[0m\u001b[37m\u001b[0m \u001b[1m56s\u001b[0m 7ms/step - categorical_accuracy: 0.8858 - loss: 0.3006 - val_categorical_accuracy: 0.8529 - val_loss: 0.4138 - learning_rate: 1.0000e-06\n"
          ]
        },
        {
          "data": {
            "image/png": "[encoded data removed]",
            "text/plain": [
              "<Figure size 640x480 with 1 Axes>"
            ]
          },
          "metadata": {},
          "output_type": "display_data"
        },
        {
          "data": {
            "image/png": "[encoded data removed]",
            "text/plain": [
              "<Figure size 640x480 with 1 Axes>"
            ]
          },
          "metadata": {},
          "output_type": "display_data"
        }
      ],
      "source": [
        "fitModel(model, x_train, y_train, x_val, y_val, 256, True, dist_class_weight, 1, 256)"
      ]
    },
    {
      "cell_type": "code",
      "execution_count": 32,
      "metadata": {
        "colab": {
          "base_uri": "https://localhost:8080/"
        },
        "id": "WkVSBCHvrzxe",
        "outputId": "a79fd00d-4eef-481b-9d82-a25b5c5b5b4a"
      },
      "outputs": [
        {
          "name": "stderr",
          "output_type": "stream",
          "text": [
            "2025-05-01 00:17:02.137024: I external/local_xla/xla/service/gpu/autotuning/conv_algorithm_picker.cc:557] Omitted potentially buggy algorithm eng14{k25=0} for conv (f32[32,32,16,8]{3,2,1,0}, u8[0]{0}) custom-call(f32[32,32,16,8]{3,2,1,0}, f32[32,32,3,3]{3,2,1,0}, f32[32]{0}), window={size=3x3 pad=1_1x1_1}, dim_labels=bf01_oi01->bf01, custom_call_target=\"__cudnn$convBiasActivationForward\", backend_config={\"cudnn_conv_backend_config\":{\"activation_mode\":\"kRelu\",\"conv_result_scale\":1,\"leakyrelu_alpha\":0,\"side_input_scale\":0},\"force_earliest_schedule\":false,\"operation_queue_id\":\"0\",\"wait_on_operation_queues\":[]}\n",
            "2025-05-01 00:17:02.186596: I external/local_xla/xla/service/gpu/autotuning/conv_algorithm_picker.cc:557] Omitted potentially buggy algorithm eng14{k25=0} for conv (f32[32,64,8,4]{3,2,1,0}, u8[0]{0}) custom-call(f32[32,64,8,4]{3,2,1,0}, f32[64,64,3,3]{3,2,1,0}, f32[64]{0}), window={size=3x3 pad=1_1x1_1}, dim_labels=bf01_oi01->bf01, custom_call_target=\"__cudnn$convBiasActivationForward\", backend_config={\"cudnn_conv_backend_config\":{\"activation_mode\":\"kRelu\",\"conv_result_scale\":1,\"leakyrelu_alpha\":0,\"side_input_scale\":0},\"force_earliest_schedule\":false,\"operation_queue_id\":\"0\",\"wait_on_operation_queues\":[]}\n",
            "2025-05-01 00:17:26.909115: I external/local_xla/xla/service/gpu/autotuning/conv_algorithm_picker.cc:557] Omitted potentially buggy algorithm eng14{k25=0} for conv (f32[14,32,16,8]{3,2,1,0}, u8[0]{0}) custom-call(f32[14,1,16,8]{3,2,1,0}, f32[32,1,3,3]{3,2,1,0}, f32[32]{0}), window={size=3x3 pad=1_1x1_1}, dim_labels=bf01_oi01->bf01, custom_call_target=\"__cudnn$convBiasActivationForward\", backend_config={\"cudnn_conv_backend_config\":{\"activation_mode\":\"kRelu\",\"conv_result_scale\":1,\"leakyrelu_alpha\":0,\"side_input_scale\":0},\"force_earliest_schedule\":false,\"operation_queue_id\":\"0\",\"wait_on_operation_queues\":[]}\n",
            "2025-05-01 00:17:26.914540: I external/local_xla/xla/service/gpu/autotuning/conv_algorithm_picker.cc:557] Omitted potentially buggy algorithm eng14{k25=0} for conv (f32[14,32,16,8]{3,2,1,0}, u8[0]{0}) custom-call(f32[14,32,16,8]{3,2,1,0}, f32[32,32,3,3]{3,2,1,0}, f32[32]{0}), window={size=3x3 pad=1_1x1_1}, dim_labels=bf01_oi01->bf01, custom_call_target=\"__cudnn$convBiasActivationForward\", backend_config={\"cudnn_conv_backend_config\":{\"activation_mode\":\"kRelu\",\"conv_result_scale\":1,\"leakyrelu_alpha\":0,\"side_input_scale\":0},\"force_earliest_schedule\":false,\"operation_queue_id\":\"0\",\"wait_on_operation_queues\":[]}\n",
            "2025-05-01 00:17:26.966823: I external/local_xla/xla/service/gpu/autotuning/conv_algorithm_picker.cc:557] Omitted potentially buggy algorithm eng14{k25=0} for conv (f32[14,64,8,4]{3,2,1,0}, u8[0]{0}) custom-call(f32[14,64,8,4]{3,2,1,0}, f32[64,64,3,3]{3,2,1,0}, f32[64]{0}), window={size=3x3 pad=1_1x1_1}, dim_labels=bf01_oi01->bf01, custom_call_target=\"__cudnn$convBiasActivationForward\", backend_config={\"cudnn_conv_backend_config\":{\"activation_mode\":\"kRelu\",\"conv_result_scale\":1,\"leakyrelu_alpha\":0,\"side_input_scale\":0},\"force_earliest_schedule\":false,\"operation_queue_id\":\"0\",\"wait_on_operation_queues\":[]}\n"
          ]
        },
        {
          "name": "stdout",
          "output_type": "stream",
          "text": [
            "8199/8199 - 26s - 3ms/step - categorical_accuracy: 0.8585 - loss: 0.4015\n",
            "Test accuracy: 0.8585020303726196\n"
          ]
        }
      ],
      "source": [
        "# Evaluate the model on the test set.\n",
        "test_loss, test_acc = model.evaluate(x_test, y_test, verbose=2)\n",
        "print(f\"Test accuracy: {test_acc}\")"
      ]
    },
    {
      "cell_type": "code",
      "execution_count": 33,
      "metadata": {
        "colab": {
          "base_uri": "https://localhost:8080/",
          "height": 710
        },
        "id": "Wh_ETmEErzxe",
        "outputId": "e17a65c0-ce2d-4873-9cdf-7dcdb9831108"
      },
      "outputs": [
        {
          "name": "stdout",
          "output_type": "stream",
          "text": [
            "\u001b[1m8199/8199\u001b[0m \u001b[32m━━━━━━━━━━━━━━━━━━━━\u001b[0m\u001b[37m\u001b[0m \u001b[1m19s\u001b[0m 2ms/step\n",
            "y_train_int shape: (2101200,)\n",
            "y_test_int shape: (262350,)\n",
            "y_pred shape: (262350,)\n"
          ]
        },
        {
          "data": {
            "image/png": "[encoded data removed]",
            "text/plain": [
              "<Figure size 1000x700 with 2 Axes>"
            ]
          },
          "metadata": {},
          "output_type": "display_data"
        }
      ],
      "source": [
        "printConfusionMatrix(model, x_test, y_test, ['Background', 'Car', 'Comm', 'Motorcycle'])"
      ]
    },
    {
      "cell_type": "markdown",
      "metadata": {
        "id": "ijrhH7herzxe"
      },
      "source": [
        "# Save & Compress model"
      ]
    },
    {
      "cell_type": "markdown",
      "metadata": {
        "id": "PjEc-azSrzxe"
      },
      "source": [
        "### Keras Model\n",
        "\n",
        "Generating the Keras model is not required, thus the boolean check."
      ]
    },
    {
      "cell_type": "code",
      "execution_count": 34,
      "metadata": {
        "colab": {
          "base_uri": "https://localhost:8080/"
        },
        "id": "4n4_BRNKLRwo",
        "outputId": "a1b5a9be-5fe9-4fc2-d61c-a73cc8718cbc"
      },
      "outputs": [],
      "source": [
        "if GENERATE_KERAS_MODLE:\n",
        "    model.save(KERAS_MODEL_NAME)\n",
        "    print(\"Keras model saved: \", KERAS_MODEL_NAME)\n",
        "    convert_bytes(get_file_size(KERAS_MODEL_NAME), \"KB\")"
      ]
    },
    {
      "cell_type": "code",
      "execution_count": 35,
      "metadata": {},
      "outputs": [
        {
          "data": {
            "text/plain": [
              "(2101200, 16, 8, 1)"
            ]
          },
          "execution_count": 35,
          "metadata": {},
          "output_type": "execute_result"
        }
      ],
      "source": [
        "x_train.shape"
      ]
    },
    {
      "cell_type": "markdown",
      "metadata": {
        "id": "bP9VcO0Krzxg"
      },
      "source": [
        "### TF Lite model\n",
        "\n",
        "The TF Lite model is the main model to be used. This is where compression happens and thus also makes it important to test once again after compression. Once done, it's transformed into a CPP file to be implemented into pico-tfmicro."
      ]
    },
    {
      "cell_type": "code",
      "execution_count": 36,
      "metadata": {
        "colab": {
          "base_uri": "https://localhost:8080/"
        },
        "id": "NY57t7EwCW8P",
        "outputId": "b972b38d-b543-4443-9c72-03223e3d4cf9"
      },
      "outputs": [
        {
          "name": "stdout",
          "output_type": "stream",
          "text": [
            "INFO:tensorflow:Assets written to: /tmp/tmp_t4fd996/assets\n"
          ]
        },
        {
          "name": "stderr",
          "output_type": "stream",
          "text": [
            "INFO:tensorflow:Assets written to: /tmp/tmp_t4fd996/assets\n"
          ]
        },
        {
          "name": "stdout",
          "output_type": "stream",
          "text": [
            "Saved artifact at '/tmp/tmp_t4fd996'. The following endpoints are available:\n",
            "\n",
            "* Endpoint 'serve'\n",
            "  args_0 (POSITIONAL_ONLY): TensorSpec(shape=(None, 16, 8, 1), dtype=tf.float32, name='keras_tensor')\n",
            "Output Type:\n",
            "  TensorSpec(shape=(None, 4), dtype=tf.float32, name=None)\n",
            "Captures:\n",
            "  137041130425328: TensorSpec(shape=(), dtype=tf.resource, name=None)\n",
            "  137041130430256: TensorSpec(shape=(), dtype=tf.resource, name=None)\n",
            "  137041130435184: TensorSpec(shape=(), dtype=tf.resource, name=None)\n",
            "  137041130436944: TensorSpec(shape=(), dtype=tf.resource, name=None)\n",
            "  137041130433952: TensorSpec(shape=(), dtype=tf.resource, name=None)\n",
            "  137041130435712: TensorSpec(shape=(), dtype=tf.resource, name=None)\n",
            "  137041130437824: TensorSpec(shape=(), dtype=tf.resource, name=None)\n",
            "  137041130437120: TensorSpec(shape=(), dtype=tf.resource, name=None)\n",
            "  137041130556048: TensorSpec(shape=(), dtype=tf.resource, name=None)\n",
            "  137041130556400: TensorSpec(shape=(), dtype=tf.resource, name=None)\n",
            "  137041130553936: TensorSpec(shape=(), dtype=tf.resource, name=None)\n",
            "  137041130555168: TensorSpec(shape=(), dtype=tf.resource, name=None)\n",
            "  137041130553760: TensorSpec(shape=(), dtype=tf.resource, name=None)\n",
            "  137041130557104: TensorSpec(shape=(), dtype=tf.resource, name=None)\n",
            "  137041130559744: TensorSpec(shape=(), dtype=tf.resource, name=None)\n",
            "  137041130559040: TensorSpec(shape=(), dtype=tf.resource, name=None)\n",
            "  137041130557632: TensorSpec(shape=(), dtype=tf.resource, name=None)\n",
            "  137041130559392: TensorSpec(shape=(), dtype=tf.resource, name=None)\n",
            "  137041130559216: TensorSpec(shape=(), dtype=tf.resource, name=None)\n",
            "  137041130561504: TensorSpec(shape=(), dtype=tf.resource, name=None)\n",
            "  137041130561856: TensorSpec(shape=(), dtype=tf.resource, name=None)\n",
            "  137041130563440: TensorSpec(shape=(), dtype=tf.resource, name=None)\n",
            "  137041130562032: TensorSpec(shape=(), dtype=tf.resource, name=None)\n",
            "  137041130563792: TensorSpec(shape=(), dtype=tf.resource, name=None)\n",
            "  137041130563088: TensorSpec(shape=(), dtype=tf.resource, name=None)\n",
            "  137041130566256: TensorSpec(shape=(), dtype=tf.resource, name=None)\n",
            "  137041130568544: TensorSpec(shape=(), dtype=tf.resource, name=None)\n",
            "  137041130566608: TensorSpec(shape=(), dtype=tf.resource, name=None)\n",
            "  137041130566432: TensorSpec(shape=(), dtype=tf.resource, name=None)\n",
            "  137041130567664: TensorSpec(shape=(), dtype=tf.resource, name=None)\n",
            "  137041130569424: TensorSpec(shape=(), dtype=tf.resource, name=None)\n",
            "  137041130687296: TensorSpec(shape=(), dtype=tf.resource, name=None)\n",
            "  137041130688704: TensorSpec(shape=(), dtype=tf.resource, name=None)\n",
            "  137041130688352: TensorSpec(shape=(), dtype=tf.resource, name=None)\n",
            "  137041130688176: TensorSpec(shape=(), dtype=tf.resource, name=None)\n",
            "  137041130687824: TensorSpec(shape=(), dtype=tf.resource, name=None)\n",
            "  137041130685536: TensorSpec(shape=(), dtype=tf.resource, name=None)\n",
            "  137041130689760: TensorSpec(shape=(), dtype=tf.resource, name=None)\n",
            "  137041130693632: TensorSpec(shape=(), dtype=tf.resource, name=None)\n",
            "  137041130690816: TensorSpec(shape=(), dtype=tf.resource, name=None)\n",
            "  137041130692400: TensorSpec(shape=(), dtype=tf.resource, name=None)\n",
            "  137041130694688: TensorSpec(shape=(), dtype=tf.resource, name=None)\n",
            "  137041130693104: TensorSpec(shape=(), dtype=tf.resource, name=None)\n",
            "  137041130690640: TensorSpec(shape=(), dtype=tf.resource, name=None)\n",
            "  137041130698208: TensorSpec(shape=(), dtype=tf.resource, name=None)\n",
            "  137041130696272: TensorSpec(shape=(), dtype=tf.resource, name=None)\n",
            "  137041130697328: TensorSpec(shape=(), dtype=tf.resource, name=None)\n",
            "  137041130699264: TensorSpec(shape=(), dtype=tf.resource, name=None)\n",
            "  137041130697152: TensorSpec(shape=(), dtype=tf.resource, name=None)\n",
            "  137041130694864: TensorSpec(shape=(), dtype=tf.resource, name=None)\n",
            "  137041130698560: TensorSpec(shape=(), dtype=tf.resource, name=None)\n",
            "  137041130786480: TensorSpec(shape=(), dtype=tf.resource, name=None)\n"
          ]
        },
        {
          "name": "stderr",
          "output_type": "stream",
          "text": [
            "/home/fridh/.local/lib/python3.10/site-packages/tensorflow/lite/python/convert.py:997: UserWarning: Statistics for quantized inputs were expected, but not specified; continuing anyway.\n",
            "  warnings.warn(\n",
            "W0000 00:00:1746051473.492446    6440 tf_tfl_flatbuffer_helpers.cc:365] Ignored output_format.\n",
            "W0000 00:00:1746051473.492468    6440 tf_tfl_flatbuffer_helpers.cc:368] Ignored drop_control_dependency.\n",
            "2025-05-01 00:17:53.492899: I tensorflow/cc/saved_model/reader.cc:83] Reading SavedModel from: /tmp/tmp_t4fd996\n",
            "2025-05-01 00:17:53.495433: I tensorflow/cc/saved_model/reader.cc:52] Reading meta graph with tags { serve }\n",
            "2025-05-01 00:17:53.495449: I tensorflow/cc/saved_model/reader.cc:147] Reading SavedModel debug info (if present) from: /tmp/tmp_t4fd996\n",
            "I0000 00:00:1746051473.518925    6440 mlir_graph_optimization_pass.cc:401] MLIR V1 optimization pass is not enabled\n",
            "2025-05-01 00:17:53.522979: I tensorflow/cc/saved_model/loader.cc:236] Restoring SavedModel bundle.\n",
            "2025-05-01 00:17:53.660529: I tensorflow/cc/saved_model/loader.cc:220] Running initialization op on SavedModel bundle at path: /tmp/tmp_t4fd996\n",
            "2025-05-01 00:17:53.698928: I tensorflow/cc/saved_model/loader.cc:466] SavedModel load for tags { serve }; Status: success: OK. Took 206033 microseconds.\n"
          ]
        },
        {
          "ename": "KeyboardInterrupt",
          "evalue": "",
          "output_type": "error",
          "traceback": [
            "\u001b[0;31m---------------------------------------------------------------------------\u001b[0m",
            "\u001b[0;31mKeyboardInterrupt\u001b[0m                         Traceback (most recent call last)",
            "Cell \u001b[0;32mIn[36], line 20\u001b[0m\n\u001b[1;32m     17\u001b[0m tf_lite_converter\u001b[38;5;241m.\u001b[39mrepresentative_dataset \u001b[38;5;241m=\u001b[39m representative_dataset_gen\n\u001b[1;32m     19\u001b[0m \u001b[38;5;66;03m# Grab model and save it.\u001b[39;00m\n\u001b[0;32m---> 20\u001b[0m tflite_model \u001b[38;5;241m=\u001b[39m \u001b[43mtf_lite_converter\u001b[49m\u001b[38;5;241;43m.\u001b[39;49m\u001b[43mconvert\u001b[49m\u001b[43m(\u001b[49m\u001b[43m)\u001b[49m\n\u001b[1;32m     21\u001b[0m tflite_model_name \u001b[38;5;241m=\u001b[39m TF_LITE_MODEL_FILE_NAME\n\u001b[1;32m     22\u001b[0m \u001b[38;5;28mopen\u001b[39m(tflite_model_name, \u001b[38;5;124m\"\u001b[39m\u001b[38;5;124mwb\u001b[39m\u001b[38;5;124m\"\u001b[39m)\u001b[38;5;241m.\u001b[39mwrite(tflite_model)\n",
            "File \u001b[0;32m~/.local/lib/python3.10/site-packages/tensorflow/lite/python/lite.py:1238\u001b[0m, in \u001b[0;36m_export_metrics.<locals>.wrapper\u001b[0;34m(self, *args, **kwargs)\u001b[0m\n\u001b[1;32m   1235\u001b[0m \u001b[38;5;129m@functools\u001b[39m\u001b[38;5;241m.\u001b[39mwraps(convert_func)\n\u001b[1;32m   1236\u001b[0m \u001b[38;5;28;01mdef\u001b[39;00m\u001b[38;5;250m \u001b[39m\u001b[38;5;21mwrapper\u001b[39m(\u001b[38;5;28mself\u001b[39m, \u001b[38;5;241m*\u001b[39margs, \u001b[38;5;241m*\u001b[39m\u001b[38;5;241m*\u001b[39mkwargs):\n\u001b[1;32m   1237\u001b[0m   \u001b[38;5;66;03m# pylint: disable=protected-access\u001b[39;00m\n\u001b[0;32m-> 1238\u001b[0m   \u001b[38;5;28;01mreturn\u001b[39;00m \u001b[38;5;28;43mself\u001b[39;49m\u001b[38;5;241;43m.\u001b[39;49m\u001b[43m_convert_and_export_metrics\u001b[49m\u001b[43m(\u001b[49m\u001b[43mconvert_func\u001b[49m\u001b[43m,\u001b[49m\u001b[43m \u001b[49m\u001b[38;5;241;43m*\u001b[39;49m\u001b[43margs\u001b[49m\u001b[43m,\u001b[49m\u001b[43m \u001b[49m\u001b[38;5;241;43m*\u001b[39;49m\u001b[38;5;241;43m*\u001b[39;49m\u001b[43mkwargs\u001b[49m\u001b[43m)\u001b[49m\n",
            "File \u001b[0;32m~/.local/lib/python3.10/site-packages/tensorflow/lite/python/lite.py:1190\u001b[0m, in \u001b[0;36mTFLiteConverterBase._convert_and_export_metrics\u001b[0;34m(self, convert_func, *args, **kwargs)\u001b[0m\n\u001b[1;32m   1188\u001b[0m \u001b[38;5;28mself\u001b[39m\u001b[38;5;241m.\u001b[39m_save_conversion_params_metric()\n\u001b[1;32m   1189\u001b[0m start_time \u001b[38;5;241m=\u001b[39m time\u001b[38;5;241m.\u001b[39mprocess_time()\n\u001b[0;32m-> 1190\u001b[0m result \u001b[38;5;241m=\u001b[39m \u001b[43mconvert_func\u001b[49m\u001b[43m(\u001b[49m\u001b[38;5;28;43mself\u001b[39;49m\u001b[43m,\u001b[49m\u001b[43m \u001b[49m\u001b[38;5;241;43m*\u001b[39;49m\u001b[43margs\u001b[49m\u001b[43m,\u001b[49m\u001b[43m \u001b[49m\u001b[38;5;241;43m*\u001b[39;49m\u001b[38;5;241;43m*\u001b[39;49m\u001b[43mkwargs\u001b[49m\u001b[43m)\u001b[49m\n\u001b[1;32m   1191\u001b[0m elapsed_time_ms \u001b[38;5;241m=\u001b[39m (time\u001b[38;5;241m.\u001b[39mprocess_time() \u001b[38;5;241m-\u001b[39m start_time) \u001b[38;5;241m*\u001b[39m \u001b[38;5;241m1000\u001b[39m\n\u001b[1;32m   1192\u001b[0m \u001b[38;5;28;01mif\u001b[39;00m result:\n",
            "File \u001b[0;32m~/.local/lib/python3.10/site-packages/tensorflow/lite/python/lite.py:1754\u001b[0m, in \u001b[0;36mTFLiteKerasModelConverterV2.convert\u001b[0;34m(self)\u001b[0m\n\u001b[1;32m   1741\u001b[0m \u001b[38;5;129m@_export_metrics\u001b[39m\n\u001b[1;32m   1742\u001b[0m \u001b[38;5;28;01mdef\u001b[39;00m\u001b[38;5;250m \u001b[39m\u001b[38;5;21mconvert\u001b[39m(\u001b[38;5;28mself\u001b[39m):\n\u001b[1;32m   1743\u001b[0m \u001b[38;5;250m  \u001b[39m\u001b[38;5;124;03m\"\"\"Converts a keras model based on instance variables.\u001b[39;00m\n\u001b[1;32m   1744\u001b[0m \n\u001b[1;32m   1745\u001b[0m \u001b[38;5;124;03m  Returns:\u001b[39;00m\n\u001b[0;32m   (...)\u001b[0m\n\u001b[1;32m   1752\u001b[0m \u001b[38;5;124;03m      Invalid quantization parameters.\u001b[39;00m\n\u001b[1;32m   1753\u001b[0m \u001b[38;5;124;03m  \"\"\"\u001b[39;00m\n\u001b[0;32m-> 1754\u001b[0m   saved_model_convert_result \u001b[38;5;241m=\u001b[39m \u001b[38;5;28;43mself\u001b[39;49m\u001b[38;5;241;43m.\u001b[39;49m\u001b[43m_convert_as_saved_model\u001b[49m\u001b[43m(\u001b[49m\u001b[43m)\u001b[49m\n\u001b[1;32m   1755\u001b[0m   \u001b[38;5;28;01mif\u001b[39;00m saved_model_convert_result:\n\u001b[1;32m   1756\u001b[0m     \u001b[38;5;28;01mreturn\u001b[39;00m saved_model_convert_result\n",
            "File \u001b[0;32m~/.local/lib/python3.10/site-packages/tensorflow/lite/python/lite.py:1735\u001b[0m, in \u001b[0;36mTFLiteKerasModelConverterV2._convert_as_saved_model\u001b[0;34m(self)\u001b[0m\n\u001b[1;32m   1731\u001b[0m   graph_def, input_tensors, output_tensors \u001b[38;5;241m=\u001b[39m (\n\u001b[1;32m   1732\u001b[0m       \u001b[38;5;28mself\u001b[39m\u001b[38;5;241m.\u001b[39m_convert_keras_to_saved_model(temp_dir)\n\u001b[1;32m   1733\u001b[0m   )\n\u001b[1;32m   1734\u001b[0m   \u001b[38;5;28;01mif\u001b[39;00m \u001b[38;5;28mself\u001b[39m\u001b[38;5;241m.\u001b[39msaved_model_dir:\n\u001b[0;32m-> 1735\u001b[0m     \u001b[38;5;28;01mreturn\u001b[39;00m \u001b[38;5;28;43msuper\u001b[39;49m\u001b[43m(\u001b[49m\u001b[43mTFLiteKerasModelConverterV2\u001b[49m\u001b[43m,\u001b[49m\u001b[43m \u001b[49m\u001b[38;5;28;43mself\u001b[39;49m\u001b[43m)\u001b[49m\u001b[38;5;241;43m.\u001b[39;49m\u001b[43mconvert\u001b[49m\u001b[43m(\u001b[49m\n\u001b[1;32m   1736\u001b[0m \u001b[43m        \u001b[49m\u001b[43mgraph_def\u001b[49m\u001b[43m,\u001b[49m\u001b[43m \u001b[49m\u001b[43minput_tensors\u001b[49m\u001b[43m,\u001b[49m\u001b[43m \u001b[49m\u001b[43moutput_tensors\u001b[49m\n\u001b[1;32m   1737\u001b[0m \u001b[43m    \u001b[49m\u001b[43m)\u001b[49m\n\u001b[1;32m   1738\u001b[0m \u001b[38;5;28;01mfinally\u001b[39;00m:\n\u001b[1;32m   1739\u001b[0m   shutil\u001b[38;5;241m.\u001b[39mrmtree(temp_dir, \u001b[38;5;28;01mTrue\u001b[39;00m)\n",
            "File \u001b[0;32m~/.local/lib/python3.10/site-packages/tensorflow/lite/python/lite.py:1480\u001b[0m, in \u001b[0;36mTFLiteConverterBaseV2.convert\u001b[0;34m(self, graph_def, input_tensors, output_tensors)\u001b[0m\n\u001b[1;32m   1472\u001b[0m \u001b[38;5;66;03m# Converts model.\u001b[39;00m\n\u001b[1;32m   1473\u001b[0m result \u001b[38;5;241m=\u001b[39m _convert_graphdef(\n\u001b[1;32m   1474\u001b[0m     input_data\u001b[38;5;241m=\u001b[39mgraph_def,\n\u001b[1;32m   1475\u001b[0m     input_tensors\u001b[38;5;241m=\u001b[39minput_tensors,\n\u001b[1;32m   1476\u001b[0m     output_tensors\u001b[38;5;241m=\u001b[39moutput_tensors,\n\u001b[1;32m   1477\u001b[0m     \u001b[38;5;241m*\u001b[39m\u001b[38;5;241m*\u001b[39mconverter_kwargs,\n\u001b[1;32m   1478\u001b[0m )\n\u001b[0;32m-> 1480\u001b[0m \u001b[38;5;28;01mreturn\u001b[39;00m \u001b[38;5;28;43mself\u001b[39;49m\u001b[38;5;241;43m.\u001b[39;49m\u001b[43m_optimize_tflite_model\u001b[49m\u001b[43m(\u001b[49m\n\u001b[1;32m   1481\u001b[0m \u001b[43m    \u001b[49m\u001b[43mresult\u001b[49m\u001b[43m,\u001b[49m\n\u001b[1;32m   1482\u001b[0m \u001b[43m    \u001b[49m\u001b[38;5;28;43mself\u001b[39;49m\u001b[38;5;241;43m.\u001b[39;49m\u001b[43m_quant_mode\u001b[49m\u001b[43m,\u001b[49m\n\u001b[1;32m   1483\u001b[0m \u001b[43m    \u001b[49m\u001b[43m_build_conversion_flags\u001b[49m\u001b[43m(\u001b[49m\u001b[38;5;241;43m*\u001b[39;49m\u001b[38;5;241;43m*\u001b[39;49m\u001b[43mconverter_kwargs\u001b[49m\u001b[43m)\u001b[49m\u001b[38;5;241;43m.\u001b[39;49m\u001b[43mdebug_options\u001b[49m\u001b[43m,\u001b[49m\n\u001b[1;32m   1484\u001b[0m \u001b[43m    \u001b[49m\u001b[43mquant_io\u001b[49m\u001b[38;5;241;43m=\u001b[39;49m\u001b[38;5;28;43mself\u001b[39;49m\u001b[38;5;241;43m.\u001b[39;49m\u001b[43mexperimental_new_quantizer\u001b[49m\u001b[43m,\u001b[49m\n\u001b[1;32m   1485\u001b[0m \u001b[43m\u001b[49m\u001b[43m)\u001b[49m\n",
            "File \u001b[0;32m~/.local/lib/python3.10/site-packages/tensorflow/lite/python/convert_phase.py:205\u001b[0m, in \u001b[0;36mconvert_phase.<locals>.actual_decorator.<locals>.wrapper\u001b[0;34m(*args, **kwargs)\u001b[0m\n\u001b[1;32m    202\u001b[0m \u001b[38;5;129m@functools\u001b[39m\u001b[38;5;241m.\u001b[39mwraps(func)\n\u001b[1;32m    203\u001b[0m \u001b[38;5;28;01mdef\u001b[39;00m\u001b[38;5;250m \u001b[39m\u001b[38;5;21mwrapper\u001b[39m(\u001b[38;5;241m*\u001b[39margs, \u001b[38;5;241m*\u001b[39m\u001b[38;5;241m*\u001b[39mkwargs):\n\u001b[1;32m    204\u001b[0m   \u001b[38;5;28;01mtry\u001b[39;00m:\n\u001b[0;32m--> 205\u001b[0m     \u001b[38;5;28;01mreturn\u001b[39;00m \u001b[43mfunc\u001b[49m\u001b[43m(\u001b[49m\u001b[38;5;241;43m*\u001b[39;49m\u001b[43margs\u001b[49m\u001b[43m,\u001b[49m\u001b[43m \u001b[49m\u001b[38;5;241;43m*\u001b[39;49m\u001b[38;5;241;43m*\u001b[39;49m\u001b[43mkwargs\u001b[49m\u001b[43m)\u001b[49m\n\u001b[1;32m    206\u001b[0m   \u001b[38;5;28;01mexcept\u001b[39;00m ConverterError \u001b[38;5;28;01mas\u001b[39;00m converter_error:\n\u001b[1;32m    207\u001b[0m     \u001b[38;5;28;01mif\u001b[39;00m converter_error\u001b[38;5;241m.\u001b[39merrors:\n",
            "File \u001b[0;32m~/.local/lib/python3.10/site-packages/tensorflow/lite/python/lite.py:1134\u001b[0m, in \u001b[0;36mTFLiteConverterBase._optimize_tflite_model\u001b[0;34m(self, model, quant_mode, debug_options, quant_io)\u001b[0m\n\u001b[1;32m   1132\u001b[0m   q_allow_float \u001b[38;5;241m=\u001b[39m quant_mode\u001b[38;5;241m.\u001b[39mis_allow_float()\n\u001b[1;32m   1133\u001b[0m   q_variable_quantization \u001b[38;5;241m=\u001b[39m quant_mode\u001b[38;5;241m.\u001b[39menable_mlir_variable_quantization\n\u001b[0;32m-> 1134\u001b[0m   model \u001b[38;5;241m=\u001b[39m \u001b[38;5;28;43mself\u001b[39;49m\u001b[38;5;241;43m.\u001b[39;49m\u001b[43m_quantize\u001b[49m\u001b[43m(\u001b[49m\n\u001b[1;32m   1135\u001b[0m \u001b[43m      \u001b[49m\u001b[43mmodel\u001b[49m\u001b[43m,\u001b[49m\n\u001b[1;32m   1136\u001b[0m \u001b[43m      \u001b[49m\u001b[43mq_in_type\u001b[49m\u001b[43m,\u001b[49m\n\u001b[1;32m   1137\u001b[0m \u001b[43m      \u001b[49m\u001b[43mq_out_type\u001b[49m\u001b[43m,\u001b[49m\n\u001b[1;32m   1138\u001b[0m \u001b[43m      \u001b[49m\u001b[43mq_activations_type\u001b[49m\u001b[43m,\u001b[49m\n\u001b[1;32m   1139\u001b[0m \u001b[43m      \u001b[49m\u001b[43mq_bias_type\u001b[49m\u001b[43m,\u001b[49m\n\u001b[1;32m   1140\u001b[0m \u001b[43m      \u001b[49m\u001b[43mq_allow_float\u001b[49m\u001b[43m,\u001b[49m\n\u001b[1;32m   1141\u001b[0m \u001b[43m      \u001b[49m\u001b[43mq_variable_quantization\u001b[49m\u001b[43m,\u001b[49m\n\u001b[1;32m   1142\u001b[0m \u001b[43m      \u001b[49m\u001b[43mdebug_options\u001b[49m\u001b[43m,\u001b[49m\n\u001b[1;32m   1143\u001b[0m \u001b[43m  \u001b[49m\u001b[43m)\u001b[49m\n\u001b[1;32m   1145\u001b[0m m_in_type \u001b[38;5;241m=\u001b[39m in_type \u001b[38;5;28;01mif\u001b[39;00m in_type \u001b[38;5;28;01melse\u001b[39;00m _dtypes\u001b[38;5;241m.\u001b[39mfloat32\n\u001b[1;32m   1146\u001b[0m m_out_type \u001b[38;5;241m=\u001b[39m out_type \u001b[38;5;28;01mif\u001b[39;00m out_type \u001b[38;5;28;01melse\u001b[39;00m _dtypes\u001b[38;5;241m.\u001b[39mfloat32\n",
            "File \u001b[0;32m~/.local/lib/python3.10/site-packages/tensorflow/lite/python/lite.py:751\u001b[0m, in \u001b[0;36mTFLiteConverterBase._quantize\u001b[0;34m(self, result, input_type, output_type, activations_type, bias_type, allow_float, enable_variable_quantization, debug_options)\u001b[0m\n\u001b[1;32m    747\u001b[0m calibrate_quantize \u001b[38;5;241m=\u001b[39m _calibrator\u001b[38;5;241m.\u001b[39mCalibrator(\n\u001b[1;32m    748\u001b[0m     result, custom_op_registerers_by_name, custom_op_registerers_by_func\n\u001b[1;32m    749\u001b[0m )\n\u001b[1;32m    750\u001b[0m \u001b[38;5;28;01mif\u001b[39;00m \u001b[38;5;28mself\u001b[39m\u001b[38;5;241m.\u001b[39m_experimental_calibrate_only \u001b[38;5;129;01mor\u001b[39;00m \u001b[38;5;28mself\u001b[39m\u001b[38;5;241m.\u001b[39mexperimental_new_quantizer:\n\u001b[0;32m--> 751\u001b[0m   calibrated \u001b[38;5;241m=\u001b[39m \u001b[43mcalibrate_quantize\u001b[49m\u001b[38;5;241;43m.\u001b[39;49m\u001b[43mcalibrate\u001b[49m\u001b[43m(\u001b[49m\n\u001b[1;32m    752\u001b[0m \u001b[43m      \u001b[49m\u001b[38;5;28;43mself\u001b[39;49m\u001b[38;5;241;43m.\u001b[39;49m\u001b[43mrepresentative_dataset\u001b[49m\u001b[38;5;241;43m.\u001b[39;49m\u001b[43minput_gen\u001b[49m\n\u001b[1;32m    753\u001b[0m \u001b[43m  \u001b[49m\u001b[43m)\u001b[49m\n\u001b[1;32m    755\u001b[0m \u001b[38;5;28;01mif\u001b[39;00m \u001b[38;5;28mself\u001b[39m\u001b[38;5;241m.\u001b[39m_experimental_calibrate_only:\n\u001b[1;32m    756\u001b[0m   \u001b[38;5;28;01mreturn\u001b[39;00m calibrated\n",
            "File \u001b[0;32m~/.local/lib/python3.10/site-packages/tensorflow/lite/python/convert_phase.py:205\u001b[0m, in \u001b[0;36mconvert_phase.<locals>.actual_decorator.<locals>.wrapper\u001b[0;34m(*args, **kwargs)\u001b[0m\n\u001b[1;32m    202\u001b[0m \u001b[38;5;129m@functools\u001b[39m\u001b[38;5;241m.\u001b[39mwraps(func)\n\u001b[1;32m    203\u001b[0m \u001b[38;5;28;01mdef\u001b[39;00m\u001b[38;5;250m \u001b[39m\u001b[38;5;21mwrapper\u001b[39m(\u001b[38;5;241m*\u001b[39margs, \u001b[38;5;241m*\u001b[39m\u001b[38;5;241m*\u001b[39mkwargs):\n\u001b[1;32m    204\u001b[0m   \u001b[38;5;28;01mtry\u001b[39;00m:\n\u001b[0;32m--> 205\u001b[0m     \u001b[38;5;28;01mreturn\u001b[39;00m \u001b[43mfunc\u001b[49m\u001b[43m(\u001b[49m\u001b[38;5;241;43m*\u001b[39;49m\u001b[43margs\u001b[49m\u001b[43m,\u001b[49m\u001b[43m \u001b[49m\u001b[38;5;241;43m*\u001b[39;49m\u001b[38;5;241;43m*\u001b[39;49m\u001b[43mkwargs\u001b[49m\u001b[43m)\u001b[49m\n\u001b[1;32m    206\u001b[0m   \u001b[38;5;28;01mexcept\u001b[39;00m ConverterError \u001b[38;5;28;01mas\u001b[39;00m converter_error:\n\u001b[1;32m    207\u001b[0m     \u001b[38;5;28;01mif\u001b[39;00m converter_error\u001b[38;5;241m.\u001b[39merrors:\n",
            "File \u001b[0;32m~/.local/lib/python3.10/site-packages/tensorflow/lite/python/optimize/calibrator.py:254\u001b[0m, in \u001b[0;36mCalibrator.calibrate\u001b[0;34m(self, dataset_gen)\u001b[0m\n\u001b[1;32m    244\u001b[0m \u001b[38;5;129m@convert_phase\u001b[39m(Component\u001b[38;5;241m.\u001b[39mOPTIMIZE_TFLITE_MODEL, SubComponent\u001b[38;5;241m.\u001b[39mCALIBRATE)\n\u001b[1;32m    245\u001b[0m \u001b[38;5;28;01mdef\u001b[39;00m\u001b[38;5;250m \u001b[39m\u001b[38;5;21mcalibrate\u001b[39m(\u001b[38;5;28mself\u001b[39m, dataset_gen):\n\u001b[1;32m    246\u001b[0m \u001b[38;5;250m  \u001b[39m\u001b[38;5;124;03m\"\"\"Calibrates the model with specified generator.\u001b[39;00m\n\u001b[1;32m    247\u001b[0m \n\u001b[1;32m    248\u001b[0m \u001b[38;5;124;03m  Returns:\u001b[39;00m\n\u001b[0;32m   (...)\u001b[0m\n\u001b[1;32m    252\u001b[0m \u001b[38;5;124;03m    dataset_gen: A generator that generates calibration samples.\u001b[39;00m\n\u001b[1;32m    253\u001b[0m \u001b[38;5;124;03m  \"\"\"\u001b[39;00m\n\u001b[0;32m--> 254\u001b[0m   \u001b[38;5;28;43mself\u001b[39;49m\u001b[38;5;241;43m.\u001b[39;49m\u001b[43m_feed_tensors\u001b[49m\u001b[43m(\u001b[49m\u001b[43mdataset_gen\u001b[49m\u001b[43m,\u001b[49m\u001b[43m \u001b[49m\u001b[43mresize_input\u001b[49m\u001b[38;5;241;43m=\u001b[39;49m\u001b[38;5;28;43;01mTrue\u001b[39;49;00m\u001b[43m)\u001b[49m\n\u001b[1;32m    255\u001b[0m   \u001b[38;5;28;01mreturn\u001b[39;00m \u001b[38;5;28mself\u001b[39m\u001b[38;5;241m.\u001b[39m_calibrator\u001b[38;5;241m.\u001b[39mCalibrate()\n",
            "File \u001b[0;32m~/.local/lib/python3.10/site-packages/tensorflow/lite/python/optimize/calibrator.py:152\u001b[0m, in \u001b[0;36mCalibrator._feed_tensors\u001b[0;34m(self, dataset_gen, resize_input)\u001b[0m\n\u001b[1;32m    150\u001b[0m   \u001b[38;5;28mself\u001b[39m\u001b[38;5;241m.\u001b[39m_calibrator\u001b[38;5;241m.\u001b[39mFeedTensor(input_array, signature_key)\n\u001b[1;32m    151\u001b[0m \u001b[38;5;28;01melse\u001b[39;00m:\n\u001b[0;32m--> 152\u001b[0m   \u001b[38;5;28;43mself\u001b[39;49m\u001b[38;5;241;43m.\u001b[39;49m\u001b[43m_calibrator\u001b[49m\u001b[38;5;241;43m.\u001b[39;49m\u001b[43mFeedTensor\u001b[49m\u001b[43m(\u001b[49m\u001b[43minput_array\u001b[49m\u001b[43m)\u001b[49m\n",
            "\u001b[0;31mKeyboardInterrupt\u001b[0m: "
          ]
        }
      ],
      "source": [
        "# Convert into TFLite model.\n",
        "tf_lite_converter = tf.lite.TFLiteConverter.from_keras_model(model)\n",
        "\n",
        "# Apply optimizations.\n",
        "tf_lite_converter.optimizations = [tf.lite.Optimize.DEFAULT]\n",
        "tf_lite_converter.target_spec.supported_ops = [tf.lite.OpsSet.TFLITE_BUILTINS_INT8]\n",
        "## NOT UINT8 but INT8\n",
        "tf_lite_converter.inference_input_type = tf.int8\n",
        "tf_lite_converter.inference_output_type = tf.int8\n",
        "\n",
        "num_calibration_images = len(x_train)\n",
        "calibration_indexes   = np.random.choice(x_train.shape[0], num_calibration_images, replace=False)\n",
        "def representative_dataset_gen():\n",
        "  for i in range(num_calibration_images):\n",
        "    yield [x_train[calibration_indexes[i: i + 1]].astype(np.float32)]\n",
        "\n",
        "tf_lite_converter.representative_dataset = representative_dataset_gen\n",
        "\n",
        "# Grab model and save it.\n",
        "tflite_model = tf_lite_converter.convert()\n",
        "tflite_model_name = TF_LITE_MODEL_FILE_NAME\n",
        "open(tflite_model_name, \"wb\").write(tflite_model)\n",
        "\n",
        "print(\"TFLite model saved: \", TF_LITE_MODEL_FILE_NAME)\n",
        "convert_bytes(get_file_size(TF_LITE_MODEL_FILE_NAME), \"KB\")\n",
        "\n",
        "# Print model input and output shape for debugging.\n",
        "interpreter = tf.lite.Interpreter(model_path=TF_LITE_MODEL_FILE_NAME)\n",
        "interpreter.allocate_tensors()\n",
        "input_details = interpreter.get_input_details()\n",
        "output_details = interpreter.get_output_details()\n",
        "print(\"Input Shape:\", input_details[0]['shape'])\n",
        "print(\"Input Type:\", input_details[0]['dtype'])\n",
        "print(\"Output Shape:\", output_details[0]['shape'])\n",
        "print(\"Output Type:\", output_details[0]['dtype'])\n",
        "\n",
        "# Evaluate the TFLite model.\n",
        "#x_int8 = np.round((x_test / 3) * 127).astype(np.int8)\n",
        "#evaluate_tflite_model(TF_LITE_MODEL_FILE_NAME, x_int8, y_test)"
      ]
    },
    {
      "cell_type": "code",
      "execution_count": null,
      "metadata": {},
      "outputs": [
        {
          "name": "stdout",
          "output_type": "stream",
          "text": [
            "Accuracy: 0.841219744615971\n",
            "              precision    recall  f1-score   support\n",
            "\n",
            "           0       0.94      0.97      0.95    122100\n",
            "           1       0.92      0.75      0.83    117000\n",
            "           2       0.28      0.52      0.36     16800\n",
            "           3       0.62      0.95      0.75      6450\n",
            "\n",
            "    accuracy                           0.84    262350\n",
            "   macro avg       0.69      0.80      0.72    262350\n",
            "weighted avg       0.88      0.84      0.85    262350\n",
            "\n"
          ]
        }
      ],
      "source": [
        "x_int8 = np.round((x_test / 3) * 127).astype(np.int8)\n",
        "evaluate_tflite_model(TF_LITE_MODEL_FILE_NAME, x_int8, y_test)"
      ]
    },
    {
      "cell_type": "code",
      "execution_count": null,
      "metadata": {},
      "outputs": [
        {
          "data": {
            "image/png": "[encoded data removed]",
            "text/plain": [
              "<Figure size 1000x700 with 2 Axes>"
            ]
          },
          "metadata": {},
          "output_type": "display_data"
        }
      ],
      "source": [
        "# Load the TFLite model.\n",
        "interpreter = tf.lite.Interpreter(model_path=TF_LITE_MODEL_FILE_NAME)\n",
        "interpreter.allocate_tensors()\n",
        "\n",
        "# Get input and output details.\n",
        "input_details = interpreter.get_input_details()\n",
        "output_details = interpreter.get_output_details()\n",
        "\n",
        "# Prepare the test data for inference.\n",
        "x_test_int8 = np.round((x_test / 3) * 127).astype(np.int8)\n",
        "\n",
        "# Perform inference on the test set.\n",
        "y_pred = []\n",
        "for i in range(len(x_test_int8)):\n",
        "    interpreter.set_tensor(input_details[0]['index'], [x_test_int8[i]])\n",
        "    interpreter.invoke()\n",
        "    output_data = interpreter.get_tensor(output_details[0]['index'])\n",
        "    y_pred.append(np.argmax(output_data))\n",
        "\n",
        "# Convert predictions and true labels to integer format.\n",
        "y_true = [np.argmax(label) for label in y_test]\n",
        "\n",
        "# Generate confusion matrix.\n",
        "cm = confusion_matrix(y_true, y_pred)\n",
        "\n",
        "# Normalize the confusion matrix.\n",
        "cm_normalized = cm.astype('float') / cm.sum(axis=1)[:, np.newaxis]\n",
        "\n",
        "# Visualize the normalized confusion matrix.\n",
        "plt.figure(figsize=(10, 7))\n",
        "class_names = np.unique(['Background', 'Car', 'Comm', 'Motorcycle'])\n",
        "sns.heatmap(cm_normalized, annot=True, fmt='.2f', cmap='Blues', xticklabels=class_names, yticklabels=class_names)\n",
        "plt.xlabel('Predicted')\n",
        "plt.ylabel('True')\n",
        "plt.title('Normalized Confusion Matrix for TFLite Model')\n",
        "plt.show()"
      ]
    },
    {
      "cell_type": "code",
      "execution_count": null,
      "metadata": {
        "id": "cavoNO3Ipgla"
      },
      "outputs": [],
      "source": [
        "# Save the TF Lite model as a C++ array using xxd.\n",
        "# This is required to implement the model using pico-tfmicro.\n",
        "# Note that the file size from this is larger than the tflite file size,\n",
        "# but won't increase the story size of the model when implemented in C++.\n",
        "!xxd -i {TF_LITE_MODEL_FILE_NAME} > {MODEL_NAME}.cpp"
      ]
    }
  ],
  "metadata": {
    "accelerator": "GPU",
    "colab": {
      "provenance": []
    },
    "kernelspec": {
      "display_name": "Python 3",
      "name": "python3"
    },
    "language_info": {
      "codemirror_mode": {
        "name": "ipython",
        "version": 3
      },
      "file_extension": ".py",
      "mimetype": "text/x-python",
      "name": "python",
      "nbconvert_exporter": "python",
      "pygments_lexer": "ipython3",
      "version": "3.10.16"
    }
  },
  "nbformat": 4,
  "nbformat_minor": 0
}
