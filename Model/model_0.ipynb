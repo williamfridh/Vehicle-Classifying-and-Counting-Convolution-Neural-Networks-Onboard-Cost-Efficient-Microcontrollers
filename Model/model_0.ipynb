{
  "cells": [
    {
      "cell_type": "markdown",
      "metadata": {},
      "source": [
        "# Vehicle Classification Model\n",
        "\n",
        "This file contains the code for creatiing, training, and compressing the CNN used for the thesis project."
      ]
    },
    {
      "cell_type": "code",
      "execution_count": 1,
      "metadata": {},
      "outputs": [],
      "source": [
        "DATASET_PATH = \"seconds_per_frame_0.50,overlap_0.25,mfccs_40_.csv\"\n",
        "INPUT_SHAPE = (40, 16, 1)\n",
        "\n",
        "MODEL_NAME = \"cnn\"\n",
        "\n",
        "GENERATE_KERAS_MODLE = False\n",
        "KERAS_MODEL_NAME = f\"{MODEL_NAME}.h5\"  # Try using .keras instead.\n",
        "\n",
        "TF_LITE_MODEL_FILE_NAME = f\"{MODEL_NAME}.tflite\""
      ]
    },
    {
      "cell_type": "markdown",
      "metadata": {
        "id": "4d6YB6Mh93Vc"
      },
      "source": [
        "## Imports\n",
        "\n",
        "Place all imports in this section."
      ]
    },
    {
      "cell_type": "code",
      "execution_count": 2,
      "metadata": {
        "id": "dzLKpmZICaWN"
      },
      "outputs": [
        {
          "name": "stderr",
          "output_type": "stream",
          "text": [
            "/home/fridh/.local/lib/python3.10/site-packages/matplotlib/projections/__init__.py:63: UserWarning: Unable to import Axes3D. This may be due to multiple versions of Matplotlib being installed (e.g. as a system package and as a pip package). As a result, the 3D projection is not available.\n",
            "  warnings.warn(\"Unable to import Axes3D. This may be due to multiple versions of \"\n",
            "2025-03-28 00:23:48.072655: E external/local_xla/xla/stream_executor/cuda/cuda_fft.cc:477] Unable to register cuFFT factory: Attempting to register factory for plugin cuFFT when one has already been registered\n",
            "WARNING: All log messages before absl::InitializeLog() is called are written to STDERR\n",
            "E0000 00:00:1743117828.094990   90761 cuda_dnn.cc:8310] Unable to register cuDNN factory: Attempting to register factory for plugin cuDNN when one has already been registered\n",
            "E0000 00:00:1743117828.101578   90761 cuda_blas.cc:1418] Unable to register cuBLAS factory: Attempting to register factory for plugin cuBLAS when one has already been registered\n",
            "2025-03-28 00:23:48.124158: I tensorflow/core/platform/cpu_feature_guard.cc:210] This TensorFlow binary is optimized to use available CPU instructions in performance-critical operations.\n",
            "To enable the following instructions: AVX2 FMA, in other operations, rebuild TensorFlow with the appropriate compiler flags.\n"
          ]
        }
      ],
      "source": [
        "import os\n",
        "import sys\n",
        "import numpy as np\n",
        "import pandas as pd\n",
        "import matplotlib.pyplot as plt\n",
        "import seaborn as sns\n",
        "\n",
        "from sklearn.model_selection import train_test_split\n",
        "from sklearn.utils.class_weight import compute_class_weight\n",
        "from sklearn.preprocessing import LabelEncoder\n",
        "from sklearn.metrics import confusion_matrix, classification_report\n",
        "\n",
        "import tensorflow as tf\n",
        "from tensorflow import keras\n",
        "from tensorflow.keras.layers import (\n",
        "    Flatten, Dense, Conv2D, MaxPooling2D, BatchNormalization, Dropout, \n",
        "    InputLayer, GlobalAveragePooling2D, AveragePooling2D\n",
        ")\n",
        "from tensorflow.keras.regularizers import l2\n",
        "from tensorflow.keras.utils import to_categorical\n",
        "from keras.callbacks import EarlyStopping\n"
      ]
    },
    {
      "cell_type": "code",
      "execution_count": 3,
      "metadata": {
        "colab": {
          "base_uri": "https://localhost:8080/"
        },
        "id": "NZKNhx8x_1jq",
        "outputId": "e564096b-b86e-4512-c0b2-35aed80e84dc"
      },
      "outputs": [
        {
          "name": "stdout",
          "output_type": "stream",
          "text": [
            "2.18.0\n"
          ]
        }
      ],
      "source": [
        "print(tf.__version__)"
      ]
    },
    {
      "cell_type": "code",
      "execution_count": 4,
      "metadata": {
        "id": "4Se2Y1iRrzxT"
      },
      "outputs": [],
      "source": [
        "# Modify GPU memory allocator to try to prevent full GPU memory.\n",
        "# This can in some cases be counter productive!\n",
        "os.environ['TF_GPU_ALLOCATOR'] = 'cuda_malloc_async'"
      ]
    },
    {
      "cell_type": "markdown",
      "metadata": {},
      "source": [
        "### Connect to Google Drive"
      ]
    },
    {
      "cell_type": "code",
      "execution_count": 5,
      "metadata": {},
      "outputs": [],
      "source": [
        "#from google.colab import drive\n",
        "#drive.mount('/content/drive')"
      ]
    },
    {
      "cell_type": "markdown",
      "metadata": {
        "id": "2VULHpvbVl0N"
      },
      "source": [
        "# Helper Functions"
      ]
    },
    {
      "cell_type": "code",
      "execution_count": 6,
      "metadata": {
        "id": "ymcbpqPdLJxW"
      },
      "outputs": [],
      "source": [
        "def get_file_size(file_path):\n",
        "    size = os.path.getsize(file_path)\n",
        "    return size"
      ]
    },
    {
      "cell_type": "code",
      "execution_count": 7,
      "metadata": {
        "id": "_vfRLdF_LKUK"
      },
      "outputs": [],
      "source": [
        "def convert_bytes(size, unit=None):\n",
        "    if unit == \"KB\":\n",
        "        return print('File size: ' + str(round(size / 1024, 3)) + ' Kilobytes')\n",
        "    elif unit == \"MB\":\n",
        "        return print('File size: ' + str(round(size / (1024 * 1024), 3)) + ' Megabytes')\n",
        "    else:\n",
        "        return print('File size: ' + str(size) + ' bytes')"
      ]
    },
    {
      "cell_type": "markdown",
      "metadata": {
        "id": "ArL366zjd4Xc"
      },
      "source": [
        "# Importa Data"
      ]
    },
    {
      "cell_type": "code",
      "execution_count": 8,
      "metadata": {
        "id": "ieeCS0L0d4Xd"
      },
      "outputs": [],
      "source": [
        "df = pd.read_csv(DATASET_PATH, header=None)                     # Note that these should be no header present.\n",
        "dataset = df.iloc[:, :-1].to_numpy(dtype=np.float32)            # All but last column as float32 (required by MCU)\n",
        "labels_set = df.iloc[:, -1].to_numpy(dtype=str)                 # Last column as string"
      ]
    },
    {
      "cell_type": "code",
      "execution_count": 9,
      "metadata": {
        "colab": {
          "base_uri": "https://localhost:8080/"
        },
        "id": "mIH5p603d4Xd",
        "outputId": "bc4027f5-3dd3-4b1b-dbb6-4c6114530018"
      },
      "outputs": [
        {
          "name": "stdout",
          "output_type": "stream",
          "text": [
            "Dataset shape: (583554, 40, 16, 1)\n",
            "Labels shape: (583554,)\n",
            "Input shape: (40, 16, 1)\n"
          ]
        }
      ],
      "source": [
        "dataset = dataset.reshape(dataset.shape[0], INPUT_SHAPE[0], INPUT_SHAPE[1], INPUT_SHAPE[2])\n",
        "\n",
        "print(f\"Dataset shape: {dataset.shape}\")\n",
        "print(f\"Labels shape: {labels_set.shape}\")\n",
        "print(f\"Input shape: {INPUT_SHAPE}\")"
      ]
    },
    {
      "cell_type": "code",
      "execution_count": 10,
      "metadata": {
        "colab": {
          "base_uri": "https://localhost:8080/"
        },
        "id": "Ap-ud1Jbd4Xe",
        "outputId": "7491ac03-1445-4b7f-a5c6-73a509b617fa"
      },
      "outputs": [
        {
          "name": "stdout",
          "output_type": "stream",
          "text": [
            "Training set length: 373474\n",
            "Validation set length: 93369\n",
            "Testing set length: 116711\n"
          ]
        }
      ],
      "source": [
        "x_train, x_test, y_train, y_test = train_test_split(dataset, labels_set, test_size=0.2, random_state=42, stratify=labels_set)\n",
        "x_train, x_val, y_train, y_val = train_test_split(x_train, y_train, test_size=0.2, random_state=42, stratify=y_train)\n",
        "\n",
        "# Print the lengths of the training, validation, and testing sets.\n",
        "print(f\"Training set length: {len(x_train)}\")\n",
        "print(f\"Validation set length: {len(x_val)}\")\n",
        "print(f\"Testing set length: {len(x_test)}\")"
      ]
    },
    {
      "cell_type": "code",
      "execution_count": 11,
      "metadata": {
        "id": "e2p_MTiid4Xf"
      },
      "outputs": [],
      "source": [
        "# Calculate class weights (based on training data).\n",
        "class_weight = compute_class_weight('balanced', classes=np.unique(y_train), y=y_train)\n",
        "dist_class_weight = dict(enumerate(class_weight))"
      ]
    },
    {
      "cell_type": "code",
      "execution_count": 12,
      "metadata": {
        "colab": {
          "base_uri": "https://localhost:8080/"
        },
        "id": "10khbK5Qd4Xf",
        "outputId": "87dcb6fb-b159-42aa-c0fb-bf15d873c5e9"
      },
      "outputs": [
        {
          "name": "stdout",
          "output_type": "stream",
          "text": [
            "Classes: ['Background_noise' 'Car' 'Commercial_vehicles' 'Motorcycle']\n",
            "Class weights: {0: np.float64(2.8794331709122307), 1: np.float64(1.070813358717343), 2: np.float64(0.5228619268418341), 3: np.float64(1.2402499933583062)}\n",
            "Training class distribution: {np.str_('Background_noise'): np.int64(32426), np.str_('Car'): np.int64(87194), np.str_('Commercial_vehicles'): np.int64(178572), np.str_('Motorcycle'): np.int64(75282)}\n"
          ]
        }
      ],
      "source": [
        "print(f\"Classes: {np.unique(labels_set)}\")\n",
        "print(f\"Class weights: {dist_class_weight}\")\n",
        "\n",
        "# Print out the amount of each class.\n",
        "unique, counts = np.unique(y_train, return_counts=True)\n",
        "print(f\"Training class distribution: {dict(zip(unique, counts))}\")"
      ]
    },
    {
      "cell_type": "code",
      "execution_count": 13,
      "metadata": {
        "id": "qEXSIf2Qd4Xh"
      },
      "outputs": [],
      "source": [
        "# Hot end code the labels.\n",
        "label_encoder = LabelEncoder()\n",
        "y_train = to_categorical(label_encoder.fit_transform(y_train))\n",
        "y_test = to_categorical(label_encoder.fit_transform(y_test))\n",
        "y_val = to_categorical(label_encoder.fit_transform(y_val))"
      ]
    },
    {
      "cell_type": "markdown",
      "metadata": {
        "id": "59veuiEZCaW4"
      },
      "source": [
        "## Model\n"
      ]
    },
    {
      "cell_type": "markdown",
      "metadata": {
        "id": "ZCxFDXesrzxc"
      },
      "source": [
        "### Helper Functions"
      ]
    },
    {
      "cell_type": "code",
      "execution_count": 14,
      "metadata": {
        "id": "8preOUYXd4Xk"
      },
      "outputs": [],
      "source": [
        "def compileModel(model, learning_rate = 0.001):\n",
        "    model.compile(\n",
        "        optimizer=tf.keras.optimizers.Adam(learning_rate=learning_rate),\n",
        "        loss = tf.keras.losses.CategoricalCrossentropy(),\n",
        "        metrics=['categorical_accuracy']\n",
        "    )\n",
        "    model.summary()"
      ]
    },
    {
      "cell_type": "code",
      "execution_count": 15,
      "metadata": {
        "id": "7Wm8zfrvveeJ"
      },
      "outputs": [],
      "source": [
        "# Print training history\n",
        "# Function used for printing two plots, one for accuracy and one for loss.\n",
        "# To be used with the history object from the fit method\n",
        "def printHistory(history):\n",
        "  # Collect the number of epochs run based on the amount of loss value under history.\n",
        "  epochs = len(history.history['loss'])\n",
        "\n",
        "  epochrange = range(1, epochs + 1)\n",
        "  train_acc = history.history['categorical_accuracy']\n",
        "  val_acc = history.history['val_categorical_accuracy']\n",
        "\n",
        "  train_loss = history.history['loss']\n",
        "  val_loss = history.history['val_loss']\n",
        "\n",
        "  plt.plot(epochrange, train_acc, 'bo', label='Training acc')\n",
        "  plt.plot(epochrange, val_acc, 'b', label='Validation acc')\n",
        "  plt.title('Training and validation accuracy (modell 1)')\n",
        "  plt.xlabel('Epochs')\n",
        "  plt.ylabel('Accuracy')\n",
        "  plt.legend()\n",
        "  plt.show()\n",
        "\n",
        "  plt.plot(epochrange, train_loss, 'bo', label='Training loss')\n",
        "  plt.plot(epochrange, val_loss, 'b', label='Validation loss')\n",
        "  plt.title('Training and validation loss (modell 1)')\n",
        "  plt.xlabel('Epochs')\n",
        "  plt.ylabel('Loss')\n",
        "  plt.legend()\n",
        "  plt.show()"
      ]
    },
    {
      "cell_type": "code",
      "execution_count": 16,
      "metadata": {
        "id": "PF_VyRPKrzxd"
      },
      "outputs": [],
      "source": [
        "def printConfusionMatrix(model, x_test, y_test, labels_set):\n",
        "    y_train_int = np.argmax(y_train, axis=1)  # Convert one-hot to integer labels for y_train\n",
        "    y_test_int = np.argmax(y_test, axis=1)  # Convert one-hot to integer labels for y_test\n",
        "\n",
        "    y_pred_prob = model.predict(x_test)\n",
        "\n",
        "    y_pred = np.argmax(y_pred_prob, axis=1)  # Convert softmax probabilities to class indices\n",
        "\n",
        "    # Ensure that the labels are in 1D arrays (class indices) before passing to confusion_matrix\n",
        "    print(f\"y_train_int shape: {y_train_int.shape}\")\n",
        "    print(f\"y_test_int shape: {y_test_int.shape}\")\n",
        "    print(f\"y_pred shape: {y_pred.shape}\")\n",
        "\n",
        "    # Define your class labels (ensure they match the number of classes)\n",
        "    class_names = np.unique(labels_set)  # Assuming labels_set contains class names\n",
        "\n",
        "    # Generate confusion matrix\n",
        "    cm = confusion_matrix(y_test_int, y_pred)\n",
        "\n",
        "    # Visualize the confusion matrix with proper labels\n",
        "    plt.figure(figsize=(10, 7))\n",
        "    sns.heatmap(cm, annot=True, fmt='d', cmap='Blues', xticklabels=class_names, yticklabels=class_names)\n",
        "    plt.xlabel('Predicted')\n",
        "    plt.ylabel('True')\n",
        "    plt.title('Confusion Matrix')\n",
        "    plt.show()"
      ]
    },
    {
      "cell_type": "code",
      "execution_count": 17,
      "metadata": {
        "id": "FztgpcUvtoHU"
      },
      "outputs": [],
      "source": [
        "# Fit model function used for convinience when fitting the model multiple times\n",
        "def fitModel(model, x_train, y_train, x_val, y_val, epochs, doPrintHistory, class_weight, verbose, batch_size):\n",
        "\n",
        "    # Define early stopping callback.\n",
        "    early_stopping = EarlyStopping(monitor='val_loss', patience=7, restore_best_weights=True)\n",
        "\n",
        "    history = model.fit(\n",
        "        x=x_train,\n",
        "        y=y_train,\n",
        "        validation_data=(x_val, y_val),\n",
        "        epochs=epochs,\n",
        "        verbose=verbose,\n",
        "        class_weight=class_weight,\n",
        "        batch_size=batch_size,\n",
        "        callbacks=[early_stopping],\n",
        "    )\n",
        "    # Print history\n",
        "    if doPrintHistory: printHistory(history)"
      ]
    },
    {
      "cell_type": "code",
      "execution_count": 18,
      "metadata": {},
      "outputs": [],
      "source": [
        "def evaluate_tflite_model(model_path, x_test, y_test):\n",
        "\n",
        "  interpreter = tf.lite.Interpreter(model_path)\n",
        "  interpreter.allocate_tensors()\n",
        "\n",
        "  input_details = interpreter.get_input_details()\n",
        "  output_details = interpreter.get_output_details()\n",
        "\n",
        "  predictions = []\n",
        "  for i in range(len(x_test)):\n",
        "    # Set the input tensor.\n",
        "    interpreter.set_tensor(input_details[0]['index'], [x_test[i]])\n",
        "\n",
        "    # Run inference.\n",
        "    interpreter.invoke()\n",
        "\n",
        "    # Get the output tensor.\n",
        "    output_data = interpreter.get_tensor(output_details[0]['index'])\n",
        "    predictions.append(output_data)\n",
        "\n",
        "  # Convert predictions to class labels\n",
        "  predicted_labels = [np.argmax(prediction[0]) for prediction in predictions]\n",
        "  true_labels = [np.argmax(label) for label in y_test]\n",
        "\n",
        "  # Calculate accuracy\n",
        "  correct_predictions = sum([1 for true, predicted in zip(true_labels, predicted_labels) if true == predicted])\n",
        "  accuracy = correct_predictions / len(true_labels)\n",
        "\n",
        "  # Print the accuracy\n",
        "  print(f\"Accuracy: {accuracy}\")\n",
        "\n",
        "  # Print a classification report\n",
        "  print(classification_report(true_labels, predicted_labels))"
      ]
    },
    {
      "cell_type": "markdown",
      "metadata": {
        "id": "5TYhCf6krzxd"
      },
      "source": [
        "### Create, train, compile, test"
      ]
    },
    {
      "cell_type": "code",
      "execution_count": 19,
      "metadata": {
        "id": "9ODch-OFCaW4"
      },
      "outputs": [
        {
          "name": "stderr",
          "output_type": "stream",
          "text": [
            "2025-03-28 00:24:30.547521: E external/local_xla/xla/stream_executor/cuda/cuda_driver.cc:152] failed call to cuInit: INTERNAL: CUDA error: Failed call to cuInit: CUDA_ERROR_UNKNOWN: unknown error\n",
            "2025-03-28 00:24:30.547553: I external/local_xla/xla/stream_executor/cuda/cuda_diagnostics.cc:137] retrieving CUDA diagnostic information for host: Mellon\n",
            "2025-03-28 00:24:30.547563: I external/local_xla/xla/stream_executor/cuda/cuda_diagnostics.cc:144] hostname: Mellon\n",
            "2025-03-28 00:24:30.547689: I external/local_xla/xla/stream_executor/cuda/cuda_diagnostics.cc:168] libcuda reported version is: 550.120.0\n",
            "2025-03-28 00:24:30.547717: I external/local_xla/xla/stream_executor/cuda/cuda_diagnostics.cc:172] kernel reported version is: 550.120.0\n",
            "2025-03-28 00:24:30.547726: I external/local_xla/xla/stream_executor/cuda/cuda_diagnostics.cc:259] kernel version seems to match DSO: 550.120.0\n"
          ]
        }
      ],
      "source": [
        "\n",
        "\n",
        "model = keras.Sequential([\n",
        "    InputLayer(shape=INPUT_SHAPE),\n",
        "\n",
        "    Conv2D(filters=32, kernel_size=3, activation=\"relu\", padding='same'),\n",
        "    BatchNormalization(),\n",
        "    Conv2D(filters=32, kernel_size=3, activation=\"relu\", padding='same'),\n",
        "    BatchNormalization(),\n",
        "    MaxPooling2D(),\n",
        "    \n",
        "    Conv2D(filters=32, kernel_size=3, activation=\"relu\", padding='same'),\n",
        "    BatchNormalization(),\n",
        "    Conv2D(filters=32, kernel_size=3, activation=\"relu\", padding='same'),\n",
        "    BatchNormalization(),\n",
        "    MaxPooling2D(),\n",
        "    \n",
        "    Conv2D(filters=64, kernel_size=3, activation=\"relu\", padding='same'),\n",
        "    BatchNormalization(),\n",
        "    Conv2D(filters=64, kernel_size=3, activation=\"relu\", padding='same'),\n",
        "    BatchNormalization(),\n",
        "    MaxPooling2D(),\n",
        "    \n",
        "    Conv2D(filters=64, kernel_size=3, activation=\"relu\", padding='same'),\n",
        "    BatchNormalization(),\n",
        "    Conv2D(filters=64, kernel_size=3, activation=\"relu\", padding='same'),\n",
        "    MaxPooling2D(),\n",
        "\n",
        "    # Feature Pooling (Combining Max & Average Pooling)\n",
        "    Flatten(),\n",
        "\n",
        "    # Fully Connected Layer\n",
        "    Dense(64, activation=\"relu\", kernel_regularizer=l2(0.001)),\n",
        "    Dense(32, activation=\"relu\", kernel_regularizer=l2(0.001)),\n",
        "\n",
        "    # Output Layer (Softmax for multi-class classification)\n",
        "    Dense(units=len(np.unique(labels_set)), activation=\"softmax\") # Softmax barely increase size.\n",
        "])"
      ]
    },
    {
      "cell_type": "code",
      "execution_count": 20,
      "metadata": {
        "colab": {
          "base_uri": "https://localhost:8080/",
          "height": 374
        },
        "id": "xvwvpA64CaW_",
        "outputId": "01ae9c32-9bf0-4ce0-bb48-5c51c0afb89c"
      },
      "outputs": [
        {
          "data": {
            "text/html": [
              "<pre style=\"white-space:pre;overflow-x:auto;line-height:normal;font-family:Menlo,'DejaVu Sans Mono',consolas,'Courier New',monospace\"><span style=\"font-weight: bold\">Model: \"sequential\"</span>\n",
              "</pre>\n"
            ],
            "text/plain": [
              "\u001b[1mModel: \"sequential\"\u001b[0m\n"
            ]
          },
          "metadata": {},
          "output_type": "display_data"
        },
        {
          "data": {
            "text/html": [
              "<pre style=\"white-space:pre;overflow-x:auto;line-height:normal;font-family:Menlo,'DejaVu Sans Mono',consolas,'Courier New',monospace\">┏━━━━━━━━━━━━━━━━━━━━━━━━━━━━━━━━━┳━━━━━━━━━━━━━━━━━━━━━━━━┳━━━━━━━━━━━━━━━┓\n",
              "┃<span style=\"font-weight: bold\"> Layer (type)                    </span>┃<span style=\"font-weight: bold\"> Output Shape           </span>┃<span style=\"font-weight: bold\">       Param # </span>┃\n",
              "┡━━━━━━━━━━━━━━━━━━━━━━━━━━━━━━━━━╇━━━━━━━━━━━━━━━━━━━━━━━━╇━━━━━━━━━━━━━━━┩\n",
              "│ conv2d (<span style=\"color: #0087ff; text-decoration-color: #0087ff\">Conv2D</span>)                 │ (<span style=\"color: #00d7ff; text-decoration-color: #00d7ff\">None</span>, <span style=\"color: #00af00; text-decoration-color: #00af00\">40</span>, <span style=\"color: #00af00; text-decoration-color: #00af00\">16</span>, <span style=\"color: #00af00; text-decoration-color: #00af00\">32</span>)     │           <span style=\"color: #00af00; text-decoration-color: #00af00\">320</span> │\n",
              "├─────────────────────────────────┼────────────────────────┼───────────────┤\n",
              "│ batch_normalization             │ (<span style=\"color: #00d7ff; text-decoration-color: #00d7ff\">None</span>, <span style=\"color: #00af00; text-decoration-color: #00af00\">40</span>, <span style=\"color: #00af00; text-decoration-color: #00af00\">16</span>, <span style=\"color: #00af00; text-decoration-color: #00af00\">32</span>)     │           <span style=\"color: #00af00; text-decoration-color: #00af00\">128</span> │\n",
              "│ (<span style=\"color: #0087ff; text-decoration-color: #0087ff\">BatchNormalization</span>)            │                        │               │\n",
              "├─────────────────────────────────┼────────────────────────┼───────────────┤\n",
              "│ conv2d_1 (<span style=\"color: #0087ff; text-decoration-color: #0087ff\">Conv2D</span>)               │ (<span style=\"color: #00d7ff; text-decoration-color: #00d7ff\">None</span>, <span style=\"color: #00af00; text-decoration-color: #00af00\">40</span>, <span style=\"color: #00af00; text-decoration-color: #00af00\">16</span>, <span style=\"color: #00af00; text-decoration-color: #00af00\">32</span>)     │         <span style=\"color: #00af00; text-decoration-color: #00af00\">9,248</span> │\n",
              "├─────────────────────────────────┼────────────────────────┼───────────────┤\n",
              "│ batch_normalization_1           │ (<span style=\"color: #00d7ff; text-decoration-color: #00d7ff\">None</span>, <span style=\"color: #00af00; text-decoration-color: #00af00\">40</span>, <span style=\"color: #00af00; text-decoration-color: #00af00\">16</span>, <span style=\"color: #00af00; text-decoration-color: #00af00\">32</span>)     │           <span style=\"color: #00af00; text-decoration-color: #00af00\">128</span> │\n",
              "│ (<span style=\"color: #0087ff; text-decoration-color: #0087ff\">BatchNormalization</span>)            │                        │               │\n",
              "├─────────────────────────────────┼────────────────────────┼───────────────┤\n",
              "│ max_pooling2d (<span style=\"color: #0087ff; text-decoration-color: #0087ff\">MaxPooling2D</span>)    │ (<span style=\"color: #00d7ff; text-decoration-color: #00d7ff\">None</span>, <span style=\"color: #00af00; text-decoration-color: #00af00\">20</span>, <span style=\"color: #00af00; text-decoration-color: #00af00\">8</span>, <span style=\"color: #00af00; text-decoration-color: #00af00\">32</span>)      │             <span style=\"color: #00af00; text-decoration-color: #00af00\">0</span> │\n",
              "├─────────────────────────────────┼────────────────────────┼───────────────┤\n",
              "│ conv2d_2 (<span style=\"color: #0087ff; text-decoration-color: #0087ff\">Conv2D</span>)               │ (<span style=\"color: #00d7ff; text-decoration-color: #00d7ff\">None</span>, <span style=\"color: #00af00; text-decoration-color: #00af00\">20</span>, <span style=\"color: #00af00; text-decoration-color: #00af00\">8</span>, <span style=\"color: #00af00; text-decoration-color: #00af00\">32</span>)      │         <span style=\"color: #00af00; text-decoration-color: #00af00\">9,248</span> │\n",
              "├─────────────────────────────────┼────────────────────────┼───────────────┤\n",
              "│ batch_normalization_2           │ (<span style=\"color: #00d7ff; text-decoration-color: #00d7ff\">None</span>, <span style=\"color: #00af00; text-decoration-color: #00af00\">20</span>, <span style=\"color: #00af00; text-decoration-color: #00af00\">8</span>, <span style=\"color: #00af00; text-decoration-color: #00af00\">32</span>)      │           <span style=\"color: #00af00; text-decoration-color: #00af00\">128</span> │\n",
              "│ (<span style=\"color: #0087ff; text-decoration-color: #0087ff\">BatchNormalization</span>)            │                        │               │\n",
              "├─────────────────────────────────┼────────────────────────┼───────────────┤\n",
              "│ conv2d_3 (<span style=\"color: #0087ff; text-decoration-color: #0087ff\">Conv2D</span>)               │ (<span style=\"color: #00d7ff; text-decoration-color: #00d7ff\">None</span>, <span style=\"color: #00af00; text-decoration-color: #00af00\">20</span>, <span style=\"color: #00af00; text-decoration-color: #00af00\">8</span>, <span style=\"color: #00af00; text-decoration-color: #00af00\">32</span>)      │         <span style=\"color: #00af00; text-decoration-color: #00af00\">9,248</span> │\n",
              "├─────────────────────────────────┼────────────────────────┼───────────────┤\n",
              "│ batch_normalization_3           │ (<span style=\"color: #00d7ff; text-decoration-color: #00d7ff\">None</span>, <span style=\"color: #00af00; text-decoration-color: #00af00\">20</span>, <span style=\"color: #00af00; text-decoration-color: #00af00\">8</span>, <span style=\"color: #00af00; text-decoration-color: #00af00\">32</span>)      │           <span style=\"color: #00af00; text-decoration-color: #00af00\">128</span> │\n",
              "│ (<span style=\"color: #0087ff; text-decoration-color: #0087ff\">BatchNormalization</span>)            │                        │               │\n",
              "├─────────────────────────────────┼────────────────────────┼───────────────┤\n",
              "│ max_pooling2d_1 (<span style=\"color: #0087ff; text-decoration-color: #0087ff\">MaxPooling2D</span>)  │ (<span style=\"color: #00d7ff; text-decoration-color: #00d7ff\">None</span>, <span style=\"color: #00af00; text-decoration-color: #00af00\">10</span>, <span style=\"color: #00af00; text-decoration-color: #00af00\">4</span>, <span style=\"color: #00af00; text-decoration-color: #00af00\">32</span>)      │             <span style=\"color: #00af00; text-decoration-color: #00af00\">0</span> │\n",
              "├─────────────────────────────────┼────────────────────────┼───────────────┤\n",
              "│ conv2d_4 (<span style=\"color: #0087ff; text-decoration-color: #0087ff\">Conv2D</span>)               │ (<span style=\"color: #00d7ff; text-decoration-color: #00d7ff\">None</span>, <span style=\"color: #00af00; text-decoration-color: #00af00\">10</span>, <span style=\"color: #00af00; text-decoration-color: #00af00\">4</span>, <span style=\"color: #00af00; text-decoration-color: #00af00\">64</span>)      │        <span style=\"color: #00af00; text-decoration-color: #00af00\">18,496</span> │\n",
              "├─────────────────────────────────┼────────────────────────┼───────────────┤\n",
              "│ batch_normalization_4           │ (<span style=\"color: #00d7ff; text-decoration-color: #00d7ff\">None</span>, <span style=\"color: #00af00; text-decoration-color: #00af00\">10</span>, <span style=\"color: #00af00; text-decoration-color: #00af00\">4</span>, <span style=\"color: #00af00; text-decoration-color: #00af00\">64</span>)      │           <span style=\"color: #00af00; text-decoration-color: #00af00\">256</span> │\n",
              "│ (<span style=\"color: #0087ff; text-decoration-color: #0087ff\">BatchNormalization</span>)            │                        │               │\n",
              "├─────────────────────────────────┼────────────────────────┼───────────────┤\n",
              "│ conv2d_5 (<span style=\"color: #0087ff; text-decoration-color: #0087ff\">Conv2D</span>)               │ (<span style=\"color: #00d7ff; text-decoration-color: #00d7ff\">None</span>, <span style=\"color: #00af00; text-decoration-color: #00af00\">10</span>, <span style=\"color: #00af00; text-decoration-color: #00af00\">4</span>, <span style=\"color: #00af00; text-decoration-color: #00af00\">64</span>)      │        <span style=\"color: #00af00; text-decoration-color: #00af00\">36,928</span> │\n",
              "├─────────────────────────────────┼────────────────────────┼───────────────┤\n",
              "│ batch_normalization_5           │ (<span style=\"color: #00d7ff; text-decoration-color: #00d7ff\">None</span>, <span style=\"color: #00af00; text-decoration-color: #00af00\">10</span>, <span style=\"color: #00af00; text-decoration-color: #00af00\">4</span>, <span style=\"color: #00af00; text-decoration-color: #00af00\">64</span>)      │           <span style=\"color: #00af00; text-decoration-color: #00af00\">256</span> │\n",
              "│ (<span style=\"color: #0087ff; text-decoration-color: #0087ff\">BatchNormalization</span>)            │                        │               │\n",
              "├─────────────────────────────────┼────────────────────────┼───────────────┤\n",
              "│ max_pooling2d_2 (<span style=\"color: #0087ff; text-decoration-color: #0087ff\">MaxPooling2D</span>)  │ (<span style=\"color: #00d7ff; text-decoration-color: #00d7ff\">None</span>, <span style=\"color: #00af00; text-decoration-color: #00af00\">5</span>, <span style=\"color: #00af00; text-decoration-color: #00af00\">2</span>, <span style=\"color: #00af00; text-decoration-color: #00af00\">64</span>)       │             <span style=\"color: #00af00; text-decoration-color: #00af00\">0</span> │\n",
              "├─────────────────────────────────┼────────────────────────┼───────────────┤\n",
              "│ conv2d_6 (<span style=\"color: #0087ff; text-decoration-color: #0087ff\">Conv2D</span>)               │ (<span style=\"color: #00d7ff; text-decoration-color: #00d7ff\">None</span>, <span style=\"color: #00af00; text-decoration-color: #00af00\">5</span>, <span style=\"color: #00af00; text-decoration-color: #00af00\">2</span>, <span style=\"color: #00af00; text-decoration-color: #00af00\">64</span>)       │        <span style=\"color: #00af00; text-decoration-color: #00af00\">36,928</span> │\n",
              "├─────────────────────────────────┼────────────────────────┼───────────────┤\n",
              "│ batch_normalization_6           │ (<span style=\"color: #00d7ff; text-decoration-color: #00d7ff\">None</span>, <span style=\"color: #00af00; text-decoration-color: #00af00\">5</span>, <span style=\"color: #00af00; text-decoration-color: #00af00\">2</span>, <span style=\"color: #00af00; text-decoration-color: #00af00\">64</span>)       │           <span style=\"color: #00af00; text-decoration-color: #00af00\">256</span> │\n",
              "│ (<span style=\"color: #0087ff; text-decoration-color: #0087ff\">BatchNormalization</span>)            │                        │               │\n",
              "├─────────────────────────────────┼────────────────────────┼───────────────┤\n",
              "│ conv2d_7 (<span style=\"color: #0087ff; text-decoration-color: #0087ff\">Conv2D</span>)               │ (<span style=\"color: #00d7ff; text-decoration-color: #00d7ff\">None</span>, <span style=\"color: #00af00; text-decoration-color: #00af00\">5</span>, <span style=\"color: #00af00; text-decoration-color: #00af00\">2</span>, <span style=\"color: #00af00; text-decoration-color: #00af00\">64</span>)       │        <span style=\"color: #00af00; text-decoration-color: #00af00\">36,928</span> │\n",
              "├─────────────────────────────────┼────────────────────────┼───────────────┤\n",
              "│ max_pooling2d_3 (<span style=\"color: #0087ff; text-decoration-color: #0087ff\">MaxPooling2D</span>)  │ (<span style=\"color: #00d7ff; text-decoration-color: #00d7ff\">None</span>, <span style=\"color: #00af00; text-decoration-color: #00af00\">2</span>, <span style=\"color: #00af00; text-decoration-color: #00af00\">1</span>, <span style=\"color: #00af00; text-decoration-color: #00af00\">64</span>)       │             <span style=\"color: #00af00; text-decoration-color: #00af00\">0</span> │\n",
              "├─────────────────────────────────┼────────────────────────┼───────────────┤\n",
              "│ flatten (<span style=\"color: #0087ff; text-decoration-color: #0087ff\">Flatten</span>)               │ (<span style=\"color: #00d7ff; text-decoration-color: #00d7ff\">None</span>, <span style=\"color: #00af00; text-decoration-color: #00af00\">128</span>)            │             <span style=\"color: #00af00; text-decoration-color: #00af00\">0</span> │\n",
              "├─────────────────────────────────┼────────────────────────┼───────────────┤\n",
              "│ dense (<span style=\"color: #0087ff; text-decoration-color: #0087ff\">Dense</span>)                   │ (<span style=\"color: #00d7ff; text-decoration-color: #00d7ff\">None</span>, <span style=\"color: #00af00; text-decoration-color: #00af00\">64</span>)             │         <span style=\"color: #00af00; text-decoration-color: #00af00\">8,256</span> │\n",
              "├─────────────────────────────────┼────────────────────────┼───────────────┤\n",
              "│ dense_1 (<span style=\"color: #0087ff; text-decoration-color: #0087ff\">Dense</span>)                 │ (<span style=\"color: #00d7ff; text-decoration-color: #00d7ff\">None</span>, <span style=\"color: #00af00; text-decoration-color: #00af00\">32</span>)             │         <span style=\"color: #00af00; text-decoration-color: #00af00\">2,080</span> │\n",
              "├─────────────────────────────────┼────────────────────────┼───────────────┤\n",
              "│ dense_2 (<span style=\"color: #0087ff; text-decoration-color: #0087ff\">Dense</span>)                 │ (<span style=\"color: #00d7ff; text-decoration-color: #00d7ff\">None</span>, <span style=\"color: #00af00; text-decoration-color: #00af00\">4</span>)              │           <span style=\"color: #00af00; text-decoration-color: #00af00\">132</span> │\n",
              "└─────────────────────────────────┴────────────────────────┴───────────────┘\n",
              "</pre>\n"
            ],
            "text/plain": [
              "┏━━━━━━━━━━━━━━━━━━━━━━━━━━━━━━━━━┳━━━━━━━━━━━━━━━━━━━━━━━━┳━━━━━━━━━━━━━━━┓\n",
              "┃\u001b[1m \u001b[0m\u001b[1mLayer (type)                   \u001b[0m\u001b[1m \u001b[0m┃\u001b[1m \u001b[0m\u001b[1mOutput Shape          \u001b[0m\u001b[1m \u001b[0m┃\u001b[1m \u001b[0m\u001b[1m      Param #\u001b[0m\u001b[1m \u001b[0m┃\n",
              "┡━━━━━━━━━━━━━━━━━━━━━━━━━━━━━━━━━╇━━━━━━━━━━━━━━━━━━━━━━━━╇━━━━━━━━━━━━━━━┩\n",
              "│ conv2d (\u001b[38;5;33mConv2D\u001b[0m)                 │ (\u001b[38;5;45mNone\u001b[0m, \u001b[38;5;34m40\u001b[0m, \u001b[38;5;34m16\u001b[0m, \u001b[38;5;34m32\u001b[0m)     │           \u001b[38;5;34m320\u001b[0m │\n",
              "├─────────────────────────────────┼────────────────────────┼───────────────┤\n",
              "│ batch_normalization             │ (\u001b[38;5;45mNone\u001b[0m, \u001b[38;5;34m40\u001b[0m, \u001b[38;5;34m16\u001b[0m, \u001b[38;5;34m32\u001b[0m)     │           \u001b[38;5;34m128\u001b[0m │\n",
              "│ (\u001b[38;5;33mBatchNormalization\u001b[0m)            │                        │               │\n",
              "├─────────────────────────────────┼────────────────────────┼───────────────┤\n",
              "│ conv2d_1 (\u001b[38;5;33mConv2D\u001b[0m)               │ (\u001b[38;5;45mNone\u001b[0m, \u001b[38;5;34m40\u001b[0m, \u001b[38;5;34m16\u001b[0m, \u001b[38;5;34m32\u001b[0m)     │         \u001b[38;5;34m9,248\u001b[0m │\n",
              "├─────────────────────────────────┼────────────────────────┼───────────────┤\n",
              "│ batch_normalization_1           │ (\u001b[38;5;45mNone\u001b[0m, \u001b[38;5;34m40\u001b[0m, \u001b[38;5;34m16\u001b[0m, \u001b[38;5;34m32\u001b[0m)     │           \u001b[38;5;34m128\u001b[0m │\n",
              "│ (\u001b[38;5;33mBatchNormalization\u001b[0m)            │                        │               │\n",
              "├─────────────────────────────────┼────────────────────────┼───────────────┤\n",
              "│ max_pooling2d (\u001b[38;5;33mMaxPooling2D\u001b[0m)    │ (\u001b[38;5;45mNone\u001b[0m, \u001b[38;5;34m20\u001b[0m, \u001b[38;5;34m8\u001b[0m, \u001b[38;5;34m32\u001b[0m)      │             \u001b[38;5;34m0\u001b[0m │\n",
              "├─────────────────────────────────┼────────────────────────┼───────────────┤\n",
              "│ conv2d_2 (\u001b[38;5;33mConv2D\u001b[0m)               │ (\u001b[38;5;45mNone\u001b[0m, \u001b[38;5;34m20\u001b[0m, \u001b[38;5;34m8\u001b[0m, \u001b[38;5;34m32\u001b[0m)      │         \u001b[38;5;34m9,248\u001b[0m │\n",
              "├─────────────────────────────────┼────────────────────────┼───────────────┤\n",
              "│ batch_normalization_2           │ (\u001b[38;5;45mNone\u001b[0m, \u001b[38;5;34m20\u001b[0m, \u001b[38;5;34m8\u001b[0m, \u001b[38;5;34m32\u001b[0m)      │           \u001b[38;5;34m128\u001b[0m │\n",
              "│ (\u001b[38;5;33mBatchNormalization\u001b[0m)            │                        │               │\n",
              "├─────────────────────────────────┼────────────────────────┼───────────────┤\n",
              "│ conv2d_3 (\u001b[38;5;33mConv2D\u001b[0m)               │ (\u001b[38;5;45mNone\u001b[0m, \u001b[38;5;34m20\u001b[0m, \u001b[38;5;34m8\u001b[0m, \u001b[38;5;34m32\u001b[0m)      │         \u001b[38;5;34m9,248\u001b[0m │\n",
              "├─────────────────────────────────┼────────────────────────┼───────────────┤\n",
              "│ batch_normalization_3           │ (\u001b[38;5;45mNone\u001b[0m, \u001b[38;5;34m20\u001b[0m, \u001b[38;5;34m8\u001b[0m, \u001b[38;5;34m32\u001b[0m)      │           \u001b[38;5;34m128\u001b[0m │\n",
              "│ (\u001b[38;5;33mBatchNormalization\u001b[0m)            │                        │               │\n",
              "├─────────────────────────────────┼────────────────────────┼───────────────┤\n",
              "│ max_pooling2d_1 (\u001b[38;5;33mMaxPooling2D\u001b[0m)  │ (\u001b[38;5;45mNone\u001b[0m, \u001b[38;5;34m10\u001b[0m, \u001b[38;5;34m4\u001b[0m, \u001b[38;5;34m32\u001b[0m)      │             \u001b[38;5;34m0\u001b[0m │\n",
              "├─────────────────────────────────┼────────────────────────┼───────────────┤\n",
              "│ conv2d_4 (\u001b[38;5;33mConv2D\u001b[0m)               │ (\u001b[38;5;45mNone\u001b[0m, \u001b[38;5;34m10\u001b[0m, \u001b[38;5;34m4\u001b[0m, \u001b[38;5;34m64\u001b[0m)      │        \u001b[38;5;34m18,496\u001b[0m │\n",
              "├─────────────────────────────────┼────────────────────────┼───────────────┤\n",
              "│ batch_normalization_4           │ (\u001b[38;5;45mNone\u001b[0m, \u001b[38;5;34m10\u001b[0m, \u001b[38;5;34m4\u001b[0m, \u001b[38;5;34m64\u001b[0m)      │           \u001b[38;5;34m256\u001b[0m │\n",
              "│ (\u001b[38;5;33mBatchNormalization\u001b[0m)            │                        │               │\n",
              "├─────────────────────────────────┼────────────────────────┼───────────────┤\n",
              "│ conv2d_5 (\u001b[38;5;33mConv2D\u001b[0m)               │ (\u001b[38;5;45mNone\u001b[0m, \u001b[38;5;34m10\u001b[0m, \u001b[38;5;34m4\u001b[0m, \u001b[38;5;34m64\u001b[0m)      │        \u001b[38;5;34m36,928\u001b[0m │\n",
              "├─────────────────────────────────┼────────────────────────┼───────────────┤\n",
              "│ batch_normalization_5           │ (\u001b[38;5;45mNone\u001b[0m, \u001b[38;5;34m10\u001b[0m, \u001b[38;5;34m4\u001b[0m, \u001b[38;5;34m64\u001b[0m)      │           \u001b[38;5;34m256\u001b[0m │\n",
              "│ (\u001b[38;5;33mBatchNormalization\u001b[0m)            │                        │               │\n",
              "├─────────────────────────────────┼────────────────────────┼───────────────┤\n",
              "│ max_pooling2d_2 (\u001b[38;5;33mMaxPooling2D\u001b[0m)  │ (\u001b[38;5;45mNone\u001b[0m, \u001b[38;5;34m5\u001b[0m, \u001b[38;5;34m2\u001b[0m, \u001b[38;5;34m64\u001b[0m)       │             \u001b[38;5;34m0\u001b[0m │\n",
              "├─────────────────────────────────┼────────────────────────┼───────────────┤\n",
              "│ conv2d_6 (\u001b[38;5;33mConv2D\u001b[0m)               │ (\u001b[38;5;45mNone\u001b[0m, \u001b[38;5;34m5\u001b[0m, \u001b[38;5;34m2\u001b[0m, \u001b[38;5;34m64\u001b[0m)       │        \u001b[38;5;34m36,928\u001b[0m │\n",
              "├─────────────────────────────────┼────────────────────────┼───────────────┤\n",
              "│ batch_normalization_6           │ (\u001b[38;5;45mNone\u001b[0m, \u001b[38;5;34m5\u001b[0m, \u001b[38;5;34m2\u001b[0m, \u001b[38;5;34m64\u001b[0m)       │           \u001b[38;5;34m256\u001b[0m │\n",
              "│ (\u001b[38;5;33mBatchNormalization\u001b[0m)            │                        │               │\n",
              "├─────────────────────────────────┼────────────────────────┼───────────────┤\n",
              "│ conv2d_7 (\u001b[38;5;33mConv2D\u001b[0m)               │ (\u001b[38;5;45mNone\u001b[0m, \u001b[38;5;34m5\u001b[0m, \u001b[38;5;34m2\u001b[0m, \u001b[38;5;34m64\u001b[0m)       │        \u001b[38;5;34m36,928\u001b[0m │\n",
              "├─────────────────────────────────┼────────────────────────┼───────────────┤\n",
              "│ max_pooling2d_3 (\u001b[38;5;33mMaxPooling2D\u001b[0m)  │ (\u001b[38;5;45mNone\u001b[0m, \u001b[38;5;34m2\u001b[0m, \u001b[38;5;34m1\u001b[0m, \u001b[38;5;34m64\u001b[0m)       │             \u001b[38;5;34m0\u001b[0m │\n",
              "├─────────────────────────────────┼────────────────────────┼───────────────┤\n",
              "│ flatten (\u001b[38;5;33mFlatten\u001b[0m)               │ (\u001b[38;5;45mNone\u001b[0m, \u001b[38;5;34m128\u001b[0m)            │             \u001b[38;5;34m0\u001b[0m │\n",
              "├─────────────────────────────────┼────────────────────────┼───────────────┤\n",
              "│ dense (\u001b[38;5;33mDense\u001b[0m)                   │ (\u001b[38;5;45mNone\u001b[0m, \u001b[38;5;34m64\u001b[0m)             │         \u001b[38;5;34m8,256\u001b[0m │\n",
              "├─────────────────────────────────┼────────────────────────┼───────────────┤\n",
              "│ dense_1 (\u001b[38;5;33mDense\u001b[0m)                 │ (\u001b[38;5;45mNone\u001b[0m, \u001b[38;5;34m32\u001b[0m)             │         \u001b[38;5;34m2,080\u001b[0m │\n",
              "├─────────────────────────────────┼────────────────────────┼───────────────┤\n",
              "│ dense_2 (\u001b[38;5;33mDense\u001b[0m)                 │ (\u001b[38;5;45mNone\u001b[0m, \u001b[38;5;34m4\u001b[0m)              │           \u001b[38;5;34m132\u001b[0m │\n",
              "└─────────────────────────────────┴────────────────────────┴───────────────┘\n"
            ]
          },
          "metadata": {},
          "output_type": "display_data"
        },
        {
          "data": {
            "text/html": [
              "<pre style=\"white-space:pre;overflow-x:auto;line-height:normal;font-family:Menlo,'DejaVu Sans Mono',consolas,'Courier New',monospace\"><span style=\"font-weight: bold\"> Total params: </span><span style=\"color: #00af00; text-decoration-color: #00af00\">169,092</span> (660.52 KB)\n",
              "</pre>\n"
            ],
            "text/plain": [
              "\u001b[1m Total params: \u001b[0m\u001b[38;5;34m169,092\u001b[0m (660.52 KB)\n"
            ]
          },
          "metadata": {},
          "output_type": "display_data"
        },
        {
          "data": {
            "text/html": [
              "<pre style=\"white-space:pre;overflow-x:auto;line-height:normal;font-family:Menlo,'DejaVu Sans Mono',consolas,'Courier New',monospace\"><span style=\"font-weight: bold\"> Trainable params: </span><span style=\"color: #00af00; text-decoration-color: #00af00\">168,452</span> (658.02 KB)\n",
              "</pre>\n"
            ],
            "text/plain": [
              "\u001b[1m Trainable params: \u001b[0m\u001b[38;5;34m168,452\u001b[0m (658.02 KB)\n"
            ]
          },
          "metadata": {},
          "output_type": "display_data"
        },
        {
          "data": {
            "text/html": [
              "<pre style=\"white-space:pre;overflow-x:auto;line-height:normal;font-family:Menlo,'DejaVu Sans Mono',consolas,'Courier New',monospace\"><span style=\"font-weight: bold\"> Non-trainable params: </span><span style=\"color: #00af00; text-decoration-color: #00af00\">640</span> (2.50 KB)\n",
              "</pre>\n"
            ],
            "text/plain": [
              "\u001b[1m Non-trainable params: \u001b[0m\u001b[38;5;34m640\u001b[0m (2.50 KB)\n"
            ]
          },
          "metadata": {},
          "output_type": "display_data"
        }
      ],
      "source": [
        "compileModel(model)"
      ]
    },
    {
      "cell_type": "code",
      "execution_count": 21,
      "metadata": {
        "colab": {
          "base_uri": "https://localhost:8080/",
          "height": 1000
        },
        "id": "Z7XNMH5Lrzxd",
        "outputId": "3305465a-1651-49e3-d168-caa978d6a4c7"
      },
      "outputs": [
        {
          "name": "stdout",
          "output_type": "stream",
          "text": [
            "Epoch 1/128\n"
          ]
        },
        {
          "name": "stderr",
          "output_type": "stream",
          "text": [
            "2025-03-28 00:24:31.041856: W external/local_xla/xla/tsl/framework/cpu_allocator_impl.cc:83] Allocation of 956093440 exceeds 10% of free system memory.\n"
          ]
        },
        {
          "name": "stdout",
          "output_type": "stream",
          "text": [
            "\u001b[1m5836/5836\u001b[0m \u001b[32m━━━━━━━━━━━━━━━━━━━━\u001b[0m\u001b[37m\u001b[0m \u001b[1m377s\u001b[0m 64ms/step - categorical_accuracy: 0.5084 - loss: 0.9496 - val_categorical_accuracy: 0.6026 - val_loss: 0.8940\n",
            "Epoch 2/128\n",
            "\u001b[1m5836/5836\u001b[0m \u001b[32m━━━━━━━━━━━━━━━━━━━━\u001b[0m\u001b[37m\u001b[0m \u001b[1m373s\u001b[0m 64ms/step - categorical_accuracy: 0.5816 - loss: 0.7757 - val_categorical_accuracy: 0.5603 - val_loss: 0.9304\n",
            "Epoch 3/128\n",
            "\u001b[1m5836/5836\u001b[0m \u001b[32m━━━━━━━━━━━━━━━━━━━━\u001b[0m\u001b[37m\u001b[0m \u001b[1m373s\u001b[0m 64ms/step - categorical_accuracy: 0.6071 - loss: 0.7268 - val_categorical_accuracy: 0.5493 - val_loss: 0.9082\n",
            "Epoch 4/128\n",
            "\u001b[1m5836/5836\u001b[0m \u001b[32m━━━━━━━━━━━━━━━━━━━━\u001b[0m\u001b[37m\u001b[0m \u001b[1m373s\u001b[0m 64ms/step - categorical_accuracy: 0.6270 - loss: 0.6872 - val_categorical_accuracy: 0.6316 - val_loss: 0.7878\n",
            "Epoch 5/128\n",
            "\u001b[1m5836/5836\u001b[0m \u001b[32m━━━━━━━━━━━━━━━━━━━━\u001b[0m\u001b[37m\u001b[0m \u001b[1m374s\u001b[0m 64ms/step - categorical_accuracy: 0.6506 - loss: 0.6481 - val_categorical_accuracy: 0.6066 - val_loss: 0.8355\n",
            "Epoch 6/128\n",
            "\u001b[1m5836/5836\u001b[0m \u001b[32m━━━━━━━━━━━━━━━━━━━━\u001b[0m\u001b[37m\u001b[0m \u001b[1m375s\u001b[0m 64ms/step - categorical_accuracy: 0.6690 - loss: 0.6159 - val_categorical_accuracy: 0.6775 - val_loss: 0.7357\n",
            "Epoch 7/128\n",
            "\u001b[1m5836/5836\u001b[0m \u001b[32m━━━━━━━━━━━━━━━━━━━━\u001b[0m\u001b[37m\u001b[0m \u001b[1m374s\u001b[0m 64ms/step - categorical_accuracy: 0.6847 - loss: 0.5899 - val_categorical_accuracy: 0.6528 - val_loss: 0.7665\n",
            "Epoch 8/128\n",
            "\u001b[1m5836/5836\u001b[0m \u001b[32m━━━━━━━━━━━━━━━━━━━━\u001b[0m\u001b[37m\u001b[0m \u001b[1m374s\u001b[0m 64ms/step - categorical_accuracy: 0.6975 - loss: 0.5683 - val_categorical_accuracy: 0.6783 - val_loss: 0.7239\n",
            "Epoch 9/128\n",
            "\u001b[1m5836/5836\u001b[0m \u001b[32m━━━━━━━━━━━━━━━━━━━━\u001b[0m\u001b[37m\u001b[0m \u001b[1m375s\u001b[0m 64ms/step - categorical_accuracy: 0.7094 - loss: 0.5467 - val_categorical_accuracy: 0.6780 - val_loss: 0.7286\n",
            "Epoch 10/128\n",
            "\u001b[1m5836/5836\u001b[0m \u001b[32m━━━━━━━━━━━━━━━━━━━━\u001b[0m\u001b[37m\u001b[0m \u001b[1m375s\u001b[0m 64ms/step - categorical_accuracy: 0.7213 - loss: 0.5276 - val_categorical_accuracy: 0.6830 - val_loss: 0.7188\n",
            "Epoch 11/128\n",
            "\u001b[1m5836/5836\u001b[0m \u001b[32m━━━━━━━━━━━━━━━━━━━━\u001b[0m\u001b[37m\u001b[0m \u001b[1m375s\u001b[0m 64ms/step - categorical_accuracy: 0.7304 - loss: 0.5095 - val_categorical_accuracy: 0.7018 - val_loss: 0.6749\n",
            "Epoch 12/128\n",
            "\u001b[1m5836/5836\u001b[0m \u001b[32m━━━━━━━━━━━━━━━━━━━━\u001b[0m\u001b[37m\u001b[0m \u001b[1m375s\u001b[0m 64ms/step - categorical_accuracy: 0.7357 - loss: 0.4996 - val_categorical_accuracy: 0.6736 - val_loss: 0.7389\n",
            "Epoch 13/128\n",
            "\u001b[1m5836/5836\u001b[0m \u001b[32m━━━━━━━━━━━━━━━━━━━━\u001b[0m\u001b[37m\u001b[0m \u001b[1m375s\u001b[0m 64ms/step - categorical_accuracy: 0.7460 - loss: 0.4822 - val_categorical_accuracy: 0.6709 - val_loss: 0.7498\n",
            "Epoch 14/128\n",
            "\u001b[1m5836/5836\u001b[0m \u001b[32m━━━━━━━━━━━━━━━━━━━━\u001b[0m\u001b[37m\u001b[0m \u001b[1m375s\u001b[0m 64ms/step - categorical_accuracy: 0.7534 - loss: 0.4696 - val_categorical_accuracy: 0.6884 - val_loss: 0.7058\n",
            "Epoch 15/128\n",
            "\u001b[1m5836/5836\u001b[0m \u001b[32m━━━━━━━━━━━━━━━━━━━━\u001b[0m\u001b[37m\u001b[0m \u001b[1m375s\u001b[0m 64ms/step - categorical_accuracy: 0.7605 - loss: 0.4563 - val_categorical_accuracy: 0.7131 - val_loss: 0.6721\n",
            "Epoch 16/128\n",
            "\u001b[1m5836/5836\u001b[0m \u001b[32m━━━━━━━━━━━━━━━━━━━━\u001b[0m\u001b[37m\u001b[0m \u001b[1m376s\u001b[0m 64ms/step - categorical_accuracy: 0.7656 - loss: 0.4468 - val_categorical_accuracy: 0.7102 - val_loss: 0.6767\n",
            "Epoch 17/128\n",
            "\u001b[1m5836/5836\u001b[0m \u001b[32m━━━━━━━━━━━━━━━━━━━━\u001b[0m\u001b[37m\u001b[0m \u001b[1m376s\u001b[0m 64ms/step - categorical_accuracy: 0.7686 - loss: 0.4392 - val_categorical_accuracy: 0.7062 - val_loss: 0.6885\n",
            "Epoch 18/128\n",
            "\u001b[1m5836/5836\u001b[0m \u001b[32m━━━━━━━━━━━━━━━━━━━━\u001b[0m\u001b[37m\u001b[0m \u001b[1m376s\u001b[0m 64ms/step - categorical_accuracy: 0.7746 - loss: 0.4304 - val_categorical_accuracy: 0.7183 - val_loss: 0.6631\n",
            "Epoch 19/128\n",
            "\u001b[1m5836/5836\u001b[0m \u001b[32m━━━━━━━━━━━━━━━━━━━━\u001b[0m\u001b[37m\u001b[0m \u001b[1m376s\u001b[0m 64ms/step - categorical_accuracy: 0.7807 - loss: 0.4186 - val_categorical_accuracy: 0.7205 - val_loss: 0.6658\n",
            "Epoch 20/128\n",
            "\u001b[1m5836/5836\u001b[0m \u001b[32m━━━━━━━━━━━━━━━━━━━━\u001b[0m\u001b[37m\u001b[0m \u001b[1m376s\u001b[0m 64ms/step - categorical_accuracy: 0.7855 - loss: 0.4120 - val_categorical_accuracy: 0.6867 - val_loss: 0.7130\n",
            "Epoch 21/128\n",
            "\u001b[1m5836/5836\u001b[0m \u001b[32m━━━━━━━━━━━━━━━━━━━━\u001b[0m\u001b[37m\u001b[0m \u001b[1m376s\u001b[0m 64ms/step - categorical_accuracy: 0.7898 - loss: 0.4034 - val_categorical_accuracy: 0.7104 - val_loss: 0.6902\n",
            "Epoch 22/128\n",
            "\u001b[1m5836/5836\u001b[0m \u001b[32m━━━━━━━━━━━━━━━━━━━━\u001b[0m\u001b[37m\u001b[0m \u001b[1m376s\u001b[0m 64ms/step - categorical_accuracy: 0.7931 - loss: 0.3957 - val_categorical_accuracy: 0.7012 - val_loss: 0.7002\n",
            "Epoch 23/128\n",
            "\u001b[1m5836/5836\u001b[0m \u001b[32m━━━━━━━━━━━━━━━━━━━━\u001b[0m\u001b[37m\u001b[0m \u001b[1m376s\u001b[0m 64ms/step - categorical_accuracy: 0.7960 - loss: 0.3905 - val_categorical_accuracy: 0.6779 - val_loss: 0.7535\n",
            "Epoch 24/128\n",
            "\u001b[1m5836/5836\u001b[0m \u001b[32m━━━━━━━━━━━━━━━━━━━━\u001b[0m\u001b[37m\u001b[0m \u001b[1m376s\u001b[0m 64ms/step - categorical_accuracy: 0.7991 - loss: 0.3851 - val_categorical_accuracy: 0.7370 - val_loss: 0.6540\n",
            "Epoch 25/128\n",
            "\u001b[1m5836/5836\u001b[0m \u001b[32m━━━━━━━━━━━━━━━━━━━━\u001b[0m\u001b[37m\u001b[0m \u001b[1m376s\u001b[0m 64ms/step - categorical_accuracy: 0.8028 - loss: 0.3780 - val_categorical_accuracy: 0.7237 - val_loss: 0.6705\n",
            "Epoch 26/128\n",
            "\u001b[1m5836/5836\u001b[0m \u001b[32m━━━━━━━━━━━━━━━━━━━━\u001b[0m\u001b[37m\u001b[0m \u001b[1m376s\u001b[0m 64ms/step - categorical_accuracy: 0.8064 - loss: 0.3709 - val_categorical_accuracy: 0.6925 - val_loss: 0.7187\n",
            "Epoch 27/128\n",
            "\u001b[1m5836/5836\u001b[0m \u001b[32m━━━━━━━━━━━━━━━━━━━━\u001b[0m\u001b[37m\u001b[0m \u001b[1m376s\u001b[0m 64ms/step - categorical_accuracy: 0.8096 - loss: 0.3648 - val_categorical_accuracy: 0.7281 - val_loss: 0.6534\n",
            "Epoch 28/128\n",
            "\u001b[1m5836/5836\u001b[0m \u001b[32m━━━━━━━━━━━━━━━━━━━━\u001b[0m\u001b[37m\u001b[0m \u001b[1m376s\u001b[0m 64ms/step - categorical_accuracy: 0.8125 - loss: 0.3600 - val_categorical_accuracy: 0.7339 - val_loss: 0.6594\n",
            "Epoch 29/128\n",
            "\u001b[1m5836/5836\u001b[0m \u001b[32m━━━━━━━━━━━━━━━━━━━━\u001b[0m\u001b[37m\u001b[0m \u001b[1m376s\u001b[0m 64ms/step - categorical_accuracy: 0.8146 - loss: 0.3539 - val_categorical_accuracy: 0.7228 - val_loss: 0.6708\n",
            "Epoch 30/128\n",
            "\u001b[1m5836/5836\u001b[0m \u001b[32m━━━━━━━━━━━━━━━━━━━━\u001b[0m\u001b[37m\u001b[0m \u001b[1m376s\u001b[0m 64ms/step - categorical_accuracy: 0.8175 - loss: 0.3492 - val_categorical_accuracy: 0.7346 - val_loss: 0.6513\n",
            "Epoch 31/128\n",
            "\u001b[1m5836/5836\u001b[0m \u001b[32m━━━━━━━━━━━━━━━━━━━━\u001b[0m\u001b[37m\u001b[0m \u001b[1m376s\u001b[0m 64ms/step - categorical_accuracy: 0.8197 - loss: 0.3460 - val_categorical_accuracy: 0.7294 - val_loss: 0.6647\n",
            "Epoch 32/128\n",
            "\u001b[1m5836/5836\u001b[0m \u001b[32m━━━━━━━━━━━━━━━━━━━━\u001b[0m\u001b[37m\u001b[0m \u001b[1m376s\u001b[0m 64ms/step - categorical_accuracy: 0.8206 - loss: 0.3417 - val_categorical_accuracy: 0.7330 - val_loss: 0.6520\n",
            "Epoch 33/128\n",
            "\u001b[1m5836/5836\u001b[0m \u001b[32m━━━━━━━━━━━━━━━━━━━━\u001b[0m\u001b[37m\u001b[0m \u001b[1m376s\u001b[0m 64ms/step - categorical_accuracy: 0.8230 - loss: 0.3385 - val_categorical_accuracy: 0.7061 - val_loss: 0.7387\n",
            "Epoch 34/128\n",
            "\u001b[1m5836/5836\u001b[0m \u001b[32m━━━━━━━━━━━━━━━━━━━━\u001b[0m\u001b[37m\u001b[0m \u001b[1m376s\u001b[0m 64ms/step - categorical_accuracy: 0.8265 - loss: 0.3320 - val_categorical_accuracy: 0.7423 - val_loss: 0.6399\n",
            "Epoch 35/128\n",
            "\u001b[1m5836/5836\u001b[0m \u001b[32m━━━━━━━━━━━━━━━━━━━━\u001b[0m\u001b[37m\u001b[0m \u001b[1m376s\u001b[0m 64ms/step - categorical_accuracy: 0.8284 - loss: 0.3292 - val_categorical_accuracy: 0.7442 - val_loss: 0.6603\n",
            "Epoch 36/128\n",
            "\u001b[1m5836/5836\u001b[0m \u001b[32m━━━━━━━━━━━━━━━━━━━━\u001b[0m\u001b[37m\u001b[0m \u001b[1m376s\u001b[0m 64ms/step - categorical_accuracy: 0.8317 - loss: 0.3225 - val_categorical_accuracy: 0.7381 - val_loss: 0.6645\n",
            "Epoch 37/128\n",
            "\u001b[1m5836/5836\u001b[0m \u001b[32m━━━━━━━━━━━━━━━━━━━━\u001b[0m\u001b[37m\u001b[0m \u001b[1m376s\u001b[0m 64ms/step - categorical_accuracy: 0.8323 - loss: 0.3209 - val_categorical_accuracy: 0.7244 - val_loss: 0.7033\n",
            "Epoch 38/128\n",
            "\u001b[1m5836/5836\u001b[0m \u001b[32m━━━━━━━━━━━━━━━━━━━━\u001b[0m\u001b[37m\u001b[0m \u001b[1m376s\u001b[0m 64ms/step - categorical_accuracy: 0.8348 - loss: 0.3177 - val_categorical_accuracy: 0.7168 - val_loss: 0.7245\n",
            "Epoch 39/128\n",
            "\u001b[1m5836/5836\u001b[0m \u001b[32m━━━━━━━━━━━━━━━━━━━━\u001b[0m\u001b[37m\u001b[0m \u001b[1m376s\u001b[0m 64ms/step - categorical_accuracy: 0.8374 - loss: 0.3120 - val_categorical_accuracy: 0.7260 - val_loss: 0.6924\n",
            "Epoch 40/128\n",
            "\u001b[1m5836/5836\u001b[0m \u001b[32m━━━━━━━━━━━━━━━━━━━━\u001b[0m\u001b[37m\u001b[0m \u001b[1m376s\u001b[0m 64ms/step - categorical_accuracy: 0.8374 - loss: 0.3092 - val_categorical_accuracy: 0.7167 - val_loss: 0.7142\n",
            "Epoch 41/128\n",
            "\u001b[1m5836/5836\u001b[0m \u001b[32m━━━━━━━━━━━━━━━━━━━━\u001b[0m\u001b[37m\u001b[0m \u001b[1m376s\u001b[0m 64ms/step - categorical_accuracy: 0.8400 - loss: 0.3060 - val_categorical_accuracy: 0.7326 - val_loss: 0.6856\n"
          ]
        },
        {
          "data": {
            "image/png": "[encoded data removed]",
            "text/plain": [
              "<Figure size 640x480 with 1 Axes>"
            ]
          },
          "metadata": {},
          "output_type": "display_data"
        },
        {
          "data": {
            "image/png": "[encoded data removed]",
            "text/plain": [
              "<Figure size 640x480 with 1 Axes>"
            ]
          },
          "metadata": {},
          "output_type": "display_data"
        }
      ],
      "source": [
        "fitModel(model, x_train, y_train, x_val, y_val, 128, True, dist_class_weight, 1, 64)"
      ]
    },
    {
      "cell_type": "code",
      "execution_count": 22,
      "metadata": {
        "colab": {
          "base_uri": "https://localhost:8080/"
        },
        "id": "WkVSBCHvrzxe",
        "outputId": "a79fd00d-4eef-481b-9d82-a25b5c5b5b4a"
      },
      "outputs": [
        {
          "name": "stdout",
          "output_type": "stream",
          "text": [
            "3648/3648 - 27s - 7ms/step - categorical_accuracy: 0.7397 - loss: 0.6446\n",
            "Test accuracy: 0.7396731972694397\n"
          ]
        }
      ],
      "source": [
        "# Evaluate the model on the test set.\n",
        "test_loss, test_acc = model.evaluate(x_test, y_test, verbose=2)\n",
        "print(f\"Test accuracy: {test_acc}\")"
      ]
    },
    {
      "cell_type": "code",
      "execution_count": 23,
      "metadata": {
        "colab": {
          "base_uri": "https://localhost:8080/",
          "height": 710
        },
        "id": "Wh_ETmEErzxe",
        "outputId": "e17a65c0-ce2d-4873-9cdf-7dcdb9831108"
      },
      "outputs": [
        {
          "name": "stdout",
          "output_type": "stream",
          "text": [
            "\u001b[1m3648/3648\u001b[0m \u001b[32m━━━━━━━━━━━━━━━━━━━━\u001b[0m\u001b[37m\u001b[0m \u001b[1m26s\u001b[0m 7ms/step\n",
            "y_train_int shape: (373474,)\n",
            "y_test_int shape: (116711,)\n",
            "y_pred shape: (116711,)\n"
          ]
        },
        {
          "data": {
            "image/png": "[encoded data removed]",
            "text/plain": [
              "<Figure size 1000x700 with 2 Axes>"
            ]
          },
          "metadata": {},
          "output_type": "display_data"
        }
      ],
      "source": [
        "printConfusionMatrix(model, x_test, y_test, labels_set)"
      ]
    },
    {
      "cell_type": "markdown",
      "metadata": {
        "id": "ijrhH7herzxe"
      },
      "source": [
        "# Save & Compress model"
      ]
    },
    {
      "cell_type": "markdown",
      "metadata": {
        "id": "PjEc-azSrzxe"
      },
      "source": [
        "### Keras Model\n",
        "\n",
        "Generating the Keras model is not required, thus the boolean check."
      ]
    },
    {
      "cell_type": "code",
      "execution_count": 24,
      "metadata": {
        "colab": {
          "base_uri": "https://localhost:8080/"
        },
        "id": "4n4_BRNKLRwo",
        "outputId": "a1b5a9be-5fe9-4fc2-d61c-a73cc8718cbc"
      },
      "outputs": [],
      "source": [
        "if GENERATE_KERAS_MODLE:\n",
        "    model.save(KERAS_MODEL_NAME)\n",
        "    print(\"Keras model saved: \", KERAS_MODEL_NAME)\n",
        "    convert_bytes(get_file_size(KERAS_MODEL_NAME), \"KB\")"
      ]
    },
    {
      "cell_type": "markdown",
      "metadata": {
        "id": "bP9VcO0Krzxg"
      },
      "source": [
        "### TF Lite model\n",
        "\n",
        "The TF Lite model is the main model to be used. This is where compression happens and thus also makes it important to test once again after compression. Once done, it's transformed into a CPP file to be implemented into pico-tfmicro."
      ]
    },
    {
      "cell_type": "code",
      "execution_count": 25,
      "metadata": {
        "colab": {
          "base_uri": "https://localhost:8080/"
        },
        "id": "NY57t7EwCW8P",
        "outputId": "b972b38d-b543-4443-9c72-03223e3d4cf9"
      },
      "outputs": [
        {
          "name": "stdout",
          "output_type": "stream",
          "text": [
            "INFO:tensorflow:Assets written to: /tmp/tmp5_szc7mx/assets\n"
          ]
        },
        {
          "name": "stderr",
          "output_type": "stream",
          "text": [
            "INFO:tensorflow:Assets written to: /tmp/tmp5_szc7mx/assets\n"
          ]
        },
        {
          "name": "stdout",
          "output_type": "stream",
          "text": [
            "Saved artifact at '/tmp/tmp5_szc7mx'. The following endpoints are available:\n",
            "\n",
            "* Endpoint 'serve'\n",
            "  args_0 (POSITIONAL_ONLY): TensorSpec(shape=(None, 40, 16, 1), dtype=tf.float32, name='keras_tensor')\n",
            "Output Type:\n",
            "  TensorSpec(shape=(None, 4), dtype=tf.float32, name=None)\n",
            "Captures:\n",
            "  134911225332832: TensorSpec(shape=(), dtype=tf.resource, name=None)\n",
            "  134911225337760: TensorSpec(shape=(), dtype=tf.resource, name=None)\n",
            "  134911225346032: TensorSpec(shape=(), dtype=tf.resource, name=None)\n",
            "  134911225347440: TensorSpec(shape=(), dtype=tf.resource, name=None)\n",
            "  134911225341456: TensorSpec(shape=(), dtype=tf.resource, name=None)\n",
            "  134911225343744: TensorSpec(shape=(), dtype=tf.resource, name=None)\n",
            "  134911225342512: TensorSpec(shape=(), dtype=tf.resource, name=None)\n",
            "  134911225580176: TensorSpec(shape=(), dtype=tf.resource, name=None)\n",
            "  134911225581584: TensorSpec(shape=(), dtype=tf.resource, name=None)\n",
            "  134911225581232: TensorSpec(shape=(), dtype=tf.resource, name=None)\n",
            "  134911225581056: TensorSpec(shape=(), dtype=tf.resource, name=None)\n",
            "  134911225580704: TensorSpec(shape=(), dtype=tf.resource, name=None)\n",
            "  134911225578240: TensorSpec(shape=(), dtype=tf.resource, name=None)\n",
            "  134911225582464: TensorSpec(shape=(), dtype=tf.resource, name=None)\n",
            "  134911225582816: TensorSpec(shape=(), dtype=tf.resource, name=None)\n",
            "  134911225584400: TensorSpec(shape=(), dtype=tf.resource, name=None)\n",
            "  134911225582992: TensorSpec(shape=(), dtype=tf.resource, name=None)\n",
            "  134911225584752: TensorSpec(shape=(), dtype=tf.resource, name=None)\n",
            "  134911225584576: TensorSpec(shape=(), dtype=tf.resource, name=None)\n",
            "  134911225586864: TensorSpec(shape=(), dtype=tf.resource, name=None)\n",
            "  134911225587216: TensorSpec(shape=(), dtype=tf.resource, name=None)\n",
            "  134911225588800: TensorSpec(shape=(), dtype=tf.resource, name=None)\n",
            "  134911225587392: TensorSpec(shape=(), dtype=tf.resource, name=None)\n",
            "  134911225589152: TensorSpec(shape=(), dtype=tf.resource, name=None)\n",
            "  134911225591264: TensorSpec(shape=(), dtype=tf.resource, name=None)\n",
            "  134911225591968: TensorSpec(shape=(), dtype=tf.resource, name=None)\n",
            "  134911225588624: TensorSpec(shape=(), dtype=tf.resource, name=None)\n",
            "  134911225592320: TensorSpec(shape=(), dtype=tf.resource, name=None)\n",
            "  134911225581408: TensorSpec(shape=(), dtype=tf.resource, name=None)\n",
            "  134911225588976: TensorSpec(shape=(), dtype=tf.resource, name=None)\n",
            "  134911225591088: TensorSpec(shape=(), dtype=tf.resource, name=None)\n",
            "  134911225171808: TensorSpec(shape=(), dtype=tf.resource, name=None)\n",
            "  134911225170752: TensorSpec(shape=(), dtype=tf.resource, name=None)\n",
            "  134911225172864: TensorSpec(shape=(), dtype=tf.resource, name=None)\n",
            "  134911225170400: TensorSpec(shape=(), dtype=tf.resource, name=None)\n",
            "  134911225172336: TensorSpec(shape=(), dtype=tf.resource, name=None)\n",
            "  134911225172160: TensorSpec(shape=(), dtype=tf.resource, name=None)\n",
            "  134911225174272: TensorSpec(shape=(), dtype=tf.resource, name=None)\n",
            "  134911225174624: TensorSpec(shape=(), dtype=tf.resource, name=None)\n",
            "  134911225176208: TensorSpec(shape=(), dtype=tf.resource, name=None)\n",
            "  134911225174800: TensorSpec(shape=(), dtype=tf.resource, name=None)\n",
            "  134911225176560: TensorSpec(shape=(), dtype=tf.resource, name=None)\n",
            "  134911225176384: TensorSpec(shape=(), dtype=tf.resource, name=None)\n",
            "  134911225178672: TensorSpec(shape=(), dtype=tf.resource, name=None)\n",
            "  134911225181840: TensorSpec(shape=(), dtype=tf.resource, name=None)\n",
            "  134911225179024: TensorSpec(shape=(), dtype=tf.resource, name=None)\n",
            "  134911225181136: TensorSpec(shape=(), dtype=tf.resource, name=None)\n",
            "  134911225179200: TensorSpec(shape=(), dtype=tf.resource, name=None)\n",
            "  134911225180608: TensorSpec(shape=(), dtype=tf.resource, name=None)\n",
            "  134911225180432: TensorSpec(shape=(), dtype=tf.resource, name=None)\n"
          ]
        },
        {
          "name": "stderr",
          "output_type": "stream",
          "text": [
            "WARNING: All log messages before absl::InitializeLog() is called are written to STDERR\n",
            "W0000 00:00:1743133328.011726   90761 tf_tfl_flatbuffer_helpers.cc:365] Ignored output_format.\n",
            "W0000 00:00:1743133328.011751   90761 tf_tfl_flatbuffer_helpers.cc:368] Ignored drop_control_dependency.\n",
            "2025-03-28 04:42:08.012093: I tensorflow/cc/saved_model/reader.cc:83] Reading SavedModel from: /tmp/tmp5_szc7mx\n",
            "2025-03-28 04:42:08.015270: I tensorflow/cc/saved_model/reader.cc:52] Reading meta graph with tags { serve }\n",
            "2025-03-28 04:42:08.015292: I tensorflow/cc/saved_model/reader.cc:147] Reading SavedModel debug info (if present) from: /tmp/tmp5_szc7mx\n",
            "I0000 00:00:1743133328.048351   90761 mlir_graph_optimization_pass.cc:401] MLIR V1 optimization pass is not enabled\n",
            "2025-03-28 04:42:08.054410: I tensorflow/cc/saved_model/loader.cc:236] Restoring SavedModel bundle.\n",
            "2025-03-28 04:42:08.260792: I tensorflow/cc/saved_model/loader.cc:220] Running initialization op on SavedModel bundle at path: /tmp/tmp5_szc7mx\n",
            "2025-03-28 04:42:08.334507: I tensorflow/cc/saved_model/loader.cc:466] SavedModel load for tags { serve }; Status: success: OK. Took 322418 microseconds.\n",
            "2025-03-28 04:42:08.386565: I tensorflow/compiler/mlir/tensorflow/utils/dump_mlir_util.cc:268] disabling MLIR crash reproducer, set env var `MLIR_CRASH_REPRODUCER_DIRECTORY` to enable.\n",
            "INFO: Created TensorFlow Lite XNNPACK delegate for CPU.\n"
          ]
        },
        {
          "name": "stdout",
          "output_type": "stream",
          "text": [
            "TFLite model saved:  cnn.tflite\n",
            "File size: 668.77 Kilobytes\n",
            "Input Shape: [ 1 40 16  1]\n",
            "Input Type: <class 'numpy.float32'>\n",
            "Output Shape: [1 4]\n",
            "Output Type: <class 'numpy.float32'>\n",
            "Accuracy: 0.7396732098945258\n",
            "              precision    recall  f1-score   support\n",
            "\n",
            "           0       0.91      0.98      0.95     10133\n",
            "           1       0.60      0.65      0.63     27249\n",
            "           2       0.82      0.74      0.78     55804\n",
            "           3       0.66      0.75      0.70     23525\n",
            "\n",
            "    accuracy                           0.74    116711\n",
            "   macro avg       0.75      0.78      0.76    116711\n",
            "weighted avg       0.75      0.74      0.74    116711\n",
            "\n"
          ]
        }
      ],
      "source": [
        "# Convert into TFLite model.\n",
        "tf_lite_converter = tf.lite.TFLiteConverter.from_keras_model(model)\n",
        "\n",
        "# Apply optomizations.\n",
        "tf_lite_converter.optimizations = [tf.lite.Optimize.DEFAULT]\n",
        "tf_lite_converter.target_spec.supported_types = [tf.float32]\n",
        "\n",
        "# Grab model and save it.\n",
        "tflite_model = tf_lite_converter.convert()\n",
        "tflite_model_name = TF_LITE_MODEL_FILE_NAME\n",
        "open(tflite_model_name, \"wb\").write(tflite_model)\n",
        "\n",
        "print(\"TFLite model saved: \", TF_LITE_MODEL_FILE_NAME)\n",
        "convert_bytes(get_file_size(TF_LITE_MODEL_FILE_NAME), \"KB\")\n",
        "\n",
        "# Print model input and output shape for debugging.\n",
        "interpreter = tf.lite.Interpreter(model_path=TF_LITE_MODEL_FILE_NAME)\n",
        "interpreter.allocate_tensors()\n",
        "input_details = interpreter.get_input_details()\n",
        "output_details = interpreter.get_output_details()\n",
        "print(\"Input Shape:\", input_details[0]['shape'])\n",
        "print(\"Input Type:\", input_details[0]['dtype'])\n",
        "print(\"Output Shape:\", output_details[0]['shape'])\n",
        "print(\"Output Type:\", output_details[0]['dtype'])\n",
        "\n",
        "# Evaluate the TFLite model.\n",
        "evaluate_tflite_model(TF_LITE_MODEL_FILE_NAME, x_test, y_test)"
      ]
    },
    {
      "cell_type": "code",
      "execution_count": 26,
      "metadata": {
        "id": "cavoNO3Ipgla"
      },
      "outputs": [],
      "source": [
        "# Save the TF Lite model as a C++ array using xxd.\n",
        "# This is required to implement the model using pico-tfmicro.\n",
        "# Note that the file size from this is larger than the tflite file size,\n",
        "# but won't increase the story size of the model when implemented in C++.\n",
        "!xxd -i {TF_LITE_MODEL_FILE_NAME} > {MODEL_NAME}.cpp"
      ]
    }
  ],
  "metadata": {
    "accelerator": "GPU",
    "colab": {
      "provenance": []
    },
    "kernelspec": {
      "display_name": "Python 3",
      "name": "python3"
    },
    "language_info": {
      "codemirror_mode": {
        "name": "ipython",
        "version": 3
      },
      "file_extension": ".py",
      "mimetype": "text/x-python",
      "name": "python",
      "nbconvert_exporter": "python",
      "pygments_lexer": "ipython3",
      "version": "3.10.16"
    }
  },
  "nbformat": 4,
  "nbformat_minor": 0
}
