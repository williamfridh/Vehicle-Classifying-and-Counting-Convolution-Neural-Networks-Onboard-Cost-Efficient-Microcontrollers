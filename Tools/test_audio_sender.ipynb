{
 "cells": [
  {
   "cell_type": "markdown",
   "metadata": {},
   "source": [
    "# Test Audio Sender\n",
    "\n",
    "This file is used for sending audio data to the device. It measures the accuracy based on individual audio files."
   ]
  },
  {
   "cell_type": "markdown",
   "metadata": {},
   "source": [
    "**Note that the software on the MCU must match this!**"
   ]
  },
  {
   "cell_type": "code",
   "execution_count": 1,
   "metadata": {},
   "outputs": [],
   "source": [
    "AUDIO_FOLDER_PATH = \"./dataset_mix\"\n",
    "POSITIVE_PATH = f\"{AUDIO_FOLDER_PATH}/positive\"\n",
    "NEGATIVE_PATH = f\"{AUDIO_FOLDER_PATH}/negative\""
   ]
  },
  {
   "cell_type": "code",
   "execution_count": 2,
   "metadata": {},
   "outputs": [
    {
     "name": "stderr",
     "output_type": "stream",
     "text": [
      "2025-04-10 21:04:08.171367: E external/local_xla/xla/stream_executor/cuda/cuda_fft.cc:477] Unable to register cuFFT factory: Attempting to register factory for plugin cuFFT when one has already been registered\n",
      "WARNING: All log messages before absl::InitializeLog() is called are written to STDERR\n",
      "E0000 00:00:1744311848.359056   29671 cuda_dnn.cc:8310] Unable to register cuDNN factory: Attempting to register factory for plugin cuDNN when one has already been registered\n",
      "E0000 00:00:1744311848.415017   29671 cuda_blas.cc:1418] Unable to register cuBLAS factory: Attempting to register factory for plugin cuBLAS when one has already been registered\n",
      "2025-04-10 21:04:08.830898: I tensorflow/core/platform/cpu_feature_guard.cc:210] This TensorFlow binary is optimized to use available CPU instructions in performance-critical operations.\n",
      "To enable the following instructions: AVX2 FMA, in other operations, rebuild TensorFlow with the appropriate compiler flags.\n",
      "/home/fridh/.local/lib/python3.10/site-packages/matplotlib/projections/__init__.py:63: UserWarning: Unable to import Axes3D. This may be due to multiple versions of Matplotlib being installed (e.g. as a system package and as a pip package). As a result, the 3D projection is not available.\n",
      "  warnings.warn(\"Unable to import Axes3D. This may be due to multiple versions of \"\n"
     ]
    }
   ],
   "source": [
    "import numpy as np\n",
    "import pandas as pd\n",
    "import gc\n",
    "import os\n",
    "import librosa\n",
    "from sklearn.preprocessing import LabelEncoder\n",
    "from tensorflow.keras.utils import to_categorical\n",
    "import serial\n",
    "import struct"
   ]
  },
  {
   "cell_type": "code",
   "execution_count": 3,
   "metadata": {},
   "outputs": [
    {
     "name": "stdout",
     "output_type": "stream",
     "text": [
      "Processing class folder:  ./dataset_mix/positive/Car\n",
      "Processing class folder:  ./dataset_mix/positive/Comm\n",
      "Processing class folder:  ./dataset_mix/positive/Motorcycle\n",
      "positive_audio_files length:  18597\n",
      "positive_audio_file_classes length:  18597\n"
     ]
    }
   ],
   "source": [
    "# Collecte positive audio files and their classes\n",
    "positive_audio_files = []\n",
    "positive_audio_file_classes = []\n",
    "# Look each file in the audio folder\n",
    "audio_class_folders = os.listdir(POSITIVE_PATH)\n",
    "# Loop each class folder\n",
    "for audio_class_folder in audio_class_folders:\n",
    "    # Assemble full audio class folder path.\n",
    "    audio_class_folder_path = os.path.join(POSITIVE_PATH, audio_class_folder)\n",
    "    print(\"Processing class folder: \", audio_class_folder_path)\n",
    "    # Get all files in the audio class folder\n",
    "    audio_class_files = os.listdir(audio_class_folder_path)\n",
    "    # Loop each audio file in the audio class folder\n",
    "    for audio_class_file in audio_class_files:\n",
    "        # Assemble full audio file path.\n",
    "        audio_file_path = os.path.join(audio_class_folder_path, audio_class_file)\n",
    "        # Append the audio file path to the positive_audio_files list\n",
    "        positive_audio_files.append(audio_file_path)\n",
    "        # Append the audio class to the audio_file_classes list\n",
    "        positive_audio_file_classes.append(audio_class_folder)\n",
    "print(\"positive_audio_files length: \", len(positive_audio_files))\n",
    "print(\"positive_audio_file_classes length: \", len(positive_audio_file_classes))"
   ]
  },
  {
   "cell_type": "code",
   "execution_count": 4,
   "metadata": {},
   "outputs": [
    {
     "data": {
      "text/plain": [
       "'Car'"
      ]
     },
     "execution_count": 4,
     "metadata": {},
     "output_type": "execute_result"
    }
   ],
   "source": [
    "positive_audio_file_classes[0]"
   ]
  },
  {
   "cell_type": "code",
   "execution_count": 5,
   "metadata": {},
   "outputs": [
    {
     "name": "stdout",
     "output_type": "stream",
     "text": [
      "Processing class folder:  ./dataset_mix/negative/background\n",
      "negative_audio_files length:  10\n",
      "negative_audio_file_classes length:  10\n"
     ]
    }
   ],
   "source": [
    "# Collecte negative audio files and their classes\n",
    "negative_audio_files = []\n",
    "negative_audio_file_classes = []\n",
    "# Look each file in the audio folder\n",
    "audio_class_folders = os.listdir(NEGATIVE_PATH)\n",
    "# Loop each class folder\n",
    "for audio_class_folder in audio_class_folders:\n",
    "    # Assemble full audio class folder path.\n",
    "    audio_class_folder_path = os.path.join(NEGATIVE_PATH, audio_class_folder)\n",
    "    print(\"Processing class folder: \", audio_class_folder_path)\n",
    "    # Get all files in the audio class folder\n",
    "    audio_class_files = os.listdir(audio_class_folder_path)\n",
    "    # Loop each audio file in the audio class folder\n",
    "    for audio_class_file in audio_class_files:\n",
    "        # Assemble full audio file path.\n",
    "        audio_file_path = os.path.join(audio_class_folder_path, audio_class_file)\n",
    "        # Append the audio file path to the negative_audio_files list\n",
    "        negative_audio_files.append(audio_file_path)\n",
    "        # Append the audio class to the audio_file_classes list\n",
    "        negative_audio_file_classes.append(audio_class_folder)\n",
    "print(\"negative_audio_files length: \", len(negative_audio_files[0:10]))\n",
    "print(\"negative_audio_file_classes length: \", len(negative_audio_file_classes[0:10]))"
   ]
  },
  {
   "cell_type": "code",
   "execution_count": null,
   "metadata": {},
   "outputs": [],
   "source": [
    "# Shuffle the audio files and classes with the same seed.\n",
    "seed = 42\n",
    "np.random.seed(seed)\n",
    "np.random.shuffle(positive_audio_files)\n",
    "\n",
    "np.random.seed(seed)\n",
    "np.random.shuffle(positive_audio_file_classes)\n",
    "\n",
    "np.random.seed(seed)\n",
    "np.random.shuffle(negative_audio_files)"
   ]
  },
  {
   "cell_type": "code",
   "execution_count": 7,
   "metadata": {},
   "outputs": [
    {
     "name": "stdout",
     "output_type": "stream",
     "text": [
      "Example of audio_file_classes_categorial:  [[0. 1. 0.]\n",
      " [0. 1. 0.]\n",
      " [1. 0. 0.]\n",
      " [1. 0. 0.]\n",
      " [1. 0. 0.]\n",
      " [1. 0. 0.]\n",
      " [1. 0. 0.]\n",
      " [0. 1. 0.]\n",
      " [1. 0. 0.]\n",
      " [1. 0. 0.]]\n"
     ]
    }
   ],
   "source": [
    "# Hot end code the labels.\n",
    "label_encoder = LabelEncoder()\n",
    "positive_audio_file_classes_categorical = to_categorical(label_encoder.fit_transform(positive_audio_file_classes))\n",
    "print(\"Example of audio_file_classes_categorial: \", positive_audio_file_classes_categorical[0:10])"
   ]
  },
  {
   "cell_type": "code",
   "execution_count": 295,
   "metadata": {},
   "outputs": [
    {
     "name": "stdout",
     "output_type": "stream",
     "text": [
      "Configuring serial port...\n"
     ]
    }
   ],
   "source": [
    "# Connect to MCU via serial.\n",
    "print(\"Configuring serial port...\")\n",
    "ser = serial.Serial(\n",
    "    port='/dev/ttyACM0',  # Change this to your actual port, e.g., 'COM3' on Windows, '/dev/ttyS0' on Linux\n",
    "    baudrate=921600,       # Set baud rate to 921600\n",
    "    bytesize=serial.EIGHTBITS,\n",
    "    parity=serial.PARITY_NONE,\n",
    "    stopbits=serial.STOPBITS_ONE,\n",
    "    timeout=0.1              # Set timeout for reading\n",
    ")"
   ]
  },
  {
   "cell_type": "code",
   "execution_count": 296,
   "metadata": {},
   "outputs": [
    {
     "name": "stdout",
     "output_type": "stream",
     "text": [
      "Serial port /dev/ttyACM0 opened at 921600 baud.\n"
     ]
    }
   ],
   "source": [
    "if ser.is_open:\n",
    "    print(f\"Serial port {ser.port} opened at {ser.baudrate} baud.\")"
   ]
  },
  {
   "cell_type": "code",
   "execution_count": 297,
   "metadata": {},
   "outputs": [],
   "source": [
    "def calc_accuracy(y_true, y_pred):\n",
    "    success = 0\n",
    "    for i in range(len(y_pred)):\n",
    "        if y_pred[i] == y_true[i]:\n",
    "            success += 1\n",
    "    res = round(success / len(y_pred), 3)\n",
    "    return res"
   ]
  },
  {
   "cell_type": "code",
   "execution_count": 298,
   "metadata": {},
   "outputs": [],
   "source": [
    "audioSent = 0\n",
    "audioFilesProcessed = 0\n",
    "results = []\n",
    "realResults = []"
   ]
  },
  {
   "cell_type": "code",
   "execution_count": 299,
   "metadata": {},
   "outputs": [
    {
     "data": {
      "text/plain": [
       "array([0., 1., 0.])"
      ]
     },
     "execution_count": 299,
     "metadata": {},
     "output_type": "execute_result"
    }
   ],
   "source": [
    "positive_audio_file_classes_categorical[0]"
   ]
  },
  {
   "cell_type": "code",
   "execution_count": 300,
   "metadata": {},
   "outputs": [],
   "source": [
    "def streamAudioFile(file_path, realClass, i):\n",
    "    global audioSent\n",
    "    global results\n",
    "    global realResults\n",
    "    global audioBuffer\n",
    "    voted = False\n",
    "    # Append the real result to the results list.\n",
    "    realResults.append(np.argmax(realClass))\n",
    "    #print(f\"Adding realResults: {realResults}\")\n",
    "    # Check file format.\n",
    "    if not file_path.endswith('.wav'):\n",
    "        print(\"Error: Only .wav files are supported.\")\n",
    "        return\n",
    "    # Load the audio file.\n",
    "    audio_data, sr = librosa.load(file_path, sr=None)\n",
    "    # Convert sample rate to 16kHz.\n",
    "    if sr != 16000:\n",
    "        audio_data = librosa.resample(y=audio_data, orig_sr=sr, target_sr=16000)\n",
    "        sr = 16000\n",
    "    # Convert the audio data to a numpy array.\n",
    "    audio_data = np.array(audio_data, dtype=np.float32)\n",
    "    # Send the audio data to the MCU.\n",
    "    for j in range(len(audio_data)):\n",
    "        data_to_send = audio_data[j].tobytes()\n",
    "        ser.write(data_to_send)\n",
    "\n",
    "        while ser.in_waiting > 0:\n",
    "            response = ser.readline().decode('utf-8').strip()\n",
    "            if response.startswith(\"e:\"):\n",
    "                print(response)\n",
    "                return\n",
    "            #if response.startswith(\"c:\"):\n",
    "                #print(response)\n",
    "            #if response.startswith(\"s:\"):\n",
    "            #    print(response)\n",
    "            if response.startswith(\"v:\"):\n",
    "                voted = True\n",
    "                #print(response)\n",
    "                #print(f\"Adding {int(response[2:])} to results\")\n",
    "                response = int(response[2:])\n",
    "                results.append(response)\n",
    "                if len(results) > len(realResults):\n",
    "                    realResults.append(9)\n",
    "                print(f\"Accuracy: {calc_accuracy(realResults, results)}\")\n",
    "    # If result is shorter than realResults, append 9 to results.\n",
    "    if i > 0 and len(results) < len(realResults) and not voted:\n",
    "        results.append(9)\n",
    "        print(f\"Accuracy: {calc_accuracy(realResults, results)}\")"
   ]
  },
  {
   "cell_type": "code",
   "execution_count": 301,
   "metadata": {},
   "outputs": [
    {
     "name": "stdout",
     "output_type": "stream",
     "text": [
      "Accuracy: 1.0\n",
      "Accuracy: 1.0\n",
      "Accuracy: 1.0\n",
      "Accuracy: 1.0\n",
      "Accuracy: 1.0\n",
      "Accuracy: 1.0\n",
      "Accuracy: 1.0\n",
      "Accuracy: 1.0\n",
      "Accuracy: 1.0\n",
      "Accuracy: 1.0\n",
      "Accuracy: 1.0\n",
      "Accuracy: 1.0\n",
      "Accuracy: 0.923\n",
      "Accuracy: 0.929\n",
      "Accuracy: 0.867\n",
      "Accuracy: 0.875\n",
      "Accuracy: 0.882\n",
      "Accuracy: 0.889\n",
      "Accuracy: 0.895\n",
      "Accuracy: 0.9\n"
     ]
    },
    {
     "ename": "KeyboardInterrupt",
     "evalue": "",
     "output_type": "error",
     "traceback": [
      "\u001b[0;31m---------------------------------------------------------------------------\u001b[0m",
      "\u001b[0;31mKeyboardInterrupt\u001b[0m                         Traceback (most recent call last)",
      "Cell \u001b[0;32mIn[301], line 12\u001b[0m\n\u001b[1;32m      7\u001b[0m audio_file \u001b[38;5;241m=\u001b[39m positive_audio_files[i]\n\u001b[1;32m      8\u001b[0m \u001b[38;5;66;03m# Print audio file path and class.\u001b[39;00m\n\u001b[1;32m      9\u001b[0m \u001b[38;5;66;03m#print(\"Processing audio file: \", audio_file)\u001b[39;00m\n\u001b[1;32m     10\u001b[0m \u001b[38;5;66;03m#print(\"Processing audio file class: \", positive_audio_file_classes[i])\u001b[39;00m\n\u001b[1;32m     11\u001b[0m \u001b[38;5;66;03m# Stream positive audio file to MCU.\u001b[39;00m\n\u001b[0;32m---> 12\u001b[0m \u001b[43mstreamAudioFile\u001b[49m\u001b[43m(\u001b[49m\u001b[43maudio_file\u001b[49m\u001b[43m,\u001b[49m\u001b[43m \u001b[49m\u001b[43mpositive_audio_file_classes_categorical\u001b[49m\u001b[43m[\u001b[49m\u001b[43mi\u001b[49m\u001b[43m]\u001b[49m\u001b[43m,\u001b[49m\u001b[43m \u001b[49m\u001b[43mi\u001b[49m\u001b[43m)\u001b[49m\n\u001b[1;32m     13\u001b[0m \u001b[38;5;66;03m# Print nagtive audio file path and class.\u001b[39;00m\n\u001b[1;32m     14\u001b[0m \u001b[38;5;66;03m#print(\"Processing negative audio file: \", negative_audio_files[negative_audio_file_pointer])\u001b[39;00m\n\u001b[1;32m     15\u001b[0m \u001b[38;5;66;03m# Stream negative audio file to MCU.\u001b[39;00m\n\u001b[1;32m     16\u001b[0m streamAudioFile(negative_audio_files[negative_audio_file_pointer], [\u001b[38;5;241m0\u001b[39m,\u001b[38;5;241m0\u001b[39m,\u001b[38;5;241m0\u001b[39m,\u001b[38;5;241m1\u001b[39m], i)\n",
      "Cell \u001b[0;32mIn[300], line 25\u001b[0m, in \u001b[0;36mstreamAudioFile\u001b[0;34m(file_path, realClass, i)\u001b[0m\n\u001b[1;32m     23\u001b[0m \u001b[38;5;28;01mfor\u001b[39;00m j \u001b[38;5;129;01min\u001b[39;00m \u001b[38;5;28mrange\u001b[39m(\u001b[38;5;28mlen\u001b[39m(audio_data)):\n\u001b[1;32m     24\u001b[0m     data_to_send \u001b[38;5;241m=\u001b[39m audio_data[j]\u001b[38;5;241m.\u001b[39mtobytes()\n\u001b[0;32m---> 25\u001b[0m     \u001b[43mser\u001b[49m\u001b[38;5;241;43m.\u001b[39;49m\u001b[43mwrite\u001b[49m\u001b[43m(\u001b[49m\u001b[43mdata_to_send\u001b[49m\u001b[43m)\u001b[49m\n\u001b[1;32m     27\u001b[0m     \u001b[38;5;28;01mwhile\u001b[39;00m ser\u001b[38;5;241m.\u001b[39min_waiting \u001b[38;5;241m>\u001b[39m \u001b[38;5;241m0\u001b[39m:\n\u001b[1;32m     28\u001b[0m         response \u001b[38;5;241m=\u001b[39m ser\u001b[38;5;241m.\u001b[39mreadline()\u001b[38;5;241m.\u001b[39mdecode(\u001b[38;5;124m'\u001b[39m\u001b[38;5;124mutf-8\u001b[39m\u001b[38;5;124m'\u001b[39m)\u001b[38;5;241m.\u001b[39mstrip()\n",
      "File \u001b[0;32m/usr/lib/python3/dist-packages/serial/serialposix.py:640\u001b[0m, in \u001b[0;36mSerial.write\u001b[0;34m(self, data)\u001b[0m\n\u001b[1;32m    638\u001b[0m \u001b[38;5;28;01massert\u001b[39;00m timeout\u001b[38;5;241m.\u001b[39mtime_left() \u001b[38;5;129;01mis\u001b[39;00m \u001b[38;5;28;01mNone\u001b[39;00m\n\u001b[1;32m    639\u001b[0m \u001b[38;5;66;03m# wait for write operation\u001b[39;00m\n\u001b[0;32m--> 640\u001b[0m abort, ready, _ \u001b[38;5;241m=\u001b[39m \u001b[43mselect\u001b[49m\u001b[38;5;241;43m.\u001b[39;49m\u001b[43mselect\u001b[49m\u001b[43m(\u001b[49m\u001b[43m[\u001b[49m\u001b[38;5;28;43mself\u001b[39;49m\u001b[38;5;241;43m.\u001b[39;49m\u001b[43mpipe_abort_write_r\u001b[49m\u001b[43m]\u001b[49m\u001b[43m,\u001b[49m\u001b[43m \u001b[49m\u001b[43m[\u001b[49m\u001b[38;5;28;43mself\u001b[39;49m\u001b[38;5;241;43m.\u001b[39;49m\u001b[43mfd\u001b[49m\u001b[43m]\u001b[49m\u001b[43m,\u001b[49m\u001b[43m \u001b[49m\u001b[43m[\u001b[49m\u001b[43m]\u001b[49m\u001b[43m,\u001b[49m\u001b[43m \u001b[49m\u001b[38;5;28;43;01mNone\u001b[39;49;00m\u001b[43m)\u001b[49m\n\u001b[1;32m    641\u001b[0m \u001b[38;5;28;01mif\u001b[39;00m abort:\n\u001b[1;32m    642\u001b[0m     os\u001b[38;5;241m.\u001b[39mread(\u001b[38;5;28mself\u001b[39m\u001b[38;5;241m.\u001b[39mpipe_abort_write_r, \u001b[38;5;241m1\u001b[39m)\n",
      "\u001b[0;31mKeyboardInterrupt\u001b[0m: "
     ]
    }
   ],
   "source": [
    "\n",
    "total_positive_audio_files = len(positive_audio_files)\n",
    "\n",
    "# Loop each audio file.\n",
    "negative_audio_file_pointer = 0\n",
    "for i in range(total_positive_audio_files):\n",
    "    # Get audio file path.\n",
    "    audio_file = positive_audio_files[i]\n",
    "    # Print audio file path and class.\n",
    "    #print(\"Processing audio file: \", audio_file)\n",
    "    #print(\"Processing audio file class: \", positive_audio_file_classes[i])\n",
    "    # Stream positive audio file to MCU.\n",
    "    streamAudioFile(audio_file, positive_audio_file_classes_categorical[i], i)\n",
    "    # Print nagtive audio file path and class.\n",
    "    #print(\"Processing negative audio file: \", negative_audio_files[negative_audio_file_pointer])\n",
    "    # Stream negative audio file to MCU.\n",
    "    streamAudioFile(negative_audio_files[negative_audio_file_pointer], [0,0,0,1], i)\n",
    "    # Increment the negative audio file pointer.\n",
    "    negative_audio_file_pointer += 1\n",
    "    # Check if the negative audio file pointer is out of range.\n",
    "    if negative_audio_file_pointer >= len(negative_audio_files):\n",
    "        negative_audio_file_pointer = 0"
   ]
  },
  {
   "cell_type": "code",
   "execution_count": null,
   "metadata": {},
   "outputs": [],
   "source": [
    "# Close the serial port\n",
    "ser.close()"
   ]
  }
 ],
 "metadata": {
  "kernelspec": {
   "display_name": "Python 3",
   "language": "python",
   "name": "python3"
  },
  "language_info": {
   "codemirror_mode": {
    "name": "ipython",
    "version": 3
   },
   "file_extension": ".py",
   "mimetype": "text/x-python",
   "name": "python",
   "nbconvert_exporter": "python",
   "pygments_lexer": "ipython3",
   "version": "3.10.16"
  }
 },
 "nbformat": 4,
 "nbformat_minor": 2
}
