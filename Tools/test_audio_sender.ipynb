{
 "cells": [
  {
   "cell_type": "markdown",
   "metadata": {},
   "source": [
    "# Test Audio Sender\n",
    "\n",
    "This file is used for sending audio data to the device. It measures the accuracy based on individual audio files."
   ]
  },
  {
   "cell_type": "markdown",
   "metadata": {},
   "source": [
    "**Note that the software on the MCU must match this!**"
   ]
  },
  {
   "cell_type": "code",
   "execution_count": 9,
   "metadata": {},
   "outputs": [],
   "source": [
    "AUDIO_FOLDER_PATH = \"./audio\""
   ]
  },
  {
   "cell_type": "code",
   "execution_count": 6,
   "metadata": {},
   "outputs": [],
   "source": [
    "import numpy as np\n",
    "import pandas as pd\n",
    "import gc\n",
    "import os"
   ]
  },
  {
   "cell_type": "code",
   "execution_count": 24,
   "metadata": {},
   "outputs": [],
   "source": [
    "audio_files = []\n",
    "audio_file_classes = []"
   ]
  },
  {
   "cell_type": "code",
   "execution_count": 28,
   "metadata": {},
   "outputs": [
    {
     "name": "stdout",
     "output_type": "stream",
     "text": [
      "Processing class folder:  ./audio/truck\n",
      "Processing class folder:  ./audio/car\n",
      "audio_class_files length:  8\n",
      "audio_file_classes length:  8\n"
     ]
    }
   ],
   "source": [
    "# Look each file in the audio folder\n",
    "audio_class_folders = os.listdir(AUDIO_FOLDER_PATH)\n",
    "# Loop each class folder\n",
    "for audio_class_folder in audio_class_folders:\n",
    "    # Assemble full audio class folder path.\n",
    "    audio_class_folder_path = os.path.join(AUDIO_FOLDER_PATH, audio_class_folder)\n",
    "    print(\"Processing class folder: \", audio_class_folder_path)\n",
    "    # Get all files in the audio class folder\n",
    "    audio_class_files = os.listdir(audio_class_folder_path)\n",
    "    # Loop each audio file in the audio class folder\n",
    "    for audio_class_file in audio_class_files:\n",
    "        # Assemble full audio file path.\n",
    "        audio_file_path = os.path.join(audio_class_folder_path, audio_class_file)\n",
    "        # Append the audio file path to the audio_files list\n",
    "        audio_files.append(audio_file_path)\n",
    "        # Append the audio class to the audio_file_classes list\n",
    "        audio_file_classes.append(audio_class_folder)\n",
    "print(\"audio_class_files length: \", len(audio_files[0:10]))\n",
    "print(\"audio_file_classes length: \", len(audio_file_classes[0:10]))"
   ]
  },
  {
   "cell_type": "code",
   "execution_count": 29,
   "metadata": {},
   "outputs": [
    {
     "name": "stdout",
     "output_type": "stream",
     "text": [
      "File format not supported:  ./audio/truck/tester.txt\n"
     ]
    }
   ],
   "source": [
    "# Loop each audio file.\n",
    "for i in range(len(audio_class_files)):\n",
    "    label = audio_file_classes[i]\n",
    "    # Read the audio file\n",
    "    audio_file = audio_files[i]\n",
    "    # Check file format. Must be Wav.\n",
    "    if audio_file.endswith(\".wav\"):\n",
    "        # Load the audio file\n",
    "        audio_data = np.load(audio_file)\n",
    "        # Get the audio data shape\n",
    "        audio_data_shape = audio_data.shape\n",
    "        # Print the audio data shape\n",
    "        print(\"Audio data shape: \", audio_data_shape)\n",
    "        # Print the audio class\n",
    "        print(\"Audio class: \", label)\n",
    "        # Free memory\n",
    "        del audio_data\n",
    "        gc.collect()\n",
    "    else:\n",
    "        print(\"File format not supported: \", audio_file)\n",
    "        continue\n",
    "    "
   ]
  },
  {
   "cell_type": "code",
   "execution_count": 4,
   "metadata": {},
   "outputs": [],
   "source": [
    "df = pd.read_csv(\"test.csv\", header=None)"
   ]
  },
  {
   "cell_type": "code",
   "execution_count": 5,
   "metadata": {},
   "outputs": [
    {
     "data": {
      "text/plain": [
       "0"
      ]
     },
     "execution_count": 5,
     "metadata": {},
     "output_type": "execute_result"
    }
   ],
   "source": [
    "dataset = df.iloc[:, :-1].to_numpy(dtype=np.float32)            # All but last column as float32\n",
    "labels_set = df.iloc[:, -1].to_numpy(dtype=str)                 # Last column as string\n",
    "del df\n",
    "gc.collect()"
   ]
  },
  {
   "cell_type": "code",
   "execution_count": 6,
   "metadata": {},
   "outputs": [
    {
     "name": "stdout",
     "output_type": "stream",
     "text": [
      "Dataset shape: (290, 40, 16, 1)\n",
      "Labels shape: (290,)\n",
      "Input shape: (40, 16, 1)\n"
     ]
    }
   ],
   "source": [
    "dataset = dataset.reshape(dataset.shape[0], 40, 16, 1)\n",
    "input_shape = dataset[0].shape\n",
    "\n",
    "print(f\"Dataset shape: {dataset.shape}\")\n",
    "print(f\"Labels shape: {labels_set.shape}\")\n",
    "print(f\"Input shape: {input_shape}\")"
   ]
  },
  {
   "cell_type": "code",
   "execution_count": 7,
   "metadata": {},
   "outputs": [
    {
     "data": {
      "text/plain": [
       "0"
      ]
     },
     "execution_count": 7,
     "metadata": {},
     "output_type": "execute_result"
    }
   ],
   "source": [
    "from sklearn.model_selection import train_test_split\n",
    "x_train, x_test, y_train, y_test = train_test_split(dataset, labels_set, test_size=0.95, random_state=42, stratify=labels_set)\n",
    "del dataset, labels_set\n",
    "gc.collect()"
   ]
  },
  {
   "cell_type": "code",
   "execution_count": 8,
   "metadata": {},
   "outputs": [
    {
     "name": "stderr",
     "output_type": "stream",
     "text": [
      "2025-03-26 13:31:04.487152: I external/local_xla/xla/tsl/cuda/cudart_stub.cc:32] Could not find cuda drivers on your machine, GPU will not be used.\n",
      "2025-03-26 13:31:04.552442: I external/local_xla/xla/tsl/cuda/cudart_stub.cc:32] Could not find cuda drivers on your machine, GPU will not be used.\n",
      "2025-03-26 13:31:04.598885: E external/local_xla/xla/stream_executor/cuda/cuda_fft.cc:467] Unable to register cuFFT factory: Attempting to register factory for plugin cuFFT when one has already been registered\n",
      "WARNING: All log messages before absl::InitializeLog() is called are written to STDERR\n",
      "E0000 00:00:1742992264.646795   14992 cuda_dnn.cc:8579] Unable to register cuDNN factory: Attempting to register factory for plugin cuDNN when one has already been registered\n",
      "E0000 00:00:1742992264.662852   14992 cuda_blas.cc:1407] Unable to register cuBLAS factory: Attempting to register factory for plugin cuBLAS when one has already been registered\n",
      "W0000 00:00:1742992264.754430   14992 computation_placer.cc:177] computation placer already registered. Please check linkage and avoid linking the same target more than once.\n",
      "W0000 00:00:1742992264.754454   14992 computation_placer.cc:177] computation placer already registered. Please check linkage and avoid linking the same target more than once.\n",
      "W0000 00:00:1742992264.754456   14992 computation_placer.cc:177] computation placer already registered. Please check linkage and avoid linking the same target more than once.\n",
      "W0000 00:00:1742992264.754458   14992 computation_placer.cc:177] computation placer already registered. Please check linkage and avoid linking the same target more than once.\n",
      "2025-03-26 13:31:04.767535: I tensorflow/core/platform/cpu_feature_guard.cc:210] This TensorFlow binary is optimized to use available CPU instructions in performance-critical operations.\n",
      "To enable the following instructions: AVX2 FMA, in other operations, rebuild TensorFlow with the appropriate compiler flags.\n"
     ]
    }
   ],
   "source": [
    "from sklearn.preprocessing import LabelEncoder\n",
    "from tensorflow.keras.utils import to_categorical\n",
    "\n",
    "# Hot end code the labels.\n",
    "label_encoder = LabelEncoder()\n",
    "y_train = to_categorical(label_encoder.fit_transform(y_train))\n",
    "y_test = to_categorical(label_encoder.fit_transform(y_test))"
   ]
  },
  {
   "cell_type": "code",
   "execution_count": 9,
   "metadata": {},
   "outputs": [],
   "source": [
    "def indexOfMax(arr):\n",
    "    return np.argmax(arr)"
   ]
  },
  {
   "cell_type": "code",
   "execution_count": 16,
   "metadata": {},
   "outputs": [
    {
     "name": "stdout",
     "output_type": "stream",
     "text": [
      "Configuring serial port...\n"
     ]
    }
   ],
   "source": [
    "import serial\n",
    "print(\"Configuring serial port...\")\n",
    "ser = serial.Serial(\n",
    "    port='/dev/ttyACM0',  # Change this to your actual port, e.g., 'COM3' on Windows, '/dev/ttyS0' on Linux\n",
    "    baudrate=115200,       # Set baud rate to 115200\n",
    "    bytesize=serial.EIGHTBITS,\n",
    "    parity=serial.PARITY_NONE,\n",
    "    stopbits=serial.STOPBITS_ONE,\n",
    "    timeout=1              # Set timeout for reading\n",
    ")"
   ]
  },
  {
   "cell_type": "code",
   "execution_count": 17,
   "metadata": {},
   "outputs": [
    {
     "name": "stdout",
     "output_type": "stream",
     "text": [
      "Serial port /dev/ttyACM0 opened at 115200 baud.\n"
     ]
    }
   ],
   "source": [
    "if ser.is_open:\n",
    "    print(f\"Serial port {ser.port} opened at {ser.baudrate} baud.\")"
   ]
  },
  {
   "cell_type": "code",
   "execution_count": 12,
   "metadata": {},
   "outputs": [],
   "source": [
    "def calc_accuracy(y_true, y_pred):\n",
    "    success = 0\n",
    "    failure = 0\n",
    "    for i in range(len(y_pred)):\n",
    "        if int(y_pred[i]) == int(indexOfMax(y_true[i])):\n",
    "            success += 1\n",
    "        else:\n",
    "            failure += 1\n",
    "    res = round(success / (success + failure), 4)\n",
    "    return res"
   ]
  },
  {
   "cell_type": "code",
   "execution_count": null,
   "metadata": {},
   "outputs": [
    {
     "name": "stdout",
     "output_type": "stream",
     "text": [
      "Guess: 0 - Class: 0 Accuracy: 1.0 (0/276)\n",
      "Guess: 3 - Class: 0 Accuracy: 0.5 (1/276)\n",
      "Guess: 1 - Class: 0 Accuracy: 0.3333 (2/276)\n",
      "Guess: 1 - Class: 0 Accuracy: 0.25 (3/276)\n",
      "Guess: 3 - Class: 0 Accuracy: 0.2 (4/276)\n",
      "Guess: 1 - Class: 0 Accuracy: 0.1667 (5/276)\n",
      "Guess: 2 - Class: 0 Accuracy: 0.1429 (6/276)\n",
      "Guess: 3 - Class: 0 Accuracy: 0.125 (7/276)\n",
      "Guess: 3 - Class: 0 Accuracy: 0.1111 (8/276)\n",
      "Guess: 1 - Class: 0 Accuracy: 0.1 (9/276)\n",
      "Guess: 1 - Class: 0 Accuracy: 0.0909 (10/276)\n",
      "Guess: 1 - Class: 0 Accuracy: 0.0833 (11/276)\n",
      "Guess: 1 - Class: 0 Accuracy: 0.0769 (12/276)\n",
      "Guess: 1 - Class: 0 Accuracy: 0.0714 (13/276)\n",
      "Guess: 1 - Class: 0 Accuracy: 0.0667 (14/276)\n",
      "Guess: 1 - Class: 0 Accuracy: 0.0625 (15/276)\n",
      "Guess: 1 - Class: 0 Accuracy: 0.0588 (16/276)\n",
      "Guess: 3 - Class: 0 Accuracy: 0.0556 (17/276)\n",
      "Guess: 1 - Class: 0 Accuracy: 0.0526 (18/276)\n",
      "Guess: 1 - Class: 0 Accuracy: 0.05 (19/276)\n",
      "Guess: 2 - Class: 0 Accuracy: 0.0476 (20/276)\n",
      "Guess: 2 - Class: 0 Accuracy: 0.0455 (21/276)\n",
      "Guess: 1 - Class: 0 Accuracy: 0.0435 (22/276)\n",
      "Guess: 2 - Class: 0 Accuracy: 0.0417 (23/276)\n",
      "Guess: 3 - Class: 0 Accuracy: 0.04 (24/276)\n",
      "Guess: 2 - Class: 0 Accuracy: 0.0385 (25/276)\n",
      "Guess: 1 - Class: 0 Accuracy: 0.037 (26/276)\n",
      "Guess: 1 - Class: 0 Accuracy: 0.0357 (27/276)\n",
      "Guess: 3 - Class: 0 Accuracy: 0.0345 (28/276)\n",
      "Guess: 1 - Class: 0 Accuracy: 0.0333 (29/276)\n",
      "Guess: 1 - Class: 0 Accuracy: 0.0323 (30/276)\n",
      "Guess: 1 - Class: 0 Accuracy: 0.0312 (31/276)\n",
      "Guess: 1 - Class: 0 Accuracy: 0.0303 (32/276)\n",
      "Guess: 1 - Class: 0 Accuracy: 0.0294 (33/276)\n",
      "Guess: 1 - Class: 0 Accuracy: 0.0286 (34/276)\n",
      "Guess: 1 - Class: 0 Accuracy: 0.0278 (35/276)\n",
      "Guess: 1 - Class: 0 Accuracy: 0.027 (36/276)\n",
      "Guess: 1 - Class: 0 Accuracy: 0.0263 (37/276)\n",
      "Guess: 1 - Class: 0 Accuracy: 0.0256 (38/276)\n",
      "Guess: 1 - Class: 0 Accuracy: 0.025 (39/276)\n",
      "Guess: 1 - Class: 0 Accuracy: 0.0244 (40/276)\n",
      "Guess: 1 - Class: 0 Accuracy: 0.0238 (41/276)\n",
      "Guess: 2 - Class: 0 Accuracy: 0.0233 (42/276)\n",
      "Guess: 3 - Class: 0 Accuracy: 0.0227 (43/276)\n",
      "Guess: 1 - Class: 0 Accuracy: 0.0222 (44/276)\n",
      "Guess: 2 - Class: 0 Accuracy: 0.0217 (45/276)\n",
      "Guess: 1 - Class: 0 Accuracy: 0.0213 (46/276)\n",
      "Guess: 0 - Class: 0 Accuracy: 0.0417 (47/276)\n",
      "Guess: 1 - Class: 0 Accuracy: 0.0408 (48/276)\n",
      "Guess: 1 - Class: 0 Accuracy: 0.04 (49/276)\n",
      "Guess: 1 - Class: 0 Accuracy: 0.0392 (50/276)\n",
      "Guess: 1 - Class: 0 Accuracy: 0.0385 (51/276)\n",
      "Guess: 1 - Class: 0 Accuracy: 0.0377 (52/276)\n",
      "Guess: 1 - Class: 0 Accuracy: 0.037 (53/276)\n",
      "Guess: 3 - Class: 0 Accuracy: 0.0364 (54/276)\n",
      "Guess: 0 - Class: 0 Accuracy: 0.0536 (55/276)\n",
      "Guess: 1 - Class: 0 Accuracy: 0.0526 (56/276)\n",
      "Guess: 3 - Class: 0 Accuracy: 0.0517 (57/276)\n",
      "Guess: 1 - Class: 0 Accuracy: 0.0508 (58/276)\n",
      "Guess: 1 - Class: 0 Accuracy: 0.05 (59/276)\n",
      "Guess: 2 - Class: 0 Accuracy: 0.0492 (60/276)\n",
      "Guess: 1 - Class: 0 Accuracy: 0.0484 (61/276)\n",
      "Guess: 2 - Class: 0 Accuracy: 0.0476 (62/276)\n",
      "Guess: 2 - Class: 0 Accuracy: 0.0469 (63/276)\n",
      "Guess: 1 - Class: 0 Accuracy: 0.0462 (64/276)\n",
      "Guess: 1 - Class: 0 Accuracy: 0.0455 (65/276)\n",
      "Guess: 1 - Class: 0 Accuracy: 0.0448 (66/276)\n",
      "Guess: 1 - Class: 0 Accuracy: 0.0441 (67/276)\n",
      "Guess: 3 - Class: 0 Accuracy: 0.0435 (68/276)\n",
      "Guess: 1 - Class: 0 Accuracy: 0.0429 (69/276)\n",
      "Guess: 1 - Class: 0 Accuracy: 0.0423 (70/276)\n",
      "Guess: 3 - Class: 0 Accuracy: 0.0417 (71/276)\n",
      "Guess: 1 - Class: 0 Accuracy: 0.0411 (72/276)\n",
      "Guess: 2 - Class: 0 Accuracy: 0.0405 (73/276)\n",
      "Guess: 0 - Class: 0 Accuracy: 0.0533 (74/276)\n",
      "Guess: 1 - Class: 0 Accuracy: 0.0526 (75/276)\n",
      "Guess: 1 - Class: 0 Accuracy: 0.0519 (76/276)\n",
      "Guess: 1 - Class: 0 Accuracy: 0.0513 (77/276)\n",
      "Guess: 1 - Class: 0 Accuracy: 0.0506 (78/276)\n",
      "Guess: 3 - Class: 0 Accuracy: 0.05 (79/276)\n",
      "Guess: 1 - Class: 0 Accuracy: 0.0494 (80/276)\n",
      "Guess: 3 - Class: 0 Accuracy: 0.0488 (81/276)\n",
      "Guess: 1 - Class: 0 Accuracy: 0.0482 (82/276)\n",
      "Guess: 3 - Class: 0 Accuracy: 0.0476 (83/276)\n",
      "Guess: 1 - Class: 0 Accuracy: 0.0471 (84/276)\n",
      "Guess: 1 - Class: 0 Accuracy: 0.0465 (85/276)\n",
      "Guess: 3 - Class: 0 Accuracy: 0.046 (86/276)\n",
      "Guess: 1 - Class: 0 Accuracy: 0.0455 (87/276)\n",
      "Guess: 1 - Class: 0 Accuracy: 0.0449 (88/276)\n",
      "Guess: 1 - Class: 0 Accuracy: 0.0444 (89/276)\n",
      "Guess: 1 - Class: 0 Accuracy: 0.044 (90/276)\n",
      "Guess: 3 - Class: 0 Accuracy: 0.0435 (91/276)\n",
      "Guess: 1 - Class: 0 Accuracy: 0.043 (92/276)\n",
      "Guess: 1 - Class: 0 Accuracy: 0.0426 (93/276)\n",
      "Guess: 1 - Class: 0 Accuracy: 0.0421 (94/276)\n",
      "Guess: 1 - Class: 0 Accuracy: 0.0417 (95/276)\n",
      "Guess: 3 - Class: 0 Accuracy: 0.0412 (96/276)\n",
      "Guess: 2 - Class: 0 Accuracy: 0.0408 (97/276)\n",
      "Guess: 1 - Class: 0 Accuracy: 0.0404 (98/276)\n",
      "Guess: 2 - Class: 0 Accuracy: 0.04 (99/276)\n",
      "Guess: 2 - Class: 0 Accuracy: 0.0396 (100/276)\n",
      "Guess: 3 - Class: 0 Accuracy: 0.0392 (101/276)\n",
      "Guess: 1 - Class: 0 Accuracy: 0.0388 (102/276)\n",
      "Guess: 1 - Class: 0 Accuracy: 0.0385 (103/276)\n",
      "Guess: 3 - Class: 0 Accuracy: 0.0381 (104/276)\n",
      "Guess: 1 - Class: 0 Accuracy: 0.0377 (105/276)\n",
      "Guess: 3 - Class: 0 Accuracy: 0.0374 (106/276)\n",
      "Guess: 1 - Class: 0 Accuracy: 0.037 (107/276)\n",
      "Guess: 1 - Class: 0 Accuracy: 0.0367 (108/276)\n",
      "Guess: 3 - Class: 0 Accuracy: 0.0364 (109/276)\n",
      "Guess: 1 - Class: 0 Accuracy: 0.036 (110/276)\n",
      "Guess: 1 - Class: 0 Accuracy: 0.0357 (111/276)\n",
      "Guess: 3 - Class: 0 Accuracy: 0.0354 (112/276)\n",
      "Guess: 1 - Class: 0 Accuracy: 0.0351 (113/276)\n",
      "Guess: 0 - Class: 0 Accuracy: 0.0435 (114/276)\n",
      "Guess: 1 - Class: 0 Accuracy: 0.0431 (115/276)\n",
      "Guess: 1 - Class: 0 Accuracy: 0.0427 (116/276)\n",
      "Guess: 3 - Class: 0 Accuracy: 0.0424 (117/276)\n",
      "Guess: 3 - Class: 0 Accuracy: 0.042 (118/276)\n",
      "Guess: 3 - Class: 0 Accuracy: 0.0417 (119/276)\n",
      "Guess: 1 - Class: 0 Accuracy: 0.0413 (120/276)\n",
      "Guess: 1 - Class: 0 Accuracy: 0.041 (121/276)\n",
      "Guess: 1 - Class: 0 Accuracy: 0.0407 (122/276)\n",
      "Guess: 1 - Class: 0 Accuracy: 0.0403 (123/276)\n",
      "Guess: 2 - Class: 0 Accuracy: 0.04 (124/276)\n",
      "Guess: 1 - Class: 0 Accuracy: 0.0397 (125/276)\n",
      "Guess: 2 - Class: 0 Accuracy: 0.0394 (126/276)\n",
      "Guess: 1 - Class: 0 Accuracy: 0.0391 (127/276)\n",
      "Guess: 1 - Class: 0 Accuracy: 0.0388 (128/276)\n",
      "Guess: 1 - Class: 0 Accuracy: 0.0385 (129/276)\n",
      "Guess: 1 - Class: 0 Accuracy: 0.0382 (130/276)\n",
      "Guess: 3 - Class: 0 Accuracy: 0.0379 (131/276)\n",
      "Guess: 1 - Class: 0 Accuracy: 0.0376 (132/276)\n",
      "Guess: 1 - Class: 0 Accuracy: 0.0373 (133/276)\n",
      "Guess: 2 - Class: 0 Accuracy: 0.037 (134/276)\n",
      "Guess: 1 - Class: 0 Accuracy: 0.0368 (135/276)\n",
      "Guess: 3 - Class: 0 Accuracy: 0.0365 (136/276)\n",
      "Guess: 1 - Class: 0 Accuracy: 0.0362 (137/276)\n",
      "Guess: 1 - Class: 0 Accuracy: 0.036 (138/276)\n",
      "Guess: 3 - Class: 0 Accuracy: 0.0357 (139/276)\n",
      "Guess: 0 - Class: 0 Accuracy: 0.0426 (140/276)\n",
      "Guess: 1 - Class: 0 Accuracy: 0.0423 (141/276)\n",
      "Guess: 1 - Class: 0 Accuracy: 0.042 (142/276)\n",
      "Guess: 2 - Class: 0 Accuracy: 0.0417 (143/276)\n",
      "Guess: 3 - Class: 0 Accuracy: 0.0414 (144/276)\n",
      "Guess: 1 - Class: 0 Accuracy: 0.0411 (145/276)\n",
      "Guess: 1 - Class: 0 Accuracy: 0.0408 (146/276)\n",
      "Guess: 0 - Class: 0 Accuracy: 0.0473 (147/276)\n",
      "Guess: 3 - Class: 0 Accuracy: 0.047 (148/276)\n",
      "Guess: 1 - Class: 0 Accuracy: 0.0467 (149/276)\n",
      "Guess: 1 - Class: 0 Accuracy: 0.0464 (150/276)\n",
      "Guess: 1 - Class: 0 Accuracy: 0.0461 (151/276)\n",
      "Guess: 1 - Class: 0 Accuracy: 0.0458 (152/276)\n",
      "Guess: 1 - Class: 0 Accuracy: 0.0455 (153/276)\n",
      "Guess: 1 - Class: 0 Accuracy: 0.0452 (154/276)\n",
      "Guess: 1 - Class: 0 Accuracy: 0.0449 (155/276)\n",
      "Guess: 3 - Class: 0 Accuracy: 0.0446 (156/276)\n",
      "Guess: 1 - Class: 0 Accuracy: 0.0443 (157/276)\n",
      "Guess: 1 - Class: 0 Accuracy: 0.044 (158/276)\n",
      "Guess: 1 - Class: 0 Accuracy: 0.0437 (159/276)\n",
      "Guess: 1 - Class: 0 Accuracy: 0.0435 (160/276)\n",
      "Guess: 1 - Class: 0 Accuracy: 0.0432 (161/276)\n",
      "Guess: 1 - Class: 0 Accuracy: 0.0429 (162/276)\n",
      "Guess: 3 - Class: 0 Accuracy: 0.0427 (163/276)\n",
      "Guess: 3 - Class: 0 Accuracy: 0.0424 (164/276)\n",
      "Guess: 1 - Class: 0 Accuracy: 0.0422 (165/276)\n",
      "Guess: 2 - Class: 0 Accuracy: 0.0419 (166/276)\n",
      "Guess: 2 - Class: 0 Accuracy: 0.0417 (167/276)\n",
      "Guess: 3 - Class: 0 Accuracy: 0.0414 (168/276)\n",
      "Guess: 1 - Class: 0 Accuracy: 0.0412 (169/276)\n",
      "Guess: 1 - Class: 0 Accuracy: 0.0409 (170/276)\n",
      "Guess: 2 - Class: 0 Accuracy: 0.0407 (171/276)\n",
      "Guess: 3 - Class: 0 Accuracy: 0.0405 (172/276)\n",
      "Guess: 3 - Class: 0 Accuracy: 0.0402 (173/276)\n",
      "Guess: 1 - Class: 0 Accuracy: 0.04 (174/276)\n",
      "Guess: 1 - Class: 0 Accuracy: 0.0398 (175/276)\n",
      "Guess: 3 - Class: 0 Accuracy: 0.0395 (176/276)\n",
      "Guess: 3 - Class: 0 Accuracy: 0.0393 (177/276)\n",
      "Guess: 1 - Class: 0 Accuracy: 0.0391 (178/276)\n",
      "Guess: 3 - Class: 0 Accuracy: 0.0389 (179/276)\n",
      "Guess: 3 - Class: 0 Accuracy: 0.0387 (180/276)\n",
      "Guess: 1 - Class: 0 Accuracy: 0.0385 (181/276)\n",
      "Guess: 1 - Class: 0 Accuracy: 0.0383 (182/276)\n",
      "Guess: 1 - Class: 0 Accuracy: 0.038 (183/276)\n",
      "Guess: 1 - Class: 0 Accuracy: 0.0378 (184/276)\n",
      "Guess: 1 - Class: 0 Accuracy: 0.0376 (185/276)\n",
      "Guess: 1 - Class: 0 Accuracy: 0.0374 (186/276)\n",
      "Guess: 2 - Class: 0 Accuracy: 0.0372 (187/276)\n",
      "Guess: 1 - Class: 0 Accuracy: 0.037 (188/276)\n",
      "Guess: 1 - Class: 0 Accuracy: 0.0368 (189/276)\n",
      "Guess: 2 - Class: 0 Accuracy: 0.0366 (190/276)\n",
      "Guess: 1 - Class: 0 Accuracy: 0.0365 (191/276)\n",
      "Guess: 1 - Class: 0 Accuracy: 0.0363 (192/276)\n",
      "Guess: 3 - Class: 0 Accuracy: 0.0361 (193/276)\n",
      "Guess: 2 - Class: 0 Accuracy: 0.0359 (194/276)\n",
      "Guess: 1 - Class: 0 Accuracy: 0.0357 (195/276)\n",
      "Guess: 1 - Class: 0 Accuracy: 0.0355 (196/276)\n",
      "Guess: 3 - Class: 0 Accuracy: 0.0354 (197/276)\n",
      "Guess: 1 - Class: 0 Accuracy: 0.0352 (198/276)\n",
      "Guess: 1 - Class: 0 Accuracy: 0.035 (199/276)\n",
      "Guess: 3 - Class: 0 Accuracy: 0.0348 (200/276)\n",
      "Guess: 1 - Class: 0 Accuracy: 0.0347 (201/276)\n",
      "Guess: 1 - Class: 0 Accuracy: 0.0345 (202/276)\n",
      "Guess: 1 - Class: 0 Accuracy: 0.0343 (203/276)\n",
      "Guess: 1 - Class: 0 Accuracy: 0.0341 (204/276)\n",
      "Guess: 0 - Class: 0 Accuracy: 0.0388 (205/276)\n",
      "Guess: 3 - Class: 0 Accuracy: 0.0386 (206/276)\n",
      "Guess: 1 - Class: 0 Accuracy: 0.0385 (207/276)\n",
      "Guess: 1 - Class: 0 Accuracy: 0.0383 (208/276)\n",
      "Guess: 2 - Class: 0 Accuracy: 0.0381 (209/276)\n",
      "Guess: 1 - Class: 0 Accuracy: 0.0379 (210/276)\n",
      "Guess: 3 - Class: 0 Accuracy: 0.0377 (211/276)\n",
      "Guess: 1 - Class: 0 Accuracy: 0.0376 (212/276)\n",
      "Guess: 1 - Class: 0 Accuracy: 0.0374 (213/276)\n",
      "Guess: 1 - Class: 0 Accuracy: 0.0372 (214/276)\n",
      "Guess: 3 - Class: 0 Accuracy: 0.037 (215/276)\n",
      "Guess: 1 - Class: 0 Accuracy: 0.0369 (216/276)\n",
      "Guess: 1 - Class: 0 Accuracy: 0.0367 (217/276)\n",
      "Guess: 1 - Class: 0 Accuracy: 0.0365 (218/276)\n",
      "Guess: 2 - Class: 0 Accuracy: 0.0364 (219/276)\n",
      "Guess: 1 - Class: 0 Accuracy: 0.0362 (220/276)\n",
      "Guess: 1 - Class: 0 Accuracy: 0.036 (221/276)\n",
      "Guess: 1 - Class: 0 Accuracy: 0.0359 (222/276)\n",
      "Guess: 1 - Class: 0 Accuracy: 0.0357 (223/276)\n",
      "Guess: 3 - Class: 0 Accuracy: 0.0356 (224/276)\n",
      "Guess: 3 - Class: 0 Accuracy: 0.0354 (225/276)\n",
      "Guess: 1 - Class: 0 Accuracy: 0.0352 (226/276)\n",
      "Guess: 3 - Class: 0 Accuracy: 0.0351 (227/276)\n",
      "Guess: 1 - Class: 0 Accuracy: 0.0349 (228/276)\n",
      "Guess: 1 - Class: 0 Accuracy: 0.0348 (229/276)\n",
      "Guess: 3 - Class: 0 Accuracy: 0.0346 (230/276)\n",
      "Guess: 2 - Class: 0 Accuracy: 0.0345 (231/276)\n",
      "Guess: 3 - Class: 0 Accuracy: 0.0343 (232/276)\n",
      "Guess: 1 - Class: 0 Accuracy: 0.0342 (233/276)\n",
      "Guess: 3 - Class: 0 Accuracy: 0.034 (234/276)\n",
      "Guess: 3 - Class: 0 Accuracy: 0.0339 (235/276)\n",
      "Guess: 3 - Class: 0 Accuracy: 0.0338 (236/276)\n",
      "Guess: 3 - Class: 0 Accuracy: 0.0336 (237/276)\n",
      "Guess: 1 - Class: 0 Accuracy: 0.0335 (238/276)\n",
      "Guess: 1 - Class: 0 Accuracy: 0.0333 (239/276)\n",
      "Guess: 1 - Class: 0 Accuracy: 0.0332 (240/276)\n",
      "Guess: 1 - Class: 0 Accuracy: 0.0331 (241/276)\n",
      "Guess: 3 - Class: 0 Accuracy: 0.0329 (242/276)\n",
      "Guess: 2 - Class: 0 Accuracy: 0.0328 (243/276)\n",
      "Guess: 1 - Class: 0 Accuracy: 0.0327 (244/276)\n",
      "Guess: 0 - Class: 0 Accuracy: 0.0366 (245/276)\n",
      "Guess: 1 - Class: 0 Accuracy: 0.0364 (246/276)\n",
      "Guess: 1 - Class: 0 Accuracy: 0.0363 (247/276)\n",
      "Guess: 1 - Class: 0 Accuracy: 0.0361 (248/276)\n",
      "Guess: 1 - Class: 0 Accuracy: 0.036 (249/276)\n",
      "Guess: 2 - Class: 0 Accuracy: 0.0359 (250/276)\n",
      "Guess: 3 - Class: 0 Accuracy: 0.0357 (251/276)\n",
      "Guess: 3 - Class: 0 Accuracy: 0.0356 (252/276)\n",
      "Guess: 1 - Class: 0 Accuracy: 0.0354 (253/276)\n",
      "Guess: 0 - Class: 0 Accuracy: 0.0392 (254/276)\n",
      "Guess: 1 - Class: 0 Accuracy: 0.0391 (255/276)\n",
      "Guess: 1 - Class: 0 Accuracy: 0.0389 (256/276)\n",
      "Guess: 3 - Class: 0 Accuracy: 0.0388 (257/276)\n",
      "Guess: 3 - Class: 0 Accuracy: 0.0386 (258/276)\n",
      "Guess: 1 - Class: 0 Accuracy: 0.0385 (259/276)\n",
      "Guess: 1 - Class: 0 Accuracy: 0.0383 (260/276)\n",
      "Guess: 3 - Class: 0 Accuracy: 0.0382 (261/276)\n",
      "Guess: 2 - Class: 0 Accuracy: 0.038 (262/276)\n",
      "Guess: 1 - Class: 0 Accuracy: 0.0379 (263/276)\n",
      "Guess: 3 - Class: 0 Accuracy: 0.0377 (264/276)\n",
      "Guess: 1 - Class: 0 Accuracy: 0.0376 (265/276)\n",
      "Guess: 1 - Class: 0 Accuracy: 0.0375 (266/276)\n",
      "Guess: 0 - Class: 0 Accuracy: 0.041 (267/276)\n",
      "Guess: 2 - Class: 0 Accuracy: 0.0409 (268/276)\n",
      "Guess: 3 - Class: 0 Accuracy: 0.0407 (269/276)\n",
      "Guess: 1 - Class: 0 Accuracy: 0.0406 (270/276)\n",
      "Guess: 2 - Class: 0 Accuracy: 0.0404 (271/276)\n",
      "Guess: 3 - Class: 0 Accuracy: 0.0403 (272/276)\n",
      "Guess: 1 - Class: 0 Accuracy: 0.0401 (273/276)\n",
      "Guess: 1 - Class: 0 Accuracy: 0.04 (274/276)\n",
      "Guess: 1 - Class: 0 Accuracy: 0.0399 (275/276)\n"
     ]
    }
   ],
   "source": [
    "import time\n",
    "import struct\n",
    "\n",
    "x = x_test\n",
    "y = y_test[0:len(x)]\n",
    "print(x.shape)\n",
    "\n",
    "results = []\n",
    "total = len(x)\n",
    "\n",
    "# Send data\n",
    "for i in range(total):\n",
    "    data = x[i].flatten()\n",
    "    for j in range(len(data)):\n",
    "        data_to_send = struct.pack('f', data[j])\n",
    "        ser.write(data_to_send)\n",
    "    time.sleep(0.1)\n",
    "    # Read response\n",
    "    response = ser.readline().decode('utf-8').strip()\n",
    "    results.append(response)\n",
    "    print(f\"Guess: {response} - Class: {indexOfMax(y[i])} Accuracy: {calc_accuracy(y, results)} ({i}/{total})\")\n"
   ]
  },
  {
   "cell_type": "code",
   "execution_count": 15,
   "metadata": {},
   "outputs": [],
   "source": [
    "# Close the serial port\n",
    "ser.close()"
   ]
  }
 ],
 "metadata": {
  "kernelspec": {
   "display_name": "tfenv",
   "language": "python",
   "name": "python3"
  },
  "language_info": {
   "codemirror_mode": {
    "name": "ipython",
    "version": 3
   },
   "file_extension": ".py",
   "mimetype": "text/x-python",
   "name": "python",
   "nbconvert_exporter": "python",
   "pygments_lexer": "ipython3",
   "version": "3.10.16"
  }
 },
 "nbformat": 4,
 "nbformat_minor": 2
}
