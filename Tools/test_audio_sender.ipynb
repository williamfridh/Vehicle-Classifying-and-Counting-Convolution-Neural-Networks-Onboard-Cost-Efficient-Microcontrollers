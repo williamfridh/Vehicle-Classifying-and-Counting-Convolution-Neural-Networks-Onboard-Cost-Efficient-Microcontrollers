{
 "cells": [
  {
   "cell_type": "markdown",
   "metadata": {},
   "source": [
    "# Test Audio Sender\n",
    "\n",
    "This file is used for sending audio data to the device. It measures the accuracy based on individual audio files."
   ]
  },
  {
   "cell_type": "markdown",
   "metadata": {},
   "source": [
    "**Note that the software on the MCU must match this!**"
   ]
  },
  {
   "cell_type": "code",
   "execution_count": 177,
   "metadata": {},
   "outputs": [],
   "source": [
    "AUDIO_FOLDER_PATH = \"./dataset_mix\"\n",
    "POSITIVE_PATH = f\"{AUDIO_FOLDER_PATH}/positive\"\n",
    "NEGATIVE_PATH = f\"{AUDIO_FOLDER_PATH}/negative\""
   ]
  },
  {
   "cell_type": "code",
   "execution_count": 178,
   "metadata": {},
   "outputs": [],
   "source": [
    "import numpy as np\n",
    "import pandas as pd\n",
    "import gc\n",
    "import os\n",
    "import librosa\n",
    "from sklearn.preprocessing import LabelEncoder\n",
    "from tensorflow.keras.utils import to_categorical\n",
    "import serial\n",
    "import struct"
   ]
  },
  {
   "cell_type": "code",
   "execution_count": 179,
   "metadata": {},
   "outputs": [
    {
     "name": "stdout",
     "output_type": "stream",
     "text": [
      "Processing class folder:  ./dataset_mix/positive/Car\n",
      "Processing class folder:  ./dataset_mix/positive/Comm\n",
      "Processing class folder:  ./dataset_mix/positive/Motorcycle\n",
      "positive_audio_files length:  18597\n",
      "positive_audio_file_classes length:  18597\n"
     ]
    }
   ],
   "source": [
    "# Collecte positive audio files and their classes\n",
    "positive_audio_files = []\n",
    "positive_audio_file_classes = []\n",
    "# Look each file in the audio folder\n",
    "audio_class_folders = os.listdir(POSITIVE_PATH)\n",
    "# Loop each class folder\n",
    "for audio_class_folder in audio_class_folders:\n",
    "    # Assemble full audio class folder path.\n",
    "    audio_class_folder_path = os.path.join(POSITIVE_PATH, audio_class_folder)\n",
    "    print(\"Processing class folder: \", audio_class_folder_path)\n",
    "    # Get all files in the audio class folder\n",
    "    audio_class_files = os.listdir(audio_class_folder_path)\n",
    "    # Loop each audio file in the audio class folder\n",
    "    for audio_class_file in audio_class_files:\n",
    "        # Assemble full audio file path.\n",
    "        audio_file_path = os.path.join(audio_class_folder_path, audio_class_file)\n",
    "        # Append the audio file path to the positive_audio_files list\n",
    "        positive_audio_files.append(audio_file_path)\n",
    "        # Append the audio class to the audio_file_classes list\n",
    "        positive_audio_file_classes.append(audio_class_folder)\n",
    "print(\"positive_audio_files length: \", len(positive_audio_files))\n",
    "print(\"positive_audio_file_classes length: \", len(positive_audio_file_classes))"
   ]
  },
  {
   "cell_type": "code",
   "execution_count": 180,
   "metadata": {},
   "outputs": [
    {
     "data": {
      "text/plain": [
       "'Car'"
      ]
     },
     "execution_count": 180,
     "metadata": {},
     "output_type": "execute_result"
    }
   ],
   "source": [
    "positive_audio_file_classes[0]"
   ]
  },
  {
   "cell_type": "code",
   "execution_count": 181,
   "metadata": {},
   "outputs": [
    {
     "name": "stdout",
     "output_type": "stream",
     "text": [
      "Processing class folder:  ./dataset_mix/negative/background\n",
      "negative_audio_files length:  10\n",
      "negative_audio_file_classes length:  10\n"
     ]
    }
   ],
   "source": [
    "# Collecte negative audio files and their classes\n",
    "negative_audio_files = []\n",
    "negative_audio_file_classes = []\n",
    "# Look each file in the audio folder\n",
    "audio_class_folders = os.listdir(NEGATIVE_PATH)\n",
    "# Loop each class folder\n",
    "for audio_class_folder in audio_class_folders:\n",
    "    # Assemble full audio class folder path.\n",
    "    audio_class_folder_path = os.path.join(NEGATIVE_PATH, audio_class_folder)\n",
    "    print(\"Processing class folder: \", audio_class_folder_path)\n",
    "    # Get all files in the audio class folder\n",
    "    audio_class_files = os.listdir(audio_class_folder_path)\n",
    "    # Loop each audio file in the audio class folder\n",
    "    for audio_class_file in audio_class_files:\n",
    "        # Assemble full audio file path.\n",
    "        audio_file_path = os.path.join(audio_class_folder_path, audio_class_file)\n",
    "        # Append the audio file path to the negative_audio_files list\n",
    "        negative_audio_files.append(audio_file_path)\n",
    "        # Append the audio class to the audio_file_classes list\n",
    "        negative_audio_file_classes.append(audio_class_folder)\n",
    "print(\"negative_audio_files length: \", len(negative_audio_files[0:10]))\n",
    "print(\"negative_audio_file_classes length: \", len(negative_audio_file_classes[0:10]))"
   ]
  },
  {
   "cell_type": "code",
   "execution_count": 182,
   "metadata": {},
   "outputs": [],
   "source": [
    "# Shuffle the audio files and classes with the same seed.\n",
    "seed = 42\n",
    "np.random.seed(seed)\n",
    "np.random.shuffle(positive_audio_files)\n",
    "\n",
    "np.random.seed(seed)\n",
    "np.random.shuffle(positive_audio_file_classes)\n",
    "\n",
    "np.random.seed(seed)\n",
    "np.random.shuffle(negative_audio_files)"
   ]
  },
  {
   "cell_type": "code",
   "execution_count": 183,
   "metadata": {},
   "outputs": [
    {
     "name": "stdout",
     "output_type": "stream",
     "text": [
      "Example of audio_file_classes_categorial:  [[0. 1. 0.]\n",
      " [0. 1. 0.]\n",
      " [1. 0. 0.]\n",
      " [1. 0. 0.]\n",
      " [1. 0. 0.]\n",
      " [1. 0. 0.]\n",
      " [1. 0. 0.]\n",
      " [0. 1. 0.]\n",
      " [1. 0. 0.]\n",
      " [1. 0. 0.]]\n"
     ]
    }
   ],
   "source": [
    "# Hot end code the labels.\n",
    "label_encoder = LabelEncoder()\n",
    "positive_audio_file_classes_categorical = to_categorical(label_encoder.fit_transform(positive_audio_file_classes))\n",
    "print(\"Example of audio_file_classes_categorial: \", positive_audio_file_classes_categorical[0:10])"
   ]
  },
  {
   "cell_type": "code",
   "execution_count": 184,
   "metadata": {},
   "outputs": [
    {
     "name": "stdout",
     "output_type": "stream",
     "text": [
      "Configuring serial port...\n"
     ]
    }
   ],
   "source": [
    "# Connect to MCU via serial.\n",
    "print(\"Configuring serial port...\")\n",
    "ser = serial.Serial(\n",
    "    port='/dev/ttyACM0',  # Change this to your actual port, e.g., 'COM3' on Windows, '/dev/ttyS0' on Linux\n",
    "    baudrate=921600,       # Set baud rate to 921600\n",
    "    bytesize=serial.EIGHTBITS,\n",
    "    parity=serial.PARITY_NONE,\n",
    "    stopbits=serial.STOPBITS_ONE,\n",
    "    timeout=0.1,           # Set timeout for reading\n",
    "    write_timeout=None     # Wait indefinitely until all data is sent\n",
    ")"
   ]
  },
  {
   "cell_type": "code",
   "execution_count": 185,
   "metadata": {},
   "outputs": [
    {
     "name": "stdout",
     "output_type": "stream",
     "text": [
      "Serial port /dev/ttyACM0 opened at 921600 baud.\n"
     ]
    }
   ],
   "source": [
    "if ser.is_open:\n",
    "    print(f\"Serial port {ser.port} opened at {ser.baudrate} baud.\")"
   ]
  },
  {
   "cell_type": "code",
   "execution_count": 186,
   "metadata": {},
   "outputs": [],
   "source": [
    "def calc_accuracy(y_true, y_pred):\n",
    "    success = 0\n",
    "    for i in range(len(y_pred)):\n",
    "        if y_pred[i] == y_true[i]:\n",
    "            success += 1\n",
    "    res = round(success / len(y_pred), 3)\n",
    "    return res"
   ]
  },
  {
   "cell_type": "code",
   "execution_count": 187,
   "metadata": {},
   "outputs": [],
   "source": [
    "audioSent = 0\n",
    "audioFilesProcessed = 0\n",
    "results = []\n",
    "realResults = []"
   ]
  },
  {
   "cell_type": "code",
   "execution_count": 188,
   "metadata": {},
   "outputs": [
    {
     "data": {
      "text/plain": [
       "array([0., 1., 0.])"
      ]
     },
     "execution_count": 188,
     "metadata": {},
     "output_type": "execute_result"
    }
   ],
   "source": [
    "positive_audio_file_classes_categorical[0]"
   ]
  },
  {
   "cell_type": "code",
   "execution_count": 189,
   "metadata": {},
   "outputs": [],
   "source": [
    "def streamAudioFile(file_path, realClass, i):\n",
    "    global audioSent\n",
    "    global results\n",
    "    global realResults\n",
    "    global audioBuffer\n",
    "    voted = False\n",
    "    # Append the real result to the results list.\n",
    "    realResults.append(np.argmax(realClass))\n",
    "    #print(f\"Adding realResults: {realResults}\")\n",
    "    # Check file format.\n",
    "    if not file_path.endswith('.wav'):\n",
    "        print(\"Error: Only .wav files are supported.\")\n",
    "        return\n",
    "    # Load the audio file.\n",
    "    audio_data, sr = librosa.load(file_path, sr=None)\n",
    "    # Convert sample rate to 16kHz.\n",
    "    if sr != 16000:\n",
    "        audio_data = librosa.resample(y=audio_data, orig_sr=sr, target_sr=16000)\n",
    "        sr = 16000\n",
    "    # Convert the audio data to a numpy array.\n",
    "    audio_data = np.array(audio_data, dtype=np.float32)\n",
    "    # Send the audio data to the MCU.\n",
    "    #for j in range(len(audio_data)):\n",
    "    #    data_to_send = audio_data[j].tobytes()\n",
    "    ser.write(audio_data.tobytes())\n",
    "\n",
    "    while ser.in_waiting > 0:\n",
    "        response = ser.readline().decode('utf-8').strip()\n",
    "        if response.startswith(\"e:\"):\n",
    "            print(response)\n",
    "            return\n",
    "        if response.startswith(\"c:\"):\n",
    "            print(response)\n",
    "        if response.startswith(\"s:\"):\n",
    "            print(response)\n",
    "        if response.startswith(\"v:\"):\n",
    "            voted = True\n",
    "            print(response)\n",
    "            #print(f\"Adding {int(response[2:])} to results\")\n",
    "            response = int(response[2:])\n",
    "            results.append(response)\n",
    "            if len(results) > len(realResults):\n",
    "                realResults.append(9)\n",
    "            print(f\"Accuracy: {calc_accuracy(realResults, results)}\")\n",
    "    # If result is shorter than realResults, append 9 to results.\n",
    "    if i > 0 and len(results) < len(realResults) and not voted:\n",
    "        results.append(9)\n",
    "        print(f\"Accuracy: {calc_accuracy(realResults, results)}\")"
   ]
  },
  {
   "cell_type": "code",
   "execution_count": 190,
   "metadata": {},
   "outputs": [
    {
     "name": "stdout",
     "output_type": "stream",
     "text": [
      "Processing audio file:  ./dataset_mix/positive/Comm/Y49aUB54ccZQ_30.000_40.000.wav\n",
      "Processing audio file class:  Comm\n"
     ]
    },
    {
     "name": "stdout",
     "output_type": "stream",
     "text": [
      "s:Heap: 1096 / 469840 bytes\n",
      "s:Tensor arena size: 16160/37000 bytes\n",
      "s:Input tensor shape: 1, 16, 8, 1\n",
      "s:Output tensor shape: 1, 4\n",
      "Processing negative audio file:  ./dataset_mix/negative/background/2019-11-18-16-40_Langewiesener-Strasse_50Kmh_99744000_SE_CH34-BG.wav\n",
      "v:1\n",
      "Accuracy: 1.0\n",
      "Processing audio file:  ./dataset_mix/positive/Comm/YATk3p77CiJs_30.000_40.000.wav\n",
      "Processing audio file class:  Comm\n",
      "v:3\n",
      "Accuracy: 1.0\n",
      "Processing negative audio file:  ./dataset_mix/negative/background/2019-11-12-09-00_Schleusinger-Allee_70Kmh_26492159_SE_CH34-BG.wav\n",
      "v:1\n",
      "Accuracy: 1.0\n",
      "Processing audio file:  ./dataset_mix/positive/Car/2019-10-22-16-35_Fraunhofer-IDMT_30Kmh_678488_A_D_CL_SE_CH34.wav\n",
      "Processing audio file class:  Car\n",
      "v:3\n",
      "Accuracy: 1.0\n",
      "Processing negative audio file:  ./dataset_mix/negative/background/2019-11-19-16-30_Langewiesener-Strasse_50Kmh_19687680_SE_CH34-BG.wav\n",
      "Accuracy: 0.8\n",
      "Processing audio file:  ./dataset_mix/positive/Car/2019-11-13-15-55_Schleusinger-Allee_70Kmh_2949210_A_D_CR_ME_CH12.wav\n",
      "Processing audio file class:  Car\n",
      "Accuracy: 0.667\n",
      "Processing negative audio file:  ./dataset_mix/negative/background/2019-11-19-15-25_Langewiesener-Strasse_50Kmh_94927872_ME_CH12-BG.wav\n",
      "Accuracy: 0.571\n",
      "Processing audio file:  ./dataset_mix/positive/Car/2019-11-19-16-30_Langewiesener-Strasse_50Kmh_1019144_A_D_CR_ME_CH12.wav\n",
      "Processing audio file class:  Car\n",
      "v:3\n",
      "Accuracy: 0.625\n",
      "Processing negative audio file:  ./dataset_mix/negative/background/2019-11-13-15-55_Schleusinger-Allee_70Kmh_30091776_ME_CH12-BG.wav\n",
      "v:0\n",
      "Accuracy: 0.667\n",
      "Processing audio file:  ./dataset_mix/positive/Car/2019-11-19-07-25_Langewiesener-Strasse_50Kmh_3060632_M_D_CR_ME_CH12.wav\n",
      "Processing audio file class:  Car\n",
      "v:3\n",
      "Accuracy: 0.7\n",
      "Processing negative audio file:  ./dataset_mix/negative/background/2019-11-19-08-30_Langewiesener-Strasse_50Kmh_25512960_ME_CH12-BG.wav\n",
      "v:0\n",
      "Accuracy: 0.727\n",
      "Processing audio file:  ./dataset_mix/positive/Car/2019-10-23-16-20_Fraunhofer-IDMT_30Kmh_1243586_A_D_CL_ME_CH12.wav\n",
      "Processing audio file class:  Car\n",
      "v:3\n",
      "Accuracy: 0.75\n",
      "Processing negative audio file:  ./dataset_mix/negative/background/2019-10-23-16-20_Fraunhofer-IDMT_30Kmh_4778496_SE_CH34-BG.wav\n",
      "Accuracy: 0.692\n",
      "Processing audio file:  ./dataset_mix/positive/Comm/2019-11-13-15-55_Schleusinger-Allee_70Kmh_2601133_A_D_TR_SE_CH34.wav\n",
      "Processing audio file class:  Comm\n",
      "v:3\n",
      "Accuracy: 0.714\n",
      "Processing negative audio file:  ./dataset_mix/negative/background/2019-10-23-16-20_Fraunhofer-IDMT_30Kmh_13467648_ME_CH12-BG.wav\n",
      "v:1\n",
      "Accuracy: 0.733\n",
      "Processing audio file:  ./dataset_mix/positive/Car/2019-11-13-15-30_Schleusinger-Allee_70Kmh_1182743_A_D_CR_ME_CH12.wav\n",
      "Processing audio file class:  Car\n",
      "v:3\n",
      "Accuracy: 0.75\n",
      "Processing negative audio file:  ./dataset_mix/negative/background/2019-11-18-16-40_Langewiesener-Strasse_50Kmh_63143424_ME_CH12-BG.wav\n",
      "v:0\n",
      "Accuracy: 0.765\n",
      "Processing audio file:  ./dataset_mix/positive/Car/2019-11-13-15-55_Schleusinger-Allee_70Kmh_1608578_A_D_CL_SE_CH34.wav\n",
      "Processing audio file class:  Car\n",
      "v:3\n",
      "Accuracy: 0.778\n",
      "Processing negative audio file:  ./dataset_mix/negative/background/2019-11-12-09-00_Schleusinger-Allee_70Kmh_19909119_SE_CH34-BG.wav\n",
      "v:0\n",
      "Accuracy: 0.789\n",
      "Processing audio file:  ./dataset_mix/positive/Motorcycle/Y9UYc9q1UO4w_40.000_50.000.wav\n",
      "Processing audio file class:  Motorcycle\n",
      "v:3\n",
      "Accuracy: 0.8\n",
      "Processing negative audio file:  ./dataset_mix/negative/background/2019-11-13-08-00_Schleusinger-Allee_70Kmh_17780736_SE_CH34-BG.wav\n",
      "v:2\n",
      "Accuracy: 0.81\n",
      "Processing audio file:  ./dataset_mix/positive/Comm/YCevPhvuZ354_30.000_40.000.wav\n",
      "Processing audio file class:  Comm\n",
      "v:3\n",
      "Accuracy: 0.818\n",
      "Processing negative audio file:  ./dataset_mix/negative/background/2019-11-18-15-45_Langewiesener-Strasse_50Kmh_42975744_ME_CH12-BG.wav\n",
      "v:1\n",
      "Accuracy: 0.826\n",
      "Processing audio file:  ./dataset_mix/positive/Comm/YANPwjLcSoGU_20.000_30.000.wav\n",
      "Processing audio file class:  Comm\n",
      "v:3\n",
      "Accuracy: 0.833\n",
      "Processing negative audio file:  ./dataset_mix/negative/background/2019-11-12-09-00_Schleusinger-Allee_70Kmh_19141119_SE_CH34-BG.wav\n",
      "v:1\n",
      "Accuracy: 0.84\n",
      "Processing audio file:  ./dataset_mix/positive/Car/2019-10-23-08-35_Fraunhofer-IDMT_30Kmh_321560_M_D_CL_SE_CH34.wav\n",
      "Processing audio file class:  Car\n",
      "v:3\n",
      "Accuracy: 0.846\n",
      "Processing negative audio file:  ./dataset_mix/negative/background/2019-11-13-15-55_Schleusinger-Allee_70Kmh_11550720_ME_CH12-BG.wav\n",
      "v:0\n",
      "Accuracy: 0.852\n",
      "Processing audio file:  ./dataset_mix/positive/Car/2019-11-13-15-30_Schleusinger-Allee_70Kmh_817176_A_D_CR_SE_CH34.wav\n",
      "Processing audio file class:  Car\n",
      "v:3\n",
      "Accuracy: 0.857\n",
      "Processing negative audio file:  ./dataset_mix/negative/background/2019-10-23-16-20_Fraunhofer-IDMT_30Kmh_23437824_ME_CH12-BG.wav\n",
      "v:0\n",
      "Accuracy: 0.862\n",
      "Processing audio file:  ./dataset_mix/positive/Car/2019-11-13-15-55_Schleusinger-Allee_70Kmh_2388418_A_D_CL_SE_CH34.wav\n",
      "Processing audio file class:  Car\n",
      "Accuracy: 0.833\n",
      "Processing negative audio file:  ./dataset_mix/negative/background/2019-11-13-15-55_Schleusinger-Allee_70Kmh_116644863_SE_CH34-BG.wav\n",
      "v:0\n",
      "Accuracy: 0.839\n",
      "Processing audio file:  ./dataset_mix/positive/Car/2019-11-12-16-00_Schleusinger-Allee_70Kmh_1249976_A_W_CL_ME_CH12.wav\n",
      "Processing audio file class:  Car\n",
      "v:3\n",
      "Accuracy: 0.844\n",
      "Processing negative audio file:  ./dataset_mix/negative/background/2019-11-19-07-25_Langewiesener-Strasse_50Kmh_131637504_ME_CH12-BG.wav\n",
      "v:0\n",
      "Accuracy: 0.848\n",
      "Processing audio file:  ./dataset_mix/positive/Motorcycle/Y-x82XURdVww_90.000_100.000.wav\n",
      "Processing audio file class:  Motorcycle\n",
      "v:3\n",
      "Accuracy: 0.853\n",
      "Processing negative audio file:  ./dataset_mix/negative/background/2019-10-23-16-20_Fraunhofer-IDMT_30Kmh_20070912_SE_CH34-BG.wav\n",
      "v:2\n",
      "Accuracy: 0.857\n",
      "Processing audio file:  ./dataset_mix/positive/Car/2019-11-19-15-25_Langewiesener-Strasse_50Kmh_904744_A_D_CR_ME_CH12.wav\n",
      "Processing audio file class:  Car\n",
      "v:3\n",
      "Accuracy: 0.861\n",
      "Processing negative audio file:  ./dataset_mix/negative/background/2019-11-19-07-25_Langewiesener-Strasse_50Kmh_35384064_ME_CH12-BG.wav\n",
      "v:0\n",
      "Accuracy: 0.865\n",
      "Processing audio file:  ./dataset_mix/positive/Comm/YaFyI9izG7AY_30.000_40.000.wav\n",
      "Processing audio file class:  Comm\n",
      "v:3\n",
      "Accuracy: 0.868\n",
      "Processing negative audio file:  ./dataset_mix/negative/background/2019-11-19-07-25_Langewiesener-Strasse_50Kmh_7703039_ME_CH12-BG.wav\n",
      "v:1\n",
      "Accuracy: 0.872\n",
      "Processing audio file:  ./dataset_mix/positive/Car/Y5Syg1u207uo_30.000_40.000.wav\n",
      "Processing audio file class:  Car\n",
      "v:3\n",
      "Accuracy: 0.875\n",
      "Processing negative audio file:  ./dataset_mix/negative/background/2019-11-18-15-45_Langewiesener-Strasse_50Kmh_81238272_SE_CH34-BG.wav\n",
      "v:0\n",
      "Accuracy: 0.878\n",
      "Processing audio file:  ./dataset_mix/positive/Comm/Yd4VloV6t4-c_30.000_40.000.wav\n",
      "Processing audio file class:  Comm\n",
      "v:3\n",
      "Accuracy: 0.881\n",
      "Processing negative audio file:  ./dataset_mix/negative/background/2019-11-19-15-25_Langewiesener-Strasse_50Kmh_143716608_ME_CH12-BG.wav\n",
      "v:1\n",
      "Accuracy: 0.884\n",
      "Processing audio file:  ./dataset_mix/positive/Comm/2019-11-18-15-45_Langewiesener-Strasse_50Kmh_775784_A_D_TL_SE_CH34.wav\n",
      "Processing audio file class:  Comm\n",
      "v:3\n",
      "Accuracy: 0.886\n",
      "Processing negative audio file:  ./dataset_mix/negative/background/2019-10-22-15-30_Fraunhofer-IDMT_30Kmh_7430400_SE_CH34-BG.wav\n",
      "Accuracy: 0.867\n",
      "Processing audio file:  ./dataset_mix/positive/Comm/YAuK5XpdDQo8_30.000_40.000.wav\n",
      "Processing audio file class:  Comm\n",
      "Accuracy: 0.848\n",
      "Processing negative audio file:  ./dataset_mix/negative/background/2019-10-23-08-35_Fraunhofer-IDMT_30Kmh_10803456_ME_CH12-BG.wav\n",
      "v:1\n",
      "Accuracy: 0.851\n",
      "Processing audio file:  ./dataset_mix/positive/Car/Yh2SMBh8uHV8_30.000_40.000.wav\n",
      "Processing audio file class:  Car\n",
      "v:3\n",
      "Accuracy: 0.854\n",
      "Processing negative audio file:  ./dataset_mix/negative/background/2019-10-22-08-40_Fraunhofer-IDMT_30Kmh_10749440_SE_CH34-BG.wav\n",
      "Accuracy: 0.837\n",
      "Processing audio file:  ./dataset_mix/positive/Car/YO6VfhrJlil4_30.000_40.000.wav\n",
      "Processing audio file class:  Car\n",
      "Accuracy: 0.82\n",
      "Processing negative audio file:  ./dataset_mix/negative/background/2019-11-18-07-25_Langewiesener-Strasse_50Kmh_49763328_SE_CH34-BG.wav\n",
      "v:0\n",
      "Accuracy: 0.824\n",
      "Processing audio file:  ./dataset_mix/positive/Car/2019-11-19-07-25_Langewiesener-Strasse_50Kmh_537794_M_D_CR_SE_CH34.wav\n",
      "Processing audio file class:  Car\n",
      "v:3\n",
      "Accuracy: 0.827\n",
      "Processing negative audio file:  ./dataset_mix/negative/background/2019-11-19-07-25_Langewiesener-Strasse_50Kmh_89949696_SE_CH34-BG.wav\n",
      "v:0\n",
      "Accuracy: 0.83\n",
      "Processing audio file:  ./dataset_mix/positive/Car/2019-11-13-08-00_Schleusinger-Allee_70Kmh_870584_M_W_CL_ME_CH12.wav\n",
      "Processing audio file class:  Car\n",
      "v:3\n",
      "Accuracy: 0.833\n",
      "Processing negative audio file:  ./dataset_mix/negative/background/2019-11-18-15-45_Langewiesener-Strasse_50Kmh_49520640_ME_CH12-BG.wav\n",
      "v:0\n",
      "Accuracy: 0.836\n",
      "Processing audio file:  ./dataset_mix/positive/Comm/Y7W3QKc-A1-4_30.000_40.000.wav\n",
      "Processing audio file class:  Comm\n",
      "v:3\n",
      "Accuracy: 0.839\n",
      "Processing negative audio file:  ./dataset_mix/negative/background/2019-11-19-15-25_Langewiesener-Strasse_50Kmh_44143104_ME_CH12-BG.wav\n",
      "v:1\n",
      "Accuracy: 0.842\n",
      "Processing audio file:  ./dataset_mix/positive/Comm/Y0jrB_P6NmEM_30.000_40.000.wav\n",
      "Processing audio file class:  Comm\n",
      "v:3\n",
      "Accuracy: 0.845\n",
      "Processing negative audio file:  ./dataset_mix/negative/background/2019-11-13-15-55_Schleusinger-Allee_70Kmh_96834048_ME_CH12-BG.wav\n",
      "v:1\n",
      "Accuracy: 0.847\n",
      "Processing audio file:  ./dataset_mix/positive/Car/2019-11-18-16-40_Langewiesener-Strasse_50Kmh_350082_A_D_CR_ME_CH12.wav\n",
      "Processing audio file class:  Car\n",
      "v:3\n",
      "Accuracy: 0.85\n",
      "Processing negative audio file:  ./dataset_mix/negative/background/2019-11-18-15-45_Langewiesener-Strasse_50Kmh_121933824_ME_CH12-BG.wav\n",
      "Accuracy: 0.836\n",
      "Processing audio file:  ./dataset_mix/positive/Motorcycle/Yeohhx9GRvxA_30.000_40.000.wav\n",
      "Processing audio file class:  Motorcycle\n",
      "Accuracy: 0.823\n",
      "Processing negative audio file:  ./dataset_mix/negative/background/2019-10-22-08-40_Fraunhofer-IDMT_30Kmh_10173440_ME_CH12-BG.wav\n",
      "v:2\n",
      "Accuracy: 0.825\n",
      "Processing audio file:  ./dataset_mix/positive/Car/2019-11-18-15-45_Langewiesener-Strasse_50Kmh_1922525_A_D_CL_ME_CH12.wav\n",
      "Processing audio file class:  Car\n",
      "v:3\n",
      "Accuracy: 0.828\n",
      "Processing negative audio file:  ./dataset_mix/negative/background/2019-11-13-15-55_Schleusinger-Allee_70Kmh_95888640_ME_CH12-BG.wav\n",
      "v:0\n",
      "Accuracy: 0.831\n",
      "Processing audio file:  ./dataset_mix/positive/Car/2019-11-12-09-00_Schleusinger-Allee_70Kmh_2683928_M_W_CR_ME_CH12.wav\n",
      "Processing audio file class:  Car\n",
      "v:3\n",
      "Accuracy: 0.833\n",
      "Processing negative audio file:  ./dataset_mix/negative/background/2019-10-22-15-30_Fraunhofer-IDMT_30Kmh_9830400_ME_CH12-BG.wav\n",
      "Accuracy: 0.821\n",
      "Processing audio file:  ./dataset_mix/positive/Motorcycle/YtTREQA5libo_10.000_20.000.wav\n",
      "Processing audio file class:  Motorcycle\n",
      "Accuracy: 0.809\n",
      "Processing negative audio file:  ./dataset_mix/negative/background/2019-11-12-09-00_Schleusinger-Allee_70Kmh_28102400_ME_CH12-BG.wav\n"
     ]
    },
    {
     "ename": "KeyboardInterrupt",
     "evalue": "",
     "output_type": "error",
     "traceback": [
      "\u001b[0;31m---------------------------------------------------------------------------\u001b[0m",
      "\u001b[0;31mKeyboardInterrupt\u001b[0m                         Traceback (most recent call last)",
      "Cell \u001b[0;32mIn[190], line 16\u001b[0m\n\u001b[1;32m     14\u001b[0m \u001b[38;5;28mprint\u001b[39m(\u001b[38;5;124m\"\u001b[39m\u001b[38;5;124mProcessing negative audio file: \u001b[39m\u001b[38;5;124m\"\u001b[39m, negative_audio_files[negative_audio_file_pointer])\n\u001b[1;32m     15\u001b[0m \u001b[38;5;66;03m# Stream negative audio file to MCU.\u001b[39;00m\n\u001b[0;32m---> 16\u001b[0m \u001b[43mstreamAudioFile\u001b[49m\u001b[43m(\u001b[49m\u001b[43mnegative_audio_files\u001b[49m\u001b[43m[\u001b[49m\u001b[43mnegative_audio_file_pointer\u001b[49m\u001b[43m]\u001b[49m\u001b[43m,\u001b[49m\u001b[43m \u001b[49m\u001b[43m[\u001b[49m\u001b[38;5;241;43m0\u001b[39;49m\u001b[43m,\u001b[49m\u001b[38;5;241;43m0\u001b[39;49m\u001b[43m,\u001b[49m\u001b[38;5;241;43m0\u001b[39;49m\u001b[43m,\u001b[49m\u001b[38;5;241;43m1\u001b[39;49m\u001b[43m]\u001b[49m\u001b[43m,\u001b[49m\u001b[43m \u001b[49m\u001b[43mi\u001b[49m\u001b[43m)\u001b[49m\n\u001b[1;32m     17\u001b[0m \u001b[38;5;66;03m# Increment the negative audio file pointer.\u001b[39;00m\n\u001b[1;32m     18\u001b[0m negative_audio_file_pointer \u001b[38;5;241m=\u001b[39m (negative_audio_file_pointer \u001b[38;5;241m+\u001b[39m \u001b[38;5;241m1\u001b[39m) \u001b[38;5;241m%\u001b[39m \u001b[38;5;28mlen\u001b[39m(negative_audio_files)\n",
      "Cell \u001b[0;32mIn[189], line 25\u001b[0m, in \u001b[0;36mstreamAudioFile\u001b[0;34m(file_path, realClass, i)\u001b[0m\n\u001b[1;32m     21\u001b[0m audio_data \u001b[38;5;241m=\u001b[39m np\u001b[38;5;241m.\u001b[39marray(audio_data, dtype\u001b[38;5;241m=\u001b[39mnp\u001b[38;5;241m.\u001b[39mfloat32)\n\u001b[1;32m     22\u001b[0m \u001b[38;5;66;03m# Send the audio data to the MCU.\u001b[39;00m\n\u001b[1;32m     23\u001b[0m \u001b[38;5;66;03m#for j in range(len(audio_data)):\u001b[39;00m\n\u001b[1;32m     24\u001b[0m \u001b[38;5;66;03m#    data_to_send = audio_data[j].tobytes()\u001b[39;00m\n\u001b[0;32m---> 25\u001b[0m \u001b[43mser\u001b[49m\u001b[38;5;241;43m.\u001b[39;49m\u001b[43mwrite\u001b[49m\u001b[43m(\u001b[49m\u001b[43maudio_data\u001b[49m\u001b[38;5;241;43m.\u001b[39;49m\u001b[43mtobytes\u001b[49m\u001b[43m(\u001b[49m\u001b[43m)\u001b[49m\u001b[43m)\u001b[49m\n\u001b[1;32m     27\u001b[0m \u001b[38;5;28;01mwhile\u001b[39;00m ser\u001b[38;5;241m.\u001b[39min_waiting \u001b[38;5;241m>\u001b[39m \u001b[38;5;241m0\u001b[39m:\n\u001b[1;32m     28\u001b[0m     response \u001b[38;5;241m=\u001b[39m ser\u001b[38;5;241m.\u001b[39mreadline()\u001b[38;5;241m.\u001b[39mdecode(\u001b[38;5;124m'\u001b[39m\u001b[38;5;124mutf-8\u001b[39m\u001b[38;5;124m'\u001b[39m)\u001b[38;5;241m.\u001b[39mstrip()\n",
      "File \u001b[0;32m~/Python/tfenv/lib/python3.10/site-packages/serial/serialposix.py:640\u001b[0m, in \u001b[0;36mSerial.write\u001b[0;34m(self, data)\u001b[0m\n\u001b[1;32m    638\u001b[0m \u001b[38;5;28;01massert\u001b[39;00m timeout\u001b[38;5;241m.\u001b[39mtime_left() \u001b[38;5;129;01mis\u001b[39;00m \u001b[38;5;28;01mNone\u001b[39;00m\n\u001b[1;32m    639\u001b[0m \u001b[38;5;66;03m# wait for write operation\u001b[39;00m\n\u001b[0;32m--> 640\u001b[0m abort, ready, _ \u001b[38;5;241m=\u001b[39m \u001b[43mselect\u001b[49m\u001b[38;5;241;43m.\u001b[39;49m\u001b[43mselect\u001b[49m\u001b[43m(\u001b[49m\u001b[43m[\u001b[49m\u001b[38;5;28;43mself\u001b[39;49m\u001b[38;5;241;43m.\u001b[39;49m\u001b[43mpipe_abort_write_r\u001b[49m\u001b[43m]\u001b[49m\u001b[43m,\u001b[49m\u001b[43m \u001b[49m\u001b[43m[\u001b[49m\u001b[38;5;28;43mself\u001b[39;49m\u001b[38;5;241;43m.\u001b[39;49m\u001b[43mfd\u001b[49m\u001b[43m]\u001b[49m\u001b[43m,\u001b[49m\u001b[43m \u001b[49m\u001b[43m[\u001b[49m\u001b[43m]\u001b[49m\u001b[43m,\u001b[49m\u001b[43m \u001b[49m\u001b[38;5;28;43;01mNone\u001b[39;49;00m\u001b[43m)\u001b[49m\n\u001b[1;32m    641\u001b[0m \u001b[38;5;28;01mif\u001b[39;00m abort:\n\u001b[1;32m    642\u001b[0m     os\u001b[38;5;241m.\u001b[39mread(\u001b[38;5;28mself\u001b[39m\u001b[38;5;241m.\u001b[39mpipe_abort_write_r, \u001b[38;5;241m1\u001b[39m)\n",
      "\u001b[0;31mKeyboardInterrupt\u001b[0m: "
     ]
    }
   ],
   "source": [
    "\n",
    "total_positive_audio_files = len(positive_audio_files)\n",
    "\n",
    "# Loop each audio file.\n",
    "negative_audio_file_pointer = 0\n",
    "for i in range(total_positive_audio_files):\n",
    "    # Get audio file path.\n",
    "    audio_file = positive_audio_files[i]\n",
    "    # Print audio file path and class.\n",
    "    print(\"Processing audio file: \", audio_file)\n",
    "    print(\"Processing audio file class: \", positive_audio_file_classes[i])\n",
    "    # Stream positive audio file to MCU.\n",
    "    streamAudioFile(audio_file, positive_audio_file_classes_categorical[i], i)\n",
    "    # Print nagtive audio file path and class.\n",
    "    print(\"Processing negative audio file: \", negative_audio_files[negative_audio_file_pointer])\n",
    "    # Stream negative audio file to MCU.\n",
    "    streamAudioFile(negative_audio_files[negative_audio_file_pointer], [0,0,0,1], i)\n",
    "    # Increment the negative audio file pointer.\n",
    "    negative_audio_file_pointer = (negative_audio_file_pointer + 1) % len(negative_audio_files)"
   ]
  },
  {
   "cell_type": "code",
   "execution_count": null,
   "metadata": {},
   "outputs": [],
   "source": [
    "# Close the serial port\n",
    "ser.close()"
   ]
  }
 ],
 "metadata": {
  "kernelspec": {
   "display_name": "tfenv",
   "language": "python",
   "name": "python3"
  },
  "language_info": {
   "codemirror_mode": {
    "name": "ipython",
    "version": 3
   },
   "file_extension": ".py",
   "mimetype": "text/x-python",
   "name": "python",
   "nbconvert_exporter": "python",
   "pygments_lexer": "ipython3",
   "version": "3.10.16"
  }
 },
 "nbformat": 4,
 "nbformat_minor": 2
}
