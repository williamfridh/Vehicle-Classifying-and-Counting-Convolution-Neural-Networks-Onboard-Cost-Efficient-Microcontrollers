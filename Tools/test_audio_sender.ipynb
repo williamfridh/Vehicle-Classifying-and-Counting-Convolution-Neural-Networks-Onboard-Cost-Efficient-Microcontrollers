{
 "cells": [
  {
   "cell_type": "markdown",
   "metadata": {},
   "source": [
    "# Test Audio Sender\n",
    "\n",
    "This file is used for sending audio data to the device. It measures the accuracy based on individual audio files."
   ]
  },
  {
   "cell_type": "markdown",
   "metadata": {},
   "source": [
    "**Note that the software on the MCU must match this!**"
   ]
  },
  {
   "cell_type": "code",
   "execution_count": 219,
   "metadata": {},
   "outputs": [],
   "source": [
    "AUDIO_FOLDER_PATH = \"./test\"\n",
    "POSITIVE_PATH = f\"{AUDIO_FOLDER_PATH}/positive\"\n",
    "NEGATIVE_PATH = f\"{AUDIO_FOLDER_PATH}/negative\""
   ]
  },
  {
   "cell_type": "code",
   "execution_count": 220,
   "metadata": {},
   "outputs": [],
   "source": [
    "import numpy as np\n",
    "import pandas as pd\n",
    "import gc\n",
    "import os\n",
    "import librosa\n",
    "from sklearn.preprocessing import LabelEncoder\n",
    "from tensorflow.keras.utils import to_categorical\n",
    "import serial\n",
    "import struct"
   ]
  },
  {
   "cell_type": "code",
   "execution_count": 221,
   "metadata": {},
   "outputs": [
    {
     "name": "stdout",
     "output_type": "stream",
     "text": [
      "Processing class folder:  ./test/positive/comm\n",
      "positive_audio_files length:  1\n",
      "positive_audio_file_classes length:  1\n"
     ]
    }
   ],
   "source": [
    "# Collecte positive audio files and their classes\n",
    "positive_audio_files = []\n",
    "positive_audio_file_classes = []\n",
    "# Look each file in the audio folder\n",
    "audio_class_folders = os.listdir(POSITIVE_PATH)\n",
    "# Loop each class folder\n",
    "for audio_class_folder in audio_class_folders:\n",
    "    # Assemble full audio class folder path.\n",
    "    audio_class_folder_path = os.path.join(POSITIVE_PATH, audio_class_folder)\n",
    "    print(\"Processing class folder: \", audio_class_folder_path)\n",
    "    # Get all files in the audio class folder\n",
    "    audio_class_files = os.listdir(audio_class_folder_path)\n",
    "    # Loop each audio file in the audio class folder\n",
    "    for audio_class_file in audio_class_files:\n",
    "        # Assemble full audio file path.\n",
    "        audio_file_path = os.path.join(audio_class_folder_path, audio_class_file)\n",
    "        # Append the audio file path to the positive_audio_files list\n",
    "        positive_audio_files.append(audio_file_path)\n",
    "        # Append the audio class to the audio_file_classes list\n",
    "        positive_audio_file_classes.append(audio_class_folder)\n",
    "print(\"positive_audio_files length: \", len(positive_audio_files))\n",
    "print(\"positive_audio_file_classes length: \", len(positive_audio_file_classes))"
   ]
  },
  {
   "cell_type": "code",
   "execution_count": 222,
   "metadata": {},
   "outputs": [
    {
     "data": {
      "text/plain": [
       "'comm'"
      ]
     },
     "execution_count": 222,
     "metadata": {},
     "output_type": "execute_result"
    }
   ],
   "source": [
    "positive_audio_file_classes[0]"
   ]
  },
  {
   "cell_type": "code",
   "execution_count": 223,
   "metadata": {},
   "outputs": [
    {
     "name": "stdout",
     "output_type": "stream",
     "text": [
      "negative_audio_files length:  0\n",
      "negative_audio_file_classes length:  0\n"
     ]
    }
   ],
   "source": [
    "# Collecte negative audio files and their classes\n",
    "negative_audio_files = []\n",
    "negative_audio_file_classes = []\n",
    "# Look each file in the audio folder\n",
    "audio_class_folders = os.listdir(NEGATIVE_PATH)\n",
    "# Loop each class folder\n",
    "for audio_class_folder in audio_class_folders:\n",
    "    # Assemble full audio class folder path.\n",
    "    audio_class_folder_path = os.path.join(NEGATIVE_PATH, audio_class_folder)\n",
    "    print(\"Processing class folder: \", audio_class_folder_path)\n",
    "    # Get all files in the audio class folder\n",
    "    audio_class_files = os.listdir(audio_class_folder_path)\n",
    "    # Loop each audio file in the audio class folder\n",
    "    for audio_class_file in audio_class_files:\n",
    "        # Assemble full audio file path.\n",
    "        audio_file_path = os.path.join(audio_class_folder_path, audio_class_file)\n",
    "        # Append the audio file path to the negative_audio_files list\n",
    "        negative_audio_files.append(audio_file_path)\n",
    "        # Append the audio class to the audio_file_classes list\n",
    "        negative_audio_file_classes.append(audio_class_folder)\n",
    "print(\"negative_audio_files length: \", len(negative_audio_files[0:10]))\n",
    "print(\"negative_audio_file_classes length: \", len(negative_audio_file_classes[0:10]))"
   ]
  },
  {
   "cell_type": "code",
   "execution_count": 224,
   "metadata": {},
   "outputs": [],
   "source": [
    "# Shuffle the audio files and classes with the same seed.\n",
    "seed = 42\n",
    "np.random.seed(seed)\n",
    "np.random.shuffle(positive_audio_files)\n",
    "\n",
    "np.random.seed(seed)\n",
    "np.random.shuffle(positive_audio_file_classes)\n",
    "\n",
    "np.random.seed(seed)\n",
    "np.random.shuffle(negative_audio_files)"
   ]
  },
  {
   "cell_type": "code",
   "execution_count": 225,
   "metadata": {},
   "outputs": [
    {
     "name": "stdout",
     "output_type": "stream",
     "text": [
      "Example of audio_file_classes_categorial:  [[1.]]\n"
     ]
    }
   ],
   "source": [
    "# Hot end code the labels.\n",
    "label_encoder = LabelEncoder()\n",
    "positive_audio_file_classes_categorical = to_categorical(label_encoder.fit_transform(positive_audio_file_classes))\n",
    "print(\"Example of audio_file_classes_categorial: \", positive_audio_file_classes_categorical[0:10])"
   ]
  },
  {
   "cell_type": "code",
   "execution_count": 226,
   "metadata": {},
   "outputs": [
    {
     "name": "stdout",
     "output_type": "stream",
     "text": [
      "Configuring serial port...\n"
     ]
    }
   ],
   "source": [
    "# Connect to MCU via serial.\n",
    "print(\"Configuring serial port...\")\n",
    "ser = serial.Serial(\n",
    "    port='/dev/ttyACM0',  # Change this to your actual port, e.g., 'COM3' on Windows, '/dev/ttyS0' on Linux\n",
    "    baudrate=921600,       # Set baud rate to 921600\n",
    "    bytesize=serial.EIGHTBITS,\n",
    "    parity=serial.PARITY_NONE,\n",
    "    stopbits=serial.STOPBITS_ONE,\n",
    "    timeout=0.1,           # Set timeout for reading\n",
    "    write_timeout=None     # Wait indefinitely until all data is sent\n",
    ")"
   ]
  },
  {
   "cell_type": "code",
   "execution_count": 227,
   "metadata": {},
   "outputs": [
    {
     "name": "stdout",
     "output_type": "stream",
     "text": [
      "Serial port /dev/ttyACM0 opened at 921600 baud.\n"
     ]
    }
   ],
   "source": [
    "if ser.is_open:\n",
    "    print(f\"Serial port {ser.port} opened at {ser.baudrate} baud.\")"
   ]
  },
  {
   "cell_type": "code",
   "execution_count": 228,
   "metadata": {},
   "outputs": [],
   "source": [
    "def calc_accuracy(y_true, y_pred):\n",
    "    success = 0\n",
    "    for i in range(len(y_pred)):\n",
    "        if y_pred[i] == y_true[i]:\n",
    "            success += 1\n",
    "    res = round(success / len(y_pred), 3)\n",
    "    return res"
   ]
  },
  {
   "cell_type": "code",
   "execution_count": 229,
   "metadata": {},
   "outputs": [],
   "source": [
    "audioSent = 0\n",
    "audioFilesProcessed = 0\n",
    "results = []\n",
    "realResults = []"
   ]
  },
  {
   "cell_type": "code",
   "execution_count": 230,
   "metadata": {},
   "outputs": [
    {
     "data": {
      "text/plain": [
       "array([1.])"
      ]
     },
     "execution_count": 230,
     "metadata": {},
     "output_type": "execute_result"
    }
   ],
   "source": [
    "positive_audio_file_classes_categorical[0]"
   ]
  },
  {
   "cell_type": "code",
   "execution_count": 231,
   "metadata": {},
   "outputs": [],
   "source": [
    "def streamAudioFile(file_path, realClass, i):\n",
    "    global audioSent\n",
    "    global results\n",
    "    global realResults\n",
    "    global audioBuffer\n",
    "    voted = False\n",
    "    # Append the real result to the results list.\n",
    "    realResults.append(np.argmax(realClass))\n",
    "    #print(f\"Adding realResults: {realResults}\")\n",
    "    # Check file format.\n",
    "    if not file_path.endswith('.wav'):\n",
    "        print(\"Error: Only .wav files are supported.\")\n",
    "        return\n",
    "    # Load the audio file.\n",
    "    audio_data, sr = librosa.load(file_path, sr=None)\n",
    "    # Convert sample rate to 16kHz.\n",
    "    if sr != 16000:\n",
    "        audio_data = librosa.resample(y=audio_data, orig_sr=sr, target_sr=16000)\n",
    "        sr = 16000\n",
    "    # Convert the audio data to a numpy array.\n",
    "    audio_data = np.array(audio_data, dtype=np.float32)\n",
    "    # Send the audio data to the MCU.\n",
    "    for j in range(len(audio_data)):\n",
    "        data_to_send = audio_data[j].tobytes()\n",
    "        ser.write(data_to_send)\n",
    "\n",
    "        while ser.in_waiting > 0:\n",
    "            response = ser.readline().decode('utf-8').strip()\n",
    "            if response.startswith(\"e:\"):\n",
    "                print(response)\n",
    "                return\n",
    "            if response.startswith(\"c:\"):\n",
    "                print(response)\n",
    "            if response.startswith(\"s:\"):\n",
    "                print(response)\n",
    "            if response.startswith(\"v:\"):\n",
    "                voted = True\n",
    "                print(response)\n",
    "                #print(f\"Adding {int(response[2:])} to results\")\n",
    "                response = int(response[2:])\n",
    "                results.append(response)\n",
    "                if len(results) > len(realResults):\n",
    "                    realResults.append(9)\n",
    "                print(f\"Accuracy: {calc_accuracy(realResults, results)}\")\n",
    "    # If result is shorter than realResults, append 9 to results.\n",
    "    if i > 0 and len(results) < len(realResults) and not voted:\n",
    "        results.append(9)\n",
    "        print(f\"Accuracy: {calc_accuracy(realResults, results)}\")"
   ]
  },
  {
   "cell_type": "code",
   "execution_count": 232,
   "metadata": {},
   "outputs": [
    {
     "name": "stdout",
     "output_type": "stream",
     "text": [
      "Processing audio file:  ./test/positive/comm/2019-10-22-08-40_Fraunhofer-IDMT_30Kmh_178946_M_D_BL_ME_CH12.wav\n",
      "Processing audio file class:  comm\n",
      "s:-127 -127 -48 -42 -35 -37 -37 -39 -26 12 16 16 23 18 16 14 7 16 1 2 2 1 2 0 9 8 5 8 6 8 7 6 5 7 7 4 3 3 1 4 9 7 5 2 3 1 1 2 7 2 2 2 2 2 0 2 9 7 4 8 6 7 6 6 5 11 3 5 4 5 7 6 6 11 9 9 8 11 10 13 10 7 8 9 11 9 10 8 9 4 6 7 9 7 11 9 4 5 7 5 9 6 9 8 9 9 8 5 6 5 9 7 7 7 9 9 6 7 9 8 8 10 8 10 5 10 9 7\n",
      "c: [-2592,-2792,-3963,-7547] voted for: 3\n",
      "s:-40 -39 -44 -43 -39 -41 -37 -39 15 19 14 15 19 18 16 17 -1 1 0 -1 1 1 4 4 8 6 6 7 6 4 10 8 4 1 3 5 1 1 0 3 5 1 3 5 3 5 3 7 2 2 6 6 5 4 7 6 4 4 5 7 4 4 6 5 8 4 7 3 5 1 6 8 12 11 13 9 8 8 10 9 7 7 7 7 6 4 5 5 12 8 7 10 9 10 8 9 10 8 6 8 6 8 7 7 6 6 5 6 5 5 6 5 4 6 7 7 6 7 8 6 7 7 9 6 8 6 7 4\n",
      "c: [-2675,-2783,-4032,-7660] voted for: 3\n",
      "s:-45 -47 -42 -45 -43 -43 -39 -41 15 15 14 13 13 13 17 17 4 2 2 5 3 1 7 4 8 3 5 6 3 3 5 4 -1 1 1 3 1 0 4 2 0 5 6 8 8 5 5 5 2 5 5 5 4 6 2 3 5 6 8 6 8 6 8 6 5 10 9 6 7 6 9 5 13 14 9 9 9 11 9 8 7 8 7 8 8 8 5 7 6 5 4 8 9 8 6 8 5 5 4 6 8 6 5 5 4 7 6 4 8 6 7 5 9 6 7 5 6 6 7 5 6 6 7 6 7 6 7 7\n",
      "c: [-2787,-2698,-4146,-7775] voted for: 3\n",
      "s:-47 -47 -44 -43 -43 -45 -45 -43 14 17 18 13 17 14 14 17 2 3 2 2 0 -1 -1 1 3 3 6 4 5 2 4 7 3 2 4 2 4 4 4 3 8 4 7 6 7 6 6 8 4 2 2 4 5 4 8 4 11 9 9 7 7 9 9 8 10 7 5 9 5 4 6 10 7 10 9 9 9 6 10 11 8 7 8 8 8 8 7 8 8 8 9 7 10 9 9 9 5 5 6 4 5 7 7 7 6 7 6 5 5 7 7 6 7 7 5 6 5 7 8 6 9 8 5 6 5 7 9 6\n",
      "c: [-2882,-2699,-4249,-7831] voted for: 2\n",
      "s:-46 -44 -43 -46 -47 -45 -46 -46 14 17 18 16 14 11 16 14 8 5 5 4 1 5 5 -1 8 6 6 5 3 5 6 7 2 5 2 3 4 1 5 4 7 7 6 10 7 10 10 7 7 5 3 6 6 8 6 6 5 7 7 5 7 8 9 8 7 7 7 4 5 6 9 9 11 9 11 10 10 10 12 12 10 6 9 7 7 10 7 5 3 7 8 6 8 8 7 5 4 5 6 3 7 8 7 5 4 8 6 4 7 5 3 4 6 7 7 7 8 7 4 7 8 6 6 9 8 9 6 11\n",
      "c: [-2905,-2726,-4341,-7945] voted for: 3\n",
      "s:-43 -38 -39 -40 -39 -38 -39 -45 11 10 10 10 11 8 11 8 3 4 5 4 4 2 4 3 11 9 8 6 9 4 8 11 7 6 6 6 2 0 4 4 9 8 8 10 9 7 9 11 5 3 6 4 6 6 7 9 6 6 8 7 10 7 8 6 8 7 9 10 8 8 8 4 10 12 13 9 12 11 8 9 1 8 8 5 7 9 7 7 7 10 6 5 5 9 6 8 4 8 3 3 5 7 5 5 6 7 3 7 5 5 3 6 8 6 7 7 6 5 7 7 10 7 8 7 8 6 8 5\n",
      "c: [-2959,-2728,-4428,-8058] voted for: 3\n",
      "s:-38 -36 -39 -39 -42 -39 -43 -42 10 8 9 10 6 12 7 10 8 5 4 5 2 9 3 6 13 12 10 13 9 14 12 13 5 8 7 4 4 7 6 4 6 9 4 4 6 3 5 2 8 8 9 8 9 7 7 3 14 7 9 8 9 10 12 12 10 6 5 8 7 6 6 8 12 9 8 13 11 10 10 13 5 8 4 9 7 7 9 9 6 5 5 6 5 6 9 8 8 4 3 5 4 4 5 5 6 4 7 9 6 6 5 5 8 6 6 7 7 5 8 5 4 9 9 8 7 6 8 6\n",
      "c: [-3064,-2837,-4354,-8173] voted for: 3\n",
      "s:-45 -46 -41 -44 -45 -46 -45 -46 8 9 11 12 9 8 8 8 5 7 4 5 4 4 3 2 11 13 13 13 11 13 14 9 6 5 8 6 4 7 6 4 2 3 4 3 4 3 3 4 6 5 5 5 7 4 7 5 9 10 11 11 9 10 13 12 5 2 6 9 5 8 8 7 9 10 11 11 12 11 13 9 8 9 11 9 12 12 13 11 8 8 7 6 8 7 8 7 8 9 9 9 9 7 9 7 7 5 3 8 4 4 4 4 6 6 4 8 6 5 6 5 7 6 5 7 6 6 8 7\n",
      "c: [-3175,-2753,-4468,-8288] voted for: 3\n"
     ]
    },
    {
     "ename": "IndexError",
     "evalue": "list index out of range",
     "output_type": "error",
     "traceback": [
      "\u001b[0;31m---------------------------------------------------------------------------\u001b[0m",
      "\u001b[0;31mIndexError\u001b[0m                                Traceback (most recent call last)",
      "Cell \u001b[0;32mIn[232], line 14\u001b[0m\n\u001b[1;32m     12\u001b[0m streamAudioFile(audio_file, positive_audio_file_classes_categorical[i], i)\n\u001b[1;32m     13\u001b[0m \u001b[38;5;66;03m# Print nagtive audio file path and class.\u001b[39;00m\n\u001b[0;32m---> 14\u001b[0m \u001b[38;5;28mprint\u001b[39m(\u001b[38;5;124m\"\u001b[39m\u001b[38;5;124mProcessing negative audio file: \u001b[39m\u001b[38;5;124m\"\u001b[39m, \u001b[43mnegative_audio_files\u001b[49m\u001b[43m[\u001b[49m\u001b[43mnegative_audio_file_pointer\u001b[49m\u001b[43m]\u001b[49m)\n\u001b[1;32m     15\u001b[0m \u001b[38;5;66;03m# Stream negative audio file to MCU.\u001b[39;00m\n\u001b[1;32m     16\u001b[0m streamAudioFile(negative_audio_files[negative_audio_file_pointer], [\u001b[38;5;241m0\u001b[39m,\u001b[38;5;241m0\u001b[39m,\u001b[38;5;241m0\u001b[39m,\u001b[38;5;241m1\u001b[39m], i)\n",
      "\u001b[0;31mIndexError\u001b[0m: list index out of range"
     ]
    }
   ],
   "source": [
    "\n",
    "total_positive_audio_files = len(positive_audio_files)\n",
    "\n",
    "# Loop each audio file.\n",
    "negative_audio_file_pointer = 0\n",
    "for i in range(total_positive_audio_files):\n",
    "    # Get audio file path.\n",
    "    audio_file = positive_audio_files[i]\n",
    "    # Print audio file path and class.\n",
    "    print(\"Processing audio file: \", audio_file)\n",
    "    print(\"Processing audio file class: \", positive_audio_file_classes[i])\n",
    "    # Stream positive audio file to MCU.\n",
    "    streamAudioFile(audio_file, positive_audio_file_classes_categorical[i], i)\n",
    "    # Print nagtive audio file path and class.\n",
    "    print(\"Processing negative audio file: \", negative_audio_files[negative_audio_file_pointer])\n",
    "    # Stream negative audio file to MCU.\n",
    "    streamAudioFile(negative_audio_files[negative_audio_file_pointer], [0,0,0,1], i)\n",
    "    # Increment the negative audio file pointer.\n",
    "    negative_audio_file_pointer = (negative_audio_file_pointer + 1) % len(negative_audio_files)"
   ]
  },
  {
   "cell_type": "code",
   "execution_count": null,
   "metadata": {},
   "outputs": [],
   "source": [
    "# Close the serial port\n",
    "ser.close()"
   ]
  }
 ],
 "metadata": {
  "kernelspec": {
   "display_name": "Python 3",
   "language": "python",
   "name": "python3"
  },
  "language_info": {
   "codemirror_mode": {
    "name": "ipython",
    "version": 3
   },
   "file_extension": ".py",
   "mimetype": "text/x-python",
   "name": "python",
   "nbconvert_exporter": "python",
   "pygments_lexer": "ipython3",
   "version": "3.10.16"
  }
 },
 "nbformat": 4,
 "nbformat_minor": 2
}
