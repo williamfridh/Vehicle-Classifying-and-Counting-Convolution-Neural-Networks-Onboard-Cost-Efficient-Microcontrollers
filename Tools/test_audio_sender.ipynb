{
 "cells": [
  {
   "cell_type": "markdown",
   "metadata": {},
   "source": [
    "# Test Audio Sender\n",
    "\n",
    "This file is used for sending audio data to the device. It measures the accuracy based on individual audio files."
   ]
  },
  {
   "cell_type": "markdown",
   "metadata": {},
   "source": [
    "**Note that the software on the MCU must match this!**"
   ]
  },
  {
   "cell_type": "code",
   "execution_count": 2,
   "metadata": {},
   "outputs": [],
   "source": [
    "AUDIO_FOLDER_PATH = \"./dataset_mix\"\n",
    "POSITIVE_PATH = f\"{AUDIO_FOLDER_PATH}/positive\"\n",
    "NEGATIVE_PATH = f\"{AUDIO_FOLDER_PATH}/negative\""
   ]
  },
  {
   "cell_type": "code",
   "execution_count": 3,
   "metadata": {},
   "outputs": [
    {
     "name": "stderr",
     "output_type": "stream",
     "text": [
      "2025-04-12 15:21:49.177377: E external/local_xla/xla/stream_executor/cuda/cuda_fft.cc:477] Unable to register cuFFT factory: Attempting to register factory for plugin cuFFT when one has already been registered\n",
      "WARNING: All log messages before absl::InitializeLog() is called are written to STDERR\n",
      "E0000 00:00:1744464109.200445   11010 cuda_dnn.cc:8310] Unable to register cuDNN factory: Attempting to register factory for plugin cuDNN when one has already been registered\n",
      "E0000 00:00:1744464109.206927   11010 cuda_blas.cc:1418] Unable to register cuBLAS factory: Attempting to register factory for plugin cuBLAS when one has already been registered\n",
      "2025-04-12 15:21:49.229494: I tensorflow/core/platform/cpu_feature_guard.cc:210] This TensorFlow binary is optimized to use available CPU instructions in performance-critical operations.\n",
      "To enable the following instructions: AVX2 FMA, in other operations, rebuild TensorFlow with the appropriate compiler flags.\n",
      "/home/fridh/.local/lib/python3.10/site-packages/matplotlib/projections/__init__.py:63: UserWarning: Unable to import Axes3D. This may be due to multiple versions of Matplotlib being installed (e.g. as a system package and as a pip package). As a result, the 3D projection is not available.\n",
      "  warnings.warn(\"Unable to import Axes3D. This may be due to multiple versions of \"\n"
     ]
    }
   ],
   "source": [
    "import numpy as np\n",
    "import pandas as pd\n",
    "import gc\n",
    "import os\n",
    "import librosa\n",
    "from sklearn.preprocessing import LabelEncoder\n",
    "from tensorflow.keras.utils import to_categorical\n",
    "import serial\n",
    "import struct"
   ]
  },
  {
   "cell_type": "code",
   "execution_count": 4,
   "metadata": {},
   "outputs": [
    {
     "name": "stdout",
     "output_type": "stream",
     "text": [
      "Processing class folder:  ./dataset_mix/positive/Car\n",
      "Processing class folder:  ./dataset_mix/positive/Comm\n",
      "Processing class folder:  ./dataset_mix/positive/Motorcycle\n",
      "positive_audio_files length:  18597\n",
      "positive_audio_file_classes length:  18597\n"
     ]
    }
   ],
   "source": [
    "# Collecte positive audio files and their classes\n",
    "positive_audio_files = []\n",
    "positive_audio_file_classes = []\n",
    "# Look each file in the audio folder\n",
    "audio_class_folders = os.listdir(POSITIVE_PATH)\n",
    "# Loop each class folder\n",
    "for audio_class_folder in audio_class_folders:\n",
    "    # Assemble full audio class folder path.\n",
    "    audio_class_folder_path = os.path.join(POSITIVE_PATH, audio_class_folder)\n",
    "    print(\"Processing class folder: \", audio_class_folder_path)\n",
    "    # Get all files in the audio class folder\n",
    "    audio_class_files = os.listdir(audio_class_folder_path)\n",
    "    # Loop each audio file in the audio class folder\n",
    "    for audio_class_file in audio_class_files:\n",
    "        # Assemble full audio file path.\n",
    "        audio_file_path = os.path.join(audio_class_folder_path, audio_class_file)\n",
    "        # Append the audio file path to the positive_audio_files list\n",
    "        positive_audio_files.append(audio_file_path)\n",
    "        # Append the audio class to the audio_file_classes list\n",
    "        positive_audio_file_classes.append(audio_class_folder)\n",
    "print(\"positive_audio_files length: \", len(positive_audio_files))\n",
    "print(\"positive_audio_file_classes length: \", len(positive_audio_file_classes))"
   ]
  },
  {
   "cell_type": "code",
   "execution_count": 5,
   "metadata": {},
   "outputs": [
    {
     "data": {
      "text/plain": [
       "'Car'"
      ]
     },
     "execution_count": 5,
     "metadata": {},
     "output_type": "execute_result"
    }
   ],
   "source": [
    "positive_audio_file_classes[0]"
   ]
  },
  {
   "cell_type": "code",
   "execution_count": 6,
   "metadata": {},
   "outputs": [
    {
     "name": "stdout",
     "output_type": "stream",
     "text": [
      "Processing class folder:  ./dataset_mix/negative/background\n",
      "negative_audio_files length:  10\n",
      "negative_audio_file_classes length:  10\n"
     ]
    }
   ],
   "source": [
    "# Collecte negative audio files and their classes\n",
    "negative_audio_files = []\n",
    "negative_audio_file_classes = []\n",
    "# Look each file in the audio folder\n",
    "audio_class_folders = os.listdir(NEGATIVE_PATH)\n",
    "# Loop each class folder\n",
    "for audio_class_folder in audio_class_folders:\n",
    "    # Assemble full audio class folder path.\n",
    "    audio_class_folder_path = os.path.join(NEGATIVE_PATH, audio_class_folder)\n",
    "    print(\"Processing class folder: \", audio_class_folder_path)\n",
    "    # Get all files in the audio class folder\n",
    "    audio_class_files = os.listdir(audio_class_folder_path)\n",
    "    # Loop each audio file in the audio class folder\n",
    "    for audio_class_file in audio_class_files:\n",
    "        # Assemble full audio file path.\n",
    "        audio_file_path = os.path.join(audio_class_folder_path, audio_class_file)\n",
    "        # Append the audio file path to the negative_audio_files list\n",
    "        negative_audio_files.append(audio_file_path)\n",
    "        # Append the audio class to the audio_file_classes list\n",
    "        negative_audio_file_classes.append(audio_class_folder)\n",
    "print(\"negative_audio_files length: \", len(negative_audio_files[0:10]))\n",
    "print(\"negative_audio_file_classes length: \", len(negative_audio_file_classes[0:10]))"
   ]
  },
  {
   "cell_type": "code",
   "execution_count": 7,
   "metadata": {},
   "outputs": [],
   "source": [
    "# Shuffle the audio files and classes with the same seed.\n",
    "seed = 42\n",
    "np.random.seed(seed)\n",
    "np.random.shuffle(positive_audio_files)\n",
    "\n",
    "np.random.seed(seed)\n",
    "np.random.shuffle(positive_audio_file_classes)\n",
    "\n",
    "np.random.seed(seed)\n",
    "np.random.shuffle(negative_audio_files)"
   ]
  },
  {
   "cell_type": "code",
   "execution_count": 8,
   "metadata": {},
   "outputs": [
    {
     "name": "stdout",
     "output_type": "stream",
     "text": [
      "Example of audio_file_classes_categorial:  [[0. 1. 0.]\n",
      " [0. 1. 0.]\n",
      " [1. 0. 0.]\n",
      " [1. 0. 0.]\n",
      " [1. 0. 0.]\n",
      " [1. 0. 0.]\n",
      " [1. 0. 0.]\n",
      " [0. 1. 0.]\n",
      " [1. 0. 0.]\n",
      " [1. 0. 0.]]\n"
     ]
    }
   ],
   "source": [
    "# Hot end code the labels.\n",
    "label_encoder = LabelEncoder()\n",
    "positive_audio_file_classes_categorical = to_categorical(label_encoder.fit_transform(positive_audio_file_classes))\n",
    "print(\"Example of audio_file_classes_categorial: \", positive_audio_file_classes_categorical[0:10])"
   ]
  },
  {
   "cell_type": "code",
   "execution_count": 9,
   "metadata": {},
   "outputs": [
    {
     "name": "stdout",
     "output_type": "stream",
     "text": [
      "Configuring serial port...\n"
     ]
    }
   ],
   "source": [
    "# Connect to MCU via serial.\n",
    "print(\"Configuring serial port...\")\n",
    "ser = serial.Serial(\n",
    "    port='/dev/ttyACM0',  # Change this to your actual port, e.g., 'COM3' on Windows, '/dev/ttyS0' on Linux\n",
    "    baudrate=921600,       # Set baud rate to 921600\n",
    "    bytesize=serial.EIGHTBITS,\n",
    "    parity=serial.PARITY_NONE,\n",
    "    stopbits=serial.STOPBITS_ONE,\n",
    "    timeout=0.1,           # Set timeout for reading\n",
    "    write_timeout=None     # Wait indefinitely until all data is sent\n",
    ")"
   ]
  },
  {
   "cell_type": "code",
   "execution_count": 10,
   "metadata": {},
   "outputs": [
    {
     "name": "stdout",
     "output_type": "stream",
     "text": [
      "Serial port /dev/ttyACM0 opened at 921600 baud.\n"
     ]
    }
   ],
   "source": [
    "if ser.is_open:\n",
    "    print(f\"Serial port {ser.port} opened at {ser.baudrate} baud.\")"
   ]
  },
  {
   "cell_type": "code",
   "execution_count": 11,
   "metadata": {},
   "outputs": [],
   "source": [
    "def calc_accuracy(y_true, y_pred):\n",
    "    success = 0\n",
    "    for i in range(len(y_pred)):\n",
    "        if y_pred[i] == y_true[i]:\n",
    "            success += 1\n",
    "    res = round(success / len(y_pred), 3)\n",
    "    return res"
   ]
  },
  {
   "cell_type": "code",
   "execution_count": 12,
   "metadata": {},
   "outputs": [],
   "source": [
    "audioSent = 0\n",
    "audioFilesProcessed = 0\n",
    "results = []\n",
    "realResults = []"
   ]
  },
  {
   "cell_type": "code",
   "execution_count": 13,
   "metadata": {},
   "outputs": [
    {
     "data": {
      "text/plain": [
       "array([0., 1., 0.])"
      ]
     },
     "execution_count": 13,
     "metadata": {},
     "output_type": "execute_result"
    }
   ],
   "source": [
    "positive_audio_file_classes_categorical[0]"
   ]
  },
  {
   "cell_type": "code",
   "execution_count": 14,
   "metadata": {},
   "outputs": [],
   "source": [
    "def streamAudioFile(file_path, realClass, i):\n",
    "    global audioSent\n",
    "    global results\n",
    "    global realResults\n",
    "    global audioBuffer\n",
    "    voted = False\n",
    "    # Append the real result to the results list.\n",
    "    realResults.append(np.argmax(realClass))\n",
    "    #print(f\"Adding realResults: {realResults}\")\n",
    "    # Check file format.\n",
    "    if not file_path.endswith('.wav'):\n",
    "        print(\"Error: Only .wav files are supported.\")\n",
    "        return\n",
    "    # Load the audio file.\n",
    "    audio_data, sr = librosa.load(file_path, sr=None)\n",
    "    # Convert sample rate to 16kHz.\n",
    "    if sr != 16000:\n",
    "        audio_data = librosa.resample(y=audio_data, orig_sr=sr, target_sr=16000)\n",
    "        sr = 16000\n",
    "    # Convert the audio data to a numpy array.\n",
    "    audio_data = np.array(audio_data, dtype=np.float32)\n",
    "    # Send the audio data to the MCU.\n",
    "    for j in range(len(audio_data)):\n",
    "        data_to_send = audio_data[j].tobytes()\n",
    "        ser.write(data_to_send)\n",
    "\n",
    "        while ser.in_waiting > 0:\n",
    "            response = ser.readline().decode('utf-8').strip()\n",
    "            if response.startswith(\"e:\"):\n",
    "                print(response)\n",
    "                return\n",
    "            if response.startswith(\"c:\"):\n",
    "                print(response)\n",
    "            if response.startswith(\"s:\"):\n",
    "                print(response)\n",
    "            if response.startswith(\"v:\"):\n",
    "                voted = True\n",
    "                print(response)\n",
    "                #print(f\"Adding {int(response[2:])} to results\")\n",
    "                response = int(response[2:])\n",
    "                results.append(response)\n",
    "                if len(results) > len(realResults):\n",
    "                    realResults.append(9)\n",
    "                print(f\"Accuracy: {calc_accuracy(realResults, results)}\")\n",
    "    # If result is shorter than realResults, append 9 to results.\n",
    "    if i > 0 and len(results) < len(realResults) and not voted:\n",
    "        results.append(9)\n",
    "        print(f\"Accuracy: {calc_accuracy(realResults, results)}\")"
   ]
  },
  {
   "cell_type": "code",
   "execution_count": 15,
   "metadata": {},
   "outputs": [
    {
     "name": "stdout",
     "output_type": "stream",
     "text": [
      "Processing audio file:  ./dataset_mix/positive/Comm/Y99CehZOeqlQ_30.000_40.000.wav\n",
      "Processing audio file class:  Comm\n",
      "c: [-41,-112,9,-112] voted for: 1\n",
      "c: [-152,-225,91,-226] voted for: 3\n",
      "c: [-248,-337,156,-339] voted for: 3\n",
      "c: [-268,-449,144,-450] voted for: 1\n",
      "c: [-373,-563,224,-566] voted for: 3\n",
      "c: [-452,-676,275,-681] voted for: 3\n",
      "c: [-566,-791,363,-797] voted for: 3\n",
      "v:2\n",
      "Accuracy: 0.0\n",
      "c: [-472,-670,292,-685] voted for: 3\n",
      "c: [-388,-782,179,-800] voted for: 3\n",
      "c: [-339,-872,79,-914] voted for: 3\n",
      "c: [-435,-986,148,-1030] voted for: 3\n",
      "c: [-347,-1101,34,-1145] voted for: 1\n",
      "c: [-436,-1215,95,-1260] voted for: 3\n",
      "v:2\n",
      "Accuracy: 0.0\n",
      "c: [88,-653,-283,-689] voted for: 3\n",
      "c: [142,-763,-369,-804] voted for: 3\n",
      "c: [31,-878,-282,-920] voted for: 3\n",
      "c: [-77,-993,-200,-1036] voted for: 3\n",
      "c: [-190,-1106,-116,-1150] voted for: 3\n",
      "c: [-220,-1204,-131,-1263] voted for: 3\n",
      "c: [-264,-1269,-180,-1361] voted for: 3\n",
      "c: [-354,-1371,-130,-1476] voted for: 3\n",
      "c: [-463,-1482,-53,-1590] voted for: 3\n",
      "c: [-406,-1593,-140,-1705] voted for: 3\n",
      "c: [-516,-1707,-57,-1820] voted for: 3\n",
      "c: [-597,-1655,-169,-1934] voted for: 3\n",
      "c: [-512,-1768,-282,-2050] voted for: 3\n",
      "c: [-431,-1882,-389,-2165] voted for: 3\n",
      "c: [-442,-1988,-416,-2276] voted for: 3\n",
      "c: [-371,-2099,-517,-2391] voted for: 3\n",
      "c: [-425,-2185,-520,-2504] voted for: 3\n",
      "c: [-353,-2296,-621,-2619] voted for: 3\n",
      "c: [-465,-2410,-536,-2734] voted for: 3\n",
      "c: [-518,-2520,-516,-2847] voted for: 3\n",
      "c: [-602,-2634,-460,-2961] voted for: 1\n",
      "c: [-706,-2749,-380,-3077] voted for: 3\n",
      "c: [-780,-2862,-335,-3191] voted for: 3\n",
      "c: [-831,-2973,-318,-3303] voted for: 3\n",
      "c: [-912,-3086,-265,-3418] voted for: 3\n",
      "c: [-983,-3198,-224,-3533] voted for: 3\n",
      "Processing negative audio file:  ./dataset_mix/negative/background/2019-11-13-15-55_Schleusinger-Allee_70Kmh_124454655_ME_CH12-BG.wav\n",
      "c: [-1073,-3309,-165,-3648] voted for: 3\n",
      "c: [-1007,-3409,-272,-3762] voted for: 3\n",
      "c: [-960,-3507,-377,-3861] voted for: 2\n",
      "c: [-932,-3611,-468,-3950] voted for: 1\n",
      "c: [-857,-3718,-581,-4061] voted for: 2\n",
      "c: [-791,-3824,-682,-4176] voted for: 3\n",
      "c: [-728,-3922,-789,-4290] voted for: 3\n",
      "c: [-683,-4009,-891,-4401] voted for: 3\n",
      "Processing audio file:  ./dataset_mix/positive/Comm/Y7Rw3S1JRfbc_30.000_40.000.wav\n",
      "Processing audio file class:  Comm\n",
      "c: [-641,-4093,-992,-4515] voted for: 3\n",
      "c: [-642,-4179,-1047,-4629] voted for: 3\n",
      "c: [-645,-4289,-1079,-4741] voted for: 3\n",
      "c: [-723,-4382,-1049,-4856] voted for: 3\n",
      "c: [-773,-4475,-1048,-4970] voted for: 3\n",
      "c: [-849,-4442,-1148,-5084] voted for: 3\n",
      "c: [-859,-4537,-1183,-5200] voted for: 3\n",
      "c: [-949,-4598,-1175,-5313] voted for: 3\n",
      "c: [-1045,-4702,-1117,-5426] voted for: 3\n",
      "c: [-1123,-4792,-1092,-5539] voted for: 3\n",
      "c: [-1167,-4881,-1100,-5654] voted for: 3\n",
      "c: [-1228,-4961,-1103,-5766] voted for: 3\n",
      "c: [-1319,-5062,-1056,-5877] voted for: 3\n",
      "c: [-1403,-5070,-1106,-5991] voted for: 3\n",
      "c: [-1500,-5182,-1038,-6106] voted for: 3\n",
      "c: [-1609,-5294,-959,-6220] voted for: 3\n",
      "c: [-1536,-5407,-1059,-6336] voted for: 3\n",
      "c: [-1529,-5512,-1102,-6451] voted for: 3\n",
      "c: [-1603,-5601,-1081,-6565] voted for: 3\n",
      "c: [-1711,-5711,-1005,-6679] voted for: 3\n",
      "c: [-1794,-5725,-1050,-6793] voted for: 3\n",
      "c: [-1836,-5804,-1072,-6906] voted for: 3\n",
      "c: [-1942,-5913,-1000,-7019] voted for: 3\n",
      "c: [-2042,-6018,-937,-7133] voted for: 3\n",
      "c: [-2127,-6115,-897,-7247] voted for: 3\n",
      "c: [-2172,-6126,-984,-7360] voted for: 3\n",
      "c: [-2277,-6233,-916,-7472] voted for: 3\n",
      "c: [-2328,-6341,-899,-7587] voted for: 3\n",
      "c: [-2399,-6427,-884,-7701] voted for: 3\n",
      "c: [-2495,-6535,-822,-7815] voted for: 3\n",
      "c: [-2578,-6632,-784,-7930] voted for: 3\n",
      "c: [-2664,-6744,-726,-8046] voted for: 3\n",
      "c: [-2771,-6853,-653,-8160] voted for: 3\n",
      "c: [-2876,-6959,-585,-8273] voted for: 3\n",
      "c: [-2951,-7067,-544,-8388] voted for: 3\n",
      "c: [-3012,-7166,-526,-8502] voted for: 3\n",
      "c: [-3106,-7270,-470,-8616] voted for: 3\n",
      "c: [-3209,-7376,-403,-8730] voted for: 3\n",
      "c: [-3297,-7475,-360,-8842] voted for: 3\n",
      "c: [-3393,-7585,-294,-8957] voted for: 3\n",
      "Accuracy: 0.0\n",
      "Processing negative audio file:  ./dataset_mix/negative/background/2019-10-22-08-40_Fraunhofer-IDMT_30Kmh_9885440_ME_CH12-BG.wav\n",
      "c: [-3498,-7695,-220,-9071] voted for: 3\n",
      "c: [-3414,-7807,-333,-9186] voted for: 3\n",
      "c: [-3372,-7917,-405,-9301] voted for: 3\n",
      "c: [-3395,-8009,-433,-9414] voted for: 3\n",
      "c: [-3339,-8105,-535,-9527] voted for: 3\n",
      "c: [-3345,-8209,-567,-9640] voted for: 3\n",
      "c: [-3293,-8309,-661,-9754] voted for: 3\n",
      "c: [-3312,-8417,-677,-9867] voted for: 3\n",
      "Accuracy: 0.0\n",
      "Processing audio file:  ./dataset_mix/positive/Car/2019-10-22-08-40_Fraunhofer-IDMT_30Kmh_2848952_M_D_CL_SE_CH34.wav\n",
      "Processing audio file class:  Car\n",
      "c: [-3411,-8531,-604,-9983] voted for: 3\n",
      "c: [-3475,-8638,-576,-10096] voted for: 3\n",
      "c: [-3582,-8752,-495,-10212] voted for: 3\n"
     ]
    },
    {
     "ename": "KeyboardInterrupt",
     "evalue": "",
     "output_type": "error",
     "traceback": [
      "\u001b[0;31m---------------------------------------------------------------------------\u001b[0m",
      "\u001b[0;31mKeyboardInterrupt\u001b[0m                         Traceback (most recent call last)",
      "Cell \u001b[0;32mIn[15], line 12\u001b[0m\n\u001b[1;32m     10\u001b[0m \u001b[38;5;28mprint\u001b[39m(\u001b[38;5;124m\"\u001b[39m\u001b[38;5;124mProcessing audio file class: \u001b[39m\u001b[38;5;124m\"\u001b[39m, positive_audio_file_classes[i])\n\u001b[1;32m     11\u001b[0m \u001b[38;5;66;03m# Stream positive audio file to MCU.\u001b[39;00m\n\u001b[0;32m---> 12\u001b[0m \u001b[43mstreamAudioFile\u001b[49m\u001b[43m(\u001b[49m\u001b[43maudio_file\u001b[49m\u001b[43m,\u001b[49m\u001b[43m \u001b[49m\u001b[43mpositive_audio_file_classes_categorical\u001b[49m\u001b[43m[\u001b[49m\u001b[43mi\u001b[49m\u001b[43m]\u001b[49m\u001b[43m,\u001b[49m\u001b[43m \u001b[49m\u001b[43mi\u001b[49m\u001b[43m)\u001b[49m\n\u001b[1;32m     13\u001b[0m \u001b[38;5;66;03m# Print nagtive audio file path and class.\u001b[39;00m\n\u001b[1;32m     14\u001b[0m \u001b[38;5;28mprint\u001b[39m(\u001b[38;5;124m\"\u001b[39m\u001b[38;5;124mProcessing negative audio file: \u001b[39m\u001b[38;5;124m\"\u001b[39m, negative_audio_files[negative_audio_file_pointer])\n",
      "Cell \u001b[0;32mIn[14], line 25\u001b[0m, in \u001b[0;36mstreamAudioFile\u001b[0;34m(file_path, realClass, i)\u001b[0m\n\u001b[1;32m     23\u001b[0m \u001b[38;5;28;01mfor\u001b[39;00m j \u001b[38;5;129;01min\u001b[39;00m \u001b[38;5;28mrange\u001b[39m(\u001b[38;5;28mlen\u001b[39m(audio_data)):\n\u001b[1;32m     24\u001b[0m     data_to_send \u001b[38;5;241m=\u001b[39m audio_data[j]\u001b[38;5;241m.\u001b[39mtobytes()\n\u001b[0;32m---> 25\u001b[0m     \u001b[43mser\u001b[49m\u001b[38;5;241;43m.\u001b[39;49m\u001b[43mwrite\u001b[49m\u001b[43m(\u001b[49m\u001b[43mdata_to_send\u001b[49m\u001b[43m)\u001b[49m\n\u001b[1;32m     27\u001b[0m     \u001b[38;5;28;01mwhile\u001b[39;00m ser\u001b[38;5;241m.\u001b[39min_waiting \u001b[38;5;241m>\u001b[39m \u001b[38;5;241m0\u001b[39m:\n\u001b[1;32m     28\u001b[0m         response \u001b[38;5;241m=\u001b[39m ser\u001b[38;5;241m.\u001b[39mreadline()\u001b[38;5;241m.\u001b[39mdecode(\u001b[38;5;124m'\u001b[39m\u001b[38;5;124mutf-8\u001b[39m\u001b[38;5;124m'\u001b[39m)\u001b[38;5;241m.\u001b[39mstrip()\n",
      "File \u001b[0;32m/usr/lib/python3/dist-packages/serial/serialposix.py:640\u001b[0m, in \u001b[0;36mSerial.write\u001b[0;34m(self, data)\u001b[0m\n\u001b[1;32m    638\u001b[0m \u001b[38;5;28;01massert\u001b[39;00m timeout\u001b[38;5;241m.\u001b[39mtime_left() \u001b[38;5;129;01mis\u001b[39;00m \u001b[38;5;28;01mNone\u001b[39;00m\n\u001b[1;32m    639\u001b[0m \u001b[38;5;66;03m# wait for write operation\u001b[39;00m\n\u001b[0;32m--> 640\u001b[0m abort, ready, _ \u001b[38;5;241m=\u001b[39m \u001b[43mselect\u001b[49m\u001b[38;5;241;43m.\u001b[39;49m\u001b[43mselect\u001b[49m\u001b[43m(\u001b[49m\u001b[43m[\u001b[49m\u001b[38;5;28;43mself\u001b[39;49m\u001b[38;5;241;43m.\u001b[39;49m\u001b[43mpipe_abort_write_r\u001b[49m\u001b[43m]\u001b[49m\u001b[43m,\u001b[49m\u001b[43m \u001b[49m\u001b[43m[\u001b[49m\u001b[38;5;28;43mself\u001b[39;49m\u001b[38;5;241;43m.\u001b[39;49m\u001b[43mfd\u001b[49m\u001b[43m]\u001b[49m\u001b[43m,\u001b[49m\u001b[43m \u001b[49m\u001b[43m[\u001b[49m\u001b[43m]\u001b[49m\u001b[43m,\u001b[49m\u001b[43m \u001b[49m\u001b[38;5;28;43;01mNone\u001b[39;49;00m\u001b[43m)\u001b[49m\n\u001b[1;32m    641\u001b[0m \u001b[38;5;28;01mif\u001b[39;00m abort:\n\u001b[1;32m    642\u001b[0m     os\u001b[38;5;241m.\u001b[39mread(\u001b[38;5;28mself\u001b[39m\u001b[38;5;241m.\u001b[39mpipe_abort_write_r, \u001b[38;5;241m1\u001b[39m)\n",
      "\u001b[0;31mKeyboardInterrupt\u001b[0m: "
     ]
    }
   ],
   "source": [
    "\n",
    "total_positive_audio_files = len(positive_audio_files)\n",
    "\n",
    "# Loop each audio file.\n",
    "negative_audio_file_pointer = 0\n",
    "for i in range(total_positive_audio_files):\n",
    "    # Get audio file path.\n",
    "    audio_file = positive_audio_files[i]\n",
    "    # Print audio file path and class.\n",
    "    print(\"Processing audio file: \", audio_file)\n",
    "    print(\"Processing audio file class: \", positive_audio_file_classes[i])\n",
    "    # Stream positive audio file to MCU.\n",
    "    streamAudioFile(audio_file, positive_audio_file_classes_categorical[i], i)\n",
    "    # Print nagtive audio file path and class.\n",
    "    print(\"Processing negative audio file: \", negative_audio_files[negative_audio_file_pointer])\n",
    "    # Stream negative audio file to MCU.\n",
    "    streamAudioFile(negative_audio_files[negative_audio_file_pointer], [0,0,0,1], i)\n",
    "    # Increment the negative audio file pointer.\n",
    "    negative_audio_file_pointer = (negative_audio_file_pointer + 1) % len(negative_audio_files)"
   ]
  },
  {
   "cell_type": "code",
   "execution_count": null,
   "metadata": {},
   "outputs": [],
   "source": [
    "# Close the serial port\n",
    "ser.close()"
   ]
  }
 ],
 "metadata": {
  "kernelspec": {
   "display_name": "Python 3",
   "language": "python",
   "name": "python3"
  },
  "language_info": {
   "codemirror_mode": {
    "name": "ipython",
    "version": 3
   },
   "file_extension": ".py",
   "mimetype": "text/x-python",
   "name": "python",
   "nbconvert_exporter": "python",
   "pygments_lexer": "ipython3",
   "version": "3.10.16"
  }
 },
 "nbformat": 4,
 "nbformat_minor": 2
}
