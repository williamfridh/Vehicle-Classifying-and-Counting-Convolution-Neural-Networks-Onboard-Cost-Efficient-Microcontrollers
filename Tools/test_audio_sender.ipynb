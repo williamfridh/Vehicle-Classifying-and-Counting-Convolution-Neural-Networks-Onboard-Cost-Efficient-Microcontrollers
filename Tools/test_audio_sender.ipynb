{
 "cells": [
  {
   "cell_type": "markdown",
   "metadata": {},
   "source": [
    "# Test Audio Sender\n",
    "\n",
    "This file is used for sending audio data to the device. It measures the accuracy based on individual audio files."
   ]
  },
  {
   "cell_type": "markdown",
   "metadata": {},
   "source": [
    "**Note that the software on the MCU must match this!**"
   ]
  },
  {
   "cell_type": "code",
   "execution_count": 1,
   "metadata": {},
   "outputs": [],
   "source": [
    "AUDIO_FOLDER_PATH = \"./audio\"\n",
    "POSITIVE_PATH = f\"{AUDIO_FOLDER_PATH}/positive\"\n",
    "NEGATIVE_PATH = f\"{AUDIO_FOLDER_PATH}/negative\""
   ]
  },
  {
   "cell_type": "code",
   "execution_count": 2,
   "metadata": {},
   "outputs": [
    {
     "name": "stderr",
     "output_type": "stream",
     "text": [
      "2025-04-10 11:05:16.330853: I external/local_xla/xla/tsl/cuda/cudart_stub.cc:32] Could not find cuda drivers on your machine, GPU will not be used.\n",
      "2025-04-10 11:05:16.334643: I external/local_xla/xla/tsl/cuda/cudart_stub.cc:32] Could not find cuda drivers on your machine, GPU will not be used.\n",
      "2025-04-10 11:05:16.345073: E external/local_xla/xla/stream_executor/cuda/cuda_fft.cc:467] Unable to register cuFFT factory: Attempting to register factory for plugin cuFFT when one has already been registered\n",
      "WARNING: All log messages before absl::InitializeLog() is called are written to STDERR\n",
      "E0000 00:00:1744275916.363002   11199 cuda_dnn.cc:8579] Unable to register cuDNN factory: Attempting to register factory for plugin cuDNN when one has already been registered\n",
      "E0000 00:00:1744275916.368199   11199 cuda_blas.cc:1407] Unable to register cuBLAS factory: Attempting to register factory for plugin cuBLAS when one has already been registered\n",
      "W0000 00:00:1744275916.381451   11199 computation_placer.cc:177] computation placer already registered. Please check linkage and avoid linking the same target more than once.\n",
      "W0000 00:00:1744275916.381473   11199 computation_placer.cc:177] computation placer already registered. Please check linkage and avoid linking the same target more than once.\n",
      "W0000 00:00:1744275916.381475   11199 computation_placer.cc:177] computation placer already registered. Please check linkage and avoid linking the same target more than once.\n",
      "W0000 00:00:1744275916.381476   11199 computation_placer.cc:177] computation placer already registered. Please check linkage and avoid linking the same target more than once.\n",
      "2025-04-10 11:05:16.386342: I tensorflow/core/platform/cpu_feature_guard.cc:210] This TensorFlow binary is optimized to use available CPU instructions in performance-critical operations.\n",
      "To enable the following instructions: AVX2 FMA, in other operations, rebuild TensorFlow with the appropriate compiler flags.\n"
     ]
    }
   ],
   "source": [
    "import numpy as np\n",
    "import pandas as pd\n",
    "import gc\n",
    "import os\n",
    "import librosa\n",
    "from sklearn.preprocessing import LabelEncoder\n",
    "from tensorflow.keras.utils import to_categorical\n",
    "import serial\n",
    "import struct"
   ]
  },
  {
   "cell_type": "code",
   "execution_count": 4,
   "metadata": {},
   "outputs": [
    {
     "name": "stdout",
     "output_type": "stream",
     "text": [
      "Processing class folder:  ./audio/positive/Car\n",
      "Processing class folder:  ./audio/positive/Comm\n",
      "Processing class folder:  ./audio/positive/Motorcycle\n",
      "positive_audio_files length:  9362\n",
      "positive_audio_file_classes length:  9362\n"
     ]
    }
   ],
   "source": [
    "# Collecte positive audio files and their classes\n",
    "positive_audio_files = []\n",
    "positive_audio_file_classes = []\n",
    "# Look each file in the audio folder\n",
    "audio_class_folders = os.listdir(POSITIVE_PATH)\n",
    "# Loop each class folder\n",
    "for audio_class_folder in audio_class_folders:\n",
    "    # Assemble full audio class folder path.\n",
    "    audio_class_folder_path = os.path.join(POSITIVE_PATH, audio_class_folder)\n",
    "    print(\"Processing class folder: \", audio_class_folder_path)\n",
    "    # Get all files in the audio class folder\n",
    "    audio_class_files = os.listdir(audio_class_folder_path)\n",
    "    # Loop each audio file in the audio class folder\n",
    "    for audio_class_file in audio_class_files:\n",
    "        # Assemble full audio file path.\n",
    "        audio_file_path = os.path.join(audio_class_folder_path, audio_class_file)\n",
    "        # Append the audio file path to the positive_audio_files list\n",
    "        positive_audio_files.append(audio_file_path)\n",
    "        # Append the audio class to the audio_file_classes list\n",
    "        positive_audio_file_classes.append(audio_class_folder)\n",
    "print(\"positive_audio_files length: \", len(positive_audio_files))\n",
    "print(\"positive_audio_file_classes length: \", len(positive_audio_file_classes))"
   ]
  },
  {
   "cell_type": "code",
   "execution_count": 5,
   "metadata": {},
   "outputs": [
    {
     "data": {
      "text/plain": [
       "'Car'"
      ]
     },
     "execution_count": 5,
     "metadata": {},
     "output_type": "execute_result"
    }
   ],
   "source": [
    "positive_audio_file_classes[0]"
   ]
  },
  {
   "cell_type": "code",
   "execution_count": 6,
   "metadata": {},
   "outputs": [
    {
     "name": "stdout",
     "output_type": "stream",
     "text": [
      "Processing class folder:  ./audio/negative/background_traffic\n",
      "negative_audio_files length:  10\n",
      "negative_audio_file_classes length:  10\n"
     ]
    }
   ],
   "source": [
    "# Collecte negative audio files and their classes\n",
    "negative_audio_files = []\n",
    "negative_audio_file_classes = []\n",
    "# Look each file in the audio folder\n",
    "audio_class_folders = os.listdir(NEGATIVE_PATH)\n",
    "# Loop each class folder\n",
    "for audio_class_folder in audio_class_folders:\n",
    "    # Assemble full audio class folder path.\n",
    "    audio_class_folder_path = os.path.join(NEGATIVE_PATH, audio_class_folder)\n",
    "    print(\"Processing class folder: \", audio_class_folder_path)\n",
    "    # Get all files in the audio class folder\n",
    "    audio_class_files = os.listdir(audio_class_folder_path)\n",
    "    # Loop each audio file in the audio class folder\n",
    "    for audio_class_file in audio_class_files:\n",
    "        # Assemble full audio file path.\n",
    "        audio_file_path = os.path.join(audio_class_folder_path, audio_class_file)\n",
    "        # Append the audio file path to the negative_audio_files list\n",
    "        negative_audio_files.append(audio_file_path)\n",
    "        # Append the audio class to the audio_file_classes list\n",
    "        negative_audio_file_classes.append(audio_class_folder)\n",
    "print(\"negative_audio_files length: \", len(negative_audio_files[0:10]))\n",
    "print(\"negative_audio_file_classes length: \", len(negative_audio_file_classes[0:10]))"
   ]
  },
  {
   "cell_type": "code",
   "execution_count": 7,
   "metadata": {},
   "outputs": [],
   "source": [
    "# Shuffle the audio files and classes with the same seed.\n",
    "seed = 42\n",
    "np.random.seed(seed)\n",
    "np.random.shuffle(positive_audio_files)\n",
    "\n",
    "np.random.seed(seed)\n",
    "np.random.shuffle(positive_audio_file_classes)\n",
    "\n",
    "np.random.seed(seed)\n",
    "np.random.shuffle(negative_audio_files)\n",
    "\n",
    "np.random.seed(seed)\n",
    "np.random.shuffle(negative_audio_file_classes)"
   ]
  },
  {
   "cell_type": "code",
   "execution_count": 8,
   "metadata": {},
   "outputs": [
    {
     "name": "stdout",
     "output_type": "stream",
     "text": [
      "Example of audio_file_classes_categorial:  [[1. 0. 0.]\n",
      " [1. 0. 0.]\n",
      " [1. 0. 0.]\n",
      " [1. 0. 0.]\n",
      " [0. 0. 1.]\n",
      " [1. 0. 0.]\n",
      " [1. 0. 0.]\n",
      " [1. 0. 0.]\n",
      " [0. 1. 0.]\n",
      " [1. 0. 0.]]\n"
     ]
    }
   ],
   "source": [
    "# Hot end code the labels.\n",
    "label_encoder = LabelEncoder()\n",
    "positive_audio_file_classes_categorical = to_categorical(label_encoder.fit_transform(positive_audio_file_classes))\n",
    "print(\"Example of audio_file_classes_categorial: \", positive_audio_file_classes_categorical[0:10])"
   ]
  },
  {
   "cell_type": "code",
   "execution_count": 9,
   "metadata": {},
   "outputs": [
    {
     "name": "stdout",
     "output_type": "stream",
     "text": [
      "Configuring serial port...\n"
     ]
    }
   ],
   "source": [
    "# Connect to MCU via serial.\n",
    "print(\"Configuring serial port...\")\n",
    "ser = serial.Serial(\n",
    "    port='/dev/ttyACM0',  # Change this to your actual port, e.g., 'COM3' on Windows, '/dev/ttyS0' on Linux\n",
    "    baudrate=115200,       # Set baud rate to 115200\n",
    "    bytesize=serial.EIGHTBITS,\n",
    "    parity=serial.PARITY_NONE,\n",
    "    stopbits=serial.STOPBITS_ONE,\n",
    "    timeout=1              # Set timeout for reading\n",
    ")"
   ]
  },
  {
   "cell_type": "code",
   "execution_count": 10,
   "metadata": {},
   "outputs": [
    {
     "name": "stdout",
     "output_type": "stream",
     "text": [
      "Serial port /dev/ttyACM0 opened at 115200 baud.\n"
     ]
    }
   ],
   "source": [
    "if ser.is_open:\n",
    "    print(f\"Serial port {ser.port} opened at {ser.baudrate} baud.\")"
   ]
  },
  {
   "cell_type": "code",
   "execution_count": 11,
   "metadata": {},
   "outputs": [],
   "source": [
    "def calc_accuracy(y_true, y_pred, audioFilesProcessed):\n",
    "    success = 0\n",
    "    for i in range(len(y_pred)):\n",
    "        if y_pred[i] == y_true[i]:\n",
    "            success += 1\n",
    "    res = round(success / audioFilesProcessed, 4)\n",
    "    return res"
   ]
  },
  {
   "cell_type": "code",
   "execution_count": 12,
   "metadata": {},
   "outputs": [],
   "source": [
    "audioSent = 0\n",
    "audioFilesProcessed = 0\n",
    "results = []\n",
    "realResults = []"
   ]
  },
  {
   "cell_type": "code",
   "execution_count": 13,
   "metadata": {},
   "outputs": [
    {
     "data": {
      "text/plain": [
       "array([1., 0., 0.])"
      ]
     },
     "execution_count": 13,
     "metadata": {},
     "output_type": "execute_result"
    }
   ],
   "source": [
    "positive_audio_file_classes_categorical[0]"
   ]
  },
  {
   "cell_type": "code",
   "execution_count": 14,
   "metadata": {},
   "outputs": [],
   "source": [
    "def streamAudioFile(file_path, i):\n",
    "    global audioSent\n",
    "    global results\n",
    "    global realResults\n",
    "    global positive_audio_file_classes_categorical\n",
    "    global audioFilesProcessed\n",
    "    numOfMaxTransferes = 20 * 4000\n",
    "    audioFilesProcessed += 1\n",
    "    # Check file format.\n",
    "    if not file_path.endswith('.wav'):\n",
    "        print(\"Error: Only .wav files are supported.\")\n",
    "        return\n",
    "    # Load the audio file.\n",
    "    audio_data, sr = librosa.load(file_path, sr=None)\n",
    "    # Convert sample rate to 16kHz.\n",
    "    if sr != 16000:\n",
    "        audio_data = librosa.resample(y=audio_data, orig_sr=sr, target_sr=16000)\n",
    "        sr = 16000\n",
    "    # Convert the audio data to a numpy array.\n",
    "    audio_data = np.array(audio_data, dtype=np.float32)\n",
    "    # Send the audio data to the MCU.\n",
    "    for j in range(len(audio_data)):\n",
    "        numOfMaxTransferes = numOfMaxTransferes - 1\n",
    "        if numOfMaxTransferes == 0:\n",
    "            print(\"Error: Too many transfers. Next file.\")\n",
    "            return\n",
    "        data_to_send = struct.pack('f', audio_data[j])\n",
    "        ser.write(data_to_send)\n",
    "        audioSent += 1\n",
    "        if audioSent % 4000:\n",
    "            while ser.in_waiting > 0:\n",
    "                response = ser.readline().decode('utf-8').strip()\n",
    "                # If response does not start with \"f:\"\n",
    "                if response.startswith(\"e:\"):\n",
    "                    print(response)\n",
    "                    return\n",
    "                if response.startswith(\"c:\"):\n",
    "                    print(response)\n",
    "                if response.startswith(\"s:\"):\n",
    "                    print(response)\n",
    "                if response.startswith(\"v:\"):\n",
    "                    # Remove two first characters from the response.\n",
    "                    response = int(response[2:])\n",
    "                    realResults.append(np.argmax(positive_audio_file_classes_categorical[0][i]))\n",
    "                    # Append the response to the results list.\n",
    "                    results.append(response)\n",
    "    print(f\"Accuracy: {calc_accuracy(realResults, results, audioFilesProcessed)}\")"
   ]
  },
  {
   "cell_type": "code",
   "execution_count": 15,
   "metadata": {},
   "outputs": [
    {
     "name": "stdout",
     "output_type": "stream",
     "text": [
      "Processing audio file:  ./audio/positive/Car/2019-11-18-07-25_Langewiesener-Strasse_50Kmh_52813_M_D_CR_SE_CH34.wav\n",
      "Processing audio file class:  Car\n",
      "c: [0,1,0,0]\n",
      "c: [0,1,0,1]\n",
      "c: [0,1,1,1]\n",
      "c: [0,1,2,1]\n",
      "c: [0,1,3,1]\n",
      "c: [0,2,3,1]\n",
      "c: [0,2,3,2]\n",
      "Accuracy: 0.0\n",
      "Processing audio file:  ./audio/positive/Car/2019-10-22-15-30_Fraunhofer-IDMT_30Kmh_3289858_A_D_CL_ME_CH12.wav\n",
      "Processing audio file class:  Car\n",
      "c: [0,2,4,2]\n",
      "c: [0,2,4,3]\n",
      "c: [0,3,4,3]\n",
      "c: [0,3,5,3]\n",
      "c: [0,4,5,3]\n",
      "c: [0,5,5,3]\n",
      "c: [0,6,5,3]\n",
      "c: [0,6,6,3]\n",
      "Accuracy: 0.0\n",
      "Processing audio file:  ./audio/positive/Car/2019-11-19-15-25_Langewiesener-Strasse_50Kmh_3503746_A_D_CR_SE_CH34.wav\n",
      "Processing audio file class:  Car\n",
      "c: [0,6,6,4]\n",
      "c: [0,7,6,4]\n",
      "c: [0,7,6,5]\n",
      "c: [0,7,7,5]\n",
      "c: [0,7,8,5]\n",
      "c: [0,7,8,6]\n",
      "c: [0,8,8,6]\n",
      "c: [0,8,9,6]\n",
      "Accuracy: 0.0\n",
      "Processing audio file:  ./audio/positive/Car/2019-10-22-15-30_Fraunhofer-IDMT_30Kmh_3508408_A_D_CL_ME_CH12.wav\n",
      "Processing audio file class:  Car\n",
      "c: [0,8,10,6]\n",
      "c: [0,8,10,7]\n",
      "c: [0,8,10,8]\n",
      "c: [0,8,10,9]\n",
      "c: [0,9,10,9]\n",
      "c: [0,10,10,9]\n",
      "c: [0,10,11,9]\n",
      "c: [0,11,11,9]\n",
      "Accuracy: 0.0\n",
      "Processing audio file:  ./audio/positive/Motorcycle/2020-08-29-16-07_Hohenwarte_unknownKmh_728740_M_D_MR_SE_CH12.wav\n",
      "Processing audio file class:  Motorcycle\n",
      "c: [0,12,11,9]\n",
      "c: [0,12,12,9]\n",
      "c: [0,13,12,9]\n",
      "c: [0,14,12,9]\n",
      "c: [0,15,12,9]\n",
      "c: [0,16,12,9]\n",
      "c: [0,16,12,10]\n",
      "c: [0,16,12,11]\n",
      "Accuracy: 0.0\n",
      "Processing audio file:  ./audio/positive/Car/2019-11-12-16-00_Schleusinger-Allee_70Kmh_409496_A_W_CR_SE_CH34.wav\n",
      "Processing audio file class:  Car\n",
      "c: [0,16,12,12]\n",
      "c: [0,16,12,13]\n",
      "c: [0,17,12,13]\n",
      "c: [0,18,12,13]\n",
      "c: [0,18,13,13]\n"
     ]
    },
    {
     "ename": "KeyboardInterrupt",
     "evalue": "",
     "output_type": "error",
     "traceback": [
      "\u001b[0;31m---------------------------------------------------------------------------\u001b[0m",
      "\u001b[0;31mKeyboardInterrupt\u001b[0m                         Traceback (most recent call last)",
      "Cell \u001b[0;32mIn[15], line 12\u001b[0m\n\u001b[1;32m     10\u001b[0m \u001b[38;5;28mprint\u001b[39m(\u001b[38;5;124m\"\u001b[39m\u001b[38;5;124mProcessing audio file class: \u001b[39m\u001b[38;5;124m\"\u001b[39m, positive_audio_file_classes[i])\n\u001b[1;32m     11\u001b[0m \u001b[38;5;66;03m# Stream positive audio file to MCU.\u001b[39;00m\n\u001b[0;32m---> 12\u001b[0m \u001b[43mstreamAudioFile\u001b[49m\u001b[43m(\u001b[49m\u001b[43maudio_file\u001b[49m\u001b[43m,\u001b[49m\u001b[43m \u001b[49m\u001b[43mi\u001b[49m\u001b[43m)\u001b[49m\n\u001b[1;32m     13\u001b[0m \u001b[38;5;66;03m# Print nagtive audio file path and class.\u001b[39;00m\n\u001b[1;32m     14\u001b[0m     \u001b[38;5;66;03m#print(\"Processing negative audio file: \", negative_audio_files[negative_audio_file_pointer])\u001b[39;00m\n\u001b[1;32m     15\u001b[0m     \u001b[38;5;66;03m#print(\"Processing negative audio file class: \", negative_audio_file_classes[negative_audio_file_pointer])\u001b[39;00m\n\u001b[1;32m     16\u001b[0m \u001b[38;5;66;03m# Stream negative audio file to MCU.\u001b[39;00m\n\u001b[1;32m     17\u001b[0m     \u001b[38;5;66;03m#streamAudioFile(negative_audio_files[negative_audio_file_pointer], i)\u001b[39;00m\n\u001b[1;32m     18\u001b[0m \u001b[38;5;66;03m# Increment the negative audio file pointer.\u001b[39;00m\n\u001b[1;32m     19\u001b[0m negative_audio_file_pointer \u001b[38;5;241m+\u001b[39m\u001b[38;5;241m=\u001b[39m \u001b[38;5;241m1\u001b[39m\n",
      "Cell \u001b[0;32mIn[14], line 28\u001b[0m, in \u001b[0;36mstreamAudioFile\u001b[0;34m(file_path, i)\u001b[0m\n\u001b[1;32m     26\u001b[0m     \u001b[38;5;28;01mreturn\u001b[39;00m\n\u001b[1;32m     27\u001b[0m data_to_send \u001b[38;5;241m=\u001b[39m struct\u001b[38;5;241m.\u001b[39mpack(\u001b[38;5;124m'\u001b[39m\u001b[38;5;124mf\u001b[39m\u001b[38;5;124m'\u001b[39m, audio_data[j])\n\u001b[0;32m---> 28\u001b[0m \u001b[43mser\u001b[49m\u001b[38;5;241;43m.\u001b[39;49m\u001b[43mwrite\u001b[49m\u001b[43m(\u001b[49m\u001b[43mdata_to_send\u001b[49m\u001b[43m)\u001b[49m\n\u001b[1;32m     29\u001b[0m audioSent \u001b[38;5;241m+\u001b[39m\u001b[38;5;241m=\u001b[39m \u001b[38;5;241m1\u001b[39m\n\u001b[1;32m     30\u001b[0m \u001b[38;5;28;01mif\u001b[39;00m audioSent \u001b[38;5;241m%\u001b[39m \u001b[38;5;241m4000\u001b[39m:\n",
      "File \u001b[0;32m~/Python/tfenv/lib/python3.10/site-packages/serial/serialposix.py:640\u001b[0m, in \u001b[0;36mSerial.write\u001b[0;34m(self, data)\u001b[0m\n\u001b[1;32m    638\u001b[0m \u001b[38;5;28;01massert\u001b[39;00m timeout\u001b[38;5;241m.\u001b[39mtime_left() \u001b[38;5;129;01mis\u001b[39;00m \u001b[38;5;28;01mNone\u001b[39;00m\n\u001b[1;32m    639\u001b[0m \u001b[38;5;66;03m# wait for write operation\u001b[39;00m\n\u001b[0;32m--> 640\u001b[0m abort, ready, _ \u001b[38;5;241m=\u001b[39m \u001b[43mselect\u001b[49m\u001b[38;5;241;43m.\u001b[39;49m\u001b[43mselect\u001b[49m\u001b[43m(\u001b[49m\u001b[43m[\u001b[49m\u001b[38;5;28;43mself\u001b[39;49m\u001b[38;5;241;43m.\u001b[39;49m\u001b[43mpipe_abort_write_r\u001b[49m\u001b[43m]\u001b[49m\u001b[43m,\u001b[49m\u001b[43m \u001b[49m\u001b[43m[\u001b[49m\u001b[38;5;28;43mself\u001b[39;49m\u001b[38;5;241;43m.\u001b[39;49m\u001b[43mfd\u001b[49m\u001b[43m]\u001b[49m\u001b[43m,\u001b[49m\u001b[43m \u001b[49m\u001b[43m[\u001b[49m\u001b[43m]\u001b[49m\u001b[43m,\u001b[49m\u001b[43m \u001b[49m\u001b[38;5;28;43;01mNone\u001b[39;49;00m\u001b[43m)\u001b[49m\n\u001b[1;32m    641\u001b[0m \u001b[38;5;28;01mif\u001b[39;00m abort:\n\u001b[1;32m    642\u001b[0m     os\u001b[38;5;241m.\u001b[39mread(\u001b[38;5;28mself\u001b[39m\u001b[38;5;241m.\u001b[39mpipe_abort_write_r, \u001b[38;5;241m1\u001b[39m)\n",
      "\u001b[0;31mKeyboardInterrupt\u001b[0m: "
     ]
    }
   ],
   "source": [
    "\n",
    "total_positive_audio_files = len(positive_audio_files)\n",
    "\n",
    "# Loop each audio file.\n",
    "negative_audio_file_pointer = 0\n",
    "for i in range(total_positive_audio_files):\n",
    "    # Get audio file path.\n",
    "    audio_file = positive_audio_files[i]\n",
    "    # Print audio file path and class.\n",
    "    print(\"Processing audio file: \", audio_file)\n",
    "    print(\"Processing audio file class: \", positive_audio_file_classes[i])\n",
    "    # Stream positive audio file to MCU.\n",
    "    streamAudioFile(audio_file, i)\n",
    "    # Print nagtive audio file path and class.\n",
    "        #print(\"Processing negative audio file: \", negative_audio_files[negative_audio_file_pointer])\n",
    "        #print(\"Processing negative audio file class: \", negative_audio_file_classes[negative_audio_file_pointer])\n",
    "    # Stream negative audio file to MCU.\n",
    "        #streamAudioFile(negative_audio_files[negative_audio_file_pointer], i)\n",
    "    # Increment the negative audio file pointer.\n",
    "    negative_audio_file_pointer += 1\n",
    "    # Check if the negative audio file pointer is out of range.\n",
    "    if negative_audio_file_pointer >= len(negative_audio_files):\n",
    "        negative_audio_file_pointer = 0"
   ]
  },
  {
   "cell_type": "code",
   "execution_count": null,
   "metadata": {},
   "outputs": [],
   "source": [
    "# Close the serial port\n",
    "ser.close()"
   ]
  }
 ],
 "metadata": {
  "kernelspec": {
   "display_name": "tfenv",
   "language": "python",
   "name": "python3"
  },
  "language_info": {
   "codemirror_mode": {
    "name": "ipython",
    "version": 3
   },
   "file_extension": ".py",
   "mimetype": "text/x-python",
   "name": "python",
   "nbconvert_exporter": "python",
   "pygments_lexer": "ipython3",
   "version": "3.10.16"
  }
 },
 "nbformat": 4,
 "nbformat_minor": 2
}
