{
 "cells": [
  {
   "cell_type": "markdown",
   "metadata": {},
   "source": [
    "# Test Audio Sender\n",
    "\n",
    "This file is used for sending audio data to the device. It measures the accuracy based on individual audio files."
   ]
  },
  {
   "cell_type": "markdown",
   "metadata": {},
   "source": [
    "**Note that the software on the MCU must match this!**"
   ]
  },
  {
   "cell_type": "code",
   "execution_count": 318,
   "metadata": {},
   "outputs": [],
   "source": [
    "AUDIO_FOLDER_PATH = r\"C:\\Users\\Pontu\\OneDrive\\Skrivbord\\lib3\\repo\\dataset-converter\\dataset_mix\"\n",
    "POSITIVE_PATH = f\"{AUDIO_FOLDER_PATH}/positive\"\n",
    "NEGATIVE_PATH = f\"{AUDIO_FOLDER_PATH}/negative\""
   ]
  },
  {
   "cell_type": "code",
   "execution_count": 319,
   "metadata": {},
   "outputs": [],
   "source": [
    "import numpy as np\n",
    "import pandas as pd\n",
    "import gc\n",
    "import os\n",
    "import librosa\n",
    "from sklearn.preprocessing import LabelEncoder\n",
    "from tensorflow.keras.utils import to_categorical\n",
    "import serial\n",
    "import struct"
   ]
  },
  {
   "cell_type": "code",
   "execution_count": 320,
   "metadata": {},
   "outputs": [
    {
     "name": "stdout",
     "output_type": "stream",
     "text": [
      "Processing class folder:  C:\\Users\\Pontu\\OneDrive\\Skrivbord\\lib3\\repo\\dataset-converter\\dataset_mix/positive\\Car\n",
      "Processing class folder:  C:\\Users\\Pontu\\OneDrive\\Skrivbord\\lib3\\repo\\dataset-converter\\dataset_mix/positive\\Comm\n",
      "Processing class folder:  C:\\Users\\Pontu\\OneDrive\\Skrivbord\\lib3\\repo\\dataset-converter\\dataset_mix/positive\\Motorcycle\n",
      "positive_audio_files length:  18597\n",
      "positive_audio_file_classes length:  18597\n"
     ]
    }
   ],
   "source": [
    "# Collecte positive audio files and their classes\n",
    "positive_audio_files = []\n",
    "positive_audio_file_classes = []\n",
    "# Look each file in the audio folder\n",
    "audio_class_folders = os.listdir(POSITIVE_PATH)\n",
    "# Loop each class folder\n",
    "for audio_class_folder in audio_class_folders:\n",
    "    # Assemble full audio class folder path.\n",
    "    audio_class_folder_path = os.path.join(POSITIVE_PATH, audio_class_folder)\n",
    "    print(\"Processing class folder: \", audio_class_folder_path)\n",
    "    # Get all files in the audio class folder\n",
    "    audio_class_files = os.listdir(audio_class_folder_path)\n",
    "    # Loop each audio file in the audio class folder\n",
    "    for audio_class_file in audio_class_files:\n",
    "        # Assemble full audio file path.\n",
    "        audio_file_path = os.path.join(audio_class_folder_path, audio_class_file)\n",
    "        # Append the audio file path to the positive_audio_files list\n",
    "        positive_audio_files.append(audio_file_path)\n",
    "        # Append the audio class to the audio_file_classes list\n",
    "        positive_audio_file_classes.append(audio_class_folder)\n",
    "print(\"positive_audio_files length: \", len(positive_audio_files))\n",
    "print(\"positive_audio_file_classes length: \", len(positive_audio_file_classes))"
   ]
  },
  {
   "cell_type": "code",
   "execution_count": 321,
   "metadata": {},
   "outputs": [
    {
     "data": {
      "text/plain": [
       "'Car'"
      ]
     },
     "execution_count": 321,
     "metadata": {},
     "output_type": "execute_result"
    }
   ],
   "source": [
    "positive_audio_file_classes[0]"
   ]
  },
  {
   "cell_type": "code",
   "execution_count": 322,
   "metadata": {},
   "outputs": [
    {
     "name": "stdout",
     "output_type": "stream",
     "text": [
      "Processing class folder:  C:\\Users\\Pontu\\OneDrive\\Skrivbord\\lib3\\repo\\dataset-converter\\dataset_mix/negative\\background\n",
      "negative_audio_files length:  10\n",
      "negative_audio_file_classes length:  10\n"
     ]
    }
   ],
   "source": [
    "# Collecte negative audio files and their classes\n",
    "negative_audio_files = []\n",
    "negative_audio_file_classes = []\n",
    "# Look each file in the audio folder\n",
    "audio_class_folders = os.listdir(NEGATIVE_PATH)\n",
    "# Loop each class folder\n",
    "for audio_class_folder in audio_class_folders:\n",
    "    # Assemble full audio class folder path.\n",
    "    audio_class_folder_path = os.path.join(NEGATIVE_PATH, audio_class_folder)\n",
    "    print(\"Processing class folder: \", audio_class_folder_path)\n",
    "    # Get all files in the audio class folder\n",
    "    audio_class_files = os.listdir(audio_class_folder_path)\n",
    "    # Loop each audio file in the audio class folder\n",
    "    for audio_class_file in audio_class_files:\n",
    "        # Assemble full audio file path.\n",
    "        audio_file_path = os.path.join(audio_class_folder_path, audio_class_file)\n",
    "        # Append the audio file path to the negative_audio_files list\n",
    "        negative_audio_files.append(audio_file_path)\n",
    "        # Append the audio class to the audio_file_classes list\n",
    "        negative_audio_file_classes.append(audio_class_folder)\n",
    "print(\"negative_audio_files length: \", len(negative_audio_files[0:10]))\n",
    "print(\"negative_audio_file_classes length: \", len(negative_audio_file_classes[0:10]))"
   ]
  },
  {
   "cell_type": "code",
   "execution_count": 323,
   "metadata": {},
   "outputs": [],
   "source": [
    "# Shuffle the audio files and classes with the same seed.\n",
    "seed = 42\n",
    "np.random.seed(seed)\n",
    "np.random.shuffle(positive_audio_files)\n",
    "\n",
    "np.random.seed(seed)\n",
    "np.random.shuffle(positive_audio_file_classes)\n",
    "\n",
    "np.random.seed(seed)\n",
    "np.random.shuffle(negative_audio_files)"
   ]
  },
  {
   "cell_type": "code",
   "execution_count": 324,
   "metadata": {},
   "outputs": [
    {
     "name": "stdout",
     "output_type": "stream",
     "text": [
      "Example of audio_file_classes_categorial:  [[0. 1. 0.]\n",
      " [0. 1. 0.]\n",
      " [1. 0. 0.]\n",
      " [1. 0. 0.]\n",
      " [1. 0. 0.]\n",
      " [1. 0. 0.]\n",
      " [1. 0. 0.]\n",
      " [0. 1. 0.]\n",
      " [1. 0. 0.]\n",
      " [1. 0. 0.]]\n"
     ]
    }
   ],
   "source": [
    "# Hot end code the labels.\n",
    "label_encoder = LabelEncoder()\n",
    "positive_audio_file_classes_categorical = to_categorical(label_encoder.fit_transform(positive_audio_file_classes))\n",
    "print(\"Example of audio_file_classes_categorial: \", positive_audio_file_classes_categorical[0:10])"
   ]
  },
  {
   "cell_type": "code",
   "execution_count": 325,
   "metadata": {},
   "outputs": [
    {
     "name": "stdout",
     "output_type": "stream",
     "text": [
      "Configuring serial port...\n"
     ]
    }
   ],
   "source": [
    "# Connect to MCU via serial.\n",
    "print(\"Configuring serial port...\")\n",
    "ser = serial.Serial(\n",
    "    port='COM5',  # Change this to your actual port, e.g., 'COM3' on Windows, '/dev/ttyS0' on Linux\n",
    "    baudrate=921600,       # Set baud rate to 921600\n",
    "    bytesize=serial.EIGHTBITS,\n",
    "    parity=serial.PARITY_NONE,\n",
    "    stopbits=serial.STOPBITS_ONE,\n",
    "    timeout=0.1,           # Set timeout for reading\n",
    "    write_timeout=None     # Wait indefinitely until all data is sent\n",
    ")"
   ]
  },
  {
   "cell_type": "code",
   "execution_count": 326,
   "metadata": {},
   "outputs": [
    {
     "name": "stdout",
     "output_type": "stream",
     "text": [
      "Serial port COM5 opened at 921600 baud.\n"
     ]
    }
   ],
   "source": [
    "if ser.is_open:\n",
    "    print(f\"Serial port {ser.port} opened at {ser.baudrate} baud.\")"
   ]
  },
  {
   "cell_type": "code",
   "execution_count": 327,
   "metadata": {},
   "outputs": [],
   "source": [
    "def calc_accuracy(y_true, y_pred):\n",
    "    success = 0\n",
    "    for i in range(len(y_pred)):\n",
    "        if y_pred[i] == y_true[i]:\n",
    "            success += 1\n",
    "    res = round(success / len(y_pred), 3)\n",
    "    return res\n",
    "\n",
    "import numpy as np\n",
    "\n",
    "def confusion_matrix_manual(y_true, y_pred):\n",
    "    labels = sorted(set(y_true + y_pred))  # All unique labels\n",
    "    matrix = {label: {l: 0 for l in labels} for label in labels}\n",
    "\n",
    "    for real, pred in zip(y_true, y_pred):\n",
    "        matrix[real][pred] += 1\n",
    "\n",
    "    return matrix\n",
    "\n",
    "\n",
    "def print_confusion_matrix(cm):\n",
    "    labels = list(cm.keys())\n",
    "    print(\"    \" + \" \".join(f\"{l:>4}\" for l in labels))\n",
    "    for real in labels:\n",
    "        row = \" \".join(f\"{cm[real][pred]:>4}\" for pred in labels)\n",
    "        print(f\"{real:>4} {row}\")"
   ]
  },
  {
   "cell_type": "code",
   "execution_count": 328,
   "metadata": {},
   "outputs": [],
   "source": [
    "audioSent = 0\n",
    "audioFilesProcessed = 0\n",
    "results = []\n",
    "realResults = []"
   ]
  },
  {
   "cell_type": "code",
   "execution_count": 329,
   "metadata": {},
   "outputs": [
    {
     "data": {
      "text/plain": [
       "array([0., 1., 0.])"
      ]
     },
     "execution_count": 329,
     "metadata": {},
     "output_type": "execute_result"
    }
   ],
   "source": [
    "positive_audio_file_classes_categorical[0]"
   ]
  },
  {
   "cell_type": "code",
   "execution_count": 330,
   "metadata": {},
   "outputs": [],
   "source": [
    "def streamAudioFile(file_path, realClass, i):\n",
    "    global audioSent\n",
    "    global results\n",
    "    global realResults\n",
    "    global audioBuffer\n",
    "    voted = False\n",
    "    # Append the real result to the results list.\n",
    "    realResults.append(np.argmax(realClass))\n",
    "    #print(f\"Adding realResults: {realResults}\")\n",
    "    # Check file format.\n",
    "    if not file_path.endswith('.wav'):\n",
    "        print(\"Error: Only .wav files are supported.\")\n",
    "        return\n",
    "    # Load the audio file.\n",
    "    audio_data, sr = librosa.load(file_path, sr=None)\n",
    "    # Convert sample rate to 16kHz.\n",
    "    if sr != 16000:\n",
    "        audio_data = librosa.resample(y=audio_data, orig_sr=sr, target_sr=16000)\n",
    "        sr = 16000\n",
    "    # Convert the audio data to a numpy array.\n",
    "    audio_data = np.array(audio_data, dtype=np.float32)\n",
    "    # Send the audio data to the MCU.\n",
    "    #for j in range(len(audio_data)):\n",
    "    #    data_to_send = audio_data[j].tobytes()\n",
    "    ser.write(audio_data.tobytes())\n",
    "\n",
    "    while ser.in_waiting > 0:\n",
    "        response = ser.readline().decode('utf-8').strip()\n",
    "        if response.startswith(\"fin:\"):\n",
    "            matrix = confusion_matrix_manual(realResults, results)\n",
    "            print_confusion_matrix(matrix)\n",
    "        if response.startswith(\"e:\"):\n",
    "            print(response)\n",
    "            return\n",
    "        if response.startswith(\"c:\"):\n",
    "            print(response)\n",
    "        if response.startswith(\"s:\"):\n",
    "            print(response)\n",
    "        if response.startswith(\"v:\"):\n",
    "            voted = True\n",
    "            print(response)\n",
    "            #print(f\"Adding {int(response[2:])} to results\")\n",
    "            response = int(response[2:])\n",
    "            results.append(response)\n",
    "            if len(results) > len(realResults):\n",
    "                realResults.append(9)\n",
    "            print(f\"Accuracy: {calc_accuracy(realResults, results)}\")\n",
    "    # If result is shorter than realResults, append 9 to results.\n",
    "    if i > 0 and len(results) < len(realResults) and not voted:\n",
    "        results.append(9)\n",
    "        print(f\"Accuracy: {calc_accuracy(realResults, results)}\")\n",
    "\n"
   ]
  },
  {
   "cell_type": "code",
   "execution_count": 331,
   "metadata": {},
   "outputs": [
    {
     "name": "stdout",
     "output_type": "stream",
     "text": [
      "Processing audio file:  C:\\Users\\Pontu\\OneDrive\\Skrivbord\\lib3\\repo\\dataset-converter\\dataset_mix/positive\\Comm\\2019-11-19-15-25_Langewiesener-Strasse_50Kmh_2223666_A_D_TL_SE_CH34.wav\n",
      "Processing audio file class:  Comm\n",
      "s:Heap: 1100 / 470468 bytes\n",
      "s:Tensor arena size: 16392/37000 bytes\n",
      "s:Input tensor shape: 1, 16, 8, 1\n",
      "s:Output tensor shape: 1, 4\n",
      "c:COUNT --------------------------------------------- 0\n",
      "c:COUNT --------------------------------------------- 1\n",
      "c:COUNT --------------------------------------------- 2\n",
      "c:COUNT --------------------------------------------- 3\n",
      "c:COUNT --------------------------------------------- 4\n",
      "c:COUNT --------------------------------------------- 5\n",
      "c:COUNT --------------------------------------------- 6\n",
      "Processing negative audio file:  C:\\Users\\Pontu\\OneDrive\\Skrivbord\\lib3\\repo\\dataset-converter\\dataset_mix/negative\\background\\2019-11-13-08-00_Schleusinger-Allee_70Kmh_13716480_ME_CH12-BG.wav\n",
      "c:COUNT --------------------------------------------- 7\n",
      "c:COUNT --------------------------------------------- 8\n",
      "c:COUNT --------------------------------------------- 9\n",
      "c:COUNT --------------------------------------------- 10\n",
      "c:COUNT --------------------------------------------- 11\n",
      "c:COUNT --------------------------------------------- 12\n",
      "c:COUNT --------------------------------------------- 13\n",
      "c:COUNT --------------------------------------------- 14\n",
      "Processing audio file:  C:\\Users\\Pontu\\OneDrive\\Skrivbord\\lib3\\repo\\dataset-converter\\dataset_mix/positive\\Comm\\YgGSybiL_cQY_30.000_40.000.wav\n",
      "Processing audio file class:  Comm\n",
      "c:COUNT --------------------------------------------- 15\n",
      "c:COUNT --------------------------------------------- 16\n",
      "c:COUNT --------------------------------------------- 17\n",
      "c:COUNT --------------------------------------------- 18\n",
      "c:COUNT --------------------------------------------- 19\n",
      "v:3\n",
      "Accuracy: 0.0\n",
      "c:COUNT --------------------------------------------- 20\n",
      "c:COUNT --------------------------------------------- 21\n",
      "c:COUNT --------------------------------------------- 22\n",
      "c:COUNT --------------------------------------------- 23\n",
      "c:COUNT --------------------------------------------- 24\n",
      "c:COUNT --------------------------------------------- 25\n",
      "c:COUNT --------------------------------------------- 26\n",
      "c:COUNT --------------------------------------------- 27\n",
      "c:COUNT --------------------------------------------- 28\n",
      "c:COUNT --------------------------------------------- 29\n",
      "c:COUNT --------------------------------------------- 30\n",
      "c:COUNT --------------------------------------------- 31\n",
      "c:COUNT --------------------------------------------- 32\n",
      "c:COUNT --------------------------------------------- 33\n",
      "c:COUNT --------------------------------------------- 34\n",
      "c:COUNT --------------------------------------------- 35\n",
      "c:COUNT --------------------------------------------- 36\n",
      "c:COUNT --------------------------------------------- 37\n",
      "c:COUNT --------------------------------------------- 38\n",
      "c:COUNT --------------------------------------------- 39\n",
      "c:COUNT --------------------------------------------- 40\n",
      "c:COUNT --------------------------------------------- 41\n",
      "c:COUNT --------------------------------------------- 42\n",
      "c:COUNT --------------------------------------------- 43\n",
      "c:COUNT --------------------------------------------- 44\n",
      "c:COUNT --------------------------------------------- 45\n",
      "c:COUNT --------------------------------------------- 46\n",
      "c:COUNT --------------------------------------------- 47\n",
      "c:COUNT --------------------------------------------- 48\n",
      "c:COUNT --------------------------------------------- 49\n",
      "c:COUNT --------------------------------------------- 50\n",
      "c:COUNT --------------------------------------------- 51\n",
      "c:COUNT --------------------------------------------- 52\n",
      "c:COUNT --------------------------------------------- 53\n",
      "c:COUNT --------------------------------------------- 54\n",
      "Processing negative audio file:  C:\\Users\\Pontu\\OneDrive\\Skrivbord\\lib3\\repo\\dataset-converter\\dataset_mix/negative\\background\\2019-11-19-15-25_Langewiesener-Strasse_50Kmh_143812608_ME_CH12-BG.wav\n",
      "c:COUNT --------------------------------------------- 55\n",
      "c:COUNT --------------------------------------------- 56\n",
      "c:COUNT --------------------------------------------- 57\n",
      "c:COUNT --------------------------------------------- 58\n",
      "c:COUNT --------------------------------------------- 59\n",
      "v:0\n",
      "Accuracy: 0.0\n",
      "c:COUNT --------------------------------------------- 60\n",
      "c:COUNT --------------------------------------------- 61\n",
      "c:COUNT --------------------------------------------- 62\n",
      "Processing audio file:  C:\\Users\\Pontu\\OneDrive\\Skrivbord\\lib3\\repo\\dataset-converter\\dataset_mix/positive\\Car\\2019-11-19-07-25_Langewiesener-Strasse_50Kmh_1226240_M_D_CL_SE_CH34.wav\n",
      "Processing audio file class:  Car\n",
      "c:COUNT --------------------------------------------- 63\n",
      "c:COUNT --------------------------------------------- 64\n",
      "c:COUNT --------------------------------------------- 65\n",
      "c:COUNT --------------------------------------------- 66\n",
      "c:COUNT --------------------------------------------- 67\n",
      "v:3\n",
      "Accuracy: 0.0\n",
      "c:COUNT --------------------------------------------- 68\n",
      "c:COUNT --------------------------------------------- 69\n",
      "c:COUNT --------------------------------------------- 70\n",
      "Processing negative audio file:  C:\\Users\\Pontu\\OneDrive\\Skrivbord\\lib3\\repo\\dataset-converter\\dataset_mix/negative\\background\\2019-11-13-15-55_Schleusinger-Allee_70Kmh_76479488_ME_CH12-BG.wav\n",
      "c:COUNT --------------------------------------------- 71\n",
      "c:COUNT --------------------------------------------- 72\n",
      "c:COUNT --------------------------------------------- 73\n",
      "c:COUNT --------------------------------------------- 74\n",
      "c:COUNT --------------------------------------------- 75\n",
      "c:COUNT --------------------------------------------- 76\n",
      "v:0\n",
      "Accuracy: 0.0\n",
      "c:COUNT --------------------------------------------- 77\n",
      "c:COUNT --------------------------------------------- 78\n",
      "Processing audio file:  C:\\Users\\Pontu\\OneDrive\\Skrivbord\\lib3\\repo\\dataset-converter\\dataset_mix/positive\\Car\\2019-11-18-15-45_Langewiesener-Strasse_50Kmh_2020861_A_D_CR_ME_CH12.wav\n",
      "Processing audio file class:  Car\n",
      "c:COUNT --------------------------------------------- 79\n",
      "c:COUNT --------------------------------------------- 80\n",
      "c:COUNT --------------------------------------------- 81\n",
      "c:COUNT --------------------------------------------- 82\n",
      "c:COUNT --------------------------------------------- 83\n",
      "v:3\n",
      "Accuracy: 0.0\n",
      "c:COUNT --------------------------------------------- 84\n",
      "c:COUNT --------------------------------------------- 85\n",
      "c:COUNT --------------------------------------------- 86\n",
      "Processing negative audio file:  C:\\Users\\Pontu\\OneDrive\\Skrivbord\\lib3\\repo\\dataset-converter\\dataset_mix/negative\\background\\2019-11-19-08-30_Langewiesener-Strasse_50Kmh_50582015_ME_CH12-BG.wav\n",
      "c:COUNT --------------------------------------------- 87\n",
      "c:COUNT --------------------------------------------- 88\n",
      "c:COUNT --------------------------------------------- 89\n",
      "c:COUNT --------------------------------------------- 90\n",
      "c:COUNT --------------------------------------------- 91\n",
      "v:0\n",
      "Accuracy: 0.0\n",
      "c:COUNT --------------------------------------------- 92\n",
      "c:COUNT --------------------------------------------- 93\n",
      "c:COUNT --------------------------------------------- 94\n",
      "Processing audio file:  C:\\Users\\Pontu\\OneDrive\\Skrivbord\\lib3\\repo\\dataset-converter\\dataset_mix/positive\\Car\\Y2MY4zgxLT80_2.000_12.000.wav\n",
      "Processing audio file class:  Car\n",
      "c:COUNT --------------------------------------------- 95\n",
      "c:COUNT --------------------------------------------- 96\n",
      "c:COUNT --------------------------------------------- 97\n",
      "c:COUNT --------------------------------------------- 98\n",
      "c:COUNT --------------------------------------------- 99\n",
      "v:3\n",
      "Accuracy: 0.0\n",
      "c:COUNT --------------------------------------------- 100\n",
      "c:COUNT --------------------------------------------- 101\n",
      "c:COUNT --------------------------------------------- 102\n",
      "c:COUNT --------------------------------------------- 103\n",
      "c:COUNT --------------------------------------------- 104\n",
      "c:COUNT --------------------------------------------- 105\n",
      "c:COUNT --------------------------------------------- 106\n",
      "c:COUNT --------------------------------------------- 107\n",
      "c:COUNT --------------------------------------------- 108\n",
      "c:COUNT --------------------------------------------- 109\n",
      "c:COUNT --------------------------------------------- 110\n",
      "c:COUNT --------------------------------------------- 111\n",
      "c:COUNT --------------------------------------------- 112\n",
      "c:COUNT --------------------------------------------- 113\n",
      "c:COUNT --------------------------------------------- 114\n",
      "c:COUNT --------------------------------------------- 115\n",
      "c:COUNT --------------------------------------------- 116\n",
      "c:COUNT --------------------------------------------- 117\n",
      "c:COUNT --------------------------------------------- 118\n",
      "c:COUNT --------------------------------------------- 119\n",
      "c:COUNT --------------------------------------------- 120\n",
      "c:COUNT --------------------------------------------- 121\n",
      "c:COUNT --------------------------------------------- 122\n",
      "c:COUNT --------------------------------------------- 123\n",
      "c:COUNT --------------------------------------------- 124\n",
      "c:COUNT --------------------------------------------- 125\n",
      "c:COUNT --------------------------------------------- 126\n",
      "c:COUNT --------------------------------------------- 127\n",
      "c:COUNT --------------------------------------------- 128\n",
      "c:COUNT --------------------------------------------- 129\n",
      "c:COUNT --------------------------------------------- 130\n",
      "c:COUNT --------------------------------------------- 131\n",
      "c:COUNT --------------------------------------------- 132\n",
      "c:COUNT --------------------------------------------- 133\n",
      "Processing negative audio file:  C:\\Users\\Pontu\\OneDrive\\Skrivbord\\lib3\\repo\\dataset-converter\\dataset_mix/negative\\background\\2019-11-18-07-25_Langewiesener-Strasse_50Kmh_15004160_ME_CH12-BG.wav\n",
      "c:COUNT --------------------------------------------- 134\n",
      "c:COUNT --------------------------------------------- 135\n",
      "c:COUNT --------------------------------------------- 136\n",
      "c:COUNT --------------------------------------------- 137\n",
      "c:COUNT --------------------------------------------- 138\n",
      "c:COUNT --------------------------------------------- 139\n",
      "c:COUNT --------------------------------------------- 140\n",
      "v:2\n",
      "Accuracy: 0.0\n",
      "c:COUNT --------------------------------------------- 141\n",
      "Processing audio file:  C:\\Users\\Pontu\\OneDrive\\Skrivbord\\lib3\\repo\\dataset-converter\\dataset_mix/positive\\Car\\2019-11-19-15-25_Langewiesener-Strasse_50Kmh_3553400_A_D_CL_ME_CH12.wav\n",
      "Processing audio file class:  Car\n",
      "c:COUNT --------------------------------------------- 142\n",
      "c:COUNT --------------------------------------------- 143\n",
      "c:COUNT --------------------------------------------- 144\n",
      "c:COUNT --------------------------------------------- 145\n",
      "c:COUNT --------------------------------------------- 146\n",
      "c:COUNT --------------------------------------------- 147\n",
      "c:COUNT --------------------------------------------- 148\n",
      "c:COUNT --------------------------------------------- 149\n",
      "Accuracy: 0.0\n",
      "Processing negative audio file:  C:\\Users\\Pontu\\OneDrive\\Skrivbord\\lib3\\repo\\dataset-converter\\dataset_mix/negative\\background\\2019-11-13-08-00_Schleusinger-Allee_70Kmh_23466240_ME_CH12-BG.wav\n",
      "c:COUNT --------------------------------------------- 150\n",
      "c:COUNT --------------------------------------------- 151\n",
      "c:COUNT --------------------------------------------- 152\n",
      "c:COUNT --------------------------------------------- 153\n",
      "c:COUNT --------------------------------------------- 154\n",
      "c:COUNT --------------------------------------------- 155\n",
      "c:COUNT --------------------------------------------- 156\n",
      "c:COUNT --------------------------------------------- 157\n",
      "Accuracy: 0.0\n",
      "Processing audio file:  C:\\Users\\Pontu\\OneDrive\\Skrivbord\\lib3\\repo\\dataset-converter\\dataset_mix/positive\\Car\\2019-10-22-15-30_Fraunhofer-IDMT_30Kmh_3358776_A_D_CL_ME_CH12.wav\n",
      "Processing audio file class:  Car\n",
      "c:COUNT --------------------------------------------- 158\n",
      "c:COUNT --------------------------------------------- 159\n",
      "c:COUNT --------------------------------------------- 160\n",
      "c:COUNT --------------------------------------------- 161\n",
      "c:COUNT --------------------------------------------- 162\n",
      "c:COUNT --------------------------------------------- 163\n",
      "c:COUNT --------------------------------------------- 164\n",
      "v:3\n",
      "Accuracy: 0.0\n",
      "c:COUNT --------------------------------------------- 165\n",
      "Processing negative audio file:  C:\\Users\\Pontu\\OneDrive\\Skrivbord\\lib3\\repo\\dataset-converter\\dataset_mix/negative\\background\\2019-11-18-15-45_Langewiesener-Strasse_50Kmh_88386816_SE_CH34-BG.wav\n"
     ]
    },
    {
     "ename": "SerialTimeoutException",
     "evalue": "Write timeout",
     "output_type": "error",
     "traceback": [
      "\u001b[1;31m---------------------------------------------------------------------------\u001b[0m",
      "\u001b[1;31mSerialTimeoutException\u001b[0m                    Traceback (most recent call last)",
      "Cell \u001b[1;32mIn[331], line 16\u001b[0m\n\u001b[0;32m     14\u001b[0m \u001b[38;5;28mprint\u001b[39m(\u001b[38;5;124m\"\u001b[39m\u001b[38;5;124mProcessing negative audio file: \u001b[39m\u001b[38;5;124m\"\u001b[39m, negative_audio_files[negative_audio_file_pointer])\n\u001b[0;32m     15\u001b[0m \u001b[38;5;66;03m# Stream negative audio file to MCU.\u001b[39;00m\n\u001b[1;32m---> 16\u001b[0m \u001b[43mstreamAudioFile\u001b[49m\u001b[43m(\u001b[49m\u001b[43mnegative_audio_files\u001b[49m\u001b[43m[\u001b[49m\u001b[43mnegative_audio_file_pointer\u001b[49m\u001b[43m]\u001b[49m\u001b[43m,\u001b[49m\u001b[43m \u001b[49m\u001b[43m[\u001b[49m\u001b[38;5;241;43m0\u001b[39;49m\u001b[43m,\u001b[49m\u001b[38;5;241;43m0\u001b[39;49m\u001b[43m,\u001b[49m\u001b[38;5;241;43m0\u001b[39;49m\u001b[43m,\u001b[49m\u001b[38;5;241;43m1\u001b[39;49m\u001b[43m]\u001b[49m\u001b[43m,\u001b[49m\u001b[43m \u001b[49m\u001b[43mi\u001b[49m\u001b[43m)\u001b[49m\n\u001b[0;32m     17\u001b[0m \u001b[38;5;66;03m# Increment the negative audio file pointer.\u001b[39;00m\n\u001b[0;32m     18\u001b[0m negative_audio_file_pointer \u001b[38;5;241m=\u001b[39m (negative_audio_file_pointer \u001b[38;5;241m+\u001b[39m \u001b[38;5;241m1\u001b[39m) \u001b[38;5;241m%\u001b[39m \u001b[38;5;28mlen\u001b[39m(negative_audio_files)\n",
      "Cell \u001b[1;32mIn[330], line 25\u001b[0m, in \u001b[0;36mstreamAudioFile\u001b[1;34m(file_path, realClass, i)\u001b[0m\n\u001b[0;32m     21\u001b[0m audio_data \u001b[38;5;241m=\u001b[39m np\u001b[38;5;241m.\u001b[39marray(audio_data, dtype\u001b[38;5;241m=\u001b[39mnp\u001b[38;5;241m.\u001b[39mfloat32)\n\u001b[0;32m     22\u001b[0m \u001b[38;5;66;03m# Send the audio data to the MCU.\u001b[39;00m\n\u001b[0;32m     23\u001b[0m \u001b[38;5;66;03m#for j in range(len(audio_data)):\u001b[39;00m\n\u001b[0;32m     24\u001b[0m \u001b[38;5;66;03m#    data_to_send = audio_data[j].tobytes()\u001b[39;00m\n\u001b[1;32m---> 25\u001b[0m \u001b[43mser\u001b[49m\u001b[38;5;241;43m.\u001b[39;49m\u001b[43mwrite\u001b[49m\u001b[43m(\u001b[49m\u001b[43maudio_data\u001b[49m\u001b[38;5;241;43m.\u001b[39;49m\u001b[43mtobytes\u001b[49m\u001b[43m(\u001b[49m\u001b[43m)\u001b[49m\u001b[43m)\u001b[49m\n\u001b[0;32m     27\u001b[0m \u001b[38;5;28;01mwhile\u001b[39;00m ser\u001b[38;5;241m.\u001b[39min_waiting \u001b[38;5;241m>\u001b[39m \u001b[38;5;241m0\u001b[39m:\n\u001b[0;32m     28\u001b[0m     response \u001b[38;5;241m=\u001b[39m ser\u001b[38;5;241m.\u001b[39mreadline()\u001b[38;5;241m.\u001b[39mdecode(\u001b[38;5;124m'\u001b[39m\u001b[38;5;124mutf-8\u001b[39m\u001b[38;5;124m'\u001b[39m)\u001b[38;5;241m.\u001b[39mstrip()\n",
      "File \u001b[1;32mc:\\Users\\Pontu\\AppData\\Local\\Programs\\Python\\Python310\\lib\\site-packages\\serial\\serialwin32.py:325\u001b[0m, in \u001b[0;36mSerial.write\u001b[1;34m(self, data)\u001b[0m\n\u001b[0;32m    323\u001b[0m         \u001b[38;5;28;01mreturn\u001b[39;00m n\u001b[38;5;241m.\u001b[39mvalue  \u001b[38;5;66;03m# canceled IO is no error\u001b[39;00m\n\u001b[0;32m    324\u001b[0m     \u001b[38;5;28;01mif\u001b[39;00m n\u001b[38;5;241m.\u001b[39mvalue \u001b[38;5;241m!=\u001b[39m \u001b[38;5;28mlen\u001b[39m(data):\n\u001b[1;32m--> 325\u001b[0m         \u001b[38;5;28;01mraise\u001b[39;00m SerialTimeoutException(\u001b[38;5;124m'\u001b[39m\u001b[38;5;124mWrite timeout\u001b[39m\u001b[38;5;124m'\u001b[39m)\n\u001b[0;32m    326\u001b[0m     \u001b[38;5;28;01mreturn\u001b[39;00m n\u001b[38;5;241m.\u001b[39mvalue\n\u001b[0;32m    327\u001b[0m \u001b[38;5;28;01melse\u001b[39;00m:\n",
      "\u001b[1;31mSerialTimeoutException\u001b[0m: Write timeout"
     ]
    }
   ],
   "source": [
    "\n",
    "total_positive_audio_files = len(positive_audio_files)\n",
    "\n",
    "# Loop each audio file.\n",
    "negative_audio_file_pointer = 0\n",
    "for i in range(total_positive_audio_files):\n",
    "    # Get audio file path.\n",
    "    audio_file = positive_audio_files[i]\n",
    "    # Print audio file path and class.\n",
    "    print(\"Processing audio file: \", audio_file)\n",
    "    print(\"Processing audio file class: \", positive_audio_file_classes[i])\n",
    "    # Stream positive audio file to MCU.\n",
    "    streamAudioFile(audio_file, positive_audio_file_classes_categorical[i], i)\n",
    "    # Print nagtive audio file path and class.\n",
    "    print(\"Processing negative audio file: \", negative_audio_files[negative_audio_file_pointer])\n",
    "    # Stream negative audio file to MCU.\n",
    "    streamAudioFile(negative_audio_files[negative_audio_file_pointer], [0,0,0,1], i)\n",
    "    # Increment the negative audio file pointer.\n",
    "    negative_audio_file_pointer = (negative_audio_file_pointer + 1) % len(negative_audio_files)"
   ]
  },
  {
   "cell_type": "code",
   "execution_count": null,
   "metadata": {},
   "outputs": [],
   "source": [
    "# Close the serial port\n",
    "ser.close()"
   ]
  }
 ],
 "metadata": {
  "kernelspec": {
   "display_name": "Python 3",
   "language": "python",
   "name": "python3"
  },
  "language_info": {
   "codemirror_mode": {
    "name": "ipython",
    "version": 3
   },
   "file_extension": ".py",
   "mimetype": "text/x-python",
   "name": "python",
   "nbconvert_exporter": "python",
   "pygments_lexer": "ipython3",
   "version": "3.10.0"
  }
 },
 "nbformat": 4,
 "nbformat_minor": 2
}
