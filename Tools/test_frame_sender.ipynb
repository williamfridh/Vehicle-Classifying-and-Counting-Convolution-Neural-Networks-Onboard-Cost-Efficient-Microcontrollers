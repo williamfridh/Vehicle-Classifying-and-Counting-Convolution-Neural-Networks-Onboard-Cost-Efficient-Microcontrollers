{
 "cells": [
  {
   "cell_type": "markdown",
   "metadata": {},
   "source": [
    "# Test Frame Sender\n",
    "\n",
    "This file is used for sending individual frames to the device. It measures the accuracy based on individual frames."
   ]
  },
  {
   "cell_type": "markdown",
   "metadata": {},
   "source": [
    "**Note that the software on the MCU must match this, and not classify based on clusters of frames.**"
   ]
  },
  {
   "cell_type": "code",
   "execution_count": 1,
   "metadata": {},
   "outputs": [],
   "source": [
    "import numpy as np\n",
    "import pandas as pd\n",
    "import gc"
   ]
  },
  {
   "cell_type": "code",
   "execution_count": 13,
   "metadata": {},
   "outputs": [],
   "source": [
    "df = pd.read_csv(\"dataset.csv\", header=None)"
   ]
  },
  {
   "cell_type": "code",
   "execution_count": 14,
   "metadata": {},
   "outputs": [
    {
     "data": {
      "text/plain": [
       "791"
      ]
     },
     "execution_count": 14,
     "metadata": {},
     "output_type": "execute_result"
    }
   ],
   "source": [
    "dataset = df.iloc[:, :-1].to_numpy(dtype=np.float32)            # All but last column as float32\n",
    "labels_set = df.iloc[:, -1].to_numpy(dtype=str)                 # Last column as string\n",
    "del df\n",
    "gc.collect()"
   ]
  },
  {
   "cell_type": "code",
   "execution_count": 4,
   "metadata": {},
   "outputs": [
    {
     "name": "stdout",
     "output_type": "stream",
     "text": [
      "Dataset shape: (583554, 40, 16, 1)\n",
      "Labels shape: (583554,)\n",
      "Input shape: (40, 16, 1)\n"
     ]
    }
   ],
   "source": [
    "dataset = dataset.reshape(dataset.shape[0], 40, 16, 1)\n",
    "input_shape = dataset[0].shape\n",
    "\n",
    "print(f\"Dataset shape: {dataset.shape}\")\n",
    "print(f\"Labels shape: {labels_set.shape}\")\n",
    "print(f\"Input shape: {input_shape}\")"
   ]
  },
  {
   "cell_type": "code",
   "execution_count": 5,
   "metadata": {},
   "outputs": [
    {
     "data": {
      "text/plain": [
       "0"
      ]
     },
     "execution_count": 5,
     "metadata": {},
     "output_type": "execute_result"
    }
   ],
   "source": [
    "from sklearn.model_selection import train_test_split\n",
    "x_train, x_test, y_train, y_test = train_test_split(dataset, labels_set, test_size=0.05, random_state=42, stratify=labels_set)\n",
    "del dataset, labels_set\n",
    "gc.collect()"
   ]
  },
  {
   "cell_type": "code",
   "execution_count": 6,
   "metadata": {},
   "outputs": [
    {
     "name": "stderr",
     "output_type": "stream",
     "text": [
      "2025-03-28 09:45:48.353197: E external/local_xla/xla/stream_executor/cuda/cuda_fft.cc:477] Unable to register cuFFT factory: Attempting to register factory for plugin cuFFT when one has already been registered\n",
      "WARNING: All log messages before absl::InitializeLog() is called are written to STDERR\n",
      "E0000 00:00:1743151548.370835  109953 cuda_dnn.cc:8310] Unable to register cuDNN factory: Attempting to register factory for plugin cuDNN when one has already been registered\n",
      "E0000 00:00:1743151548.375794  109953 cuda_blas.cc:1418] Unable to register cuBLAS factory: Attempting to register factory for plugin cuBLAS when one has already been registered\n",
      "2025-03-28 09:45:48.394364: I tensorflow/core/platform/cpu_feature_guard.cc:210] This TensorFlow binary is optimized to use available CPU instructions in performance-critical operations.\n",
      "To enable the following instructions: AVX2 FMA, in other operations, rebuild TensorFlow with the appropriate compiler flags.\n",
      "/home/fridh/.local/lib/python3.10/site-packages/matplotlib/projections/__init__.py:63: UserWarning: Unable to import Axes3D. This may be due to multiple versions of Matplotlib being installed (e.g. as a system package and as a pip package). As a result, the 3D projection is not available.\n",
      "  warnings.warn(\"Unable to import Axes3D. This may be due to multiple versions of \"\n"
     ]
    }
   ],
   "source": [
    "from sklearn.preprocessing import LabelEncoder\n",
    "from tensorflow.keras.utils import to_categorical\n",
    "\n",
    "# Hot end code the labels.\n",
    "label_encoder = LabelEncoder()\n",
    "y_train = to_categorical(label_encoder.fit_transform(y_train))\n",
    "y_test = to_categorical(label_encoder.fit_transform(y_test))"
   ]
  },
  {
   "cell_type": "code",
   "execution_count": 7,
   "metadata": {},
   "outputs": [],
   "source": [
    "def indexOfMax(arr):\n",
    "    return np.argmax(arr)"
   ]
  },
  {
   "cell_type": "code",
   "execution_count": 8,
   "metadata": {},
   "outputs": [
    {
     "name": "stdout",
     "output_type": "stream",
     "text": [
      "Configuring serial port...\n"
     ]
    }
   ],
   "source": [
    "import serial\n",
    "print(\"Configuring serial port...\")\n",
    "ser = serial.Serial(\n",
    "    port='/dev/ttyACM0',  # Change this to your actual port, e.g., 'COM3' on Windows, '/dev/ttyS0' on Linux\n",
    "    baudrate=115200,       # Set baud rate to 115200\n",
    "    bytesize=serial.EIGHTBITS,\n",
    "    parity=serial.PARITY_NONE,\n",
    "    stopbits=serial.STOPBITS_ONE,\n",
    "    timeout=1              # Set timeout for reading\n",
    ")"
   ]
  },
  {
   "cell_type": "code",
   "execution_count": 9,
   "metadata": {},
   "outputs": [
    {
     "name": "stdout",
     "output_type": "stream",
     "text": [
      "Serial port /dev/ttyACM0 opened at 115200 baud.\n"
     ]
    }
   ],
   "source": [
    "if ser.is_open:\n",
    "    print(f\"Serial port {ser.port} opened at {ser.baudrate} baud.\")"
   ]
  },
  {
   "cell_type": "code",
   "execution_count": 10,
   "metadata": {},
   "outputs": [],
   "source": [
    "def calc_accuracy(y_true, y_pred):\n",
    "    success = 0\n",
    "    failure = 0\n",
    "    for i in range(len(y_pred)):\n",
    "        if int(y_pred[i]) == int(indexOfMax(y_true[i])):\n",
    "            success += 1\n",
    "        else:\n",
    "            failure += 1\n",
    "    res = round(success / (success + failure), 4)\n",
    "    return res"
   ]
  },
  {
   "cell_type": "code",
   "execution_count": null,
   "metadata": {},
   "outputs": [
    {
     "name": "stdout",
     "output_type": "stream",
     "text": [
      "(29178, 40, 16, 1)\n",
      "Guess: 2 - Class: 1 Accuracy: 0.0 (0/29178)\n",
      "Guess: 1 - Class: 1 Accuracy: 0.5 (1/29178)\n",
      "Guess: 2 - Class: 2 Accuracy: 0.6667 (2/29178)\n",
      "Guess: 2 - Class: 3 Accuracy: 0.5 (3/29178)\n",
      "Guess: 2 - Class: 2 Accuracy: 0.6 (4/29178)\n",
      "Guess: 0 - Class: 0 Accuracy: 0.6667 (5/29178)\n",
      "Guess: 3 - Class: 3 Accuracy: 0.7143 (6/29178)\n",
      "Guess: 1 - Class: 2 Accuracy: 0.625 (7/29178)\n",
      "Guess: 3 - Class: 1 Accuracy: 0.5556 (8/29178)\n",
      "Guess: 1 - Class: 2 Accuracy: 0.5 (9/29178)\n",
      "Guess: 3 - Class: 3 Accuracy: 0.5455 (10/29178)\n",
      "Guess: 1 - Class: 2 Accuracy: 0.5 (11/29178)\n",
      "Guess: 1 - Class: 2 Accuracy: 0.4615 (12/29178)\n",
      "Guess: 0 - Class: 0 Accuracy: 0.5 (13/29178)\n",
      "Guess: 2 - Class: 1 Accuracy: 0.4667 (14/29178)\n",
      "Guess: 0 - Class: 1 Accuracy: 0.4375 (15/29178)\n",
      "Guess: 2 - Class: 2 Accuracy: 0.4706 (16/29178)\n",
      "Guess: 1 - Class: 2 Accuracy: 0.4444 (17/29178)\n",
      "Guess: 1 - Class: 1 Accuracy: 0.4737 (18/29178)\n",
      "Guess: 0 - Class: 2 Accuracy: 0.45 (19/29178)\n",
      "Guess: 1 - Class: 1 Accuracy: 0.4762 (20/29178)\n"
     ]
    },
    {
     "name": "stdout",
     "output_type": "stream",
     "text": [
      "Guess: 1 - Class: 2 Accuracy: 0.4545 (21/29178)\n",
      "Guess: 2 - Class: 2 Accuracy: 0.4783 (22/29178)\n",
      "Guess: 2 - Class: 2 Accuracy: 0.5 (23/29178)\n",
      "Guess: 1 - Class: 3 Accuracy: 0.48 (24/29178)\n",
      "Guess: 3 - Class: 2 Accuracy: 0.4615 (25/29178)\n",
      "Guess: 3 - Class: 1 Accuracy: 0.4444 (26/29178)\n",
      "Guess: 3 - Class: 3 Accuracy: 0.4643 (27/29178)\n",
      "Guess: 1 - Class: 1 Accuracy: 0.4828 (28/29178)\n",
      "Guess: 0 - Class: 1 Accuracy: 0.4667 (29/29178)\n",
      "Guess: 3 - Class: 3 Accuracy: 0.4839 (30/29178)\n",
      "Guess: 3 - Class: 3 Accuracy: 0.5 (31/29178)\n",
      "Guess: 2 - Class: 1 Accuracy: 0.4848 (32/29178)\n",
      "Guess: 2 - Class: 2 Accuracy: 0.5 (33/29178)\n",
      "Guess: 1 - Class: 1 Accuracy: 0.5143 (34/29178)\n",
      "Guess: 3 - Class: 3 Accuracy: 0.5278 (35/29178)\n",
      "Guess: 2 - Class: 2 Accuracy: 0.5405 (36/29178)\n",
      "Guess: 1 - Class: 3 Accuracy: 0.5263 (37/29178)\n",
      "Guess: 0 - Class: 0 Accuracy: 0.5385 (38/29178)\n",
      "Guess: 0 - Class: 0 Accuracy: 0.55 (39/29178)\n",
      "Guess: 2 - Class: 2 Accuracy: 0.561 (40/29178)\n",
      "Guess: 1 - Class: 1 Accuracy: 0.5714 (41/29178)\n",
      "Guess: 2 - Class: 2 Accuracy: 0.5814 (42/29178)\n",
      "Guess: 2 - Class: 3 Accuracy: 0.5682 (43/29178)\n",
      "Guess: 2 - Class: 2 Accuracy: 0.5778 (44/29178)\n",
      "Guess: 2 - Class: 2 Accuracy: 0.587 (45/29178)\n",
      "Guess: 1 - Class: 1 Accuracy: 0.5957 (46/29178)\n",
      "Guess: 1 - Class: 2 Accuracy: 0.5833 (47/29178)\n",
      "Guess: 0 - Class: 0 Accuracy: 0.5918 (48/29178)\n",
      "Guess: 3 - Class: 2 Accuracy: 0.58 (49/29178)\n",
      "Guess: 2 - Class: 2 Accuracy: 0.5882 (50/29178)\n",
      "Guess: 1 - Class: 1 Accuracy: 0.5962 (51/29178)\n",
      "Guess: 2 - Class: 2 Accuracy: 0.6038 (52/29178)\n",
      "Guess: 3 - Class: 1 Accuracy: 0.5926 (53/29178)\n",
      "Guess: 2 - Class: 3 Accuracy: 0.5818 (54/29178)\n",
      "Guess: 2 - Class: 2 Accuracy: 0.5893 (55/29178)\n",
      "Guess: 1 - Class: 1 Accuracy: 0.5965 (56/29178)\n",
      "Guess: 0 - Class: 0 Accuracy: 0.6034 (57/29178)\n",
      "Guess: 0 - Class: 0 Accuracy: 0.6102 (58/29178)\n",
      "Guess: 2 - Class: 2 Accuracy: 0.6167 (59/29178)\n",
      "Guess: 0 - Class: 2 Accuracy: 0.6066 (60/29178)\n",
      "Guess: 3 - Class: 3 Accuracy: 0.6129 (61/29178)\n",
      "Guess: 2 - Class: 2 Accuracy: 0.619 (62/29178)\n",
      "Guess: 1 - Class: 1 Accuracy: 0.625 (63/29178)\n",
      "Guess: 2 - Class: 2 Accuracy: 0.6308 (64/29178)\n",
      "Guess: 2 - Class: 2 Accuracy: 0.6364 (65/29178)\n",
      "Guess: 1 - Class: 1 Accuracy: 0.6418 (66/29178)\n",
      "Guess: 2 - Class: 1 Accuracy: 0.6324 (67/29178)\n",
      "Guess: 2 - Class: 2 Accuracy: 0.6377 (68/29178)\n",
      "Guess: 1 - Class: 1 Accuracy: 0.6429 (69/29178)\n",
      "Guess: 2 - Class: 1 Accuracy: 0.6338 (70/29178)\n",
      "Guess: 1 - Class: 3 Accuracy: 0.625 (71/29178)\n",
      "Guess: 3 - Class: 2 Accuracy: 0.6164 (72/29178)\n",
      "Guess: 3 - Class: 2 Accuracy: 0.6081 (73/29178)\n",
      "Guess: 0 - Class: 0 Accuracy: 0.6133 (74/29178)\n",
      "Guess: 3 - Class: 3 Accuracy: 0.6184 (75/29178)\n",
      "Guess: 2 - Class: 3 Accuracy: 0.6104 (76/29178)\n",
      "Guess: 1 - Class: 2 Accuracy: 0.6026 (77/29178)\n",
      "Guess: 2 - Class: 2 Accuracy: 0.6076 (78/29178)\n",
      "Guess: 3 - Class: 1 Accuracy: 0.6 (79/29178)\n",
      "Guess: 3 - Class: 3 Accuracy: 0.6049 (80/29178)\n",
      "Guess: 2 - Class: 2 Accuracy: 0.6098 (81/29178)\n",
      "Guess: 1 - Class: 2 Accuracy: 0.6024 (82/29178)\n",
      "Guess: 1 - Class: 2 Accuracy: 0.5952 (83/29178)\n",
      "Guess: 2 - Class: 2 Accuracy: 0.6 (84/29178)\n",
      "Guess: 0 - Class: 0 Accuracy: 0.6047 (85/29178)\n",
      "Guess: 2 - Class: 2 Accuracy: 0.6092 (86/29178)\n",
      "Guess: 1 - Class: 3 Accuracy: 0.6023 (87/29178)\n",
      "Guess: 2 - Class: 1 Accuracy: 0.5955 (88/29178)\n",
      "Guess: 2 - Class: 2 Accuracy: 0.6 (89/29178)\n",
      "Guess: 3 - Class: 3 Accuracy: 0.6044 (90/29178)\n",
      "Guess: 1 - Class: 3 Accuracy: 0.5978 (91/29178)\n",
      "Guess: 2 - Class: 2 Accuracy: 0.6022 (92/29178)\n",
      "Guess: 0 - Class: 2 Accuracy: 0.5957 (93/29178)\n",
      "Guess: 0 - Class: 0 Accuracy: 0.6 (94/29178)\n",
      "Guess: 0 - Class: 2 Accuracy: 0.5938 (95/29178)\n",
      "Guess: 2 - Class: 3 Accuracy: 0.5876 (96/29178)\n",
      "Guess: 1 - Class: 3 Accuracy: 0.5816 (97/29178)\n",
      "Guess: 3 - Class: 3 Accuracy: 0.5859 (98/29178)\n",
      "Guess: 3 - Class: 3 Accuracy: 0.59 (99/29178)\n",
      "Guess: 2 - Class: 2 Accuracy: 0.5941 (100/29178)\n",
      "Guess: 1 - Class: 2 Accuracy: 0.5882 (101/29178)\n",
      "Guess: 1 - Class: 2 Accuracy: 0.5825 (102/29178)\n",
      "Guess: 2 - Class: 1 Accuracy: 0.5769 (103/29178)\n",
      "Guess: 0 - Class: 0 Accuracy: 0.581 (104/29178)\n",
      "Guess: 2 - Class: 2 Accuracy: 0.5849 (105/29178)\n",
      "Guess: 2 - Class: 1 Accuracy: 0.5794 (106/29178)\n",
      "Guess: 2 - Class: 1 Accuracy: 0.5741 (107/29178)\n",
      "Guess: 2 - Class: 2 Accuracy: 0.578 (108/29178)\n",
      "Guess: 2 - Class: 2 Accuracy: 0.5818 (109/29178)\n",
      "Guess: 2 - Class: 3 Accuracy: 0.5766 (110/29178)\n",
      "Guess: 1 - Class: 1 Accuracy: 0.5804 (111/29178)\n",
      "Guess: 3 - Class: 3 Accuracy: 0.5841 (112/29178)\n",
      "Guess: 1 - Class: 2 Accuracy: 0.5789 (113/29178)\n",
      "Guess: 3 - Class: 2 Accuracy: 0.5739 (114/29178)\n",
      "Guess: 1 - Class: 1 Accuracy: 0.5776 (115/29178)\n",
      "Guess: 2 - Class: 2 Accuracy: 0.5812 (116/29178)\n",
      "Guess: 3 - Class: 3 Accuracy: 0.5847 (117/29178)\n",
      "Guess: 1 - Class: 1 Accuracy: 0.5882 (118/29178)\n",
      "Guess: 1 - Class: 1 Accuracy: 0.5917 (119/29178)\n",
      "Guess: 3 - Class: 1 Accuracy: 0.5868 (120/29178)\n",
      "Guess: 1 - Class: 3 Accuracy: 0.582 (121/29178)\n",
      "Guess: 2 - Class: 2 Accuracy: 0.5854 (122/29178)\n",
      "Guess: 1 - Class: 3 Accuracy: 0.5806 (123/29178)\n",
      "Guess: 2 - Class: 1 Accuracy: 0.576 (124/29178)\n",
      "Guess: 3 - Class: 3 Accuracy: 0.5794 (125/29178)\n",
      "Guess: 1 - Class: 2 Accuracy: 0.5748 (126/29178)\n",
      "Guess: 1 - Class: 2 Accuracy: 0.5703 (127/29178)\n",
      "Guess: 2 - Class: 2 Accuracy: 0.5736 (128/29178)\n",
      "Guess: 1 - Class: 3 Accuracy: 0.5692 (129/29178)\n",
      "Guess: 1 - Class: 2 Accuracy: 0.5649 (130/29178)\n",
      "Guess: 1 - Class: 1 Accuracy: 0.5682 (131/29178)\n",
      "Guess: 1 - Class: 1 Accuracy: 0.5714 (132/29178)\n",
      "Guess: 2 - Class: 2 Accuracy: 0.5746 (133/29178)\n",
      "Guess: 1 - Class: 1 Accuracy: 0.5778 (134/29178)\n",
      "Guess: 0 - Class: 0 Accuracy: 0.5809 (135/29178)\n",
      "Guess: 2 - Class: 2 Accuracy: 0.5839 (136/29178)\n",
      "Guess: 1 - Class: 3 Accuracy: 0.5797 (137/29178)\n",
      "Guess: 3 - Class: 2 Accuracy: 0.5755 (138/29178)\n",
      "Guess: 3 - Class: 2 Accuracy: 0.5714 (139/29178)\n",
      "Guess: 1 - Class: 3 Accuracy: 0.5674 (140/29178)\n",
      "Guess: 2 - Class: 3 Accuracy: 0.5634 (141/29178)\n",
      "Guess: 2 - Class: 2 Accuracy: 0.5664 (142/29178)\n",
      "Guess: 1 - Class: 1 Accuracy: 0.5694 (143/29178)\n",
      "Guess: 3 - Class: 3 Accuracy: 0.5724 (144/29178)\n",
      "Guess: 1 - Class: 1 Accuracy: 0.5753 (145/29178)\n",
      "Guess: 2 - Class: 2 Accuracy: 0.5782 (146/29178)\n",
      "Guess: 0 - Class: 0 Accuracy: 0.5811 (147/29178)\n",
      "Guess: 2 - Class: 2 Accuracy: 0.5839 (148/29178)\n",
      "Guess: 2 - Class: 1 Accuracy: 0.58 (149/29178)\n",
      "Guess: 2 - Class: 1 Accuracy: 0.5762 (150/29178)\n",
      "Guess: 2 - Class: 1 Accuracy: 0.5724 (151/29178)\n",
      "Guess: 1 - Class: 1 Accuracy: 0.5752 (152/29178)\n",
      "Guess: 1 - Class: 2 Accuracy: 0.5714 (153/29178)\n",
      "Guess: 1 - Class: 2 Accuracy: 0.5677 (154/29178)\n",
      "Guess: 2 - Class: 2 Accuracy: 0.5705 (155/29178)\n",
      "Guess: 3 - Class: 2 Accuracy: 0.5669 (156/29178)\n",
      "Guess: 2 - Class: 2 Accuracy: 0.5696 (157/29178)\n",
      "Guess: 2 - Class: 1 Accuracy: 0.566 (158/29178)\n",
      "Guess: 2 - Class: 2 Accuracy: 0.5687 (159/29178)\n",
      "Guess: 0 - Class: 0 Accuracy: 0.5714 (160/29178)\n",
      "Guess: 2 - Class: 2 Accuracy: 0.5741 (161/29178)\n",
      "Guess: 3 - Class: 3 Accuracy: 0.5767 (162/29178)\n",
      "Guess: 2 - Class: 2 Accuracy: 0.5793 (163/29178)\n",
      "Guess: 3 - Class: 1 Accuracy: 0.5758 (164/29178)\n",
      "Guess: 2 - Class: 2 Accuracy: 0.5783 (165/29178)\n",
      "Guess: 2 - Class: 2 Accuracy: 0.5808 (166/29178)\n",
      "Guess: 1 - Class: 2 Accuracy: 0.5774 (167/29178)\n",
      "Guess: 1 - Class: 1 Accuracy: 0.5799 (168/29178)\n",
      "Guess: 1 - Class: 3 Accuracy: 0.5765 (169/29178)\n",
      "Guess: 0 - Class: 0 Accuracy: 0.5789 (170/29178)\n",
      "Guess: 2 - Class: 1 Accuracy: 0.5756 (171/29178)\n",
      "Guess: 3 - Class: 2 Accuracy: 0.5723 (172/29178)\n",
      "Guess: 3 - Class: 2 Accuracy: 0.569 (173/29178)\n",
      "Guess: 1 - Class: 3 Accuracy: 0.5657 (174/29178)\n",
      "Guess: 2 - Class: 3 Accuracy: 0.5625 (175/29178)\n",
      "Guess: 1 - Class: 1 Accuracy: 0.565 (176/29178)\n",
      "Guess: 2 - Class: 1 Accuracy: 0.5618 (177/29178)\n",
      "Guess: 2 - Class: 2 Accuracy: 0.5642 (178/29178)\n",
      "Guess: 1 - Class: 3 Accuracy: 0.5611 (179/29178)\n",
      "Guess: 1 - Class: 3 Accuracy: 0.558 (180/29178)\n",
      "Guess: 2 - Class: 2 Accuracy: 0.5604 (181/29178)\n",
      "Guess: 1 - Class: 1 Accuracy: 0.5628 (182/29178)\n",
      "Guess: 2 - Class: 2 Accuracy: 0.5652 (183/29178)\n",
      "Guess: 2 - Class: 3 Accuracy: 0.5622 (184/29178)\n",
      "Guess: 3 - Class: 1 Accuracy: 0.5591 (185/29178)\n",
      "Guess: 2 - Class: 2 Accuracy: 0.5615 (186/29178)\n",
      "Guess: 3 - Class: 3 Accuracy: 0.5638 (187/29178)\n",
      "Guess: 2 - Class: 2 Accuracy: 0.5661 (188/29178)\n",
      "Guess: 0 - Class: 0 Accuracy: 0.5684 (189/29178)\n",
      "Guess: 2 - Class: 2 Accuracy: 0.5707 (190/29178)\n",
      "Guess: 1 - Class: 3 Accuracy: 0.5677 (191/29178)\n",
      "Guess: 3 - Class: 2 Accuracy: 0.5648 (192/29178)\n",
      "Guess: 0 - Class: 0 Accuracy: 0.567 (193/29178)\n",
      "Guess: 2 - Class: 2 Accuracy: 0.5692 (194/29178)\n",
      "Guess: 3 - Class: 1 Accuracy: 0.5663 (195/29178)\n",
      "Guess: 2 - Class: 2 Accuracy: 0.5685 (196/29178)\n",
      "Guess: 1 - Class: 1 Accuracy: 0.5707 (197/29178)\n",
      "Guess: 1 - Class: 2 Accuracy: 0.5678 (198/29178)\n",
      "Guess: 3 - Class: 3 Accuracy: 0.57 (199/29178)\n",
      "Guess: 3 - Class: 1 Accuracy: 0.5672 (200/29178)\n",
      "Guess: 2 - Class: 2 Accuracy: 0.5693 (201/29178)\n",
      "Guess: 3 - Class: 2 Accuracy: 0.5665 (202/29178)\n",
      "Guess: 1 - Class: 2 Accuracy: 0.5637 (203/29178)\n",
      "Guess: 2 - Class: 2 Accuracy: 0.5659 (204/29178)\n",
      "Guess: 0 - Class: 1 Accuracy: 0.5631 (205/29178)\n",
      "Guess: 2 - Class: 3 Accuracy: 0.5604 (206/29178)\n",
      "Guess: 3 - Class: 3 Accuracy: 0.5625 (207/29178)\n",
      "Guess: 3 - Class: 3 Accuracy: 0.5646 (208/29178)\n",
      "Guess: 2 - Class: 2 Accuracy: 0.5667 (209/29178)\n",
      "Guess: 1 - Class: 2 Accuracy: 0.564 (210/29178)\n",
      "Guess: 3 - Class: 2 Accuracy: 0.5613 (211/29178)\n",
      "Guess: 1 - Class: 2 Accuracy: 0.5587 (212/29178)\n",
      "Guess: 1 - Class: 2 Accuracy: 0.5561 (213/29178)\n",
      "Guess: 1 - Class: 2 Accuracy: 0.5535 (214/29178)\n",
      "Guess: 1 - Class: 1 Accuracy: 0.5556 (215/29178)\n",
      "Guess: 0 - Class: 3 Accuracy: 0.553 (216/29178)\n",
      "Guess: 2 - Class: 2 Accuracy: 0.555 (217/29178)\n",
      "Guess: 0 - Class: 0 Accuracy: 0.5571 (218/29178)\n",
      "Guess: 1 - Class: 1 Accuracy: 0.5591 (219/29178)\n",
      "Guess: 3 - Class: 1 Accuracy: 0.5566 (220/29178)\n",
      "Guess: 2 - Class: 1 Accuracy: 0.5541 (221/29178)\n",
      "Guess: 2 - Class: 2 Accuracy: 0.5561 (222/29178)\n",
      "Guess: 2 - Class: 3 Accuracy: 0.5536 (223/29178)\n",
      "Guess: 0 - Class: 2 Accuracy: 0.5511 (224/29178)\n",
      "Guess: 0 - Class: 2 Accuracy: 0.5487 (225/29178)\n",
      "Guess: 2 - Class: 1 Accuracy: 0.5463 (226/29178)\n",
      "Guess: 2 - Class: 2 Accuracy: 0.5482 (227/29178)\n",
      "Guess: 2 - Class: 2 Accuracy: 0.5502 (228/29178)\n",
      "Guess: 1 - Class: 3 Accuracy: 0.5478 (229/29178)\n",
      "Guess: 2 - Class: 2 Accuracy: 0.5498 (230/29178)\n",
      "Guess: 2 - Class: 2 Accuracy: 0.5517 (231/29178)\n",
      "Guess: 1 - Class: 2 Accuracy: 0.5494 (232/29178)\n",
      "Guess: 1 - Class: 1 Accuracy: 0.5513 (233/29178)\n",
      "Guess: 1 - Class: 1 Accuracy: 0.5532 (234/29178)\n",
      "Guess: 2 - Class: 2 Accuracy: 0.5551 (235/29178)\n",
      "Guess: 1 - Class: 2 Accuracy: 0.5527 (236/29178)\n",
      "Guess: 1 - Class: 1 Accuracy: 0.5546 (237/29178)\n",
      "Guess: 2 - Class: 2 Accuracy: 0.5565 (238/29178)\n",
      "Guess: 2 - Class: 2 Accuracy: 0.5583 (239/29178)\n",
      "Guess: 3 - Class: 2 Accuracy: 0.556 (240/29178)\n",
      "Guess: 2 - Class: 2 Accuracy: 0.5579 (241/29178)\n",
      "Guess: 2 - Class: 2 Accuracy: 0.5597 (242/29178)\n",
      "Guess: 2 - Class: 2 Accuracy: 0.5615 (243/29178)\n",
      "Guess: 1 - Class: 3 Accuracy: 0.5592 (244/29178)\n",
      "Guess: 3 - Class: 2 Accuracy: 0.5569 (245/29178)\n",
      "Guess: 1 - Class: 3 Accuracy: 0.5547 (246/29178)\n",
      "Guess: 3 - Class: 3 Accuracy: 0.5565 (247/29178)\n",
      "Guess: 1 - Class: 3 Accuracy: 0.5542 (248/29178)\n",
      "Guess: 1 - Class: 3 Accuracy: 0.552 (249/29178)\n",
      "Guess: 3 - Class: 3 Accuracy: 0.5538 (250/29178)\n",
      "Guess: 3 - Class: 2 Accuracy: 0.5516 (251/29178)\n",
      "Guess: 1 - Class: 1 Accuracy: 0.5534 (252/29178)\n",
      "Guess: 3 - Class: 1 Accuracy: 0.5512 (253/29178)\n",
      "Guess: 2 - Class: 2 Accuracy: 0.5529 (254/29178)\n",
      "Guess: 3 - Class: 3 Accuracy: 0.5547 (255/29178)\n",
      "Guess: 2 - Class: 2 Accuracy: 0.5564 (256/29178)\n",
      "Guess: 3 - Class: 3 Accuracy: 0.5581 (257/29178)\n",
      "Guess: 1 - Class: 2 Accuracy: 0.556 (258/29178)\n",
      "Guess: 1 - Class: 1 Accuracy: 0.5577 (259/29178)\n",
      "Guess: 1 - Class: 2 Accuracy: 0.5556 (260/29178)\n",
      "Guess: 0 - Class: 0 Accuracy: 0.5573 (261/29178)\n",
      "Guess: 0 - Class: 0 Accuracy: 0.5589 (262/29178)\n",
      "Guess: 2 - Class: 2 Accuracy: 0.5606 (263/29178)\n",
      "Guess: 3 - Class: 3 Accuracy: 0.5623 (264/29178)\n",
      "Guess: 3 - Class: 1 Accuracy: 0.5602 (265/29178)\n",
      "Guess: 0 - Class: 0 Accuracy: 0.5618 (266/29178)\n",
      "Guess: 3 - Class: 2 Accuracy: 0.5597 (267/29178)\n",
      "Guess: 0 - Class: 0 Accuracy: 0.5613 (268/29178)\n",
      "Guess: 2 - Class: 3 Accuracy: 0.5593 (269/29178)\n",
      "Guess: 1 - Class: 1 Accuracy: 0.5609 (270/29178)\n",
      "Guess: 2 - Class: 1 Accuracy: 0.5588 (271/29178)\n",
      "Guess: 2 - Class: 3 Accuracy: 0.5568 (272/29178)\n",
      "Guess: 1 - Class: 3 Accuracy: 0.5547 (273/29178)\n",
      "Guess: 3 - Class: 3 Accuracy: 0.5564 (274/29178)\n",
      "Guess: 3 - Class: 2 Accuracy: 0.5543 (275/29178)\n",
      "Guess: 2 - Class: 2 Accuracy: 0.556 (276/29178)\n",
      "Guess: 2 - Class: 2 Accuracy: 0.5576 (277/29178)\n",
      "Guess: 1 - Class: 1 Accuracy: 0.5591 (278/29178)\n",
      "Guess: 2 - Class: 2 Accuracy: 0.5607 (279/29178)\n",
      "Guess: 0 - Class: 0 Accuracy: 0.5623 (280/29178)\n",
      "Guess: 3 - Class: 2 Accuracy: 0.5603 (281/29178)\n",
      "Guess: 1 - Class: 2 Accuracy: 0.5583 (282/29178)\n",
      "Guess: 1 - Class: 1 Accuracy: 0.5599 (283/29178)\n",
      "Guess: 0 - Class: 0 Accuracy: 0.5614 (284/29178)\n",
      "Guess: 1 - Class: 2 Accuracy: 0.5594 (285/29178)\n",
      "Guess: 3 - Class: 1 Accuracy: 0.5575 (286/29178)\n",
      "Guess: 1 - Class: 1 Accuracy: 0.559 (287/29178)\n",
      "Guess: 1 - Class: 3 Accuracy: 0.5571 (288/29178)\n",
      "Guess: 2 - Class: 3 Accuracy: 0.5552 (289/29178)\n",
      "Guess: 1 - Class: 2 Accuracy: 0.5533 (290/29178)\n",
      "Guess: 1 - Class: 2 Accuracy: 0.5514 (291/29178)\n",
      "Guess: 0 - Class: 2 Accuracy: 0.5495 (292/29178)\n",
      "Guess: 1 - Class: 1 Accuracy: 0.551 (293/29178)\n",
      "Guess: 0 - Class: 3 Accuracy: 0.5492 (294/29178)\n",
      "Guess: 3 - Class: 3 Accuracy: 0.5507 (295/29178)\n",
      "Guess: 3 - Class: 3 Accuracy: 0.5522 (296/29178)\n",
      "Guess: 2 - Class: 3 Accuracy: 0.5503 (297/29178)\n",
      "Guess: 2 - Class: 2 Accuracy: 0.5518 (298/29178)\n",
      "Guess: 1 - Class: 2 Accuracy: 0.55 (299/29178)\n",
      "Guess: 2 - Class: 3 Accuracy: 0.5482 (300/29178)\n",
      "Guess: 0 - Class: 2 Accuracy: 0.5464 (301/29178)\n",
      "Guess: 3 - Class: 1 Accuracy: 0.5446 (302/29178)\n",
      "Guess: 1 - Class: 1 Accuracy: 0.5461 (303/29178)\n",
      "Guess: 3 - Class: 3 Accuracy: 0.5475 (304/29178)\n",
      "Guess: 2 - Class: 3 Accuracy: 0.5458 (305/29178)\n",
      "Guess: 0 - Class: 0 Accuracy: 0.5472 (306/29178)\n",
      "Guess: 2 - Class: 1 Accuracy: 0.5455 (307/29178)\n",
      "Guess: 2 - Class: 2 Accuracy: 0.5469 (308/29178)\n",
      "Guess: 2 - Class: 1 Accuracy: 0.5452 (309/29178)\n",
      "Guess: 0 - Class: 2 Accuracy: 0.5434 (310/29178)\n",
      "Guess: 3 - Class: 2 Accuracy: 0.5417 (311/29178)\n",
      "Guess: 2 - Class: 3 Accuracy: 0.5399 (312/29178)\n",
      "Guess: 2 - Class: 2 Accuracy: 0.5414 (313/29178)\n"
     ]
    },
    {
     "ename": "KeyboardInterrupt",
     "evalue": "",
     "output_type": "error",
     "traceback": [
      "\u001b[0;31m---------------------------------------------------------------------------\u001b[0m",
      "\u001b[0;31mKeyboardInterrupt\u001b[0m                         Traceback (most recent call last)",
      "Cell \u001b[0;32mIn[11], line 19\u001b[0m\n\u001b[1;32m     16\u001b[0m     ser\u001b[38;5;241m.\u001b[39mwrite(data_to_send)\n\u001b[1;32m     17\u001b[0m \u001b[38;5;66;03m# No need for sleep here as the delay is already managed by the serial communication timeout.\u001b[39;00m\n\u001b[1;32m     18\u001b[0m \u001b[38;5;66;03m# Read response\u001b[39;00m\n\u001b[0;32m---> 19\u001b[0m response \u001b[38;5;241m=\u001b[39m \u001b[43mser\u001b[49m\u001b[38;5;241;43m.\u001b[39;49m\u001b[43mreadline\u001b[49m\u001b[43m(\u001b[49m\u001b[43m)\u001b[49m\u001b[38;5;241m.\u001b[39mdecode(\u001b[38;5;124m'\u001b[39m\u001b[38;5;124mutf-8\u001b[39m\u001b[38;5;124m'\u001b[39m)\u001b[38;5;241m.\u001b[39mstrip()\n\u001b[1;32m     20\u001b[0m results\u001b[38;5;241m.\u001b[39mappend(response)\n\u001b[1;32m     21\u001b[0m \u001b[38;5;28mprint\u001b[39m(\u001b[38;5;124mf\u001b[39m\u001b[38;5;124m\"\u001b[39m\u001b[38;5;124mGuess: \u001b[39m\u001b[38;5;132;01m{\u001b[39;00mresponse\u001b[38;5;132;01m}\u001b[39;00m\u001b[38;5;124m - Class: \u001b[39m\u001b[38;5;132;01m{\u001b[39;00mindexOfMax(y[i])\u001b[38;5;132;01m}\u001b[39;00m\u001b[38;5;124m Accuracy: \u001b[39m\u001b[38;5;132;01m{\u001b[39;00mcalc_accuracy(y,\u001b[38;5;250m \u001b[39mresults)\u001b[38;5;132;01m}\u001b[39;00m\u001b[38;5;124m (\u001b[39m\u001b[38;5;132;01m{\u001b[39;00mi\u001b[38;5;132;01m}\u001b[39;00m\u001b[38;5;124m/\u001b[39m\u001b[38;5;132;01m{\u001b[39;00mtotal\u001b[38;5;132;01m}\u001b[39;00m\u001b[38;5;124m)\u001b[39m\u001b[38;5;124m\"\u001b[39m)\n",
      "File \u001b[0;32m/usr/lib/python3/dist-packages/serial/serialposix.py:565\u001b[0m, in \u001b[0;36mSerial.read\u001b[0;34m(self, size)\u001b[0m\n\u001b[1;32m    563\u001b[0m \u001b[38;5;28;01mwhile\u001b[39;00m \u001b[38;5;28mlen\u001b[39m(read) \u001b[38;5;241m<\u001b[39m size:\n\u001b[1;32m    564\u001b[0m     \u001b[38;5;28;01mtry\u001b[39;00m:\n\u001b[0;32m--> 565\u001b[0m         ready, _, _ \u001b[38;5;241m=\u001b[39m \u001b[43mselect\u001b[49m\u001b[38;5;241;43m.\u001b[39;49m\u001b[43mselect\u001b[49m\u001b[43m(\u001b[49m\u001b[43m[\u001b[49m\u001b[38;5;28;43mself\u001b[39;49m\u001b[38;5;241;43m.\u001b[39;49m\u001b[43mfd\u001b[49m\u001b[43m,\u001b[49m\u001b[43m \u001b[49m\u001b[38;5;28;43mself\u001b[39;49m\u001b[38;5;241;43m.\u001b[39;49m\u001b[43mpipe_abort_read_r\u001b[49m\u001b[43m]\u001b[49m\u001b[43m,\u001b[49m\u001b[43m \u001b[49m\u001b[43m[\u001b[49m\u001b[43m]\u001b[49m\u001b[43m,\u001b[49m\u001b[43m \u001b[49m\u001b[43m[\u001b[49m\u001b[43m]\u001b[49m\u001b[43m,\u001b[49m\u001b[43m \u001b[49m\u001b[43mtimeout\u001b[49m\u001b[38;5;241;43m.\u001b[39;49m\u001b[43mtime_left\u001b[49m\u001b[43m(\u001b[49m\u001b[43m)\u001b[49m\u001b[43m)\u001b[49m\n\u001b[1;32m    566\u001b[0m         \u001b[38;5;28;01mif\u001b[39;00m \u001b[38;5;28mself\u001b[39m\u001b[38;5;241m.\u001b[39mpipe_abort_read_r \u001b[38;5;129;01min\u001b[39;00m ready:\n\u001b[1;32m    567\u001b[0m             os\u001b[38;5;241m.\u001b[39mread(\u001b[38;5;28mself\u001b[39m\u001b[38;5;241m.\u001b[39mpipe_abort_read_r, \u001b[38;5;241m1000\u001b[39m)\n",
      "\u001b[0;31mKeyboardInterrupt\u001b[0m: "
     ]
    }
   ],
   "source": [
    "import struct\n",
    "\n",
    "x = x_test\n",
    "y = y_test[0:len(x)]\n",
    "print(x.shape)\n",
    "\n",
    "results = []\n",
    "total = len(x)\n",
    "\n",
    "# Send data\n",
    "for i in range(total):\n",
    "    data = x[i].flatten()\n",
    "    for j in range(len(data)):\n",
    "        data_to_send = struct.pack('f', data[j])\n",
    "        ser.write(data_to_send)\n",
    "    # No need for sleep here as the delay is already managed by the serial communication timeout.\n",
    "    # Read response\n",
    "    response = ser.readline().decode('utf-8').strip()\n",
    "    results.append(response)\n",
    "    print(f\"Guess: {response} - Class: {indexOfMax(y[i])} Accuracy: {calc_accuracy(y, results)} ({i}/{total})\")\n"
   ]
  },
  {
   "cell_type": "code",
   "execution_count": 12,
   "metadata": {},
   "outputs": [],
   "source": [
    "# Close the serial port\n",
    "ser.close()"
   ]
  }
 ],
 "metadata": {
  "kernelspec": {
   "display_name": "Python 3",
   "language": "python",
   "name": "python3"
  },
  "language_info": {
   "codemirror_mode": {
    "name": "ipython",
    "version": 3
   },
   "file_extension": ".py",
   "mimetype": "text/x-python",
   "name": "python",
   "nbconvert_exporter": "python",
   "pygments_lexer": "ipython3",
   "version": "3.10.16"
  }
 },
 "nbformat": 4,
 "nbformat_minor": 2
}
