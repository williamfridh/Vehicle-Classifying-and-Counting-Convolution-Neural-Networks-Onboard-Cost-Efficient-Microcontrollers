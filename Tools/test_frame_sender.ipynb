{
 "cells": [
  {
   "cell_type": "markdown",
   "metadata": {},
   "source": [
    "# Test Frame Sender\n",
    "\n",
    "This file is used for sending individual frames to the device. It measures the accuracy based on individual frames."
   ]
  },
  {
   "cell_type": "markdown",
   "metadata": {},
   "source": [
    "**Note that the software on the MCU must match this, and not classify based on clusters of frames.**"
   ]
  },
  {
   "cell_type": "code",
   "execution_count": 1,
   "metadata": {},
   "outputs": [],
   "source": [
    "import numpy as np\n",
    "import pandas as pd\n",
    "import gc"
   ]
  },
  {
   "cell_type": "code",
   "execution_count": 2,
   "metadata": {},
   "outputs": [],
   "source": [
    "df = pd.read_csv(\"./balanced_dataset.csv\", header=None)"
   ]
  },
  {
   "cell_type": "code",
   "execution_count": 3,
   "metadata": {},
   "outputs": [
    {
     "data": {
      "text/plain": [
       "0"
      ]
     },
     "execution_count": 3,
     "metadata": {},
     "output_type": "execute_result"
    }
   ],
   "source": [
    "dataset = df.iloc[:, :-1].to_numpy(dtype=np.float32)            # All but last column as float32\n",
    "labels_set = df.iloc[:, -1].to_numpy(dtype=str)                 # Last column as string\n",
    "del df\n",
    "gc.collect()"
   ]
  },
  {
   "cell_type": "code",
   "execution_count": 4,
   "metadata": {},
   "outputs": [
    {
     "name": "stdout",
     "output_type": "stream",
     "text": [
      "Dataset shape: (776566, 16, 8, 1)\n",
      "Labels shape: (776566,)\n",
      "Input shape: (16, 8, 1)\n"
     ]
    }
   ],
   "source": [
    "dataset = dataset.reshape(dataset.shape[0], 16, 8, 1)\n",
    "input_shape = dataset[0].shape\n",
    "\n",
    "print(f\"Dataset shape: {dataset.shape}\")\n",
    "print(f\"Labels shape: {labels_set.shape}\")\n",
    "print(f\"Input shape: {input_shape}\")"
   ]
  },
  {
   "cell_type": "code",
   "execution_count": 5,
   "metadata": {},
   "outputs": [
    {
     "data": {
      "text/plain": [
       "0"
      ]
     },
     "execution_count": 5,
     "metadata": {},
     "output_type": "execute_result"
    }
   ],
   "source": [
    "from sklearn.model_selection import train_test_split\n",
    "x_train, x_test, y_train, y_test = train_test_split(dataset, labels_set, test_size=0.05, random_state=42, stratify=labels_set)\n",
    "del dataset, labels_set\n",
    "gc.collect()"
   ]
  },
  {
   "cell_type": "code",
   "execution_count": 6,
   "metadata": {},
   "outputs": [
    {
     "name": "stderr",
     "output_type": "stream",
     "text": [
      "2025-04-10 10:40:20.757770: I external/local_xla/xla/tsl/cuda/cudart_stub.cc:32] Could not find cuda drivers on your machine, GPU will not be used.\n",
      "2025-04-10 10:40:20.826195: I external/local_xla/xla/tsl/cuda/cudart_stub.cc:32] Could not find cuda drivers on your machine, GPU will not be used.\n",
      "2025-04-10 10:40:20.873920: E external/local_xla/xla/stream_executor/cuda/cuda_fft.cc:467] Unable to register cuFFT factory: Attempting to register factory for plugin cuFFT when one has already been registered\n",
      "WARNING: All log messages before absl::InitializeLog() is called are written to STDERR\n",
      "E0000 00:00:1744274420.922463   10668 cuda_dnn.cc:8579] Unable to register cuDNN factory: Attempting to register factory for plugin cuDNN when one has already been registered\n",
      "E0000 00:00:1744274420.938231   10668 cuda_blas.cc:1407] Unable to register cuBLAS factory: Attempting to register factory for plugin cuBLAS when one has already been registered\n",
      "W0000 00:00:1744274421.036024   10668 computation_placer.cc:177] computation placer already registered. Please check linkage and avoid linking the same target more than once.\n",
      "W0000 00:00:1744274421.036043   10668 computation_placer.cc:177] computation placer already registered. Please check linkage and avoid linking the same target more than once.\n",
      "W0000 00:00:1744274421.036045   10668 computation_placer.cc:177] computation placer already registered. Please check linkage and avoid linking the same target more than once.\n",
      "W0000 00:00:1744274421.036047   10668 computation_placer.cc:177] computation placer already registered. Please check linkage and avoid linking the same target more than once.\n",
      "2025-04-10 10:40:21.048780: I tensorflow/core/platform/cpu_feature_guard.cc:210] This TensorFlow binary is optimized to use available CPU instructions in performance-critical operations.\n",
      "To enable the following instructions: AVX2 FMA, in other operations, rebuild TensorFlow with the appropriate compiler flags.\n"
     ]
    }
   ],
   "source": [
    "from sklearn.preprocessing import LabelEncoder\n",
    "from tensorflow.keras.utils import to_categorical\n",
    "\n",
    "# Hot end code the labels.\n",
    "label_encoder = LabelEncoder()\n",
    "y_train = to_categorical(label_encoder.fit_transform(y_train))\n",
    "y_test = to_categorical(label_encoder.fit_transform(y_test))"
   ]
  },
  {
   "cell_type": "code",
   "execution_count": 7,
   "metadata": {},
   "outputs": [],
   "source": [
    "def indexOfMax(arr):\n",
    "    return np.argmax(arr)"
   ]
  },
  {
   "cell_type": "code",
   "execution_count": 52,
   "metadata": {},
   "outputs": [
    {
     "name": "stdout",
     "output_type": "stream",
     "text": [
      "Configuring serial port...\n"
     ]
    }
   ],
   "source": [
    "import serial\n",
    "print(\"Configuring serial port...\")\n",
    "ser = serial.Serial(\n",
    "    port='/dev/ttyACM0',  # Change this to your actual port, e.g., 'COM3' on Windows, '/dev/ttyS0' on Linux\n",
    "    baudrate=115200,       # Set baud rate to 115200\n",
    "    bytesize=serial.EIGHTBITS,\n",
    "    parity=serial.PARITY_NONE,\n",
    "    stopbits=serial.STOPBITS_ONE,\n",
    "    timeout=1              # Set timeout for reading\n",
    ")"
   ]
  },
  {
   "cell_type": "code",
   "execution_count": 44,
   "metadata": {},
   "outputs": [
    {
     "name": "stdout",
     "output_type": "stream",
     "text": [
      "Serial port /dev/ttyACM0 opened at 115200 baud.\n"
     ]
    }
   ],
   "source": [
    "if ser.is_open:\n",
    "    print(f\"Serial port {ser.port} opened at {ser.baudrate} baud.\")"
   ]
  },
  {
   "cell_type": "code",
   "execution_count": 45,
   "metadata": {},
   "outputs": [],
   "source": [
    "def calc_accuracy(y_true, y_pred):\n",
    "    success = 0\n",
    "    failure = 0\n",
    "    for i in range(len(y_pred)):\n",
    "        if int(y_pred[i]) == int(indexOfMax(y_true[i])):\n",
    "            success += 1\n",
    "        else:\n",
    "            failure += 1\n",
    "    res = round(success / (success + failure), 4)\n",
    "    return res"
   ]
  },
  {
   "cell_type": "code",
   "execution_count": 46,
   "metadata": {},
   "outputs": [
    {
     "name": "stdout",
     "output_type": "stream",
     "text": [
      "(38829, 16, 8, 1)\n"
     ]
    }
   ],
   "source": [
    "import struct\n",
    "\n",
    "x = x_test\n",
    "y = y_test[0:len(x)]\n",
    "print(x.shape)\n",
    "\n",
    "results = []\n",
    "total = len(x)"
   ]
  },
  {
   "cell_type": "code",
   "execution_count": 47,
   "metadata": {},
   "outputs": [
    {
     "data": {
      "text/plain": [
       "array([0, 0, 0, 1])"
      ]
     },
     "execution_count": 47,
     "metadata": {},
     "output_type": "execute_result"
    }
   ],
   "source": [
    "\n",
    "# Cast y[0] into int arrat\n",
    "y[0].astype(int)"
   ]
  },
  {
   "cell_type": "code",
   "execution_count": 53,
   "metadata": {},
   "outputs": [
    {
     "name": "stdout",
     "output_type": "stream",
     "text": [
      "Received s:Heap: 1100 / 461228 bytes but is [1 0 0 0]\n",
      "Received s:Tensor arena size: 36164/37000 bytes but is [1 0 0 0]\n",
      "Received s:Input tensor shape: 1, 16, 8, 1 but is [1 0 0 0]\n",
      "Received s:Output tensor shape: 1, 4 but is [1 0 0 0]\n",
      "Received Ready to start but is [1 0 0 0]\n",
      "Received c: [0,1,0,0] but is [1 0 0 0]\n",
      "Received c: [0,2,0,0] but is [1 0 0 0]\n",
      "Received c: [0,3,0,0] but is [1 0 0 0]\n",
      "Received c: [0,4,0,0] but is [1 0 0 0]\n",
      "Received c: [0,5,0,0] but is [1 0 0 0]\n",
      "Received c: [0,6,0,0] but is [1 0 0 0]\n",
      "Received c: [0,7,0,0] but is [1 0 0 0]\n",
      "Received c: [1,7,0,0] but is [1 0 0 0]\n",
      "Received c: [1,8,0,0] but is [1 0 0 0]\n",
      "Received c: [1,9,0,0] but is [1 0 0 0]\n",
      "Received c: [1,10,0,0] but is [1 0 0 0]\n",
      "Received c: [1,11,0,0] but is [1 0 0 0]\n",
      "Received c: [1,12,0,0] but is [1 0 0 0]\n",
      "Received c: [1,13,0,0] but is [1 0 0 0]\n",
      "Received c: [1,14,0,0] but is [1 0 0 0]\n",
      "Received c: [1,15,0,0] but is [1 0 0 0]\n",
      "Received c: [1,16,0,0] but is [1 0 0 0]\n",
      "Received c: [1,17,0,0] but is [1 0 0 0]\n",
      "Received c: [1,18,0,0] but is [1 0 0 0]\n",
      "Received c: [1,19,0,0] but is [1 0 0 0]\n",
      "Received c: [1,20,0,0] but is [1 0 0 0]\n",
      "Received c: [1,21,0,0] but is [1 0 0 0]\n",
      "Received c: [1,22,0,0] but is [1 0 0 0]\n",
      "Received c: [1,23,0,0] but is [1 0 0 0]\n",
      "Received c: [1,24,0,0] but is [1 0 0 0]\n",
      "Received c: [1,25,0,0] but is [1 0 0 0]\n",
      "Received c: [1,26,0,0] but is [1 0 0 0]\n",
      "Received c: [2,26,0,0] but is [1 0 0 0]\n",
      "Received c: [2,27,0,0] but is [1 0 0 0]\n",
      "Received c: [2,28,0,0] but is [1 0 0 0]\n",
      "Received c: [2,29,0,0] but is [1 0 0 0]\n",
      "Received c: [2,30,0,0] but is [1 0 0 0]\n",
      "Received c: [2,31,0,0] but is [1 0 0 0]\n",
      "Received c: [3,31,0,0] but is [1 0 0 0]\n",
      "Received c: [4,31,0,0] but is [1 0 0 0]\n",
      "Received c: [4,32,0,0] but is [1 0 0 0]\n",
      "Received c: [5,32,0,0] but is [1 0 0 0]\n",
      "Received c: [5,33,0,0] but is [1 0 0 0]\n",
      "Received c: [5,34,0,0] but is [1 0 0 0]\n",
      "Received c: [5,35,0,0] but is [1 0 0 0]\n",
      "Received c: [5,36,0,0] but is [1 0 0 0]\n",
      "Received c: [5,37,0,0] but is [1 0 0 0]\n",
      "Received c: [6,37,0,0] but is [1 0 0 0]\n",
      "Received c: [6,38,0,0] but is [1 0 0 0]\n",
      "Received c: [6,39,0,0] but is [1 0 0 0]\n",
      "Received c: [6,40,0,0] but is [1 0 0 0]\n",
      "Received c: [6,41,0,0] but is [1 0 0 0]\n",
      "Received c: [6,42,0,0] but is [1 0 0 0]\n",
      "Received c: [6,43,0,0] but is [1 0 0 0]\n",
      "Received c: [6,44,0,0] but is [1 0 0 0]\n",
      "Received c: [6,45,0,0] but is [1 0 0 0]\n",
      "Received c: [6,46,0,0] but is [1 0 0 0]\n",
      "Received c: [6,47,0,0] but is [1 0 0 0]\n",
      "Received c: [6,48,0,0] but is [1 0 0 0]\n",
      "Received c: [6,49,0,0] but is [1 0 0 0]\n",
      "Received c: [6,50,0,0] but is [1 0 0 0]\n",
      "Received c: [6,51,0,0] but is [1 0 0 0]\n",
      "Received c: [6,52,0,0] but is [1 0 0 0]\n",
      "Received c: [6,53,0,0] but is [1 0 0 0]\n",
      "Received c: [6,54,0,0] but is [1 0 0 0]\n",
      "Received c: [6,55,0,0] but is [1 0 0 0]\n",
      "Received c: [6,56,0,0] but is [1 0 0 0]\n",
      "Received c: [7,56,0,0] but is [1 0 0 0]\n",
      "Received c: [8,56,0,0] but is [1 0 0 0]\n",
      "Received c: [8,57,0,0] but is [1 0 0 0]\n",
      "Received c: [8,58,0,0] but is [1 0 0 0]\n",
      "Received c: [8,59,0,0] but is [1 0 0 0]\n",
      "Received c: [8,60,0,0] but is [1 0 0 0]\n",
      "Received c: [8,61,0,0] but is [1 0 0 0]\n",
      "Received c: [8,62,0,0] but is [1 0 0 0]\n",
      "Received c: [8,63,0,0] but is [1 0 0 0]\n",
      "Received c: [8,64,0,0] but is [1 0 0 0]\n",
      "Received c: [8,65,0,0] but is [1 0 0 0]\n",
      "Received c: [8,66,0,0] but is [1 0 0 0]\n",
      "Received c: [8,67,0,0] but is [1 0 0 0]\n",
      "Received c: [9,67,0,0] but is [1 0 0 0]\n",
      "Received c: [9,68,0,0] but is [1 0 0 0]\n",
      "Received c: [9,69,0,0] but is [1 0 0 0]\n",
      "Received c: [9,70,0,0] but is [1 0 0 0]\n",
      "Received c: [9,71,0,0] but is [1 0 0 0]\n",
      "Received c: [9,72,0,0] but is [1 0 0 0]\n",
      "Received c: [9,73,0,0] but is [1 0 0 0]\n",
      "Received c: [9,74,0,0] but is [1 0 0 0]\n",
      "Received c: [9,75,0,0] but is [1 0 0 0]\n",
      "Received c: [9,76,0,0] but is [1 0 0 0]\n",
      "Received c: [9,77,0,0] but is [1 0 0 0]\n",
      "Received c: [9,78,0,0] but is [1 0 0 0]\n",
      "Received c: [10,78,0,0] but is [1 0 0 0]\n",
      "Received c: [11,78,0,0] but is [1 0 0 0]\n",
      "Received c: [11,79,0,0] but is [1 0 0 0]\n",
      "Received c: [12,79,0,0] but is [1 0 0 0]\n",
      "Received c: [12,80,0,0] but is [1 0 0 0]\n",
      "Received c: [13,80,0,0] but is [1 0 0 0]\n",
      "Received c: [13,81,0,0] but is [1 0 0 0]\n",
      "Received c: [13,82,0,0] but is [1 0 0 0]\n",
      "Received c: [13,83,0,0] but is [1 0 0 0]\n",
      "Received c: [14,83,0,0] but is [1 0 0 0]\n",
      "Received c: [14,84,0,0] but is [1 0 0 0]\n",
      "Received c: [14,85,0,0] but is [1 0 0 0]\n",
      "Received c: [14,86,0,0] but is [1 0 0 0]\n",
      "Received c: [14,87,0,0] but is [1 0 0 0]\n",
      "Received c: [14,88,0,0] but is [1 0 0 0]\n",
      "Received c: [14,89,0,0] but is [1 0 0 0]\n",
      "Received c: [14,90,0,0] but is [1 0 0 0]\n",
      "Received c: [14,91,0,0] but is [1 0 0 0]\n",
      "Received c: [14,92,0,0] but is [1 0 0 0]\n",
      "Received c: [14,93,0,0] but is [1 0 0 0]\n",
      "Received c: [14,94,0,0] but is [1 0 0 0]\n",
      "Received c: [14,95,0,0] but is [1 0 0 0]\n",
      "Received c: [14,96,0,0] but is [1 0 0 0]\n",
      "Received c: [14,97,0,0] but is [1 0 0 0]\n",
      "Received c: [14,98,0,0] but is [1 0 0 0]\n",
      "Received c: [14,99,0,0] but is [1 0 0 0]\n",
      "Received c: [14,100,0,0] but is [1 0 0 0]\n",
      "Received c: [14,101,0,0] but is [1 0 0 0]\n",
      "Received c: [14,102,0,0] but is [1 0 0 0]\n",
      "Received c: [14,103,0,0] but is [1 0 0 0]\n",
      "Received c: [14,104,0,0] but is [1 0 0 0]\n",
      "Received c: [14,105,0,0] but is [1 0 0 0]\n",
      "Received c: [14,106,0,0] but is [1 0 0 0]\n",
      "Received c: [14,107,0,0] but is [1 0 0 0]\n",
      "Received c: [14,108,0,0] but is [1 0 0 0]\n",
      "Received c: [14,109,0,0] but is [1 0 0 0]\n",
      "Received c: [14,110,0,0] but is [1 0 0 0]\n",
      "Received c: [14,111,0,0] but is [1 0 0 0]\n",
      "Received c: [14,112,0,0] but is [1 0 0 0]\n",
      "Received c: [14,113,0,0] but is [1 0 0 0]\n",
      "Received c: [14,114,0,0] but is [1 0 0 0]\n",
      "Received c: [14,115,0,0] but is [1 0 0 0]\n",
      "Received c: [14,116,0,0] but is [1 0 0 0]\n",
      "Received c: [14,117,0,0] but is [1 0 0 0]\n",
      "Received c: [14,118,0,0] but is [1 0 0 0]\n",
      "Received c: [14,119,0,0] but is [1 0 0 0]\n",
      "Received c: [14,120,0,0] but is [1 0 0 0]\n",
      "Received c: [14,121,0,0] but is [1 0 0 0]\n",
      "Received c: [15,121,0,0] but is [1 0 0 0]\n",
      "Received c: [15,122,0,0] but is [1 0 0 0]\n",
      "Received c: [15,123,0,0] but is [1 0 0 0]\n",
      "Received c: [15,124,0,0] but is [1 0 0 0]\n"
     ]
    },
    {
     "ename": "KeyboardInterrupt",
     "evalue": "",
     "output_type": "error",
     "traceback": [
      "\u001b[0;31m---------------------------------------------------------------------------\u001b[0m",
      "\u001b[0;31mKeyboardInterrupt\u001b[0m                         Traceback (most recent call last)",
      "Cell \u001b[0;32mIn[53], line 10\u001b[0m\n\u001b[1;32m      8\u001b[0m \u001b[38;5;28;01mfor\u001b[39;00m j \u001b[38;5;129;01min\u001b[39;00m \u001b[38;5;28mrange\u001b[39m(\u001b[38;5;28mlen\u001b[39m(data)):\n\u001b[1;32m      9\u001b[0m     data_to_send \u001b[38;5;241m=\u001b[39m struct\u001b[38;5;241m.\u001b[39mpack(\u001b[38;5;124m'\u001b[39m\u001b[38;5;124mf\u001b[39m\u001b[38;5;124m'\u001b[39m, data[j])\n\u001b[0;32m---> 10\u001b[0m     \u001b[43mser\u001b[49m\u001b[38;5;241;43m.\u001b[39;49m\u001b[43mwrite\u001b[49m\u001b[43m(\u001b[49m\u001b[43mdata_to_send\u001b[49m\u001b[43m)\u001b[49m\n\u001b[1;32m     11\u001b[0m \u001b[38;5;28;01mwhile\u001b[39;00m ser\u001b[38;5;241m.\u001b[39min_waiting \u001b[38;5;241m>\u001b[39m \u001b[38;5;241m0\u001b[39m:\n\u001b[1;32m     12\u001b[0m     response \u001b[38;5;241m=\u001b[39m ser\u001b[38;5;241m.\u001b[39mreadline()\u001b[38;5;241m.\u001b[39mdecode(\u001b[38;5;124m'\u001b[39m\u001b[38;5;124mutf-8\u001b[39m\u001b[38;5;124m'\u001b[39m)\u001b[38;5;241m.\u001b[39mstrip()\n",
      "File \u001b[0;32m~/Python/tfenv/lib/python3.10/site-packages/serial/serialposix.py:640\u001b[0m, in \u001b[0;36mSerial.write\u001b[0;34m(self, data)\u001b[0m\n\u001b[1;32m    638\u001b[0m \u001b[38;5;28;01massert\u001b[39;00m timeout\u001b[38;5;241m.\u001b[39mtime_left() \u001b[38;5;129;01mis\u001b[39;00m \u001b[38;5;28;01mNone\u001b[39;00m\n\u001b[1;32m    639\u001b[0m \u001b[38;5;66;03m# wait for write operation\u001b[39;00m\n\u001b[0;32m--> 640\u001b[0m abort, ready, _ \u001b[38;5;241m=\u001b[39m \u001b[43mselect\u001b[49m\u001b[38;5;241;43m.\u001b[39;49m\u001b[43mselect\u001b[49m\u001b[43m(\u001b[49m\u001b[43m[\u001b[49m\u001b[38;5;28;43mself\u001b[39;49m\u001b[38;5;241;43m.\u001b[39;49m\u001b[43mpipe_abort_write_r\u001b[49m\u001b[43m]\u001b[49m\u001b[43m,\u001b[49m\u001b[43m \u001b[49m\u001b[43m[\u001b[49m\u001b[38;5;28;43mself\u001b[39;49m\u001b[38;5;241;43m.\u001b[39;49m\u001b[43mfd\u001b[49m\u001b[43m]\u001b[49m\u001b[43m,\u001b[49m\u001b[43m \u001b[49m\u001b[43m[\u001b[49m\u001b[43m]\u001b[49m\u001b[43m,\u001b[49m\u001b[43m \u001b[49m\u001b[38;5;28;43;01mNone\u001b[39;49;00m\u001b[43m)\u001b[49m\n\u001b[1;32m    641\u001b[0m \u001b[38;5;28;01mif\u001b[39;00m abort:\n\u001b[1;32m    642\u001b[0m     os\u001b[38;5;241m.\u001b[39mread(\u001b[38;5;28mself\u001b[39m\u001b[38;5;241m.\u001b[39mpipe_abort_write_r, \u001b[38;5;241m1\u001b[39m)\n",
      "\u001b[0;31mKeyboardInterrupt\u001b[0m: "
     ]
    }
   ],
   "source": [
    "\n",
    "\n",
    "# Send data\n",
    "for i in range(total):\n",
    "    data = x[i].flatten()\n",
    "    label = y[i]\n",
    "    if np.argmax(label) != 0:\n",
    "        #print(f\"Skipping {i} - {label.astype(int)}\")\n",
    "        continue\n",
    "    for j in range(len(data)):\n",
    "        data_to_send = struct.pack('f', data[j])\n",
    "        ser.write(data_to_send)\n",
    "    while ser.in_waiting > 0:\n",
    "        response = ser.readline().decode('utf-8').strip()\n",
    "        if response:\n",
    "            print(f\"Received {response} but is {y[i].astype(int)}\")\n",
    "    # No need for sleep here as the delay is already managed by the serial communication timeout.\n",
    "    # Read response\n",
    "    #print(f\"Guess: {response} - Class: {indexOfMax(y[i])} Accuracy: {calc_accuracy(y, results)} ({i}/{total})\")\n"
   ]
  },
  {
   "cell_type": "code",
   "execution_count": 54,
   "metadata": {},
   "outputs": [],
   "source": [
    "# Close the serial port\n",
    "ser.close()"
   ]
  }
 ],
 "metadata": {
  "kernelspec": {
   "display_name": "tfenv",
   "language": "python",
   "name": "python3"
  },
  "language_info": {
   "codemirror_mode": {
    "name": "ipython",
    "version": 3
   },
   "file_extension": ".py",
   "mimetype": "text/x-python",
   "name": "python",
   "nbconvert_exporter": "python",
   "pygments_lexer": "ipython3",
   "version": "3.10.16"
  }
 },
 "nbformat": 4,
 "nbformat_minor": 2
}
