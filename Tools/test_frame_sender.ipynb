{
 "cells": [
  {
   "cell_type": "markdown",
   "metadata": {},
   "source": [
    "# Test Frame Sender\n",
    "\n",
    "This file is used for sending individual frames to the device. It measures the accuracy based on individual frames."
   ]
  },
  {
   "cell_type": "markdown",
   "metadata": {},
   "source": [
    "**Note that the software on the MCU must match this, and not classify based on clusters of frames.**"
   ]
  },
  {
   "cell_type": "code",
   "execution_count": 2,
   "metadata": {},
   "outputs": [],
   "source": [
    "import numpy as np\n",
    "import pandas as pd\n",
    "import gc"
   ]
  },
  {
   "cell_type": "code",
   "execution_count": 4,
   "metadata": {},
   "outputs": [],
   "source": [
    "df = pd.read_csv(\"../Model/dataset.csv\", header=None)"
   ]
  },
  {
   "cell_type": "code",
   "execution_count": 5,
   "metadata": {},
   "outputs": [
    {
     "data": {
      "text/plain": [
       "2049"
      ]
     },
     "execution_count": 5,
     "metadata": {},
     "output_type": "execute_result"
    }
   ],
   "source": [
    "dataset = df.iloc[:, :-1].to_numpy(dtype=np.float32)            # All but last column as float32\n",
    "labels_set = df.iloc[:, -1].to_numpy(dtype=str)                 # Last column as string\n",
    "del df\n",
    "gc.collect()"
   ]
  },
  {
   "cell_type": "code",
   "execution_count": 13,
   "metadata": {},
   "outputs": [
    {
     "name": "stdout",
     "output_type": "stream",
     "text": [
      "Dataset shape: (818512, 16, 8, 1)\n",
      "Labels shape: (818512,)\n",
      "Input shape: (16, 8, 1)\n"
     ]
    }
   ],
   "source": [
    "dataset = dataset.reshape(dataset.shape[0], 16, 8, 1)\n",
    "input_shape = dataset[0].shape\n",
    "\n",
    "print(f\"Dataset shape: {dataset.shape}\")\n",
    "print(f\"Labels shape: {labels_set.shape}\")\n",
    "print(f\"Input shape: {input_shape}\")"
   ]
  },
  {
   "cell_type": "code",
   "execution_count": 14,
   "metadata": {},
   "outputs": [
    {
     "data": {
      "text/plain": [
       "509"
      ]
     },
     "execution_count": 14,
     "metadata": {},
     "output_type": "execute_result"
    }
   ],
   "source": [
    "from sklearn.model_selection import train_test_split\n",
    "x_train, x_test, y_train, y_test = train_test_split(dataset, labels_set, test_size=0.05, random_state=42, stratify=labels_set)\n",
    "del dataset, labels_set\n",
    "gc.collect()"
   ]
  },
  {
   "cell_type": "code",
   "execution_count": 15,
   "metadata": {},
   "outputs": [],
   "source": [
    "from sklearn.preprocessing import LabelEncoder\n",
    "from tensorflow.keras.utils import to_categorical\n",
    "\n",
    "# Hot end code the labels.\n",
    "label_encoder = LabelEncoder()\n",
    "y_train = to_categorical(label_encoder.fit_transform(y_train))\n",
    "y_test = to_categorical(label_encoder.fit_transform(y_test))"
   ]
  },
  {
   "cell_type": "code",
   "execution_count": 7,
   "metadata": {},
   "outputs": [],
   "source": [
    "def indexOfMax(arr):\n",
    "    return np.argmax(arr)"
   ]
  },
  {
   "cell_type": "code",
   "execution_count": 37,
   "metadata": {},
   "outputs": [
    {
     "name": "stdout",
     "output_type": "stream",
     "text": [
      "Configuring serial port...\n"
     ]
    }
   ],
   "source": [
    "import serial\n",
    "print(\"Configuring serial port...\")\n",
    "ser = serial.Serial(\n",
    "    port='/dev/ttyACM0',  # Change this to your actual port, e.g., 'COM3' on Windows, '/dev/ttyS0' on Linux\n",
    "    baudrate=115200,       # Set baud rate to 115200\n",
    "    bytesize=serial.EIGHTBITS,\n",
    "    parity=serial.PARITY_NONE,\n",
    "    stopbits=serial.STOPBITS_ONE,\n",
    "    timeout=1              # Set timeout for reading\n",
    ")"
   ]
  },
  {
   "cell_type": "code",
   "execution_count": 38,
   "metadata": {},
   "outputs": [
    {
     "name": "stdout",
     "output_type": "stream",
     "text": [
      "Serial port /dev/ttyACM0 opened at 115200 baud.\n"
     ]
    }
   ],
   "source": [
    "if ser.is_open:\n",
    "    print(f\"Serial port {ser.port} opened at {ser.baudrate} baud.\")"
   ]
  },
  {
   "cell_type": "code",
   "execution_count": 39,
   "metadata": {},
   "outputs": [],
   "source": [
    "def calc_accuracy(y_true, y_pred):\n",
    "    success = 0\n",
    "    failure = 0\n",
    "    for i in range(len(y_pred)):\n",
    "        if int(y_pred[i]) == int(indexOfMax(y_true[i])):\n",
    "            success += 1\n",
    "        else:\n",
    "            failure += 1\n",
    "    res = round(success / (success + failure), 4)\n",
    "    return res"
   ]
  },
  {
   "cell_type": "code",
   "execution_count": 40,
   "metadata": {},
   "outputs": [
    {
     "name": "stdout",
     "output_type": "stream",
     "text": [
      "(40926, 16, 8, 1)\n",
      "Sent: b'\\xc35\\xed\\xc2' - Received: -118.605003,\n",
      "Sent: b'7I\\xe7\\xc2' - Received: -115.642998,\n",
      "Sent: b'\\xe7\\xbb\\xe6\\xc2' - Received: -115.366997,\n",
      "Sent: b'\\x0e\\xad\\xe0\\xc2' - Received: -112.337997,\n",
      "Sent: b's(\\xe5\\xc2' - Received: -114.579002,\n",
      "Sent: b'\\xac\\x9c\\xf1\\xc2' - Received: -120.806000,\n",
      "Sent: b'=\\x8a\\xf6\\xc2' - Received: -123.269997,\n",
      "Sent: b'F\\xf6\\xf0\\xc2' - Received: -120.481003,\n"
     ]
    },
    {
     "ename": "KeyboardInterrupt",
     "evalue": "",
     "output_type": "error",
     "traceback": [
      "\u001b[0;31m---------------------------------------------------------------------------\u001b[0m",
      "\u001b[0;31mKeyboardInterrupt\u001b[0m                         Traceback (most recent call last)",
      "Cell \u001b[0;32mIn[40], line 16\u001b[0m\n\u001b[1;32m     14\u001b[0m     data_to_send \u001b[38;5;241m=\u001b[39m struct\u001b[38;5;241m.\u001b[39mpack(\u001b[38;5;124m'\u001b[39m\u001b[38;5;124mf\u001b[39m\u001b[38;5;124m'\u001b[39m, data[j])\n\u001b[1;32m     15\u001b[0m     ser\u001b[38;5;241m.\u001b[39mwrite(data_to_send)\n\u001b[0;32m---> 16\u001b[0m     response \u001b[38;5;241m=\u001b[39m \u001b[43mser\u001b[49m\u001b[38;5;241;43m.\u001b[39;49m\u001b[43mreadline\u001b[49m\u001b[43m(\u001b[49m\u001b[43m)\u001b[49m\u001b[38;5;241m.\u001b[39mdecode(\u001b[38;5;124m'\u001b[39m\u001b[38;5;124mutf-8\u001b[39m\u001b[38;5;124m'\u001b[39m)\u001b[38;5;241m.\u001b[39mstrip()\n\u001b[1;32m     17\u001b[0m     \u001b[38;5;28mprint\u001b[39m(\u001b[38;5;124mf\u001b[39m\u001b[38;5;124m\"\u001b[39m\u001b[38;5;124mSent: \u001b[39m\u001b[38;5;132;01m{\u001b[39;00mdata_to_send\u001b[38;5;132;01m}\u001b[39;00m\u001b[38;5;124m - Received: \u001b[39m\u001b[38;5;132;01m{\u001b[39;00mresponse\u001b[38;5;132;01m}\u001b[39;00m\u001b[38;5;124m\"\u001b[39m)\n\u001b[1;32m     18\u001b[0m \u001b[38;5;66;03m# No need for sleep here as the delay is already managed by the serial communication timeout.\u001b[39;00m\n\u001b[1;32m     19\u001b[0m \u001b[38;5;66;03m# Read response\u001b[39;00m\n\u001b[1;32m     20\u001b[0m \u001b[38;5;66;03m#print(f\"Guess: {response} - Class: {indexOfMax(y[i])} Accuracy: {calc_accuracy(y, results)} ({i}/{total})\")\u001b[39;00m\n",
      "File \u001b[0;32m/usr/lib/python3/dist-packages/serial/serialposix.py:565\u001b[0m, in \u001b[0;36mSerial.read\u001b[0;34m(self, size)\u001b[0m\n\u001b[1;32m    563\u001b[0m \u001b[38;5;28;01mwhile\u001b[39;00m \u001b[38;5;28mlen\u001b[39m(read) \u001b[38;5;241m<\u001b[39m size:\n\u001b[1;32m    564\u001b[0m     \u001b[38;5;28;01mtry\u001b[39;00m:\n\u001b[0;32m--> 565\u001b[0m         ready, _, _ \u001b[38;5;241m=\u001b[39m \u001b[43mselect\u001b[49m\u001b[38;5;241;43m.\u001b[39;49m\u001b[43mselect\u001b[49m\u001b[43m(\u001b[49m\u001b[43m[\u001b[49m\u001b[38;5;28;43mself\u001b[39;49m\u001b[38;5;241;43m.\u001b[39;49m\u001b[43mfd\u001b[49m\u001b[43m,\u001b[49m\u001b[43m \u001b[49m\u001b[38;5;28;43mself\u001b[39;49m\u001b[38;5;241;43m.\u001b[39;49m\u001b[43mpipe_abort_read_r\u001b[49m\u001b[43m]\u001b[49m\u001b[43m,\u001b[49m\u001b[43m \u001b[49m\u001b[43m[\u001b[49m\u001b[43m]\u001b[49m\u001b[43m,\u001b[49m\u001b[43m \u001b[49m\u001b[43m[\u001b[49m\u001b[43m]\u001b[49m\u001b[43m,\u001b[49m\u001b[43m \u001b[49m\u001b[43mtimeout\u001b[49m\u001b[38;5;241;43m.\u001b[39;49m\u001b[43mtime_left\u001b[49m\u001b[43m(\u001b[49m\u001b[43m)\u001b[49m\u001b[43m)\u001b[49m\n\u001b[1;32m    566\u001b[0m         \u001b[38;5;28;01mif\u001b[39;00m \u001b[38;5;28mself\u001b[39m\u001b[38;5;241m.\u001b[39mpipe_abort_read_r \u001b[38;5;129;01min\u001b[39;00m ready:\n\u001b[1;32m    567\u001b[0m             os\u001b[38;5;241m.\u001b[39mread(\u001b[38;5;28mself\u001b[39m\u001b[38;5;241m.\u001b[39mpipe_abort_read_r, \u001b[38;5;241m1000\u001b[39m)\n",
      "\u001b[0;31mKeyboardInterrupt\u001b[0m: "
     ]
    }
   ],
   "source": [
    "import struct\n",
    "\n",
    "x = x_test\n",
    "y = y_test[0:len(x)]\n",
    "print(x.shape)\n",
    "\n",
    "results = []\n",
    "total = len(x)\n",
    "\n",
    "# Send data\n",
    "for i in range(total):\n",
    "    data = x[i].flatten()\n",
    "    for j in range(len(data)):\n",
    "        data_to_send = struct.pack('f', data[j])\n",
    "        ser.write(data_to_send)\n",
    "        response = ser.readline().decode('utf-8').strip()\n",
    "        print(f\"Sent: {data_to_send} - Received: {response}\")\n",
    "    # No need for sleep here as the delay is already managed by the serial communication timeout.\n",
    "    # Read response\n",
    "    #print(f\"Guess: {response} - Class: {indexOfMax(y[i])} Accuracy: {calc_accuracy(y, results)} ({i}/{total})\")\n"
   ]
  },
  {
   "cell_type": "code",
   "execution_count": 41,
   "metadata": {},
   "outputs": [],
   "source": [
    "# Close the serial port\n",
    "ser.close()"
   ]
  }
 ],
 "metadata": {
  "kernelspec": {
   "display_name": "Python 3",
   "language": "python",
   "name": "python3"
  },
  "language_info": {
   "codemirror_mode": {
    "name": "ipython",
    "version": 3
   },
   "file_extension": ".py",
   "mimetype": "text/x-python",
   "name": "python",
   "nbconvert_exporter": "python",
   "pygments_lexer": "ipython3",
   "version": "3.10.16"
  }
 },
 "nbformat": 4,
 "nbformat_minor": 2
}
